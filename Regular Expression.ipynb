{
 "cells": [
  {
   "cell_type": "code",
   "execution_count": 1,
   "id": "35cdd77f",
   "metadata": {},
   "outputs": [
    {
     "name": "stdout",
     "output_type": "stream",
     "text": [
      "Help on class BaseException in module builtins:\n",
      "\n",
      "class BaseException(object)\n",
      " |  Common base class for all exceptions\n",
      " |  \n",
      " |  Built-in subclasses:\n",
      " |      BaseExceptionGroup\n",
      " |      Exception\n",
      " |      GeneratorExit\n",
      " |      KeyboardInterrupt\n",
      " |      ... and 1 other subclasses\n",
      " |  \n",
      " |  Methods defined here:\n",
      " |  \n",
      " |  __delattr__(self, name, /)\n",
      " |      Implement delattr(self, name).\n",
      " |  \n",
      " |  __getattribute__(self, name, /)\n",
      " |      Return getattr(self, name).\n",
      " |  \n",
      " |  __init__(self, /, *args, **kwargs)\n",
      " |      Initialize self.  See help(type(self)) for accurate signature.\n",
      " |  \n",
      " |  __reduce__(...)\n",
      " |      Helper for pickle.\n",
      " |  \n",
      " |  __repr__(self, /)\n",
      " |      Return repr(self).\n",
      " |  \n",
      " |  __setattr__(self, name, value, /)\n",
      " |      Implement setattr(self, name, value).\n",
      " |  \n",
      " |  __setstate__(...)\n",
      " |  \n",
      " |  __str__(self, /)\n",
      " |      Return str(self).\n",
      " |  \n",
      " |  add_note(...)\n",
      " |      Exception.add_note(note) --\n",
      " |      add a note to the exception\n",
      " |  \n",
      " |  with_traceback(...)\n",
      " |      Exception.with_traceback(tb) --\n",
      " |      set self.__traceback__ to tb and return self.\n",
      " |  \n",
      " |  ----------------------------------------------------------------------\n",
      " |  Static methods defined here:\n",
      " |  \n",
      " |  __new__(*args, **kwargs) from builtins.type\n",
      " |      Create and return a new object.  See help(type) for accurate signature.\n",
      " |  \n",
      " |  ----------------------------------------------------------------------\n",
      " |  Data descriptors defined here:\n",
      " |  \n",
      " |  __cause__\n",
      " |      exception cause\n",
      " |  \n",
      " |  __context__\n",
      " |      exception context\n",
      " |  \n",
      " |  __dict__\n",
      " |  \n",
      " |  __suppress_context__\n",
      " |  \n",
      " |  __traceback__\n",
      " |  \n",
      " |  args\n",
      "\n"
     ]
    }
   ],
   "source": [
    "help(BaseException)"
   ]
  },
  {
   "cell_type": "code",
   "execution_count": 2,
   "id": "2a48dcf8",
   "metadata": {},
   "outputs": [
    {
     "name": "stdout",
     "output_type": "stream",
     "text": [
      "Help on class SyntaxError in module builtins:\n",
      "\n",
      "class SyntaxError(Exception)\n",
      " |  Invalid syntax.\n",
      " |  \n",
      " |  Method resolution order:\n",
      " |      SyntaxError\n",
      " |      Exception\n",
      " |      BaseException\n",
      " |      object\n",
      " |  \n",
      " |  Built-in subclasses:\n",
      " |      IndentationError\n",
      " |  \n",
      " |  Methods defined here:\n",
      " |  \n",
      " |  __init__(self, /, *args, **kwargs)\n",
      " |      Initialize self.  See help(type(self)) for accurate signature.\n",
      " |  \n",
      " |  __str__(self, /)\n",
      " |      Return str(self).\n",
      " |  \n",
      " |  ----------------------------------------------------------------------\n",
      " |  Data descriptors defined here:\n",
      " |  \n",
      " |  end_lineno\n",
      " |      exception end lineno\n",
      " |  \n",
      " |  end_offset\n",
      " |      exception end offset\n",
      " |  \n",
      " |  filename\n",
      " |      exception filename\n",
      " |  \n",
      " |  lineno\n",
      " |      exception lineno\n",
      " |  \n",
      " |  msg\n",
      " |      exception msg\n",
      " |  \n",
      " |  offset\n",
      " |      exception offset\n",
      " |  \n",
      " |  print_file_and_line\n",
      " |      exception print_file_and_line\n",
      " |  \n",
      " |  text\n",
      " |      exception text\n",
      " |  \n",
      " |  ----------------------------------------------------------------------\n",
      " |  Static methods inherited from Exception:\n",
      " |  \n",
      " |  __new__(*args, **kwargs) from builtins.type\n",
      " |      Create and return a new object.  See help(type) for accurate signature.\n",
      " |  \n",
      " |  ----------------------------------------------------------------------\n",
      " |  Methods inherited from BaseException:\n",
      " |  \n",
      " |  __delattr__(self, name, /)\n",
      " |      Implement delattr(self, name).\n",
      " |  \n",
      " |  __getattribute__(self, name, /)\n",
      " |      Return getattr(self, name).\n",
      " |  \n",
      " |  __reduce__(...)\n",
      " |      Helper for pickle.\n",
      " |  \n",
      " |  __repr__(self, /)\n",
      " |      Return repr(self).\n",
      " |  \n",
      " |  __setattr__(self, name, value, /)\n",
      " |      Implement setattr(self, name, value).\n",
      " |  \n",
      " |  __setstate__(...)\n",
      " |  \n",
      " |  add_note(...)\n",
      " |      Exception.add_note(note) --\n",
      " |      add a note to the exception\n",
      " |  \n",
      " |  with_traceback(...)\n",
      " |      Exception.with_traceback(tb) --\n",
      " |      set self.__traceback__ to tb and return self.\n",
      " |  \n",
      " |  ----------------------------------------------------------------------\n",
      " |  Data descriptors inherited from BaseException:\n",
      " |  \n",
      " |  __cause__\n",
      " |      exception cause\n",
      " |  \n",
      " |  __context__\n",
      " |      exception context\n",
      " |  \n",
      " |  __dict__\n",
      " |  \n",
      " |  __suppress_context__\n",
      " |  \n",
      " |  __traceback__\n",
      " |  \n",
      " |  args\n",
      "\n"
     ]
    }
   ],
   "source": [
    "help(SyntaxError)"
   ]
  },
  {
   "cell_type": "code",
   "execution_count": 3,
   "id": "94105f29",
   "metadata": {},
   "outputs": [
    {
     "name": "stdout",
     "output_type": "stream",
     "text": [
      "Help on class IndentationError in module builtins:\n",
      "\n",
      "class IndentationError(SyntaxError)\n",
      " |  Improper indentation.\n",
      " |  \n",
      " |  Method resolution order:\n",
      " |      IndentationError\n",
      " |      SyntaxError\n",
      " |      Exception\n",
      " |      BaseException\n",
      " |      object\n",
      " |  \n",
      " |  Built-in subclasses:\n",
      " |      TabError\n",
      " |  \n",
      " |  Methods defined here:\n",
      " |  \n",
      " |  __init__(self, /, *args, **kwargs)\n",
      " |      Initialize self.  See help(type(self)) for accurate signature.\n",
      " |  \n",
      " |  ----------------------------------------------------------------------\n",
      " |  Methods inherited from SyntaxError:\n",
      " |  \n",
      " |  __str__(self, /)\n",
      " |      Return str(self).\n",
      " |  \n",
      " |  ----------------------------------------------------------------------\n",
      " |  Data descriptors inherited from SyntaxError:\n",
      " |  \n",
      " |  end_lineno\n",
      " |      exception end lineno\n",
      " |  \n",
      " |  end_offset\n",
      " |      exception end offset\n",
      " |  \n",
      " |  filename\n",
      " |      exception filename\n",
      " |  \n",
      " |  lineno\n",
      " |      exception lineno\n",
      " |  \n",
      " |  msg\n",
      " |      exception msg\n",
      " |  \n",
      " |  offset\n",
      " |      exception offset\n",
      " |  \n",
      " |  print_file_and_line\n",
      " |      exception print_file_and_line\n",
      " |  \n",
      " |  text\n",
      " |      exception text\n",
      " |  \n",
      " |  ----------------------------------------------------------------------\n",
      " |  Static methods inherited from Exception:\n",
      " |  \n",
      " |  __new__(*args, **kwargs) from builtins.type\n",
      " |      Create and return a new object.  See help(type) for accurate signature.\n",
      " |  \n",
      " |  ----------------------------------------------------------------------\n",
      " |  Methods inherited from BaseException:\n",
      " |  \n",
      " |  __delattr__(self, name, /)\n",
      " |      Implement delattr(self, name).\n",
      " |  \n",
      " |  __getattribute__(self, name, /)\n",
      " |      Return getattr(self, name).\n",
      " |  \n",
      " |  __reduce__(...)\n",
      " |      Helper for pickle.\n",
      " |  \n",
      " |  __repr__(self, /)\n",
      " |      Return repr(self).\n",
      " |  \n",
      " |  __setattr__(self, name, value, /)\n",
      " |      Implement setattr(self, name, value).\n",
      " |  \n",
      " |  __setstate__(...)\n",
      " |  \n",
      " |  add_note(...)\n",
      " |      Exception.add_note(note) --\n",
      " |      add a note to the exception\n",
      " |  \n",
      " |  with_traceback(...)\n",
      " |      Exception.with_traceback(tb) --\n",
      " |      set self.__traceback__ to tb and return self.\n",
      " |  \n",
      " |  ----------------------------------------------------------------------\n",
      " |  Data descriptors inherited from BaseException:\n",
      " |  \n",
      " |  __cause__\n",
      " |      exception cause\n",
      " |  \n",
      " |  __context__\n",
      " |      exception context\n",
      " |  \n",
      " |  __dict__\n",
      " |  \n",
      " |  __suppress_context__\n",
      " |  \n",
      " |  __traceback__\n",
      " |  \n",
      " |  args\n",
      "\n"
     ]
    }
   ],
   "source": [
    "help(IndentationError)"
   ]
  },
  {
   "cell_type": "code",
   "execution_count": 4,
   "id": "485313bf",
   "metadata": {},
   "outputs": [
    {
     "ename": "SyntaxError",
     "evalue": "invalid syntax (525519296.py, line 1)",
     "output_type": "error",
     "traceback": [
      "\u001b[1;36m  Cell \u001b[1;32mIn[4], line 1\u001b[1;36m\u001b[0m\n\u001b[1;33m    |\u001b[0m\n\u001b[1;37m    ^\u001b[0m\n\u001b[1;31mSyntaxError\u001b[0m\u001b[1;31m:\u001b[0m invalid syntax\n"
     ]
    }
   ],
   "source": [
    "|"
   ]
  },
  {
   "cell_type": "code",
   "execution_count": null,
   "id": "83192859",
   "metadata": {},
   "outputs": [],
   "source": []
  },
  {
   "cell_type": "code",
   "execution_count": 5,
   "id": "737d3c33",
   "metadata": {},
   "outputs": [],
   "source": [
    "# RegEx => Regular Expression\n",
    "# It extracts the required information from a given data (str)\n",
    "# It is a pattern (created using special symbols and characters) used to fetch a sub-string from a string"
   ]
  },
  {
   "cell_type": "code",
   "execution_count": null,
   "id": "6f592827",
   "metadata": {},
   "outputs": [],
   "source": []
  },
  {
   "cell_type": "code",
   "execution_count": 6,
   "id": "d2481ac1",
   "metadata": {},
   "outputs": [],
   "source": [
    "# re module"
   ]
  },
  {
   "cell_type": "code",
   "execution_count": 7,
   "id": "2e7a8365",
   "metadata": {},
   "outputs": [],
   "source": [
    "import re"
   ]
  },
  {
   "cell_type": "code",
   "execution_count": 8,
   "id": "f530f95c",
   "metadata": {},
   "outputs": [
    {
     "name": "stdout",
     "output_type": "stream",
     "text": [
      "Help on package re:\n",
      "\n",
      "NAME\n",
      "    re - Support for regular expressions (RE).\n",
      "\n",
      "MODULE REFERENCE\n",
      "    https://docs.python.org/3.11/library/re.html\n",
      "    \n",
      "    The following documentation is automatically generated from the Python\n",
      "    source files.  It may be incomplete, incorrect or include features that\n",
      "    are considered implementation detail and may vary between Python\n",
      "    implementations.  When in doubt, consult the module reference at the\n",
      "    location listed above.\n",
      "\n",
      "DESCRIPTION\n",
      "    This module provides regular expression matching operations similar to\n",
      "    those found in Perl.  It supports both 8-bit and Unicode strings; both\n",
      "    the pattern and the strings being processed can contain null bytes and\n",
      "    characters outside the US ASCII range.\n",
      "    \n",
      "    Regular expressions can contain both special and ordinary characters.\n",
      "    Most ordinary characters, like \"A\", \"a\", or \"0\", are the simplest\n",
      "    regular expressions; they simply match themselves.  You can\n",
      "    concatenate ordinary characters, so last matches the string 'last'.\n",
      "    \n",
      "    The special characters are:\n",
      "        \".\"      Matches any character except a newline.\n",
      "        \"^\"      Matches the start of the string.\n",
      "        \"$\"      Matches the end of the string or just before the newline at\n",
      "                 the end of the string.\n",
      "        \"*\"      Matches 0 or more (greedy) repetitions of the preceding RE.\n",
      "                 Greedy means that it will match as many repetitions as possible.\n",
      "        \"+\"      Matches 1 or more (greedy) repetitions of the preceding RE.\n",
      "        \"?\"      Matches 0 or 1 (greedy) of the preceding RE.\n",
      "        *?,+?,?? Non-greedy versions of the previous three special characters.\n",
      "        {m,n}    Matches from m to n repetitions of the preceding RE.\n",
      "        {m,n}?   Non-greedy version of the above.\n",
      "        \"\\\\\"     Either escapes special characters or signals a special sequence.\n",
      "        []       Indicates a set of characters.\n",
      "                 A \"^\" as the first character indicates a complementing set.\n",
      "        \"|\"      A|B, creates an RE that will match either A or B.\n",
      "        (...)    Matches the RE inside the parentheses.\n",
      "                 The contents can be retrieved or matched later in the string.\n",
      "        (?aiLmsux) The letters set the corresponding flags defined below.\n",
      "        (?:...)  Non-grouping version of regular parentheses.\n",
      "        (?P<name>...) The substring matched by the group is accessible by name.\n",
      "        (?P=name)     Matches the text matched earlier by the group named name.\n",
      "        (?#...)  A comment; ignored.\n",
      "        (?=...)  Matches if ... matches next, but doesn't consume the string.\n",
      "        (?!...)  Matches if ... doesn't match next.\n",
      "        (?<=...) Matches if preceded by ... (must be fixed length).\n",
      "        (?<!...) Matches if not preceded by ... (must be fixed length).\n",
      "        (?(id/name)yes|no) Matches yes pattern if the group with id/name matched,\n",
      "                           the (optional) no pattern otherwise.\n",
      "    \n",
      "    The special sequences consist of \"\\\\\" and a character from the list\n",
      "    below.  If the ordinary character is not on the list, then the\n",
      "    resulting RE will match the second character.\n",
      "        \\number  Matches the contents of the group of the same number.\n",
      "        \\A       Matches only at the start of the string.\n",
      "        \\Z       Matches only at the end of the string.\n",
      "        \\b       Matches the empty string, but only at the start or end of a word.\n",
      "        \\B       Matches the empty string, but not at the start or end of a word.\n",
      "        \\d       Matches any decimal digit; equivalent to the set [0-9] in\n",
      "                 bytes patterns or string patterns with the ASCII flag.\n",
      "                 In string patterns without the ASCII flag, it will match the whole\n",
      "                 range of Unicode digits.\n",
      "        \\D       Matches any non-digit character; equivalent to [^\\d].\n",
      "        \\s       Matches any whitespace character; equivalent to [ \\t\\n\\r\\f\\v] in\n",
      "                 bytes patterns or string patterns with the ASCII flag.\n",
      "                 In string patterns without the ASCII flag, it will match the whole\n",
      "                 range of Unicode whitespace characters.\n",
      "        \\S       Matches any non-whitespace character; equivalent to [^\\s].\n",
      "        \\w       Matches any alphanumeric character; equivalent to [a-zA-Z0-9_]\n",
      "                 in bytes patterns or string patterns with the ASCII flag.\n",
      "                 In string patterns without the ASCII flag, it will match the\n",
      "                 range of Unicode alphanumeric characters (letters plus digits\n",
      "                 plus underscore).\n",
      "                 With LOCALE, it will match the set [0-9_] plus characters defined\n",
      "                 as letters for the current locale.\n",
      "        \\W       Matches the complement of \\w.\n",
      "        \\\\       Matches a literal backslash.\n",
      "    \n",
      "    This module exports the following functions:\n",
      "        match     Match a regular expression pattern to the beginning of a string.\n",
      "        fullmatch Match a regular expression pattern to all of a string.\n",
      "        search    Search a string for the presence of a pattern.\n",
      "        sub       Substitute occurrences of a pattern found in a string.\n",
      "        subn      Same as sub, but also return the number of substitutions made.\n",
      "        split     Split a string by the occurrences of a pattern.\n",
      "        findall   Find all occurrences of a pattern in a string.\n",
      "        finditer  Return an iterator yielding a Match object for each match.\n",
      "        compile   Compile a pattern into a Pattern object.\n",
      "        purge     Clear the regular expression cache.\n",
      "        escape    Backslash all non-alphanumerics in a string.\n",
      "    \n",
      "    Each function other than purge and escape can take an optional 'flags' argument\n",
      "    consisting of one or more of the following module constants, joined by \"|\".\n",
      "    A, L, and U are mutually exclusive.\n",
      "        A  ASCII       For string patterns, make \\w, \\W, \\b, \\B, \\d, \\D\n",
      "                       match the corresponding ASCII character categories\n",
      "                       (rather than the whole Unicode categories, which is the\n",
      "                       default).\n",
      "                       For bytes patterns, this flag is the only available\n",
      "                       behaviour and needn't be specified.\n",
      "        I  IGNORECASE  Perform case-insensitive matching.\n",
      "        L  LOCALE      Make \\w, \\W, \\b, \\B, dependent on the current locale.\n",
      "        M  MULTILINE   \"^\" matches the beginning of lines (after a newline)\n",
      "                       as well as the string.\n",
      "                       \"$\" matches the end of lines (before a newline) as well\n",
      "                       as the end of the string.\n",
      "        S  DOTALL      \".\" matches any character at all, including the newline.\n",
      "        X  VERBOSE     Ignore whitespace and comments for nicer looking RE's.\n",
      "        U  UNICODE     For compatibility only. Ignored for string patterns (it\n",
      "                       is the default), and forbidden for bytes patterns.\n",
      "    \n",
      "    This module also defines an exception 'error'.\n",
      "\n",
      "PACKAGE CONTENTS\n",
      "    _casefix\n",
      "    _compiler\n",
      "    _constants\n",
      "    _parser\n",
      "\n",
      "CLASSES\n",
      "    builtins.Exception(builtins.BaseException)\n",
      "        error\n",
      "    builtins.object\n",
      "        Match\n",
      "        Pattern\n",
      "    enum.IntFlag(builtins.int, enum.ReprEnum, enum.Flag)\n",
      "        RegexFlag\n",
      "    \n",
      "    class Match(builtins.object)\n",
      "     |  The result of re.match() and re.search().\n",
      "     |  Match objects always have a boolean value of True.\n",
      "     |  \n",
      "     |  Methods defined here:\n",
      "     |  \n",
      "     |  __copy__(self, /)\n",
      "     |  \n",
      "     |  __deepcopy__(self, memo, /)\n",
      "     |  \n",
      "     |  __getitem__(self, key, /)\n",
      "     |      Return self[key].\n",
      "     |  \n",
      "     |  __repr__(self, /)\n",
      "     |      Return repr(self).\n",
      "     |  \n",
      "     |  end(self, group=0, /)\n",
      "     |      Return index of the end of the substring matched by group.\n",
      "     |  \n",
      "     |  expand(self, /, template)\n",
      "     |      Return the string obtained by doing backslash substitution on the string template, as done by the sub() method.\n",
      "     |  \n",
      "     |  group(...)\n",
      "     |      group([group1, ...]) -> str or tuple.\n",
      "     |      Return subgroup(s) of the match by indices or names.\n",
      "     |      For 0 returns the entire match.\n",
      "     |  \n",
      "     |  groupdict(self, /, default=None)\n",
      "     |      Return a dictionary containing all the named subgroups of the match, keyed by the subgroup name.\n",
      "     |      \n",
      "     |      default\n",
      "     |        Is used for groups that did not participate in the match.\n",
      "     |  \n",
      "     |  groups(self, /, default=None)\n",
      "     |      Return a tuple containing all the subgroups of the match, from 1.\n",
      "     |      \n",
      "     |      default\n",
      "     |        Is used for groups that did not participate in the match.\n",
      "     |  \n",
      "     |  span(self, group=0, /)\n",
      "     |      For match object m, return the 2-tuple (m.start(group), m.end(group)).\n",
      "     |  \n",
      "     |  start(self, group=0, /)\n",
      "     |      Return index of the start of the substring matched by group.\n",
      "     |  \n",
      "     |  ----------------------------------------------------------------------\n",
      "     |  Class methods defined here:\n",
      "     |  \n",
      "     |  __class_getitem__(...) from builtins.type\n",
      "     |      See PEP 585\n",
      "     |  \n",
      "     |  ----------------------------------------------------------------------\n",
      "     |  Data descriptors defined here:\n",
      "     |  \n",
      "     |  endpos\n",
      "     |      The index into the string beyond which the RE engine will not go.\n",
      "     |  \n",
      "     |  lastgroup\n",
      "     |      The name of the last matched capturing group.\n",
      "     |  \n",
      "     |  lastindex\n",
      "     |      The integer index of the last matched capturing group.\n",
      "     |  \n",
      "     |  pos\n",
      "     |      The index into the string at which the RE engine started looking for a match.\n",
      "     |  \n",
      "     |  re\n",
      "     |      The regular expression object.\n",
      "     |  \n",
      "     |  regs\n",
      "     |  \n",
      "     |  string\n",
      "     |      The string passed to match() or search().\n",
      "    \n",
      "    class Pattern(builtins.object)\n",
      "     |  Compiled regular expression object.\n",
      "     |  \n",
      "     |  Methods defined here:\n",
      "     |  \n",
      "     |  __copy__(self, /)\n",
      "     |  \n",
      "     |  __deepcopy__(self, memo, /)\n",
      "     |  \n",
      "     |  __eq__(self, value, /)\n",
      "     |      Return self==value.\n",
      "     |  \n",
      "     |  __ge__(self, value, /)\n",
      "     |      Return self>=value.\n",
      "     |  \n",
      "     |  __gt__(self, value, /)\n",
      "     |      Return self>value.\n",
      "     |  \n",
      "     |  __hash__(self, /)\n",
      "     |      Return hash(self).\n",
      "     |  \n",
      "     |  __le__(self, value, /)\n",
      "     |      Return self<=value.\n",
      "     |  \n",
      "     |  __lt__(self, value, /)\n",
      "     |      Return self<value.\n",
      "     |  \n",
      "     |  __ne__(self, value, /)\n",
      "     |      Return self!=value.\n",
      "     |  \n",
      "     |  __repr__(self, /)\n",
      "     |      Return repr(self).\n",
      "     |  \n",
      "     |  findall(self, /, string, pos=0, endpos=9223372036854775807)\n",
      "     |      Return a list of all non-overlapping matches of pattern in string.\n",
      "     |  \n",
      "     |  finditer(self, /, string, pos=0, endpos=9223372036854775807)\n",
      "     |      Return an iterator over all non-overlapping matches for the RE pattern in string.\n",
      "     |      \n",
      "     |      For each match, the iterator returns a match object.\n",
      "     |  \n",
      "     |  fullmatch(self, /, string, pos=0, endpos=9223372036854775807)\n",
      "     |      Matches against all of the string.\n",
      "     |  \n",
      "     |  match(self, /, string, pos=0, endpos=9223372036854775807)\n",
      "     |      Matches zero or more characters at the beginning of the string.\n",
      "     |  \n",
      "     |  scanner(self, /, string, pos=0, endpos=9223372036854775807)\n",
      "     |  \n",
      "     |  search(self, /, string, pos=0, endpos=9223372036854775807)\n",
      "     |      Scan through string looking for a match, and return a corresponding match object instance.\n",
      "     |      \n",
      "     |      Return None if no position in the string matches.\n",
      "     |  \n",
      "     |  split(self, /, string, maxsplit=0)\n",
      "     |      Split string by the occurrences of pattern.\n",
      "     |  \n",
      "     |  sub(self, /, repl, string, count=0)\n",
      "     |      Return the string obtained by replacing the leftmost non-overlapping occurrences of pattern in string by the replacement repl.\n",
      "     |  \n",
      "     |  subn(self, /, repl, string, count=0)\n",
      "     |      Return the tuple (new_string, number_of_subs_made) found by replacing the leftmost non-overlapping occurrences of pattern with the replacement repl.\n",
      "     |  \n",
      "     |  ----------------------------------------------------------------------\n",
      "     |  Class methods defined here:\n",
      "     |  \n",
      "     |  __class_getitem__(...) from builtins.type\n",
      "     |      See PEP 585\n",
      "     |  \n",
      "     |  ----------------------------------------------------------------------\n",
      "     |  Data descriptors defined here:\n",
      "     |  \n",
      "     |  flags\n",
      "     |      The regex matching flags.\n",
      "     |  \n",
      "     |  groupindex\n",
      "     |      A dictionary mapping group names to group numbers.\n",
      "     |  \n",
      "     |  groups\n",
      "     |      The number of capturing groups in the pattern.\n",
      "     |  \n",
      "     |  pattern\n",
      "     |      The pattern string from which the RE object was compiled.\n",
      "    \n",
      "    class RegexFlag(enum.IntFlag)\n",
      "     |  RegexFlag(value, names=None, *, module=None, qualname=None, type=None, start=1, boundary=None)\n",
      "     |  \n",
      "     |  An enumeration.\n",
      "     |  \n",
      "     |  Method resolution order:\n",
      "     |      RegexFlag\n",
      "     |      enum.IntFlag\n",
      "     |      builtins.int\n",
      "     |      enum.ReprEnum\n",
      "     |      enum.Flag\n",
      "     |      enum.Enum\n",
      "     |      builtins.object\n",
      "     |  \n",
      "     |  Methods defined here:\n",
      "     |  \n",
      "     |  __and__(self, other)\n",
      "     |  \n",
      "     |  __format__(self, format_spec, /)\n",
      "     |      Default object formatter.\n",
      "     |  \n",
      "     |  __invert__(self)\n",
      "     |  \n",
      "     |  __new__(cls, value)\n",
      "     |      Create and return a new object.  See help(type) for accurate signature.\n",
      "     |  \n",
      "     |  __or__(self, other)\n",
      "     |      Return self|value.\n",
      "     |  \n",
      "     |  __rand__ = __and__(self, other)\n",
      "     |  \n",
      "     |  __repr__ = global_flag_repr(self)\n",
      "     |      use module.flag_name instead of class.flag_name\n",
      "     |      \n",
      "     |      the module is the last module in case of a multi-module name\n",
      "     |  \n",
      "     |  __ror__ = __or__(self, other)\n",
      "     |  \n",
      "     |  __rxor__ = __xor__(self, other)\n",
      "     |  \n",
      "     |  __str__(self, /)\n",
      "     |      Return str(self).\n",
      "     |  \n",
      "     |  __xor__(self, other)\n",
      "     |  \n",
      "     |  ----------------------------------------------------------------------\n",
      "     |  Data and other attributes defined here:\n",
      "     |  \n",
      "     |  ASCII = re.ASCII\n",
      "     |  \n",
      "     |  DEBUG = re.DEBUG\n",
      "     |  \n",
      "     |  DOTALL = re.DOTALL\n",
      "     |  \n",
      "     |  IGNORECASE = re.IGNORECASE\n",
      "     |  \n",
      "     |  LOCALE = re.LOCALE\n",
      "     |  \n",
      "     |  MULTILINE = re.MULTILINE\n",
      "     |  \n",
      "     |  TEMPLATE = re.TEMPLATE\n",
      "     |  \n",
      "     |  UNICODE = re.UNICODE\n",
      "     |  \n",
      "     |  VERBOSE = re.VERBOSE\n",
      "     |  \n",
      "     |  ----------------------------------------------------------------------\n",
      "     |  Methods inherited from builtins.int:\n",
      "     |  \n",
      "     |  __abs__(self, /)\n",
      "     |      abs(self)\n",
      "     |  \n",
      "     |  __add__(self, value, /)\n",
      "     |      Return self+value.\n",
      "     |  \n",
      "     |  __bool__(self, /)\n",
      "     |      True if self else False\n",
      "     |  \n",
      "     |  __ceil__(...)\n",
      "     |      Ceiling of an Integral returns itself.\n",
      "     |  \n",
      "     |  __divmod__(self, value, /)\n",
      "     |      Return divmod(self, value).\n",
      "     |  \n",
      "     |  __eq__(self, value, /)\n",
      "     |      Return self==value.\n",
      "     |  \n",
      "     |  __float__(self, /)\n",
      "     |      float(self)\n",
      "     |  \n",
      "     |  __floor__(...)\n",
      "     |      Flooring an Integral returns itself.\n",
      "     |  \n",
      "     |  __floordiv__(self, value, /)\n",
      "     |      Return self//value.\n",
      "     |  \n",
      "     |  __ge__(self, value, /)\n",
      "     |      Return self>=value.\n",
      "     |  \n",
      "     |  __getattribute__(self, name, /)\n",
      "     |      Return getattr(self, name).\n",
      "     |  \n",
      "     |  __getnewargs__(self, /)\n",
      "     |  \n",
      "     |  __gt__(self, value, /)\n",
      "     |      Return self>value.\n",
      "     |  \n",
      "     |  __hash__(self, /)\n",
      "     |      Return hash(self).\n",
      "     |  \n",
      "     |  __index__(self, /)\n",
      "     |      Return self converted to an integer, if self is suitable for use as an index into a list.\n",
      "     |  \n",
      "     |  __int__(self, /)\n",
      "     |      int(self)\n",
      "     |  \n",
      "     |  __le__(self, value, /)\n",
      "     |      Return self<=value.\n",
      "     |  \n",
      "     |  __lshift__(self, value, /)\n",
      "     |      Return self<<value.\n",
      "     |  \n",
      "     |  __lt__(self, value, /)\n",
      "     |      Return self<value.\n",
      "     |  \n",
      "     |  __mod__(self, value, /)\n",
      "     |      Return self%value.\n",
      "     |  \n",
      "     |  __mul__(self, value, /)\n",
      "     |      Return self*value.\n",
      "     |  \n",
      "     |  __ne__(self, value, /)\n",
      "     |      Return self!=value.\n",
      "     |  \n",
      "     |  __neg__(self, /)\n",
      "     |      -self\n",
      "     |  \n",
      "     |  __pos__(self, /)\n",
      "     |      +self\n",
      "     |  \n",
      "     |  __pow__(self, value, mod=None, /)\n",
      "     |      Return pow(self, value, mod).\n",
      "     |  \n",
      "     |  __radd__(self, value, /)\n",
      "     |      Return value+self.\n",
      "     |  \n",
      "     |  __rdivmod__(self, value, /)\n",
      "     |      Return divmod(value, self).\n",
      "     |  \n",
      "     |  __rfloordiv__(self, value, /)\n",
      "     |      Return value//self.\n",
      "     |  \n",
      "     |  __rlshift__(self, value, /)\n",
      "     |      Return value<<self.\n",
      "     |  \n",
      "     |  __rmod__(self, value, /)\n",
      "     |      Return value%self.\n",
      "     |  \n",
      "     |  __rmul__(self, value, /)\n",
      "     |      Return value*self.\n",
      "     |  \n",
      "     |  __round__(...)\n",
      "     |      Rounding an Integral returns itself.\n",
      "     |      \n",
      "     |      Rounding with an ndigits argument also returns an integer.\n",
      "     |  \n",
      "     |  __rpow__(self, value, mod=None, /)\n",
      "     |      Return pow(value, self, mod).\n",
      "     |  \n",
      "     |  __rrshift__(self, value, /)\n",
      "     |      Return value>>self.\n",
      "     |  \n",
      "     |  __rshift__(self, value, /)\n",
      "     |      Return self>>value.\n",
      "     |  \n",
      "     |  __rsub__(self, value, /)\n",
      "     |      Return value-self.\n",
      "     |  \n",
      "     |  __rtruediv__(self, value, /)\n",
      "     |      Return value/self.\n",
      "     |  \n",
      "     |  __sizeof__(self, /)\n",
      "     |      Returns size in memory, in bytes.\n",
      "     |  \n",
      "     |  __sub__(self, value, /)\n",
      "     |      Return self-value.\n",
      "     |  \n",
      "     |  __truediv__(self, value, /)\n",
      "     |      Return self/value.\n",
      "     |  \n",
      "     |  __trunc__(...)\n",
      "     |      Truncating an Integral returns itself.\n",
      "     |  \n",
      "     |  as_integer_ratio(self, /)\n",
      "     |      Return integer ratio.\n",
      "     |      \n",
      "     |      Return a pair of integers, whose ratio is exactly equal to the original int\n",
      "     |      and with a positive denominator.\n",
      "     |      \n",
      "     |      >>> (10).as_integer_ratio()\n",
      "     |      (10, 1)\n",
      "     |      >>> (-10).as_integer_ratio()\n",
      "     |      (-10, 1)\n",
      "     |      >>> (0).as_integer_ratio()\n",
      "     |      (0, 1)\n",
      "     |  \n",
      "     |  bit_count(self, /)\n",
      "     |      Number of ones in the binary representation of the absolute value of self.\n",
      "     |      \n",
      "     |      Also known as the population count.\n",
      "     |      \n",
      "     |      >>> bin(13)\n",
      "     |      '0b1101'\n",
      "     |      >>> (13).bit_count()\n",
      "     |      3\n",
      "     |  \n",
      "     |  bit_length(self, /)\n",
      "     |      Number of bits necessary to represent self in binary.\n",
      "     |      \n",
      "     |      >>> bin(37)\n",
      "     |      '0b100101'\n",
      "     |      >>> (37).bit_length()\n",
      "     |      6\n",
      "     |  \n",
      "     |  conjugate(...)\n",
      "     |      Returns self, the complex conjugate of any int.\n",
      "     |  \n",
      "     |  to_bytes(self, /, length=1, byteorder='big', *, signed=False)\n",
      "     |      Return an array of bytes representing an integer.\n",
      "     |      \n",
      "     |      length\n",
      "     |        Length of bytes object to use.  An OverflowError is raised if the\n",
      "     |        integer is not representable with the given number of bytes.  Default\n",
      "     |        is length 1.\n",
      "     |      byteorder\n",
      "     |        The byte order used to represent the integer.  If byteorder is 'big',\n",
      "     |        the most significant byte is at the beginning of the byte array.  If\n",
      "     |        byteorder is 'little', the most significant byte is at the end of the\n",
      "     |        byte array.  To request the native byte order of the host system, use\n",
      "     |        `sys.byteorder' as the byte order value.  Default is to use 'big'.\n",
      "     |      signed\n",
      "     |        Determines whether two's complement is used to represent the integer.\n",
      "     |        If signed is False and a negative integer is given, an OverflowError\n",
      "     |        is raised.\n",
      "     |  \n",
      "     |  ----------------------------------------------------------------------\n",
      "     |  Class methods inherited from builtins.int:\n",
      "     |  \n",
      "     |  from_bytes(bytes, byteorder='big', *, signed=False) from enum.EnumType\n",
      "     |      Return the integer represented by the given array of bytes.\n",
      "     |      \n",
      "     |      bytes\n",
      "     |        Holds the array of bytes to convert.  The argument must either\n",
      "     |        support the buffer protocol or be an iterable object producing bytes.\n",
      "     |        Bytes and bytearray are examples of built-in objects that support the\n",
      "     |        buffer protocol.\n",
      "     |      byteorder\n",
      "     |        The byte order used to represent the integer.  If byteorder is 'big',\n",
      "     |        the most significant byte is at the beginning of the byte array.  If\n",
      "     |        byteorder is 'little', the most significant byte is at the end of the\n",
      "     |        byte array.  To request the native byte order of the host system, use\n",
      "     |        `sys.byteorder' as the byte order value.  Default is to use 'big'.\n",
      "     |      signed\n",
      "     |        Indicates whether two's complement is used to represent the integer.\n",
      "     |  \n",
      "     |  ----------------------------------------------------------------------\n",
      "     |  Data descriptors inherited from builtins.int:\n",
      "     |  \n",
      "     |  denominator\n",
      "     |      the denominator of a rational number in lowest terms\n",
      "     |  \n",
      "     |  imag\n",
      "     |      the imaginary part of a complex number\n",
      "     |  \n",
      "     |  numerator\n",
      "     |      the numerator of a rational number in lowest terms\n",
      "     |  \n",
      "     |  real\n",
      "     |      the real part of a complex number\n",
      "     |  \n",
      "     |  ----------------------------------------------------------------------\n",
      "     |  Methods inherited from enum.Flag:\n",
      "     |  \n",
      "     |  __contains__(self, other)\n",
      "     |      Returns True if self has at least the same flags set as other.\n",
      "     |  \n",
      "     |  __iter__(self)\n",
      "     |      Returns flags in definition order.\n",
      "     |  \n",
      "     |  __len__(self)\n",
      "     |      Return the number of members (no aliases)\n",
      "     |  \n",
      "     |  __reduce_ex__(self, proto)\n",
      "     |      Helper for pickle.\n",
      "     |  \n",
      "     |  ----------------------------------------------------------------------\n",
      "     |  Methods inherited from enum.Enum:\n",
      "     |  \n",
      "     |  __dir__(self)\n",
      "     |      Returns all members and all public methods\n",
      "     |  \n",
      "     |  __init__(self, *args, **kwds)\n",
      "     |      Initialize self.  See help(type(self)) for accurate signature.\n",
      "     |  \n",
      "     |  ----------------------------------------------------------------------\n",
      "     |  Data descriptors inherited from enum.Enum:\n",
      "     |  \n",
      "     |  name\n",
      "     |      The name of the Enum member.\n",
      "     |  \n",
      "     |  value\n",
      "     |      The value of the Enum member.\n",
      "     |  \n",
      "     |  ----------------------------------------------------------------------\n",
      "     |  Methods inherited from enum.EnumType:\n",
      "     |  \n",
      "     |  __getitem__(name) from enum.EnumType\n",
      "     |      Return the member matching `name`.\n",
      "     |  \n",
      "     |  ----------------------------------------------------------------------\n",
      "     |  Readonly properties inherited from enum.EnumType:\n",
      "     |  \n",
      "     |  __members__\n",
      "     |      Returns a mapping of member name->value.\n",
      "     |      \n",
      "     |      This mapping lists all enum members, including aliases. Note that this\n",
      "     |      is a read-only view of the internal mapping.\n",
      "    \n",
      "    class error(builtins.Exception)\n",
      "     |  error(msg, pattern=None, pos=None)\n",
      "     |  \n",
      "     |  Exception raised for invalid regular expressions.\n",
      "     |  \n",
      "     |  Attributes:\n",
      "     |  \n",
      "     |      msg: The unformatted error message\n",
      "     |      pattern: The regular expression pattern\n",
      "     |      pos: The index in the pattern where compilation failed (may be None)\n",
      "     |      lineno: The line corresponding to pos (may be None)\n",
      "     |      colno: The column corresponding to pos (may be None)\n",
      "     |  \n",
      "     |  Method resolution order:\n",
      "     |      error\n",
      "     |      builtins.Exception\n",
      "     |      builtins.BaseException\n",
      "     |      builtins.object\n",
      "     |  \n",
      "     |  Methods defined here:\n",
      "     |  \n",
      "     |  __init__(self, msg, pattern=None, pos=None)\n",
      "     |      Initialize self.  See help(type(self)) for accurate signature.\n",
      "     |  \n",
      "     |  ----------------------------------------------------------------------\n",
      "     |  Data descriptors defined here:\n",
      "     |  \n",
      "     |  __weakref__\n",
      "     |      list of weak references to the object (if defined)\n",
      "     |  \n",
      "     |  ----------------------------------------------------------------------\n",
      "     |  Static methods inherited from builtins.Exception:\n",
      "     |  \n",
      "     |  __new__(*args, **kwargs) from builtins.type\n",
      "     |      Create and return a new object.  See help(type) for accurate signature.\n",
      "     |  \n",
      "     |  ----------------------------------------------------------------------\n",
      "     |  Methods inherited from builtins.BaseException:\n",
      "     |  \n",
      "     |  __delattr__(self, name, /)\n",
      "     |      Implement delattr(self, name).\n",
      "     |  \n",
      "     |  __getattribute__(self, name, /)\n",
      "     |      Return getattr(self, name).\n",
      "     |  \n",
      "     |  __reduce__(...)\n",
      "     |      Helper for pickle.\n",
      "     |  \n",
      "     |  __repr__(self, /)\n",
      "     |      Return repr(self).\n",
      "     |  \n",
      "     |  __setattr__(self, name, value, /)\n",
      "     |      Implement setattr(self, name, value).\n",
      "     |  \n",
      "     |  __setstate__(...)\n",
      "     |  \n",
      "     |  __str__(self, /)\n",
      "     |      Return str(self).\n",
      "     |  \n",
      "     |  add_note(...)\n",
      "     |      Exception.add_note(note) --\n",
      "     |      add a note to the exception\n",
      "     |  \n",
      "     |  with_traceback(...)\n",
      "     |      Exception.with_traceback(tb) --\n",
      "     |      set self.__traceback__ to tb and return self.\n",
      "     |  \n",
      "     |  ----------------------------------------------------------------------\n",
      "     |  Data descriptors inherited from builtins.BaseException:\n",
      "     |  \n",
      "     |  __cause__\n",
      "     |      exception cause\n",
      "     |  \n",
      "     |  __context__\n",
      "     |      exception context\n",
      "     |  \n",
      "     |  __dict__\n",
      "     |  \n",
      "     |  __suppress_context__\n",
      "     |  \n",
      "     |  __traceback__\n",
      "     |  \n",
      "     |  args\n",
      "\n",
      "FUNCTIONS\n",
      "    compile(pattern, flags=0)\n",
      "        Compile a regular expression pattern, returning a Pattern object.\n",
      "    \n",
      "    escape(pattern)\n",
      "        Escape special characters in a string.\n",
      "    \n",
      "    findall(pattern, string, flags=0)\n",
      "        Return a list of all non-overlapping matches in the string.\n",
      "        \n",
      "        If one or more capturing groups are present in the pattern, return\n",
      "        a list of groups; this will be a list of tuples if the pattern\n",
      "        has more than one group.\n",
      "        \n",
      "        Empty matches are included in the result.\n",
      "    \n",
      "    finditer(pattern, string, flags=0)\n",
      "        Return an iterator over all non-overlapping matches in the\n",
      "        string.  For each match, the iterator returns a Match object.\n",
      "        \n",
      "        Empty matches are included in the result.\n",
      "    \n",
      "    fullmatch(pattern, string, flags=0)\n",
      "        Try to apply the pattern to all of the string, returning\n",
      "        a Match object, or None if no match was found.\n",
      "    \n",
      "    match(pattern, string, flags=0)\n",
      "        Try to apply the pattern at the start of the string, returning\n",
      "        a Match object, or None if no match was found.\n",
      "    \n",
      "    purge()\n",
      "        Clear the regular expression caches\n",
      "    \n",
      "    search(pattern, string, flags=0)\n",
      "        Scan through string looking for a match to the pattern, returning\n",
      "        a Match object, or None if no match was found.\n",
      "    \n",
      "    split(pattern, string, maxsplit=0, flags=0)\n",
      "        Split the source string by the occurrences of the pattern,\n",
      "        returning a list containing the resulting substrings.  If\n",
      "        capturing parentheses are used in pattern, then the text of all\n",
      "        groups in the pattern are also returned as part of the resulting\n",
      "        list.  If maxsplit is nonzero, at most maxsplit splits occur,\n",
      "        and the remainder of the string is returned as the final element\n",
      "        of the list.\n",
      "    \n",
      "    sub(pattern, repl, string, count=0, flags=0)\n",
      "        Return the string obtained by replacing the leftmost\n",
      "        non-overlapping occurrences of the pattern in string by the\n",
      "        replacement repl.  repl can be either a string or a callable;\n",
      "        if a string, backslash escapes in it are processed.  If it is\n",
      "        a callable, it's passed the Match object and must return\n",
      "        a replacement string to be used.\n",
      "    \n",
      "    subn(pattern, repl, string, count=0, flags=0)\n",
      "        Return a 2-tuple containing (new_string, number).\n",
      "        new_string is the string obtained by replacing the leftmost\n",
      "        non-overlapping occurrences of the pattern in the source\n",
      "        string by the replacement repl.  number is the number of\n",
      "        substitutions that were made. repl can be either a string or a\n",
      "        callable; if a string, backslash escapes in it are processed.\n",
      "        If it is a callable, it's passed the Match object and must\n",
      "        return a replacement string to be used.\n",
      "    \n",
      "    template(pattern, flags=0)\n",
      "        Compile a template pattern, returning a Pattern object, deprecated\n",
      "\n",
      "DATA\n",
      "    A = re.ASCII\n",
      "    ASCII = re.ASCII\n",
      "    DOTALL = re.DOTALL\n",
      "    I = re.IGNORECASE\n",
      "    IGNORECASE = re.IGNORECASE\n",
      "    L = re.LOCALE\n",
      "    LOCALE = re.LOCALE\n",
      "    M = re.MULTILINE\n",
      "    MULTILINE = re.MULTILINE\n",
      "    NOFLAG = re.NOFLAG\n",
      "    S = re.DOTALL\n",
      "    U = re.UNICODE\n",
      "    UNICODE = re.UNICODE\n",
      "    VERBOSE = re.VERBOSE\n",
      "    X = re.VERBOSE\n",
      "    __all__ = ['match', 'fullmatch', 'search', 'sub', 'subn', 'split', 'fi...\n",
      "\n",
      "VERSION\n",
      "    2.2.1\n",
      "\n",
      "FILE\n",
      "    c:\\users\\hp\\anaconda3\\lib\\re\\__init__.py\n",
      "\n",
      "\n"
     ]
    }
   ],
   "source": [
    "help(re)"
   ]
  },
  {
   "cell_type": "code",
   "execution_count": null,
   "id": "358dcb85",
   "metadata": {},
   "outputs": [],
   "source": []
  },
  {
   "cell_type": "code",
   "execution_count": 9,
   "id": "6eef4a27",
   "metadata": {},
   "outputs": [
    {
     "data": {
      "text/plain": [
       "'\\n.       - Any Character Except New Line\\n\\\\d      - Digit (0-9)\\n\\\\D      - Not a Digit (0-9)\\n\\\\w      - Alphanumeric Character (a-z, A-Z, 0-9, _)\\n\\\\W      - Non Alphanumeric Character\\n\\\\s      - Whitespace (space, tab, newline)\\n\\\\S      - Not Whitespace (space, tab, newline)\\n\\n\\x08      - Word Boundary\\n\\\\B      - Not a Word Boundary\\n^       - Beginning of a String\\n$       - End of a String\\n\\n[A-Za-z]   - Matches one Character in brackets \\n[^A-Z]  - Matches Characters NOT in brackets\\n|       - Either Or\\n(com|net)     - Group\\n\\nQuantifiers:\\n*       - 0 or More\\n+       - 1 or More\\n?       - 0 or One\\n{3}     - Exact Number\\n{3,4}   - Range of Numbers (Minimum, Maximum)'"
      ]
     },
     "execution_count": 9,
     "metadata": {},
     "output_type": "execute_result"
    }
   ],
   "source": [
    "# Special characters and quantifiers - help to find and extract information\n",
    "\n",
    "'''\n",
    ".       - Any Character Except New Line\n",
    "\\d      - Digit (0-9)\n",
    "\\D      - Not a Digit (0-9)\n",
    "\\w      - Alphanumeric Character (a-z, A-Z, 0-9, _)\n",
    "\\W      - Non Alphanumeric Character\n",
    "\\s      - Whitespace (space, tab, newline)\n",
    "\\S      - Not Whitespace (space, tab, newline)\n",
    "\n",
    "\\b      - Word Boundary\n",
    "\\B      - Not a Word Boundary\n",
    "^       - Beginning of a String\n",
    "$       - End of a String\n",
    "\n",
    "[A-Za-z]   - Matches one Character in brackets \n",
    "[^A-Z]  - Matches Characters NOT in brackets\n",
    "|       - Either Or\n",
    "(com|net)     - Group\n",
    "\n",
    "Quantifiers:\n",
    "*       - 0 or More\n",
    "+       - 1 or More\n",
    "?       - 0 or One\n",
    "{3}     - Exact Number\n",
    "{3,4}   - Range of Numbers (Minimum, Maximum)'''\n",
    "\n",
    "# These special characters and quantifiers are used to create the pattern"
   ]
  },
  {
   "cell_type": "code",
   "execution_count": null,
   "id": "8f13d399",
   "metadata": {},
   "outputs": [],
   "source": []
  },
  {
   "cell_type": "code",
   "execution_count": 10,
   "id": "50e02c18",
   "metadata": {},
   "outputs": [],
   "source": [
    "s1 = \"old\\new\""
   ]
  },
  {
   "cell_type": "code",
   "execution_count": 11,
   "id": "2f78bb05",
   "metadata": {},
   "outputs": [
    {
     "name": "stdout",
     "output_type": "stream",
     "text": [
      "old\n",
      "ew\n"
     ]
    }
   ],
   "source": [
    "print(s1)"
   ]
  },
  {
   "cell_type": "code",
   "execution_count": 12,
   "id": "7347c70f",
   "metadata": {},
   "outputs": [],
   "source": [
    "s1 = \"old\\\\new\""
   ]
  },
  {
   "cell_type": "code",
   "execution_count": 13,
   "id": "bc76b0f8",
   "metadata": {},
   "outputs": [
    {
     "name": "stdout",
     "output_type": "stream",
     "text": [
      "old\\new\n"
     ]
    }
   ],
   "source": [
    "print(s1)"
   ]
  },
  {
   "cell_type": "code",
   "execution_count": 14,
   "id": "2608b490",
   "metadata": {},
   "outputs": [],
   "source": [
    "s2 = r\"old\\new\""
   ]
  },
  {
   "cell_type": "code",
   "execution_count": 15,
   "id": "13260b70",
   "metadata": {},
   "outputs": [
    {
     "name": "stdout",
     "output_type": "stream",
     "text": [
      "old\\new\n"
     ]
    }
   ],
   "source": [
    "print(s2)"
   ]
  },
  {
   "cell_type": "code",
   "execution_count": null,
   "id": "ffdff765",
   "metadata": {},
   "outputs": [],
   "source": []
  },
  {
   "cell_type": "code",
   "execution_count": 16,
   "id": "2bca7547",
   "metadata": {},
   "outputs": [],
   "source": [
    "fh = open(\"regex_file.txt\", 'rt')"
   ]
  },
  {
   "cell_type": "code",
   "execution_count": 17,
   "id": "b2dff3a1",
   "metadata": {},
   "outputs": [],
   "source": [
    "contents = fh.read()"
   ]
  },
  {
   "cell_type": "code",
   "execution_count": 18,
   "id": "c184d249",
   "metadata": {},
   "outputs": [],
   "source": [
    "fh.close()"
   ]
  },
  {
   "cell_type": "code",
   "execution_count": 19,
   "id": "ddb7fbf0",
   "metadata": {},
   "outputs": [
    {
     "data": {
      "text/plain": [
       "\"Python3 is a programming language\\nPython3\\npppam\\n.We are learnning python3\\nWe have completed our assignments\\nlearn python\\nmylearn A2\\nlearn2,python\\nAssignments are submitted to learnbay8thmar24@gmail.com\\nMy phone number is      91-9876543210\\na123-456-7890 Py3 learn\\nIP address is 192.100.76.24\\n192.101.77.20\\nlearn_bay\\nlearn-bay\\nJonathan25@gmail.com\\nWhat are the topics left?\\nJohn lives in Sweden \\nwhatever.\\\\com\\nabc@learnbay.com\\njohn123@yahoo.in\\npython2\\nABC .inc\\nlet's learn- RegEx\\npython34\\n192.100.190.111\\nHe says, letting me work, buddy!\\nxyz-id.12@gmail.com\\nxyz-id-12@gmail.com_char\\n333.333.333.333\\nxyz-id-12@gmail-com\\nxyz-id_12@domain.whatever\\n-@gmail.com\\n.@gmail.com\\n_@gmail.com\\n_-@gmail.com\\nWhat about learn\\t?\\nlearn^56\\nlearn.\\nmylearning\""
      ]
     },
     "execution_count": 19,
     "metadata": {},
     "output_type": "execute_result"
    }
   ],
   "source": [
    "contents"
   ]
  },
  {
   "cell_type": "code",
   "execution_count": 20,
   "id": "3f106d0b",
   "metadata": {},
   "outputs": [
    {
     "data": {
      "text/plain": [
       "str"
      ]
     },
     "execution_count": 20,
     "metadata": {},
     "output_type": "execute_result"
    }
   ],
   "source": [
    "type(contents)"
   ]
  },
  {
   "cell_type": "code",
   "execution_count": 21,
   "id": "469d37c1",
   "metadata": {},
   "outputs": [],
   "source": [
    "# OPening a file using 'with' statement"
   ]
  },
  {
   "cell_type": "code",
   "execution_count": 22,
   "id": "109ffa56",
   "metadata": {},
   "outputs": [],
   "source": [
    "with open('regex_file.txt', 'rt') as fh:\n",
    "    contents = fh.read()"
   ]
  },
  {
   "cell_type": "code",
   "execution_count": 23,
   "id": "4d4e09a3",
   "metadata": {},
   "outputs": [
    {
     "data": {
      "text/plain": [
       "\"Python3 is a programming language\\nPython3\\npppam\\n.We are learnning python3\\nWe have completed our assignments\\nlearn python\\nmylearn A2\\nlearn2,python\\nAssignments are submitted to learnbay8thmar24@gmail.com\\nMy phone number is      91-9876543210\\na123-456-7890 Py3 learn\\nIP address is 192.100.76.24\\n192.101.77.20\\nlearn_bay\\nlearn-bay\\nJonathan25@gmail.com\\nWhat are the topics left?\\nJohn lives in Sweden \\nwhatever.\\\\com\\nabc@learnbay.com\\njohn123@yahoo.in\\npython2\\nABC .inc\\nlet's learn- RegEx\\npython34\\n192.100.190.111\\nHe says, letting me work, buddy!\\nxyz-id.12@gmail.com\\nxyz-id-12@gmail.com_char\\n333.333.333.333\\nxyz-id-12@gmail-com\\nxyz-id_12@domain.whatever\\n-@gmail.com\\n.@gmail.com\\n_@gmail.com\\n_-@gmail.com\\nWhat about learn\\t?\\nlearn^56\\nlearn.\\nmylearning\""
      ]
     },
     "execution_count": 23,
     "metadata": {},
     "output_type": "execute_result"
    }
   ],
   "source": [
    "contents"
   ]
  },
  {
   "cell_type": "code",
   "execution_count": 30,
   "id": "c6fd4d4d",
   "metadata": {},
   "outputs": [],
   "source": [
    "s1 = \"old\\new\""
   ]
  },
  {
   "cell_type": "code",
   "execution_count": 31,
   "id": "79eb70bd",
   "metadata": {},
   "outputs": [
    {
     "data": {
      "text/plain": [
       "'old\\new'"
      ]
     },
     "execution_count": 31,
     "metadata": {},
     "output_type": "execute_result"
    }
   ],
   "source": [
    "s1"
   ]
  },
  {
   "cell_type": "code",
   "execution_count": 32,
   "id": "df381d12",
   "metadata": {},
   "outputs": [
    {
     "name": "stdout",
     "output_type": "stream",
     "text": [
      "old\n",
      "ew\n"
     ]
    }
   ],
   "source": [
    "print(s1)"
   ]
  },
  {
   "cell_type": "code",
   "execution_count": 33,
   "id": "385ae0b4",
   "metadata": {},
   "outputs": [
    {
     "name": "stdout",
     "output_type": "stream",
     "text": [
      "Python3 is a programming language\n",
      "Python3\n",
      "pppam\n",
      ".We are learnning python3\n",
      "We have completed our assignments\n",
      "learn python\n",
      "mylearn A2\n",
      "learn2,python\n",
      "Assignments are submitted to learnbay8thmar24@gmail.com\n",
      "My phone number is      91-9876543210\n",
      "a123-456-7890 Py3 learn\n",
      "IP address is 192.100.76.24\n",
      "192.101.77.20\n",
      "learn_bay\n",
      "learn-bay\n",
      "Jonathan25@gmail.com\n",
      "What are the topics left?\n",
      "John lives in Sweden \n",
      "whatever.\\com\n",
      "abc@learnbay.com\n",
      "john123@yahoo.in\n",
      "python2\n",
      "ABC .inc\n",
      "let's learn- RegEx\n",
      "python34\n",
      "192.100.190.111\n",
      "He says, letting me work, buddy!\n",
      "xyz-id.12@gmail.com\n",
      "xyz-id-12@gmail.com_char\n",
      "333.333.333.333\n",
      "xyz-id-12@gmail-com\n",
      "xyz-id_12@domain.whatever\n",
      "-@gmail.com\n",
      ".@gmail.com\n",
      "_@gmail.com\n",
      "_-@gmail.com\n",
      "What about learn\t?\n",
      "learn^56\n",
      "learn.\n",
      "mylearning\n"
     ]
    }
   ],
   "source": [
    "print(contents)"
   ]
  },
  {
   "cell_type": "code",
   "execution_count": null,
   "id": "c04f29b0",
   "metadata": {},
   "outputs": [],
   "source": []
  },
  {
   "cell_type": "code",
   "execution_count": 34,
   "id": "fb8201da",
   "metadata": {},
   "outputs": [],
   "source": [
    "# match()\n",
    "\n",
    "# re.match(pattern, string)\n",
    "# it finds the pattern at the beginning of the string only\n",
    "# If the pattern is found, it returns 'match object', else it returns None"
   ]
  },
  {
   "cell_type": "code",
   "execution_count": 35,
   "id": "6fc8b579",
   "metadata": {},
   "outputs": [
    {
     "data": {
      "text/plain": [
       "\"Python3 is a programming language\\nPython3\\npppam\\n.We are learnning python3\\nWe have completed our assignments\\nlearn python\\nmylearn A2\\nlearn2,python\\nAssignments are submitted to learnbay8thmar24@gmail.com\\nMy phone number is      91-9876543210\\na123-456-7890 Py3 learn\\nIP address is 192.100.76.24\\n192.101.77.20\\nlearn_bay\\nlearn-bay\\nJonathan25@gmail.com\\nWhat are the topics left?\\nJohn lives in Sweden \\nwhatever.\\\\com\\nabc@learnbay.com\\njohn123@yahoo.in\\npython2\\nABC .inc\\nlet's learn- RegEx\\npython34\\n192.100.190.111\\nHe says, letting me work, buddy!\\nxyz-id.12@gmail.com\\nxyz-id-12@gmail.com_char\\n333.333.333.333\\nxyz-id-12@gmail-com\\nxyz-id_12@domain.whatever\\n-@gmail.com\\n.@gmail.com\\n_@gmail.com\\n_-@gmail.com\\nWhat about learn\\t?\\nlearn^56\\nlearn.\\nmylearning\""
      ]
     },
     "execution_count": 35,
     "metadata": {},
     "output_type": "execute_result"
    }
   ],
   "source": [
    "contents"
   ]
  },
  {
   "cell_type": "code",
   "execution_count": 36,
   "id": "ea3d63d8",
   "metadata": {},
   "outputs": [
    {
     "name": "stdout",
     "output_type": "stream",
     "text": [
      "<re.Match object; span=(0, 6), match='Python'>\n"
     ]
    }
   ],
   "source": [
    "pattern = r'Python'\n",
    "mat = re.match(pattern, contents)\n",
    "print(mat)"
   ]
  },
  {
   "cell_type": "code",
   "execution_count": 37,
   "id": "419141e9",
   "metadata": {},
   "outputs": [
    {
     "data": {
      "text/plain": [
       "re.Match"
      ]
     },
     "execution_count": 37,
     "metadata": {},
     "output_type": "execute_result"
    }
   ],
   "source": [
    "type(mat)"
   ]
  },
  {
   "cell_type": "code",
   "execution_count": null,
   "id": "99a25894",
   "metadata": {},
   "outputs": [],
   "source": []
  },
  {
   "cell_type": "code",
   "execution_count": 39,
   "id": "1d0d2b8e",
   "metadata": {},
   "outputs": [
    {
     "name": "stdout",
     "output_type": "stream",
     "text": [
      "Python3 is a programming language\n",
      "Python3\n",
      "pppam\n",
      ".We are learnning python3\n",
      "We have completed our assignments\n",
      "learn python\n",
      "mylearn A2\n",
      "learn2,python\n",
      "Assignments are submitted to learnbay8thmar24@gmail.com\n",
      "My phone number is      91-9876543210\n",
      "a123-456-7890 Py3 learn\n",
      "IP address is 192.100.76.24\n",
      "192.101.77.20\n",
      "learn_bay\n",
      "learn-bay\n",
      "Jonathan25@gmail.com\n",
      "What are the topics left?\n",
      "John lives in Sweden \n",
      "whatever.\\com\n",
      "abc@learnbay.com\n",
      "john123@yahoo.in\n",
      "python2\n",
      "ABC .inc\n",
      "let's learn- RegEx\n",
      "python34\n",
      "192.100.190.111\n",
      "He says, letting me work, buddy!\n",
      "xyz-id.12@gmail.com\n",
      "xyz-id-12@gmail.com_char\n",
      "333.333.333.333\n",
      "xyz-id-12@gmail-com\n",
      "xyz-id_12@domain.whatever\n",
      "-@gmail.com\n",
      ".@gmail.com\n",
      "_@gmail.com\n",
      "_-@gmail.com\n",
      "What about learn\t?\n",
      "learn^56\n",
      "learn.\n",
      "mylearning\n",
      "========\n",
      "<re.Match object; span=(0, 7), match='Python3'>\n"
     ]
    }
   ],
   "source": [
    "with open('regex_file.txt', 'rt') as fh:\n",
    "    contents = fh.read()\n",
    "    \n",
    "\n",
    "print(contents)\n",
    "print(\"========\")\n",
    "\n",
    "pattern = r'Python3'\n",
    "mat = re.match(pattern, contents)\n",
    "print(mat)"
   ]
  },
  {
   "cell_type": "code",
   "execution_count": 40,
   "id": "ca59447d",
   "metadata": {},
   "outputs": [
    {
     "data": {
      "text/plain": [
       "\"Python3 is a programming language\\nPython3\\npppam\\n.We are learnning python3\\nWe have completed our assignments\\nlearn python\\nmylearn A2\\nlearn2,python\\nAssignments are submitted to learnbay8thmar24@gmail.com\\nMy phone number is      91-9876543210\\na123-456-7890 Py3 learn\\nIP address is 192.100.76.24\\n192.101.77.20\\nlearn_bay\\nlearn-bay\\nJonathan25@gmail.com\\nWhat are the topics left?\\nJohn lives in Sweden \\nwhatever.\\\\com\\nabc@learnbay.com\\njohn123@yahoo.in\\npython2\\nABC .inc\\nlet's learn- RegEx\\npython34\\n192.100.190.111\\nHe says, letting me work, buddy!\\nxyz-id.12@gmail.com\\nxyz-id-12@gmail.com_char\\n333.333.333.333\\nxyz-id-12@gmail-com\\nxyz-id_12@domain.whatever\\n-@gmail.com\\n.@gmail.com\\n_@gmail.com\\n_-@gmail.com\\nWhat about learn\\t?\\nlearn^56\\nlearn.\\nmylearning\""
      ]
     },
     "execution_count": 40,
     "metadata": {},
     "output_type": "execute_result"
    }
   ],
   "source": [
    "contents"
   ]
  },
  {
   "cell_type": "code",
   "execution_count": 41,
   "id": "8d9d4168",
   "metadata": {},
   "outputs": [
    {
     "name": "stdout",
     "output_type": "stream",
     "text": [
      "None\n"
     ]
    }
   ],
   "source": [
    "with open('regex_file.txt', 'rt') as fh:\n",
    "    contents = fh.read()\n",
    "    \n",
    "pattern = r'language'\n",
    "mat = re.match(pattern, contents)\n",
    "print(mat)"
   ]
  },
  {
   "cell_type": "code",
   "execution_count": null,
   "id": "f8daf5bf",
   "metadata": {},
   "outputs": [],
   "source": []
  },
  {
   "cell_type": "code",
   "execution_count": 42,
   "id": "0ddebdf9",
   "metadata": {},
   "outputs": [],
   "source": [
    "# search()\n",
    "\n",
    "# re.search(pattern, string)\n",
    "\n",
    "# it finds/searches the first occurance of the pattern in the entire string\n",
    "# if the pattern is found, it returns a match object, else returns None"
   ]
  },
  {
   "cell_type": "code",
   "execution_count": 43,
   "id": "d0162012",
   "metadata": {},
   "outputs": [
    {
     "name": "stdout",
     "output_type": "stream",
     "text": [
      "<re.Match object; span=(25, 33), match='language'>\n"
     ]
    }
   ],
   "source": [
    "with open('regex_file.txt', 'rt') as fh:\n",
    "    contents = fh.read()\n",
    "    \n",
    "pattern = r'language'\n",
    "mat = re.search(pattern, contents)\n",
    "print(mat)"
   ]
  },
  {
   "cell_type": "code",
   "execution_count": 44,
   "id": "4d3ab0d5",
   "metadata": {},
   "outputs": [
    {
     "data": {
      "text/plain": [
       "\"Python3 is a programming language\\nPython3\\npppam\\n.We are learnning python3\\nWe have completed our assignments\\nlearn python\\nmylearn A2\\nlearn2,python\\nAssignments are submitted to learnbay8thmar24@gmail.com\\nMy phone number is      91-9876543210\\na123-456-7890 Py3 learn\\nIP address is 192.100.76.24\\n192.101.77.20\\nlearn_bay\\nlearn-bay\\nJonathan25@gmail.com\\nWhat are the topics left?\\nJohn lives in Sweden \\nwhatever.\\\\com\\nabc@learnbay.com\\njohn123@yahoo.in\\npython2\\nABC .inc\\nlet's learn- RegEx\\npython34\\n192.100.190.111\\nHe says, letting me work, buddy!\\nxyz-id.12@gmail.com\\nxyz-id-12@gmail.com_char\\n333.333.333.333\\nxyz-id-12@gmail-com\\nxyz-id_12@domain.whatever\\n-@gmail.com\\n.@gmail.com\\n_@gmail.com\\n_-@gmail.com\\nWhat about learn\\t?\\nlearn^56\\nlearn.\\nmylearning\""
      ]
     },
     "execution_count": 44,
     "metadata": {},
     "output_type": "execute_result"
    }
   ],
   "source": [
    "contents"
   ]
  },
  {
   "cell_type": "code",
   "execution_count": 45,
   "id": "105d2642",
   "metadata": {},
   "outputs": [
    {
     "data": {
      "text/plain": [
       "(25, 33)"
      ]
     },
     "execution_count": 45,
     "metadata": {},
     "output_type": "execute_result"
    }
   ],
   "source": [
    "mat.span()"
   ]
  },
  {
   "cell_type": "code",
   "execution_count": 46,
   "id": "a74018dd",
   "metadata": {},
   "outputs": [
    {
     "data": {
      "text/plain": [
       "25"
      ]
     },
     "execution_count": 46,
     "metadata": {},
     "output_type": "execute_result"
    }
   ],
   "source": [
    "mat.start()"
   ]
  },
  {
   "cell_type": "code",
   "execution_count": 47,
   "id": "116c53e6",
   "metadata": {},
   "outputs": [
    {
     "data": {
      "text/plain": [
       "33"
      ]
     },
     "execution_count": 47,
     "metadata": {},
     "output_type": "execute_result"
    }
   ],
   "source": [
    "mat.end()"
   ]
  },
  {
   "cell_type": "code",
   "execution_count": 48,
   "id": "9a4de88e",
   "metadata": {},
   "outputs": [
    {
     "data": {
      "text/plain": [
       "'language'"
      ]
     },
     "execution_count": 48,
     "metadata": {},
     "output_type": "execute_result"
    }
   ],
   "source": [
    "mat.group()"
   ]
  },
  {
   "cell_type": "code",
   "execution_count": 49,
   "id": "42a20103",
   "metadata": {},
   "outputs": [
    {
     "data": {
      "text/plain": [
       "\"Python3 is a programming language\\nPython3\\npppam\\n.We are learnning python3\\nWe have completed our assignments\\nlearn python\\nmylearn A2\\nlearn2,python\\nAssignments are submitted to learnbay8thmar24@gmail.com\\nMy phone number is      91-9876543210\\na123-456-7890 Py3 learn\\nIP address is 192.100.76.24\\n192.101.77.20\\nlearn_bay\\nlearn-bay\\nJonathan25@gmail.com\\nWhat are the topics left?\\nJohn lives in Sweden \\nwhatever.\\\\com\\nabc@learnbay.com\\njohn123@yahoo.in\\npython2\\nABC .inc\\nlet's learn- RegEx\\npython34\\n192.100.190.111\\nHe says, letting me work, buddy!\\nxyz-id.12@gmail.com\\nxyz-id-12@gmail.com_char\\n333.333.333.333\\nxyz-id-12@gmail-com\\nxyz-id_12@domain.whatever\\n-@gmail.com\\n.@gmail.com\\n_@gmail.com\\n_-@gmail.com\\nWhat about learn\\t?\\nlearn^56\\nlearn.\\nmylearning\""
      ]
     },
     "execution_count": 49,
     "metadata": {},
     "output_type": "execute_result"
    }
   ],
   "source": [
    "contents"
   ]
  },
  {
   "cell_type": "code",
   "execution_count": 50,
   "id": "090d9d7f",
   "metadata": {},
   "outputs": [
    {
     "name": "stdout",
     "output_type": "stream",
     "text": [
      "<re.Match object; span=(66, 72), match='python'>\n"
     ]
    }
   ],
   "source": [
    "with open('regex_file.txt', 'rt') as fh:\n",
    "    contents = fh.read()\n",
    "    \n",
    "pattern = r'python'\n",
    "mat = re.search(pattern, contents)\n",
    "print(mat)"
   ]
  },
  {
   "cell_type": "code",
   "execution_count": 51,
   "id": "f867996c",
   "metadata": {},
   "outputs": [
    {
     "name": "stdout",
     "output_type": "stream",
     "text": [
      "None\n"
     ]
    }
   ],
   "source": [
    "with open('regex_file.txt', 'rt') as fh:\n",
    "    contents = fh.read()\n",
    "    \n",
    "pattern = r'python'\n",
    "mat = re.match(pattern, contents)\n",
    "print(mat)"
   ]
  },
  {
   "cell_type": "code",
   "execution_count": 52,
   "id": "f195ff3c",
   "metadata": {},
   "outputs": [
    {
     "name": "stdout",
     "output_type": "stream",
     "text": [
      "<re.Match object; span=(0, 1), match='P'>\n"
     ]
    }
   ],
   "source": [
    "with open('regex_file.txt', 'rt') as fh:\n",
    "    contents = fh.read()\n",
    "    \n",
    "pattern = r'[A-Z]' # match any character between A and Z (1 char)\n",
    "mat = re.search(pattern, contents)\n",
    "print(mat)"
   ]
  },
  {
   "cell_type": "code",
   "execution_count": 53,
   "id": "21d3cd77",
   "metadata": {},
   "outputs": [
    {
     "name": "stdout",
     "output_type": "stream",
     "text": [
      "<re.Match object; span=(1, 2), match='y'>\n"
     ]
    }
   ],
   "source": [
    "with open('regex_file.txt', 'rt') as fh:\n",
    "    contents = fh.read()\n",
    "    \n",
    "pattern = r'[a-z]' # match any character between a and z (1 char)\n",
    "mat = re.search(pattern, contents)\n",
    "print(mat)"
   ]
  },
  {
   "cell_type": "code",
   "execution_count": 54,
   "id": "6e1a92be",
   "metadata": {},
   "outputs": [
    {
     "name": "stdout",
     "output_type": "stream",
     "text": [
      "<re.Match object; span=(264, 266), match='IP'>\n"
     ]
    }
   ],
   "source": [
    "with open('regex_file.txt', 'rt') as fh:\n",
    "    contents = fh.read()\n",
    "    \n",
    "pattern = r'[A-Z][A-Z]'\n",
    "mat = re.search(pattern, contents)\n",
    "print(mat)"
   ]
  },
  {
   "cell_type": "code",
   "execution_count": 55,
   "id": "7ff1c9ef",
   "metadata": {},
   "outputs": [
    {
     "name": "stdout",
     "output_type": "stream",
     "text": [
      "<re.Match object; span=(451, 454), match='ABC'>\n"
     ]
    }
   ],
   "source": [
    "with open('regex_file.txt', 'rt') as fh:\n",
    "    contents = fh.read()\n",
    "    \n",
    "pattern = r'[A-Z][A-Z][A-Z]'\n",
    "mat = re.search(pattern, contents)\n",
    "print(mat)"
   ]
  },
  {
   "cell_type": "code",
   "execution_count": 56,
   "id": "59f4283b",
   "metadata": {},
   "outputs": [
    {
     "name": "stdout",
     "output_type": "stream",
     "text": [
      "None\n"
     ]
    }
   ],
   "source": [
    "with open('regex_file.txt', 'rt') as fh:\n",
    "    contents = fh.read()\n",
    "    \n",
    "pattern = r'[A-Z][A-Z][A-Z][A-Z]'\n",
    "mat = re.search(pattern, contents)\n",
    "print(mat)"
   ]
  },
  {
   "cell_type": "code",
   "execution_count": 57,
   "id": "cf53c6a0",
   "metadata": {},
   "outputs": [
    {
     "name": "stdout",
     "output_type": "stream",
     "text": [
      "<re.Match object; span=(0, 4), match='Pyth'>\n"
     ]
    }
   ],
   "source": [
    "with open('regex_file.txt', 'rt') as fh:\n",
    "    contents = fh.read()\n",
    "    \n",
    "pattern = r'[A-Z][a-z][a-z][a-z]' # 1 upper case char followed 3 lower case chars\n",
    "mat = re.search(pattern, contents)\n",
    "print(mat)"
   ]
  },
  {
   "cell_type": "code",
   "execution_count": 58,
   "id": "4d82137e",
   "metadata": {},
   "outputs": [
    {
     "name": "stdout",
     "output_type": "stream",
     "text": [
      "<re.Match object; span=(146, 153), match='Assignm'>\n"
     ]
    }
   ],
   "source": [
    "with open('regex_file.txt', 'rt') as fh:\n",
    "    contents = fh.read()\n",
    "    \n",
    "pattern = r'[A-Z][a-z]{6}' # 1 upper case char followed 6 lower case chars\n",
    "mat = re.search(pattern, contents)\n",
    "print(mat)"
   ]
  },
  {
   "cell_type": "code",
   "execution_count": 59,
   "id": "83feff79",
   "metadata": {},
   "outputs": [
    {
     "data": {
      "text/plain": [
       "\"Python3 is a programming language\\nPython3\\npppam\\n.We are learnning python3\\nWe have completed our assignments\\nlearn python\\nmylearn A2\\nlearn2,python\\nAssignments are submitted to learnbay8thmar24@gmail.com\\nMy phone number is      91-9876543210\\na123-456-7890 Py3 learn\\nIP address is 192.100.76.24\\n192.101.77.20\\nlearn_bay\\nlearn-bay\\nJonathan25@gmail.com\\nWhat are the topics left?\\nJohn lives in Sweden \\nwhatever.\\\\com\\nabc@learnbay.com\\njohn123@yahoo.in\\npython2\\nABC .inc\\nlet's learn- RegEx\\npython34\\n192.100.190.111\\nHe says, letting me work, buddy!\\nxyz-id.12@gmail.com\\nxyz-id-12@gmail.com_char\\n333.333.333.333\\nxyz-id-12@gmail-com\\nxyz-id_12@domain.whatever\\n-@gmail.com\\n.@gmail.com\\n_@gmail.com\\n_-@gmail.com\\nWhat about learn\\t?\\nlearn^56\\nlearn.\\nmylearning\""
      ]
     },
     "execution_count": 59,
     "metadata": {},
     "output_type": "execute_result"
    }
   ],
   "source": [
    "contents"
   ]
  },
  {
   "cell_type": "code",
   "execution_count": 60,
   "id": "f96fa1f5",
   "metadata": {},
   "outputs": [
    {
     "name": "stdout",
     "output_type": "stream",
     "text": [
      "<re.Match object; span=(13, 19), match='progra'>\n"
     ]
    }
   ],
   "source": [
    "with open('regex_file.txt', 'rt') as fh:\n",
    "    contents = fh.read()\n",
    "    \n",
    "pattern = r'[a-z]{6}' # 6 lower case chars\n",
    "mat = re.search(pattern, contents)\n",
    "print(mat)"
   ]
  },
  {
   "cell_type": "code",
   "execution_count": 61,
   "id": "530fa46e",
   "metadata": {},
   "outputs": [
    {
     "name": "stdout",
     "output_type": "stream",
     "text": [
      "<re.Match object; span=(66, 73), match='python3'>\n"
     ]
    }
   ],
   "source": [
    "with open('regex_file.txt', 'rt') as fh:\n",
    "    contents = fh.read()\n",
    "    \n",
    "pattern = r'[a-z]{6}[0-9]' # 6 lower case chars followed by 1 digit\n",
    "mat = re.search(pattern, contents)\n",
    "print(mat)"
   ]
  },
  {
   "cell_type": "code",
   "execution_count": 62,
   "id": "2f6867de",
   "metadata": {},
   "outputs": [
    {
     "name": "stdout",
     "output_type": "stream",
     "text": [
      "<re.Match object; span=(328, 336), match='nathan25'>\n"
     ]
    }
   ],
   "source": [
    "with open('regex_file.txt', 'rt') as fh:\n",
    "    contents = fh.read()\n",
    "    \n",
    "pattern = r'[a-z]{6}[0-9]{2}' # 6 lower case chars followed by 2 digits\n",
    "mat = re.search(pattern, contents)\n",
    "print(mat)"
   ]
  },
  {
   "cell_type": "code",
   "execution_count": 63,
   "id": "18a2d795",
   "metadata": {},
   "outputs": [],
   "source": [
    "# \\d => 0-9 digits"
   ]
  },
  {
   "cell_type": "code",
   "execution_count": 64,
   "id": "aa18fd30",
   "metadata": {},
   "outputs": [
    {
     "name": "stdout",
     "output_type": "stream",
     "text": [
      "<re.Match object; span=(328, 336), match='nathan25'>\n"
     ]
    }
   ],
   "source": [
    "with open('regex_file.txt', 'rt') as fh:\n",
    "    contents = fh.read()\n",
    "    \n",
    "pattern = r'[a-z]{6}\\d{2}' # 6 lower case chars followed by 2 digits\n",
    "mat = re.search(pattern, contents)\n",
    "print(mat)"
   ]
  },
  {
   "cell_type": "code",
   "execution_count": 65,
   "id": "b2acc452",
   "metadata": {},
   "outputs": [],
   "source": [
    "# +"
   ]
  },
  {
   "cell_type": "code",
   "execution_count": 66,
   "id": "3b748aa8",
   "metadata": {},
   "outputs": [
    {
     "name": "stdout",
     "output_type": "stream",
     "text": [
      "<re.Match object; span=(0, 6), match='Python'>\n"
     ]
    }
   ],
   "source": [
    "with open('regex_file.txt', 'rt') as fh:\n",
    "    contents = fh.read()\n",
    "    \n",
    "pattern = r'[A-Z][a-z]+' # 1 upper case char follwed by 1 or more lower case chars\n",
    "mat = re.search(pattern, contents)\n",
    "print(mat)"
   ]
  },
  {
   "cell_type": "code",
   "execution_count": 67,
   "id": "fd7460f5",
   "metadata": {},
   "outputs": [
    {
     "data": {
      "text/plain": [
       "\"Python3 is a programming language\\nPython3\\npppam\\n.We are learnning python3\\nWe have completed our assignments\\nlearn python\\nmylearn A2\\nlearn2,python\\nAssignments are submitted to learnbay8thmar24@gmail.com\\nMy phone number is      91-9876543210\\na123-456-7890 Py3 learn\\nIP address is 192.100.76.24\\n192.101.77.20\\nlearn_bay\\nlearn-bay\\nJonathan25@gmail.com\\nWhat are the topics left?\\nJohn lives in Sweden \\nwhatever.\\\\com\\nabc@learnbay.com\\njohn123@yahoo.in\\npython2\\nABC .inc\\nlet's learn- RegEx\\npython34\\n192.100.190.111\\nHe says, letting me work, buddy!\\nxyz-id.12@gmail.com\\nxyz-id-12@gmail.com_char\\n333.333.333.333\\nxyz-id-12@gmail-com\\nxyz-id_12@domain.whatever\\n-@gmail.com\\n.@gmail.com\\n_@gmail.com\\n_-@gmail.com\\nWhat about learn\\t?\\nlearn^56\\nlearn.\\nmylearning\""
      ]
     },
     "execution_count": 67,
     "metadata": {},
     "output_type": "execute_result"
    }
   ],
   "source": [
    "contents"
   ]
  },
  {
   "cell_type": "code",
   "execution_count": null,
   "id": "b00d89f5",
   "metadata": {},
   "outputs": [],
   "source": []
  },
  {
   "cell_type": "code",
   "execution_count": 68,
   "id": "2775af35",
   "metadata": {},
   "outputs": [],
   "source": [
    "# findall()\n",
    "\n",
    "# findall(pattern, string)\n",
    "# finds all the occurances of the pattern in the string\n",
    "# if found, it return a list of matches, else returns []"
   ]
  },
  {
   "cell_type": "code",
   "execution_count": 69,
   "id": "12375c9b",
   "metadata": {},
   "outputs": [
    {
     "data": {
      "text/plain": [
       "\"Python3 is a programming language\\nPython3\\npppam\\n.We are learnning python3\\nWe have completed our assignments\\nlearn python\\nmylearn A2\\nlearn2,python\\nAssignments are submitted to learnbay8thmar24@gmail.com\\nMy phone number is      91-9876543210\\na123-456-7890 Py3 learn\\nIP address is 192.100.76.24\\n192.101.77.20\\nlearn_bay\\nlearn-bay\\nJonathan25@gmail.com\\nWhat are the topics left?\\nJohn lives in Sweden \\nwhatever.\\\\com\\nabc@learnbay.com\\njohn123@yahoo.in\\npython2\\nABC .inc\\nlet's learn- RegEx\\npython34\\n192.100.190.111\\nHe says, letting me work, buddy!\\nxyz-id.12@gmail.com\\nxyz-id-12@gmail.com_char\\n333.333.333.333\\nxyz-id-12@gmail-com\\nxyz-id_12@domain.whatever\\n-@gmail.com\\n.@gmail.com\\n_@gmail.com\\n_-@gmail.com\\nWhat about learn\\t?\\nlearn^56\\nlearn.\\nmylearning\""
      ]
     },
     "execution_count": 69,
     "metadata": {},
     "output_type": "execute_result"
    }
   ],
   "source": [
    "contents"
   ]
  },
  {
   "cell_type": "code",
   "execution_count": 70,
   "id": "55377dca",
   "metadata": {},
   "outputs": [
    {
     "name": "stdout",
     "output_type": "stream",
     "text": [
      "['Python', 'Python', 'We', 'We', 'Assignments', 'My', 'Py', 'Jonathan', 'What', 'John', 'Sweden', 'Reg', 'Ex', 'He', 'What']\n"
     ]
    }
   ],
   "source": [
    "with open('regex_file.txt', 'rt') as fh:\n",
    "    contents = fh.read()\n",
    "    \n",
    "pattern = r'[A-Z][a-z]+' # 1 upper case char follwed by 1 or more lower case chars\n",
    "mat = re.findall(pattern, contents)\n",
    "print(mat)"
   ]
  },
  {
   "cell_type": "code",
   "execution_count": 71,
   "id": "3ceaa79c",
   "metadata": {},
   "outputs": [
    {
     "name": "stdout",
     "output_type": "stream",
     "text": [
      "['Python3', 'Python3']\n"
     ]
    }
   ],
   "source": [
    "with open('regex_file.txt', 'rt') as fh:\n",
    "    contents = fh.read()\n",
    "    \n",
    "pattern = r'Python[0-9]'\n",
    "mat = re.findall(pattern, contents)\n",
    "print(mat)"
   ]
  },
  {
   "cell_type": "code",
   "execution_count": 72,
   "id": "45ad3801",
   "metadata": {},
   "outputs": [
    {
     "data": {
      "text/plain": [
       "\"Python3 is a programming language\\nPython3\\npppam\\n.We are learnning python3\\nWe have completed our assignments\\nlearn python\\nmylearn A2\\nlearn2,python\\nAssignments are submitted to learnbay8thmar24@gmail.com\\nMy phone number is      91-9876543210\\na123-456-7890 Py3 learn\\nIP address is 192.100.76.24\\n192.101.77.20\\nlearn_bay\\nlearn-bay\\nJonathan25@gmail.com\\nWhat are the topics left?\\nJohn lives in Sweden \\nwhatever.\\\\com\\nabc@learnbay.com\\njohn123@yahoo.in\\npython2\\nABC .inc\\nlet's learn- RegEx\\npython34\\n192.100.190.111\\nHe says, letting me work, buddy!\\nxyz-id.12@gmail.com\\nxyz-id-12@gmail.com_char\\n333.333.333.333\\nxyz-id-12@gmail-com\\nxyz-id_12@domain.whatever\\n-@gmail.com\\n.@gmail.com\\n_@gmail.com\\n_-@gmail.com\\nWhat about learn\\t?\\nlearn^56\\nlearn.\\nmylearning\""
      ]
     },
     "execution_count": 72,
     "metadata": {},
     "output_type": "execute_result"
    }
   ],
   "source": [
    "contents"
   ]
  },
  {
   "cell_type": "code",
   "execution_count": 73,
   "id": "3b5bbb88",
   "metadata": {},
   "outputs": [
    {
     "name": "stdout",
     "output_type": "stream",
     "text": [
      "['onathan25']\n"
     ]
    }
   ],
   "source": [
    "with open('regex_file.txt', 'rt') as fh:\n",
    "    contents = fh.read()\n",
    "    \n",
    "pattern = r'[a-z]{7}\\d{2}'\n",
    "mat = re.findall(pattern, contents)\n",
    "print(mat)"
   ]
  },
  {
   "cell_type": "code",
   "execution_count": 74,
   "id": "1dbcd19e",
   "metadata": {},
   "outputs": [
    {
     "name": "stdout",
     "output_type": "stream",
     "text": [
      "['thmar24', 'athan25', 'ython34']\n"
     ]
    }
   ],
   "source": [
    "with open('regex_file.txt', 'rt') as fh:\n",
    "    contents = fh.read()\n",
    "    \n",
    "pattern = r'[a-z]{5}\\d{2}'\n",
    "mat = re.findall(pattern, contents)\n",
    "print(mat)"
   ]
  },
  {
   "cell_type": "code",
   "execution_count": 75,
   "id": "b6e138ec",
   "metadata": {},
   "outputs": [
    {
     "name": "stdout",
     "output_type": "stream",
     "text": [
      "['learn2', 'learnbay8']\n"
     ]
    }
   ],
   "source": [
    "with open('regex_file.txt', 'rt') as fh:\n",
    "    contents = fh.read()\n",
    "    \n",
    "pattern = r'l[a-z]+\\d'\n",
    "mat = re.findall(pattern, contents)\n",
    "print(mat)"
   ]
  },
  {
   "cell_type": "code",
   "execution_count": 76,
   "id": "824134d3",
   "metadata": {},
   "outputs": [
    {
     "data": {
      "text/plain": [
       "\"Python3 is a programming language\\nPython3\\npppam\\n.We are learnning python3\\nWe have completed our assignments\\nlearn python\\nmylearn A2\\nlearn2,python\\nAssignments are submitted to learnbay8thmar24@gmail.com\\nMy phone number is      91-9876543210\\na123-456-7890 Py3 learn\\nIP address is 192.100.76.24\\n192.101.77.20\\nlearn_bay\\nlearn-bay\\nJonathan25@gmail.com\\nWhat are the topics left?\\nJohn lives in Sweden \\nwhatever.\\\\com\\nabc@learnbay.com\\njohn123@yahoo.in\\npython2\\nABC .inc\\nlet's learn- RegEx\\npython34\\n192.100.190.111\\nHe says, letting me work, buddy!\\nxyz-id.12@gmail.com\\nxyz-id-12@gmail.com_char\\n333.333.333.333\\nxyz-id-12@gmail-com\\nxyz-id_12@domain.whatever\\n-@gmail.com\\n.@gmail.com\\n_@gmail.com\\n_-@gmail.com\\nWhat about learn\\t?\\nlearn^56\\nlearn.\\nmylearning\""
      ]
     },
     "execution_count": 76,
     "metadata": {},
     "output_type": "execute_result"
    }
   ],
   "source": [
    "contents"
   ]
  },
  {
   "cell_type": "code",
   "execution_count": 77,
   "id": "218f26e7",
   "metadata": {},
   "outputs": [
    {
     "name": "stdout",
     "output_type": "stream",
     "text": [
      "['langu', 'learn', 'leted', 'learn', 'learn', 'learn', 'learn', 'learn', 'learn', 'learn', 'lives', 'learn', 'learn', 'letti', 'learn', 'learn', 'learn', 'learn']\n"
     ]
    }
   ],
   "source": [
    "with open('regex_file.txt', 'rt') as fh:\n",
    "    contents = fh.read()\n",
    "    \n",
    "pattern = r'l[a-z]{4}'\n",
    "mat = re.findall(pattern, contents)\n",
    "print(mat)"
   ]
  },
  {
   "cell_type": "code",
   "execution_count": 78,
   "id": "1d15ae89",
   "metadata": {},
   "outputs": [
    {
     "data": {
      "text/plain": [
       "18"
      ]
     },
     "execution_count": 78,
     "metadata": {},
     "output_type": "execute_result"
    }
   ],
   "source": [
    "len(mat)"
   ]
  },
  {
   "cell_type": "code",
   "execution_count": null,
   "id": "9ef59943",
   "metadata": {},
   "outputs": [],
   "source": []
  },
  {
   "cell_type": "code",
   "execution_count": 79,
   "id": "b96e4d85",
   "metadata": {},
   "outputs": [],
   "source": [
    "# finditer\n",
    "\n",
    "# re.finditer(pattern, string)\n",
    "# it finds all the occurances of the pattern in the string\n",
    "\n",
    "# if found, it returns an iterator of all the match objects of the matches\n",
    "# if not found, it retuns empty iterator"
   ]
  },
  {
   "cell_type": "code",
   "execution_count": 80,
   "id": "f34f4303",
   "metadata": {},
   "outputs": [
    {
     "name": "stdout",
     "output_type": "stream",
     "text": [
      "<callable_iterator object at 0x0000021086A1C3A0>\n"
     ]
    }
   ],
   "source": [
    "with open('regex_file.txt', 'rt') as fh:\n",
    "    contents = fh.read()\n",
    "    \n",
    "pattern = r'l[a-z]{4}'\n",
    "mat = re.finditer(pattern, contents)\n",
    "print(mat)"
   ]
  },
  {
   "cell_type": "code",
   "execution_count": 81,
   "id": "195e6239",
   "metadata": {},
   "outputs": [
    {
     "ename": "AttributeError",
     "evalue": "'callable_iterator' object has no attribute 'group'",
     "output_type": "error",
     "traceback": [
      "\u001b[1;31m---------------------------------------------------------------------------\u001b[0m",
      "\u001b[1;31mAttributeError\u001b[0m                            Traceback (most recent call last)",
      "Cell \u001b[1;32mIn[81], line 6\u001b[0m\n\u001b[0;32m      4\u001b[0m pattern \u001b[38;5;241m=\u001b[39m \u001b[38;5;124mr\u001b[39m\u001b[38;5;124m'\u001b[39m\u001b[38;5;124ml[a-z]\u001b[39m\u001b[38;5;132;01m{4}\u001b[39;00m\u001b[38;5;124m'\u001b[39m\n\u001b[0;32m      5\u001b[0m mat \u001b[38;5;241m=\u001b[39m re\u001b[38;5;241m.\u001b[39mfinditer(pattern, contents)\n\u001b[1;32m----> 6\u001b[0m \u001b[38;5;28mprint\u001b[39m(mat\u001b[38;5;241m.\u001b[39mgroup())\n",
      "\u001b[1;31mAttributeError\u001b[0m: 'callable_iterator' object has no attribute 'group'"
     ]
    }
   ],
   "source": [
    "with open('regex_file.txt', 'rt') as fh:\n",
    "    contents = fh.read()\n",
    "    \n",
    "pattern = r'l[a-z]{4}'\n",
    "mat = re.finditer(pattern, contents)\n",
    "print(mat.group())"
   ]
  },
  {
   "cell_type": "code",
   "execution_count": 82,
   "id": "707c23cc",
   "metadata": {},
   "outputs": [
    {
     "name": "stdout",
     "output_type": "stream",
     "text": [
      "<re.Match object; span=(25, 30), match='langu'>\n",
      "<re.Match object; span=(56, 61), match='learn'>\n",
      "<re.Match object; span=(86, 91), match='leted'>\n",
      "<re.Match object; span=(108, 113), match='learn'>\n",
      "<re.Match object; span=(123, 128), match='learn'>\n",
      "<re.Match object; span=(132, 137), match='learn'>\n",
      "<re.Match object; span=(175, 180), match='learn'>\n",
      "<re.Match object; span=(258, 263), match='learn'>\n",
      "<re.Match object; span=(306, 311), match='learn'>\n",
      "<re.Match object; span=(316, 321), match='learn'>\n",
      "<re.Match object; span=(378, 383), match='lives'>\n",
      "<re.Match object; span=(413, 418), match='learn'>\n",
      "<re.Match object; span=(466, 471), match='learn'>\n",
      "<re.Match object; span=(513, 518), match='letti'>\n",
      "<re.Match object; span=(704, 709), match='learn'>\n",
      "<re.Match object; span=(712, 717), match='learn'>\n",
      "<re.Match object; span=(721, 726), match='learn'>\n",
      "<re.Match object; span=(730, 735), match='learn'>\n"
     ]
    }
   ],
   "source": [
    "with open('regex_file.txt', 'rt') as fh:\n",
    "    contents = fh.read()\n",
    "    \n",
    "pattern = r'l[a-z]{4}'\n",
    "mat = re.finditer(pattern, contents)\n",
    "for m in mat:\n",
    "    print(m)"
   ]
  },
  {
   "cell_type": "code",
   "execution_count": 83,
   "id": "20a74dca",
   "metadata": {},
   "outputs": [
    {
     "data": {
      "text/plain": [
       "\"Python3 is a programming language\\nPython3\\npppam\\n.We are learnning python3\\nWe have completed our assignments\\nlearn python\\nmylearn A2\\nlearn2,python\\nAssignments are submitted to learnbay8thmar24@gmail.com\\nMy phone number is      91-9876543210\\na123-456-7890 Py3 learn\\nIP address is 192.100.76.24\\n192.101.77.20\\nlearn_bay\\nlearn-bay\\nJonathan25@gmail.com\\nWhat are the topics left?\\nJohn lives in Sweden \\nwhatever.\\\\com\\nabc@learnbay.com\\njohn123@yahoo.in\\npython2\\nABC .inc\\nlet's learn- RegEx\\npython34\\n192.100.190.111\\nHe says, letting me work, buddy!\\nxyz-id.12@gmail.com\\nxyz-id-12@gmail.com_char\\n333.333.333.333\\nxyz-id-12@gmail-com\\nxyz-id_12@domain.whatever\\n-@gmail.com\\n.@gmail.com\\n_@gmail.com\\n_-@gmail.com\\nWhat about learn\\t?\\nlearn^56\\nlearn.\\nmylearning\""
      ]
     },
     "execution_count": 83,
     "metadata": {},
     "output_type": "execute_result"
    }
   ],
   "source": [
    "contents"
   ]
  },
  {
   "cell_type": "code",
   "execution_count": 84,
   "id": "8426f888",
   "metadata": {},
   "outputs": [
    {
     "name": "stdout",
     "output_type": "stream",
     "text": [
      "<re.Match object; span=(1, 7), match='ython3'>\n",
      "<re.Match object; span=(35, 41), match='ython3'>\n",
      "<re.Match object; span=(66, 73), match='python3'>\n",
      "<re.Match object; span=(132, 138), match='learn2'>\n",
      "<re.Match object; span=(175, 184), match='learnbay8'>\n",
      "<re.Match object; span=(184, 191), match='thmar24'>\n",
      "<re.Match object; span=(240, 244), match='a123'>\n",
      "<re.Match object; span=(255, 257), match='y3'>\n",
      "<re.Match object; span=(327, 336), match='onathan25'>\n",
      "<re.Match object; span=(426, 433), match='john123'>\n",
      "<re.Match object; span=(443, 450), match='python2'>\n",
      "<re.Match object; span=(479, 487), match='python34'>\n"
     ]
    }
   ],
   "source": [
    "with open('regex_file.txt', 'rt') as fh:\n",
    "    contents = fh.read()\n",
    "    \n",
    "pattern = r'[a-z]+\\d+'\n",
    "mat = re.finditer(pattern, contents)\n",
    "for m in mat:\n",
    "    print(m)"
   ]
  },
  {
   "cell_type": "code",
   "execution_count": 85,
   "id": "66a97f16",
   "metadata": {},
   "outputs": [],
   "source": [
    "# .       - Any Character Except New Line"
   ]
  },
  {
   "cell_type": "code",
   "execution_count": 86,
   "id": "81b44f66",
   "metadata": {},
   "outputs": [
    {
     "name": "stdout",
     "output_type": "stream",
     "text": [
      "<re.Match object; span=(56, 61), match='learn'>\n",
      "<re.Match object; span=(108, 113), match='learn'>\n",
      "<re.Match object; span=(123, 128), match='learn'>\n",
      "<re.Match object; span=(132, 137), match='learn'>\n",
      "<re.Match object; span=(175, 180), match='learn'>\n",
      "<re.Match object; span=(258, 263), match='learn'>\n",
      "<re.Match object; span=(306, 311), match='learn'>\n",
      "<re.Match object; span=(316, 321), match='learn'>\n",
      "<re.Match object; span=(413, 418), match='learn'>\n",
      "<re.Match object; span=(466, 471), match='learn'>\n",
      "<re.Match object; span=(704, 709), match='learn'>\n",
      "<re.Match object; span=(712, 717), match='learn'>\n",
      "<re.Match object; span=(721, 726), match='learn'>\n",
      "<re.Match object; span=(730, 735), match='learn'>\n"
     ]
    }
   ],
   "source": [
    "with open('regex_file.txt', 'rt') as fh:\n",
    "    contents = fh.read()\n",
    "    \n",
    "pattern = r'learn'\n",
    "mat = re.finditer(pattern, contents)\n",
    "for m in mat:\n",
    "    print(m)"
   ]
  },
  {
   "cell_type": "code",
   "execution_count": 87,
   "id": "07c7e9dc",
   "metadata": {},
   "outputs": [
    {
     "data": {
      "text/plain": [
       "\"Python3 is a programming language\\nPython3\\npppam\\n.We are learnning python3\\nWe have completed our assignments\\nlearn python\\nmylearn A2\\nlearn2,python\\nAssignments are submitted to learnbay8thmar24@gmail.com\\nMy phone number is      91-9876543210\\na123-456-7890 Py3 learn\\nIP address is 192.100.76.24\\n192.101.77.20\\nlearn_bay\\nlearn-bay\\nJonathan25@gmail.com\\nWhat are the topics left?\\nJohn lives in Sweden \\nwhatever.\\\\com\\nabc@learnbay.com\\njohn123@yahoo.in\\npython2\\nABC .inc\\nlet's learn- RegEx\\npython34\\n192.100.190.111\\nHe says, letting me work, buddy!\\nxyz-id.12@gmail.com\\nxyz-id-12@gmail.com_char\\n333.333.333.333\\nxyz-id-12@gmail-com\\nxyz-id_12@domain.whatever\\n-@gmail.com\\n.@gmail.com\\n_@gmail.com\\n_-@gmail.com\\nWhat about learn\\t?\\nlearn^56\\nlearn.\\nmylearning\""
      ]
     },
     "execution_count": 87,
     "metadata": {},
     "output_type": "execute_result"
    }
   ],
   "source": [
    "contents"
   ]
  },
  {
   "cell_type": "code",
   "execution_count": 88,
   "id": "bb9434e5",
   "metadata": {},
   "outputs": [
    {
     "name": "stdout",
     "output_type": "stream",
     "text": [
      "<re.Match object; span=(56, 62), match='learnn'>\n",
      "<re.Match object; span=(108, 114), match='learn '>\n",
      "<re.Match object; span=(123, 129), match='learn '>\n",
      "<re.Match object; span=(132, 138), match='learn2'>\n",
      "<re.Match object; span=(175, 181), match='learnb'>\n",
      "<re.Match object; span=(306, 312), match='learn_'>\n",
      "<re.Match object; span=(316, 322), match='learn-'>\n",
      "<re.Match object; span=(413, 419), match='learnb'>\n",
      "<re.Match object; span=(466, 472), match='learn-'>\n",
      "<re.Match object; span=(704, 710), match='learn\\t'>\n",
      "<re.Match object; span=(712, 718), match='learn^'>\n",
      "<re.Match object; span=(721, 727), match='learn.'>\n",
      "<re.Match object; span=(730, 736), match='learni'>\n"
     ]
    }
   ],
   "source": [
    "with open('regex_file.txt', 'rt') as fh:\n",
    "    contents = fh.read()\n",
    "    \n",
    "pattern = r'learn.'\n",
    "mat = re.finditer(pattern, contents)\n",
    "for m in mat:\n",
    "    print(m)"
   ]
  },
  {
   "cell_type": "code",
   "execution_count": 89,
   "id": "916a6499",
   "metadata": {},
   "outputs": [
    {
     "name": "stdout",
     "output_type": "stream",
     "text": [
      "<re.Match object; span=(721, 727), match='learn.'>\n"
     ]
    }
   ],
   "source": [
    "with open('regex_file.txt', 'rt') as fh:\n",
    "    contents = fh.read()\n",
    "    \n",
    "pattern = r'learn\\.'\n",
    "mat = re.finditer(pattern, contents)\n",
    "for m in mat:\n",
    "    print(m)"
   ]
  },
  {
   "cell_type": "code",
   "execution_count": 90,
   "id": "c2e3a9bb",
   "metadata": {},
   "outputs": [
    {
     "name": "stdout",
     "output_type": "stream",
     "text": [
      "<re.Match object; span=(721, 727), match='learn.'>\n"
     ]
    }
   ],
   "source": [
    "with open('regex_file.txt', 'rt') as fh:\n",
    "    contents = fh.read()\n",
    "    \n",
    "pattern = r'learn[.]'\n",
    "mat = re.finditer(pattern, contents)\n",
    "for m in mat:\n",
    "    print(m)"
   ]
  },
  {
   "cell_type": "code",
   "execution_count": 91,
   "id": "0274022f",
   "metadata": {},
   "outputs": [],
   "source": [
    "# \\D      - Not a Digit (0-9)"
   ]
  },
  {
   "cell_type": "code",
   "execution_count": 93,
   "id": "1cfab2f4",
   "metadata": {},
   "outputs": [
    {
     "name": "stdout",
     "output_type": "stream",
     "text": [
      "<re.Match object; span=(132, 138), match='learn2'>\n"
     ]
    }
   ],
   "source": [
    "with open('regex_file.txt', 'rt') as fh:\n",
    "    contents = fh.read()\n",
    "    \n",
    "pattern = r'learn\\d'\n",
    "mat = re.finditer(pattern, contents)\n",
    "for m in mat:\n",
    "    print(m)"
   ]
  },
  {
   "cell_type": "code",
   "execution_count": 94,
   "id": "40fc2d10",
   "metadata": {},
   "outputs": [
    {
     "name": "stdout",
     "output_type": "stream",
     "text": [
      "<re.Match object; span=(56, 62), match='learnn'>\n",
      "<re.Match object; span=(108, 114), match='learn '>\n",
      "<re.Match object; span=(123, 129), match='learn '>\n",
      "<re.Match object; span=(175, 181), match='learnb'>\n",
      "<re.Match object; span=(258, 264), match='learn\\n'>\n",
      "<re.Match object; span=(306, 312), match='learn_'>\n",
      "<re.Match object; span=(316, 322), match='learn-'>\n",
      "<re.Match object; span=(413, 419), match='learnb'>\n",
      "<re.Match object; span=(466, 472), match='learn-'>\n",
      "<re.Match object; span=(704, 710), match='learn\\t'>\n",
      "<re.Match object; span=(712, 718), match='learn^'>\n",
      "<re.Match object; span=(721, 727), match='learn.'>\n",
      "<re.Match object; span=(730, 736), match='learni'>\n"
     ]
    }
   ],
   "source": [
    "with open('regex_file.txt', 'rt') as fh:\n",
    "    contents = fh.read()\n",
    "    \n",
    "pattern = r'learn\\D'\n",
    "mat = re.finditer(pattern, contents)\n",
    "for m in mat:\n",
    "    print(m)"
   ]
  },
  {
   "cell_type": "code",
   "execution_count": 95,
   "id": "04cfe629",
   "metadata": {},
   "outputs": [
    {
     "data": {
      "text/plain": [
       "\"Python3 is a programming language\\nPython3\\npppam\\n.We are learnning python3\\nWe have completed our assignments\\nlearn python\\nmylearn A2\\nlearn2,python\\nAssignments are submitted to learnbay8thmar24@gmail.com\\nMy phone number is      91-9876543210\\na123-456-7890 Py3 learn\\nIP address is 192.100.76.24\\n192.101.77.20\\nlearn_bay\\nlearn-bay\\nJonathan25@gmail.com\\nWhat are the topics left?\\nJohn lives in Sweden \\nwhatever.\\\\com\\nabc@learnbay.com\\njohn123@yahoo.in\\npython2\\nABC .inc\\nlet's learn- RegEx\\npython34\\n192.100.190.111\\nHe says, letting me work, buddy!\\nxyz-id.12@gmail.com\\nxyz-id-12@gmail.com_char\\n333.333.333.333\\nxyz-id-12@gmail-com\\nxyz-id_12@domain.whatever\\n-@gmail.com\\n.@gmail.com\\n_@gmail.com\\n_-@gmail.com\\nWhat about learn\\t?\\nlearn^56\\nlearn.\\nmylearning\""
      ]
     },
     "execution_count": 95,
     "metadata": {},
     "output_type": "execute_result"
    }
   ],
   "source": [
    "contents"
   ]
  },
  {
   "cell_type": "code",
   "execution_count": 96,
   "id": "a7169d1c",
   "metadata": {},
   "outputs": [
    {
     "name": "stdout",
     "output_type": "stream",
     "text": [
      "<re.Match object; span=(56, 73), match='learnning python3'>\n",
      "<re.Match object; span=(108, 120), match='learn python'>\n",
      "<re.Match object; span=(123, 131), match='learn A2'>\n",
      "<re.Match object; span=(132, 145), match='learn2,python'>\n",
      "<re.Match object; span=(175, 201), match='learnbay8thmar24@gmail.com'>\n",
      "<re.Match object; span=(306, 315), match='learn_bay'>\n",
      "<re.Match object; span=(316, 325), match='learn-bay'>\n",
      "<re.Match object; span=(413, 425), match='learnbay.com'>\n",
      "<re.Match object; span=(466, 478), match='learn- RegEx'>\n",
      "<re.Match object; span=(704, 711), match='learn\\t?'>\n",
      "<re.Match object; span=(712, 720), match='learn^56'>\n",
      "<re.Match object; span=(721, 727), match='learn.'>\n",
      "<re.Match object; span=(730, 738), match='learning'>\n"
     ]
    }
   ],
   "source": [
    "with open('regex_file.txt', 'rt') as fh:\n",
    "    contents = fh.read()\n",
    "    \n",
    "pattern = r'learn.+'\n",
    "mat = re.finditer(pattern, contents)\n",
    "for m in mat:\n",
    "    print(m)"
   ]
  },
  {
   "cell_type": "code",
   "execution_count": 97,
   "id": "fe4c6e78",
   "metadata": {},
   "outputs": [],
   "source": [
    "#\\w      - Alphanumeric Character (a-z, A-Z, 0-9, _)"
   ]
  },
  {
   "cell_type": "code",
   "execution_count": 98,
   "id": "7508ccde",
   "metadata": {},
   "outputs": [
    {
     "name": "stdout",
     "output_type": "stream",
     "text": [
      "<re.Match object; span=(56, 62), match='learnn'>\n",
      "<re.Match object; span=(132, 138), match='learn2'>\n",
      "<re.Match object; span=(175, 181), match='learnb'>\n",
      "<re.Match object; span=(306, 312), match='learn_'>\n",
      "<re.Match object; span=(413, 419), match='learnb'>\n",
      "<re.Match object; span=(730, 736), match='learni'>\n"
     ]
    }
   ],
   "source": [
    "with open('regex_file.txt', 'rt') as fh:\n",
    "    contents = fh.read()\n",
    "    \n",
    "pattern = r'learn\\w'\n",
    "mat = re.finditer(pattern, contents)\n",
    "for m in mat:\n",
    "    print(m)"
   ]
  },
  {
   "cell_type": "code",
   "execution_count": 99,
   "id": "252ac3e5",
   "metadata": {},
   "outputs": [],
   "source": [
    "# \\W      - Non Alphanumeric Character"
   ]
  },
  {
   "cell_type": "code",
   "execution_count": 100,
   "id": "93837dba",
   "metadata": {},
   "outputs": [
    {
     "name": "stdout",
     "output_type": "stream",
     "text": [
      "<re.Match object; span=(108, 114), match='learn '>\n",
      "<re.Match object; span=(123, 129), match='learn '>\n",
      "<re.Match object; span=(258, 264), match='learn\\n'>\n",
      "<re.Match object; span=(316, 322), match='learn-'>\n",
      "<re.Match object; span=(466, 472), match='learn-'>\n",
      "<re.Match object; span=(704, 710), match='learn\\t'>\n",
      "<re.Match object; span=(712, 718), match='learn^'>\n",
      "<re.Match object; span=(721, 727), match='learn.'>\n"
     ]
    }
   ],
   "source": [
    "with open('regex_file.txt', 'rt') as fh:\n",
    "    contents = fh.read()\n",
    "    \n",
    "pattern = r'learn\\W'\n",
    "mat = re.finditer(pattern, contents)\n",
    "for m in mat:\n",
    "    print(m)"
   ]
  },
  {
   "cell_type": "code",
   "execution_count": 101,
   "id": "27f52518",
   "metadata": {},
   "outputs": [],
   "source": [
    "#\\s      - Whitespace (space, tab, newline)"
   ]
  },
  {
   "cell_type": "code",
   "execution_count": 102,
   "id": "130dd009",
   "metadata": {},
   "outputs": [
    {
     "name": "stdout",
     "output_type": "stream",
     "text": [
      "<re.Match object; span=(108, 114), match='learn '>\n",
      "<re.Match object; span=(123, 129), match='learn '>\n",
      "<re.Match object; span=(258, 264), match='learn\\n'>\n",
      "<re.Match object; span=(704, 710), match='learn\\t'>\n"
     ]
    }
   ],
   "source": [
    "with open('regex_file.txt', 'rt') as fh:\n",
    "    contents = fh.read()\n",
    "    \n",
    "pattern = r'learn\\s'\n",
    "mat = re.finditer(pattern, contents)\n",
    "for m in mat:\n",
    "    print(m)"
   ]
  },
  {
   "cell_type": "code",
   "execution_count": 103,
   "id": "581ace48",
   "metadata": {},
   "outputs": [],
   "source": [
    "#\\S      - Not Whitespace (space, tab, newline)"
   ]
  },
  {
   "cell_type": "code",
   "execution_count": 104,
   "id": "cfe36503",
   "metadata": {},
   "outputs": [
    {
     "name": "stdout",
     "output_type": "stream",
     "text": [
      "<re.Match object; span=(56, 62), match='learnn'>\n",
      "<re.Match object; span=(132, 138), match='learn2'>\n",
      "<re.Match object; span=(175, 181), match='learnb'>\n",
      "<re.Match object; span=(306, 312), match='learn_'>\n",
      "<re.Match object; span=(316, 322), match='learn-'>\n",
      "<re.Match object; span=(413, 419), match='learnb'>\n",
      "<re.Match object; span=(466, 472), match='learn-'>\n",
      "<re.Match object; span=(712, 718), match='learn^'>\n",
      "<re.Match object; span=(721, 727), match='learn.'>\n",
      "<re.Match object; span=(730, 736), match='learni'>\n"
     ]
    }
   ],
   "source": [
    "with open('regex_file.txt', 'rt') as fh:\n",
    "    contents = fh.read()\n",
    "    \n",
    "pattern = r'learn\\S'\n",
    "mat = re.finditer(pattern, contents)\n",
    "for m in mat:\n",
    "    print(m)"
   ]
  },
  {
   "cell_type": "code",
   "execution_count": 105,
   "id": "fad8e0a4",
   "metadata": {},
   "outputs": [],
   "source": [
    "#\\b      - Word Boundary"
   ]
  },
  {
   "cell_type": "code",
   "execution_count": 106,
   "id": "ac31ac28",
   "metadata": {},
   "outputs": [
    {
     "name": "stdout",
     "output_type": "stream",
     "text": [
      "<re.Match object; span=(108, 113), match='learn'>\n",
      "<re.Match object; span=(123, 128), match='learn'>\n",
      "<re.Match object; span=(258, 263), match='learn'>\n",
      "<re.Match object; span=(316, 321), match='learn'>\n",
      "<re.Match object; span=(466, 471), match='learn'>\n",
      "<re.Match object; span=(704, 709), match='learn'>\n",
      "<re.Match object; span=(712, 717), match='learn'>\n",
      "<re.Match object; span=(721, 726), match='learn'>\n"
     ]
    }
   ],
   "source": [
    "with open('regex_file.txt', 'rt') as fh:\n",
    "    contents = fh.read()\n",
    "    \n",
    "pattern = r'learn\\b'\n",
    "mat = re.finditer(pattern, contents)\n",
    "for m in mat:\n",
    "    print(m)"
   ]
  },
  {
   "cell_type": "code",
   "execution_count": 107,
   "id": "a4c35d25",
   "metadata": {},
   "outputs": [
    {
     "data": {
      "text/plain": [
       "\"Python3 is a programming language\\nPython3\\npppam\\n.We are learnning python3\\nWe have completed our assignments\\nlearn python\\nmylearn A2\\nlearn2,python\\nAssignments are submitted to learnbay8thmar24@gmail.com\\nMy phone number is      91-9876543210\\na123-456-7890 Py3 learn\\nIP address is 192.100.76.24\\n192.101.77.20\\nlearn_bay\\nlearn-bay\\nJonathan25@gmail.com\\nWhat are the topics left?\\nJohn lives in Sweden \\nwhatever.\\\\com\\nabc@learnbay.com\\njohn123@yahoo.in\\npython2\\nABC .inc\\nlet's learn- RegEx\\npython34\\n192.100.190.111\\nHe says, letting me work, buddy!\\nxyz-id.12@gmail.com\\nxyz-id-12@gmail.com_char\\n333.333.333.333\\nxyz-id-12@gmail-com\\nxyz-id_12@domain.whatever\\n-@gmail.com\\n.@gmail.com\\n_@gmail.com\\n_-@gmail.com\\nWhat about learn\\t?\\nlearn^56\\nlearn.\\nmylearning\""
      ]
     },
     "execution_count": 107,
     "metadata": {},
     "output_type": "execute_result"
    }
   ],
   "source": [
    "contents"
   ]
  },
  {
   "cell_type": "code",
   "execution_count": 108,
   "id": "72a57c79",
   "metadata": {},
   "outputs": [
    {
     "name": "stdout",
     "output_type": "stream",
     "text": [
      "<re.Match object; span=(56, 61), match='learn'>\n",
      "<re.Match object; span=(108, 113), match='learn'>\n",
      "<re.Match object; span=(132, 137), match='learn'>\n",
      "<re.Match object; span=(175, 180), match='learn'>\n",
      "<re.Match object; span=(258, 263), match='learn'>\n",
      "<re.Match object; span=(306, 311), match='learn'>\n",
      "<re.Match object; span=(316, 321), match='learn'>\n",
      "<re.Match object; span=(413, 418), match='learn'>\n",
      "<re.Match object; span=(466, 471), match='learn'>\n",
      "<re.Match object; span=(704, 709), match='learn'>\n",
      "<re.Match object; span=(712, 717), match='learn'>\n",
      "<re.Match object; span=(721, 726), match='learn'>\n"
     ]
    }
   ],
   "source": [
    "with open('regex_file.txt', 'rt') as fh:\n",
    "    contents = fh.read()\n",
    "    \n",
    "pattern = r'\\blearn'\n",
    "mat = re.finditer(pattern, contents)\n",
    "for m in mat:\n",
    "    print(m)"
   ]
  },
  {
   "cell_type": "code",
   "execution_count": 109,
   "id": "7ca08661",
   "metadata": {},
   "outputs": [
    {
     "name": "stdout",
     "output_type": "stream",
     "text": [
      "<re.Match object; span=(108, 113), match='learn'>\n",
      "<re.Match object; span=(258, 263), match='learn'>\n",
      "<re.Match object; span=(316, 321), match='learn'>\n",
      "<re.Match object; span=(466, 471), match='learn'>\n",
      "<re.Match object; span=(704, 709), match='learn'>\n",
      "<re.Match object; span=(712, 717), match='learn'>\n",
      "<re.Match object; span=(721, 726), match='learn'>\n"
     ]
    }
   ],
   "source": [
    "with open('regex_file.txt', 'rt') as fh:\n",
    "    contents = fh.read()\n",
    "    \n",
    "pattern = r'\\blearn\\b'\n",
    "mat = re.finditer(pattern, contents)\n",
    "for m in mat:\n",
    "    print(m)"
   ]
  },
  {
   "cell_type": "code",
   "execution_count": 110,
   "id": "648970b2",
   "metadata": {},
   "outputs": [
    {
     "data": {
      "text/plain": [
       "\"Python3 is a programming language\\nPython3\\npppam\\n.We are learnning python3\\nWe have completed our assignments\\nlearn python\\nmylearn A2\\nlearn2,python\\nAssignments are submitted to learnbay8thmar24@gmail.com\\nMy phone number is      91-9876543210\\na123-456-7890 Py3 learn\\nIP address is 192.100.76.24\\n192.101.77.20\\nlearn_bay\\nlearn-bay\\nJonathan25@gmail.com\\nWhat are the topics left?\\nJohn lives in Sweden \\nwhatever.\\\\com\\nabc@learnbay.com\\njohn123@yahoo.in\\npython2\\nABC .inc\\nlet's learn- RegEx\\npython34\\n192.100.190.111\\nHe says, letting me work, buddy!\\nxyz-id.12@gmail.com\\nxyz-id-12@gmail.com_char\\n333.333.333.333\\nxyz-id-12@gmail-com\\nxyz-id_12@domain.whatever\\n-@gmail.com\\n.@gmail.com\\n_@gmail.com\\n_-@gmail.com\\nWhat about learn\\t?\\nlearn^56\\nlearn.\\nmylearning\""
      ]
     },
     "execution_count": 110,
     "metadata": {},
     "output_type": "execute_result"
    }
   ],
   "source": [
    "contents"
   ]
  },
  {
   "cell_type": "code",
   "execution_count": null,
   "id": "46b78d5e",
   "metadata": {},
   "outputs": [],
   "source": []
  }
 ],
 "metadata": {
  "kernelspec": {
   "display_name": "Python 3 (ipykernel)",
   "language": "python",
   "name": "python3"
  },
  "language_info": {
   "codemirror_mode": {
    "name": "ipython",
    "version": 3
   },
   "file_extension": ".py",
   "mimetype": "text/x-python",
   "name": "python",
   "nbconvert_exporter": "python",
   "pygments_lexer": "ipython3",
   "version": "3.11.4"
  }
 },
 "nbformat": 4,
 "nbformat_minor": 5
}
