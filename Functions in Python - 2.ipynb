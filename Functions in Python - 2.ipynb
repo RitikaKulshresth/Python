{
 "cells": [
  {
   "cell_type": "code",
   "execution_count": 1,
   "id": "bfd8a875",
   "metadata": {},
   "outputs": [],
   "source": [
    "def greet(name):\n",
    "    print(f\"Good evening {name}\")"
   ]
  },
  {
   "cell_type": "code",
   "execution_count": 2,
   "id": "ecceb6ab",
   "metadata": {},
   "outputs": [
    {
     "name": "stdout",
     "output_type": "stream",
     "text": [
      "Good evening Carol\n"
     ]
    }
   ],
   "source": [
    "greet(\"Carol\")"
   ]
  },
  {
   "cell_type": "code",
   "execution_count": 3,
   "id": "012e74b9",
   "metadata": {},
   "outputs": [
    {
     "name": "stdout",
     "output_type": "stream",
     "text": [
      "Good evening Jack\n",
      "Bye\n"
     ]
    }
   ],
   "source": [
    "greet(\"Jack\")\n",
    "print(\"Bye\")"
   ]
  },
  {
   "cell_type": "code",
   "execution_count": null,
   "id": "838d01e8",
   "metadata": {},
   "outputs": [],
   "source": []
  },
  {
   "cell_type": "code",
   "execution_count": 4,
   "id": "67a28754",
   "metadata": {},
   "outputs": [],
   "source": [
    "l1 = [1,2,3,4]"
   ]
  },
  {
   "cell_type": "code",
   "execution_count": 5,
   "id": "c4149f86",
   "metadata": {},
   "outputs": [
    {
     "data": {
      "text/plain": [
       "4"
      ]
     },
     "execution_count": 5,
     "metadata": {},
     "output_type": "execute_result"
    }
   ],
   "source": [
    "len(l1)"
   ]
  },
  {
   "cell_type": "code",
   "execution_count": 6,
   "id": "539b2898",
   "metadata": {},
   "outputs": [
    {
     "name": "stdout",
     "output_type": "stream",
     "text": [
      "Help on built-in function len in module builtins:\n",
      "\n",
      "len(obj, /)\n",
      "    Return the number of items in a container.\n",
      "\n"
     ]
    }
   ],
   "source": [
    "help(len)"
   ]
  },
  {
   "cell_type": "code",
   "execution_count": 7,
   "id": "03183012",
   "metadata": {},
   "outputs": [
    {
     "name": "stdout",
     "output_type": "stream",
     "text": [
      "Help on function greet in module __main__:\n",
      "\n",
      "greet(name)\n",
      "\n"
     ]
    }
   ],
   "source": [
    "help(greet)"
   ]
  },
  {
   "cell_type": "code",
   "execution_count": 8,
   "id": "c62020f6",
   "metadata": {},
   "outputs": [
    {
     "name": "stdout",
     "output_type": "stream",
     "text": [
      "Good evening 10\n"
     ]
    }
   ],
   "source": [
    "greet(10)"
   ]
  },
  {
   "cell_type": "code",
   "execution_count": 9,
   "id": "7dc21c63",
   "metadata": {},
   "outputs": [],
   "source": [
    "# docstring"
   ]
  },
  {
   "cell_type": "code",
   "execution_count": 10,
   "id": "535acc05",
   "metadata": {},
   "outputs": [],
   "source": [
    "def greet(name):\n",
    "    '''\n",
    "    This function is used to greet a person.\n",
    "    name: The name of the person to greet.\n",
    "    '''\n",
    "    print(f\"Good evening {name}\")"
   ]
  },
  {
   "cell_type": "code",
   "execution_count": 11,
   "id": "3a2e137a",
   "metadata": {},
   "outputs": [
    {
     "name": "stdout",
     "output_type": "stream",
     "text": [
      "Help on function greet in module __main__:\n",
      "\n",
      "greet(name)\n",
      "    This function is used to greet a person.\n",
      "    name: The name of the person to greet.\n",
      "\n"
     ]
    }
   ],
   "source": [
    "help(greet)"
   ]
  },
  {
   "cell_type": "code",
   "execution_count": null,
   "id": "b6c0cbe8",
   "metadata": {},
   "outputs": [],
   "source": []
  },
  {
   "cell_type": "code",
   "execution_count": 12,
   "id": "ebc3d914",
   "metadata": {},
   "outputs": [],
   "source": [
    "def even_odd(num):\n",
    "    \"\"\"\n",
    "    This function takes an integer and prints if that integer is Odd or Even.\n",
    "    num: int to check Odd/Even\n",
    "    \"\"\"\n",
    "    \n",
    "    if num % 2 == 0:\n",
    "        print(\"Even\")\n",
    "    else:\n",
    "        print(\"Odd\")"
   ]
  },
  {
   "cell_type": "code",
   "execution_count": 13,
   "id": "1aa9aaab",
   "metadata": {},
   "outputs": [
    {
     "name": "stdout",
     "output_type": "stream",
     "text": [
      "Even\n"
     ]
    }
   ],
   "source": [
    "even_odd(10)"
   ]
  },
  {
   "cell_type": "code",
   "execution_count": 14,
   "id": "af19956e",
   "metadata": {},
   "outputs": [
    {
     "name": "stdout",
     "output_type": "stream",
     "text": [
      "Odd\n"
     ]
    }
   ],
   "source": [
    "even_odd(11)"
   ]
  },
  {
   "cell_type": "code",
   "execution_count": null,
   "id": "6845910b",
   "metadata": {},
   "outputs": [],
   "source": []
  },
  {
   "cell_type": "code",
   "execution_count": 15,
   "id": "eb1593d2",
   "metadata": {},
   "outputs": [
    {
     "data": {
      "text/plain": [
       "[1, 2, 3, 4]"
      ]
     },
     "execution_count": 15,
     "metadata": {},
     "output_type": "execute_result"
    }
   ],
   "source": [
    "l1"
   ]
  },
  {
   "cell_type": "code",
   "execution_count": 16,
   "id": "00e1fb51",
   "metadata": {},
   "outputs": [
    {
     "name": "stdout",
     "output_type": "stream",
     "text": [
      "Help on built-in function append:\n",
      "\n",
      "append(object, /) method of builtins.list instance\n",
      "    Append object to the end of the list.\n",
      "\n"
     ]
    }
   ],
   "source": [
    "help(l1.append)"
   ]
  },
  {
   "cell_type": "code",
   "execution_count": 17,
   "id": "e8231340",
   "metadata": {},
   "outputs": [
    {
     "ename": "NameError",
     "evalue": "name 'append' is not defined",
     "output_type": "error",
     "traceback": [
      "\u001b[1;31m---------------------------------------------------------------------------\u001b[0m",
      "\u001b[1;31mNameError\u001b[0m                                 Traceback (most recent call last)",
      "Cell \u001b[1;32mIn[17], line 1\u001b[0m\n\u001b[1;32m----> 1\u001b[0m help(append)\n",
      "\u001b[1;31mNameError\u001b[0m: name 'append' is not defined"
     ]
    }
   ],
   "source": [
    "help(append)"
   ]
  },
  {
   "cell_type": "code",
   "execution_count": 18,
   "id": "07dac6b1",
   "metadata": {},
   "outputs": [
    {
     "name": "stdout",
     "output_type": "stream",
     "text": [
      "Help on built-in function pop:\n",
      "\n",
      "pop(index=-1, /) method of builtins.list instance\n",
      "    Remove and return item at index (default last).\n",
      "    \n",
      "    Raises IndexError if list is empty or index is out of range.\n",
      "\n"
     ]
    }
   ],
   "source": [
    "help(l1.pop)"
   ]
  },
  {
   "cell_type": "code",
   "execution_count": 19,
   "id": "cecf3e6e",
   "metadata": {},
   "outputs": [],
   "source": [
    "# A function may or may not return something"
   ]
  },
  {
   "cell_type": "code",
   "execution_count": 20,
   "id": "0bc07185",
   "metadata": {},
   "outputs": [
    {
     "data": {
      "text/plain": [
       "[1, 2, 3, 4]"
      ]
     },
     "execution_count": 20,
     "metadata": {},
     "output_type": "execute_result"
    }
   ],
   "source": [
    "l1"
   ]
  },
  {
   "cell_type": "code",
   "execution_count": 21,
   "id": "6216ac21",
   "metadata": {},
   "outputs": [],
   "source": [
    "value = l1.pop(2)"
   ]
  },
  {
   "cell_type": "code",
   "execution_count": 22,
   "id": "51368f9c",
   "metadata": {},
   "outputs": [
    {
     "data": {
      "text/plain": [
       "3"
      ]
     },
     "execution_count": 22,
     "metadata": {},
     "output_type": "execute_result"
    }
   ],
   "source": [
    "value"
   ]
  },
  {
   "cell_type": "code",
   "execution_count": 23,
   "id": "9058bb67",
   "metadata": {},
   "outputs": [],
   "source": [
    "value2 = l1.append(10)"
   ]
  },
  {
   "cell_type": "code",
   "execution_count": 24,
   "id": "bcb65f20",
   "metadata": {},
   "outputs": [
    {
     "data": {
      "text/plain": [
       "[1, 2, 4, 10]"
      ]
     },
     "execution_count": 24,
     "metadata": {},
     "output_type": "execute_result"
    }
   ],
   "source": [
    "l1"
   ]
  },
  {
   "cell_type": "code",
   "execution_count": 25,
   "id": "5174bea9",
   "metadata": {},
   "outputs": [
    {
     "name": "stdout",
     "output_type": "stream",
     "text": [
      "None\n"
     ]
    }
   ],
   "source": [
    "print(value2)"
   ]
  },
  {
   "cell_type": "code",
   "execution_count": 26,
   "id": "a76d2b80",
   "metadata": {},
   "outputs": [],
   "source": [
    "# If a function does not return anything, it returns None!!!"
   ]
  },
  {
   "cell_type": "code",
   "execution_count": 27,
   "id": "d7f68600",
   "metadata": {},
   "outputs": [
    {
     "name": "stdout",
     "output_type": "stream",
     "text": [
      "Even\n"
     ]
    }
   ],
   "source": [
    "value3 = even_odd(88)"
   ]
  },
  {
   "cell_type": "code",
   "execution_count": 28,
   "id": "0b613a55",
   "metadata": {},
   "outputs": [
    {
     "name": "stdout",
     "output_type": "stream",
     "text": [
      "None\n"
     ]
    }
   ],
   "source": [
    "print(value3)"
   ]
  },
  {
   "cell_type": "code",
   "execution_count": 29,
   "id": "68fcee59",
   "metadata": {},
   "outputs": [],
   "source": [
    "# How to return a value from a function???\n",
    "# return keyword"
   ]
  },
  {
   "cell_type": "code",
   "execution_count": 30,
   "id": "b788efd2",
   "metadata": {},
   "outputs": [],
   "source": [
    "def even_odd(num):\n",
    "    \"\"\"\n",
    "    This function takes an integer and returns if that integer is Odd or Even.\n",
    "    num: int to check Odd/Even\n",
    "    \"\"\"\n",
    "    \n",
    "    if num % 2 == 0:\n",
    "        return \"Even\"\n",
    "    else:\n",
    "        return \"Odd\""
   ]
  },
  {
   "cell_type": "code",
   "execution_count": 31,
   "id": "45497db7",
   "metadata": {},
   "outputs": [],
   "source": [
    "value4 = even_odd(77)"
   ]
  },
  {
   "cell_type": "code",
   "execution_count": 32,
   "id": "9b42de1d",
   "metadata": {},
   "outputs": [
    {
     "name": "stdout",
     "output_type": "stream",
     "text": [
      "Odd\n"
     ]
    }
   ],
   "source": [
    "print(value4)"
   ]
  },
  {
   "cell_type": "code",
   "execution_count": null,
   "id": "2d24555d",
   "metadata": {},
   "outputs": [],
   "source": []
  },
  {
   "cell_type": "code",
   "execution_count": 33,
   "id": "837dab63",
   "metadata": {},
   "outputs": [],
   "source": [
    "def add(num1, num2):\n",
    "    return num1 + num2"
   ]
  },
  {
   "cell_type": "code",
   "execution_count": 34,
   "id": "bc92e506",
   "metadata": {},
   "outputs": [
    {
     "data": {
      "text/plain": [
       "30"
      ]
     },
     "execution_count": 34,
     "metadata": {},
     "output_type": "execute_result"
    }
   ],
   "source": [
    "add(10, 20)"
   ]
  },
  {
   "cell_type": "code",
   "execution_count": 35,
   "id": "9aed3882",
   "metadata": {},
   "outputs": [],
   "source": [
    "def arithmetic_function(num1, num2):\n",
    "    addition = num1 + num2\n",
    "    return addition\n",
    "    sub = num1 - num2\n",
    "    return sub\n",
    "    multiply = num1 * num2\n",
    "    return multiply"
   ]
  },
  {
   "cell_type": "code",
   "execution_count": 36,
   "id": "d56517e1",
   "metadata": {},
   "outputs": [],
   "source": [
    "val = arithmetic_function(10, 4)"
   ]
  },
  {
   "cell_type": "code",
   "execution_count": 37,
   "id": "8e895b54",
   "metadata": {},
   "outputs": [
    {
     "name": "stdout",
     "output_type": "stream",
     "text": [
      "14\n"
     ]
    }
   ],
   "source": [
    "print(val)"
   ]
  },
  {
   "cell_type": "code",
   "execution_count": 38,
   "id": "68eb42ae",
   "metadata": {},
   "outputs": [],
   "source": [
    "def arithmetic_function(num1, num2):\n",
    "    addition = num1 + num2\n",
    "    sub = num1 - num2\n",
    "    multiply = num1 * num2\n",
    "    return addition, sub, multiply"
   ]
  },
  {
   "cell_type": "code",
   "execution_count": 39,
   "id": "ea527cf9",
   "metadata": {},
   "outputs": [],
   "source": [
    "val = arithmetic_function(10, 5)"
   ]
  },
  {
   "cell_type": "code",
   "execution_count": 40,
   "id": "68610284",
   "metadata": {},
   "outputs": [
    {
     "name": "stdout",
     "output_type": "stream",
     "text": [
      "(15, 5, 50)\n"
     ]
    }
   ],
   "source": [
    "print(val)"
   ]
  },
  {
   "cell_type": "code",
   "execution_count": 41,
   "id": "8e2e4a60",
   "metadata": {},
   "outputs": [
    {
     "data": {
      "text/plain": [
       "tuple"
      ]
     },
     "execution_count": 41,
     "metadata": {},
     "output_type": "execute_result"
    }
   ],
   "source": [
    "type(val)"
   ]
  },
  {
   "cell_type": "code",
   "execution_count": 42,
   "id": "2e4c89cd",
   "metadata": {},
   "outputs": [],
   "source": [
    "x, y, z = arithmetic_function(20, 10)"
   ]
  },
  {
   "cell_type": "code",
   "execution_count": 43,
   "id": "90a452d2",
   "metadata": {},
   "outputs": [
    {
     "data": {
      "text/plain": [
       "30"
      ]
     },
     "execution_count": 43,
     "metadata": {},
     "output_type": "execute_result"
    }
   ],
   "source": [
    "x"
   ]
  },
  {
   "cell_type": "code",
   "execution_count": 44,
   "id": "527d1cc5",
   "metadata": {},
   "outputs": [
    {
     "data": {
      "text/plain": [
       "10"
      ]
     },
     "execution_count": 44,
     "metadata": {},
     "output_type": "execute_result"
    }
   ],
   "source": [
    "y"
   ]
  },
  {
   "cell_type": "code",
   "execution_count": 45,
   "id": "61430edb",
   "metadata": {},
   "outputs": [
    {
     "data": {
      "text/plain": [
       "200"
      ]
     },
     "execution_count": 45,
     "metadata": {},
     "output_type": "execute_result"
    }
   ],
   "source": [
    "z"
   ]
  },
  {
   "cell_type": "code",
   "execution_count": 46,
   "id": "81d3a30a",
   "metadata": {},
   "outputs": [
    {
     "name": "stdout",
     "output_type": "stream",
     "text": [
      "Help on function arithmetic_function in module __main__:\n",
      "\n",
      "arithmetic_function(num1, num2)\n",
      "\n"
     ]
    }
   ],
   "source": [
    "help(arithmetic_function)"
   ]
  },
  {
   "cell_type": "code",
   "execution_count": 47,
   "id": "5c1c6e08",
   "metadata": {},
   "outputs": [
    {
     "ename": "NameError",
     "evalue": "name 'greet_person' is not defined",
     "output_type": "error",
     "traceback": [
      "\u001b[1;31m---------------------------------------------------------------------------\u001b[0m",
      "\u001b[1;31mNameError\u001b[0m                                 Traceback (most recent call last)",
      "Cell \u001b[1;32mIn[47], line 1\u001b[0m\n\u001b[1;32m----> 1\u001b[0m greet_person(\u001b[38;5;124m\"\u001b[39m\u001b[38;5;124mMark\u001b[39m\u001b[38;5;124m\"\u001b[39m)\n",
      "\u001b[1;31mNameError\u001b[0m: name 'greet_person' is not defined"
     ]
    }
   ],
   "source": [
    "greet_person(\"Mark\")"
   ]
  },
  {
   "cell_type": "code",
   "execution_count": 48,
   "id": "4e1cc906",
   "metadata": {},
   "outputs": [
    {
     "name": "stdout",
     "output_type": "stream",
     "text": [
      "Good evening Mark\n"
     ]
    }
   ],
   "source": [
    "greet(\"Mark\")"
   ]
  },
  {
   "cell_type": "code",
   "execution_count": 49,
   "id": "799eb5aa",
   "metadata": {},
   "outputs": [
    {
     "name": "stdout",
     "output_type": "stream",
     "text": [
      "Good evening Mark\n",
      "None\n"
     ]
    }
   ],
   "source": [
    "print(greet(\"Mark\"))"
   ]
  },
  {
   "cell_type": "code",
   "execution_count": 50,
   "id": "624b171a",
   "metadata": {},
   "outputs": [
    {
     "name": "stdout",
     "output_type": "stream",
     "text": [
      "Even\n"
     ]
    }
   ],
   "source": [
    "print(even_odd(88))"
   ]
  },
  {
   "cell_type": "code",
   "execution_count": 51,
   "id": "43ade505",
   "metadata": {},
   "outputs": [
    {
     "name": "stdout",
     "output_type": "stream",
     "text": [
      "Help on function arithmetic_function in module __main__:\n",
      "\n",
      "arithmetic_function(num1, num2)\n",
      "\n"
     ]
    }
   ],
   "source": [
    "help(arithmetic_function)"
   ]
  },
  {
   "cell_type": "code",
   "execution_count": 52,
   "id": "285fcaf2",
   "metadata": {},
   "outputs": [
    {
     "data": {
      "text/plain": [
       "(5, -3, 4)"
      ]
     },
     "execution_count": 52,
     "metadata": {},
     "output_type": "execute_result"
    }
   ],
   "source": [
    "arithmetic_function(1,4)"
   ]
  },
  {
   "cell_type": "code",
   "execution_count": 53,
   "id": "f887b94f",
   "metadata": {},
   "outputs": [
    {
     "ename": "TypeError",
     "evalue": "arithmetic_function() takes 2 positional arguments but 3 were given",
     "output_type": "error",
     "traceback": [
      "\u001b[1;31m---------------------------------------------------------------------------\u001b[0m",
      "\u001b[1;31mTypeError\u001b[0m                                 Traceback (most recent call last)",
      "Cell \u001b[1;32mIn[53], line 1\u001b[0m\n\u001b[1;32m----> 1\u001b[0m arithmetic_function(\u001b[38;5;241m10\u001b[39m, \u001b[38;5;241m20\u001b[39m, \u001b[38;5;241m30\u001b[39m)\n",
      "\u001b[1;31mTypeError\u001b[0m: arithmetic_function() takes 2 positional arguments but 3 were given"
     ]
    }
   ],
   "source": [
    "arithmetic_function(10, 20, 30)"
   ]
  },
  {
   "cell_type": "code",
   "execution_count": 54,
   "id": "33ab6b3c",
   "metadata": {},
   "outputs": [
    {
     "ename": "TypeError",
     "evalue": "arithmetic_function() missing 1 required positional argument: 'num2'",
     "output_type": "error",
     "traceback": [
      "\u001b[1;31m---------------------------------------------------------------------------\u001b[0m",
      "\u001b[1;31mTypeError\u001b[0m                                 Traceback (most recent call last)",
      "Cell \u001b[1;32mIn[54], line 1\u001b[0m\n\u001b[1;32m----> 1\u001b[0m arithmetic_function(\u001b[38;5;241m1\u001b[39m)\n",
      "\u001b[1;31mTypeError\u001b[0m: arithmetic_function() missing 1 required positional argument: 'num2'"
     ]
    }
   ],
   "source": [
    "arithmetic_function(1)"
   ]
  },
  {
   "cell_type": "code",
   "execution_count": 55,
   "id": "f5cfe237",
   "metadata": {},
   "outputs": [
    {
     "ename": "TypeError",
     "evalue": "arithmetic_function() missing 2 required positional arguments: 'num1' and 'num2'",
     "output_type": "error",
     "traceback": [
      "\u001b[1;31m---------------------------------------------------------------------------\u001b[0m",
      "\u001b[1;31mTypeError\u001b[0m                                 Traceback (most recent call last)",
      "Cell \u001b[1;32mIn[55], line 1\u001b[0m\n\u001b[1;32m----> 1\u001b[0m arithmetic_function()\n",
      "\u001b[1;31mTypeError\u001b[0m: arithmetic_function() missing 2 required positional arguments: 'num1' and 'num2'"
     ]
    }
   ],
   "source": [
    "arithmetic_function()"
   ]
  },
  {
   "cell_type": "code",
   "execution_count": null,
   "id": "4054c5cc",
   "metadata": {},
   "outputs": [],
   "source": []
  },
  {
   "cell_type": "code",
   "execution_count": 56,
   "id": "4405da4a",
   "metadata": {},
   "outputs": [
    {
     "ename": "TypeError",
     "evalue": "unsupported operand type(s) for +: 'int' and 'str'",
     "output_type": "error",
     "traceback": [
      "\u001b[1;31m---------------------------------------------------------------------------\u001b[0m",
      "\u001b[1;31mTypeError\u001b[0m                                 Traceback (most recent call last)",
      "Cell \u001b[1;32mIn[56], line 1\u001b[0m\n\u001b[1;32m----> 1\u001b[0m arithmetic_function(\u001b[38;5;241m10\u001b[39m, \u001b[38;5;124m'\u001b[39m\u001b[38;5;124mhi\u001b[39m\u001b[38;5;124m'\u001b[39m)\n",
      "Cell \u001b[1;32mIn[38], line 2\u001b[0m, in \u001b[0;36marithmetic_function\u001b[1;34m(num1, num2)\u001b[0m\n\u001b[0;32m      1\u001b[0m \u001b[38;5;28;01mdef\u001b[39;00m \u001b[38;5;21marithmetic_function\u001b[39m(num1, num2):\n\u001b[1;32m----> 2\u001b[0m     addition \u001b[38;5;241m=\u001b[39m num1 \u001b[38;5;241m+\u001b[39m num2\n\u001b[0;32m      3\u001b[0m     sub \u001b[38;5;241m=\u001b[39m num1 \u001b[38;5;241m-\u001b[39m num2\n\u001b[0;32m      4\u001b[0m     multiply \u001b[38;5;241m=\u001b[39m num1 \u001b[38;5;241m*\u001b[39m num2\n",
      "\u001b[1;31mTypeError\u001b[0m: unsupported operand type(s) for +: 'int' and 'str'"
     ]
    }
   ],
   "source": [
    "arithmetic_function(10, 'hi')"
   ]
  },
  {
   "cell_type": "code",
   "execution_count": 57,
   "id": "ca5f960c",
   "metadata": {},
   "outputs": [],
   "source": [
    "# isinstance(value, datatype)"
   ]
  },
  {
   "cell_type": "code",
   "execution_count": 58,
   "id": "7f540edb",
   "metadata": {},
   "outputs": [
    {
     "data": {
      "text/plain": [
       "True"
      ]
     },
     "execution_count": 58,
     "metadata": {},
     "output_type": "execute_result"
    }
   ],
   "source": [
    "isinstance(10, int) # is 10 an initeger?"
   ]
  },
  {
   "cell_type": "code",
   "execution_count": 59,
   "id": "d5e7d1cf",
   "metadata": {},
   "outputs": [
    {
     "data": {
      "text/plain": [
       "True"
      ]
     },
     "execution_count": 59,
     "metadata": {},
     "output_type": "execute_result"
    }
   ],
   "source": [
    "isinstance(\"Hello\", str) # Is \"Hello\" a string?"
   ]
  },
  {
   "cell_type": "code",
   "execution_count": 60,
   "id": "d0c496d4",
   "metadata": {},
   "outputs": [
    {
     "data": {
      "text/plain": [
       "False"
      ]
     },
     "execution_count": 60,
     "metadata": {},
     "output_type": "execute_result"
    }
   ],
   "source": [
    "isinstance(\"hi\", int) # Is 'hi' an integer?"
   ]
  },
  {
   "cell_type": "code",
   "execution_count": 61,
   "id": "b9f683f1",
   "metadata": {},
   "outputs": [],
   "source": [
    "def arithmetic_function(num1, num2):\n",
    "    if isinstance(num1, int) and isinstance(num2, int):\n",
    "        addition = num1 + num2\n",
    "        sub = num1 - num2\n",
    "        multiply = num1 * num2\n",
    "        return addition, sub, multiply\n",
    "    else:\n",
    "        return \"Operation NOT supported. Please provide integers only!!\""
   ]
  },
  {
   "cell_type": "code",
   "execution_count": 62,
   "id": "aac6ccac",
   "metadata": {},
   "outputs": [
    {
     "data": {
      "text/plain": [
       "'Operation NOT supported. Please provide integers only!!'"
      ]
     },
     "execution_count": 62,
     "metadata": {},
     "output_type": "execute_result"
    }
   ],
   "source": [
    "arithmetic_function(10, 'hi')"
   ]
  },
  {
   "cell_type": "code",
   "execution_count": null,
   "id": "0996ec52",
   "metadata": {},
   "outputs": [],
   "source": []
  },
  {
   "cell_type": "code",
   "execution_count": 63,
   "id": "72b583a6",
   "metadata": {},
   "outputs": [],
   "source": [
    "# Types of arguments"
   ]
  },
  {
   "cell_type": "code",
   "execution_count": 64,
   "id": "6c7e9d98",
   "metadata": {},
   "outputs": [],
   "source": [
    "# Positional arguments"
   ]
  },
  {
   "cell_type": "code",
   "execution_count": 65,
   "id": "4bf1d543",
   "metadata": {},
   "outputs": [],
   "source": [
    "def add(a, b):\n",
    "    return a + b"
   ]
  },
  {
   "cell_type": "code",
   "execution_count": 66,
   "id": "6417a730",
   "metadata": {},
   "outputs": [],
   "source": [
    "# Here, a and b are positional arguments"
   ]
  },
  {
   "cell_type": "code",
   "execution_count": 67,
   "id": "8c42f398",
   "metadata": {},
   "outputs": [
    {
     "data": {
      "text/plain": [
       "30"
      ]
     },
     "execution_count": 67,
     "metadata": {},
     "output_type": "execute_result"
    }
   ],
   "source": [
    "add(10, 20)"
   ]
  },
  {
   "cell_type": "code",
   "execution_count": 68,
   "id": "df0342ce",
   "metadata": {},
   "outputs": [],
   "source": [
    "# Default arguemnts\n",
    "# The argument which is used make optional arguments"
   ]
  },
  {
   "cell_type": "code",
   "execution_count": 69,
   "id": "fc5bd383",
   "metadata": {},
   "outputs": [],
   "source": [
    "def add(a, b=1):\n",
    "    return a + b"
   ]
  },
  {
   "cell_type": "code",
   "execution_count": 70,
   "id": "9a084955",
   "metadata": {},
   "outputs": [
    {
     "data": {
      "text/plain": [
       "30"
      ]
     },
     "execution_count": 70,
     "metadata": {},
     "output_type": "execute_result"
    }
   ],
   "source": [
    "add(10, 20)"
   ]
  },
  {
   "cell_type": "code",
   "execution_count": 71,
   "id": "36af8d54",
   "metadata": {},
   "outputs": [
    {
     "data": {
      "text/plain": [
       "11"
      ]
     },
     "execution_count": 71,
     "metadata": {},
     "output_type": "execute_result"
    }
   ],
   "source": [
    "add(10)"
   ]
  },
  {
   "cell_type": "code",
   "execution_count": 72,
   "id": "42be4183",
   "metadata": {},
   "outputs": [
    {
     "name": "stdout",
     "output_type": "stream",
     "text": [
      "Help on built-in function print in module builtins:\n",
      "\n",
      "print(*args, sep=' ', end='\\n', file=None, flush=False)\n",
      "    Prints the values to a stream, or to sys.stdout by default.\n",
      "    \n",
      "    sep\n",
      "      string inserted between values, default a space.\n",
      "    end\n",
      "      string appended after the last value, default a newline.\n",
      "    file\n",
      "      a file-like object (stream); defaults to the current sys.stdout.\n",
      "    flush\n",
      "      whether to forcibly flush the stream.\n",
      "\n"
     ]
    }
   ],
   "source": [
    "help(print)"
   ]
  },
  {
   "cell_type": "code",
   "execution_count": 73,
   "id": "3825349d",
   "metadata": {},
   "outputs": [
    {
     "name": "stdout",
     "output_type": "stream",
     "text": [
      "10 20 30\n"
     ]
    }
   ],
   "source": [
    "print(10, 20, 30)"
   ]
  },
  {
   "cell_type": "code",
   "execution_count": 74,
   "id": "43e665ef",
   "metadata": {},
   "outputs": [
    {
     "name": "stdout",
     "output_type": "stream",
     "text": [
      "10#20#30\n"
     ]
    }
   ],
   "source": [
    "print(10, 20, 30, sep=\"#\")"
   ]
  },
  {
   "cell_type": "code",
   "execution_count": 75,
   "id": "4eaa3d30",
   "metadata": {},
   "outputs": [
    {
     "name": "stdout",
     "output_type": "stream",
     "text": [
      "Help on function add in module __main__:\n",
      "\n",
      "add(a, b=1)\n",
      "\n"
     ]
    }
   ],
   "source": [
    "help(add)"
   ]
  },
  {
   "cell_type": "code",
   "execution_count": 76,
   "id": "96cecf72",
   "metadata": {},
   "outputs": [
    {
     "ename": "TypeError",
     "evalue": "add() missing 1 required positional argument: 'a'",
     "output_type": "error",
     "traceback": [
      "\u001b[1;31m---------------------------------------------------------------------------\u001b[0m",
      "\u001b[1;31mTypeError\u001b[0m                                 Traceback (most recent call last)",
      "Cell \u001b[1;32mIn[76], line 1\u001b[0m\n\u001b[1;32m----> 1\u001b[0m add()\n",
      "\u001b[1;31mTypeError\u001b[0m: add() missing 1 required positional argument: 'a'"
     ]
    }
   ],
   "source": [
    "add()"
   ]
  },
  {
   "cell_type": "code",
   "execution_count": null,
   "id": "d945463f",
   "metadata": {},
   "outputs": [],
   "source": []
  },
  {
   "cell_type": "code",
   "execution_count": 77,
   "id": "b90fac46",
   "metadata": {},
   "outputs": [
    {
     "data": {
      "text/plain": [
       "11"
      ]
     },
     "execution_count": 77,
     "metadata": {},
     "output_type": "execute_result"
    }
   ],
   "source": [
    "add(10,)"
   ]
  },
  {
   "cell_type": "code",
   "execution_count": 80,
   "id": "098cab89",
   "metadata": {},
   "outputs": [],
   "source": [
    "def add_three(a, b=1, c=2):\n",
    "    print(f\"a: {a}\")\n",
    "    print(f\"b: {b}\")\n",
    "    print(f\"c: {c}\")\n",
    "    return a + b + c"
   ]
  },
  {
   "cell_type": "code",
   "execution_count": 81,
   "id": "ec5db85d",
   "metadata": {},
   "outputs": [],
   "source": [
    "# a => positional argument\n",
    "# b, c => default arguments"
   ]
  },
  {
   "cell_type": "code",
   "execution_count": 82,
   "id": "2e5b07e6",
   "metadata": {},
   "outputs": [
    {
     "name": "stdout",
     "output_type": "stream",
     "text": [
      "a: 1\n",
      "b: 2\n",
      "c: 3\n"
     ]
    },
    {
     "data": {
      "text/plain": [
       "6"
      ]
     },
     "execution_count": 82,
     "metadata": {},
     "output_type": "execute_result"
    }
   ],
   "source": [
    "add_three(1, 2, 3)"
   ]
  },
  {
   "cell_type": "code",
   "execution_count": 83,
   "id": "73e512c1",
   "metadata": {},
   "outputs": [
    {
     "name": "stdout",
     "output_type": "stream",
     "text": [
      "a: 10\n",
      "b: 20\n",
      "c: 2\n"
     ]
    },
    {
     "data": {
      "text/plain": [
       "32"
      ]
     },
     "execution_count": 83,
     "metadata": {},
     "output_type": "execute_result"
    }
   ],
   "source": [
    "add_three(10, 20)"
   ]
  },
  {
   "cell_type": "code",
   "execution_count": 84,
   "id": "98365275",
   "metadata": {},
   "outputs": [
    {
     "name": "stdout",
     "output_type": "stream",
     "text": [
      "Help on function add_three in module __main__:\n",
      "\n",
      "add_three(a, b=1, c=2)\n",
      "\n"
     ]
    }
   ],
   "source": [
    "help(add_three)"
   ]
  },
  {
   "cell_type": "code",
   "execution_count": 85,
   "id": "6430a92b",
   "metadata": {},
   "outputs": [
    {
     "name": "stdout",
     "output_type": "stream",
     "text": [
      "a: 5\n",
      "b: 1\n",
      "c: 2\n"
     ]
    },
    {
     "data": {
      "text/plain": [
       "8"
      ]
     },
     "execution_count": 85,
     "metadata": {},
     "output_type": "execute_result"
    }
   ],
   "source": [
    "add_three(5)"
   ]
  },
  {
   "cell_type": "code",
   "execution_count": 86,
   "id": "23914c7e",
   "metadata": {},
   "outputs": [
    {
     "ename": "TypeError",
     "evalue": "add_three() missing 1 required positional argument: 'a'",
     "output_type": "error",
     "traceback": [
      "\u001b[1;31m---------------------------------------------------------------------------\u001b[0m",
      "\u001b[1;31mTypeError\u001b[0m                                 Traceback (most recent call last)",
      "Cell \u001b[1;32mIn[86], line 1\u001b[0m\n\u001b[1;32m----> 1\u001b[0m add_three()\n",
      "\u001b[1;31mTypeError\u001b[0m: add_three() missing 1 required positional argument: 'a'"
     ]
    }
   ],
   "source": [
    "add_three()"
   ]
  },
  {
   "cell_type": "code",
   "execution_count": 87,
   "id": "5477a957",
   "metadata": {},
   "outputs": [
    {
     "name": "stdout",
     "output_type": "stream",
     "text": [
      "Help on function add_three in module __main__:\n",
      "\n",
      "add_three(a, b=1, c=2)\n",
      "\n"
     ]
    }
   ],
   "source": [
    "help(add_three)"
   ]
  },
  {
   "cell_type": "code",
   "execution_count": 88,
   "id": "41f97071",
   "metadata": {},
   "outputs": [
    {
     "ename": "SyntaxError",
     "evalue": "invalid syntax (255318337.py, line 1)",
     "output_type": "error",
     "traceback": [
      "\u001b[1;36m  Cell \u001b[1;32mIn[88], line 1\u001b[1;36m\u001b[0m\n\u001b[1;33m    add_three(10, , 50)\u001b[0m\n\u001b[1;37m                  ^\u001b[0m\n\u001b[1;31mSyntaxError\u001b[0m\u001b[1;31m:\u001b[0m invalid syntax\n"
     ]
    }
   ],
   "source": [
    "add_three(10, , 50)"
   ]
  },
  {
   "cell_type": "code",
   "execution_count": 89,
   "id": "38c1bfe0",
   "metadata": {},
   "outputs": [
    {
     "name": "stdout",
     "output_type": "stream",
     "text": [
      "a: 10\n",
      "b: 50\n",
      "c: 2\n"
     ]
    },
    {
     "data": {
      "text/plain": [
       "62"
      ]
     },
     "execution_count": 89,
     "metadata": {},
     "output_type": "execute_result"
    }
   ],
   "source": [
    "add_three(10,50)"
   ]
  },
  {
   "cell_type": "code",
   "execution_count": 90,
   "id": "f62b5ea7",
   "metadata": {},
   "outputs": [
    {
     "name": "stdout",
     "output_type": "stream",
     "text": [
      "a: 10\n",
      "b: 50\n",
      "c: 2\n"
     ]
    },
    {
     "data": {
      "text/plain": [
       "62"
      ]
     },
     "execution_count": 90,
     "metadata": {},
     "output_type": "execute_result"
    }
   ],
   "source": [
    "add_three(10, 50)"
   ]
  },
  {
   "cell_type": "code",
   "execution_count": 91,
   "id": "9d9645e8",
   "metadata": {},
   "outputs": [
    {
     "name": "stdout",
     "output_type": "stream",
     "text": [
      "Help on function add_three in module __main__:\n",
      "\n",
      "add_three(a, b=1, c=2)\n",
      "\n"
     ]
    }
   ],
   "source": [
    "help(add_three)"
   ]
  },
  {
   "cell_type": "code",
   "execution_count": 92,
   "id": "210e9521",
   "metadata": {},
   "outputs": [
    {
     "ename": "SyntaxError",
     "evalue": "unexpected character after line continuation character (3235818421.py, line 1)",
     "output_type": "error",
     "traceback": [
      "\u001b[1;36m  Cell \u001b[1;32mIn[92], line 1\u001b[1;36m\u001b[0m\n\u001b[1;33m    add_three(10,\\,50)\u001b[0m\n\u001b[1;37m                  ^\u001b[0m\n\u001b[1;31mSyntaxError\u001b[0m\u001b[1;31m:\u001b[0m unexpected character after line continuation character\n"
     ]
    }
   ],
   "source": [
    "add_three(10,\\,50)"
   ]
  },
  {
   "cell_type": "code",
   "execution_count": 93,
   "id": "49a569f4",
   "metadata": {},
   "outputs": [
    {
     "name": "stdout",
     "output_type": "stream",
     "text": [
      "10#20#30\n"
     ]
    }
   ],
   "source": [
    "print(10, 20, 30, sep='#')"
   ]
  },
  {
   "cell_type": "code",
   "execution_count": 94,
   "id": "d429d8e0",
   "metadata": {},
   "outputs": [
    {
     "name": "stdout",
     "output_type": "stream",
     "text": [
      "Help on function add_three in module __main__:\n",
      "\n",
      "add_three(a, b=1, c=2)\n",
      "\n"
     ]
    }
   ],
   "source": [
    "help(add_three)"
   ]
  },
  {
   "cell_type": "code",
   "execution_count": 95,
   "id": "381c3f01",
   "metadata": {},
   "outputs": [
    {
     "name": "stdout",
     "output_type": "stream",
     "text": [
      "a: 10\n",
      "b: 1\n",
      "c: 50\n"
     ]
    },
    {
     "data": {
      "text/plain": [
       "61"
      ]
     },
     "execution_count": 95,
     "metadata": {},
     "output_type": "execute_result"
    }
   ],
   "source": [
    "add_three(10, c=50)"
   ]
  },
  {
   "cell_type": "code",
   "execution_count": 96,
   "id": "182fddb2",
   "metadata": {},
   "outputs": [],
   "source": [
    "# Keyword argument"
   ]
  },
  {
   "cell_type": "code",
   "execution_count": 97,
   "id": "35e2d704",
   "metadata": {},
   "outputs": [
    {
     "name": "stdout",
     "output_type": "stream",
     "text": [
      "a: 10\n",
      "b: 1\n",
      "c: 50\n"
     ]
    },
    {
     "data": {
      "text/plain": [
       "61"
      ]
     },
     "execution_count": 97,
     "metadata": {},
     "output_type": "execute_result"
    }
   ],
   "source": [
    "add_three(a=10, c=50)"
   ]
  },
  {
   "cell_type": "code",
   "execution_count": 98,
   "id": "cefaa82c",
   "metadata": {},
   "outputs": [
    {
     "name": "stdout",
     "output_type": "stream",
     "text": [
      "Help on function add_three in module __main__:\n",
      "\n",
      "add_three(a, b=1, c=2)\n",
      "\n"
     ]
    }
   ],
   "source": [
    "help(add_three)"
   ]
  },
  {
   "cell_type": "code",
   "execution_count": 99,
   "id": "2b7e45c9",
   "metadata": {},
   "outputs": [
    {
     "name": "stdout",
     "output_type": "stream",
     "text": [
      "a: 20\n",
      "b: 50\n",
      "c: 30\n"
     ]
    },
    {
     "data": {
      "text/plain": [
       "100"
      ]
     },
     "execution_count": 99,
     "metadata": {},
     "output_type": "execute_result"
    }
   ],
   "source": [
    "add_three(c=30, a=20, b=50)"
   ]
  },
  {
   "cell_type": "code",
   "execution_count": 100,
   "id": "37e1c053",
   "metadata": {},
   "outputs": [
    {
     "ename": "TypeError",
     "evalue": "add_three() got an unexpected keyword argument 'x'",
     "output_type": "error",
     "traceback": [
      "\u001b[1;31m---------------------------------------------------------------------------\u001b[0m",
      "\u001b[1;31mTypeError\u001b[0m                                 Traceback (most recent call last)",
      "Cell \u001b[1;32mIn[100], line 1\u001b[0m\n\u001b[1;32m----> 1\u001b[0m add_three(\u001b[38;5;241m10\u001b[39m, b\u001b[38;5;241m=\u001b[39m\u001b[38;5;241m20\u001b[39m, x\u001b[38;5;241m=\u001b[39m\u001b[38;5;241m5\u001b[39m)\n",
      "\u001b[1;31mTypeError\u001b[0m: add_three() got an unexpected keyword argument 'x'"
     ]
    }
   ],
   "source": [
    "add_three(10, b=20, x=5)"
   ]
  },
  {
   "cell_type": "code",
   "execution_count": null,
   "id": "9b3a1d72",
   "metadata": {},
   "outputs": [],
   "source": []
  },
  {
   "cell_type": "code",
   "execution_count": 101,
   "id": "d3eed17c",
   "metadata": {},
   "outputs": [
    {
     "ename": "SyntaxError",
     "evalue": "non-default argument follows default argument (670955716.py, line 1)",
     "output_type": "error",
     "traceback": [
      "\u001b[1;36m  Cell \u001b[1;32mIn[101], line 1\u001b[1;36m\u001b[0m\n\u001b[1;33m    def add_three(a=1, b, c=3):\u001b[0m\n\u001b[1;37m                       ^\u001b[0m\n\u001b[1;31mSyntaxError\u001b[0m\u001b[1;31m:\u001b[0m non-default argument follows default argument\n"
     ]
    }
   ],
   "source": [
    "def add_three(a=1, b, c=3):\n",
    "    return a + b + c"
   ]
  },
  {
   "cell_type": "code",
   "execution_count": 102,
   "id": "04a590e5",
   "metadata": {},
   "outputs": [],
   "source": [
    "# Default arguments should come after the non-default arguments in the function defination"
   ]
  },
  {
   "cell_type": "code",
   "execution_count": 103,
   "id": "edf7747f",
   "metadata": {},
   "outputs": [],
   "source": [
    "def add_three(b, a=1, c=3):\n",
    "    return a + b + c"
   ]
  },
  {
   "cell_type": "code",
   "execution_count": null,
   "id": "ed3adffe",
   "metadata": {},
   "outputs": [],
   "source": []
  },
  {
   "cell_type": "code",
   "execution_count": 104,
   "id": "c10e4f48",
   "metadata": {},
   "outputs": [
    {
     "data": {
      "text/plain": [
       "14"
      ]
     },
     "execution_count": 104,
     "metadata": {},
     "output_type": "execute_result"
    }
   ],
   "source": [
    "add_three(10)"
   ]
  },
  {
   "cell_type": "code",
   "execution_count": 107,
   "id": "ab7cb1f9",
   "metadata": {},
   "outputs": [
    {
     "data": {
      "text/plain": [
       "33"
      ]
     },
     "execution_count": 107,
     "metadata": {},
     "output_type": "execute_result"
    }
   ],
   "source": [
    "add_three(10, 20)"
   ]
  },
  {
   "cell_type": "code",
   "execution_count": 108,
   "id": "2876c0ae",
   "metadata": {},
   "outputs": [
    {
     "data": {
      "text/plain": [
       "35"
      ]
     },
     "execution_count": 108,
     "metadata": {},
     "output_type": "execute_result"
    }
   ],
   "source": [
    "add_three(10, 20, 5)"
   ]
  },
  {
   "cell_type": "code",
   "execution_count": 109,
   "id": "1677d19d",
   "metadata": {},
   "outputs": [
    {
     "ename": "TypeError",
     "evalue": "add_three() takes from 1 to 3 positional arguments but 4 were given",
     "output_type": "error",
     "traceback": [
      "\u001b[1;31m---------------------------------------------------------------------------\u001b[0m",
      "\u001b[1;31mTypeError\u001b[0m                                 Traceback (most recent call last)",
      "Cell \u001b[1;32mIn[109], line 1\u001b[0m\n\u001b[1;32m----> 1\u001b[0m add_three(\u001b[38;5;241m10\u001b[39m, \u001b[38;5;241m20\u001b[39m, \u001b[38;5;241m5\u001b[39m, \u001b[38;5;241m20\u001b[39m)\n",
      "\u001b[1;31mTypeError\u001b[0m: add_three() takes from 1 to 3 positional arguments but 4 were given"
     ]
    }
   ],
   "source": [
    "add_three(10, 20, 5, 20)"
   ]
  },
  {
   "cell_type": "code",
   "execution_count": 110,
   "id": "40f41d26",
   "metadata": {},
   "outputs": [
    {
     "ename": "TypeError",
     "evalue": "add_three() takes from 1 to 3 positional arguments but 5 were given",
     "output_type": "error",
     "traceback": [
      "\u001b[1;31m---------------------------------------------------------------------------\u001b[0m",
      "\u001b[1;31mTypeError\u001b[0m                                 Traceback (most recent call last)",
      "Cell \u001b[1;32mIn[110], line 1\u001b[0m\n\u001b[1;32m----> 1\u001b[0m add_three(\u001b[38;5;241m1\u001b[39m,\u001b[38;5;241m2\u001b[39m,\u001b[38;5;241m3\u001b[39m,\u001b[38;5;241m4\u001b[39m,\u001b[38;5;241m5\u001b[39m)\n",
      "\u001b[1;31mTypeError\u001b[0m: add_three() takes from 1 to 3 positional arguments but 5 were given"
     ]
    }
   ],
   "source": [
    "add_three(1,2,3,4,5)"
   ]
  },
  {
   "cell_type": "code",
   "execution_count": 111,
   "id": "3ec4be38",
   "metadata": {},
   "outputs": [
    {
     "name": "stdout",
     "output_type": "stream",
     "text": [
      "Help on function add_three in module __main__:\n",
      "\n",
      "add_three(b, a=1, c=3)\n",
      "\n"
     ]
    }
   ],
   "source": [
    "help(add_three)"
   ]
  },
  {
   "cell_type": "code",
   "execution_count": 112,
   "id": "3bf705da",
   "metadata": {},
   "outputs": [
    {
     "ename": "TypeError",
     "evalue": "add_three() missing 1 required positional argument: 'b'",
     "output_type": "error",
     "traceback": [
      "\u001b[1;31m---------------------------------------------------------------------------\u001b[0m",
      "\u001b[1;31mTypeError\u001b[0m                                 Traceback (most recent call last)",
      "Cell \u001b[1;32mIn[112], line 1\u001b[0m\n\u001b[1;32m----> 1\u001b[0m add_three()\n",
      "\u001b[1;31mTypeError\u001b[0m: add_three() missing 1 required positional argument: 'b'"
     ]
    }
   ],
   "source": [
    "add_three()"
   ]
  },
  {
   "cell_type": "code",
   "execution_count": 113,
   "id": "f30cbd4d",
   "metadata": {},
   "outputs": [],
   "source": [
    "def add_three(a=1,b=2,c=3):\n",
    "    return a + b + c"
   ]
  },
  {
   "cell_type": "code",
   "execution_count": 114,
   "id": "11f43f30",
   "metadata": {},
   "outputs": [
    {
     "data": {
      "text/plain": [
       "6"
      ]
     },
     "execution_count": 114,
     "metadata": {},
     "output_type": "execute_result"
    }
   ],
   "source": [
    "add_three()"
   ]
  },
  {
   "cell_type": "code",
   "execution_count": 115,
   "id": "7a697b11",
   "metadata": {},
   "outputs": [
    {
     "data": {
      "text/plain": [
       "15"
      ]
     },
     "execution_count": 115,
     "metadata": {},
     "output_type": "execute_result"
    }
   ],
   "source": [
    "add_three(10)"
   ]
  },
  {
   "cell_type": "code",
   "execution_count": 116,
   "id": "50dde4f6",
   "metadata": {},
   "outputs": [
    {
     "data": {
      "text/plain": [
       "33"
      ]
     },
     "execution_count": 116,
     "metadata": {},
     "output_type": "execute_result"
    }
   ],
   "source": [
    "add_three(10, 20)"
   ]
  },
  {
   "cell_type": "code",
   "execution_count": 117,
   "id": "740f9487",
   "metadata": {},
   "outputs": [
    {
     "data": {
      "text/plain": [
       "60"
      ]
     },
     "execution_count": 117,
     "metadata": {},
     "output_type": "execute_result"
    }
   ],
   "source": [
    "add_three(10, 20, 30)"
   ]
  },
  {
   "cell_type": "code",
   "execution_count": 118,
   "id": "1b288a7d",
   "metadata": {
    "scrolled": true
   },
   "outputs": [
    {
     "ename": "TypeError",
     "evalue": "add_three() takes from 0 to 3 positional arguments but 4 were given",
     "output_type": "error",
     "traceback": [
      "\u001b[1;31m---------------------------------------------------------------------------\u001b[0m",
      "\u001b[1;31mTypeError\u001b[0m                                 Traceback (most recent call last)",
      "Cell \u001b[1;32mIn[118], line 1\u001b[0m\n\u001b[1;32m----> 1\u001b[0m add_three(\u001b[38;5;241m10\u001b[39m, \u001b[38;5;241m20\u001b[39m, \u001b[38;5;241m30\u001b[39m, \u001b[38;5;241m40\u001b[39m)\n",
      "\u001b[1;31mTypeError\u001b[0m: add_three() takes from 0 to 3 positional arguments but 4 were given"
     ]
    }
   ],
   "source": [
    "add_three(10, 20, 30, 40)"
   ]
  },
  {
   "cell_type": "code",
   "execution_count": null,
   "id": "27ce6229",
   "metadata": {},
   "outputs": [],
   "source": []
  }
 ],
 "metadata": {
  "kernelspec": {
   "display_name": "Python 3 (ipykernel)",
   "language": "python",
   "name": "python3"
  },
  "language_info": {
   "codemirror_mode": {
    "name": "ipython",
    "version": 3
   },
   "file_extension": ".py",
   "mimetype": "text/x-python",
   "name": "python",
   "nbconvert_exporter": "python",
   "pygments_lexer": "ipython3",
   "version": "3.11.4"
  }
 },
 "nbformat": 4,
 "nbformat_minor": 5
}
