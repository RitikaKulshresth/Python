{
 "cells": [
  {
   "cell_type": "markdown",
   "id": "f01939e5",
   "metadata": {},
   "source": [
    "This is my first notebook!!\n",
    "\n",
    "We can write any notes here in the Markdown cell.\n",
    "\n"
   ]
  },
  {
   "cell_type": "code",
   "execution_count": 1,
   "id": "908614d6",
   "metadata": {},
   "outputs": [
    {
     "name": "stdout",
     "output_type": "stream",
     "text": [
      "60\n"
     ]
    }
   ],
   "source": [
    "x = 10\n",
    "y = 50\n",
    "result = x + y\n",
    "print(result)"
   ]
  },
  {
   "cell_type": "markdown",
   "id": "9e930b0c",
   "metadata": {},
   "source": [
    "first line\n",
    "second line"
   ]
  },
  {
   "cell_type": "markdown",
   "id": "85634650",
   "metadata": {},
   "source": [
    "# Heading\n",
    "\n",
    "## Sub heading\n",
    "\n",
    "### Topic \n",
    "\n",
    "#### Sub topic\n",
    "\n",
    "##### Sub sub topic\n",
    "\n",
    "This is another markdown cell"
   ]
  },
  {
   "cell_type": "code",
   "execution_count": null,
   "id": "624903f5",
   "metadata": {},
   "outputs": [],
   "source": []
  }
 ],
 "metadata": {
  "kernelspec": {
   "display_name": "Python 3 (ipykernel)",
   "language": "python",
   "name": "python3"
  },
  "language_info": {
   "codemirror_mode": {
    "name": "ipython",
    "version": 3
   },
   "file_extension": ".py",
   "mimetype": "text/x-python",
   "name": "python",
   "nbconvert_exporter": "python",
   "pygments_lexer": "ipython3",
   "version": "3.11.4"
  }
 },
 "nbformat": 4,
 "nbformat_minor": 5
}
