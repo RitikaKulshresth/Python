{
 "cells": [
  {
   "cell_type": "code",
   "execution_count": 1,
   "id": "32cfb6c3",
   "metadata": {},
   "outputs": [
    {
     "name": "stdout",
     "output_type": "stream",
     "text": [
      "Positive\n"
     ]
    }
   ],
   "source": [
    "num = 10\n",
    "if num == 0:\n",
    "    print(\"Neither positive nor negative. It's ZERO!!!\")\n",
    "elif num < 0:\n",
    "    print(\"Negative\")\n",
    "else:\n",
    "    print(\"Positive\")"
   ]
  },
  {
   "cell_type": "code",
   "execution_count": 2,
   "id": "2e338319",
   "metadata": {},
   "outputs": [
    {
     "ename": "TypeError",
     "evalue": "unsupported operand type(s) for +: 'int' and 'str'",
     "output_type": "error",
     "traceback": [
      "\u001b[1;31m---------------------------------------------------------------------------\u001b[0m",
      "\u001b[1;31mTypeError\u001b[0m                                 Traceback (most recent call last)",
      "Cell \u001b[1;32mIn[2], line 1\u001b[0m\n\u001b[1;32m----> 1\u001b[0m num \u001b[38;5;241m+\u001b[39m \u001b[38;5;124m\"\u001b[39m\u001b[38;5;124mpositive\u001b[39m\u001b[38;5;124m\"\u001b[39m\n",
      "\u001b[1;31mTypeError\u001b[0m: unsupported operand type(s) for +: 'int' and 'str'"
     ]
    }
   ],
   "source": [
    "num + \"positive\""
   ]
  },
  {
   "cell_type": "code",
   "execution_count": 3,
   "id": "5f672db7",
   "metadata": {},
   "outputs": [
    {
     "name": "stdout",
     "output_type": "stream",
     "text": [
      "10 is positive\n"
     ]
    }
   ],
   "source": [
    "num = 10\n",
    "if num == 0:\n",
    "    print(\"Neither positive nor negative. It's ZERO!!!\")\n",
    "elif num < 0:\n",
    "    print(num, \"is negative\")\n",
    "else:\n",
    "    print(num, \"is positive\")"
   ]
  },
  {
   "cell_type": "code",
   "execution_count": 4,
   "id": "06096649",
   "metadata": {},
   "outputs": [
    {
     "name": "stdout",
     "output_type": "stream",
     "text": [
      "-2 is negative\n"
     ]
    }
   ],
   "source": [
    "num = -2\n",
    "if num == 0:\n",
    "    print(\"Neither positive nor negative. It's ZERO!!!\")\n",
    "elif num < 0:\n",
    "    print(num, \"is negative\")\n",
    "else:\n",
    "    print(num, \"is positive\")"
   ]
  },
  {
   "cell_type": "code",
   "execution_count": null,
   "id": "d5103965",
   "metadata": {},
   "outputs": [],
   "source": []
  },
  {
   "cell_type": "code",
   "execution_count": 5,
   "id": "4f81f930",
   "metadata": {},
   "outputs": [
    {
     "name": "stdout",
     "output_type": "stream",
     "text": [
      "Help on built-in function id in module builtins:\n",
      "\n",
      "id(obj, /)\n",
      "    Return the identity of an object.\n",
      "    \n",
      "    This is guaranteed to be unique among simultaneously existing objects.\n",
      "    (CPython uses the object's memory address.)\n",
      "\n"
     ]
    }
   ],
   "source": [
    "help(id)"
   ]
  },
  {
   "cell_type": "code",
   "execution_count": 6,
   "id": "a9a5bc9e",
   "metadata": {},
   "outputs": [
    {
     "name": "stdout",
     "output_type": "stream",
     "text": [
      "Help on built-in function len in module builtins:\n",
      "\n",
      "len(obj, /)\n",
      "    Return the number of items in a container.\n",
      "\n"
     ]
    }
   ],
   "source": [
    "help(len)"
   ]
  },
  {
   "cell_type": "code",
   "execution_count": 7,
   "id": "fc45dcd2",
   "metadata": {},
   "outputs": [
    {
     "name": "stdout",
     "output_type": "stream",
     "text": [
      "Help on built-in function print in module builtins:\n",
      "\n",
      "print(*args, sep=' ', end='\\n', file=None, flush=False)\n",
      "    Prints the values to a stream, or to sys.stdout by default.\n",
      "    \n",
      "    sep\n",
      "      string inserted between values, default a space.\n",
      "    end\n",
      "      string appended after the last value, default a newline.\n",
      "    file\n",
      "      a file-like object (stream); defaults to the current sys.stdout.\n",
      "    flush\n",
      "      whether to forcibly flush the stream.\n",
      "\n"
     ]
    }
   ],
   "source": [
    "help(print)"
   ]
  },
  {
   "cell_type": "code",
   "execution_count": 8,
   "id": "1c5576fc",
   "metadata": {},
   "outputs": [
    {
     "name": "stdout",
     "output_type": "stream",
     "text": [
      "10 20 30\n"
     ]
    }
   ],
   "source": [
    "print(10,20,30)"
   ]
  },
  {
   "cell_type": "code",
   "execution_count": 9,
   "id": "bd18320c",
   "metadata": {},
   "outputs": [
    {
     "name": "stdout",
     "output_type": "stream",
     "text": [
      "10&20&30\n"
     ]
    }
   ],
   "source": [
    "print(10,20,30,sep='&')"
   ]
  },
  {
   "cell_type": "code",
   "execution_count": 10,
   "id": "746f3715",
   "metadata": {},
   "outputs": [
    {
     "name": "stdout",
     "output_type": "stream",
     "text": [
      "10####20####30\n"
     ]
    }
   ],
   "source": [
    "print(10,20,30,sep='####')"
   ]
  },
  {
   "cell_type": "code",
   "execution_count": 11,
   "id": "eb4c5225",
   "metadata": {},
   "outputs": [
    {
     "name": "stdout",
     "output_type": "stream",
     "text": [
      "10####20####30\n",
      "Hello\n"
     ]
    }
   ],
   "source": [
    "print(10,20,30,sep='####')\n",
    "print(\"Hello\")"
   ]
  },
  {
   "cell_type": "code",
   "execution_count": 12,
   "id": "a3addb53",
   "metadata": {},
   "outputs": [
    {
     "name": "stdout",
     "output_type": "stream",
     "text": [
      "10#20#30$Hello\n"
     ]
    }
   ],
   "source": [
    "print(10,20,30,sep='#',end='$')\n",
    "print(\"Hello\")"
   ]
  },
  {
   "cell_type": "code",
   "execution_count": 13,
   "id": "c7e455d4",
   "metadata": {},
   "outputs": [
    {
     "name": "stdout",
     "output_type": "stream",
     "text": [
      "10#20#30$Hello&Bye\n",
      "Hi\n"
     ]
    }
   ],
   "source": [
    "print(10,20,30,sep='#',end='$')\n",
    "print(\"Hello\", end='&')\n",
    "print(\"Bye\")\n",
    "print(\"Hi\")"
   ]
  },
  {
   "cell_type": "code",
   "execution_count": 14,
   "id": "2825c779",
   "metadata": {},
   "outputs": [],
   "source": [
    "# string formatting\n",
    "# f-string"
   ]
  },
  {
   "cell_type": "code",
   "execution_count": 15,
   "id": "1da58c2a",
   "metadata": {},
   "outputs": [
    {
     "name": "stdout",
     "output_type": "stream",
     "text": [
      "-2 is negative\n"
     ]
    }
   ],
   "source": [
    "num = -2\n",
    "if num == 0:\n",
    "    print(\"Neither positive nor negative. It's ZERO!!!\")\n",
    "elif num < 0:\n",
    "    print(f\"{num} is negative\")\n",
    "else:\n",
    "    print(f\"{num} is positive\")"
   ]
  },
  {
   "cell_type": "code",
   "execution_count": 16,
   "id": "cd24605e",
   "metadata": {},
   "outputs": [
    {
     "name": "stdout",
     "output_type": "stream",
     "text": [
      "10 is positive\n"
     ]
    }
   ],
   "source": [
    "num = 10\n",
    "if num == 0:\n",
    "    print(\"Neither positive nor negative. It's ZERO!!!\")\n",
    "elif num < 0:\n",
    "    print(f\"{num} is negative\")\n",
    "else:\n",
    "    print(f\"{num} is positive\")"
   ]
  },
  {
   "cell_type": "code",
   "execution_count": 17,
   "id": "ce1e2c39",
   "metadata": {},
   "outputs": [],
   "source": [
    "name = \"John\"\n",
    "age = 25"
   ]
  },
  {
   "cell_type": "code",
   "execution_count": 18,
   "id": "d34214df",
   "metadata": {},
   "outputs": [],
   "source": [
    "# His name is John. He is 25 years old!!"
   ]
  },
  {
   "cell_type": "code",
   "execution_count": 19,
   "id": "ad92966b",
   "metadata": {},
   "outputs": [
    {
     "name": "stdout",
     "output_type": "stream",
     "text": [
      "His name is John. He is 25 years old!!\n"
     ]
    }
   ],
   "source": [
    "print(f\"His name is {name}. He is {age} years old!!\")"
   ]
  },
  {
   "cell_type": "code",
   "execution_count": 22,
   "id": "a6ec7c67",
   "metadata": {},
   "outputs": [
    {
     "name": "stdout",
     "output_type": "stream",
     "text": [
      "His name is John . He is 25 years old!!\n"
     ]
    }
   ],
   "source": [
    "print(\"His name is\", name, \". He is\", age, \"years old!!\")"
   ]
  },
  {
   "cell_type": "code",
   "execution_count": 23,
   "id": "3389165d",
   "metadata": {},
   "outputs": [
    {
     "name": "stdout",
     "output_type": "stream",
     "text": [
      "His name is {name}. He is {age} years old!!\n"
     ]
    }
   ],
   "source": [
    "print(\"His name is {name}. He is {age} years old!!\")"
   ]
  },
  {
   "cell_type": "code",
   "execution_count": null,
   "id": "5ef5166a",
   "metadata": {},
   "outputs": [],
   "source": []
  },
  {
   "cell_type": "code",
   "execution_count": 24,
   "id": "8fda0165",
   "metadata": {},
   "outputs": [],
   "source": [
    "# input()"
   ]
  },
  {
   "cell_type": "code",
   "execution_count": 25,
   "id": "41b9729a",
   "metadata": {},
   "outputs": [
    {
     "name": "stdout",
     "output_type": "stream",
     "text": [
      "Enter a number: 10\n"
     ]
    },
    {
     "ename": "TypeError",
     "evalue": "'<' not supported between instances of 'str' and 'int'",
     "output_type": "error",
     "traceback": [
      "\u001b[1;31m---------------------------------------------------------------------------\u001b[0m",
      "\u001b[1;31mTypeError\u001b[0m                                 Traceback (most recent call last)",
      "Cell \u001b[1;32mIn[25], line 4\u001b[0m\n\u001b[0;32m      2\u001b[0m \u001b[38;5;28;01mif\u001b[39;00m num \u001b[38;5;241m==\u001b[39m \u001b[38;5;241m0\u001b[39m:\n\u001b[0;32m      3\u001b[0m     \u001b[38;5;28mprint\u001b[39m(\u001b[38;5;124m\"\u001b[39m\u001b[38;5;124mNeither positive nor negative. It\u001b[39m\u001b[38;5;124m'\u001b[39m\u001b[38;5;124ms ZERO!!!\u001b[39m\u001b[38;5;124m\"\u001b[39m)\n\u001b[1;32m----> 4\u001b[0m \u001b[38;5;28;01melif\u001b[39;00m num \u001b[38;5;241m<\u001b[39m \u001b[38;5;241m0\u001b[39m:\n\u001b[0;32m      5\u001b[0m     \u001b[38;5;28mprint\u001b[39m(\u001b[38;5;124mf\u001b[39m\u001b[38;5;124m\"\u001b[39m\u001b[38;5;132;01m{\u001b[39;00mnum\u001b[38;5;132;01m}\u001b[39;00m\u001b[38;5;124m is negative\u001b[39m\u001b[38;5;124m\"\u001b[39m)\n\u001b[0;32m      6\u001b[0m \u001b[38;5;28;01melse\u001b[39;00m:\n",
      "\u001b[1;31mTypeError\u001b[0m: '<' not supported between instances of 'str' and 'int'"
     ]
    }
   ],
   "source": [
    "num = input(\"Enter a number: \")\n",
    "if num == 0:\n",
    "    print(\"Neither positive nor negative. It's ZERO!!!\")\n",
    "elif num < 0:\n",
    "    print(f\"{num} is negative\")\n",
    "else:\n",
    "    print(f\"{num} is positive\")"
   ]
  },
  {
   "cell_type": "code",
   "execution_count": 26,
   "id": "3fd32ff5",
   "metadata": {},
   "outputs": [
    {
     "data": {
      "text/plain": [
       "str"
      ]
     },
     "execution_count": 26,
     "metadata": {},
     "output_type": "execute_result"
    }
   ],
   "source": [
    "type(num)"
   ]
  },
  {
   "cell_type": "code",
   "execution_count": 27,
   "id": "75522b19",
   "metadata": {},
   "outputs": [
    {
     "name": "stdout",
     "output_type": "stream",
     "text": [
      "Help on method raw_input in module ipykernel.kernelbase:\n",
      "\n",
      "raw_input(prompt='') method of ipykernel.ipkernel.IPythonKernel instance\n",
      "    Forward raw_input to frontends\n",
      "    \n",
      "    Raises\n",
      "    ------\n",
      "    StdinNotImplementedError if active frontend doesn't support stdin.\n",
      "\n"
     ]
    }
   ],
   "source": [
    "help(input)"
   ]
  },
  {
   "cell_type": "code",
   "execution_count": 28,
   "id": "abfd1d4b",
   "metadata": {},
   "outputs": [],
   "source": [
    "# input() returns a string!!"
   ]
  },
  {
   "cell_type": "code",
   "execution_count": 29,
   "id": "fe5e60af",
   "metadata": {},
   "outputs": [
    {
     "name": "stdout",
     "output_type": "stream",
     "text": [
      "Enter a number: 10\n"
     ]
    }
   ],
   "source": [
    "num = input(\"Enter a number: \")"
   ]
  },
  {
   "cell_type": "code",
   "execution_count": 30,
   "id": "c9af60a9",
   "metadata": {},
   "outputs": [
    {
     "data": {
      "text/plain": [
       "'10'"
      ]
     },
     "execution_count": 30,
     "metadata": {},
     "output_type": "execute_result"
    }
   ],
   "source": [
    "num"
   ]
  },
  {
   "cell_type": "code",
   "execution_count": 31,
   "id": "d62889da",
   "metadata": {},
   "outputs": [
    {
     "data": {
      "text/plain": [
       "str"
      ]
     },
     "execution_count": 31,
     "metadata": {},
     "output_type": "execute_result"
    }
   ],
   "source": [
    "type(num)"
   ]
  },
  {
   "cell_type": "code",
   "execution_count": 32,
   "id": "122a7986",
   "metadata": {},
   "outputs": [
    {
     "ename": "TypeError",
     "evalue": "'<' not supported between instances of 'str' and 'int'",
     "output_type": "error",
     "traceback": [
      "\u001b[1;31m---------------------------------------------------------------------------\u001b[0m",
      "\u001b[1;31mTypeError\u001b[0m                                 Traceback (most recent call last)",
      "Cell \u001b[1;32mIn[32], line 1\u001b[0m\n\u001b[1;32m----> 1\u001b[0m num \u001b[38;5;241m<\u001b[39m \u001b[38;5;241m0\u001b[39m\n",
      "\u001b[1;31mTypeError\u001b[0m: '<' not supported between instances of 'str' and 'int'"
     ]
    }
   ],
   "source": [
    "num < 0"
   ]
  },
  {
   "cell_type": "code",
   "execution_count": 33,
   "id": "e1be7039",
   "metadata": {},
   "outputs": [
    {
     "data": {
      "text/plain": [
       "'10'"
      ]
     },
     "execution_count": 33,
     "metadata": {},
     "output_type": "execute_result"
    }
   ],
   "source": [
    "num"
   ]
  },
  {
   "cell_type": "code",
   "execution_count": 34,
   "id": "63f0b7d6",
   "metadata": {},
   "outputs": [
    {
     "data": {
      "text/plain": [
       "10"
      ]
     },
     "execution_count": 34,
     "metadata": {},
     "output_type": "execute_result"
    }
   ],
   "source": [
    "int(num)"
   ]
  },
  {
   "cell_type": "code",
   "execution_count": 35,
   "id": "4168ca2e",
   "metadata": {},
   "outputs": [
    {
     "name": "stdout",
     "output_type": "stream",
     "text": [
      "Enter a number: 10\n",
      "10 is positive\n"
     ]
    }
   ],
   "source": [
    "num = int(input(\"Enter a number: \"))\n",
    "if num == 0:\n",
    "    print(\"Neither positive nor negative. It's ZERO!!!\")\n",
    "elif num < 0:\n",
    "    print(f\"{num} is negative\")\n",
    "else:\n",
    "    print(f\"{num} is positive\")"
   ]
  },
  {
   "cell_type": "code",
   "execution_count": 36,
   "id": "8a21ec08",
   "metadata": {},
   "outputs": [
    {
     "name": "stdout",
     "output_type": "stream",
     "text": [
      "Enter your marks: 67.5\n",
      "D\n"
     ]
    }
   ],
   "source": [
    "marks = float(input(\"Enter your marks: \"))\n",
    "\n",
    "if marks >= 90:\n",
    "    print('A')\n",
    "elif marks >= 80:\n",
    "    print('B')\n",
    "elif marks >= 70:\n",
    "    print('C')\n",
    "elif marks >= 60:\n",
    "    print('D')\n",
    "else:\n",
    "    print('F')"
   ]
  },
  {
   "cell_type": "code",
   "execution_count": 37,
   "id": "d04a4705",
   "metadata": {},
   "outputs": [
    {
     "name": "stdout",
     "output_type": "stream",
     "text": [
      "Enter your marks: 67.5\n",
      "The grade is D.\n"
     ]
    }
   ],
   "source": [
    "marks = float(input(\"Enter your marks: \"))\n",
    "\n",
    "if marks >= 90:\n",
    "    grade = 'A'\n",
    "elif marks >= 80:\n",
    "    grade = 'B'\n",
    "elif marks >= 70:\n",
    "    grade = 'C'\n",
    "elif marks >= 60:\n",
    "    grade = 'D'\n",
    "else:\n",
    "    grade = 'F'\n",
    "    \n",
    "print(f\"The grade is {grade}.\")"
   ]
  },
  {
   "cell_type": "code",
   "execution_count": 38,
   "id": "6e24b699",
   "metadata": {},
   "outputs": [
    {
     "name": "stdout",
     "output_type": "stream",
     "text": [
      "Enter a number: hi\n"
     ]
    },
    {
     "ename": "ValueError",
     "evalue": "invalid literal for int() with base 10: 'hi'",
     "output_type": "error",
     "traceback": [
      "\u001b[1;31m---------------------------------------------------------------------------\u001b[0m",
      "\u001b[1;31mValueError\u001b[0m                                Traceback (most recent call last)",
      "Cell \u001b[1;32mIn[38], line 1\u001b[0m\n\u001b[1;32m----> 1\u001b[0m num \u001b[38;5;241m=\u001b[39m \u001b[38;5;28mint\u001b[39m(\u001b[38;5;28minput\u001b[39m(\u001b[38;5;124m\"\u001b[39m\u001b[38;5;124mEnter a number: \u001b[39m\u001b[38;5;124m\"\u001b[39m))\n\u001b[0;32m      2\u001b[0m \u001b[38;5;28;01mif\u001b[39;00m num \u001b[38;5;241m==\u001b[39m \u001b[38;5;241m0\u001b[39m:\n\u001b[0;32m      3\u001b[0m     \u001b[38;5;28mprint\u001b[39m(\u001b[38;5;124m\"\u001b[39m\u001b[38;5;124mNeither positive nor negative. It\u001b[39m\u001b[38;5;124m'\u001b[39m\u001b[38;5;124ms ZERO!!!\u001b[39m\u001b[38;5;124m\"\u001b[39m)\n",
      "\u001b[1;31mValueError\u001b[0m: invalid literal for int() with base 10: 'hi'"
     ]
    }
   ],
   "source": [
    "num = int(input(\"Enter a number: \"))\n",
    "if num == 0:\n",
    "    print(\"Neither positive nor negative. It's ZERO!!!\")\n",
    "elif num < 0:\n",
    "    print(f\"{num} is negative\")\n",
    "else:\n",
    "    print(f\"{num} is positive\")"
   ]
  },
  {
   "cell_type": "code",
   "execution_count": 39,
   "id": "281a8d13",
   "metadata": {},
   "outputs": [
    {
     "name": "stdout",
     "output_type": "stream",
     "text": [
      "Enter a number: 10 + 2j\n"
     ]
    },
    {
     "ename": "ValueError",
     "evalue": "invalid literal for int() with base 10: '10 + 2j'",
     "output_type": "error",
     "traceback": [
      "\u001b[1;31m---------------------------------------------------------------------------\u001b[0m",
      "\u001b[1;31mValueError\u001b[0m                                Traceback (most recent call last)",
      "Cell \u001b[1;32mIn[39], line 1\u001b[0m\n\u001b[1;32m----> 1\u001b[0m num \u001b[38;5;241m=\u001b[39m \u001b[38;5;28mint\u001b[39m(\u001b[38;5;28minput\u001b[39m(\u001b[38;5;124m\"\u001b[39m\u001b[38;5;124mEnter a number: \u001b[39m\u001b[38;5;124m\"\u001b[39m))\n\u001b[0;32m      2\u001b[0m \u001b[38;5;28;01mif\u001b[39;00m num \u001b[38;5;241m==\u001b[39m \u001b[38;5;241m0\u001b[39m:\n\u001b[0;32m      3\u001b[0m     \u001b[38;5;28mprint\u001b[39m(\u001b[38;5;124m\"\u001b[39m\u001b[38;5;124mNeither positive nor negative. It\u001b[39m\u001b[38;5;124m'\u001b[39m\u001b[38;5;124ms ZERO!!!\u001b[39m\u001b[38;5;124m\"\u001b[39m)\n",
      "\u001b[1;31mValueError\u001b[0m: invalid literal for int() with base 10: '10 + 2j'"
     ]
    }
   ],
   "source": [
    "num = int(input(\"Enter a number: \"))\n",
    "if num == 0:\n",
    "    print(\"Neither positive nor negative. It's ZERO!!!\")\n",
    "elif num < 0:\n",
    "    print(f\"{num} is negative\")\n",
    "else:\n",
    "    print(f\"{num} is positive\")"
   ]
  },
  {
   "cell_type": "code",
   "execution_count": 40,
   "id": "a9eb71c5",
   "metadata": {},
   "outputs": [
    {
     "name": "stdout",
     "output_type": "stream",
     "text": [
      "Enter a whole number to check whether it is positive or nrgative: 9\n",
      "9 is positive\n"
     ]
    }
   ],
   "source": [
    "num = int(input(\"Enter a whole number to check whether it is positive or nrgative: \"))\n",
    "if num == 0:\n",
    "    print(\"Neither positive nor negative. It's ZERO!!!\")\n",
    "elif num < 0:\n",
    "    print(f\"{num} is negative\")\n",
    "else:\n",
    "    print(f\"{num} is positive\")"
   ]
  },
  {
   "cell_type": "code",
   "execution_count": 41,
   "id": "cac0694c",
   "metadata": {},
   "outputs": [
    {
     "ename": "ValueError",
     "evalue": "invalid literal for int() with base 10: '10+4j'",
     "output_type": "error",
     "traceback": [
      "\u001b[1;31m---------------------------------------------------------------------------\u001b[0m",
      "\u001b[1;31mValueError\u001b[0m                                Traceback (most recent call last)",
      "Cell \u001b[1;32mIn[41], line 1\u001b[0m\n\u001b[1;32m----> 1\u001b[0m \u001b[38;5;28mint\u001b[39m(\u001b[38;5;124m\"\u001b[39m\u001b[38;5;124m10+4j\u001b[39m\u001b[38;5;124m\"\u001b[39m)\n",
      "\u001b[1;31mValueError\u001b[0m: invalid literal for int() with base 10: '10+4j'"
     ]
    }
   ],
   "source": [
    "int(\"10+4j\")"
   ]
  },
  {
   "cell_type": "code",
   "execution_count": 43,
   "id": "8783c217",
   "metadata": {},
   "outputs": [
    {
     "name": "stdout",
     "output_type": "stream",
     "text": [
      "67.5\n"
     ]
    },
    {
     "data": {
      "text/plain": [
       "67"
      ]
     },
     "execution_count": 43,
     "metadata": {},
     "output_type": "execute_result"
    }
   ],
   "source": [
    "int(float(input()))"
   ]
  },
  {
   "cell_type": "code",
   "execution_count": 44,
   "id": "9771ef94",
   "metadata": {},
   "outputs": [],
   "source": [
    "num1 = 10.5"
   ]
  },
  {
   "cell_type": "code",
   "execution_count": 45,
   "id": "62b8710b",
   "metadata": {},
   "outputs": [],
   "source": [
    "num1 = 10"
   ]
  },
  {
   "cell_type": "code",
   "execution_count": 46,
   "id": "666d2bf4",
   "metadata": {},
   "outputs": [],
   "source": [
    "num1 = 10.5"
   ]
  },
  {
   "cell_type": "code",
   "execution_count": 47,
   "id": "77e9d7ad",
   "metadata": {},
   "outputs": [],
   "source": [
    "num1 = int(num1)"
   ]
  },
  {
   "cell_type": "code",
   "execution_count": 48,
   "id": "a9a4e70f",
   "metadata": {},
   "outputs": [
    {
     "data": {
      "text/plain": [
       "10"
      ]
     },
     "execution_count": 48,
     "metadata": {},
     "output_type": "execute_result"
    }
   ],
   "source": [
    "num1"
   ]
  },
  {
   "cell_type": "code",
   "execution_count": 49,
   "id": "50ac7ad0",
   "metadata": {},
   "outputs": [
    {
     "name": "stdout",
     "output_type": "stream",
     "text": [
      "What's your name?John\n",
      "How old are you?25\n"
     ]
    }
   ],
   "source": [
    "name = input(\"What's your name?\")\n",
    "age = int(input(\"How old are you?\"))"
   ]
  },
  {
   "cell_type": "code",
   "execution_count": 51,
   "id": "3165ec6b",
   "metadata": {},
   "outputs": [
    {
     "name": "stdout",
     "output_type": "stream",
     "text": [
      "What's your name?Jill\n",
      "How old are you?21\n",
      "Hello Jill. You are 21 years old!!\n"
     ]
    }
   ],
   "source": [
    "name = input(\"What's your name?\")\n",
    "age = int(input(\"How old are you?\"))\n",
    "\n",
    "print(f\"Hello {name}. You are {age} years old!!\")"
   ]
  },
  {
   "cell_type": "code",
   "execution_count": null,
   "id": "2ad99f41",
   "metadata": {},
   "outputs": [],
   "source": []
  },
  {
   "cell_type": "code",
   "execution_count": 52,
   "id": "57edd3c3",
   "metadata": {},
   "outputs": [],
   "source": [
    "# Write a program (WAP) to take 2 inputs - name and age of the user\n",
    "# If the user's age is 60 or above, print => Hello <name>, you are a senior citizen! You get a discount of 10%.\n",
    "# Otherwise, Hello <name>, no discount for you as you are not a senior citizen!!"
   ]
  },
  {
   "cell_type": "code",
   "execution_count": 53,
   "id": "66e56ba8",
   "metadata": {},
   "outputs": [
    {
     "name": "stdout",
     "output_type": "stream",
     "text": [
      "Enter your name: 43\n",
      "Enter your age: 61\n",
      "Hello 43, you are a senior citizen! You get a discount of 10%.\n"
     ]
    }
   ],
   "source": [
    "name = input(\"Enter your name: \")\n",
    "age = int(input(\"Enter your age: \"))\n",
    "\n",
    "if age >= 60:\n",
    "    print(f\"Hello {name}, you are a senior citizen! You get a discount of 10%.\")\n",
    "else:\n",
    "    print(f\"Hello {name}, no discount for you as you are not a senior citizen!!\")"
   ]
  },
  {
   "cell_type": "code",
   "execution_count": 54,
   "id": "f6c1e08e",
   "metadata": {},
   "outputs": [
    {
     "name": "stdout",
     "output_type": "stream",
     "text": [
      "Enter your name: John\n",
      "Enter your age: 23\n",
      "Hello John, no discount for you as you are not a senior citizen!!\n"
     ]
    }
   ],
   "source": [
    "name = input(\"Enter your name: \")\n",
    "age = int(input(\"Enter your age: \"))\n",
    "\n",
    "if age >= 60:\n",
    "    print(f\"Hello {name}, you are a senior citizen! You get a discount of 10%.\")\n",
    "else:\n",
    "    print(f\"Hello {name}, no discount for you as you are not a senior citizen!!\")"
   ]
  },
  {
   "cell_type": "code",
   "execution_count": 55,
   "id": "05d32cbb",
   "metadata": {},
   "outputs": [
    {
     "name": "stdout",
     "output_type": "stream",
     "text": [
      "Enter your name: Mark\n",
      "Enter your age: 67\n",
      "Hello Mark, you are a senior citizen! You get a discount of 10%.\n"
     ]
    }
   ],
   "source": [
    "name = input(\"Enter your name: \")\n",
    "age = int(input(\"Enter your age: \"))\n",
    "\n",
    "if age >= 60:\n",
    "    print(f\"Hello {name}, you are a senior citizen! You get a discount of 10%.\")\n",
    "else:\n",
    "    print(f\"Hello {name}, no discount for you as you are not a senior citizen!!\")"
   ]
  },
  {
   "cell_type": "code",
   "execution_count": null,
   "id": "c348a426",
   "metadata": {},
   "outputs": [],
   "source": []
  },
  {
   "cell_type": "code",
   "execution_count": 56,
   "id": "a74cb36d",
   "metadata": {},
   "outputs": [],
   "source": [
    "# Write a program (WAP) to take 2 inputs - name, age and bill amount from the user\n",
    "# If the user's age is 60 or above, discount = 10%\n",
    "# Otherwise, discount = 5%\n",
    "\n",
    "# Calculate the final bill as per the discount"
   ]
  },
  {
   "cell_type": "code",
   "execution_count": 57,
   "id": "37bd8f76",
   "metadata": {},
   "outputs": [
    {
     "name": "stdout",
     "output_type": "stream",
     "text": [
      "Enter your name: Mark\n",
      "Enter your age: 77\n",
      "Enter your bill amount: 1000\n",
      "Please pay 900.0\n"
     ]
    }
   ],
   "source": [
    "name = input(\"Enter your name: \")\n",
    "age = int(input(\"Enter your age: \"))\n",
    "bill = float(input(\"Enter your bill amount: \"))\n",
    "\n",
    "if age >= 60:\n",
    "    discount = 10\n",
    "else:\n",
    "    discount = 5\n",
    "    \n",
    "final_amount = bill - (discount * bill / 100)\n",
    "print(f\"Please pay {final_amount}\")"
   ]
  },
  {
   "cell_type": "code",
   "execution_count": 58,
   "id": "14f40465",
   "metadata": {},
   "outputs": [
    {
     "name": "stdout",
     "output_type": "stream",
     "text": [
      "Enter your name: Carol\n",
      "Enter your age: 34\n",
      "Enter your bill amount: 200\n",
      "Please pay 190.0\n"
     ]
    }
   ],
   "source": [
    "name = input(\"Enter your name: \")\n",
    "age = int(input(\"Enter your age: \"))\n",
    "bill = float(input(\"Enter your bill amount: \"))\n",
    "\n",
    "if age >= 60:\n",
    "    discount = 10\n",
    "else:\n",
    "    discount = 5\n",
    "    \n",
    "final_amount = bill - (discount * bill / 100)\n",
    "print(f\"Please pay {final_amount}\")"
   ]
  },
  {
   "cell_type": "code",
   "execution_count": null,
   "id": "9595234c",
   "metadata": {},
   "outputs": [],
   "source": []
  },
  {
   "cell_type": "code",
   "execution_count": 59,
   "id": "64cb9169",
   "metadata": {},
   "outputs": [],
   "source": [
    "# Nested if"
   ]
  },
  {
   "cell_type": "code",
   "execution_count": 60,
   "id": "0ff6e454",
   "metadata": {},
   "outputs": [],
   "source": [
    "# Take a whole number input from the user\n",
    "\n",
    "# Check if the number is negative or positive or zero\n",
    "# If the number is positive, multiply the number by 3 and then check if the number is odd or even\n",
    "# If the number is negative, add 10 to the number "
   ]
  },
  {
   "cell_type": "code",
   "execution_count": 63,
   "id": "bea10bd4",
   "metadata": {},
   "outputs": [
    {
     "name": "stdout",
     "output_type": "stream",
     "text": [
      "Enter a number: 7\n",
      "Positive\n",
      "Odd\n"
     ]
    }
   ],
   "source": [
    "num = int(input(\"Enter a number: \"))\n",
    "\n",
    "if num == 0:\n",
    "    print(\"ZERO!!!\")\n",
    "elif num < 0:\n",
    "    print(\"Negative\")\n",
    "    num += 10\n",
    "else:\n",
    "    print(\"Positive\")\n",
    "    num = num * 3 # num *= 3\n",
    "    if num % 2 == 0:\n",
    "        print(\"Even\")\n",
    "    else:\n",
    "        print(\"Odd\")"
   ]
  },
  {
   "cell_type": "code",
   "execution_count": 62,
   "id": "a9527f79",
   "metadata": {},
   "outputs": [],
   "source": [
    "# Take a whole number input from the user\n",
    "\n",
    "# Check if the number is negative or positive or zero\n",
    "# If the number is positive, multiply the number by 3 and then check if the number is odd or even\n",
    "# If the number is negative, add 10 to the number and check if the number is more than -5 or less than -5???"
   ]
  },
  {
   "cell_type": "code",
   "execution_count": 64,
   "id": "2318951d",
   "metadata": {},
   "outputs": [
    {
     "name": "stdout",
     "output_type": "stream",
     "text": [
      "Enter a number: 10\n",
      "Positive\n",
      "Even\n"
     ]
    }
   ],
   "source": [
    "num = int(input(\"Enter a number: \"))\n",
    "\n",
    "if num == 0:\n",
    "    print(\"ZERO!!!\")\n",
    "elif num < 0:\n",
    "    print(\"Negative\")\n",
    "    num += 10\n",
    "    if num < -5:\n",
    "        print(\"Less than -5\")\n",
    "    else:\n",
    "        print(\"Equal to or more than -5\")\n",
    "else:\n",
    "    print(\"Positive\")\n",
    "    num = num * 3 # num *= 3\n",
    "    if num % 2 == 0:\n",
    "        print(\"Even\")\n",
    "    else:\n",
    "        print(\"Odd\")"
   ]
  },
  {
   "cell_type": "code",
   "execution_count": 65,
   "id": "145df9e6",
   "metadata": {},
   "outputs": [
    {
     "name": "stdout",
     "output_type": "stream",
     "text": [
      "Enter a number: -12\n",
      "Negative\n",
      "Equal to or more than -5\n"
     ]
    }
   ],
   "source": [
    "num = int(input(\"Enter a number: \"))\n",
    "\n",
    "if num == 0:\n",
    "    print(\"ZERO!!!\")\n",
    "elif num < 0:\n",
    "    print(\"Negative\")\n",
    "    num += 10\n",
    "    if num < -5:\n",
    "        print(\"Less than -5\")\n",
    "    else:\n",
    "        print(\"Equal to or more than -5\")\n",
    "else:\n",
    "    print(\"Positive\")\n",
    "    num = num * 3 # num *= 3\n",
    "    if num % 2 == 0:\n",
    "        print(\"Even\")\n",
    "    else:\n",
    "        print(\"Odd\")"
   ]
  },
  {
   "cell_type": "code",
   "execution_count": null,
   "id": "9e2ff6ea",
   "metadata": {},
   "outputs": [],
   "source": []
  }
 ],
 "metadata": {
  "kernelspec": {
   "display_name": "Python 3 (ipykernel)",
   "language": "python",
   "name": "python3"
  },
  "language_info": {
   "codemirror_mode": {
    "name": "ipython",
    "version": 3
   },
   "file_extension": ".py",
   "mimetype": "text/x-python",
   "name": "python",
   "nbconvert_exporter": "python",
   "pygments_lexer": "ipython3",
   "version": "3.11.4"
  }
 },
 "nbformat": 4,
 "nbformat_minor": 5
}
