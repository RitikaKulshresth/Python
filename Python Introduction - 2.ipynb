{
 "cells": [
  {
   "cell_type": "markdown",
   "id": "5f06ed37",
   "metadata": {},
   "source": [
    "### Errors in Python\n",
    "\n",
    "1. Compile time error\n",
    "    - occurs while the source code is converted to Byte code\n",
    "    - it happens when the source code has wrong Syntax/Indentation\n",
    "    - Syntax Error and Indentation Error\n",
    "    - If this happens, the Byte code will NOT be generated\n",
    "    \n",
    "2. Runtime error\n",
    "    - occurs while the code is executing/running after successfully compiling the source code\n",
    "    - any error that occurs during this stage terminates the execution of the program\n",
    "    - Examples of runtime error:\n",
    "        - using a variable name which is not defined\n",
    "        - dividing a number by 0\n",
    "        - Adding a number with a character (10 + 'a')"
   ]
  },
  {
   "cell_type": "code",
   "execution_count": null,
   "id": "ca77a2ef",
   "metadata": {},
   "outputs": [],
   "source": []
  },
  {
   "cell_type": "code",
   "execution_count": 1,
   "id": "32bceca5",
   "metadata": {},
   "outputs": [
    {
     "name": "stdout",
     "output_type": "stream",
     "text": [
      "40\n"
     ]
    }
   ],
   "source": [
    "age = 40\n",
    "print(age)"
   ]
  },
  {
   "cell_type": "code",
   "execution_count": 2,
   "id": "b1a6cf59",
   "metadata": {},
   "outputs": [
    {
     "name": "stdout",
     "output_type": "stream",
     "text": [
      "50.0\n"
     ]
    }
   ],
   "source": [
    "x = 100\n",
    "y = 2\n",
    "result = x / y\n",
    "print(result)"
   ]
  },
  {
   "cell_type": "code",
   "execution_count": null,
   "id": "707f95c9",
   "metadata": {},
   "outputs": [],
   "source": []
  },
  {
   "cell_type": "code",
   "execution_count": 4,
   "id": "cd1858e4",
   "metadata": {},
   "outputs": [
    {
     "ename": "SyntaxError",
     "evalue": "invalid syntax (2153871588.py, line 2)",
     "output_type": "error",
     "traceback": [
      "\u001b[1;36m  Cell \u001b[1;32mIn[4], line 2\u001b[1;36m\u001b[0m\n\u001b[1;33m    y  2\u001b[0m\n\u001b[1;37m       ^\u001b[0m\n\u001b[1;31mSyntaxError\u001b[0m\u001b[1;31m:\u001b[0m invalid syntax\n"
     ]
    }
   ],
   "source": [
    "x = 100\n",
    "y  2\n",
    "result = x / y\n",
    "print(result)"
   ]
  },
  {
   "cell_type": "code",
   "execution_count": 5,
   "id": "335efd66",
   "metadata": {},
   "outputs": [
    {
     "name": "stdout",
     "output_type": "stream",
     "text": [
      "50.0\n"
     ]
    }
   ],
   "source": [
    "x = 100\n",
    "y = 2\n",
    "result = x / y\n",
    "print(result)"
   ]
  },
  {
   "cell_type": "code",
   "execution_count": 6,
   "id": "4bb5dd66",
   "metadata": {},
   "outputs": [
    {
     "ename": "SyntaxError",
     "evalue": "incomplete input (2317077784.py, line 4)",
     "output_type": "error",
     "traceback": [
      "\u001b[1;36m  Cell \u001b[1;32mIn[6], line 4\u001b[1;36m\u001b[0m\n\u001b[1;33m    print(result\u001b[0m\n\u001b[1;37m                ^\u001b[0m\n\u001b[1;31mSyntaxError\u001b[0m\u001b[1;31m:\u001b[0m incomplete input\n"
     ]
    }
   ],
   "source": [
    "x = 100\n",
    "y = 2\n",
    "result = x / y\n",
    "print(result"
   ]
  },
  {
   "cell_type": "markdown",
   "id": "36fcd6d9",
   "metadata": {},
   "source": [
    "Any violation of the Syntax and Indentation will end up in Compile time error"
   ]
  },
  {
   "cell_type": "code",
   "execution_count": null,
   "id": "27431311",
   "metadata": {},
   "outputs": [],
   "source": []
  },
  {
   "cell_type": "code",
   "execution_count": 7,
   "id": "c789d4e0",
   "metadata": {
    "scrolled": true
   },
   "outputs": [
    {
     "ename": "NameError",
     "evalue": "name 'Y' is not defined",
     "output_type": "error",
     "traceback": [
      "\u001b[1;31m---------------------------------------------------------------------------\u001b[0m",
      "\u001b[1;31mNameError\u001b[0m                                 Traceback (most recent call last)",
      "Cell \u001b[1;32mIn[7], line 3\u001b[0m\n\u001b[0;32m      1\u001b[0m x\u001b[38;5;241m=\u001b[39m\u001b[38;5;241m20\u001b[39m\n\u001b[0;32m      2\u001b[0m y\u001b[38;5;241m=\u001b[39m\u001b[38;5;241m20\u001b[39m\n\u001b[1;32m----> 3\u001b[0m \u001b[38;5;28mprint\u001b[39m(x\u001b[38;5;241m+\u001b[39mY)\n",
      "\u001b[1;31mNameError\u001b[0m: name 'Y' is not defined"
     ]
    }
   ],
   "source": [
    "x=20\n",
    "y=20\n",
    "print(x+Y)"
   ]
  },
  {
   "cell_type": "code",
   "execution_count": 8,
   "id": "199ad789",
   "metadata": {},
   "outputs": [
    {
     "ename": "NameError",
     "evalue": "name 'a' is not defined",
     "output_type": "error",
     "traceback": [
      "\u001b[1;31m---------------------------------------------------------------------------\u001b[0m",
      "\u001b[1;31mNameError\u001b[0m                                 Traceback (most recent call last)",
      "Cell \u001b[1;32mIn[8], line 1\u001b[0m\n\u001b[1;32m----> 1\u001b[0m result \u001b[38;5;241m=\u001b[39m a \u001b[38;5;241m/\u001b[39m b\n\u001b[0;32m      2\u001b[0m a \u001b[38;5;241m=\u001b[39m \u001b[38;5;241m10\u001b[39m\n\u001b[0;32m      3\u001b[0m b \u001b[38;5;241m=\u001b[39m \u001b[38;5;241m2\u001b[39m\n",
      "\u001b[1;31mNameError\u001b[0m: name 'a' is not defined"
     ]
    }
   ],
   "source": [
    "result = a / b\n",
    "a = 10\n",
    "b = 2"
   ]
  },
  {
   "cell_type": "code",
   "execution_count": 9,
   "id": "4fc560d1",
   "metadata": {},
   "outputs": [
    {
     "name": "stdout",
     "output_type": "stream",
     "text": [
      "50.0\n"
     ]
    }
   ],
   "source": [
    "x = 100\n",
    "y = 2\n",
    "result = x / y\n",
    "print(result)"
   ]
  },
  {
   "cell_type": "code",
   "execution_count": 10,
   "id": "5832d01d",
   "metadata": {},
   "outputs": [
    {
     "name": "stdout",
     "output_type": "stream",
     "text": [
      "100\n",
      "2\n",
      "50.0\n"
     ]
    }
   ],
   "source": [
    "x = 100\n",
    "print(x)\n",
    "y = 2\n",
    "print(y)\n",
    "result = x / y\n",
    "print(result)"
   ]
  },
  {
   "cell_type": "code",
   "execution_count": 12,
   "id": "a1c5467e",
   "metadata": {},
   "outputs": [
    {
     "name": "stdout",
     "output_type": "stream",
     "text": [
      "100\n",
      "0\n"
     ]
    },
    {
     "ename": "ZeroDivisionError",
     "evalue": "division by zero",
     "output_type": "error",
     "traceback": [
      "\u001b[1;31m---------------------------------------------------------------------------\u001b[0m",
      "\u001b[1;31mZeroDivisionError\u001b[0m                         Traceback (most recent call last)",
      "Cell \u001b[1;32mIn[12], line 5\u001b[0m\n\u001b[0;32m      3\u001b[0m y \u001b[38;5;241m=\u001b[39m \u001b[38;5;241m0\u001b[39m\n\u001b[0;32m      4\u001b[0m \u001b[38;5;28mprint\u001b[39m(y)\n\u001b[1;32m----> 5\u001b[0m result \u001b[38;5;241m=\u001b[39m x \u001b[38;5;241m/\u001b[39m y\n\u001b[0;32m      6\u001b[0m \u001b[38;5;28mprint\u001b[39m(result)\n",
      "\u001b[1;31mZeroDivisionError\u001b[0m: division by zero"
     ]
    }
   ],
   "source": [
    "x = 100\n",
    "print(x)\n",
    "y = 0\n",
    "print(y)\n",
    "result = x / y\n",
    "print(result)"
   ]
  },
  {
   "cell_type": "code",
   "execution_count": null,
   "id": "9cf29508",
   "metadata": {},
   "outputs": [],
   "source": []
  },
  {
   "cell_type": "markdown",
   "id": "b5e4312f",
   "metadata": {},
   "source": [
    "The Byte code (.pyc file) gets stored in the system (under the folder `__pycache__`)\n",
    "\n",
    "When the source code does not change, the compilation step is skipped and the saved byte code is given to the interpreter.\n",
    "\n",
    "If we change the source code, then it gets re-compiled!!!"
   ]
  },
  {
   "cell_type": "code",
   "execution_count": null,
   "id": "dbbae2c1",
   "metadata": {},
   "outputs": [],
   "source": []
  },
  {
   "cell_type": "markdown",
   "id": "e249a1b9",
   "metadata": {},
   "source": [
    "### Memory management in Python\n",
    "\n",
    "- What is memory management?\n",
    "    - managing the memory: allocation and de-allocation of the memory\n",
    "- Inefficient memory management can lead to slowness of the application/program\n",
    "- In Python, memory management is done automatically (Python Memory Manager)\n",
    "\n",
    "- The Python Memory Manager (PMM) is a part of the PVM which is responsible for managing memory in Python"
   ]
  },
  {
   "cell_type": "code",
   "execution_count": null,
   "id": "339bf3eb",
   "metadata": {},
   "outputs": [],
   "source": []
  },
  {
   "cell_type": "markdown",
   "id": "3dc6b80e",
   "metadata": {},
   "source": [
    "#### Memory allocation\n",
    "\n",
    "1. Static memory allocation\n",
    "    - occurs during compile time\n",
    "    - Stack is used for static memory allocation\n",
    "\n",
    "2. Dynamic memory allocation\n",
    "    - memory allocation occurs during runtime\n",
    "    - Heap is used for dynamic memory allocation\n",
    "    \n",
    "- Dynamic memory allocation is done in Python. PMM allocates the memory to the data/value and when the data is not required, PMM deletes the value from that memory and re-claims that memory so that it can be used for storing some other value!!!"
   ]
  },
  {
   "cell_type": "code",
   "execution_count": null,
   "id": "35b66051",
   "metadata": {},
   "outputs": [],
   "source": []
  },
  {
   "cell_type": "markdown",
   "id": "5019e8f1",
   "metadata": {},
   "source": [
    "Stack: Memory allocation happens in continuous memory addresses/location\n",
    "\n",
    "Heap: Memory allocation happens in random memory addresses\n",
    "\n",
    "PMM:\n",
    "\n",
    "- There are 2 types of allocators in PMM:\n",
    "    1. Object specific allocator: allocates the memory to the data/value\n",
    "    2. Raw memory allocator: Interacts with the OS and ensures that there is enough memory in the Python heap."
   ]
  },
  {
   "cell_type": "code",
   "execution_count": null,
   "id": "d3fb30ca",
   "metadata": {},
   "outputs": [],
   "source": []
  }
 ],
 "metadata": {
  "kernelspec": {
   "display_name": "Python 3 (ipykernel)",
   "language": "python",
   "name": "python3"
  },
  "language_info": {
   "codemirror_mode": {
    "name": "ipython",
    "version": 3
   },
   "file_extension": ".py",
   "mimetype": "text/x-python",
   "name": "python",
   "nbconvert_exporter": "python",
   "pygments_lexer": "ipython3",
   "version": "3.11.4"
  }
 },
 "nbformat": 4,
 "nbformat_minor": 5
}
