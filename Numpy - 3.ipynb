{
 "cells": [
  {
   "cell_type": "code",
   "execution_count": 1,
   "id": "92db69e2",
   "metadata": {},
   "outputs": [],
   "source": [
    "import numpy as np"
   ]
  },
  {
   "cell_type": "code",
   "execution_count": 2,
   "id": "3a75a4fc",
   "metadata": {},
   "outputs": [],
   "source": [
    "# Broadcasting"
   ]
  },
  {
   "cell_type": "code",
   "execution_count": 3,
   "id": "b4983563",
   "metadata": {},
   "outputs": [],
   "source": [
    "arr1 = np.random.randint(0,9,(5,))"
   ]
  },
  {
   "cell_type": "code",
   "execution_count": 4,
   "id": "75fa94f1",
   "metadata": {},
   "outputs": [],
   "source": [
    "arr2 = np.random.randint(0,9,(5,))"
   ]
  },
  {
   "cell_type": "code",
   "execution_count": 5,
   "id": "f6b1b5a9",
   "metadata": {},
   "outputs": [],
   "source": [
    "arr3 = np.random.randint(0, 10, (4,))"
   ]
  },
  {
   "cell_type": "code",
   "execution_count": 6,
   "id": "b5f8de18",
   "metadata": {},
   "outputs": [
    {
     "data": {
      "text/plain": [
       "array([6, 1, 6, 8, 5])"
      ]
     },
     "execution_count": 6,
     "metadata": {},
     "output_type": "execute_result"
    }
   ],
   "source": [
    "arr1"
   ]
  },
  {
   "cell_type": "code",
   "execution_count": 7,
   "id": "2963ccae",
   "metadata": {},
   "outputs": [
    {
     "data": {
      "text/plain": [
       "array([3, 6, 8, 7, 8])"
      ]
     },
     "execution_count": 7,
     "metadata": {},
     "output_type": "execute_result"
    }
   ],
   "source": [
    "arr2"
   ]
  },
  {
   "cell_type": "code",
   "execution_count": 8,
   "id": "ea347655",
   "metadata": {},
   "outputs": [
    {
     "data": {
      "text/plain": [
       "array([6, 4, 8, 7])"
      ]
     },
     "execution_count": 8,
     "metadata": {},
     "output_type": "execute_result"
    }
   ],
   "source": [
    "arr3"
   ]
  },
  {
   "cell_type": "code",
   "execution_count": 9,
   "id": "c3ebddf9",
   "metadata": {},
   "outputs": [
    {
     "data": {
      "text/plain": [
       "array([ True, False, False,  True, False])"
      ]
     },
     "execution_count": 9,
     "metadata": {},
     "output_type": "execute_result"
    }
   ],
   "source": [
    "arr1 > arr2"
   ]
  },
  {
   "cell_type": "code",
   "execution_count": 10,
   "id": "73a4f353",
   "metadata": {},
   "outputs": [
    {
     "ename": "ValueError",
     "evalue": "operands could not be broadcast together with shapes (5,) (4,) ",
     "output_type": "error",
     "traceback": [
      "\u001b[1;31m---------------------------------------------------------------------------\u001b[0m",
      "\u001b[1;31mValueError\u001b[0m                                Traceback (most recent call last)",
      "Cell \u001b[1;32mIn[10], line 1\u001b[0m\n\u001b[1;32m----> 1\u001b[0m arr1 \u001b[38;5;241m>\u001b[39m arr3\n",
      "\u001b[1;31mValueError\u001b[0m: operands could not be broadcast together with shapes (5,) (4,) "
     ]
    }
   ],
   "source": [
    "arr1 > arr3"
   ]
  },
  {
   "cell_type": "code",
   "execution_count": null,
   "id": "bfcd3c04",
   "metadata": {},
   "outputs": [],
   "source": []
  },
  {
   "cell_type": "code",
   "execution_count": 11,
   "id": "95adde17",
   "metadata": {},
   "outputs": [],
   "source": [
    "m1 = np.random.randint(0,9,(3,4))"
   ]
  },
  {
   "cell_type": "code",
   "execution_count": 12,
   "id": "11d5618b",
   "metadata": {},
   "outputs": [
    {
     "data": {
      "text/plain": [
       "array([[5, 5, 4, 5],\n",
       "       [7, 5, 8, 6],\n",
       "       [3, 2, 7, 5]])"
      ]
     },
     "execution_count": 12,
     "metadata": {},
     "output_type": "execute_result"
    }
   ],
   "source": [
    "m1"
   ]
  },
  {
   "cell_type": "code",
   "execution_count": 13,
   "id": "5562bdd5",
   "metadata": {},
   "outputs": [],
   "source": [
    "m2 = np.random.randint(0,9,(3,4))"
   ]
  },
  {
   "cell_type": "code",
   "execution_count": 14,
   "id": "05603a07",
   "metadata": {},
   "outputs": [
    {
     "data": {
      "text/plain": [
       "array([[1, 8, 0, 4],\n",
       "       [6, 5, 2, 5],\n",
       "       [8, 1, 4, 8]])"
      ]
     },
     "execution_count": 14,
     "metadata": {},
     "output_type": "execute_result"
    }
   ],
   "source": [
    "m2"
   ]
  },
  {
   "cell_type": "code",
   "execution_count": 15,
   "id": "7a7f5e39",
   "metadata": {},
   "outputs": [
    {
     "data": {
      "text/plain": [
       "array([[ 6, 13,  4,  9],\n",
       "       [13, 10, 10, 11],\n",
       "       [11,  3, 11, 13]])"
      ]
     },
     "execution_count": 15,
     "metadata": {},
     "output_type": "execute_result"
    }
   ],
   "source": [
    "m1 + m2"
   ]
  },
  {
   "cell_type": "code",
   "execution_count": 16,
   "id": "1203e873",
   "metadata": {},
   "outputs": [
    {
     "data": {
      "text/plain": [
       "array([[ 4, -3,  4,  1],\n",
       "       [ 1,  0,  6,  1],\n",
       "       [-5,  1,  3, -3]])"
      ]
     },
     "execution_count": 16,
     "metadata": {},
     "output_type": "execute_result"
    }
   ],
   "source": [
    "m1 - m2"
   ]
  },
  {
   "cell_type": "code",
   "execution_count": null,
   "id": "0cb3f35b",
   "metadata": {},
   "outputs": [],
   "source": []
  },
  {
   "cell_type": "code",
   "execution_count": 17,
   "id": "5d0a1537",
   "metadata": {},
   "outputs": [
    {
     "data": {
      "text/plain": [
       "array([[5, 5, 4, 5],\n",
       "       [7, 5, 8, 6],\n",
       "       [3, 2, 7, 5]])"
      ]
     },
     "execution_count": 17,
     "metadata": {},
     "output_type": "execute_result"
    }
   ],
   "source": [
    "m1"
   ]
  },
  {
   "cell_type": "code",
   "execution_count": 18,
   "id": "7c316bf4",
   "metadata": {},
   "outputs": [
    {
     "data": {
      "text/plain": [
       "array([[1, 8, 0, 4],\n",
       "       [6, 5, 2, 5],\n",
       "       [8, 1, 4, 8]])"
      ]
     },
     "execution_count": 18,
     "metadata": {},
     "output_type": "execute_result"
    }
   ],
   "source": [
    "m2"
   ]
  },
  {
   "cell_type": "code",
   "execution_count": 19,
   "id": "07411808",
   "metadata": {},
   "outputs": [
    {
     "data": {
      "text/plain": [
       "array([[ 5, 40,  0, 20],\n",
       "       [42, 25, 16, 30],\n",
       "       [24,  2, 28, 40]])"
      ]
     },
     "execution_count": 19,
     "metadata": {},
     "output_type": "execute_result"
    }
   ],
   "source": [
    "m1 * m2"
   ]
  },
  {
   "cell_type": "code",
   "execution_count": 20,
   "id": "93409745",
   "metadata": {},
   "outputs": [],
   "source": [
    "# dot product??"
   ]
  },
  {
   "cell_type": "code",
   "execution_count": 21,
   "id": "af93e335",
   "metadata": {},
   "outputs": [],
   "source": [
    "# for dot product to work, the number of cols of the first matrux should be equal to the number of rows of the second matrix"
   ]
  },
  {
   "cell_type": "code",
   "execution_count": 22,
   "id": "efaedad1",
   "metadata": {},
   "outputs": [
    {
     "ename": "ValueError",
     "evalue": "matmul: Input operand 1 has a mismatch in its core dimension 0, with gufunc signature (n?,k),(k,m?)->(n?,m?) (size 3 is different from 4)",
     "output_type": "error",
     "traceback": [
      "\u001b[1;31m---------------------------------------------------------------------------\u001b[0m",
      "\u001b[1;31mValueError\u001b[0m                                Traceback (most recent call last)",
      "Cell \u001b[1;32mIn[22], line 1\u001b[0m\n\u001b[1;32m----> 1\u001b[0m m1 \u001b[38;5;241m@\u001b[39m m2\n",
      "\u001b[1;31mValueError\u001b[0m: matmul: Input operand 1 has a mismatch in its core dimension 0, with gufunc signature (n?,k),(k,m?)->(n?,m?) (size 3 is different from 4)"
     ]
    }
   ],
   "source": [
    "m1 @ m2"
   ]
  },
  {
   "cell_type": "code",
   "execution_count": 24,
   "id": "4b7c371b",
   "metadata": {},
   "outputs": [],
   "source": [
    "m1 = np.array([[3,1,1],\n",
    "              [2,1,1]])"
   ]
  },
  {
   "cell_type": "code",
   "execution_count": 25,
   "id": "d4b1ab40",
   "metadata": {},
   "outputs": [
    {
     "data": {
      "text/plain": [
       "array([[3, 1, 1],\n",
       "       [2, 1, 1]])"
      ]
     },
     "execution_count": 25,
     "metadata": {},
     "output_type": "execute_result"
    }
   ],
   "source": [
    "m1"
   ]
  },
  {
   "cell_type": "code",
   "execution_count": 26,
   "id": "00e0f52f",
   "metadata": {},
   "outputs": [],
   "source": [
    "m2 = np.array([[2, 1],\n",
    "              [3, 0],\n",
    "              [2,4]])"
   ]
  },
  {
   "cell_type": "code",
   "execution_count": 27,
   "id": "ad1cd22a",
   "metadata": {},
   "outputs": [
    {
     "data": {
      "text/plain": [
       "array([[2, 1],\n",
       "       [3, 0],\n",
       "       [2, 4]])"
      ]
     },
     "execution_count": 27,
     "metadata": {},
     "output_type": "execute_result"
    }
   ],
   "source": [
    "m2"
   ]
  },
  {
   "cell_type": "code",
   "execution_count": 28,
   "id": "354382e9",
   "metadata": {},
   "outputs": [
    {
     "data": {
      "text/plain": [
       "array([[11,  7],\n",
       "       [ 9,  6]])"
      ]
     },
     "execution_count": 28,
     "metadata": {},
     "output_type": "execute_result"
    }
   ],
   "source": [
    "m1 @ m2"
   ]
  },
  {
   "cell_type": "code",
   "execution_count": null,
   "id": "e31477e1",
   "metadata": {},
   "outputs": [],
   "source": []
  },
  {
   "cell_type": "code",
   "execution_count": 29,
   "id": "0b53b8bb",
   "metadata": {},
   "outputs": [
    {
     "data": {
      "text/plain": [
       "array([[3, 1, 1],\n",
       "       [2, 1, 1]])"
      ]
     },
     "execution_count": 29,
     "metadata": {},
     "output_type": "execute_result"
    }
   ],
   "source": [
    "m1 "
   ]
  },
  {
   "cell_type": "code",
   "execution_count": 30,
   "id": "18c1ab9c",
   "metadata": {},
   "outputs": [
    {
     "data": {
      "text/plain": [
       "array([[2, 1],\n",
       "       [3, 0],\n",
       "       [2, 4]])"
      ]
     },
     "execution_count": 30,
     "metadata": {},
     "output_type": "execute_result"
    }
   ],
   "source": [
    "m2"
   ]
  },
  {
   "cell_type": "code",
   "execution_count": 31,
   "id": "2660e93a",
   "metadata": {},
   "outputs": [
    {
     "ename": "NameError",
     "evalue": "name 'a1' is not defined",
     "output_type": "error",
     "traceback": [
      "\u001b[1;31m---------------------------------------------------------------------------\u001b[0m",
      "\u001b[1;31mNameError\u001b[0m                                 Traceback (most recent call last)",
      "Cell \u001b[1;32mIn[31], line 1\u001b[0m\n\u001b[1;32m----> 1\u001b[0m a1\n",
      "\u001b[1;31mNameError\u001b[0m: name 'a1' is not defined"
     ]
    }
   ],
   "source": [
    "a1"
   ]
  },
  {
   "cell_type": "code",
   "execution_count": 32,
   "id": "853c44ec",
   "metadata": {},
   "outputs": [
    {
     "data": {
      "text/plain": [
       "array([6, 1, 6, 8, 5])"
      ]
     },
     "execution_count": 32,
     "metadata": {},
     "output_type": "execute_result"
    }
   ],
   "source": [
    "arr1"
   ]
  },
  {
   "cell_type": "code",
   "execution_count": 33,
   "id": "f1127b5f",
   "metadata": {},
   "outputs": [
    {
     "data": {
      "text/plain": [
       "array([3, 6, 8, 7, 8])"
      ]
     },
     "execution_count": 33,
     "metadata": {},
     "output_type": "execute_result"
    }
   ],
   "source": [
    "arr2"
   ]
  },
  {
   "cell_type": "code",
   "execution_count": 34,
   "id": "264cac6c",
   "metadata": {},
   "outputs": [
    {
     "data": {
      "text/plain": [
       "array([ 9,  7, 14, 15, 13])"
      ]
     },
     "execution_count": 34,
     "metadata": {},
     "output_type": "execute_result"
    }
   ],
   "source": [
    "arr1 + arr2"
   ]
  },
  {
   "cell_type": "code",
   "execution_count": 35,
   "id": "b81fc6f2",
   "metadata": {},
   "outputs": [
    {
     "data": {
      "text/plain": [
       "array([ 9,  7, 14, 15, 13])"
      ]
     },
     "execution_count": 35,
     "metadata": {},
     "output_type": "execute_result"
    }
   ],
   "source": [
    "np.add(arr1, arr2)"
   ]
  },
  {
   "cell_type": "code",
   "execution_count": 36,
   "id": "1907984d",
   "metadata": {},
   "outputs": [
    {
     "data": {
      "text/plain": [
       "array([ 3, -5, -2,  1, -3])"
      ]
     },
     "execution_count": 36,
     "metadata": {},
     "output_type": "execute_result"
    }
   ],
   "source": [
    "np.subtract(arr1, arr2)"
   ]
  },
  {
   "cell_type": "code",
   "execution_count": 37,
   "id": "10fd9d41",
   "metadata": {},
   "outputs": [
    {
     "data": {
      "text/plain": [
       "array([18,  6, 48, 56, 40])"
      ]
     },
     "execution_count": 37,
     "metadata": {},
     "output_type": "execute_result"
    }
   ],
   "source": [
    "np.multiply(arr1, arr2)"
   ]
  },
  {
   "cell_type": "code",
   "execution_count": 38,
   "id": "8a752302",
   "metadata": {},
   "outputs": [
    {
     "data": {
      "text/plain": [
       "array([[3, 1, 1],\n",
       "       [2, 1, 1]])"
      ]
     },
     "execution_count": 38,
     "metadata": {},
     "output_type": "execute_result"
    }
   ],
   "source": [
    "m1"
   ]
  },
  {
   "cell_type": "code",
   "execution_count": 39,
   "id": "d864def3",
   "metadata": {},
   "outputs": [
    {
     "data": {
      "text/plain": [
       "array([[2, 1],\n",
       "       [3, 0],\n",
       "       [2, 4]])"
      ]
     },
     "execution_count": 39,
     "metadata": {},
     "output_type": "execute_result"
    }
   ],
   "source": [
    "m2"
   ]
  },
  {
   "cell_type": "code",
   "execution_count": 40,
   "id": "9aa2eb9e",
   "metadata": {},
   "outputs": [
    {
     "data": {
      "text/plain": [
       "array([[11,  7],\n",
       "       [ 9,  6]])"
      ]
     },
     "execution_count": 40,
     "metadata": {},
     "output_type": "execute_result"
    }
   ],
   "source": [
    "np.dot(m1, m2)"
   ]
  },
  {
   "cell_type": "code",
   "execution_count": null,
   "id": "6b8aeed5",
   "metadata": {},
   "outputs": [],
   "source": []
  },
  {
   "cell_type": "code",
   "execution_count": 41,
   "id": "bd1113da",
   "metadata": {},
   "outputs": [
    {
     "data": {
      "text/plain": [
       "array([[3, 1, 1],\n",
       "       [2, 1, 1]])"
      ]
     },
     "execution_count": 41,
     "metadata": {},
     "output_type": "execute_result"
    }
   ],
   "source": [
    "m1"
   ]
  },
  {
   "cell_type": "code",
   "execution_count": 42,
   "id": "f551bebc",
   "metadata": {},
   "outputs": [
    {
     "data": {
      "text/plain": [
       "1.5"
      ]
     },
     "execution_count": 42,
     "metadata": {},
     "output_type": "execute_result"
    }
   ],
   "source": [
    "np.mean(m1)"
   ]
  },
  {
   "cell_type": "code",
   "execution_count": 44,
   "id": "ba95f1c1",
   "metadata": {},
   "outputs": [
    {
     "data": {
      "text/plain": [
       "1.0"
      ]
     },
     "execution_count": 44,
     "metadata": {},
     "output_type": "execute_result"
    }
   ],
   "source": [
    "np.median(m1)"
   ]
  },
  {
   "cell_type": "code",
   "execution_count": 45,
   "id": "c7254dcb",
   "metadata": {},
   "outputs": [
    {
     "data": {
      "text/plain": [
       "0.7637626158259734"
      ]
     },
     "execution_count": 45,
     "metadata": {},
     "output_type": "execute_result"
    }
   ],
   "source": [
    "np.std(m1)"
   ]
  },
  {
   "cell_type": "code",
   "execution_count": 46,
   "id": "0b929c06",
   "metadata": {},
   "outputs": [
    {
     "data": {
      "text/plain": [
       "0.5833333333333334"
      ]
     },
     "execution_count": 46,
     "metadata": {},
     "output_type": "execute_result"
    }
   ],
   "source": [
    "np.var(m1)"
   ]
  },
  {
   "cell_type": "code",
   "execution_count": null,
   "id": "25844f0c",
   "metadata": {},
   "outputs": [],
   "source": []
  },
  {
   "cell_type": "code",
   "execution_count": 47,
   "id": "9fd77c4e",
   "metadata": {},
   "outputs": [
    {
     "data": {
      "text/plain": [
       "array([[3, 1, 1],\n",
       "       [2, 1, 1]])"
      ]
     },
     "execution_count": 47,
     "metadata": {},
     "output_type": "execute_result"
    }
   ],
   "source": [
    "m1"
   ]
  },
  {
   "cell_type": "code",
   "execution_count": 48,
   "id": "efc89a67",
   "metadata": {},
   "outputs": [
    {
     "data": {
      "text/plain": [
       "array([[3, 2],\n",
       "       [1, 1],\n",
       "       [1, 1]])"
      ]
     },
     "execution_count": 48,
     "metadata": {},
     "output_type": "execute_result"
    }
   ],
   "source": [
    "np.transpose(m1)"
   ]
  },
  {
   "cell_type": "code",
   "execution_count": 49,
   "id": "6817ea6a",
   "metadata": {},
   "outputs": [
    {
     "data": {
      "text/plain": [
       "array([[3, 2],\n",
       "       [1, 1],\n",
       "       [1, 1]])"
      ]
     },
     "execution_count": 49,
     "metadata": {},
     "output_type": "execute_result"
    }
   ],
   "source": [
    "m1.T"
   ]
  },
  {
   "cell_type": "code",
   "execution_count": null,
   "id": "bcfb5e05",
   "metadata": {},
   "outputs": [],
   "source": []
  },
  {
   "cell_type": "code",
   "execution_count": 50,
   "id": "3750f775",
   "metadata": {},
   "outputs": [],
   "source": [
    "# Indexing and Slicing in arrays"
   ]
  },
  {
   "cell_type": "code",
   "execution_count": 51,
   "id": "c9a477d6",
   "metadata": {},
   "outputs": [
    {
     "data": {
      "text/plain": [
       "array([6, 1, 6, 8, 5])"
      ]
     },
     "execution_count": 51,
     "metadata": {},
     "output_type": "execute_result"
    }
   ],
   "source": [
    "arr1"
   ]
  },
  {
   "cell_type": "code",
   "execution_count": 52,
   "id": "9bb767d7",
   "metadata": {},
   "outputs": [],
   "source": [
    "a1 = np.random.randint(0, 10, (10,))"
   ]
  },
  {
   "cell_type": "code",
   "execution_count": 53,
   "id": "b61d2682",
   "metadata": {},
   "outputs": [
    {
     "data": {
      "text/plain": [
       "array([2, 1, 4, 6, 7, 9, 8, 5, 0, 3])"
      ]
     },
     "execution_count": 53,
     "metadata": {},
     "output_type": "execute_result"
    }
   ],
   "source": [
    "a1"
   ]
  },
  {
   "cell_type": "code",
   "execution_count": 54,
   "id": "5e61464d",
   "metadata": {},
   "outputs": [
    {
     "data": {
      "text/plain": [
       "2"
      ]
     },
     "execution_count": 54,
     "metadata": {},
     "output_type": "execute_result"
    }
   ],
   "source": [
    "a1[0]"
   ]
  },
  {
   "cell_type": "code",
   "execution_count": 55,
   "id": "1d761e0f",
   "metadata": {},
   "outputs": [
    {
     "data": {
      "text/plain": [
       "3"
      ]
     },
     "execution_count": 55,
     "metadata": {},
     "output_type": "execute_result"
    }
   ],
   "source": [
    "a1[-1]"
   ]
  },
  {
   "cell_type": "code",
   "execution_count": 56,
   "id": "00e26bb9",
   "metadata": {},
   "outputs": [
    {
     "data": {
      "text/plain": [
       "array([7, 9, 8, 5])"
      ]
     },
     "execution_count": 56,
     "metadata": {},
     "output_type": "execute_result"
    }
   ],
   "source": [
    "a1[4:8:1]"
   ]
  },
  {
   "cell_type": "code",
   "execution_count": 57,
   "id": "febf5ad5",
   "metadata": {},
   "outputs": [
    {
     "data": {
      "text/plain": [
       "array([4, 7, 8])"
      ]
     },
     "execution_count": 57,
     "metadata": {},
     "output_type": "execute_result"
    }
   ],
   "source": [
    "a1[2:8:2]"
   ]
  },
  {
   "cell_type": "code",
   "execution_count": null,
   "id": "ffa61545",
   "metadata": {},
   "outputs": [],
   "source": []
  },
  {
   "cell_type": "code",
   "execution_count": 58,
   "id": "dbecf30b",
   "metadata": {},
   "outputs": [
    {
     "data": {
      "text/plain": [
       "array([2, 1, 4, 6, 7, 9, 8, 5, 0, 3])"
      ]
     },
     "execution_count": 58,
     "metadata": {},
     "output_type": "execute_result"
    }
   ],
   "source": [
    "a1"
   ]
  },
  {
   "cell_type": "code",
   "execution_count": 59,
   "id": "c55d54eb",
   "metadata": {},
   "outputs": [],
   "source": [
    "a1[0] = 20"
   ]
  },
  {
   "cell_type": "code",
   "execution_count": 60,
   "id": "e8bbe23d",
   "metadata": {},
   "outputs": [
    {
     "data": {
      "text/plain": [
       "array([20,  1,  4,  6,  7,  9,  8,  5,  0,  3])"
      ]
     },
     "execution_count": 60,
     "metadata": {},
     "output_type": "execute_result"
    }
   ],
   "source": [
    "a1"
   ]
  },
  {
   "cell_type": "code",
   "execution_count": 61,
   "id": "8382f884",
   "metadata": {},
   "outputs": [
    {
     "data": {
      "text/plain": [
       "array([6, 7, 9])"
      ]
     },
     "execution_count": 61,
     "metadata": {},
     "output_type": "execute_result"
    }
   ],
   "source": [
    "a1[3:6]"
   ]
  },
  {
   "cell_type": "code",
   "execution_count": 62,
   "id": "4cc24ac9",
   "metadata": {},
   "outputs": [],
   "source": [
    "a1[3:6] = 10"
   ]
  },
  {
   "cell_type": "code",
   "execution_count": 63,
   "id": "4d45a137",
   "metadata": {},
   "outputs": [
    {
     "data": {
      "text/plain": [
       "array([20,  1,  4, 10, 10, 10,  8,  5,  0,  3])"
      ]
     },
     "execution_count": 63,
     "metadata": {},
     "output_type": "execute_result"
    }
   ],
   "source": [
    "a1"
   ]
  },
  {
   "cell_type": "code",
   "execution_count": 64,
   "id": "fd0bb2a3",
   "metadata": {},
   "outputs": [],
   "source": [
    "a1[3:6] = [1,2,3]"
   ]
  },
  {
   "cell_type": "code",
   "execution_count": 65,
   "id": "c03fe38f",
   "metadata": {},
   "outputs": [
    {
     "data": {
      "text/plain": [
       "array([20,  1,  4,  1,  2,  3,  8,  5,  0,  3])"
      ]
     },
     "execution_count": 65,
     "metadata": {},
     "output_type": "execute_result"
    }
   ],
   "source": [
    "a1"
   ]
  },
  {
   "cell_type": "code",
   "execution_count": 66,
   "id": "63a23779",
   "metadata": {},
   "outputs": [
    {
     "ename": "ValueError",
     "evalue": "could not broadcast input array from shape (4,) into shape (3,)",
     "output_type": "error",
     "traceback": [
      "\u001b[1;31m---------------------------------------------------------------------------\u001b[0m",
      "\u001b[1;31mValueError\u001b[0m                                Traceback (most recent call last)",
      "Cell \u001b[1;32mIn[66], line 1\u001b[0m\n\u001b[1;32m----> 1\u001b[0m a1[\u001b[38;5;241m3\u001b[39m:\u001b[38;5;241m6\u001b[39m] \u001b[38;5;241m=\u001b[39m [\u001b[38;5;241m100\u001b[39m, \u001b[38;5;241m200\u001b[39m, \u001b[38;5;241m3000\u001b[39m, \u001b[38;5;241m40\u001b[39m]\n",
      "\u001b[1;31mValueError\u001b[0m: could not broadcast input array from shape (4,) into shape (3,)"
     ]
    }
   ],
   "source": [
    "a1[3:6] = [100, 200, 3000, 40]"
   ]
  },
  {
   "cell_type": "code",
   "execution_count": null,
   "id": "ae431922",
   "metadata": {},
   "outputs": [],
   "source": []
  },
  {
   "cell_type": "code",
   "execution_count": 67,
   "id": "d30d441b",
   "metadata": {},
   "outputs": [
    {
     "data": {
      "text/plain": [
       "array([20,  1,  4,  1,  2,  3,  8,  5,  0,  3])"
      ]
     },
     "execution_count": 67,
     "metadata": {},
     "output_type": "execute_result"
    }
   ],
   "source": [
    "a1"
   ]
  },
  {
   "cell_type": "code",
   "execution_count": 68,
   "id": "ffe22b18",
   "metadata": {},
   "outputs": [
    {
     "ename": "ValueError",
     "evalue": "could not broadcast input array from shape (2,) into shape (3,)",
     "output_type": "error",
     "traceback": [
      "\u001b[1;31m---------------------------------------------------------------------------\u001b[0m",
      "\u001b[1;31mValueError\u001b[0m                                Traceback (most recent call last)",
      "Cell \u001b[1;32mIn[68], line 1\u001b[0m\n\u001b[1;32m----> 1\u001b[0m a1[\u001b[38;5;241m3\u001b[39m:\u001b[38;5;241m6\u001b[39m] \u001b[38;5;241m=\u001b[39m [\u001b[38;5;241m10\u001b[39m, \u001b[38;5;241m20\u001b[39m]\n",
      "\u001b[1;31mValueError\u001b[0m: could not broadcast input array from shape (2,) into shape (3,)"
     ]
    }
   ],
   "source": [
    "a1[3:6] = [10, 20]"
   ]
  },
  {
   "cell_type": "code",
   "execution_count": null,
   "id": "7950a548",
   "metadata": {},
   "outputs": [],
   "source": []
  },
  {
   "cell_type": "code",
   "execution_count": 69,
   "id": "ece1fcbd",
   "metadata": {},
   "outputs": [],
   "source": [
    "# View"
   ]
  },
  {
   "cell_type": "code",
   "execution_count": 70,
   "id": "cc93d377",
   "metadata": {},
   "outputs": [
    {
     "data": {
      "text/plain": [
       "array([20,  1,  4,  1,  2,  3,  8,  5,  0,  3])"
      ]
     },
     "execution_count": 70,
     "metadata": {},
     "output_type": "execute_result"
    }
   ],
   "source": [
    "a1"
   ]
  },
  {
   "cell_type": "code",
   "execution_count": 71,
   "id": "787cd275",
   "metadata": {},
   "outputs": [],
   "source": [
    "slice1 = a1[3:6]"
   ]
  },
  {
   "cell_type": "code",
   "execution_count": 72,
   "id": "544d7c84",
   "metadata": {},
   "outputs": [
    {
     "data": {
      "text/plain": [
       "array([1, 2, 3])"
      ]
     },
     "execution_count": 72,
     "metadata": {},
     "output_type": "execute_result"
    }
   ],
   "source": [
    "slice1"
   ]
  },
  {
   "cell_type": "code",
   "execution_count": 73,
   "id": "702b87c6",
   "metadata": {},
   "outputs": [
    {
     "data": {
      "text/plain": [
       "1"
      ]
     },
     "execution_count": 73,
     "metadata": {},
     "output_type": "execute_result"
    }
   ],
   "source": [
    "slice1[0]"
   ]
  },
  {
   "cell_type": "code",
   "execution_count": 74,
   "id": "427965ae",
   "metadata": {},
   "outputs": [],
   "source": [
    "slice1[0] = -5"
   ]
  },
  {
   "cell_type": "code",
   "execution_count": 75,
   "id": "9b2dcbd6",
   "metadata": {},
   "outputs": [
    {
     "data": {
      "text/plain": [
       "array([-5,  2,  3])"
      ]
     },
     "execution_count": 75,
     "metadata": {},
     "output_type": "execute_result"
    }
   ],
   "source": [
    "slice1"
   ]
  },
  {
   "cell_type": "code",
   "execution_count": 76,
   "id": "dc3d57ef",
   "metadata": {},
   "outputs": [
    {
     "data": {
      "text/plain": [
       "array([20,  1,  4, -5,  2,  3,  8,  5,  0,  3])"
      ]
     },
     "execution_count": 76,
     "metadata": {},
     "output_type": "execute_result"
    }
   ],
   "source": [
    "a1"
   ]
  },
  {
   "cell_type": "code",
   "execution_count": null,
   "id": "373427cf",
   "metadata": {},
   "outputs": [],
   "source": []
  },
  {
   "cell_type": "code",
   "execution_count": 77,
   "id": "c2e87035",
   "metadata": {},
   "outputs": [],
   "source": [
    "l1 = [1,2,3,4,5,6]"
   ]
  },
  {
   "cell_type": "code",
   "execution_count": 78,
   "id": "3d813912",
   "metadata": {},
   "outputs": [
    {
     "data": {
      "text/plain": [
       "[1, 2, 3, 4, 5, 6]"
      ]
     },
     "execution_count": 78,
     "metadata": {},
     "output_type": "execute_result"
    }
   ],
   "source": [
    "l1"
   ]
  },
  {
   "cell_type": "code",
   "execution_count": 79,
   "id": "1a81a650",
   "metadata": {},
   "outputs": [],
   "source": [
    "slice2 = l1[2:4]"
   ]
  },
  {
   "cell_type": "code",
   "execution_count": 80,
   "id": "89ceff56",
   "metadata": {},
   "outputs": [
    {
     "data": {
      "text/plain": [
       "[3, 4]"
      ]
     },
     "execution_count": 80,
     "metadata": {},
     "output_type": "execute_result"
    }
   ],
   "source": [
    "slice2"
   ]
  },
  {
   "cell_type": "code",
   "execution_count": 81,
   "id": "70742046",
   "metadata": {},
   "outputs": [],
   "source": [
    "slice2[0] = 100"
   ]
  },
  {
   "cell_type": "code",
   "execution_count": 82,
   "id": "706f01ca",
   "metadata": {},
   "outputs": [
    {
     "data": {
      "text/plain": [
       "[100, 4]"
      ]
     },
     "execution_count": 82,
     "metadata": {},
     "output_type": "execute_result"
    }
   ],
   "source": [
    "slice2"
   ]
  },
  {
   "cell_type": "code",
   "execution_count": 83,
   "id": "ef6c8846",
   "metadata": {},
   "outputs": [
    {
     "data": {
      "text/plain": [
       "[1, 2, 3, 4, 5, 6]"
      ]
     },
     "execution_count": 83,
     "metadata": {},
     "output_type": "execute_result"
    }
   ],
   "source": [
    "l1"
   ]
  },
  {
   "cell_type": "code",
   "execution_count": 84,
   "id": "3e4c545e",
   "metadata": {},
   "outputs": [],
   "source": [
    "# Arrays creates view when sliced, lists creates a new list"
   ]
  },
  {
   "cell_type": "code",
   "execution_count": null,
   "id": "624302e0",
   "metadata": {},
   "outputs": [],
   "source": []
  },
  {
   "cell_type": "code",
   "execution_count": 85,
   "id": "489b0590",
   "metadata": {},
   "outputs": [
    {
     "data": {
      "text/plain": [
       "array([[3, 1, 1],\n",
       "       [2, 1, 1]])"
      ]
     },
     "execution_count": 85,
     "metadata": {},
     "output_type": "execute_result"
    }
   ],
   "source": [
    "m1"
   ]
  },
  {
   "cell_type": "code",
   "execution_count": 86,
   "id": "d1bf5d88",
   "metadata": {},
   "outputs": [],
   "source": [
    "m3 = np.random.randint(0, 10, (3,4))"
   ]
  },
  {
   "cell_type": "code",
   "execution_count": 87,
   "id": "9468a37e",
   "metadata": {},
   "outputs": [
    {
     "data": {
      "text/plain": [
       "array([[6, 2, 5, 2],\n",
       "       [7, 1, 5, 2],\n",
       "       [1, 6, 6, 6]])"
      ]
     },
     "execution_count": 87,
     "metadata": {},
     "output_type": "execute_result"
    }
   ],
   "source": [
    "m3"
   ]
  },
  {
   "cell_type": "code",
   "execution_count": 88,
   "id": "f84d1cac",
   "metadata": {},
   "outputs": [
    {
     "data": {
      "text/plain": [
       "array([6, 2, 5, 2])"
      ]
     },
     "execution_count": 88,
     "metadata": {},
     "output_type": "execute_result"
    }
   ],
   "source": [
    "m3[0]"
   ]
  },
  {
   "cell_type": "code",
   "execution_count": 89,
   "id": "f038dadb",
   "metadata": {},
   "outputs": [
    {
     "data": {
      "text/plain": [
       "5"
      ]
     },
     "execution_count": 89,
     "metadata": {},
     "output_type": "execute_result"
    }
   ],
   "source": [
    "m3[1][2]"
   ]
  },
  {
   "cell_type": "code",
   "execution_count": 90,
   "id": "07621597",
   "metadata": {},
   "outputs": [
    {
     "data": {
      "text/plain": [
       "5"
      ]
     },
     "execution_count": 90,
     "metadata": {},
     "output_type": "execute_result"
    }
   ],
   "source": [
    "m3[1, 2]"
   ]
  },
  {
   "cell_type": "code",
   "execution_count": 91,
   "id": "0cbedb89",
   "metadata": {},
   "outputs": [],
   "source": [
    "# array[row][col]\n",
    "# array[row, col]"
   ]
  },
  {
   "cell_type": "code",
   "execution_count": 92,
   "id": "fa170e8d",
   "metadata": {},
   "outputs": [
    {
     "data": {
      "text/plain": [
       "array([[6, 2, 5, 2],\n",
       "       [7, 1, 5, 2],\n",
       "       [1, 6, 6, 6]])"
      ]
     },
     "execution_count": 92,
     "metadata": {},
     "output_type": "execute_result"
    }
   ],
   "source": [
    "m3"
   ]
  },
  {
   "cell_type": "code",
   "execution_count": 93,
   "id": "fd7ca518",
   "metadata": {},
   "outputs": [
    {
     "data": {
      "text/plain": [
       "array([[6, 2, 5, 2],\n",
       "       [7, 1, 5, 2]])"
      ]
     },
     "execution_count": 93,
     "metadata": {},
     "output_type": "execute_result"
    }
   ],
   "source": [
    "m3[0:2]"
   ]
  },
  {
   "cell_type": "code",
   "execution_count": 94,
   "id": "2774f1ca",
   "metadata": {},
   "outputs": [
    {
     "data": {
      "text/plain": [
       "array([[2, 5],\n",
       "       [1, 5]])"
      ]
     },
     "execution_count": 94,
     "metadata": {},
     "output_type": "execute_result"
    }
   ],
   "source": [
    "m3[0:2, 1:3]"
   ]
  },
  {
   "cell_type": "code",
   "execution_count": 95,
   "id": "b8304e9c",
   "metadata": {},
   "outputs": [
    {
     "data": {
      "text/plain": [
       "array([[5, 2],\n",
       "       [6, 6]])"
      ]
     },
     "execution_count": 95,
     "metadata": {},
     "output_type": "execute_result"
    }
   ],
   "source": [
    "m3[1:3, 2:4]"
   ]
  },
  {
   "cell_type": "code",
   "execution_count": 97,
   "id": "ada8c089",
   "metadata": {},
   "outputs": [
    {
     "data": {
      "text/plain": [
       "array([[6, 2, 5, 2],\n",
       "       [7, 1, 5, 2],\n",
       "       [1, 6, 6, 6]])"
      ]
     },
     "execution_count": 97,
     "metadata": {},
     "output_type": "execute_result"
    }
   ],
   "source": [
    "m3"
   ]
  },
  {
   "cell_type": "code",
   "execution_count": 98,
   "id": "36b707bd",
   "metadata": {},
   "outputs": [],
   "source": [
    "m3[0,1] = 100"
   ]
  },
  {
   "cell_type": "code",
   "execution_count": 99,
   "id": "b994fbf7",
   "metadata": {},
   "outputs": [
    {
     "data": {
      "text/plain": [
       "array([[  6, 100,   5,   2],\n",
       "       [  7,   1,   5,   2],\n",
       "       [  1,   6,   6,   6]])"
      ]
     },
     "execution_count": 99,
     "metadata": {},
     "output_type": "execute_result"
    }
   ],
   "source": [
    "m3"
   ]
  },
  {
   "cell_type": "code",
   "execution_count": null,
   "id": "e6c5ff41",
   "metadata": {},
   "outputs": [],
   "source": []
  },
  {
   "cell_type": "code",
   "execution_count": 96,
   "id": "53ef0d68",
   "metadata": {},
   "outputs": [],
   "source": [
    "# linspace"
   ]
  },
  {
   "cell_type": "code",
   "execution_count": 100,
   "id": "94b498c8",
   "metadata": {},
   "outputs": [
    {
     "name": "stdout",
     "output_type": "stream",
     "text": [
      "Help on function linspace in module numpy:\n",
      "\n",
      "linspace(start, stop, num=50, endpoint=True, retstep=False, dtype=None, axis=0)\n",
      "    Return evenly spaced numbers over a specified interval.\n",
      "    \n",
      "    Returns `num` evenly spaced samples, calculated over the\n",
      "    interval [`start`, `stop`].\n",
      "    \n",
      "    The endpoint of the interval can optionally be excluded.\n",
      "    \n",
      "    .. versionchanged:: 1.16.0\n",
      "        Non-scalar `start` and `stop` are now supported.\n",
      "    \n",
      "    .. versionchanged:: 1.20.0\n",
      "        Values are rounded towards ``-inf`` instead of ``0`` when an\n",
      "        integer ``dtype`` is specified. The old behavior can\n",
      "        still be obtained with ``np.linspace(start, stop, num).astype(int)``\n",
      "    \n",
      "    Parameters\n",
      "    ----------\n",
      "    start : array_like\n",
      "        The starting value of the sequence.\n",
      "    stop : array_like\n",
      "        The end value of the sequence, unless `endpoint` is set to False.\n",
      "        In that case, the sequence consists of all but the last of ``num + 1``\n",
      "        evenly spaced samples, so that `stop` is excluded.  Note that the step\n",
      "        size changes when `endpoint` is False.\n",
      "    num : int, optional\n",
      "        Number of samples to generate. Default is 50. Must be non-negative.\n",
      "    endpoint : bool, optional\n",
      "        If True, `stop` is the last sample. Otherwise, it is not included.\n",
      "        Default is True.\n",
      "    retstep : bool, optional\n",
      "        If True, return (`samples`, `step`), where `step` is the spacing\n",
      "        between samples.\n",
      "    dtype : dtype, optional\n",
      "        The type of the output array.  If `dtype` is not given, the data type\n",
      "        is inferred from `start` and `stop`. The inferred dtype will never be\n",
      "        an integer; `float` is chosen even if the arguments would produce an\n",
      "        array of integers.\n",
      "    \n",
      "        .. versionadded:: 1.9.0\n",
      "    \n",
      "    axis : int, optional\n",
      "        The axis in the result to store the samples.  Relevant only if start\n",
      "        or stop are array-like.  By default (0), the samples will be along a\n",
      "        new axis inserted at the beginning. Use -1 to get an axis at the end.\n",
      "    \n",
      "        .. versionadded:: 1.16.0\n",
      "    \n",
      "    Returns\n",
      "    -------\n",
      "    samples : ndarray\n",
      "        There are `num` equally spaced samples in the closed interval\n",
      "        ``[start, stop]`` or the half-open interval ``[start, stop)``\n",
      "        (depending on whether `endpoint` is True or False).\n",
      "    step : float, optional\n",
      "        Only returned if `retstep` is True\n",
      "    \n",
      "        Size of spacing between samples.\n",
      "    \n",
      "    \n",
      "    See Also\n",
      "    --------\n",
      "    arange : Similar to `linspace`, but uses a step size (instead of the\n",
      "             number of samples).\n",
      "    geomspace : Similar to `linspace`, but with numbers spaced evenly on a log\n",
      "                scale (a geometric progression).\n",
      "    logspace : Similar to `geomspace`, but with the end points specified as\n",
      "               logarithms.\n",
      "    :ref:`how-to-partition`\n",
      "    \n",
      "    Examples\n",
      "    --------\n",
      "    >>> np.linspace(2.0, 3.0, num=5)\n",
      "    array([2.  , 2.25, 2.5 , 2.75, 3.  ])\n",
      "    >>> np.linspace(2.0, 3.0, num=5, endpoint=False)\n",
      "    array([2. ,  2.2,  2.4,  2.6,  2.8])\n",
      "    >>> np.linspace(2.0, 3.0, num=5, retstep=True)\n",
      "    (array([2.  ,  2.25,  2.5 ,  2.75,  3.  ]), 0.25)\n",
      "    \n",
      "    Graphical illustration:\n",
      "    \n",
      "    >>> import matplotlib.pyplot as plt\n",
      "    >>> N = 8\n",
      "    >>> y = np.zeros(N)\n",
      "    >>> x1 = np.linspace(0, 10, N, endpoint=True)\n",
      "    >>> x2 = np.linspace(0, 10, N, endpoint=False)\n",
      "    >>> plt.plot(x1, y, 'o')\n",
      "    [<matplotlib.lines.Line2D object at 0x...>]\n",
      "    >>> plt.plot(x2, y + 0.5, 'o')\n",
      "    [<matplotlib.lines.Line2D object at 0x...>]\n",
      "    >>> plt.ylim([-0.5, 1])\n",
      "    (-0.5, 1)\n",
      "    >>> plt.show()\n",
      "\n"
     ]
    }
   ],
   "source": [
    "help(np.linspace)"
   ]
  },
  {
   "cell_type": "code",
   "execution_count": 101,
   "id": "39aa6770",
   "metadata": {},
   "outputs": [
    {
     "data": {
      "text/plain": [
       "array([ 1.,  2.,  3.,  4.,  5.,  6.,  7.,  8.,  9., 10., 11., 12., 13.,\n",
       "       14., 15., 16., 17., 18., 19., 20., 21., 22., 23., 24., 25., 26.,\n",
       "       27., 28., 29., 30., 31., 32., 33., 34., 35., 36., 37., 38., 39.,\n",
       "       40., 41., 42., 43., 44., 45., 46., 47., 48., 49., 50.])"
      ]
     },
     "execution_count": 101,
     "metadata": {},
     "output_type": "execute_result"
    }
   ],
   "source": [
    "np.linspace(1, 50)"
   ]
  },
  {
   "cell_type": "code",
   "execution_count": 102,
   "id": "f153c9a9",
   "metadata": {},
   "outputs": [],
   "source": [
    "# Arithmetic progression -> even spaced sequence"
   ]
  },
  {
   "cell_type": "code",
   "execution_count": 103,
   "id": "a401b0e7",
   "metadata": {},
   "outputs": [
    {
     "data": {
      "text/plain": [
       "array([ 1.        ,  3.11111111,  5.22222222,  7.33333333,  9.44444444,\n",
       "       11.55555556, 13.66666667, 15.77777778, 17.88888889, 20.        ])"
      ]
     },
     "execution_count": 103,
     "metadata": {},
     "output_type": "execute_result"
    }
   ],
   "source": [
    "np.linspace(1, 20, 10)"
   ]
  },
  {
   "cell_type": "code",
   "execution_count": null,
   "id": "d7d7d136",
   "metadata": {},
   "outputs": [],
   "source": [
    "# a(n) = a+ (n-1)d\n",
    "# a -> first values\n",
    "# d -> common diff\n",
    "# n -> 10"
   ]
  },
  {
   "cell_type": "code",
   "execution_count": 104,
   "id": "7167a687",
   "metadata": {},
   "outputs": [],
   "source": [
    "# geomspace"
   ]
  },
  {
   "cell_type": "code",
   "execution_count": 105,
   "id": "dac79f6c",
   "metadata": {},
   "outputs": [
    {
     "name": "stdout",
     "output_type": "stream",
     "text": [
      "Help on function geomspace in module numpy:\n",
      "\n",
      "geomspace(start, stop, num=50, endpoint=True, dtype=None, axis=0)\n",
      "    Return numbers spaced evenly on a log scale (a geometric progression).\n",
      "    \n",
      "    This is similar to `logspace`, but with endpoints specified directly.\n",
      "    Each output sample is a constant multiple of the previous.\n",
      "    \n",
      "    .. versionchanged:: 1.16.0\n",
      "        Non-scalar `start` and `stop` are now supported.\n",
      "    \n",
      "    Parameters\n",
      "    ----------\n",
      "    start : array_like\n",
      "        The starting value of the sequence.\n",
      "    stop : array_like\n",
      "        The final value of the sequence, unless `endpoint` is False.\n",
      "        In that case, ``num + 1`` values are spaced over the\n",
      "        interval in log-space, of which all but the last (a sequence of\n",
      "        length `num`) are returned.\n",
      "    num : integer, optional\n",
      "        Number of samples to generate.  Default is 50.\n",
      "    endpoint : boolean, optional\n",
      "        If true, `stop` is the last sample. Otherwise, it is not included.\n",
      "        Default is True.\n",
      "    dtype : dtype\n",
      "        The type of the output array.  If `dtype` is not given, the data type\n",
      "        is inferred from `start` and `stop`. The inferred dtype will never be\n",
      "        an integer; `float` is chosen even if the arguments would produce an\n",
      "        array of integers.\n",
      "    axis : int, optional\n",
      "        The axis in the result to store the samples.  Relevant only if start\n",
      "        or stop are array-like.  By default (0), the samples will be along a\n",
      "        new axis inserted at the beginning. Use -1 to get an axis at the end.\n",
      "    \n",
      "        .. versionadded:: 1.16.0\n",
      "    \n",
      "    Returns\n",
      "    -------\n",
      "    samples : ndarray\n",
      "        `num` samples, equally spaced on a log scale.\n",
      "    \n",
      "    See Also\n",
      "    --------\n",
      "    logspace : Similar to geomspace, but with endpoints specified using log\n",
      "               and base.\n",
      "    linspace : Similar to geomspace, but with arithmetic instead of geometric\n",
      "               progression.\n",
      "    arange : Similar to linspace, with the step size specified instead of the\n",
      "             number of samples.\n",
      "    :ref:`how-to-partition`\n",
      "    \n",
      "    Notes\n",
      "    -----\n",
      "    If the inputs or dtype are complex, the output will follow a logarithmic\n",
      "    spiral in the complex plane.  (There are an infinite number of spirals\n",
      "    passing through two points; the output will follow the shortest such path.)\n",
      "    \n",
      "    Examples\n",
      "    --------\n",
      "    >>> np.geomspace(1, 1000, num=4)\n",
      "    array([    1.,    10.,   100.,  1000.])\n",
      "    >>> np.geomspace(1, 1000, num=3, endpoint=False)\n",
      "    array([   1.,   10.,  100.])\n",
      "    >>> np.geomspace(1, 1000, num=4, endpoint=False)\n",
      "    array([   1.        ,    5.62341325,   31.6227766 ,  177.827941  ])\n",
      "    >>> np.geomspace(1, 256, num=9)\n",
      "    array([   1.,    2.,    4.,    8.,   16.,   32.,   64.,  128.,  256.])\n",
      "    \n",
      "    Note that the above may not produce exact integers:\n",
      "    \n",
      "    >>> np.geomspace(1, 256, num=9, dtype=int)\n",
      "    array([  1,   2,   4,   7,  16,  32,  63, 127, 256])\n",
      "    >>> np.around(np.geomspace(1, 256, num=9)).astype(int)\n",
      "    array([  1,   2,   4,   8,  16,  32,  64, 128, 256])\n",
      "    \n",
      "    Negative, decreasing, and complex inputs are allowed:\n",
      "    \n",
      "    >>> np.geomspace(1000, 1, num=4)\n",
      "    array([1000.,  100.,   10.,    1.])\n",
      "    >>> np.geomspace(-1000, -1, num=4)\n",
      "    array([-1000.,  -100.,   -10.,    -1.])\n",
      "    >>> np.geomspace(1j, 1000j, num=4)  # Straight line\n",
      "    array([0.   +1.j, 0.  +10.j, 0. +100.j, 0.+1000.j])\n",
      "    >>> np.geomspace(-1+0j, 1+0j, num=5)  # Circle\n",
      "    array([-1.00000000e+00+1.22464680e-16j, -7.07106781e-01+7.07106781e-01j,\n",
      "            6.12323400e-17+1.00000000e+00j,  7.07106781e-01+7.07106781e-01j,\n",
      "            1.00000000e+00+0.00000000e+00j])\n",
      "    \n",
      "    Graphical illustration of `endpoint` parameter:\n",
      "    \n",
      "    >>> import matplotlib.pyplot as plt\n",
      "    >>> N = 10\n",
      "    >>> y = np.zeros(N)\n",
      "    >>> plt.semilogx(np.geomspace(1, 1000, N, endpoint=True), y + 1, 'o')\n",
      "    [<matplotlib.lines.Line2D object at 0x...>]\n",
      "    >>> plt.semilogx(np.geomspace(1, 1000, N, endpoint=False), y + 2, 'o')\n",
      "    [<matplotlib.lines.Line2D object at 0x...>]\n",
      "    >>> plt.axis([0.5, 2000, 0, 3])\n",
      "    [0.5, 2000, 0, 3]\n",
      "    >>> plt.grid(True, color='0.7', linestyle='-', which='both', axis='both')\n",
      "    >>> plt.show()\n",
      "\n"
     ]
    }
   ],
   "source": [
    "help(np.geomspace)"
   ]
  },
  {
   "cell_type": "code",
   "execution_count": 106,
   "id": "a0fdce8a",
   "metadata": {},
   "outputs": [
    {
     "data": {
      "text/plain": [
       "array([ 1.        ,  1.39495079,  1.94588772,  2.71441762,  3.78647901,\n",
       "        5.2819519 ,  7.368063  , 10.27808533, 14.33742329, 20.        ])"
      ]
     },
     "execution_count": 106,
     "metadata": {},
     "output_type": "execute_result"
    }
   ],
   "source": [
    "np.geomspace(1, 20, 10)"
   ]
  },
  {
   "cell_type": "code",
   "execution_count": 107,
   "id": "c29a1d8e",
   "metadata": {},
   "outputs": [
    {
     "data": {
      "text/plain": [
       "1.39495079"
      ]
     },
     "execution_count": 107,
     "metadata": {},
     "output_type": "execute_result"
    }
   ],
   "source": [
    "1.39495079 / 1"
   ]
  },
  {
   "cell_type": "code",
   "execution_count": 108,
   "id": "4721ea69",
   "metadata": {},
   "outputs": [
    {
     "data": {
      "text/plain": [
       "1.394950799662259"
      ]
     },
     "execution_count": 108,
     "metadata": {},
     "output_type": "execute_result"
    }
   ],
   "source": [
    "1.94588772 / 1.39495079"
   ]
  },
  {
   "cell_type": "code",
   "execution_count": 109,
   "id": "e9b447c4",
   "metadata": {},
   "outputs": [
    {
     "data": {
      "text/plain": [
       "1.3949507938167702"
      ]
     },
     "execution_count": 109,
     "metadata": {},
     "output_type": "execute_result"
    }
   ],
   "source": [
    "14.33742329 / 10.27808533"
   ]
  },
  {
   "cell_type": "code",
   "execution_count": 111,
   "id": "453602ac",
   "metadata": {},
   "outputs": [
    {
     "data": {
      "text/plain": [
       "float"
      ]
     },
     "execution_count": 111,
     "metadata": {},
     "output_type": "execute_result"
    }
   ],
   "source": [
    "type(1.3949507938167702)"
   ]
  },
  {
   "cell_type": "code",
   "execution_count": 110,
   "id": "2a998fdc",
   "metadata": {},
   "outputs": [],
   "source": [
    "# all() and any()"
   ]
  },
  {
   "cell_type": "code",
   "execution_count": 112,
   "id": "8f66535b",
   "metadata": {},
   "outputs": [],
   "source": [
    "arr1 = np.random.randint(0, 10, (3,3))"
   ]
  },
  {
   "cell_type": "code",
   "execution_count": 113,
   "id": "a701190c",
   "metadata": {},
   "outputs": [
    {
     "data": {
      "text/plain": [
       "array([[8, 8, 8],\n",
       "       [2, 3, 2],\n",
       "       [6, 6, 3]])"
      ]
     },
     "execution_count": 113,
     "metadata": {},
     "output_type": "execute_result"
    }
   ],
   "source": [
    "arr1"
   ]
  },
  {
   "cell_type": "code",
   "execution_count": 114,
   "id": "f21ab680",
   "metadata": {},
   "outputs": [
    {
     "data": {
      "text/plain": [
       "True"
      ]
     },
     "execution_count": 114,
     "metadata": {},
     "output_type": "execute_result"
    }
   ],
   "source": [
    "np.all(arr1)"
   ]
  },
  {
   "cell_type": "code",
   "execution_count": 115,
   "id": "20ec3a70",
   "metadata": {},
   "outputs": [],
   "source": [
    "arr2 = np.random.randint(0, 10, (3,3))"
   ]
  },
  {
   "cell_type": "code",
   "execution_count": 116,
   "id": "dbf4c717",
   "metadata": {},
   "outputs": [
    {
     "data": {
      "text/plain": [
       "array([[7, 4, 3],\n",
       "       [1, 4, 3],\n",
       "       [0, 1, 8]])"
      ]
     },
     "execution_count": 116,
     "metadata": {},
     "output_type": "execute_result"
    }
   ],
   "source": [
    "arr2"
   ]
  },
  {
   "cell_type": "code",
   "execution_count": 117,
   "id": "80835fe2",
   "metadata": {},
   "outputs": [
    {
     "data": {
      "text/plain": [
       "False"
      ]
     },
     "execution_count": 117,
     "metadata": {},
     "output_type": "execute_result"
    }
   ],
   "source": [
    "np.all(arr2)"
   ]
  },
  {
   "cell_type": "code",
   "execution_count": 119,
   "id": "b31d5e71",
   "metadata": {},
   "outputs": [
    {
     "data": {
      "text/plain": [
       "array([[8, 8, 8],\n",
       "       [2, 3, 2],\n",
       "       [6, 6, 3]])"
      ]
     },
     "execution_count": 119,
     "metadata": {},
     "output_type": "execute_result"
    }
   ],
   "source": [
    "arr1"
   ]
  },
  {
   "cell_type": "code",
   "execution_count": 118,
   "id": "723ad98b",
   "metadata": {},
   "outputs": [
    {
     "data": {
      "text/plain": [
       "True"
      ]
     },
     "execution_count": 118,
     "metadata": {},
     "output_type": "execute_result"
    }
   ],
   "source": [
    "np.any(arr1)"
   ]
  },
  {
   "cell_type": "code",
   "execution_count": 120,
   "id": "6299fada",
   "metadata": {},
   "outputs": [
    {
     "data": {
      "text/plain": [
       "array([[7, 4, 3],\n",
       "       [1, 4, 3],\n",
       "       [0, 1, 8]])"
      ]
     },
     "execution_count": 120,
     "metadata": {},
     "output_type": "execute_result"
    }
   ],
   "source": [
    "arr2"
   ]
  },
  {
   "cell_type": "code",
   "execution_count": 121,
   "id": "0e41c821",
   "metadata": {},
   "outputs": [
    {
     "data": {
      "text/plain": [
       "True"
      ]
     },
     "execution_count": 121,
     "metadata": {},
     "output_type": "execute_result"
    }
   ],
   "source": [
    "np.any(arr2)"
   ]
  },
  {
   "cell_type": "code",
   "execution_count": 122,
   "id": "7d4ad5f4",
   "metadata": {},
   "outputs": [],
   "source": [
    "arr3 = np.array([[0,0],\n",
    "                [0,0]])"
   ]
  },
  {
   "cell_type": "code",
   "execution_count": 123,
   "id": "5e0d993f",
   "metadata": {},
   "outputs": [
    {
     "data": {
      "text/plain": [
       "array([[0, 0],\n",
       "       [0, 0]])"
      ]
     },
     "execution_count": 123,
     "metadata": {},
     "output_type": "execute_result"
    }
   ],
   "source": [
    "arr3"
   ]
  },
  {
   "cell_type": "code",
   "execution_count": 124,
   "id": "4686838d",
   "metadata": {},
   "outputs": [
    {
     "data": {
      "text/plain": [
       "False"
      ]
     },
     "execution_count": 124,
     "metadata": {},
     "output_type": "execute_result"
    }
   ],
   "source": [
    "np.any(arr3)"
   ]
  },
  {
   "cell_type": "code",
   "execution_count": 125,
   "id": "714bb76a",
   "metadata": {},
   "outputs": [
    {
     "name": "stdout",
     "output_type": "stream",
     "text": [
      "Help on function all in module numpy:\n",
      "\n",
      "all(a, axis=None, out=None, keepdims=<no value>, *, where=<no value>)\n",
      "    Test whether all array elements along a given axis evaluate to True.\n",
      "    \n",
      "    Parameters\n",
      "    ----------\n",
      "    a : array_like\n",
      "        Input array or object that can be converted to an array.\n",
      "    axis : None or int or tuple of ints, optional\n",
      "        Axis or axes along which a logical AND reduction is performed.\n",
      "        The default (``axis=None``) is to perform a logical AND over all\n",
      "        the dimensions of the input array. `axis` may be negative, in\n",
      "        which case it counts from the last to the first axis.\n",
      "    \n",
      "        .. versionadded:: 1.7.0\n",
      "    \n",
      "        If this is a tuple of ints, a reduction is performed on multiple\n",
      "        axes, instead of a single axis or all the axes as before.\n",
      "    out : ndarray, optional\n",
      "        Alternate output array in which to place the result.\n",
      "        It must have the same shape as the expected output and its\n",
      "        type is preserved (e.g., if ``dtype(out)`` is float, the result\n",
      "        will consist of 0.0's and 1.0's). See :ref:`ufuncs-output-type` for more\n",
      "        details.\n",
      "    \n",
      "    keepdims : bool, optional\n",
      "        If this is set to True, the axes which are reduced are left\n",
      "        in the result as dimensions with size one. With this option,\n",
      "        the result will broadcast correctly against the input array.\n",
      "    \n",
      "        If the default value is passed, then `keepdims` will not be\n",
      "        passed through to the `all` method of sub-classes of\n",
      "        `ndarray`, however any non-default value will be.  If the\n",
      "        sub-class' method does not implement `keepdims` any\n",
      "        exceptions will be raised.\n",
      "    \n",
      "    where : array_like of bool, optional\n",
      "        Elements to include in checking for all `True` values.\n",
      "        See `~numpy.ufunc.reduce` for details.\n",
      "    \n",
      "        .. versionadded:: 1.20.0\n",
      "    \n",
      "    Returns\n",
      "    -------\n",
      "    all : ndarray, bool\n",
      "        A new boolean or array is returned unless `out` is specified,\n",
      "        in which case a reference to `out` is returned.\n",
      "    \n",
      "    See Also\n",
      "    --------\n",
      "    ndarray.all : equivalent method\n",
      "    \n",
      "    any : Test whether any element along a given axis evaluates to True.\n",
      "    \n",
      "    Notes\n",
      "    -----\n",
      "    Not a Number (NaN), positive infinity and negative infinity\n",
      "    evaluate to `True` because these are not equal to zero.\n",
      "    \n",
      "    Examples\n",
      "    --------\n",
      "    >>> np.all([[True,False],[True,True]])\n",
      "    False\n",
      "    \n",
      "    >>> np.all([[True,False],[True,True]], axis=0)\n",
      "    array([ True, False])\n",
      "    \n",
      "    >>> np.all([-1, 4, 5])\n",
      "    True\n",
      "    \n",
      "    >>> np.all([1.0, np.nan])\n",
      "    True\n",
      "    \n",
      "    >>> np.all([[True, True], [False, True]], where=[[True], [False]])\n",
      "    True\n",
      "    \n",
      "    >>> o=np.array(False)\n",
      "    >>> z=np.all([-1, 4, 5], out=o)\n",
      "    >>> id(z), id(o), z\n",
      "    (28293632, 28293632, array(True)) # may vary\n",
      "\n"
     ]
    }
   ],
   "source": [
    "help(np.all)"
   ]
  },
  {
   "cell_type": "code",
   "execution_count": 126,
   "id": "1d734fb8",
   "metadata": {},
   "outputs": [
    {
     "name": "stdout",
     "output_type": "stream",
     "text": [
      "Help on function any in module numpy:\n",
      "\n",
      "any(a, axis=None, out=None, keepdims=<no value>, *, where=<no value>)\n",
      "    Test whether any array element along a given axis evaluates to True.\n",
      "    \n",
      "    Returns single boolean if `axis` is ``None``\n",
      "    \n",
      "    Parameters\n",
      "    ----------\n",
      "    a : array_like\n",
      "        Input array or object that can be converted to an array.\n",
      "    axis : None or int or tuple of ints, optional\n",
      "        Axis or axes along which a logical OR reduction is performed.\n",
      "        The default (``axis=None``) is to perform a logical OR over all\n",
      "        the dimensions of the input array. `axis` may be negative, in\n",
      "        which case it counts from the last to the first axis.\n",
      "    \n",
      "        .. versionadded:: 1.7.0\n",
      "    \n",
      "        If this is a tuple of ints, a reduction is performed on multiple\n",
      "        axes, instead of a single axis or all the axes as before.\n",
      "    out : ndarray, optional\n",
      "        Alternate output array in which to place the result.  It must have\n",
      "        the same shape as the expected output and its type is preserved\n",
      "        (e.g., if it is of type float, then it will remain so, returning\n",
      "        1.0 for True and 0.0 for False, regardless of the type of `a`).\n",
      "        See :ref:`ufuncs-output-type` for more details.\n",
      "    \n",
      "    keepdims : bool, optional\n",
      "        If this is set to True, the axes which are reduced are left\n",
      "        in the result as dimensions with size one. With this option,\n",
      "        the result will broadcast correctly against the input array.\n",
      "    \n",
      "        If the default value is passed, then `keepdims` will not be\n",
      "        passed through to the `any` method of sub-classes of\n",
      "        `ndarray`, however any non-default value will be.  If the\n",
      "        sub-class' method does not implement `keepdims` any\n",
      "        exceptions will be raised.\n",
      "    \n",
      "    where : array_like of bool, optional\n",
      "        Elements to include in checking for any `True` values.\n",
      "        See `~numpy.ufunc.reduce` for details.\n",
      "    \n",
      "        .. versionadded:: 1.20.0\n",
      "    \n",
      "    Returns\n",
      "    -------\n",
      "    any : bool or ndarray\n",
      "        A new boolean or `ndarray` is returned unless `out` is specified,\n",
      "        in which case a reference to `out` is returned.\n",
      "    \n",
      "    See Also\n",
      "    --------\n",
      "    ndarray.any : equivalent method\n",
      "    \n",
      "    all : Test whether all elements along a given axis evaluate to True.\n",
      "    \n",
      "    Notes\n",
      "    -----\n",
      "    Not a Number (NaN), positive infinity and negative infinity evaluate\n",
      "    to `True` because these are not equal to zero.\n",
      "    \n",
      "    Examples\n",
      "    --------\n",
      "    >>> np.any([[True, False], [True, True]])\n",
      "    True\n",
      "    \n",
      "    >>> np.any([[True, False], [False, False]], axis=0)\n",
      "    array([ True, False])\n",
      "    \n",
      "    >>> np.any([-1, 0, 5])\n",
      "    True\n",
      "    \n",
      "    >>> np.any(np.nan)\n",
      "    True\n",
      "    \n",
      "    >>> np.any([[True, False], [False, False]], where=[[False], [True]])\n",
      "    False\n",
      "    \n",
      "    >>> o=np.array(False)\n",
      "    >>> z=np.any([-1, 4, 5], out=o)\n",
      "    >>> z, o\n",
      "    (array(True), array(True))\n",
      "    >>> # Check now that z is a reference to o\n",
      "    >>> z is o\n",
      "    True\n",
      "    >>> id(z), id(o) # identity of z and o              # doctest: +SKIP\n",
      "    (191614240, 191614240)\n",
      "\n"
     ]
    }
   ],
   "source": [
    "help(np.any)"
   ]
  },
  {
   "cell_type": "code",
   "execution_count": null,
   "id": "71236a4b",
   "metadata": {},
   "outputs": [],
   "source": []
  },
  {
   "cell_type": "code",
   "execution_count": 128,
   "id": "086b3068",
   "metadata": {},
   "outputs": [
    {
     "data": {
      "text/plain": [
       "array([[7, 4, 3],\n",
       "       [1, 4, 3],\n",
       "       [0, 1, 8]])"
      ]
     },
     "execution_count": 128,
     "metadata": {},
     "output_type": "execute_result"
    }
   ],
   "source": [
    "arr2"
   ]
  },
  {
   "cell_type": "code",
   "execution_count": 130,
   "id": "a64b02b8",
   "metadata": {},
   "outputs": [
    {
     "data": {
      "text/plain": [
       "array([False,  True,  True])"
      ]
     },
     "execution_count": 130,
     "metadata": {},
     "output_type": "execute_result"
    }
   ],
   "source": [
    "np.all(arr2, axis=0)"
   ]
  },
  {
   "cell_type": "code",
   "execution_count": 131,
   "id": "4ce36ddc",
   "metadata": {},
   "outputs": [
    {
     "data": {
      "text/plain": [
       "array([ True,  True, False])"
      ]
     },
     "execution_count": 131,
     "metadata": {},
     "output_type": "execute_result"
    }
   ],
   "source": [
    "np.all(arr2, axis=1)"
   ]
  },
  {
   "cell_type": "code",
   "execution_count": null,
   "id": "416b0cbe",
   "metadata": {},
   "outputs": [],
   "source": []
  },
  {
   "cell_type": "code",
   "execution_count": 132,
   "id": "427e7b8c",
   "metadata": {},
   "outputs": [
    {
     "data": {
      "text/plain": [
       "array([[7, 4, 3],\n",
       "       [1, 4, 3],\n",
       "       [0, 1, 8]])"
      ]
     },
     "execution_count": 132,
     "metadata": {},
     "output_type": "execute_result"
    }
   ],
   "source": [
    "arr2"
   ]
  },
  {
   "cell_type": "code",
   "execution_count": 133,
   "id": "84c6f538",
   "metadata": {},
   "outputs": [
    {
     "data": {
      "text/plain": [
       "array([ True,  True,  True])"
      ]
     },
     "execution_count": 133,
     "metadata": {},
     "output_type": "execute_result"
    }
   ],
   "source": [
    "np.any(arr2, axis=0)"
   ]
  },
  {
   "cell_type": "code",
   "execution_count": 134,
   "id": "3ea558f1",
   "metadata": {},
   "outputs": [
    {
     "data": {
      "text/plain": [
       "array([ True,  True,  True])"
      ]
     },
     "execution_count": 134,
     "metadata": {},
     "output_type": "execute_result"
    }
   ],
   "source": [
    "np.any(arr2, axis=1)"
   ]
  },
  {
   "cell_type": "code",
   "execution_count": 135,
   "id": "769a763d",
   "metadata": {},
   "outputs": [],
   "source": [
    "arr4 = np.array([[1, 9, 3],\n",
    "                [2,3,9],\n",
    "                [0, 0, 0]])"
   ]
  },
  {
   "cell_type": "code",
   "execution_count": 136,
   "id": "2790fad6",
   "metadata": {},
   "outputs": [
    {
     "data": {
      "text/plain": [
       "array([[1, 9, 3],\n",
       "       [2, 3, 9],\n",
       "       [0, 0, 0]])"
      ]
     },
     "execution_count": 136,
     "metadata": {},
     "output_type": "execute_result"
    }
   ],
   "source": [
    "arr4"
   ]
  },
  {
   "cell_type": "code",
   "execution_count": 137,
   "id": "f81de2e1",
   "metadata": {},
   "outputs": [
    {
     "data": {
      "text/plain": [
       "array([ True,  True, False])"
      ]
     },
     "execution_count": 137,
     "metadata": {},
     "output_type": "execute_result"
    }
   ],
   "source": [
    "np.any(arr4, axis=1)"
   ]
  },
  {
   "cell_type": "code",
   "execution_count": null,
   "id": "0935fe47",
   "metadata": {},
   "outputs": [],
   "source": []
  },
  {
   "cell_type": "code",
   "execution_count": 138,
   "id": "3047239e",
   "metadata": {},
   "outputs": [
    {
     "data": {
      "text/plain": [
       "array([[3, 1, 1],\n",
       "       [2, 1, 1]])"
      ]
     },
     "execution_count": 138,
     "metadata": {},
     "output_type": "execute_result"
    }
   ],
   "source": [
    "m1"
   ]
  },
  {
   "cell_type": "code",
   "execution_count": 139,
   "id": "73c78942",
   "metadata": {},
   "outputs": [
    {
     "data": {
      "text/plain": [
       "array([[  6, 100,   5,   2],\n",
       "       [  7,   1,   5,   2],\n",
       "       [  1,   6,   6,   6]])"
      ]
     },
     "execution_count": 139,
     "metadata": {},
     "output_type": "execute_result"
    }
   ],
   "source": [
    "m3"
   ]
  },
  {
   "cell_type": "code",
   "execution_count": 140,
   "id": "7381fed5",
   "metadata": {},
   "outputs": [],
   "source": [
    "# Reshaping of arrays"
   ]
  },
  {
   "cell_type": "code",
   "execution_count": 141,
   "id": "fcee1374",
   "metadata": {},
   "outputs": [
    {
     "data": {
      "text/plain": [
       "(3, 4)"
      ]
     },
     "execution_count": 141,
     "metadata": {},
     "output_type": "execute_result"
    }
   ],
   "source": [
    "m3.shape"
   ]
  },
  {
   "cell_type": "code",
   "execution_count": 142,
   "id": "c7bf8994",
   "metadata": {},
   "outputs": [
    {
     "data": {
      "text/plain": [
       "12"
      ]
     },
     "execution_count": 142,
     "metadata": {},
     "output_type": "execute_result"
    }
   ],
   "source": [
    "m3.size"
   ]
  },
  {
   "cell_type": "code",
   "execution_count": 143,
   "id": "198fe6a0",
   "metadata": {},
   "outputs": [
    {
     "data": {
      "text/plain": [
       "array([[  6, 100,   5],\n",
       "       [  2,   7,   1],\n",
       "       [  5,   2,   1],\n",
       "       [  6,   6,   6]])"
      ]
     },
     "execution_count": 143,
     "metadata": {},
     "output_type": "execute_result"
    }
   ],
   "source": [
    "np.reshape(m3, (4, 3))"
   ]
  },
  {
   "cell_type": "code",
   "execution_count": 144,
   "id": "b7991b33",
   "metadata": {},
   "outputs": [
    {
     "ename": "ValueError",
     "evalue": "cannot reshape array of size 12 into shape (3,3)",
     "output_type": "error",
     "traceback": [
      "\u001b[1;31m---------------------------------------------------------------------------\u001b[0m",
      "\u001b[1;31mValueError\u001b[0m                                Traceback (most recent call last)",
      "Cell \u001b[1;32mIn[144], line 1\u001b[0m\n\u001b[1;32m----> 1\u001b[0m np\u001b[38;5;241m.\u001b[39mreshape(m3, (\u001b[38;5;241m3\u001b[39m, \u001b[38;5;241m3\u001b[39m))\n",
      "File \u001b[1;32m<__array_function__ internals>:200\u001b[0m, in \u001b[0;36mreshape\u001b[1;34m(*args, **kwargs)\u001b[0m\n",
      "File \u001b[1;32m~\\anaconda3\\Lib\\site-packages\\numpy\\core\\fromnumeric.py:298\u001b[0m, in \u001b[0;36mreshape\u001b[1;34m(a, newshape, order)\u001b[0m\n\u001b[0;32m    198\u001b[0m \u001b[38;5;129m@array_function_dispatch\u001b[39m(_reshape_dispatcher)\n\u001b[0;32m    199\u001b[0m \u001b[38;5;28;01mdef\u001b[39;00m \u001b[38;5;21mreshape\u001b[39m(a, newshape, order\u001b[38;5;241m=\u001b[39m\u001b[38;5;124m'\u001b[39m\u001b[38;5;124mC\u001b[39m\u001b[38;5;124m'\u001b[39m):\n\u001b[0;32m    200\u001b[0m \u001b[38;5;250m    \u001b[39m\u001b[38;5;124;03m\"\"\"\u001b[39;00m\n\u001b[0;32m    201\u001b[0m \u001b[38;5;124;03m    Gives a new shape to an array without changing its data.\u001b[39;00m\n\u001b[0;32m    202\u001b[0m \n\u001b[1;32m   (...)\u001b[0m\n\u001b[0;32m    296\u001b[0m \u001b[38;5;124;03m           [5, 6]])\u001b[39;00m\n\u001b[0;32m    297\u001b[0m \u001b[38;5;124;03m    \"\"\"\u001b[39;00m\n\u001b[1;32m--> 298\u001b[0m     \u001b[38;5;28;01mreturn\u001b[39;00m _wrapfunc(a, \u001b[38;5;124m'\u001b[39m\u001b[38;5;124mreshape\u001b[39m\u001b[38;5;124m'\u001b[39m, newshape, order\u001b[38;5;241m=\u001b[39morder)\n",
      "File \u001b[1;32m~\\anaconda3\\Lib\\site-packages\\numpy\\core\\fromnumeric.py:57\u001b[0m, in \u001b[0;36m_wrapfunc\u001b[1;34m(obj, method, *args, **kwds)\u001b[0m\n\u001b[0;32m     54\u001b[0m     \u001b[38;5;28;01mreturn\u001b[39;00m _wrapit(obj, method, \u001b[38;5;241m*\u001b[39margs, \u001b[38;5;241m*\u001b[39m\u001b[38;5;241m*\u001b[39mkwds)\n\u001b[0;32m     56\u001b[0m \u001b[38;5;28;01mtry\u001b[39;00m:\n\u001b[1;32m---> 57\u001b[0m     \u001b[38;5;28;01mreturn\u001b[39;00m bound(\u001b[38;5;241m*\u001b[39margs, \u001b[38;5;241m*\u001b[39m\u001b[38;5;241m*\u001b[39mkwds)\n\u001b[0;32m     58\u001b[0m \u001b[38;5;28;01mexcept\u001b[39;00m \u001b[38;5;167;01mTypeError\u001b[39;00m:\n\u001b[0;32m     59\u001b[0m     \u001b[38;5;66;03m# A TypeError occurs if the object does have such a method in its\u001b[39;00m\n\u001b[0;32m     60\u001b[0m     \u001b[38;5;66;03m# class, but its signature is not identical to that of NumPy's. This\u001b[39;00m\n\u001b[1;32m   (...)\u001b[0m\n\u001b[0;32m     64\u001b[0m     \u001b[38;5;66;03m# Call _wrapit from within the except clause to ensure a potential\u001b[39;00m\n\u001b[0;32m     65\u001b[0m     \u001b[38;5;66;03m# exception has a traceback chain.\u001b[39;00m\n\u001b[0;32m     66\u001b[0m     \u001b[38;5;28;01mreturn\u001b[39;00m _wrapit(obj, method, \u001b[38;5;241m*\u001b[39margs, \u001b[38;5;241m*\u001b[39m\u001b[38;5;241m*\u001b[39mkwds)\n",
      "\u001b[1;31mValueError\u001b[0m: cannot reshape array of size 12 into shape (3,3)"
     ]
    }
   ],
   "source": [
    "np.reshape(m3, (3, 3))"
   ]
  },
  {
   "cell_type": "code",
   "execution_count": 145,
   "id": "7d3b6ebe",
   "metadata": {},
   "outputs": [],
   "source": [
    "# For reshaping, the input array and the output should have the same size!!"
   ]
  },
  {
   "cell_type": "code",
   "execution_count": 146,
   "id": "95a4bd52",
   "metadata": {},
   "outputs": [
    {
     "data": {
      "text/plain": [
       "array([[  6, 100,   5,   2],\n",
       "       [  7,   1,   5,   2],\n",
       "       [  1,   6,   6,   6]])"
      ]
     },
     "execution_count": 146,
     "metadata": {},
     "output_type": "execute_result"
    }
   ],
   "source": [
    "m3"
   ]
  },
  {
   "cell_type": "code",
   "execution_count": 147,
   "id": "1027a29e",
   "metadata": {},
   "outputs": [
    {
     "data": {
      "text/plain": [
       "array([[  6, 100],\n",
       "       [  5,   2],\n",
       "       [  7,   1],\n",
       "       [  5,   2],\n",
       "       [  1,   6],\n",
       "       [  6,   6]])"
      ]
     },
     "execution_count": 147,
     "metadata": {},
     "output_type": "execute_result"
    }
   ],
   "source": [
    "np.reshape(m3, (6, 2))"
   ]
  },
  {
   "cell_type": "code",
   "execution_count": 148,
   "id": "a942d1f9",
   "metadata": {},
   "outputs": [
    {
     "data": {
      "text/plain": [
       "array([[  6, 100,   5,   2],\n",
       "       [  7,   1,   5,   2],\n",
       "       [  1,   6,   6,   6]])"
      ]
     },
     "execution_count": 148,
     "metadata": {},
     "output_type": "execute_result"
    }
   ],
   "source": [
    "m3"
   ]
  },
  {
   "cell_type": "code",
   "execution_count": 149,
   "id": "3982d066",
   "metadata": {},
   "outputs": [
    {
     "data": {
      "text/plain": [
       "array([  6, 100,   5,   2,   7,   1,   5,   2,   1,   6,   6,   6])"
      ]
     },
     "execution_count": 149,
     "metadata": {},
     "output_type": "execute_result"
    }
   ],
   "source": [
    "np.reshape(m3, (12,))"
   ]
  },
  {
   "cell_type": "code",
   "execution_count": 150,
   "id": "fa61d47c",
   "metadata": {},
   "outputs": [
    {
     "data": {
      "text/plain": [
       "array([[[  6, 100],\n",
       "        [  5,   2],\n",
       "        [  7,   1]],\n",
       "\n",
       "       [[  5,   2],\n",
       "        [  1,   6],\n",
       "        [  6,   6]]])"
      ]
     },
     "execution_count": 150,
     "metadata": {},
     "output_type": "execute_result"
    }
   ],
   "source": [
    "np.reshape(m3, (2, 3, 2))"
   ]
  },
  {
   "cell_type": "code",
   "execution_count": null,
   "id": "2c95fa09",
   "metadata": {},
   "outputs": [],
   "source": []
  },
  {
   "cell_type": "code",
   "execution_count": null,
   "id": "38e6ebdc",
   "metadata": {},
   "outputs": [],
   "source": []
  }
 ],
 "metadata": {
  "kernelspec": {
   "display_name": "Python 3 (ipykernel)",
   "language": "python",
   "name": "python3"
  },
  "language_info": {
   "codemirror_mode": {
    "name": "ipython",
    "version": 3
   },
   "file_extension": ".py",
   "mimetype": "text/x-python",
   "name": "python",
   "nbconvert_exporter": "python",
   "pygments_lexer": "ipython3",
   "version": "3.11.4"
  }
 },
 "nbformat": 4,
 "nbformat_minor": 5
}
