{
 "cells": [
  {
   "cell_type": "code",
   "execution_count": 1,
   "id": "d3d34cb7",
   "metadata": {},
   "outputs": [],
   "source": [
    "# A DNA strand consisting of the 4 nucleotide bases is usually represented with a string of letters: A,T, C, G. \n",
    "# Write a function that computes the base composition of a given DNA sequence.\n",
    "\n",
    "\n",
    "# In - baseComposition(\"AGT\")\n",
    "# Out - {'A': 1, 'C': 0, 'T': 1,  'G': 1 }\n"
   ]
  },
  {
   "cell_type": "code",
   "execution_count": null,
   "id": "b8b215ef",
   "metadata": {},
   "outputs": [],
   "source": []
  },
  {
   "cell_type": "code",
   "execution_count": 2,
   "id": "3fb66b12",
   "metadata": {},
   "outputs": [],
   "source": [
    "# Expected Output is :You have sliced: .hctuD er'uoy sselnu tsrif ta suoivbo eb ton yam yaw taht hguohtlA. Use only step\n",
    "\n",
    "# I using this\n",
    "# print('You have sliced: ', sl_str[len(sl_str)-1:0:-1],'Use begin end and step.')\n"
   ]
  },
  {
   "cell_type": "code",
   "execution_count": 3,
   "id": "03f52e49",
   "metadata": {},
   "outputs": [],
   "source": [
    "my_str = \"Although that way may not be obvious at first unless you're Dutch.\"\n"
   ]
  },
  {
   "cell_type": "code",
   "execution_count": 4,
   "id": "2324aa3a",
   "metadata": {},
   "outputs": [
    {
     "data": {
      "text/plain": [
       "\"Although that way may not be obvious at first unless you're Dutch.\""
      ]
     },
     "execution_count": 4,
     "metadata": {},
     "output_type": "execute_result"
    }
   ],
   "source": [
    "my_str"
   ]
  },
  {
   "cell_type": "code",
   "execution_count": 5,
   "id": "d78b40d9",
   "metadata": {},
   "outputs": [
    {
     "data": {
      "text/plain": [
       "\".hctuD er'uoy sselnu tsrif ta suoivbo eb ton yam yaw taht hguohtlA\""
      ]
     },
     "execution_count": 5,
     "metadata": {},
     "output_type": "execute_result"
    }
   ],
   "source": [
    "my_str[::-1]"
   ]
  },
  {
   "cell_type": "code",
   "execution_count": 6,
   "id": "ede5006e",
   "metadata": {},
   "outputs": [
    {
     "data": {
      "text/plain": [
       "\".hctuD er'uoy sselnu tsrif ta suoivbo eb ton yam yaw taht hguohtl\""
      ]
     },
     "execution_count": 6,
     "metadata": {},
     "output_type": "execute_result"
    }
   ],
   "source": [
    "my_str[len(my_str):0:-1]"
   ]
  },
  {
   "cell_type": "code",
   "execution_count": 7,
   "id": "d7080422",
   "metadata": {},
   "outputs": [
    {
     "data": {
      "text/plain": [
       "66"
      ]
     },
     "execution_count": 7,
     "metadata": {},
     "output_type": "execute_result"
    }
   ],
   "source": [
    "len(my_str)"
   ]
  },
  {
   "cell_type": "code",
   "execution_count": 8,
   "id": "29b1dac6",
   "metadata": {},
   "outputs": [
    {
     "data": {
      "text/plain": [
       "''"
      ]
     },
     "execution_count": 8,
     "metadata": {},
     "output_type": "execute_result"
    }
   ],
   "source": [
    "my_str[len(my_str):-1:-1]"
   ]
  },
  {
   "cell_type": "code",
   "execution_count": 9,
   "id": "6a3abb5d",
   "metadata": {},
   "outputs": [
    {
     "data": {
      "text/plain": [
       "\".hctuD er'uoy sselnu tsrif ta suoivbo eb ton yam yaw taht hguohtlA\""
      ]
     },
     "execution_count": 9,
     "metadata": {},
     "output_type": "execute_result"
    }
   ],
   "source": [
    "my_str[len(my_str)::-1]"
   ]
  },
  {
   "cell_type": "code",
   "execution_count": 10,
   "id": "eb6d0771",
   "metadata": {},
   "outputs": [
    {
     "data": {
      "text/plain": [
       "\".hctuD er'uoy sselnu tsrif ta suoivbo eb ton yam yaw taht hguohtlA\""
      ]
     },
     "execution_count": 10,
     "metadata": {},
     "output_type": "execute_result"
    }
   ],
   "source": [
    "my_str[len(my_str):None:-1]"
   ]
  },
  {
   "cell_type": "code",
   "execution_count": null,
   "id": "2a5b24b5",
   "metadata": {},
   "outputs": [],
   "source": []
  },
  {
   "cell_type": "code",
   "execution_count": 11,
   "id": "ed4f61ee",
   "metadata": {},
   "outputs": [],
   "source": [
    "#Write a Python program to create a 3X4X6 3D matrix wiith below elements using loop\n",
    "#Output:- \n",
    "# [\n",
    "#     [[0,0,0,0,0,0],[0,0,0,0,0,0],[0,0,0,0,0,0],[0,0,0,0,0,0]],\n",
    "#     [[0,0,0,0,0,0],[1,1,1,1,1,1],[2,2,2,2,2,2],[3,3,3,3,3,3]],\n",
    "#     [[0,0,0,0,0,0],[2,2,2,2,2,2],[4,4,4,4,4,4],[6,6,6,6,6,6]]\n",
    "# ]\n"
   ]
  },
  {
   "cell_type": "code",
   "execution_count": 12,
   "id": "1b7a6f6d",
   "metadata": {},
   "outputs": [
    {
     "name": "stdout",
     "output_type": "stream",
     "text": [
      "[[0, 0, 0, 0, 0, 0, 1, 1, 1, 1, 1, 1, 2, 2, 2, 2, 2, 2, 3, 3, 3, 3, 3, 3], [0, 0, 0, 0, 0, 0, 1, 1, 1, 1, 1, 1, 2, 2, 2, 2, 2, 2, 3, 3, 3, 3, 3, 3], [0, 0, 0, 0, 0, 0, 1, 1, 1, 1, 1, 1, 2, 2, 2, 2, 2, 2, 3, 3, 3, 3, 3, 3], [], [], [], [], [], [], [], [], [], [], [], []]\n"
     ]
    }
   ],
   "source": [
    "matrix=[]\n",
    "for j in range(3):\n",
    "    matrix.append([])\n",
    "    for i in range(4):\n",
    "        matrix.append([])\n",
    "        for k in range(6):\n",
    "            matrix[j].append(i)\n",
    "\n",
    "        \n",
    "print(matrix)\n"
   ]
  },
  {
   "cell_type": "code",
   "execution_count": 14,
   "id": "6b843e87",
   "metadata": {},
   "outputs": [
    {
     "name": "stdout",
     "output_type": "stream",
     "text": [
      "[[[0, 0, 0, 0, 0, 0], [0, 0, 0, 0, 0, 0], [0, 0, 0, 0, 0, 0], [0, 0, 0, 0, 0, 0]], [[0, 0, 0, 0, 0, 0], [1, 1, 1, 1, 1, 1], [2, 2, 2, 2, 2, 2], [3, 3, 3, 3, 3, 3]], [[0, 0, 0, 0, 0, 0], [2, 2, 2, 2, 2, 2], [4, 4, 4, 4, 4, 4], [6, 6, 6, 6, 6, 6]]]\n"
     ]
    }
   ],
   "source": [
    "#Write a Python program to create a 3X4X6 3D matrix wiith below elements using loop\n",
    "#Output:- \n",
    "# [\n",
    "#     [[0,0,0,0,0,0],[0,0,0,0,0,0],[0,0,0,0,0,0],[0,0,0,0,0,0]],\n",
    "#     [[0,0,0,0,0,0],[1,1,1,1,1,1],[2,2,2,2,2,2],[3,3,3,3,3,3]],\n",
    "#     [[0,0,0,0,0,0],[2,2,2,2,2,2],[4,4,4,4,4,4],[6,6,6,6,6,6]]\n",
    "# ]\n",
    "\n",
    "\n",
    "matrix = []\n",
    "\n",
    "for i in range(3):\n",
    "    outer_list = []\n",
    "    for j in range(4):\n",
    "        inner_list = []\n",
    "        for k in range(6):\n",
    "            inner_list.append(i*j)\n",
    "        outer_list.append(inner_list)\n",
    "    matrix.append(outer_list)\n",
    "    \n",
    "print(matrix)"
   ]
  },
  {
   "cell_type": "code",
   "execution_count": null,
   "id": "fb2aadea",
   "metadata": {},
   "outputs": [],
   "source": []
  },
  {
   "cell_type": "code",
   "execution_count": 15,
   "id": "3783cdbb",
   "metadata": {},
   "outputs": [
    {
     "name": "stdout",
     "output_type": "stream",
     "text": [
      "\n",
      "\n",
      "\n",
      "\n",
      "\n",
      "\n"
     ]
    }
   ],
   "source": [
    "my_str = \"Although 8 that way may not be obvious at first unless you're Dutch\"\n",
    "#Write the code to get the output,instructions are mentioned below print statement. use indexing\n",
    "\n",
    "print()\n",
    "#output:- The first character in my_str is: A\n",
    "#Note:- Use positive indexing\n",
    "\n",
    "print()\n",
    "#output:- The first character in my_str is: A\n",
    "#Note:- Use len() function.\n",
    "\n",
    "print()\n",
    "#output:- The character at index 10 in my_str is: ' '\n",
    "#Note:- Use positive indexing\n",
    "\n",
    "print()\n",
    "#output:- The last character in my_str is: h\n",
    "#Note:- Use negative indexing.\n",
    "\n",
    "print()\n",
    "#output:- The last character in my_str is: h\n",
    "#Note:- Use len() function.\n",
    "my_str = \"Although 8 that way may not be obvious at first unless you're Dutch\"\n",
    "#Write the code to get the output,instructions are mentioned below print statement. use indexing\n",
    "print()\n",
    "#output:-  ite\n",
    "#Note:- Use positive index\n"
   ]
  },
  {
   "cell_type": "code",
   "execution_count": 16,
   "id": "ef86121c",
   "metadata": {},
   "outputs": [
    {
     "data": {
      "text/plain": [
       "30"
      ]
     },
     "execution_count": 16,
     "metadata": {},
     "output_type": "execute_result"
    }
   ],
   "source": [
    "20 and 30"
   ]
  },
  {
   "cell_type": "code",
   "execution_count": 17,
   "id": "72d4069a",
   "metadata": {},
   "outputs": [],
   "source": [
    "# Anything other than 0 is True"
   ]
  },
  {
   "cell_type": "code",
   "execution_count": null,
   "id": "c109ec9d",
   "metadata": {},
   "outputs": [],
   "source": []
  },
  {
   "cell_type": "code",
   "execution_count": 18,
   "id": "24a2ffd5",
   "metadata": {},
   "outputs": [
    {
     "name": "stdout",
     "output_type": "stream",
     "text": [
      "sum of all elements in the list: <built-in function sum>\n",
      "sum of all elements in the list: <built-in function sum>\n",
      "sum of all elements in the list: <built-in function sum>\n",
      "sum of all elements in the list: <built-in function sum>\n"
     ]
    }
   ],
   "source": [
    "#Write a Python program to find the sum of all elements in a list using loop. #Input:- [10,20,30,40] #Output:- 100\n",
    "\n",
    "total = 0\n",
    "input_list = [10,20,30,40]\n",
    "for i in input_list:\n",
    "    total = total + i\n",
    "    print(\"sum of all elements in the list:\", sum)\n",
    "    \n",
    "\n",
    "# sum of all elements in the list: 10\n",
    "# sum of all elements in the list: 30\n",
    "# sum of all elements in the list: 60\n",
    "# sum of all elements in the list: 100\n"
   ]
  },
  {
   "cell_type": "code",
   "execution_count": 19,
   "id": "9ac35f83",
   "metadata": {},
   "outputs": [
    {
     "name": "stdout",
     "output_type": "stream",
     "text": [
      "sum of all elements in the list: 100\n"
     ]
    }
   ],
   "source": [
    "total = 0\n",
    "input_list = [10,20,30,40]\n",
    "for i in input_list:\n",
    "    total = total + i\n",
    "print(\"sum of all elements in the list:\", total)"
   ]
  },
  {
   "cell_type": "code",
   "execution_count": 20,
   "id": "b6b9f2fc",
   "metadata": {},
   "outputs": [],
   "source": [
    "# 1.Write the code to get the total count of 't' in above string. Use: \n",
    "# find() method and \n",
    "# index() method [This is optional] \n",
    "\n",
    "# 2.how to find The first character in my_str  Using len() function\n"
   ]
  },
  {
   "cell_type": "code",
   "execution_count": null,
   "id": "3bef367c",
   "metadata": {},
   "outputs": [],
   "source": []
  }
 ],
 "metadata": {
  "kernelspec": {
   "display_name": "Python 3 (ipykernel)",
   "language": "python",
   "name": "python3"
  },
  "language_info": {
   "codemirror_mode": {
    "name": "ipython",
    "version": 3
   },
   "file_extension": ".py",
   "mimetype": "text/x-python",
   "name": "python",
   "nbconvert_exporter": "python",
   "pygments_lexer": "ipython3",
   "version": "3.11.4"
  }
 },
 "nbformat": 4,
 "nbformat_minor": 5
}
