{
 "cells": [
  {
   "cell_type": "code",
   "execution_count": 1,
   "id": "3c1673ea",
   "metadata": {},
   "outputs": [],
   "source": [
    "# For a given list of values in descending order, write a method in python to search \n",
    "# # for a value with the help of Binary Search method. \n",
    "# # The method should return position of the value and should return -1 if the value not present in the list.\n"
   ]
  },
  {
   "cell_type": "code",
   "execution_count": 2,
   "id": "38c727ca",
   "metadata": {},
   "outputs": [],
   "source": [
    "l1 = [20, 16, 11, 9, 6, 4, 1]"
   ]
  },
  {
   "cell_type": "code",
   "execution_count": 3,
   "id": "44c0f8d6",
   "metadata": {},
   "outputs": [
    {
     "data": {
      "text/plain": [
       "[20, 16, 11, 9, 6, 4, 1]"
      ]
     },
     "execution_count": 3,
     "metadata": {},
     "output_type": "execute_result"
    }
   ],
   "source": [
    "l1"
   ]
  },
  {
   "cell_type": "code",
   "execution_count": 4,
   "id": "c7e5b454",
   "metadata": {},
   "outputs": [],
   "source": [
    "search_element = 16"
   ]
  },
  {
   "cell_type": "code",
   "execution_count": 5,
   "id": "0edb600a",
   "metadata": {},
   "outputs": [
    {
     "data": {
      "text/plain": [
       "[20, 16, 11, 9, 6, 4, 1]"
      ]
     },
     "execution_count": 5,
     "metadata": {},
     "output_type": "execute_result"
    }
   ],
   "source": [
    "l1"
   ]
  },
  {
   "cell_type": "code",
   "execution_count": 6,
   "id": "8c14ffe6",
   "metadata": {},
   "outputs": [
    {
     "name": "stdout",
     "output_type": "stream",
     "text": [
      "1\n"
     ]
    }
   ],
   "source": [
    "search_ele = 16\n",
    "low = 0\n",
    "high = len(l1) - 1\n",
    "output = -1\n",
    "\n",
    "while low <= high:\n",
    "    mid = (low + high) // 2\n",
    "    \n",
    "    if search_ele == l1[mid]:\n",
    "        output = mid\n",
    "        break\n",
    "    elif search_ele > l1[mid]:\n",
    "        high = mid - 1\n",
    "    elif search_ele < l1[mid]:\n",
    "        low = mid + 1\n",
    "        \n",
    "print(output)"
   ]
  },
  {
   "cell_type": "code",
   "execution_count": 7,
   "id": "f0ba7c07",
   "metadata": {},
   "outputs": [
    {
     "data": {
      "text/plain": [
       "[20, 16, 11, 9, 6, 4, 1]"
      ]
     },
     "execution_count": 7,
     "metadata": {},
     "output_type": "execute_result"
    }
   ],
   "source": [
    "l1"
   ]
  },
  {
   "cell_type": "code",
   "execution_count": 8,
   "id": "71167364",
   "metadata": {},
   "outputs": [
    {
     "name": "stdout",
     "output_type": "stream",
     "text": [
      "5\n"
     ]
    }
   ],
   "source": [
    "search_ele = 4\n",
    "low = 0\n",
    "high = len(l1) - 1\n",
    "output = -1\n",
    "\n",
    "while low <= high:\n",
    "    mid = (low + high) // 2\n",
    "    \n",
    "    if search_ele == l1[mid]:\n",
    "        output = mid\n",
    "        break\n",
    "    elif search_ele > l1[mid]:\n",
    "        high = mid - 1\n",
    "    elif search_ele < l1[mid]:\n",
    "        low = mid + 1\n",
    "        \n",
    "print(output)"
   ]
  },
  {
   "cell_type": "code",
   "execution_count": 9,
   "id": "19436051",
   "metadata": {},
   "outputs": [
    {
     "name": "stdout",
     "output_type": "stream",
     "text": [
      "-1\n"
     ]
    }
   ],
   "source": [
    "search_ele = 14\n",
    "low = 0\n",
    "high = len(l1) - 1\n",
    "output = -1\n",
    "\n",
    "while low <= high:\n",
    "    mid = (low + high) // 2\n",
    "    \n",
    "    if search_ele == l1[mid]:\n",
    "        output = mid\n",
    "        break\n",
    "    elif search_ele > l1[mid]:\n",
    "        high = mid - 1\n",
    "    elif search_ele < l1[mid]:\n",
    "        low = mid + 1\n",
    "        \n",
    "print(output)"
   ]
  },
  {
   "cell_type": "code",
   "execution_count": 10,
   "id": "fab471ca",
   "metadata": {},
   "outputs": [],
   "source": [
    "l1 = [20, 16, 11, 10, 9, 6, 4, 1]"
   ]
  },
  {
   "cell_type": "code",
   "execution_count": 11,
   "id": "8915179f",
   "metadata": {},
   "outputs": [
    {
     "name": "stdout",
     "output_type": "stream",
     "text": [
      "1\n"
     ]
    }
   ],
   "source": [
    "search_ele = 16\n",
    "low = 0\n",
    "high = len(l1) - 1\n",
    "output = -1\n",
    "\n",
    "while low <= high:\n",
    "    mid = (low + high) // 2\n",
    "    \n",
    "    if search_ele == l1[mid]:\n",
    "        output = mid\n",
    "        break\n",
    "    elif search_ele > l1[mid]:\n",
    "        high = mid - 1\n",
    "    elif search_ele < l1[mid]:\n",
    "        low = mid + 1\n",
    "        \n",
    "print(output)"
   ]
  },
  {
   "cell_type": "code",
   "execution_count": 12,
   "id": "978a57e7",
   "metadata": {},
   "outputs": [
    {
     "name": "stdout",
     "output_type": "stream",
     "text": [
      "0\n"
     ]
    }
   ],
   "source": [
    "search_ele = 20\n",
    "low = 0\n",
    "high = len(l1) - 1\n",
    "output = -1\n",
    "\n",
    "while low <= high:\n",
    "    mid = (low + high) // 2\n",
    "    \n",
    "    if search_ele == l1[mid]:\n",
    "        output = mid\n",
    "        break\n",
    "    elif search_ele > l1[mid]:\n",
    "        high = mid - 1\n",
    "    elif search_ele < l1[mid]:\n",
    "        low = mid + 1\n",
    "        \n",
    "print(output)"
   ]
  },
  {
   "cell_type": "code",
   "execution_count": null,
   "id": "1f95f6d0",
   "metadata": {},
   "outputs": [],
   "source": []
  },
  {
   "cell_type": "code",
   "execution_count": 13,
   "id": "9e380c7b",
   "metadata": {},
   "outputs": [],
   "source": [
    "# Write a function half_and_half that takes in a list and change the list \n",
    "# such that the elements of the second half are now in the first half.\n",
    "\n",
    "# For example, if the size of list is even and content of list is as follows :\n",
    "# my_liist = [10,20,30,40,50,60]\n",
    "# The output should be\n",
    "# [40,50,60,10,20,30]\n",
    "# if the size of list is odd and content of list is as follows :\n",
    "# my_liist = [10,20,30,40,50,60,70]\n",
    "# The output should be\n",
    "# [50,60,70,40,10,20,30]\n"
   ]
  },
  {
   "cell_type": "code",
   "execution_count": 14,
   "id": "d2d614cd",
   "metadata": {},
   "outputs": [],
   "source": [
    "def half_and_half(my_list):\n",
    "    length = len(my_list)\n",
    "    if length % 2 == 0:\n",
    "        mid = length // 2\n",
    "    else:\n",
    "        mid = (length // 2) + 1\n",
    "        my_list[:] = my_list[mid:] + my_list[:mid]\n",
    "      \n",
    "    print(my_list)\n"
   ]
  },
  {
   "cell_type": "code",
   "execution_count": 15,
   "id": "8b673086",
   "metadata": {},
   "outputs": [],
   "source": [
    "my_liist = [10,20,30,40,50,60]"
   ]
  },
  {
   "cell_type": "code",
   "execution_count": 17,
   "id": "a6837581",
   "metadata": {},
   "outputs": [
    {
     "name": "stdout",
     "output_type": "stream",
     "text": [
      "[10, 20, 30, 40, 50, 60]\n"
     ]
    }
   ],
   "source": [
    "half_and_half(my_liist)"
   ]
  },
  {
   "cell_type": "code",
   "execution_count": 18,
   "id": "53ab554d",
   "metadata": {},
   "outputs": [],
   "source": [
    "def half_and_half(my_list):\n",
    "    length = len(my_list)\n",
    "    if length % 2 == 0:\n",
    "        mid = length // 2\n",
    "    else:\n",
    "        mid = (length // 2) + 1\n",
    "    my_list_new = my_list[mid:] + my_list[:mid]\n",
    "      \n",
    "    print(my_list_new)\n",
    "    \n"
   ]
  },
  {
   "cell_type": "code",
   "execution_count": 19,
   "id": "408580f8",
   "metadata": {},
   "outputs": [
    {
     "name": "stdout",
     "output_type": "stream",
     "text": [
      "[40, 50, 60, 10, 20, 30]\n"
     ]
    }
   ],
   "source": [
    "half_and_half(my_liist)"
   ]
  },
  {
   "cell_type": "code",
   "execution_count": null,
   "id": "2d8fb7be",
   "metadata": {},
   "outputs": [],
   "source": []
  },
  {
   "cell_type": "code",
   "execution_count": 20,
   "id": "695fbab0",
   "metadata": {},
   "outputs": [
    {
     "name": "stdout",
     "output_type": "stream",
     "text": [
      "[20, 30, 40, 50, 60, 70, 10]\n"
     ]
    }
   ],
   "source": [
    "half_and_half([50, 60, 70, 10, 20, 30, 40])"
   ]
  },
  {
   "cell_type": "code",
   "execution_count": 26,
   "id": "6c151bdb",
   "metadata": {},
   "outputs": [],
   "source": [
    "def half_and_half(my_list):\n",
    "    length = len(my_list)\n",
    "    if length % 2 == 0:\n",
    "        mid = length // 2\n",
    "        my_list_new = my_list[mid:] + my_list[:mid]\n",
    "    else:\n",
    "        mid = (length // 2)\n",
    "        my_list_new = my_list[mid:] + my_list[mid] + my_list[:mid-1] \n",
    "      \n",
    "    print(my_list_new)\n",
    "    \n"
   ]
  },
  {
   "cell_type": "code",
   "execution_count": 27,
   "id": "1532f8f7",
   "metadata": {},
   "outputs": [
    {
     "ename": "TypeError",
     "evalue": "can only concatenate list (not \"int\") to list",
     "output_type": "error",
     "traceback": [
      "\u001b[1;31m---------------------------------------------------------------------------\u001b[0m",
      "\u001b[1;31mTypeError\u001b[0m                                 Traceback (most recent call last)",
      "Cell \u001b[1;32mIn[27], line 1\u001b[0m\n\u001b[1;32m----> 1\u001b[0m half_and_half([\u001b[38;5;241m50\u001b[39m, \u001b[38;5;241m60\u001b[39m, \u001b[38;5;241m70\u001b[39m, \u001b[38;5;241m10\u001b[39m, \u001b[38;5;241m20\u001b[39m, \u001b[38;5;241m30\u001b[39m, \u001b[38;5;241m40\u001b[39m])\n",
      "Cell \u001b[1;32mIn[26], line 8\u001b[0m, in \u001b[0;36mhalf_and_half\u001b[1;34m(my_list)\u001b[0m\n\u001b[0;32m      6\u001b[0m \u001b[38;5;28;01melse\u001b[39;00m:\n\u001b[0;32m      7\u001b[0m     mid \u001b[38;5;241m=\u001b[39m (length \u001b[38;5;241m/\u001b[39m\u001b[38;5;241m/\u001b[39m \u001b[38;5;241m2\u001b[39m)\n\u001b[1;32m----> 8\u001b[0m     my_list_new \u001b[38;5;241m=\u001b[39m my_list[mid:] \u001b[38;5;241m+\u001b[39m my_list[mid] \u001b[38;5;241m+\u001b[39m my_list[:mid\u001b[38;5;241m-\u001b[39m\u001b[38;5;241m1\u001b[39m] \n\u001b[0;32m     10\u001b[0m \u001b[38;5;28mprint\u001b[39m(my_list_new)\n",
      "\u001b[1;31mTypeError\u001b[0m: can only concatenate list (not \"int\") to list"
     ]
    }
   ],
   "source": [
    "half_and_half([50, 60, 70, 10, 20, 30, 40])"
   ]
  },
  {
   "cell_type": "code",
   "execution_count": 35,
   "id": "3991ba61",
   "metadata": {},
   "outputs": [],
   "source": [
    "my_list= [10, 20, 30, 40, 50, 60, 70]"
   ]
  },
  {
   "cell_type": "code",
   "execution_count": 36,
   "id": "5bc4facf",
   "metadata": {},
   "outputs": [
    {
     "data": {
      "text/plain": [
       "[40, 50, 60, 70]"
      ]
     },
     "execution_count": 36,
     "metadata": {},
     "output_type": "execute_result"
    }
   ],
   "source": [
    "my_list[mid:]"
   ]
  },
  {
   "cell_type": "code",
   "execution_count": 37,
   "id": "297cf8a7",
   "metadata": {},
   "outputs": [],
   "source": [
    "length = len(my_list)"
   ]
  },
  {
   "cell_type": "code",
   "execution_count": 41,
   "id": "7e71589a",
   "metadata": {},
   "outputs": [],
   "source": [
    "mid = (length // 2) + 1"
   ]
  },
  {
   "cell_type": "code",
   "execution_count": 42,
   "id": "a3e2c0ff",
   "metadata": {},
   "outputs": [
    {
     "data": {
      "text/plain": [
       "[50, 60, 70]"
      ]
     },
     "execution_count": 42,
     "metadata": {},
     "output_type": "execute_result"
    }
   ],
   "source": [
    "my_list[mid:]"
   ]
  },
  {
   "cell_type": "code",
   "execution_count": 43,
   "id": "1376cc6e",
   "metadata": {},
   "outputs": [
    {
     "data": {
      "text/plain": [
       "[10, 20, 30, 40, 50, 60, 70]"
      ]
     },
     "execution_count": 43,
     "metadata": {},
     "output_type": "execute_result"
    }
   ],
   "source": [
    "my_list"
   ]
  },
  {
   "cell_type": "code",
   "execution_count": 45,
   "id": "d5556d5b",
   "metadata": {},
   "outputs": [
    {
     "data": {
      "text/plain": [
       "[50]"
      ]
     },
     "execution_count": 45,
     "metadata": {},
     "output_type": "execute_result"
    }
   ],
   "source": [
    "[my_list[mid]]"
   ]
  },
  {
   "cell_type": "code",
   "execution_count": 46,
   "id": "13ea8c93",
   "metadata": {},
   "outputs": [
    {
     "data": {
      "text/plain": [
       "[10, 20, 30]"
      ]
     },
     "execution_count": 46,
     "metadata": {},
     "output_type": "execute_result"
    }
   ],
   "source": [
    "my_list[:mid-1] "
   ]
  },
  {
   "cell_type": "code",
   "execution_count": 47,
   "id": "a64384f3",
   "metadata": {},
   "outputs": [],
   "source": [
    "def half_and_half(my_list):\n",
    "    length = len(my_list)\n",
    "    if length % 2 == 0:\n",
    "        mid = length // 2\n",
    "        my_list_new = my_list[mid:] + my_list[:mid]\n",
    "    else:\n",
    "        mid = (length // 2) + 1\n",
    "        my_list_new = my_list[mid:] + [my_list[mid]] + my_list[:mid-1] \n",
    "      \n",
    "    print(my_list_new)\n",
    "    \n"
   ]
  },
  {
   "cell_type": "code",
   "execution_count": 48,
   "id": "9099e312",
   "metadata": {},
   "outputs": [
    {
     "name": "stdout",
     "output_type": "stream",
     "text": [
      "[50, 60, 70, 50, 10, 20, 30]\n"
     ]
    }
   ],
   "source": [
    "half_and_half([10, 20, 30, 40, 50, 60, 70])"
   ]
  },
  {
   "cell_type": "code",
   "execution_count": 49,
   "id": "942ea66b",
   "metadata": {},
   "outputs": [
    {
     "name": "stdout",
     "output_type": "stream",
     "text": [
      "[40, 50, 60, 10, 20, 30]\n"
     ]
    }
   ],
   "source": [
    "half_and_half([10,20,30,40,50,60])"
   ]
  },
  {
   "cell_type": "code",
   "execution_count": null,
   "id": "b4d76b6f",
   "metadata": {},
   "outputs": [],
   "source": []
  },
  {
   "cell_type": "code",
   "execution_count": null,
   "id": "3e4c9713",
   "metadata": {},
   "outputs": [],
   "source": []
  }
 ],
 "metadata": {
  "kernelspec": {
   "display_name": "Python 3 (ipykernel)",
   "language": "python",
   "name": "python3"
  },
  "language_info": {
   "codemirror_mode": {
    "name": "ipython",
    "version": 3
   },
   "file_extension": ".py",
   "mimetype": "text/x-python",
   "name": "python",
   "nbconvert_exporter": "python",
   "pygments_lexer": "ipython3",
   "version": "3.11.4"
  }
 },
 "nbformat": 4,
 "nbformat_minor": 5
}
