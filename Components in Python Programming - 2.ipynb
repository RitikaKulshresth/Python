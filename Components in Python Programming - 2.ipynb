{
 "cells": [
  {
   "cell_type": "markdown",
   "id": "0115156c",
   "metadata": {},
   "source": [
    "Constant\n",
    "\n",
    "- Fixed value\n",
    "- The value that cannot be changed.\n",
    "- In Python, we use capital letters (upper case) to define constants"
   ]
  },
  {
   "cell_type": "code",
   "execution_count": 1,
   "id": "93e8a3b2",
   "metadata": {},
   "outputs": [],
   "source": [
    "GRAVITY = 9.8"
   ]
  },
  {
   "cell_type": "code",
   "execution_count": 2,
   "id": "7c222875",
   "metadata": {},
   "outputs": [],
   "source": [
    "PI = 3.14"
   ]
  },
  {
   "cell_type": "markdown",
   "id": "189aa968",
   "metadata": {},
   "source": [
    "GRAVITY and PI are constants"
   ]
  },
  {
   "cell_type": "code",
   "execution_count": 3,
   "id": "2d869635",
   "metadata": {},
   "outputs": [
    {
     "name": "stdout",
     "output_type": "stream",
     "text": [
      "9.8\n"
     ]
    }
   ],
   "source": [
    "print(GRAVITY)"
   ]
  },
  {
   "cell_type": "code",
   "execution_count": 4,
   "id": "4f931eca",
   "metadata": {},
   "outputs": [
    {
     "name": "stdout",
     "output_type": "stream",
     "text": [
      "3.14\n"
     ]
    }
   ],
   "source": [
    "print(PI)"
   ]
  },
  {
   "cell_type": "code",
   "execution_count": 5,
   "id": "583ee43a",
   "metadata": {},
   "outputs": [],
   "source": [
    "GRAVITY = 10"
   ]
  },
  {
   "cell_type": "code",
   "execution_count": 6,
   "id": "143d8e1e",
   "metadata": {},
   "outputs": [
    {
     "name": "stdout",
     "output_type": "stream",
     "text": [
      "10\n"
     ]
    }
   ],
   "source": [
    "print(GRAVITY)"
   ]
  },
  {
   "cell_type": "markdown",
   "id": "5f3bd46e",
   "metadata": {},
   "source": [
    "We are able to change the constant!!!\n",
    "\n",
    "- In Python, the value associated with a constant can be changed\n",
    "- There is no constant in Python\n",
    "- Defining a variable with Upper Case is a convention/standard that is followed in Python so that the programmers know that the value SHOULD NOT be changed. It is an indication!!"
   ]
  },
  {
   "cell_type": "code",
   "execution_count": null,
   "id": "7bc024f8",
   "metadata": {},
   "outputs": [],
   "source": []
  },
  {
   "cell_type": "markdown",
   "id": "5d25dbe6",
   "metadata": {},
   "source": [
    "Comments\n",
    "\n",
    "- These are the documentation/description/notes about the program\n",
    "- It is a good practice to write comments\n",
    "- In Python, '#' is used to write a single line comment\n",
    "- Triple quotes are used to write multi-line comments\n",
    "- If we write anything inside comments, that code will not be executed"
   ]
  },
  {
   "cell_type": "code",
   "execution_count": 7,
   "id": "d0a0bfdb",
   "metadata": {},
   "outputs": [
    {
     "name": "stdout",
     "output_type": "stream",
     "text": [
      "30\n"
     ]
    }
   ],
   "source": [
    "x = 10\n",
    "y = 20\n",
    "z = x + y\n",
    "print(z)"
   ]
  },
  {
   "cell_type": "code",
   "execution_count": 8,
   "id": "729134ac",
   "metadata": {},
   "outputs": [
    {
     "name": "stdout",
     "output_type": "stream",
     "text": [
      "30\n"
     ]
    }
   ],
   "source": [
    "# Code to add 2 numbers and display the result\n",
    "x = 10\n",
    "y = 20\n",
    "z = x + y\n",
    "print(z)"
   ]
  },
  {
   "cell_type": "code",
   "execution_count": 9,
   "id": "a3c6fb95",
   "metadata": {},
   "outputs": [
    {
     "ename": "SyntaxError",
     "evalue": "invalid syntax (2871419020.py, line 1)",
     "output_type": "error",
     "traceback": [
      "\u001b[1;36m  Cell \u001b[1;32mIn[9], line 1\u001b[1;36m\u001b[0m\n\u001b[1;33m    Code to add 2 numbers and display the result\u001b[0m\n\u001b[1;37m         ^\u001b[0m\n\u001b[1;31mSyntaxError\u001b[0m\u001b[1;31m:\u001b[0m invalid syntax\n"
     ]
    }
   ],
   "source": [
    "Code to add 2 numbers and display the result\n",
    "x = 10\n",
    "y = 20\n",
    "z = x + y\n",
    "print(z)"
   ]
  },
  {
   "cell_type": "code",
   "execution_count": 11,
   "id": "01e30b08",
   "metadata": {},
   "outputs": [
    {
     "name": "stdout",
     "output_type": "stream",
     "text": [
      "30\n"
     ]
    }
   ],
   "source": [
    "## Code to add 2 numbers and display the result\n",
    "x = 10 # Assigning the value to variable x\n",
    "y = 20 # Assigning the value to variable y\n",
    "z = x + y # Adding\n",
    "print(z) # Displaying/printing the result on screen"
   ]
  },
  {
   "cell_type": "code",
   "execution_count": 12,
   "id": "d98c7cab",
   "metadata": {},
   "outputs": [
    {
     "name": "stdout",
     "output_type": "stream",
     "text": [
      "30\n"
     ]
    }
   ],
   "source": [
    "## Code to add 2 numbers and display the result\n",
    "# First, assign the value to variable x\n",
    "# Then, assign the value to variable y #\n",
    "# Add them and print\n",
    "x = 10 \n",
    "y = 20\n",
    "z = x + y\n",
    "print(z)"
   ]
  },
  {
   "cell_type": "code",
   "execution_count": 13,
   "id": "bd05408d",
   "metadata": {},
   "outputs": [
    {
     "name": "stdout",
     "output_type": "stream",
     "text": [
      "30\n"
     ]
    }
   ],
   "source": [
    "'''Code to add 2 numbers and display the result\n",
    "First, assign the value to variable x\n",
    "Then, assign the value to variable y #\n",
    "Add them and print\n",
    "'''\n",
    "x = 10 \n",
    "y = 20\n",
    "z = x + y\n",
    "print(z)"
   ]
  },
  {
   "cell_type": "code",
   "execution_count": 14,
   "id": "5a35c3c5",
   "metadata": {},
   "outputs": [
    {
     "name": "stdout",
     "output_type": "stream",
     "text": [
      "10\n",
      "20\n",
      "30\n"
     ]
    }
   ],
   "source": [
    "'''Code to add 2 numbers and display the result\n",
    "First, assign the value to variable x\n",
    "Then, assign the value to variable y #\n",
    "Add them and print\n",
    "'''\n",
    "x = 10\n",
    "print(x)\n",
    "y = 20\n",
    "print(y)\n",
    "z = x + y\n",
    "print(z)"
   ]
  },
  {
   "cell_type": "code",
   "execution_count": 15,
   "id": "a645bd3a",
   "metadata": {},
   "outputs": [
    {
     "name": "stdout",
     "output_type": "stream",
     "text": [
      "30\n"
     ]
    }
   ],
   "source": [
    "'''Code to add 2 numbers and display the result\n",
    "First, assign the value to variable x\n",
    "Then, assign the value to variable y #\n",
    "Add them and print\n",
    "'''\n",
    "x = 10\n",
    "# print(x\n",
    "y = 20\n",
    "# print(y)\n",
    "z = x + y\n",
    "print(z)"
   ]
  },
  {
   "cell_type": "code",
   "execution_count": null,
   "id": "12ff57fd",
   "metadata": {},
   "outputs": [],
   "source": []
  },
  {
   "cell_type": "code",
   "execution_count": 16,
   "id": "4466f9e3",
   "metadata": {},
   "outputs": [
    {
     "name": "stdout",
     "output_type": "stream",
     "text": [
      "30\n"
     ]
    }
   ],
   "source": [
    "'''Code to add 2 numbers and display the result\n",
    "First, assign the value to variable x.\n",
    "Then, assign the value to variable y #\n",
    "Add them and print\n",
    "'''\n",
    "x = 10\n",
    "# print(x\n",
    "y = 20\n",
    "# print(y)\n",
    "z = x + y\n",
    "print(z)"
   ]
  },
  {
   "cell_type": "code",
   "execution_count": 17,
   "id": "63490418",
   "metadata": {},
   "outputs": [
    {
     "name": "stdout",
     "output_type": "stream",
     "text": [
      "30\n"
     ]
    }
   ],
   "source": [
    "x = 10\n",
    "# print(x\n",
    "y = 20\n",
    "'''Code to add 2 numbers and display the result\n",
    "First, assign the value to variable x.\n",
    "Then, assign the value to variable y #\n",
    "Add them and print\n",
    "'''\n",
    "# print(y)\n",
    "z = x + y\n",
    "print(z)"
   ]
  },
  {
   "cell_type": "code",
   "execution_count": null,
   "id": "a8bd92c7",
   "metadata": {},
   "outputs": [],
   "source": []
  },
  {
   "cell_type": "markdown",
   "id": "5b67de91",
   "metadata": {},
   "source": [
    "Keywords\n",
    "\n",
    "- pre-defined reserved words that have special meaning\n",
    "- In Python, there are 36 keywords\n",
    "- eg: def, for, if, import, .....\n",
    "- To know the list of keywords in Python:\n",
    "    - The keyword list is part of the pre-defined module of Python - 'keyword'\n",
    "    - There is a variable called 'kwlist' inside 'keyword' module that has the list of keywords\n",
    "    - To fetch it, we need to import the keyword module\n",
    "    - Then use the variable"
   ]
  },
  {
   "cell_type": "code",
   "execution_count": 18,
   "id": "96f34199",
   "metadata": {},
   "outputs": [
    {
     "ename": "NameError",
     "evalue": "name 'kwlist' is not defined",
     "output_type": "error",
     "traceback": [
      "\u001b[1;31m---------------------------------------------------------------------------\u001b[0m",
      "\u001b[1;31mNameError\u001b[0m                                 Traceback (most recent call last)",
      "Cell \u001b[1;32mIn[18], line 1\u001b[0m\n\u001b[1;32m----> 1\u001b[0m \u001b[38;5;28mprint\u001b[39m(kwlist)\n",
      "\u001b[1;31mNameError\u001b[0m: name 'kwlist' is not defined"
     ]
    }
   ],
   "source": [
    "print(kwlist)"
   ]
  },
  {
   "cell_type": "code",
   "execution_count": 19,
   "id": "80b3a0bb",
   "metadata": {},
   "outputs": [],
   "source": [
    "import keyword"
   ]
  },
  {
   "cell_type": "code",
   "execution_count": 20,
   "id": "11ee757f",
   "metadata": {},
   "outputs": [
    {
     "ename": "NameError",
     "evalue": "name 'kwlist' is not defined",
     "output_type": "error",
     "traceback": [
      "\u001b[1;31m---------------------------------------------------------------------------\u001b[0m",
      "\u001b[1;31mNameError\u001b[0m                                 Traceback (most recent call last)",
      "Cell \u001b[1;32mIn[20], line 1\u001b[0m\n\u001b[1;32m----> 1\u001b[0m \u001b[38;5;28mprint\u001b[39m(kwlist)\n",
      "\u001b[1;31mNameError\u001b[0m: name 'kwlist' is not defined"
     ]
    }
   ],
   "source": [
    "print(kwlist)"
   ]
  },
  {
   "cell_type": "code",
   "execution_count": 21,
   "id": "640c7b4b",
   "metadata": {},
   "outputs": [
    {
     "name": "stdout",
     "output_type": "stream",
     "text": [
      "['False', 'None', 'True', 'and', 'as', 'assert', 'async', 'await', 'break', 'class', 'continue', 'def', 'del', 'elif', 'else', 'except', 'finally', 'for', 'from', 'global', 'if', 'import', 'in', 'is', 'lambda', 'nonlocal', 'not', 'or', 'pass', 'raise', 'return', 'try', 'while', 'with', 'yield']\n"
     ]
    }
   ],
   "source": [
    "print(keyword.kwlist)"
   ]
  },
  {
   "cell_type": "code",
   "execution_count": 22,
   "id": "08bf35a0",
   "metadata": {},
   "outputs": [],
   "source": [
    "A = 10"
   ]
  },
  {
   "cell_type": "code",
   "execution_count": 23,
   "id": "1017468c",
   "metadata": {},
   "outputs": [
    {
     "name": "stdout",
     "output_type": "stream",
     "text": [
      "10\n"
     ]
    }
   ],
   "source": [
    "print(A)"
   ]
  },
  {
   "cell_type": "code",
   "execution_count": null,
   "id": "1f6c3560",
   "metadata": {},
   "outputs": [],
   "source": []
  },
  {
   "cell_type": "markdown",
   "id": "5aa2b1cb",
   "metadata": {},
   "source": [
    "Expression\n",
    "- combination of values, variables and operators\n",
    "- Usually, expressions are evaluated to a value\n",
    "- We can assign the result of an expression to a variable or directly use it or print it"
   ]
  },
  {
   "cell_type": "code",
   "execution_count": 24,
   "id": "c9725299",
   "metadata": {},
   "outputs": [],
   "source": [
    "a = 20"
   ]
  },
  {
   "cell_type": "code",
   "execution_count": 25,
   "id": "5ba7fd89",
   "metadata": {},
   "outputs": [],
   "source": [
    "result = a * 2 - 10"
   ]
  },
  {
   "cell_type": "code",
   "execution_count": 26,
   "id": "90447af4",
   "metadata": {},
   "outputs": [
    {
     "name": "stdout",
     "output_type": "stream",
     "text": [
      "30\n"
     ]
    }
   ],
   "source": [
    "print(a * 2 - 10)"
   ]
  },
  {
   "cell_type": "code",
   "execution_count": 27,
   "id": "53ce2783",
   "metadata": {},
   "outputs": [
    {
     "name": "stdout",
     "output_type": "stream",
     "text": [
      "30\n"
     ]
    }
   ],
   "source": [
    "print(result)"
   ]
  },
  {
   "cell_type": "markdown",
   "id": "4c4e8f7b",
   "metadata": {},
   "source": [
    "a * 2 - 10 => is an expression"
   ]
  },
  {
   "cell_type": "code",
   "execution_count": null,
   "id": "7c9f4263",
   "metadata": {},
   "outputs": [],
   "source": []
  },
  {
   "cell_type": "markdown",
   "id": "cfa5e5d4",
   "metadata": {},
   "source": [
    "Statement\n",
    "- Intruction that we write"
   ]
  },
  {
   "cell_type": "markdown",
   "id": "87eb66bd",
   "metadata": {},
   "source": [
    "result = a * 2 - 10 => This is a statement\n",
    "\n",
    "a = 20 => This is a statement"
   ]
  },
  {
   "cell_type": "code",
   "execution_count": null,
   "id": "68e8072d",
   "metadata": {},
   "outputs": [],
   "source": []
  },
  {
   "cell_type": "markdown",
   "id": "c1d71d42",
   "metadata": {},
   "source": [
    "Block and Indentation\n",
    "- Block: combination of statements\n",
    "- We use indentation to create blocks\n",
    "- Indentation is spaces/tab given in a program to create blocks"
   ]
  },
  {
   "cell_type": "code",
   "execution_count": 28,
   "id": "14e91878",
   "metadata": {},
   "outputs": [
    {
     "name": "stdout",
     "output_type": "stream",
     "text": [
      "Negative\n",
      "Bye\n"
     ]
    }
   ],
   "source": [
    "number = -10\n",
    "if number < 0:\n",
    "    print(\"Negative\")\n",
    "    print(\"Bye\")\n",
    "else:\n",
    "    print(\"Hello\")\n",
    "    print(\"Positive\")\n",
    "    print(\"We are learning blocks and indentation!!!\")"
   ]
  },
  {
   "cell_type": "code",
   "execution_count": 29,
   "id": "9fb3d21f",
   "metadata": {},
   "outputs": [
    {
     "name": "stdout",
     "output_type": "stream",
     "text": [
      "Hello\n",
      "Positive\n",
      "We are learning blocks and indentation!!!\n"
     ]
    }
   ],
   "source": [
    "number = 10\n",
    "if number < 0:\n",
    "    print(\"Negative\")\n",
    "    print(\"Bye\")\n",
    "else:\n",
    "    print(\"Hello\")\n",
    "    print(\"Positive\")\n",
    "    print(\"We are learning blocks and indentation!!!\")"
   ]
  },
  {
   "cell_type": "code",
   "execution_count": 30,
   "id": "e90b4bc2",
   "metadata": {},
   "outputs": [
    {
     "ename": "IndentationError",
     "evalue": "expected an indented block after 'if' statement on line 2 (2472264156.py, line 3)",
     "output_type": "error",
     "traceback": [
      "\u001b[1;36m  Cell \u001b[1;32mIn[30], line 3\u001b[1;36m\u001b[0m\n\u001b[1;33m    print(\"Negative\")\u001b[0m\n\u001b[1;37m    ^\u001b[0m\n\u001b[1;31mIndentationError\u001b[0m\u001b[1;31m:\u001b[0m expected an indented block after 'if' statement on line 2\n"
     ]
    }
   ],
   "source": [
    "number = 10\n",
    "if number < 0:\n",
    "print(\"Negative\")\n",
    "    print(\"Bye\")\n",
    "else:\n",
    "    print(\"Hello\")\n",
    "    print(\"Positive\")\n",
    "    print(\"We are learning blocks and indentation!!!\")"
   ]
  },
  {
   "cell_type": "code",
   "execution_count": 31,
   "id": "d04d6b92",
   "metadata": {},
   "outputs": [
    {
     "ename": "IndentationError",
     "evalue": "unexpected indent (923669312.py, line 4)",
     "output_type": "error",
     "traceback": [
      "\u001b[1;36m  Cell \u001b[1;32mIn[31], line 4\u001b[1;36m\u001b[0m\n\u001b[1;33m    print(\"Bye\")\u001b[0m\n\u001b[1;37m    ^\u001b[0m\n\u001b[1;31mIndentationError\u001b[0m\u001b[1;31m:\u001b[0m unexpected indent\n"
     ]
    }
   ],
   "source": [
    "number = 10\n",
    "if number < 0:\n",
    "    print(\"Negative\")\n",
    "     print(\"Bye\")\n",
    "else:\n",
    "    print(\"Hello\")\n",
    "    print(\"Positive\")\n",
    "    print(\"We are learning blocks and indentation!!!\")"
   ]
  },
  {
   "cell_type": "code",
   "execution_count": 32,
   "id": "c99807fb",
   "metadata": {},
   "outputs": [
    {
     "name": "stdout",
     "output_type": "stream",
     "text": [
      "Hello\n",
      "Positive\n",
      "We are learning blocks and indentation!!!\n"
     ]
    }
   ],
   "source": [
    "number = 10\n",
    "if number < 0:\n",
    " print(\"Negative\")\n",
    " print(\"Bye\")\n",
    "else:\n",
    " print(\"Hello\")\n",
    " print(\"Positive\")\n",
    " print(\"We are learning blocks and indentation!!!\")"
   ]
  },
  {
   "cell_type": "markdown",
   "id": "ac72d1ad",
   "metadata": {},
   "source": [
    "We can have any number of spaces for indentation. BUT, by convention/standard, indentation should hae 4 spaces"
   ]
  },
  {
   "cell_type": "code",
   "execution_count": 33,
   "id": "75956ca6",
   "metadata": {},
   "outputs": [
    {
     "name": "stdout",
     "output_type": "stream",
     "text": [
      "Hello\n",
      "Positive\n",
      "We are learning blocks and indentation!!!\n"
     ]
    }
   ],
   "source": [
    "number = 10\n",
    "if number < 0:\n",
    " print(\"Negative\")\n",
    " print(\"Bye\")\n",
    "else:\n",
    "  print(\"Hello\")\n",
    "  print(\"Positive\")\n",
    "  print(\"We are learning blocks and indentation!!!\")"
   ]
  },
  {
   "cell_type": "code",
   "execution_count": 34,
   "id": "a9b56849",
   "metadata": {},
   "outputs": [
    {
     "name": "stdout",
     "output_type": "stream",
     "text": [
      "Hello\n",
      "Positive\n",
      "We are learning blocks and indentation!!!\n"
     ]
    }
   ],
   "source": [
    "number = 10\n",
    "if number < 0:\n",
    "    res = number * 2\n",
    "    print(\"Negative\")\n",
    "    print(\"Bye\")\n",
    "else:\n",
    "    print(\"Hello\")\n",
    "    print(\"Positive\")\n",
    "    print(\"We are learning blocks and indentation!!!\")"
   ]
  },
  {
   "cell_type": "code",
   "execution_count": null,
   "id": "28763564",
   "metadata": {},
   "outputs": [],
   "source": []
  },
  {
   "cell_type": "code",
   "execution_count": 35,
   "id": "6b30a418",
   "metadata": {},
   "outputs": [
    {
     "ename": "NameError",
     "evalue": "name 'Hello' is not defined",
     "output_type": "error",
     "traceback": [
      "\u001b[1;31m---------------------------------------------------------------------------\u001b[0m",
      "\u001b[1;31mNameError\u001b[0m                                 Traceback (most recent call last)",
      "Cell \u001b[1;32mIn[35], line 7\u001b[0m\n\u001b[0;32m      5\u001b[0m     \u001b[38;5;28mprint\u001b[39m(\u001b[38;5;124m\"\u001b[39m\u001b[38;5;124mBye\u001b[39m\u001b[38;5;124m\"\u001b[39m)\n\u001b[0;32m      6\u001b[0m \u001b[38;5;28;01melse\u001b[39;00m:\n\u001b[1;32m----> 7\u001b[0m     \u001b[38;5;28mprint\u001b[39m(Hello)\n\u001b[0;32m      8\u001b[0m     \u001b[38;5;28mprint\u001b[39m(\u001b[38;5;124m\"\u001b[39m\u001b[38;5;124mPositive\u001b[39m\u001b[38;5;124m\"\u001b[39m)\n\u001b[0;32m      9\u001b[0m     \u001b[38;5;28mprint\u001b[39m(\u001b[38;5;124m\"\u001b[39m\u001b[38;5;124mWe are learning blocks and indentation!!!\u001b[39m\u001b[38;5;124m\"\u001b[39m)\n",
      "\u001b[1;31mNameError\u001b[0m: name 'Hello' is not defined"
     ]
    }
   ],
   "source": [
    "number = 10\n",
    "if number < 0:\n",
    "    res = number * 2\n",
    "    print(\"Negative\")\n",
    "    print(\"Bye\")\n",
    "else:\n",
    "    print(Hello)\n",
    "    print(\"Positive\")\n",
    "    print(\"We are learning blocks and indentation!!!\")"
   ]
  },
  {
   "cell_type": "code",
   "execution_count": null,
   "id": "c6626ffb",
   "metadata": {},
   "outputs": [],
   "source": []
  }
 ],
 "metadata": {
  "kernelspec": {
   "display_name": "Python 3 (ipykernel)",
   "language": "python",
   "name": "python3"
  },
  "language_info": {
   "codemirror_mode": {
    "name": "ipython",
    "version": 3
   },
   "file_extension": ".py",
   "mimetype": "text/x-python",
   "name": "python",
   "nbconvert_exporter": "python",
   "pygments_lexer": "ipython3",
   "version": "3.11.4"
  }
 },
 "nbformat": 4,
 "nbformat_minor": 5
}
