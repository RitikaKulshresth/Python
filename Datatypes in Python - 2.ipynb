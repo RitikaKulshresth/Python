{
 "cells": [
  {
   "cell_type": "code",
   "execution_count": 1,
   "id": "19b37cfe",
   "metadata": {},
   "outputs": [],
   "source": [
    "# String\n",
    "# collection/group of characters enclosed within quotes."
   ]
  },
  {
   "cell_type": "code",
   "execution_count": 2,
   "id": "f3993c43",
   "metadata": {},
   "outputs": [],
   "source": [
    "s1 = \"Welcome to Python!\""
   ]
  },
  {
   "cell_type": "code",
   "execution_count": 3,
   "id": "d9453ce2",
   "metadata": {},
   "outputs": [
    {
     "data": {
      "text/plain": [
       "str"
      ]
     },
     "execution_count": 3,
     "metadata": {},
     "output_type": "execute_result"
    }
   ],
   "source": [
    "type(s1)"
   ]
  },
  {
   "cell_type": "code",
   "execution_count": 4,
   "id": "4558734d",
   "metadata": {},
   "outputs": [],
   "source": [
    "s2 = 'Hello World'"
   ]
  },
  {
   "cell_type": "code",
   "execution_count": 5,
   "id": "da0511ff",
   "metadata": {},
   "outputs": [
    {
     "name": "stdout",
     "output_type": "stream",
     "text": [
      "Hello World\n"
     ]
    }
   ],
   "source": [
    "print(s2)"
   ]
  },
  {
   "cell_type": "code",
   "execution_count": 6,
   "id": "607f32ba",
   "metadata": {},
   "outputs": [
    {
     "data": {
      "text/plain": [
       "str"
      ]
     },
     "execution_count": 6,
     "metadata": {},
     "output_type": "execute_result"
    }
   ],
   "source": [
    "type(s2)"
   ]
  },
  {
   "cell_type": "code",
   "execution_count": 7,
   "id": "ca126d0c",
   "metadata": {},
   "outputs": [
    {
     "data": {
      "text/plain": [
       "'Hello World'"
      ]
     },
     "execution_count": 7,
     "metadata": {},
     "output_type": "execute_result"
    }
   ],
   "source": [
    "s2"
   ]
  },
  {
   "cell_type": "code",
   "execution_count": null,
   "id": "381a0c34",
   "metadata": {},
   "outputs": [],
   "source": []
  },
  {
   "cell_type": "code",
   "execution_count": 8,
   "id": "e56fa9db",
   "metadata": {},
   "outputs": [],
   "source": [
    "# Indexing in strings\n",
    "# Positioning of the characters of a string\n",
    "# Index starts from 0"
   ]
  },
  {
   "cell_type": "code",
   "execution_count": 9,
   "id": "2744b49a",
   "metadata": {},
   "outputs": [],
   "source": [
    "# Length of the string => how many charctaers present in the string\n",
    "# len() function is used to give the length of the string"
   ]
  },
  {
   "cell_type": "code",
   "execution_count": 10,
   "id": "ad5e6ac6",
   "metadata": {},
   "outputs": [
    {
     "data": {
      "text/plain": [
       "'Hello World'"
      ]
     },
     "execution_count": 10,
     "metadata": {},
     "output_type": "execute_result"
    }
   ],
   "source": [
    "s2"
   ]
  },
  {
   "cell_type": "code",
   "execution_count": 11,
   "id": "1791abb2",
   "metadata": {},
   "outputs": [
    {
     "data": {
      "text/plain": [
       "11"
      ]
     },
     "execution_count": 11,
     "metadata": {},
     "output_type": "execute_result"
    }
   ],
   "source": [
    "len(s2)"
   ]
  },
  {
   "cell_type": "code",
   "execution_count": 14,
   "id": "3fe6a61e",
   "metadata": {},
   "outputs": [],
   "source": [
    "# Index starts from 0 and ends at n-1, where n is the length of the string\n",
    "\n",
    "# We can fetch a particular character from a string => Indexing!\n",
    "# Indexing is done using []"
   ]
  },
  {
   "cell_type": "code",
   "execution_count": 13,
   "id": "6662a0bc",
   "metadata": {},
   "outputs": [
    {
     "data": {
      "text/plain": [
       "'Hello World'"
      ]
     },
     "execution_count": 13,
     "metadata": {},
     "output_type": "execute_result"
    }
   ],
   "source": [
    "s2"
   ]
  },
  {
   "cell_type": "code",
   "execution_count": 15,
   "id": "8ebd318d",
   "metadata": {},
   "outputs": [
    {
     "data": {
      "text/plain": [
       "'o'"
      ]
     },
     "execution_count": 15,
     "metadata": {},
     "output_type": "execute_result"
    }
   ],
   "source": [
    "s2[4]"
   ]
  },
  {
   "cell_type": "code",
   "execution_count": 16,
   "id": "d5498eda",
   "metadata": {},
   "outputs": [
    {
     "data": {
      "text/plain": [
       "'H'"
      ]
     },
     "execution_count": 16,
     "metadata": {},
     "output_type": "execute_result"
    }
   ],
   "source": [
    "s2[0]"
   ]
  },
  {
   "cell_type": "code",
   "execution_count": 17,
   "id": "a69c188c",
   "metadata": {},
   "outputs": [
    {
     "data": {
      "text/plain": [
       "'e'"
      ]
     },
     "execution_count": 17,
     "metadata": {},
     "output_type": "execute_result"
    }
   ],
   "source": [
    "s2[1]"
   ]
  },
  {
   "cell_type": "code",
   "execution_count": 18,
   "id": "1f8881ca",
   "metadata": {},
   "outputs": [
    {
     "data": {
      "text/plain": [
       "'l'"
      ]
     },
     "execution_count": 18,
     "metadata": {},
     "output_type": "execute_result"
    }
   ],
   "source": [
    "s2[2]"
   ]
  },
  {
   "cell_type": "code",
   "execution_count": 19,
   "id": "b7b3c412",
   "metadata": {},
   "outputs": [
    {
     "data": {
      "text/plain": [
       "'d'"
      ]
     },
     "execution_count": 19,
     "metadata": {},
     "output_type": "execute_result"
    }
   ],
   "source": [
    "s2[10]"
   ]
  },
  {
   "cell_type": "code",
   "execution_count": 20,
   "id": "72a487c3",
   "metadata": {},
   "outputs": [
    {
     "data": {
      "text/plain": [
       "'Hello World'"
      ]
     },
     "execution_count": 20,
     "metadata": {},
     "output_type": "execute_result"
    }
   ],
   "source": [
    "s2"
   ]
  },
  {
   "cell_type": "code",
   "execution_count": 21,
   "id": "9c0ab735",
   "metadata": {},
   "outputs": [
    {
     "ename": "IndexError",
     "evalue": "string index out of range",
     "output_type": "error",
     "traceback": [
      "\u001b[1;31m---------------------------------------------------------------------------\u001b[0m",
      "\u001b[1;31mIndexError\u001b[0m                                Traceback (most recent call last)",
      "Cell \u001b[1;32mIn[21], line 1\u001b[0m\n\u001b[1;32m----> 1\u001b[0m s2[\u001b[38;5;241m11\u001b[39m]\n",
      "\u001b[1;31mIndexError\u001b[0m: string index out of range"
     ]
    }
   ],
   "source": [
    "s2[11]"
   ]
  },
  {
   "cell_type": "code",
   "execution_count": 22,
   "id": "4c72d98b",
   "metadata": {},
   "outputs": [
    {
     "ename": "IndexError",
     "evalue": "string index out of range",
     "output_type": "error",
     "traceback": [
      "\u001b[1;31m---------------------------------------------------------------------------\u001b[0m",
      "\u001b[1;31mIndexError\u001b[0m                                Traceback (most recent call last)",
      "Cell \u001b[1;32mIn[22], line 1\u001b[0m\n\u001b[1;32m----> 1\u001b[0m s2[\u001b[38;5;241m12\u001b[39m]\n",
      "\u001b[1;31mIndexError\u001b[0m: string index out of range"
     ]
    }
   ],
   "source": [
    "s2[12]"
   ]
  },
  {
   "cell_type": "code",
   "execution_count": 23,
   "id": "8abe2654",
   "metadata": {},
   "outputs": [
    {
     "ename": "IndexError",
     "evalue": "string index out of range",
     "output_type": "error",
     "traceback": [
      "\u001b[1;31m---------------------------------------------------------------------------\u001b[0m",
      "\u001b[1;31mIndexError\u001b[0m                                Traceback (most recent call last)",
      "Cell \u001b[1;32mIn[23], line 1\u001b[0m\n\u001b[1;32m----> 1\u001b[0m s2[\u001b[38;5;241m20\u001b[39m]\n",
      "\u001b[1;31mIndexError\u001b[0m: string index out of range"
     ]
    }
   ],
   "source": [
    "s2[20]"
   ]
  },
  {
   "cell_type": "code",
   "execution_count": 24,
   "id": "20df09d8",
   "metadata": {},
   "outputs": [
    {
     "data": {
      "text/plain": [
       "'Hello World'"
      ]
     },
     "execution_count": 24,
     "metadata": {},
     "output_type": "execute_result"
    }
   ],
   "source": [
    "s2"
   ]
  },
  {
   "cell_type": "code",
   "execution_count": 25,
   "id": "de06c2e5",
   "metadata": {},
   "outputs": [
    {
     "data": {
      "text/plain": [
       "'d'"
      ]
     },
     "execution_count": 25,
     "metadata": {},
     "output_type": "execute_result"
    }
   ],
   "source": [
    "s2[-1]"
   ]
  },
  {
   "cell_type": "code",
   "execution_count": 27,
   "id": "8fb5dc29",
   "metadata": {},
   "outputs": [],
   "source": [
    "# Negative indexing\n",
    "# starts from -1 to -n, where n is the length of the string (in right to left direction)"
   ]
  },
  {
   "cell_type": "code",
   "execution_count": 28,
   "id": "0f7d58a0",
   "metadata": {},
   "outputs": [
    {
     "data": {
      "text/plain": [
       "' '"
      ]
     },
     "execution_count": 28,
     "metadata": {},
     "output_type": "execute_result"
    }
   ],
   "source": [
    "s2[5]"
   ]
  },
  {
   "cell_type": "code",
   "execution_count": 29,
   "id": "3f794257",
   "metadata": {},
   "outputs": [
    {
     "data": {
      "text/plain": [
       "' '"
      ]
     },
     "execution_count": 29,
     "metadata": {},
     "output_type": "execute_result"
    }
   ],
   "source": [
    "s2[-6]"
   ]
  },
  {
   "cell_type": "code",
   "execution_count": 30,
   "id": "80759e1f",
   "metadata": {},
   "outputs": [
    {
     "data": {
      "text/plain": [
       "'W'"
      ]
     },
     "execution_count": 30,
     "metadata": {},
     "output_type": "execute_result"
    }
   ],
   "source": [
    "s2[6]"
   ]
  },
  {
   "cell_type": "code",
   "execution_count": 31,
   "id": "b0633bc7",
   "metadata": {},
   "outputs": [
    {
     "data": {
      "text/plain": [
       "'W'"
      ]
     },
     "execution_count": 31,
     "metadata": {},
     "output_type": "execute_result"
    }
   ],
   "source": [
    "s2[-5]"
   ]
  },
  {
   "cell_type": "code",
   "execution_count": null,
   "id": "bc671eac",
   "metadata": {},
   "outputs": [],
   "source": []
  },
  {
   "cell_type": "code",
   "execution_count": 32,
   "id": "79441e5a",
   "metadata": {},
   "outputs": [
    {
     "data": {
      "text/plain": [
       "'Hello World'"
      ]
     },
     "execution_count": 32,
     "metadata": {},
     "output_type": "execute_result"
    }
   ],
   "source": [
    "s2"
   ]
  },
  {
   "cell_type": "code",
   "execution_count": 33,
   "id": "563005df",
   "metadata": {},
   "outputs": [
    {
     "ename": "IndexError",
     "evalue": "string index out of range",
     "output_type": "error",
     "traceback": [
      "\u001b[1;31m---------------------------------------------------------------------------\u001b[0m",
      "\u001b[1;31mIndexError\u001b[0m                                Traceback (most recent call last)",
      "Cell \u001b[1;32mIn[33], line 1\u001b[0m\n\u001b[1;32m----> 1\u001b[0m s2[\u001b[38;5;241m11\u001b[39m]\n",
      "\u001b[1;31mIndexError\u001b[0m: string index out of range"
     ]
    }
   ],
   "source": [
    "s2[11]"
   ]
  },
  {
   "cell_type": "code",
   "execution_count": null,
   "id": "63c75d85",
   "metadata": {},
   "outputs": [],
   "source": []
  },
  {
   "cell_type": "code",
   "execution_count": 34,
   "id": "d2bb31cc",
   "metadata": {},
   "outputs": [
    {
     "data": {
      "text/plain": [
       "'Hello World'"
      ]
     },
     "execution_count": 34,
     "metadata": {},
     "output_type": "execute_result"
    }
   ],
   "source": [
    "s2"
   ]
  },
  {
   "cell_type": "code",
   "execution_count": 35,
   "id": "96b87405",
   "metadata": {},
   "outputs": [
    {
     "data": {
      "text/plain": [
       "'W'"
      ]
     },
     "execution_count": 35,
     "metadata": {},
     "output_type": "execute_result"
    }
   ],
   "source": [
    "s2[6]"
   ]
  },
  {
   "cell_type": "code",
   "execution_count": 36,
   "id": "f00f3912",
   "metadata": {},
   "outputs": [
    {
     "name": "stdout",
     "output_type": "stream",
     "text": [
      "W d\n"
     ]
    }
   ],
   "source": [
    "print(s2[6], s2[10])"
   ]
  },
  {
   "cell_type": "code",
   "execution_count": 37,
   "id": "3525aa80",
   "metadata": {},
   "outputs": [
    {
     "data": {
      "text/plain": [
       "' '"
      ]
     },
     "execution_count": 37,
     "metadata": {},
     "output_type": "execute_result"
    }
   ],
   "source": [
    "s2[5]"
   ]
  },
  {
   "cell_type": "code",
   "execution_count": 39,
   "id": "49d92602",
   "metadata": {},
   "outputs": [
    {
     "name": "stdout",
     "output_type": "stream",
     "text": [
      " \n"
     ]
    }
   ],
   "source": [
    "print(s2[5])"
   ]
  },
  {
   "cell_type": "code",
   "execution_count": null,
   "id": "a66f3f6f",
   "metadata": {},
   "outputs": [],
   "source": []
  },
  {
   "cell_type": "code",
   "execution_count": 40,
   "id": "b2c84048",
   "metadata": {},
   "outputs": [],
   "source": [
    "# Slicing\n",
    "# used to fetch a part of a string/ substring from a string"
   ]
  },
  {
   "cell_type": "code",
   "execution_count": 41,
   "id": "9f4ca3d6",
   "metadata": {},
   "outputs": [
    {
     "data": {
      "text/plain": [
       "'Hello World'"
      ]
     },
     "execution_count": 41,
     "metadata": {},
     "output_type": "execute_result"
    }
   ],
   "source": [
    "s2"
   ]
  },
  {
   "cell_type": "code",
   "execution_count": 44,
   "id": "3c8382ca",
   "metadata": {},
   "outputs": [],
   "source": [
    "# string[start:stop:step]\n",
    "# start - starting index from where we want to slice the string\n",
    "# stop - ending index where the slice needs to stop/end (stop index is excluded in the slice)\n",
    "# step - increment/decrement in which the slicing should be performed"
   ]
  },
  {
   "cell_type": "code",
   "execution_count": 43,
   "id": "59e353fa",
   "metadata": {},
   "outputs": [
    {
     "data": {
      "text/plain": [
       "'llo Wo'"
      ]
     },
     "execution_count": 43,
     "metadata": {},
     "output_type": "execute_result"
    }
   ],
   "source": [
    "s2[2:8:1]"
   ]
  },
  {
   "cell_type": "code",
   "execution_count": 45,
   "id": "cf5bbef8",
   "metadata": {},
   "outputs": [
    {
     "data": {
      "text/plain": [
       "' Wor'"
      ]
     },
     "execution_count": 45,
     "metadata": {},
     "output_type": "execute_result"
    }
   ],
   "source": [
    "s2[5:9:1]"
   ]
  },
  {
   "cell_type": "code",
   "execution_count": 46,
   "id": "273f6f98",
   "metadata": {},
   "outputs": [
    {
     "data": {
      "text/plain": [
       "'el '"
      ]
     },
     "execution_count": 46,
     "metadata": {},
     "output_type": "execute_result"
    }
   ],
   "source": [
    "s2[1:7:2]"
   ]
  },
  {
   "cell_type": "code",
   "execution_count": 47,
   "id": "b5d1353f",
   "metadata": {},
   "outputs": [
    {
     "data": {
      "text/plain": [
       "'l r'"
      ]
     },
     "execution_count": 47,
     "metadata": {},
     "output_type": "execute_result"
    }
   ],
   "source": [
    "s2[2:10:3]"
   ]
  },
  {
   "cell_type": "code",
   "execution_count": 48,
   "id": "bf3e1f03",
   "metadata": {},
   "outputs": [
    {
     "data": {
      "text/plain": [
       "''"
      ]
     },
     "execution_count": 48,
     "metadata": {},
     "output_type": "execute_result"
    }
   ],
   "source": [
    "s2[2:2:1]"
   ]
  },
  {
   "cell_type": "code",
   "execution_count": 49,
   "id": "7b97bed7",
   "metadata": {},
   "outputs": [],
   "source": [
    "# '' => Empty string!!!"
   ]
  },
  {
   "cell_type": "code",
   "execution_count": 50,
   "id": "be7d05b6",
   "metadata": {},
   "outputs": [],
   "source": [
    "s3 = 'hello world'"
   ]
  },
  {
   "cell_type": "code",
   "execution_count": 51,
   "id": "354d3374",
   "metadata": {},
   "outputs": [
    {
     "data": {
      "text/plain": [
       "'o'"
      ]
     },
     "execution_count": 51,
     "metadata": {},
     "output_type": "execute_result"
    }
   ],
   "source": [
    "s3[7]"
   ]
  },
  {
   "cell_type": "code",
   "execution_count": 52,
   "id": "f18188e4",
   "metadata": {},
   "outputs": [
    {
     "data": {
      "text/plain": [
       "'Hello World'"
      ]
     },
     "execution_count": 52,
     "metadata": {},
     "output_type": "execute_result"
    }
   ],
   "source": [
    "s2"
   ]
  },
  {
   "cell_type": "code",
   "execution_count": 53,
   "id": "1d3a294a",
   "metadata": {},
   "outputs": [
    {
     "data": {
      "text/plain": [
       "'World'"
      ]
     },
     "execution_count": 53,
     "metadata": {},
     "output_type": "execute_result"
    }
   ],
   "source": [
    "s2[6:11:1]"
   ]
  },
  {
   "cell_type": "code",
   "execution_count": 54,
   "id": "7a9a0ba7",
   "metadata": {},
   "outputs": [
    {
     "data": {
      "text/plain": [
       "'World'"
      ]
     },
     "execution_count": 54,
     "metadata": {},
     "output_type": "execute_result"
    }
   ],
   "source": [
    "s2[6:20:1]"
   ]
  },
  {
   "cell_type": "code",
   "execution_count": 55,
   "id": "c47d6f4a",
   "metadata": {},
   "outputs": [
    {
     "ename": "ValueError",
     "evalue": "slice step cannot be zero",
     "output_type": "error",
     "traceback": [
      "\u001b[1;31m---------------------------------------------------------------------------\u001b[0m",
      "\u001b[1;31mValueError\u001b[0m                                Traceback (most recent call last)",
      "Cell \u001b[1;32mIn[55], line 1\u001b[0m\n\u001b[1;32m----> 1\u001b[0m s2[\u001b[38;5;241m6\u001b[39m:\u001b[38;5;241m10\u001b[39m:\u001b[38;5;241m0\u001b[39m]\n",
      "\u001b[1;31mValueError\u001b[0m: slice step cannot be zero"
     ]
    }
   ],
   "source": [
    "s2[6:10:0]"
   ]
  },
  {
   "cell_type": "code",
   "execution_count": 56,
   "id": "6c918ed1",
   "metadata": {},
   "outputs": [
    {
     "data": {
      "text/plain": [
       "' '"
      ]
     },
     "execution_count": 56,
     "metadata": {},
     "output_type": "execute_result"
    }
   ],
   "source": [
    "s2[5:7:4]"
   ]
  },
  {
   "cell_type": "code",
   "execution_count": 57,
   "id": "530c8306",
   "metadata": {},
   "outputs": [],
   "source": [
    "val = s2[2:2:1]"
   ]
  },
  {
   "cell_type": "code",
   "execution_count": 58,
   "id": "fb07cbb7",
   "metadata": {},
   "outputs": [
    {
     "data": {
      "text/plain": [
       "140729490335456"
      ]
     },
     "execution_count": 58,
     "metadata": {},
     "output_type": "execute_result"
    }
   ],
   "source": [
    "id(val)"
   ]
  },
  {
   "cell_type": "code",
   "execution_count": 59,
   "id": "35af020f",
   "metadata": {},
   "outputs": [],
   "source": [
    "# step is optional"
   ]
  },
  {
   "cell_type": "code",
   "execution_count": 60,
   "id": "076b15af",
   "metadata": {},
   "outputs": [
    {
     "data": {
      "text/plain": [
       "'Hello World'"
      ]
     },
     "execution_count": 60,
     "metadata": {},
     "output_type": "execute_result"
    }
   ],
   "source": [
    "s2"
   ]
  },
  {
   "cell_type": "code",
   "execution_count": 61,
   "id": "ee7b38ff",
   "metadata": {},
   "outputs": [
    {
     "data": {
      "text/plain": [
       "'llo '"
      ]
     },
     "execution_count": 61,
     "metadata": {},
     "output_type": "execute_result"
    }
   ],
   "source": [
    "s2[2:6:]"
   ]
  },
  {
   "cell_type": "code",
   "execution_count": 62,
   "id": "15d590f9",
   "metadata": {},
   "outputs": [
    {
     "data": {
      "text/plain": [
       "'llo '"
      ]
     },
     "execution_count": 62,
     "metadata": {},
     "output_type": "execute_result"
    }
   ],
   "source": [
    "s2[2:6]"
   ]
  },
  {
   "cell_type": "code",
   "execution_count": 63,
   "id": "fc7d4d21",
   "metadata": {},
   "outputs": [
    {
     "data": {
      "text/plain": [
       "'llo '"
      ]
     },
     "execution_count": 63,
     "metadata": {},
     "output_type": "execute_result"
    }
   ],
   "source": [
    "s2[2:6:1]"
   ]
  },
  {
   "cell_type": "code",
   "execution_count": 64,
   "id": "5b597c7d",
   "metadata": {},
   "outputs": [],
   "source": [
    "# if step is not given, step = 1 by default"
   ]
  },
  {
   "cell_type": "code",
   "execution_count": 65,
   "id": "af68407f",
   "metadata": {},
   "outputs": [
    {
     "data": {
      "text/plain": [
       "'Hello'"
      ]
     },
     "execution_count": 65,
     "metadata": {},
     "output_type": "execute_result"
    }
   ],
   "source": [
    "s2[0:5]"
   ]
  },
  {
   "cell_type": "code",
   "execution_count": 66,
   "id": "a81a6030",
   "metadata": {},
   "outputs": [
    {
     "data": {
      "text/plain": [
       "'Hello World'"
      ]
     },
     "execution_count": 66,
     "metadata": {},
     "output_type": "execute_result"
    }
   ],
   "source": [
    "s2"
   ]
  },
  {
   "cell_type": "code",
   "execution_count": 67,
   "id": "8c161e7b",
   "metadata": {},
   "outputs": [
    {
     "data": {
      "text/plain": [
       "''"
      ]
     },
     "execution_count": 67,
     "metadata": {},
     "output_type": "execute_result"
    }
   ],
   "source": [
    "s2[2:7:-1]"
   ]
  },
  {
   "cell_type": "code",
   "execution_count": 68,
   "id": "7e181a46",
   "metadata": {},
   "outputs": [
    {
     "data": {
      "text/plain": [
       "'oW ol'"
      ]
     },
     "execution_count": 68,
     "metadata": {},
     "output_type": "execute_result"
    }
   ],
   "source": [
    "s2[7:2:-1]"
   ]
  },
  {
   "cell_type": "code",
   "execution_count": 69,
   "id": "ade9b0a2",
   "metadata": {},
   "outputs": [
    {
     "data": {
      "text/plain": [
       "'Hello World'"
      ]
     },
     "execution_count": 69,
     "metadata": {},
     "output_type": "execute_result"
    }
   ],
   "source": [
    "s2[0:25]"
   ]
  },
  {
   "cell_type": "code",
   "execution_count": 70,
   "id": "6f9b42d9",
   "metadata": {},
   "outputs": [
    {
     "data": {
      "text/plain": [
       "11"
      ]
     },
     "execution_count": 70,
     "metadata": {},
     "output_type": "execute_result"
    }
   ],
   "source": [
    "len(s2)"
   ]
  },
  {
   "cell_type": "code",
   "execution_count": 71,
   "id": "273fca64",
   "metadata": {},
   "outputs": [
    {
     "data": {
      "text/plain": [
       "10"
      ]
     },
     "execution_count": 71,
     "metadata": {},
     "output_type": "execute_result"
    }
   ],
   "source": [
    "len(s2) - 1"
   ]
  },
  {
   "cell_type": "code",
   "execution_count": 72,
   "id": "2eb34288",
   "metadata": {},
   "outputs": [],
   "source": [
    "# Last index len(s2) - 1"
   ]
  },
  {
   "cell_type": "code",
   "execution_count": null,
   "id": "edb58a8b",
   "metadata": {},
   "outputs": [],
   "source": []
  },
  {
   "cell_type": "code",
   "execution_count": 73,
   "id": "ec76fd92",
   "metadata": {},
   "outputs": [],
   "source": [
    "# We can have default values for start, stop and step"
   ]
  },
  {
   "cell_type": "code",
   "execution_count": 74,
   "id": "dc0afc0d",
   "metadata": {},
   "outputs": [],
   "source": [
    "# step = 1 by default"
   ]
  },
  {
   "cell_type": "code",
   "execution_count": 75,
   "id": "e29d4a01",
   "metadata": {},
   "outputs": [
    {
     "data": {
      "text/plain": [
       "'Hello World'"
      ]
     },
     "execution_count": 75,
     "metadata": {},
     "output_type": "execute_result"
    }
   ],
   "source": [
    "s2"
   ]
  },
  {
   "cell_type": "code",
   "execution_count": 76,
   "id": "c4714945",
   "metadata": {},
   "outputs": [
    {
     "data": {
      "text/plain": [
       "'Hello'"
      ]
     },
     "execution_count": 76,
     "metadata": {},
     "output_type": "execute_result"
    }
   ],
   "source": [
    "s2[:5:1]"
   ]
  },
  {
   "cell_type": "code",
   "execution_count": 77,
   "id": "0c2eb82c",
   "metadata": {},
   "outputs": [],
   "source": [
    "# start = 0 by default"
   ]
  },
  {
   "cell_type": "code",
   "execution_count": 78,
   "id": "6fcfb359",
   "metadata": {},
   "outputs": [
    {
     "data": {
      "text/plain": [
       "'llo World'"
      ]
     },
     "execution_count": 78,
     "metadata": {},
     "output_type": "execute_result"
    }
   ],
   "source": [
    "s2[2::1]"
   ]
  },
  {
   "cell_type": "code",
   "execution_count": 79,
   "id": "602e6e9c",
   "metadata": {},
   "outputs": [],
   "source": [
    "# stop = length of the string by default"
   ]
  },
  {
   "cell_type": "code",
   "execution_count": null,
   "id": "bc8f1728",
   "metadata": {},
   "outputs": [],
   "source": []
  },
  {
   "cell_type": "code",
   "execution_count": 80,
   "id": "e8ef7024",
   "metadata": {},
   "outputs": [
    {
     "data": {
      "text/plain": [
       "'dlroW'"
      ]
     },
     "execution_count": 80,
     "metadata": {},
     "output_type": "execute_result"
    }
   ],
   "source": [
    "s2[:5:-1]"
   ]
  },
  {
   "cell_type": "code",
   "execution_count": 81,
   "id": "ed102c96",
   "metadata": {},
   "outputs": [],
   "source": [
    "# start = 0 by default when step is positive\n",
    "# start = length - 1 by default when step is negative"
   ]
  },
  {
   "cell_type": "code",
   "execution_count": 82,
   "id": "a073aeb3",
   "metadata": {},
   "outputs": [],
   "source": [
    "# stop = length of the string by default when step is positive\n",
    "# stop = 0 by default (including 0) when step is negative"
   ]
  },
  {
   "cell_type": "code",
   "execution_count": 83,
   "id": "72cd96cb",
   "metadata": {},
   "outputs": [
    {
     "data": {
      "text/plain": [
       "'olleH'"
      ]
     },
     "execution_count": 83,
     "metadata": {},
     "output_type": "execute_result"
    }
   ],
   "source": [
    "s2[4::-1]"
   ]
  },
  {
   "cell_type": "code",
   "execution_count": null,
   "id": "1f9423ca",
   "metadata": {},
   "outputs": [],
   "source": []
  },
  {
   "cell_type": "code",
   "execution_count": 84,
   "id": "685299f7",
   "metadata": {},
   "outputs": [
    {
     "data": {
      "text/plain": [
       "'Hello World'"
      ]
     },
     "execution_count": 84,
     "metadata": {},
     "output_type": "execute_result"
    }
   ],
   "source": [
    "s2"
   ]
  },
  {
   "cell_type": "code",
   "execution_count": 85,
   "id": "cd28bf88",
   "metadata": {},
   "outputs": [
    {
     "data": {
      "text/plain": [
       "'dlroW olleH'"
      ]
     },
     "execution_count": 85,
     "metadata": {},
     "output_type": "execute_result"
    }
   ],
   "source": [
    "s2[::-1]"
   ]
  },
  {
   "cell_type": "code",
   "execution_count": null,
   "id": "a39fe8c7",
   "metadata": {},
   "outputs": [],
   "source": []
  },
  {
   "cell_type": "code",
   "execution_count": 87,
   "id": "e41b743c",
   "metadata": {},
   "outputs": [],
   "source": [
    "# Concatination of strings"
   ]
  },
  {
   "cell_type": "code",
   "execution_count": 88,
   "id": "3e9eb811",
   "metadata": {},
   "outputs": [],
   "source": [
    "# Joining of strings"
   ]
  },
  {
   "cell_type": "code",
   "execution_count": 89,
   "id": "9202219a",
   "metadata": {},
   "outputs": [
    {
     "data": {
      "text/plain": [
       "'Hello World'"
      ]
     },
     "execution_count": 89,
     "metadata": {},
     "output_type": "execute_result"
    }
   ],
   "source": [
    "s2"
   ]
  },
  {
   "cell_type": "code",
   "execution_count": 90,
   "id": "6416d995",
   "metadata": {},
   "outputs": [],
   "source": [
    "str1 = \"Hi\""
   ]
  },
  {
   "cell_type": "code",
   "execution_count": 91,
   "id": "54a9d95d",
   "metadata": {},
   "outputs": [],
   "source": [
    "str2 = \"Bye\""
   ]
  },
  {
   "cell_type": "code",
   "execution_count": 92,
   "id": "9cf42290",
   "metadata": {},
   "outputs": [
    {
     "data": {
      "text/plain": [
       "'HiBye'"
      ]
     },
     "execution_count": 92,
     "metadata": {},
     "output_type": "execute_result"
    }
   ],
   "source": [
    "str1 + str2"
   ]
  },
  {
   "cell_type": "code",
   "execution_count": 93,
   "id": "0b9ca73e",
   "metadata": {},
   "outputs": [
    {
     "data": {
      "text/plain": [
       "'hello world'"
      ]
     },
     "execution_count": 93,
     "metadata": {},
     "output_type": "execute_result"
    }
   ],
   "source": [
    "'hello' + ' ' + 'world'"
   ]
  },
  {
   "cell_type": "code",
   "execution_count": 94,
   "id": "4d0e0a8e",
   "metadata": {},
   "outputs": [
    {
     "ename": "TypeError",
     "evalue": "can only concatenate str (not \"int\") to str",
     "output_type": "error",
     "traceback": [
      "\u001b[1;31m---------------------------------------------------------------------------\u001b[0m",
      "\u001b[1;31mTypeError\u001b[0m                                 Traceback (most recent call last)",
      "Cell \u001b[1;32mIn[94], line 1\u001b[0m\n\u001b[1;32m----> 1\u001b[0m \u001b[38;5;124m'\u001b[39m\u001b[38;5;124mhi\u001b[39m\u001b[38;5;124m'\u001b[39m \u001b[38;5;241m+\u001b[39m \u001b[38;5;241m10\u001b[39m\n",
      "\u001b[1;31mTypeError\u001b[0m: can only concatenate str (not \"int\") to str"
     ]
    }
   ],
   "source": [
    "'hi' + 10"
   ]
  },
  {
   "cell_type": "code",
   "execution_count": 95,
   "id": "344707a2",
   "metadata": {},
   "outputs": [
    {
     "ename": "TypeError",
     "evalue": "can only concatenate str (not \"float\") to str",
     "output_type": "error",
     "traceback": [
      "\u001b[1;31m---------------------------------------------------------------------------\u001b[0m",
      "\u001b[1;31mTypeError\u001b[0m                                 Traceback (most recent call last)",
      "Cell \u001b[1;32mIn[95], line 1\u001b[0m\n\u001b[1;32m----> 1\u001b[0m \u001b[38;5;124m'\u001b[39m\u001b[38;5;124mhi\u001b[39m\u001b[38;5;124m'\u001b[39m \u001b[38;5;241m+\u001b[39m \u001b[38;5;241m2.5\u001b[39m\n",
      "\u001b[1;31mTypeError\u001b[0m: can only concatenate str (not \"float\") to str"
     ]
    }
   ],
   "source": [
    "'hi' + 2.5"
   ]
  },
  {
   "cell_type": "code",
   "execution_count": 96,
   "id": "9499e473",
   "metadata": {},
   "outputs": [
    {
     "data": {
      "text/plain": [
       "'hi10'"
      ]
     },
     "execution_count": 96,
     "metadata": {},
     "output_type": "execute_result"
    }
   ],
   "source": [
    "'hi' + '10'"
   ]
  },
  {
   "cell_type": "code",
   "execution_count": null,
   "id": "5339260f",
   "metadata": {},
   "outputs": [],
   "source": []
  },
  {
   "cell_type": "code",
   "execution_count": 97,
   "id": "e8eaf3b3",
   "metadata": {},
   "outputs": [
    {
     "data": {
      "text/plain": [
       "'hihihi'"
      ]
     },
     "execution_count": 97,
     "metadata": {},
     "output_type": "execute_result"
    }
   ],
   "source": [
    "'hi' * 3"
   ]
  },
  {
   "cell_type": "code",
   "execution_count": 98,
   "id": "397fd625",
   "metadata": {},
   "outputs": [],
   "source": [
    "# Repetition"
   ]
  },
  {
   "cell_type": "code",
   "execution_count": 99,
   "id": "b16423ab",
   "metadata": {},
   "outputs": [
    {
     "data": {
      "text/plain": [
       "'byebyebyebyebye'"
      ]
     },
     "execution_count": 99,
     "metadata": {},
     "output_type": "execute_result"
    }
   ],
   "source": [
    "'bye' * 5"
   ]
  },
  {
   "cell_type": "code",
   "execution_count": 100,
   "id": "f840e51a",
   "metadata": {},
   "outputs": [
    {
     "data": {
      "text/plain": [
       "'hahahahahaha'"
      ]
     },
     "execution_count": 100,
     "metadata": {},
     "output_type": "execute_result"
    }
   ],
   "source": [
    "'ha' * 6"
   ]
  },
  {
   "cell_type": "code",
   "execution_count": 101,
   "id": "a5597a7a",
   "metadata": {},
   "outputs": [
    {
     "ename": "TypeError",
     "evalue": "unsupported operand type(s) for /: 'str' and 'int'",
     "output_type": "error",
     "traceback": [
      "\u001b[1;31m---------------------------------------------------------------------------\u001b[0m",
      "\u001b[1;31mTypeError\u001b[0m                                 Traceback (most recent call last)",
      "Cell \u001b[1;32mIn[101], line 1\u001b[0m\n\u001b[1;32m----> 1\u001b[0m \u001b[38;5;124m'\u001b[39m\u001b[38;5;124mhahaha\u001b[39m\u001b[38;5;124m'\u001b[39m \u001b[38;5;241m/\u001b[39m \u001b[38;5;241m3\u001b[39m\n",
      "\u001b[1;31mTypeError\u001b[0m: unsupported operand type(s) for /: 'str' and 'int'"
     ]
    }
   ],
   "source": [
    "'hahaha' / 3"
   ]
  },
  {
   "cell_type": "code",
   "execution_count": 102,
   "id": "cb374d9d",
   "metadata": {},
   "outputs": [
    {
     "data": {
      "text/plain": [
       "'          '"
      ]
     },
     "execution_count": 102,
     "metadata": {},
     "output_type": "execute_result"
    }
   ],
   "source": [
    "' ' * 10"
   ]
  },
  {
   "cell_type": "code",
   "execution_count": 103,
   "id": "0feefb41",
   "metadata": {},
   "outputs": [
    {
     "data": {
      "text/plain": [
       "'ha ha ha ha ha ha ha ha ha ha '"
      ]
     },
     "execution_count": 103,
     "metadata": {},
     "output_type": "execute_result"
    }
   ],
   "source": [
    "'ha ' * 10"
   ]
  },
  {
   "cell_type": "code",
   "execution_count": 105,
   "id": "febcc32f",
   "metadata": {},
   "outputs": [
    {
     "data": {
      "text/plain": [
       "'ha ha ha ha ha ha ha ha ha ha '"
      ]
     },
     "execution_count": 105,
     "metadata": {},
     "output_type": "execute_result"
    }
   ],
   "source": [
    "('ha' + ' ') * 10"
   ]
  },
  {
   "cell_type": "code",
   "execution_count": 106,
   "id": "5fa68467",
   "metadata": {},
   "outputs": [
    {
     "data": {
      "text/plain": [
       "'hihello'"
      ]
     },
     "execution_count": 106,
     "metadata": {},
     "output_type": "execute_result"
    }
   ],
   "source": [
    "'hi' + 'hello'"
   ]
  },
  {
   "cell_type": "code",
   "execution_count": 107,
   "id": "3cafd8bd",
   "metadata": {},
   "outputs": [
    {
     "ename": "TypeError",
     "evalue": "can't multiply sequence by non-int of type 'str'",
     "output_type": "error",
     "traceback": [
      "\u001b[1;31m---------------------------------------------------------------------------\u001b[0m",
      "\u001b[1;31mTypeError\u001b[0m                                 Traceback (most recent call last)",
      "Cell \u001b[1;32mIn[107], line 1\u001b[0m\n\u001b[1;32m----> 1\u001b[0m \u001b[38;5;124m'\u001b[39m\u001b[38;5;124m10\u001b[39m\u001b[38;5;124m'\u001b[39m \u001b[38;5;241m*\u001b[39m \u001b[38;5;124m'\u001b[39m\u001b[38;5;124mha\u001b[39m\u001b[38;5;124m'\u001b[39m\n",
      "\u001b[1;31mTypeError\u001b[0m: can't multiply sequence by non-int of type 'str'"
     ]
    }
   ],
   "source": [
    "'10' * 'ha'"
   ]
  },
  {
   "cell_type": "code",
   "execution_count": null,
   "id": "27f9cc8b",
   "metadata": {},
   "outputs": [],
   "source": []
  },
  {
   "cell_type": "code",
   "execution_count": 108,
   "id": "3e248bd4",
   "metadata": {},
   "outputs": [],
   "source": [
    "# Boolean"
   ]
  },
  {
   "cell_type": "code",
   "execution_count": 109,
   "id": "9e09845a",
   "metadata": {},
   "outputs": [],
   "source": [
    "val1 = True"
   ]
  },
  {
   "cell_type": "code",
   "execution_count": 110,
   "id": "0cd157c8",
   "metadata": {},
   "outputs": [
    {
     "data": {
      "text/plain": [
       "bool"
      ]
     },
     "execution_count": 110,
     "metadata": {},
     "output_type": "execute_result"
    }
   ],
   "source": [
    "type(val1)"
   ]
  },
  {
   "cell_type": "code",
   "execution_count": 111,
   "id": "d0dcfa2a",
   "metadata": {},
   "outputs": [],
   "source": [
    "val2 = True"
   ]
  },
  {
   "cell_type": "code",
   "execution_count": 112,
   "id": "ac84e368",
   "metadata": {},
   "outputs": [
    {
     "data": {
      "text/plain": [
       "bool"
      ]
     },
     "execution_count": 112,
     "metadata": {},
     "output_type": "execute_result"
    }
   ],
   "source": [
    "type(val2)"
   ]
  },
  {
   "cell_type": "code",
   "execution_count": 113,
   "id": "6932ea8e",
   "metadata": {},
   "outputs": [
    {
     "data": {
      "text/plain": [
       "True"
      ]
     },
     "execution_count": 113,
     "metadata": {},
     "output_type": "execute_result"
    }
   ],
   "source": [
    "10 > 5"
   ]
  },
  {
   "cell_type": "code",
   "execution_count": 114,
   "id": "18206edb",
   "metadata": {},
   "outputs": [
    {
     "data": {
      "text/plain": [
       "False"
      ]
     },
     "execution_count": 114,
     "metadata": {},
     "output_type": "execute_result"
    }
   ],
   "source": [
    "3 > 9"
   ]
  },
  {
   "cell_type": "code",
   "execution_count": 115,
   "id": "c8efc399",
   "metadata": {},
   "outputs": [
    {
     "data": {
      "text/plain": [
       "2"
      ]
     },
     "execution_count": 115,
     "metadata": {},
     "output_type": "execute_result"
    }
   ],
   "source": [
    "True + True"
   ]
  },
  {
   "cell_type": "code",
   "execution_count": 116,
   "id": "b8220700",
   "metadata": {},
   "outputs": [],
   "source": [
    "# True => 1\n",
    "# False = 0"
   ]
  },
  {
   "cell_type": "code",
   "execution_count": 117,
   "id": "fbc94655",
   "metadata": {},
   "outputs": [
    {
     "data": {
      "text/plain": [
       "1"
      ]
     },
     "execution_count": 117,
     "metadata": {},
     "output_type": "execute_result"
    }
   ],
   "source": [
    "True + False # 1 + 0"
   ]
  },
  {
   "cell_type": "code",
   "execution_count": 118,
   "id": "401360cd",
   "metadata": {},
   "outputs": [
    {
     "data": {
      "text/plain": [
       "0"
      ]
     },
     "execution_count": 118,
     "metadata": {},
     "output_type": "execute_result"
    }
   ],
   "source": [
    "True * False # 1 * 0"
   ]
  },
  {
   "cell_type": "code",
   "execution_count": 119,
   "id": "309d6ebc",
   "metadata": {},
   "outputs": [
    {
     "data": {
      "text/plain": [
       "-1"
      ]
     },
     "execution_count": 119,
     "metadata": {},
     "output_type": "execute_result"
    }
   ],
   "source": [
    "False - True # 0 - 1"
   ]
  },
  {
   "cell_type": "code",
   "execution_count": 120,
   "id": "4032b440",
   "metadata": {},
   "outputs": [
    {
     "data": {
      "text/plain": [
       "3.5"
      ]
     },
     "execution_count": 120,
     "metadata": {},
     "output_type": "execute_result"
    }
   ],
   "source": [
    "2.5 + True # 2.5 + 1"
   ]
  },
  {
   "cell_type": "code",
   "execution_count": 124,
   "id": "9f9ba7c5",
   "metadata": {},
   "outputs": [
    {
     "data": {
      "text/plain": [
       "''"
      ]
     },
     "execution_count": 124,
     "metadata": {},
     "output_type": "execute_result"
    }
   ],
   "source": [
    "False * 'hi'"
   ]
  },
  {
   "cell_type": "code",
   "execution_count": 125,
   "id": "f5d0fbcc",
   "metadata": {},
   "outputs": [
    {
     "data": {
      "text/plain": [
       "'hihihi'"
      ]
     },
     "execution_count": 125,
     "metadata": {},
     "output_type": "execute_result"
    }
   ],
   "source": [
    "3 * 'hi'"
   ]
  },
  {
   "cell_type": "code",
   "execution_count": 126,
   "id": "548089e9",
   "metadata": {},
   "outputs": [
    {
     "data": {
      "text/plain": [
       "''"
      ]
     },
     "execution_count": 126,
     "metadata": {},
     "output_type": "execute_result"
    }
   ],
   "source": [
    "'hello' * 0"
   ]
  },
  {
   "cell_type": "code",
   "execution_count": null,
   "id": "82cdf2da",
   "metadata": {},
   "outputs": [],
   "source": []
  },
  {
   "cell_type": "code",
   "execution_count": 121,
   "id": "f3995fc6",
   "metadata": {},
   "outputs": [],
   "source": [
    "# Special type"
   ]
  },
  {
   "cell_type": "code",
   "execution_count": 122,
   "id": "3326a7f7",
   "metadata": {},
   "outputs": [],
   "source": [
    "value = None"
   ]
  },
  {
   "cell_type": "code",
   "execution_count": 123,
   "id": "e9ce1507",
   "metadata": {},
   "outputs": [
    {
     "data": {
      "text/plain": [
       "NoneType"
      ]
     },
     "execution_count": 123,
     "metadata": {},
     "output_type": "execute_result"
    }
   ],
   "source": [
    "type(value)"
   ]
  },
  {
   "cell_type": "code",
   "execution_count": null,
   "id": "55e4b3d3",
   "metadata": {},
   "outputs": [],
   "source": []
  },
  {
   "cell_type": "code",
   "execution_count": 127,
   "id": "bea6b15a",
   "metadata": {},
   "outputs": [],
   "source": [
    "# Type casting\n",
    "# converting/changing one datatype to another"
   ]
  },
  {
   "cell_type": "code",
   "execution_count": 128,
   "id": "c7171248",
   "metadata": {},
   "outputs": [],
   "source": [
    "num1 = 10"
   ]
  },
  {
   "cell_type": "code",
   "execution_count": 129,
   "id": "70019782",
   "metadata": {},
   "outputs": [
    {
     "data": {
      "text/plain": [
       "10"
      ]
     },
     "execution_count": 129,
     "metadata": {},
     "output_type": "execute_result"
    }
   ],
   "source": [
    "num1"
   ]
  },
  {
   "cell_type": "code",
   "execution_count": 130,
   "id": "3a360fe5",
   "metadata": {},
   "outputs": [
    {
     "data": {
      "text/plain": [
       "10.0"
      ]
     },
     "execution_count": 130,
     "metadata": {},
     "output_type": "execute_result"
    }
   ],
   "source": [
    "float(num1)"
   ]
  },
  {
   "cell_type": "code",
   "execution_count": 131,
   "id": "afbb15af",
   "metadata": {},
   "outputs": [
    {
     "data": {
      "text/plain": [
       "10"
      ]
     },
     "execution_count": 131,
     "metadata": {},
     "output_type": "execute_result"
    }
   ],
   "source": [
    "num1"
   ]
  },
  {
   "cell_type": "code",
   "execution_count": 132,
   "id": "b507e85c",
   "metadata": {},
   "outputs": [],
   "source": [
    "num2 = float(num1)"
   ]
  },
  {
   "cell_type": "code",
   "execution_count": 133,
   "id": "ab32b2d7",
   "metadata": {},
   "outputs": [
    {
     "data": {
      "text/plain": [
       "10.0"
      ]
     },
     "execution_count": 133,
     "metadata": {},
     "output_type": "execute_result"
    }
   ],
   "source": [
    "num2"
   ]
  },
  {
   "cell_type": "code",
   "execution_count": 134,
   "id": "548c9c89",
   "metadata": {},
   "outputs": [],
   "source": [
    "num2 = 5.67"
   ]
  },
  {
   "cell_type": "code",
   "execution_count": 135,
   "id": "8e07edcc",
   "metadata": {},
   "outputs": [
    {
     "data": {
      "text/plain": [
       "5.67"
      ]
     },
     "execution_count": 135,
     "metadata": {},
     "output_type": "execute_result"
    }
   ],
   "source": [
    "num2"
   ]
  },
  {
   "cell_type": "code",
   "execution_count": 136,
   "id": "55885d6b",
   "metadata": {},
   "outputs": [
    {
     "data": {
      "text/plain": [
       "5"
      ]
     },
     "execution_count": 136,
     "metadata": {},
     "output_type": "execute_result"
    }
   ],
   "source": [
    "int(num2)"
   ]
  },
  {
   "cell_type": "code",
   "execution_count": null,
   "id": "1acb9005",
   "metadata": {},
   "outputs": [],
   "source": []
  },
  {
   "cell_type": "code",
   "execution_count": 137,
   "id": "17fb78dd",
   "metadata": {},
   "outputs": [
    {
     "data": {
      "text/plain": [
       "10"
      ]
     },
     "execution_count": 137,
     "metadata": {},
     "output_type": "execute_result"
    }
   ],
   "source": [
    "num1"
   ]
  },
  {
   "cell_type": "code",
   "execution_count": 138,
   "id": "d131fffe",
   "metadata": {},
   "outputs": [
    {
     "data": {
      "text/plain": [
       "'10'"
      ]
     },
     "execution_count": 138,
     "metadata": {},
     "output_type": "execute_result"
    }
   ],
   "source": [
    "str(num1)"
   ]
  },
  {
   "cell_type": "code",
   "execution_count": 139,
   "id": "34d5fa9b",
   "metadata": {},
   "outputs": [
    {
     "data": {
      "text/plain": [
       "'Welcome to Python!'"
      ]
     },
     "execution_count": 139,
     "metadata": {},
     "output_type": "execute_result"
    }
   ],
   "source": [
    "s1"
   ]
  },
  {
   "cell_type": "code",
   "execution_count": 140,
   "id": "2c305749",
   "metadata": {},
   "outputs": [
    {
     "ename": "ValueError",
     "evalue": "invalid literal for int() with base 10: 'Welcome to Python!'",
     "output_type": "error",
     "traceback": [
      "\u001b[1;31m---------------------------------------------------------------------------\u001b[0m",
      "\u001b[1;31mValueError\u001b[0m                                Traceback (most recent call last)",
      "Cell \u001b[1;32mIn[140], line 1\u001b[0m\n\u001b[1;32m----> 1\u001b[0m \u001b[38;5;28mint\u001b[39m(s1)\n",
      "\u001b[1;31mValueError\u001b[0m: invalid literal for int() with base 10: 'Welcome to Python!'"
     ]
    }
   ],
   "source": [
    "int(s1)"
   ]
  },
  {
   "cell_type": "code",
   "execution_count": 141,
   "id": "b09b686f",
   "metadata": {},
   "outputs": [],
   "source": [
    "s7 = '1045'"
   ]
  },
  {
   "cell_type": "code",
   "execution_count": 142,
   "id": "4b760568",
   "metadata": {},
   "outputs": [
    {
     "data": {
      "text/plain": [
       "'1045'"
      ]
     },
     "execution_count": 142,
     "metadata": {},
     "output_type": "execute_result"
    }
   ],
   "source": [
    "s7"
   ]
  },
  {
   "cell_type": "code",
   "execution_count": 143,
   "id": "77d4e74c",
   "metadata": {},
   "outputs": [
    {
     "data": {
      "text/plain": [
       "str"
      ]
     },
     "execution_count": 143,
     "metadata": {},
     "output_type": "execute_result"
    }
   ],
   "source": [
    "type(s7)"
   ]
  },
  {
   "cell_type": "code",
   "execution_count": 144,
   "id": "0dd3edbb",
   "metadata": {},
   "outputs": [
    {
     "data": {
      "text/plain": [
       "1045"
      ]
     },
     "execution_count": 144,
     "metadata": {},
     "output_type": "execute_result"
    }
   ],
   "source": [
    "int(s7)"
   ]
  },
  {
   "cell_type": "code",
   "execution_count": 145,
   "id": "84faab4a",
   "metadata": {},
   "outputs": [],
   "source": [
    "language = \"Python3.12\""
   ]
  },
  {
   "cell_type": "code",
   "execution_count": 146,
   "id": "43a82123",
   "metadata": {},
   "outputs": [
    {
     "data": {
      "text/plain": [
       "'Python3.12'"
      ]
     },
     "execution_count": 146,
     "metadata": {},
     "output_type": "execute_result"
    }
   ],
   "source": [
    "language"
   ]
  },
  {
   "cell_type": "code",
   "execution_count": 147,
   "id": "fd90f224",
   "metadata": {},
   "outputs": [
    {
     "ename": "ValueError",
     "evalue": "invalid literal for int() with base 10: 'Python3.12'",
     "output_type": "error",
     "traceback": [
      "\u001b[1;31m---------------------------------------------------------------------------\u001b[0m",
      "\u001b[1;31mValueError\u001b[0m                                Traceback (most recent call last)",
      "Cell \u001b[1;32mIn[147], line 1\u001b[0m\n\u001b[1;32m----> 1\u001b[0m \u001b[38;5;28mint\u001b[39m(language)\n",
      "\u001b[1;31mValueError\u001b[0m: invalid literal for int() with base 10: 'Python3.12'"
     ]
    }
   ],
   "source": [
    "int(language)"
   ]
  },
  {
   "cell_type": "code",
   "execution_count": 148,
   "id": "25655975",
   "metadata": {},
   "outputs": [],
   "source": [
    "version = '3.12'"
   ]
  },
  {
   "cell_type": "code",
   "execution_count": 149,
   "id": "37539d7e",
   "metadata": {},
   "outputs": [
    {
     "data": {
      "text/plain": [
       "'3.12'"
      ]
     },
     "execution_count": 149,
     "metadata": {},
     "output_type": "execute_result"
    }
   ],
   "source": [
    "version"
   ]
  },
  {
   "cell_type": "code",
   "execution_count": 150,
   "id": "d6f885a8",
   "metadata": {},
   "outputs": [
    {
     "data": {
      "text/plain": [
       "str"
      ]
     },
     "execution_count": 150,
     "metadata": {},
     "output_type": "execute_result"
    }
   ],
   "source": [
    "type(version)"
   ]
  },
  {
   "cell_type": "code",
   "execution_count": 151,
   "id": "8b0dea4e",
   "metadata": {},
   "outputs": [
    {
     "data": {
      "text/plain": [
       "3.12"
      ]
     },
     "execution_count": 151,
     "metadata": {},
     "output_type": "execute_result"
    }
   ],
   "source": [
    "float(version)"
   ]
  },
  {
   "cell_type": "code",
   "execution_count": 152,
   "id": "081e05b2",
   "metadata": {},
   "outputs": [
    {
     "ename": "ValueError",
     "evalue": "invalid literal for int() with base 10: '3.12'",
     "output_type": "error",
     "traceback": [
      "\u001b[1;31m---------------------------------------------------------------------------\u001b[0m",
      "\u001b[1;31mValueError\u001b[0m                                Traceback (most recent call last)",
      "Cell \u001b[1;32mIn[152], line 1\u001b[0m\n\u001b[1;32m----> 1\u001b[0m \u001b[38;5;28mint\u001b[39m(version)\n",
      "\u001b[1;31mValueError\u001b[0m: invalid literal for int() with base 10: '3.12'"
     ]
    }
   ],
   "source": [
    "int(version)"
   ]
  },
  {
   "cell_type": "code",
   "execution_count": 153,
   "id": "46cdd68c",
   "metadata": {},
   "outputs": [
    {
     "data": {
      "text/plain": [
       "3"
      ]
     },
     "execution_count": 153,
     "metadata": {},
     "output_type": "execute_result"
    }
   ],
   "source": [
    "int(3.12)"
   ]
  },
  {
   "cell_type": "code",
   "execution_count": 154,
   "id": "0da05ce0",
   "metadata": {},
   "outputs": [
    {
     "ename": "ValueError",
     "evalue": "invalid literal for int() with base 10: '3.12'",
     "output_type": "error",
     "traceback": [
      "\u001b[1;31m---------------------------------------------------------------------------\u001b[0m",
      "\u001b[1;31mValueError\u001b[0m                                Traceback (most recent call last)",
      "Cell \u001b[1;32mIn[154], line 1\u001b[0m\n\u001b[1;32m----> 1\u001b[0m \u001b[38;5;28mint\u001b[39m(\u001b[38;5;124m\"\u001b[39m\u001b[38;5;124m3.12\u001b[39m\u001b[38;5;124m\"\u001b[39m)\n",
      "\u001b[1;31mValueError\u001b[0m: invalid literal for int() with base 10: '3.12'"
     ]
    }
   ],
   "source": [
    "int(\"3.12\")"
   ]
  },
  {
   "cell_type": "code",
   "execution_count": 155,
   "id": "6bc089de",
   "metadata": {},
   "outputs": [
    {
     "data": {
      "text/plain": [
       "3.12"
      ]
     },
     "execution_count": 155,
     "metadata": {},
     "output_type": "execute_result"
    }
   ],
   "source": [
    "float(\"3.12\")"
   ]
  },
  {
   "cell_type": "code",
   "execution_count": 156,
   "id": "49eb3ce3",
   "metadata": {},
   "outputs": [
    {
     "data": {
      "text/plain": [
       "3"
      ]
     },
     "execution_count": 156,
     "metadata": {},
     "output_type": "execute_result"
    }
   ],
   "source": [
    "int(float(\"3.12\"))"
   ]
  },
  {
   "cell_type": "code",
   "execution_count": 157,
   "id": "4f17ae10",
   "metadata": {},
   "outputs": [
    {
     "ename": "ValueError",
     "evalue": "invalid literal for int() with base 10: '10.04'",
     "output_type": "error",
     "traceback": [
      "\u001b[1;31m---------------------------------------------------------------------------\u001b[0m",
      "\u001b[1;31mValueError\u001b[0m                                Traceback (most recent call last)",
      "Cell \u001b[1;32mIn[157], line 1\u001b[0m\n\u001b[1;32m----> 1\u001b[0m \u001b[38;5;28mint\u001b[39m(\u001b[38;5;124m\"\u001b[39m\u001b[38;5;124m10.04\u001b[39m\u001b[38;5;124m\"\u001b[39m)\n",
      "\u001b[1;31mValueError\u001b[0m: invalid literal for int() with base 10: '10.04'"
     ]
    }
   ],
   "source": [
    "int(\"10.04\")"
   ]
  },
  {
   "cell_type": "code",
   "execution_count": 158,
   "id": "0fa982f7",
   "metadata": {},
   "outputs": [
    {
     "data": {
      "text/plain": [
       "10.04"
      ]
     },
     "execution_count": 158,
     "metadata": {},
     "output_type": "execute_result"
    }
   ],
   "source": [
    "float(\"10.04\")"
   ]
  },
  {
   "cell_type": "code",
   "execution_count": 159,
   "id": "c7cf1b05",
   "metadata": {},
   "outputs": [
    {
     "data": {
      "text/plain": [
       "10"
      ]
     },
     "execution_count": 159,
     "metadata": {},
     "output_type": "execute_result"
    }
   ],
   "source": [
    "int(float(\"10.04\"))"
   ]
  },
  {
   "cell_type": "code",
   "execution_count": 160,
   "id": "e5993c0b",
   "metadata": {},
   "outputs": [
    {
     "data": {
      "text/plain": [
       "10.0"
      ]
     },
     "execution_count": 160,
     "metadata": {},
     "output_type": "execute_result"
    }
   ],
   "source": [
    "float(10)"
   ]
  },
  {
   "cell_type": "code",
   "execution_count": 161,
   "id": "c676bd09",
   "metadata": {},
   "outputs": [
    {
     "data": {
      "text/plain": [
       "10"
      ]
     },
     "execution_count": 161,
     "metadata": {},
     "output_type": "execute_result"
    }
   ],
   "source": [
    "int(float('10.04'))"
   ]
  },
  {
   "cell_type": "code",
   "execution_count": 162,
   "id": "8b43dc62",
   "metadata": {},
   "outputs": [
    {
     "data": {
      "text/plain": [
       "10"
      ]
     },
     "execution_count": 162,
     "metadata": {},
     "output_type": "execute_result"
    }
   ],
   "source": [
    "int(10.4)"
   ]
  },
  {
   "cell_type": "code",
   "execution_count": 163,
   "id": "8386c80a",
   "metadata": {},
   "outputs": [],
   "source": [
    "# Doubt"
   ]
  },
  {
   "cell_type": "code",
   "execution_count": 164,
   "id": "453dc4fb",
   "metadata": {},
   "outputs": [
    {
     "name": "stdout",
     "output_type": "stream",
     "text": [
      "2931338469968\n",
      "2931338470576\n"
     ]
    }
   ],
   "source": [
    "a=1000\n",
    "b=1000\n",
    "print(id(a))\n",
    "print(id(b))"
   ]
  },
  {
   "cell_type": "code",
   "execution_count": 165,
   "id": "1eca697a",
   "metadata": {},
   "outputs": [],
   "source": [
    "c = 1000"
   ]
  },
  {
   "cell_type": "code",
   "execution_count": 166,
   "id": "ab194a5e",
   "metadata": {},
   "outputs": [],
   "source": [
    "d = 1000"
   ]
  },
  {
   "cell_type": "code",
   "execution_count": 167,
   "id": "d2acc2ac",
   "metadata": {},
   "outputs": [
    {
     "name": "stdout",
     "output_type": "stream",
     "text": [
      "2931338470320\n"
     ]
    }
   ],
   "source": [
    "print(id(c))"
   ]
  },
  {
   "cell_type": "code",
   "execution_count": 168,
   "id": "d8da70f4",
   "metadata": {},
   "outputs": [
    {
     "name": "stdout",
     "output_type": "stream",
     "text": [
      "2931338470064\n"
     ]
    }
   ],
   "source": [
    "print(id(d))"
   ]
  },
  {
   "cell_type": "code",
   "execution_count": null,
   "id": "dbf33350",
   "metadata": {},
   "outputs": [],
   "source": []
  }
 ],
 "metadata": {
  "kernelspec": {
   "display_name": "Python 3 (ipykernel)",
   "language": "python",
   "name": "python3"
  },
  "language_info": {
   "codemirror_mode": {
    "name": "ipython",
    "version": 3
   },
   "file_extension": ".py",
   "mimetype": "text/x-python",
   "name": "python",
   "nbconvert_exporter": "python",
   "pygments_lexer": "ipython3",
   "version": "3.11.4"
  }
 },
 "nbformat": 4,
 "nbformat_minor": 5
}
