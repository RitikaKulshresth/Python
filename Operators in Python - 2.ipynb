{
 "cells": [
  {
   "cell_type": "code",
   "execution_count": 1,
   "id": "529e3124",
   "metadata": {},
   "outputs": [],
   "source": [
    "# Comparison Operators\n",
    "# >, <, >=, <=, ==, !=\n",
    "# used to compare 2 operands and return a boolean"
   ]
  },
  {
   "cell_type": "code",
   "execution_count": 2,
   "id": "1e421876",
   "metadata": {},
   "outputs": [
    {
     "data": {
      "text/plain": [
       "False"
      ]
     },
     "execution_count": 2,
     "metadata": {},
     "output_type": "execute_result"
    }
   ],
   "source": [
    "10 > 80 # Is 10 greater than 80? => No => False"
   ]
  },
  {
   "cell_type": "code",
   "execution_count": 3,
   "id": "63d49035",
   "metadata": {},
   "outputs": [
    {
     "data": {
      "text/plain": [
       "True"
      ]
     },
     "execution_count": 3,
     "metadata": {},
     "output_type": "execute_result"
    }
   ],
   "source": [
    "100 > 9"
   ]
  },
  {
   "cell_type": "code",
   "execution_count": 4,
   "id": "2983d905",
   "metadata": {},
   "outputs": [
    {
     "data": {
      "text/plain": [
       "True"
      ]
     },
     "execution_count": 4,
     "metadata": {},
     "output_type": "execute_result"
    }
   ],
   "source": [
    "5 < 9"
   ]
  },
  {
   "cell_type": "code",
   "execution_count": 5,
   "id": "b6143b08",
   "metadata": {},
   "outputs": [
    {
     "data": {
      "text/plain": [
       "True"
      ]
     },
     "execution_count": 5,
     "metadata": {},
     "output_type": "execute_result"
    }
   ],
   "source": [
    "100 == 100"
   ]
  },
  {
   "cell_type": "code",
   "execution_count": 6,
   "id": "cbb978a6",
   "metadata": {},
   "outputs": [
    {
     "data": {
      "text/plain": [
       "True"
      ]
     },
     "execution_count": 6,
     "metadata": {},
     "output_type": "execute_result"
    }
   ],
   "source": [
    "100 >= 90"
   ]
  },
  {
   "cell_type": "code",
   "execution_count": 7,
   "id": "7469a9b8",
   "metadata": {},
   "outputs": [
    {
     "data": {
      "text/plain": [
       "True"
      ]
     },
     "execution_count": 7,
     "metadata": {},
     "output_type": "execute_result"
    }
   ],
   "source": [
    "100 <= 100"
   ]
  },
  {
   "cell_type": "code",
   "execution_count": 8,
   "id": "9959e65b",
   "metadata": {},
   "outputs": [
    {
     "data": {
      "text/plain": [
       "False"
      ]
     },
     "execution_count": 8,
     "metadata": {},
     "output_type": "execute_result"
    }
   ],
   "source": [
    "100 == '100'"
   ]
  },
  {
   "cell_type": "code",
   "execution_count": 9,
   "id": "fded1fff",
   "metadata": {},
   "outputs": [
    {
     "data": {
      "text/plain": [
       "True"
      ]
     },
     "execution_count": 9,
     "metadata": {},
     "output_type": "execute_result"
    }
   ],
   "source": [
    "100 == 100.0"
   ]
  },
  {
   "cell_type": "code",
   "execution_count": 10,
   "id": "c4b5eb8f",
   "metadata": {},
   "outputs": [
    {
     "data": {
      "text/plain": [
       "False"
      ]
     },
     "execution_count": 10,
     "metadata": {},
     "output_type": "execute_result"
    }
   ],
   "source": [
    "'Python' == 'python'"
   ]
  },
  {
   "cell_type": "code",
   "execution_count": 11,
   "id": "f54b73fe",
   "metadata": {},
   "outputs": [],
   "source": [
    "l1 = [1,2,3]"
   ]
  },
  {
   "cell_type": "code",
   "execution_count": 12,
   "id": "8a7ca2b3",
   "metadata": {},
   "outputs": [],
   "source": [
    "l2 = [10, 2, 3]"
   ]
  },
  {
   "cell_type": "code",
   "execution_count": 13,
   "id": "e0d017ed",
   "metadata": {},
   "outputs": [
    {
     "data": {
      "text/plain": [
       "False"
      ]
     },
     "execution_count": 13,
     "metadata": {},
     "output_type": "execute_result"
    }
   ],
   "source": [
    "l1 == l2"
   ]
  },
  {
   "cell_type": "code",
   "execution_count": 14,
   "id": "1ac4ed88",
   "metadata": {},
   "outputs": [
    {
     "data": {
      "text/plain": [
       "False"
      ]
     },
     "execution_count": 14,
     "metadata": {},
     "output_type": "execute_result"
    }
   ],
   "source": [
    "100 != 100"
   ]
  },
  {
   "cell_type": "code",
   "execution_count": 15,
   "id": "36acb984",
   "metadata": {},
   "outputs": [
    {
     "data": {
      "text/plain": [
       "True"
      ]
     },
     "execution_count": 15,
     "metadata": {},
     "output_type": "execute_result"
    }
   ],
   "source": [
    "'Python' != 'python'"
   ]
  },
  {
   "cell_type": "code",
   "execution_count": null,
   "id": "720d6d6e",
   "metadata": {},
   "outputs": [],
   "source": []
  },
  {
   "cell_type": "code",
   "execution_count": 16,
   "id": "8df63ce9",
   "metadata": {},
   "outputs": [],
   "source": [
    "# Logical operators\n",
    "# and, or, not"
   ]
  },
  {
   "cell_type": "code",
   "execution_count": 17,
   "id": "e0acf5eb",
   "metadata": {},
   "outputs": [],
   "source": [
    "# and\n",
    "\n",
    "# True and True => True\n",
    "# True and False => False\n",
    "# False and True => False\n",
    "# False and False => False"
   ]
  },
  {
   "cell_type": "code",
   "execution_count": 18,
   "id": "bf561f65",
   "metadata": {},
   "outputs": [
    {
     "data": {
      "text/plain": [
       "True"
      ]
     },
     "execution_count": 18,
     "metadata": {},
     "output_type": "execute_result"
    }
   ],
   "source": [
    "True and True"
   ]
  },
  {
   "cell_type": "code",
   "execution_count": 19,
   "id": "c93cb5d4",
   "metadata": {},
   "outputs": [
    {
     "data": {
      "text/plain": [
       "False"
      ]
     },
     "execution_count": 19,
     "metadata": {},
     "output_type": "execute_result"
    }
   ],
   "source": [
    "True and False"
   ]
  },
  {
   "cell_type": "code",
   "execution_count": 20,
   "id": "97e7bc16",
   "metadata": {},
   "outputs": [
    {
     "data": {
      "text/plain": [
       "False"
      ]
     },
     "execution_count": 20,
     "metadata": {},
     "output_type": "execute_result"
    }
   ],
   "source": [
    "False and True"
   ]
  },
  {
   "cell_type": "code",
   "execution_count": 21,
   "id": "eab35ca5",
   "metadata": {},
   "outputs": [
    {
     "data": {
      "text/plain": [
       "False"
      ]
     },
     "execution_count": 21,
     "metadata": {},
     "output_type": "execute_result"
    }
   ],
   "source": [
    "False and False"
   ]
  },
  {
   "cell_type": "code",
   "execution_count": 27,
   "id": "fe3fc36f",
   "metadata": {},
   "outputs": [],
   "source": [
    "# or\n",
    "\n",
    "# True or True => True\n",
    "# True or False => True\n",
    "# False or True => True\n",
    "# False or False => False"
   ]
  },
  {
   "cell_type": "code",
   "execution_count": 23,
   "id": "d3180471",
   "metadata": {},
   "outputs": [
    {
     "data": {
      "text/plain": [
       "True"
      ]
     },
     "execution_count": 23,
     "metadata": {},
     "output_type": "execute_result"
    }
   ],
   "source": [
    "True or True"
   ]
  },
  {
   "cell_type": "code",
   "execution_count": 24,
   "id": "dc817651",
   "metadata": {},
   "outputs": [
    {
     "data": {
      "text/plain": [
       "True"
      ]
     },
     "execution_count": 24,
     "metadata": {},
     "output_type": "execute_result"
    }
   ],
   "source": [
    "True or False"
   ]
  },
  {
   "cell_type": "code",
   "execution_count": 25,
   "id": "06bb4e43",
   "metadata": {},
   "outputs": [
    {
     "data": {
      "text/plain": [
       "True"
      ]
     },
     "execution_count": 25,
     "metadata": {},
     "output_type": "execute_result"
    }
   ],
   "source": [
    "False or True"
   ]
  },
  {
   "cell_type": "code",
   "execution_count": 26,
   "id": "f6a4dedf",
   "metadata": {},
   "outputs": [
    {
     "data": {
      "text/plain": [
       "False"
      ]
     },
     "execution_count": 26,
     "metadata": {},
     "output_type": "execute_result"
    }
   ],
   "source": [
    "False or False"
   ]
  },
  {
   "cell_type": "code",
   "execution_count": null,
   "id": "81198ff7",
   "metadata": {},
   "outputs": [],
   "source": []
  },
  {
   "cell_type": "code",
   "execution_count": 28,
   "id": "e0e70611",
   "metadata": {},
   "outputs": [],
   "source": [
    "# not\n",
    "\n",
    "# not True => False\n",
    "# not False => True"
   ]
  },
  {
   "cell_type": "code",
   "execution_count": null,
   "id": "d4d47b3c",
   "metadata": {},
   "outputs": [],
   "source": []
  },
  {
   "cell_type": "code",
   "execution_count": 29,
   "id": "56e14476",
   "metadata": {},
   "outputs": [
    {
     "data": {
      "text/plain": [
       "False"
      ]
     },
     "execution_count": 29,
     "metadata": {},
     "output_type": "execute_result"
    }
   ],
   "source": [
    "not True"
   ]
  },
  {
   "cell_type": "code",
   "execution_count": 30,
   "id": "49672292",
   "metadata": {},
   "outputs": [
    {
     "data": {
      "text/plain": [
       "True"
      ]
     },
     "execution_count": 30,
     "metadata": {},
     "output_type": "execute_result"
    }
   ],
   "source": [
    "not False"
   ]
  },
  {
   "cell_type": "code",
   "execution_count": null,
   "id": "ac9ad468",
   "metadata": {},
   "outputs": [],
   "source": []
  },
  {
   "cell_type": "code",
   "execution_count": 31,
   "id": "7dadedfa",
   "metadata": {},
   "outputs": [
    {
     "data": {
      "text/plain": [
       "20"
      ]
     },
     "execution_count": 31,
     "metadata": {},
     "output_type": "execute_result"
    }
   ],
   "source": [
    "100 and 20"
   ]
  },
  {
   "cell_type": "code",
   "execution_count": 32,
   "id": "92b50220",
   "metadata": {},
   "outputs": [
    {
     "data": {
      "text/plain": [
       "30"
      ]
     },
     "execution_count": 32,
     "metadata": {},
     "output_type": "execute_result"
    }
   ],
   "source": [
    "20 and 30"
   ]
  },
  {
   "cell_type": "code",
   "execution_count": 33,
   "id": "64245c99",
   "metadata": {},
   "outputs": [
    {
     "data": {
      "text/plain": [
       "0"
      ]
     },
     "execution_count": 33,
     "metadata": {},
     "output_type": "execute_result"
    }
   ],
   "source": [
    "0 and 10"
   ]
  },
  {
   "cell_type": "code",
   "execution_count": null,
   "id": "823423c2",
   "metadata": {},
   "outputs": [],
   "source": []
  },
  {
   "cell_type": "code",
   "execution_count": null,
   "id": "c01e4315",
   "metadata": {},
   "outputs": [],
   "source": []
  },
  {
   "cell_type": "code",
   "execution_count": null,
   "id": "97fec721",
   "metadata": {},
   "outputs": [],
   "source": []
  },
  {
   "cell_type": "code",
   "execution_count": null,
   "id": "fc929c63",
   "metadata": {},
   "outputs": [],
   "source": []
  },
  {
   "cell_type": "code",
   "execution_count": 34,
   "id": "09406652",
   "metadata": {},
   "outputs": [],
   "source": [
    "# In case of 'and',\n",
    "# When the first operand is True, output is second operand\n",
    "# When the first operand is False, output is first operand"
   ]
  },
  {
   "cell_type": "code",
   "execution_count": 35,
   "id": "26bbfa73",
   "metadata": {},
   "outputs": [
    {
     "data": {
      "text/plain": [
       "6"
      ]
     },
     "execution_count": 35,
     "metadata": {},
     "output_type": "execute_result"
    }
   ],
   "source": [
    "100 and 6"
   ]
  },
  {
   "cell_type": "code",
   "execution_count": 36,
   "id": "cc178cae",
   "metadata": {},
   "outputs": [
    {
     "data": {
      "text/plain": [
       "'hi'"
      ]
     },
     "execution_count": 36,
     "metadata": {},
     "output_type": "execute_result"
    }
   ],
   "source": [
    "100 and 'hi'"
   ]
  },
  {
   "cell_type": "code",
   "execution_count": 37,
   "id": "5022ff18",
   "metadata": {},
   "outputs": [
    {
     "data": {
      "text/plain": [
       "'bye'"
      ]
     },
     "execution_count": 37,
     "metadata": {},
     "output_type": "execute_result"
    }
   ],
   "source": [
    "'hello' and 'bye'"
   ]
  },
  {
   "cell_type": "code",
   "execution_count": 38,
   "id": "dd7d322e",
   "metadata": {},
   "outputs": [
    {
     "data": {
      "text/plain": [
       "0"
      ]
     },
     "execution_count": 38,
     "metadata": {},
     "output_type": "execute_result"
    }
   ],
   "source": [
    "0 and 'hi'"
   ]
  },
  {
   "cell_type": "code",
   "execution_count": 39,
   "id": "c32833e7",
   "metadata": {},
   "outputs": [
    {
     "data": {
      "text/plain": [
       "0"
      ]
     },
     "execution_count": 39,
     "metadata": {},
     "output_type": "execute_result"
    }
   ],
   "source": [
    "0 and ''"
   ]
  },
  {
   "cell_type": "code",
   "execution_count": 40,
   "id": "53af7068",
   "metadata": {},
   "outputs": [
    {
     "data": {
      "text/plain": [
       "''"
      ]
     },
     "execution_count": 40,
     "metadata": {},
     "output_type": "execute_result"
    }
   ],
   "source": [
    "'' and -4"
   ]
  },
  {
   "cell_type": "code",
   "execution_count": null,
   "id": "d1009986",
   "metadata": {},
   "outputs": [],
   "source": []
  },
  {
   "cell_type": "code",
   "execution_count": 41,
   "id": "cd147460",
   "metadata": {},
   "outputs": [],
   "source": [
    "# [] => Empty List"
   ]
  },
  {
   "cell_type": "code",
   "execution_count": 42,
   "id": "e2431064",
   "metadata": {},
   "outputs": [],
   "source": [
    "l1 = []"
   ]
  },
  {
   "cell_type": "code",
   "execution_count": 43,
   "id": "7bc70363",
   "metadata": {},
   "outputs": [
    {
     "data": {
      "text/plain": [
       "[]"
      ]
     },
     "execution_count": 43,
     "metadata": {},
     "output_type": "execute_result"
    }
   ],
   "source": [
    "l1"
   ]
  },
  {
   "cell_type": "code",
   "execution_count": 44,
   "id": "86c87a36",
   "metadata": {},
   "outputs": [],
   "source": [
    "# Empty list is considered as False"
   ]
  },
  {
   "cell_type": "code",
   "execution_count": 45,
   "id": "17651bf8",
   "metadata": {},
   "outputs": [
    {
     "data": {
      "text/plain": [
       "False"
      ]
     },
     "execution_count": 45,
     "metadata": {},
     "output_type": "execute_result"
    }
   ],
   "source": [
    "bool([])"
   ]
  },
  {
   "cell_type": "code",
   "execution_count": 46,
   "id": "8940fe89",
   "metadata": {},
   "outputs": [
    {
     "data": {
      "text/plain": [
       "True"
      ]
     },
     "execution_count": 46,
     "metadata": {},
     "output_type": "execute_result"
    }
   ],
   "source": [
    "bool([10])"
   ]
  },
  {
   "cell_type": "code",
   "execution_count": 47,
   "id": "63c646bd",
   "metadata": {},
   "outputs": [
    {
     "data": {
      "text/plain": [
       "[]"
      ]
     },
     "execution_count": 47,
     "metadata": {},
     "output_type": "execute_result"
    }
   ],
   "source": [
    "[] and 1"
   ]
  },
  {
   "cell_type": "code",
   "execution_count": null,
   "id": "67b60c79",
   "metadata": {},
   "outputs": [],
   "source": []
  },
  {
   "cell_type": "code",
   "execution_count": 48,
   "id": "efb2f531",
   "metadata": {},
   "outputs": [],
   "source": [
    "# In case of 'or',\n",
    "# When the first operand is True, output is first operand\n",
    "# When the first operand is False, output is second operand"
   ]
  },
  {
   "cell_type": "code",
   "execution_count": 49,
   "id": "fbad8099",
   "metadata": {},
   "outputs": [
    {
     "data": {
      "text/plain": [
       "10"
      ]
     },
     "execution_count": 49,
     "metadata": {},
     "output_type": "execute_result"
    }
   ],
   "source": [
    "0 or 10"
   ]
  },
  {
   "cell_type": "code",
   "execution_count": 52,
   "id": "3d20ffec",
   "metadata": {},
   "outputs": [
    {
     "data": {
      "text/plain": [
       "'bye'"
      ]
     },
     "execution_count": 52,
     "metadata": {},
     "output_type": "execute_result"
    }
   ],
   "source": [
    "'' or 'bye'"
   ]
  },
  {
   "cell_type": "code",
   "execution_count": 53,
   "id": "fdcc3fc6",
   "metadata": {},
   "outputs": [
    {
     "data": {
      "text/plain": [
       "0"
      ]
     },
     "execution_count": 53,
     "metadata": {},
     "output_type": "execute_result"
    }
   ],
   "source": [
    "'' or 0"
   ]
  },
  {
   "cell_type": "code",
   "execution_count": 54,
   "id": "148cf924",
   "metadata": {},
   "outputs": [
    {
     "data": {
      "text/plain": [
       "100"
      ]
     },
     "execution_count": 54,
     "metadata": {},
     "output_type": "execute_result"
    }
   ],
   "source": [
    "100 or 8"
   ]
  },
  {
   "cell_type": "code",
   "execution_count": null,
   "id": "1563881c",
   "metadata": {},
   "outputs": [],
   "source": []
  },
  {
   "cell_type": "code",
   "execution_count": 55,
   "id": "342bef43",
   "metadata": {},
   "outputs": [],
   "source": [
    "# Bitwise operators\n",
    "\n",
    "# Operates on Bits (0, 1)"
   ]
  },
  {
   "cell_type": "code",
   "execution_count": 56,
   "id": "26834238",
   "metadata": {},
   "outputs": [],
   "source": [
    "# Bitwise operators can be used on binary or int"
   ]
  },
  {
   "cell_type": "code",
   "execution_count": 57,
   "id": "717080c1",
   "metadata": {},
   "outputs": [],
   "source": [
    "b1 = 0b1011"
   ]
  },
  {
   "cell_type": "code",
   "execution_count": 58,
   "id": "05548c14",
   "metadata": {},
   "outputs": [
    {
     "data": {
      "text/plain": [
       "11"
      ]
     },
     "execution_count": 58,
     "metadata": {},
     "output_type": "execute_result"
    }
   ],
   "source": [
    "b1"
   ]
  },
  {
   "cell_type": "code",
   "execution_count": 59,
   "id": "fc466c37",
   "metadata": {},
   "outputs": [
    {
     "data": {
      "text/plain": [
       "int"
      ]
     },
     "execution_count": 59,
     "metadata": {},
     "output_type": "execute_result"
    }
   ],
   "source": [
    "type(b1)"
   ]
  },
  {
   "cell_type": "code",
   "execution_count": 60,
   "id": "6447902d",
   "metadata": {},
   "outputs": [],
   "source": [
    "# binary, octal and hexadecimal are just representations of int"
   ]
  },
  {
   "cell_type": "code",
   "execution_count": 61,
   "id": "875ece4f",
   "metadata": {},
   "outputs": [
    {
     "data": {
      "text/plain": [
       "'0b1011'"
      ]
     },
     "execution_count": 61,
     "metadata": {},
     "output_type": "execute_result"
    }
   ],
   "source": [
    "bin(11)"
   ]
  },
  {
   "cell_type": "code",
   "execution_count": 62,
   "id": "1140a4de",
   "metadata": {},
   "outputs": [],
   "source": [
    "# When bitwise operator is used with int, it gets converted into binary and then operates on the bits"
   ]
  },
  {
   "cell_type": "code",
   "execution_count": 63,
   "id": "82ecfff4",
   "metadata": {},
   "outputs": [],
   "source": [
    "# & => Bitwise and\n",
    "# | => Bitwise or\n",
    "# ^ => Bitwise xor\n",
    "# ~ => Bitwise not\n",
    "# >> => Bitwise right shift\n",
    "# << => Bitwise left shift"
   ]
  },
  {
   "cell_type": "code",
   "execution_count": 64,
   "id": "3dd76191",
   "metadata": {},
   "outputs": [],
   "source": [
    "# &\n",
    "\n",
    "# 1 & 1 => 1\n",
    "# 1 & 0 => 0\n",
    "# 0 & 1 => 0\n",
    "# 0 & 0 => 0"
   ]
  },
  {
   "cell_type": "code",
   "execution_count": 65,
   "id": "8ee4bcb4",
   "metadata": {},
   "outputs": [],
   "source": [
    "b1 = 0b1001\n",
    "b2 = 0b1101"
   ]
  },
  {
   "cell_type": "code",
   "execution_count": 67,
   "id": "0f6ecf25",
   "metadata": {},
   "outputs": [],
   "source": [
    "res = b1 & b2"
   ]
  },
  {
   "cell_type": "code",
   "execution_count": 68,
   "id": "0d3569d7",
   "metadata": {},
   "outputs": [
    {
     "data": {
      "text/plain": [
       "9"
      ]
     },
     "execution_count": 68,
     "metadata": {},
     "output_type": "execute_result"
    }
   ],
   "source": [
    "res"
   ]
  },
  {
   "cell_type": "code",
   "execution_count": 69,
   "id": "5c56ab34",
   "metadata": {},
   "outputs": [
    {
     "data": {
      "text/plain": [
       "'0b1001'"
      ]
     },
     "execution_count": 69,
     "metadata": {},
     "output_type": "execute_result"
    }
   ],
   "source": [
    "bin(res)"
   ]
  },
  {
   "cell_type": "code",
   "execution_count": 71,
   "id": "51f2d422",
   "metadata": {},
   "outputs": [
    {
     "data": {
      "text/plain": [
       "8"
      ]
     },
     "execution_count": 71,
     "metadata": {},
     "output_type": "execute_result"
    }
   ],
   "source": [
    "14 & 9"
   ]
  },
  {
   "cell_type": "code",
   "execution_count": 72,
   "id": "9a9fca76",
   "metadata": {},
   "outputs": [
    {
     "data": {
      "text/plain": [
       "'0b1110'"
      ]
     },
     "execution_count": 72,
     "metadata": {},
     "output_type": "execute_result"
    }
   ],
   "source": [
    "bin(14)"
   ]
  },
  {
   "cell_type": "code",
   "execution_count": 73,
   "id": "d27e0efa",
   "metadata": {},
   "outputs": [
    {
     "data": {
      "text/plain": [
       "'0b1001'"
      ]
     },
     "execution_count": 73,
     "metadata": {},
     "output_type": "execute_result"
    }
   ],
   "source": [
    "bin(9)"
   ]
  },
  {
   "cell_type": "code",
   "execution_count": 74,
   "id": "e5513487",
   "metadata": {},
   "outputs": [
    {
     "data": {
      "text/plain": [
       "8"
      ]
     },
     "execution_count": 74,
     "metadata": {},
     "output_type": "execute_result"
    }
   ],
   "source": [
    "0b1000"
   ]
  },
  {
   "cell_type": "code",
   "execution_count": 75,
   "id": "7e49c090",
   "metadata": {},
   "outputs": [],
   "source": [
    "# |\n",
    "\n",
    "# 1 | 1 => 1\n",
    "# 1 | 0 => 1\n",
    "# 0 | 1 => 1\n",
    "# 0 | 0 => 0"
   ]
  },
  {
   "cell_type": "code",
   "execution_count": 76,
   "id": "59ad851a",
   "metadata": {},
   "outputs": [
    {
     "data": {
      "text/plain": [
       "15"
      ]
     },
     "execution_count": 76,
     "metadata": {},
     "output_type": "execute_result"
    }
   ],
   "source": [
    "14 | 9"
   ]
  },
  {
   "cell_type": "code",
   "execution_count": 77,
   "id": "55e4329b",
   "metadata": {},
   "outputs": [
    {
     "data": {
      "text/plain": [
       "'0b1111'"
      ]
     },
     "execution_count": 77,
     "metadata": {},
     "output_type": "execute_result"
    }
   ],
   "source": [
    "bin(15)"
   ]
  },
  {
   "cell_type": "code",
   "execution_count": 78,
   "id": "5f4c855e",
   "metadata": {},
   "outputs": [
    {
     "data": {
      "text/plain": [
       "111"
      ]
     },
     "execution_count": 78,
     "metadata": {},
     "output_type": "execute_result"
    }
   ],
   "source": [
    "45 | 70"
   ]
  },
  {
   "cell_type": "code",
   "execution_count": 79,
   "id": "ec99be07",
   "metadata": {},
   "outputs": [
    {
     "data": {
      "text/plain": [
       "'0b101101'"
      ]
     },
     "execution_count": 79,
     "metadata": {},
     "output_type": "execute_result"
    }
   ],
   "source": [
    "bin(45)"
   ]
  },
  {
   "cell_type": "code",
   "execution_count": 80,
   "id": "e88b1abc",
   "metadata": {},
   "outputs": [
    {
     "data": {
      "text/plain": [
       "'0b1000110'"
      ]
     },
     "execution_count": 80,
     "metadata": {},
     "output_type": "execute_result"
    }
   ],
   "source": [
    "bin(70)"
   ]
  },
  {
   "cell_type": "code",
   "execution_count": 81,
   "id": "2078683c",
   "metadata": {},
   "outputs": [
    {
     "data": {
      "text/plain": [
       "111"
      ]
     },
     "execution_count": 81,
     "metadata": {},
     "output_type": "execute_result"
    }
   ],
   "source": [
    "0b1101111"
   ]
  },
  {
   "cell_type": "code",
   "execution_count": 82,
   "id": "057b2e4e",
   "metadata": {},
   "outputs": [
    {
     "data": {
      "text/plain": [
       "4"
      ]
     },
     "execution_count": 82,
     "metadata": {},
     "output_type": "execute_result"
    }
   ],
   "source": [
    "45 & 70"
   ]
  },
  {
   "cell_type": "code",
   "execution_count": null,
   "id": "4ddbe99e",
   "metadata": {},
   "outputs": [],
   "source": []
  },
  {
   "cell_type": "code",
   "execution_count": 83,
   "id": "212c4046",
   "metadata": {},
   "outputs": [
    {
     "data": {
      "text/plain": [
       "6"
      ]
     },
     "execution_count": 83,
     "metadata": {},
     "output_type": "execute_result"
    }
   ],
   "source": [
    "70&15"
   ]
  },
  {
   "cell_type": "code",
   "execution_count": 84,
   "id": "b87e71bd",
   "metadata": {},
   "outputs": [
    {
     "data": {
      "text/plain": [
       "'0b1000110'"
      ]
     },
     "execution_count": 84,
     "metadata": {},
     "output_type": "execute_result"
    }
   ],
   "source": [
    "bin(70)"
   ]
  },
  {
   "cell_type": "code",
   "execution_count": 86,
   "id": "4a967caa",
   "metadata": {},
   "outputs": [
    {
     "data": {
      "text/plain": [
       "'0b1111'"
      ]
     },
     "execution_count": 86,
     "metadata": {},
     "output_type": "execute_result"
    }
   ],
   "source": [
    "bin(15)"
   ]
  },
  {
   "cell_type": "code",
   "execution_count": 87,
   "id": "34cfa2d9",
   "metadata": {},
   "outputs": [
    {
     "data": {
      "text/plain": [
       "'0b110'"
      ]
     },
     "execution_count": 87,
     "metadata": {},
     "output_type": "execute_result"
    }
   ],
   "source": [
    "bin(6)"
   ]
  },
  {
   "cell_type": "code",
   "execution_count": null,
   "id": "9a7eacb1",
   "metadata": {},
   "outputs": [],
   "source": []
  },
  {
   "cell_type": "code",
   "execution_count": 88,
   "id": "e8024ada",
   "metadata": {},
   "outputs": [
    {
     "data": {
      "text/plain": [
       "0"
      ]
     },
     "execution_count": 88,
     "metadata": {},
     "output_type": "execute_result"
    }
   ],
   "source": [
    "5 & 0"
   ]
  },
  {
   "cell_type": "code",
   "execution_count": 89,
   "id": "479fb1fa",
   "metadata": {},
   "outputs": [
    {
     "data": {
      "text/plain": [
       "'0b101'"
      ]
     },
     "execution_count": 89,
     "metadata": {},
     "output_type": "execute_result"
    }
   ],
   "source": [
    "bin(5)"
   ]
  },
  {
   "cell_type": "code",
   "execution_count": null,
   "id": "5866fde4",
   "metadata": {},
   "outputs": [],
   "source": []
  },
  {
   "cell_type": "code",
   "execution_count": 90,
   "id": "08614f8a",
   "metadata": {},
   "outputs": [],
   "source": [
    "# ^\n",
    "\n",
    "# 1 ^ 1 => 0\n",
    "# 1 ^ 0 => 1\n",
    "# 0 ^ 1 => 1\n",
    "# 0 ^ 0 => 0"
   ]
  },
  {
   "cell_type": "code",
   "execution_count": 91,
   "id": "6af77ab2",
   "metadata": {},
   "outputs": [
    {
     "data": {
      "text/plain": [
       "5"
      ]
     },
     "execution_count": 91,
     "metadata": {},
     "output_type": "execute_result"
    }
   ],
   "source": [
    "13 ^ 8"
   ]
  },
  {
   "cell_type": "code",
   "execution_count": 92,
   "id": "82c852dc",
   "metadata": {},
   "outputs": [
    {
     "data": {
      "text/plain": [
       "'0b1101'"
      ]
     },
     "execution_count": 92,
     "metadata": {},
     "output_type": "execute_result"
    }
   ],
   "source": [
    "bin(13)"
   ]
  },
  {
   "cell_type": "code",
   "execution_count": 93,
   "id": "5429ebf5",
   "metadata": {},
   "outputs": [
    {
     "data": {
      "text/plain": [
       "'0b1000'"
      ]
     },
     "execution_count": 93,
     "metadata": {},
     "output_type": "execute_result"
    }
   ],
   "source": [
    "bin(8)"
   ]
  },
  {
   "cell_type": "code",
   "execution_count": null,
   "id": "4e124f35",
   "metadata": {},
   "outputs": [],
   "source": []
  },
  {
   "cell_type": "code",
   "execution_count": 94,
   "id": "84485041",
   "metadata": {},
   "outputs": [],
   "source": [
    "# ~ => bitwise not => bitwise complement"
   ]
  },
  {
   "cell_type": "code",
   "execution_count": 95,
   "id": "c4a5c997",
   "metadata": {},
   "outputs": [],
   "source": [
    "# ~x => -(x+1)"
   ]
  },
  {
   "cell_type": "code",
   "execution_count": 96,
   "id": "eb9a93b0",
   "metadata": {},
   "outputs": [
    {
     "data": {
      "text/plain": [
       "-11"
      ]
     },
     "execution_count": 96,
     "metadata": {},
     "output_type": "execute_result"
    }
   ],
   "source": [
    "~10"
   ]
  },
  {
   "cell_type": "code",
   "execution_count": 97,
   "id": "740825ad",
   "metadata": {},
   "outputs": [
    {
     "data": {
      "text/plain": [
       "-8"
      ]
     },
     "execution_count": 97,
     "metadata": {},
     "output_type": "execute_result"
    }
   ],
   "source": [
    "~7"
   ]
  },
  {
   "cell_type": "code",
   "execution_count": 98,
   "id": "0042e0f5",
   "metadata": {},
   "outputs": [
    {
     "data": {
      "text/plain": [
       "9"
      ]
     },
     "execution_count": 98,
     "metadata": {},
     "output_type": "execute_result"
    }
   ],
   "source": [
    "~-10"
   ]
  },
  {
   "cell_type": "code",
   "execution_count": null,
   "id": "fb23fd39",
   "metadata": {},
   "outputs": [],
   "source": []
  },
  {
   "cell_type": "code",
   "execution_count": 99,
   "id": "6f975b49",
   "metadata": {},
   "outputs": [],
   "source": [
    "# << : left shift operator\n",
    "\n",
    "# a << b\n",
    "# it shifts the bits of 'a' on the left side 'b' times and add 'b' 0s on the right side"
   ]
  },
  {
   "cell_type": "code",
   "execution_count": 100,
   "id": "66d25734",
   "metadata": {},
   "outputs": [
    {
     "data": {
      "text/plain": [
       "10"
      ]
     },
     "execution_count": 100,
     "metadata": {},
     "output_type": "execute_result"
    }
   ],
   "source": [
    "5 << 1"
   ]
  },
  {
   "cell_type": "code",
   "execution_count": 101,
   "id": "46c909fc",
   "metadata": {},
   "outputs": [
    {
     "data": {
      "text/plain": [
       "'0b101'"
      ]
     },
     "execution_count": 101,
     "metadata": {},
     "output_type": "execute_result"
    }
   ],
   "source": [
    "bin(5)"
   ]
  },
  {
   "cell_type": "code",
   "execution_count": 102,
   "id": "f92dc9f6",
   "metadata": {},
   "outputs": [
    {
     "data": {
      "text/plain": [
       "'0b1010'"
      ]
     },
     "execution_count": 102,
     "metadata": {},
     "output_type": "execute_result"
    }
   ],
   "source": [
    "bin(10)"
   ]
  },
  {
   "cell_type": "code",
   "execution_count": 103,
   "id": "1f63daa0",
   "metadata": {},
   "outputs": [
    {
     "data": {
      "text/plain": [
       "20"
      ]
     },
     "execution_count": 103,
     "metadata": {},
     "output_type": "execute_result"
    }
   ],
   "source": [
    "5 << 2"
   ]
  },
  {
   "cell_type": "code",
   "execution_count": 104,
   "id": "8ba7a2ec",
   "metadata": {},
   "outputs": [
    {
     "data": {
      "text/plain": [
       "20"
      ]
     },
     "execution_count": 104,
     "metadata": {},
     "output_type": "execute_result"
    }
   ],
   "source": [
    "0b10100"
   ]
  },
  {
   "cell_type": "code",
   "execution_count": 105,
   "id": "1897f88b",
   "metadata": {},
   "outputs": [
    {
     "data": {
      "text/plain": [
       "'0b111'"
      ]
     },
     "execution_count": 105,
     "metadata": {},
     "output_type": "execute_result"
    }
   ],
   "source": [
    "bin(7)"
   ]
  },
  {
   "cell_type": "code",
   "execution_count": 106,
   "id": "01bab54c",
   "metadata": {},
   "outputs": [
    {
     "data": {
      "text/plain": [
       "56"
      ]
     },
     "execution_count": 106,
     "metadata": {},
     "output_type": "execute_result"
    }
   ],
   "source": [
    "7 << 3"
   ]
  },
  {
   "cell_type": "code",
   "execution_count": 107,
   "id": "d3822120",
   "metadata": {},
   "outputs": [
    {
     "data": {
      "text/plain": [
       "56"
      ]
     },
     "execution_count": 107,
     "metadata": {},
     "output_type": "execute_result"
    }
   ],
   "source": [
    "0b111000"
   ]
  },
  {
   "cell_type": "code",
   "execution_count": null,
   "id": "04d3dae4",
   "metadata": {},
   "outputs": [],
   "source": []
  },
  {
   "cell_type": "code",
   "execution_count": 108,
   "id": "edc22278",
   "metadata": {},
   "outputs": [],
   "source": [
    "# >> : right shift\n",
    "\n",
    "# a >> b\n",
    "# shifts the bits of 'a' right side 'b' times"
   ]
  },
  {
   "cell_type": "code",
   "execution_count": 109,
   "id": "0895395b",
   "metadata": {},
   "outputs": [
    {
     "data": {
      "text/plain": [
       "2"
      ]
     },
     "execution_count": 109,
     "metadata": {},
     "output_type": "execute_result"
    }
   ],
   "source": [
    "5 >> 1"
   ]
  },
  {
   "cell_type": "code",
   "execution_count": 111,
   "id": "0f8eb08e",
   "metadata": {},
   "outputs": [
    {
     "data": {
      "text/plain": [
       "0"
      ]
     },
     "execution_count": 111,
     "metadata": {},
     "output_type": "execute_result"
    }
   ],
   "source": [
    "5 >> 3"
   ]
  },
  {
   "cell_type": "code",
   "execution_count": null,
   "id": "2eeadafe",
   "metadata": {},
   "outputs": [],
   "source": []
  },
  {
   "cell_type": "code",
   "execution_count": 112,
   "id": "3e595533",
   "metadata": {},
   "outputs": [],
   "source": [
    "# Membership operator\n",
    "# used to check the membership of an element/item in a collection/ iterable objects (str, list, tuple, set, dict)"
   ]
  },
  {
   "cell_type": "code",
   "execution_count": 113,
   "id": "c2edfa0e",
   "metadata": {},
   "outputs": [],
   "source": [
    "# in\n",
    "# returns True if the item is present in a collection, else returns False"
   ]
  },
  {
   "cell_type": "code",
   "execution_count": 114,
   "id": "f5c0ac7c",
   "metadata": {},
   "outputs": [],
   "source": [
    "l1 = [10, 4, 0, -4, 7]"
   ]
  },
  {
   "cell_type": "code",
   "execution_count": 115,
   "id": "5b60799b",
   "metadata": {},
   "outputs": [
    {
     "data": {
      "text/plain": [
       "[10, 4, 0, -4, 7]"
      ]
     },
     "execution_count": 115,
     "metadata": {},
     "output_type": "execute_result"
    }
   ],
   "source": [
    "l1"
   ]
  },
  {
   "cell_type": "code",
   "execution_count": 116,
   "id": "7d04245d",
   "metadata": {},
   "outputs": [
    {
     "data": {
      "text/plain": [
       "True"
      ]
     },
     "execution_count": 116,
     "metadata": {},
     "output_type": "execute_result"
    }
   ],
   "source": [
    "4 in l1"
   ]
  },
  {
   "cell_type": "code",
   "execution_count": 117,
   "id": "3330138b",
   "metadata": {},
   "outputs": [
    {
     "data": {
      "text/plain": [
       "False"
      ]
     },
     "execution_count": 117,
     "metadata": {},
     "output_type": "execute_result"
    }
   ],
   "source": [
    "20 in l1"
   ]
  },
  {
   "cell_type": "code",
   "execution_count": 118,
   "id": "7efc4a30",
   "metadata": {},
   "outputs": [],
   "source": [
    "s1 = \"Hello World\""
   ]
  },
  {
   "cell_type": "code",
   "execution_count": 119,
   "id": "c7a0f8f5",
   "metadata": {},
   "outputs": [
    {
     "data": {
      "text/plain": [
       "'Hello World'"
      ]
     },
     "execution_count": 119,
     "metadata": {},
     "output_type": "execute_result"
    }
   ],
   "source": [
    "s1"
   ]
  },
  {
   "cell_type": "code",
   "execution_count": 120,
   "id": "53a72cdf",
   "metadata": {},
   "outputs": [
    {
     "data": {
      "text/plain": [
       "False"
      ]
     },
     "execution_count": 120,
     "metadata": {},
     "output_type": "execute_result"
    }
   ],
   "source": [
    "'h' in s1"
   ]
  },
  {
   "cell_type": "code",
   "execution_count": 121,
   "id": "5828bfc5",
   "metadata": {},
   "outputs": [
    {
     "data": {
      "text/plain": [
       "True"
      ]
     },
     "execution_count": 121,
     "metadata": {},
     "output_type": "execute_result"
    }
   ],
   "source": [
    "'H' in s1"
   ]
  },
  {
   "cell_type": "code",
   "execution_count": 122,
   "id": "709abf64",
   "metadata": {},
   "outputs": [
    {
     "data": {
      "text/plain": [
       "True"
      ]
     },
     "execution_count": 122,
     "metadata": {},
     "output_type": "execute_result"
    }
   ],
   "source": [
    "'Hell' in s1"
   ]
  },
  {
   "cell_type": "code",
   "execution_count": 123,
   "id": "bbdcebd2",
   "metadata": {},
   "outputs": [
    {
     "data": {
      "text/plain": [
       "'Hello World'"
      ]
     },
     "execution_count": 123,
     "metadata": {},
     "output_type": "execute_result"
    }
   ],
   "source": [
    "s1"
   ]
  },
  {
   "cell_type": "code",
   "execution_count": 124,
   "id": "3ae705e3",
   "metadata": {},
   "outputs": [
    {
     "data": {
      "text/plain": [
       "True"
      ]
     },
     "execution_count": 124,
     "metadata": {},
     "output_type": "execute_result"
    }
   ],
   "source": [
    "'el' in s1"
   ]
  },
  {
   "cell_type": "code",
   "execution_count": 125,
   "id": "439e2d6c",
   "metadata": {},
   "outputs": [
    {
     "data": {
      "text/plain": [
       "False"
      ]
     },
     "execution_count": 125,
     "metadata": {},
     "output_type": "execute_result"
    }
   ],
   "source": [
    "'le' in s1"
   ]
  },
  {
   "cell_type": "code",
   "execution_count": null,
   "id": "5b776fa6",
   "metadata": {},
   "outputs": [],
   "source": []
  },
  {
   "cell_type": "code",
   "execution_count": 126,
   "id": "45f93e39",
   "metadata": {},
   "outputs": [
    {
     "data": {
      "text/plain": [
       "True"
      ]
     },
     "execution_count": 126,
     "metadata": {},
     "output_type": "execute_result"
    }
   ],
   "source": [
    "'H' and 'l' in s1"
   ]
  },
  {
   "cell_type": "code",
   "execution_count": 127,
   "id": "cdb95818",
   "metadata": {},
   "outputs": [
    {
     "data": {
      "text/plain": [
       "True"
      ]
     },
     "execution_count": 127,
     "metadata": {},
     "output_type": "execute_result"
    }
   ],
   "source": [
    "'H' in s1 and 'l' in s1"
   ]
  },
  {
   "cell_type": "code",
   "execution_count": 128,
   "id": "d51b9f75",
   "metadata": {},
   "outputs": [
    {
     "data": {
      "text/plain": [
       "True"
      ]
     },
     "execution_count": 128,
     "metadata": {},
     "output_type": "execute_result"
    }
   ],
   "source": [
    "'h' and 'l' in s1"
   ]
  },
  {
   "cell_type": "code",
   "execution_count": 129,
   "id": "4822be17",
   "metadata": {},
   "outputs": [
    {
     "data": {
      "text/plain": [
       "False"
      ]
     },
     "execution_count": 129,
     "metadata": {},
     "output_type": "execute_result"
    }
   ],
   "source": [
    "'h' in s1 and 'l' in s1"
   ]
  },
  {
   "cell_type": "code",
   "execution_count": 130,
   "id": "da28e13a",
   "metadata": {},
   "outputs": [
    {
     "data": {
      "text/plain": [
       "True"
      ]
     },
     "execution_count": 130,
     "metadata": {},
     "output_type": "execute_result"
    }
   ],
   "source": [
    "'h' in s1 or 'l' in s1"
   ]
  },
  {
   "cell_type": "code",
   "execution_count": null,
   "id": "ecd91164",
   "metadata": {},
   "outputs": [],
   "source": []
  },
  {
   "cell_type": "code",
   "execution_count": 131,
   "id": "92a9239e",
   "metadata": {},
   "outputs": [],
   "source": [
    "# not in\n",
    "# returns True if the item is NOT present in a collection, else returns False"
   ]
  },
  {
   "cell_type": "code",
   "execution_count": 132,
   "id": "9511be2f",
   "metadata": {},
   "outputs": [
    {
     "data": {
      "text/plain": [
       "[10, 4, 0, -4, 7]"
      ]
     },
     "execution_count": 132,
     "metadata": {},
     "output_type": "execute_result"
    }
   ],
   "source": [
    "l1"
   ]
  },
  {
   "cell_type": "code",
   "execution_count": 133,
   "id": "b502b3a9",
   "metadata": {},
   "outputs": [
    {
     "data": {
      "text/plain": [
       "True"
      ]
     },
     "execution_count": 133,
     "metadata": {},
     "output_type": "execute_result"
    }
   ],
   "source": [
    "-1 not in l1"
   ]
  },
  {
   "cell_type": "code",
   "execution_count": 134,
   "id": "5bb597b2",
   "metadata": {},
   "outputs": [
    {
     "data": {
      "text/plain": [
       "False"
      ]
     },
     "execution_count": 134,
     "metadata": {},
     "output_type": "execute_result"
    }
   ],
   "source": [
    "10 not in l1"
   ]
  },
  {
   "cell_type": "code",
   "execution_count": 135,
   "id": "1276c93a",
   "metadata": {},
   "outputs": [
    {
     "data": {
      "text/plain": [
       "'Hello World'"
      ]
     },
     "execution_count": 135,
     "metadata": {},
     "output_type": "execute_result"
    }
   ],
   "source": [
    "s1"
   ]
  },
  {
   "cell_type": "code",
   "execution_count": 136,
   "id": "4c48c669",
   "metadata": {},
   "outputs": [
    {
     "data": {
      "text/plain": [
       "True"
      ]
     },
     "execution_count": 136,
     "metadata": {},
     "output_type": "execute_result"
    }
   ],
   "source": [
    "'z' not in s1"
   ]
  },
  {
   "cell_type": "code",
   "execution_count": 137,
   "id": "fe5abeba",
   "metadata": {},
   "outputs": [
    {
     "data": {
      "text/plain": [
       "False"
      ]
     },
     "execution_count": 137,
     "metadata": {},
     "output_type": "execute_result"
    }
   ],
   "source": [
    "'W' not in s1"
   ]
  },
  {
   "cell_type": "code",
   "execution_count": null,
   "id": "37616b0c",
   "metadata": {},
   "outputs": [],
   "source": []
  },
  {
   "cell_type": "code",
   "execution_count": 138,
   "id": "38356b28",
   "metadata": {},
   "outputs": [],
   "source": [
    "set1 = {10, 1, 6}"
   ]
  },
  {
   "cell_type": "code",
   "execution_count": 139,
   "id": "d898c019",
   "metadata": {},
   "outputs": [
    {
     "data": {
      "text/plain": [
       "{1, 6, 10}"
      ]
     },
     "execution_count": 139,
     "metadata": {},
     "output_type": "execute_result"
    }
   ],
   "source": [
    "set1"
   ]
  },
  {
   "cell_type": "code",
   "execution_count": 140,
   "id": "6b371e5e",
   "metadata": {},
   "outputs": [
    {
     "data": {
      "text/plain": [
       "True"
      ]
     },
     "execution_count": 140,
     "metadata": {},
     "output_type": "execute_result"
    }
   ],
   "source": [
    "True in set1"
   ]
  },
  {
   "cell_type": "code",
   "execution_count": null,
   "id": "41fdc883",
   "metadata": {},
   "outputs": [],
   "source": []
  },
  {
   "cell_type": "code",
   "execution_count": 141,
   "id": "d7725393",
   "metadata": {},
   "outputs": [],
   "source": [
    "# Identity Operator\n",
    "# compares the memory addresses of 2 operands"
   ]
  },
  {
   "cell_type": "code",
   "execution_count": 142,
   "id": "cc4685f1",
   "metadata": {},
   "outputs": [],
   "source": [
    "a = 1000"
   ]
  },
  {
   "cell_type": "code",
   "execution_count": 143,
   "id": "ffc1ed29",
   "metadata": {},
   "outputs": [],
   "source": [
    "b = 1000"
   ]
  },
  {
   "cell_type": "code",
   "execution_count": 144,
   "id": "7e8756eb",
   "metadata": {},
   "outputs": [
    {
     "data": {
      "text/plain": [
       "False"
      ]
     },
     "execution_count": 144,
     "metadata": {},
     "output_type": "execute_result"
    }
   ],
   "source": [
    "id(a) == id(b)"
   ]
  },
  {
   "cell_type": "code",
   "execution_count": 145,
   "id": "af8cfb55",
   "metadata": {},
   "outputs": [],
   "source": [
    "# is\n",
    "# returns True if the memory addresses of the operands are same, else returns False"
   ]
  },
  {
   "cell_type": "code",
   "execution_count": 146,
   "id": "e2da7c2a",
   "metadata": {},
   "outputs": [
    {
     "data": {
      "text/plain": [
       "False"
      ]
     },
     "execution_count": 146,
     "metadata": {},
     "output_type": "execute_result"
    }
   ],
   "source": [
    "a is b"
   ]
  },
  {
   "cell_type": "code",
   "execution_count": 147,
   "id": "08788569",
   "metadata": {},
   "outputs": [],
   "source": [
    "x = 10"
   ]
  },
  {
   "cell_type": "code",
   "execution_count": 148,
   "id": "1aa2c744",
   "metadata": {},
   "outputs": [],
   "source": [
    "y = 10"
   ]
  },
  {
   "cell_type": "code",
   "execution_count": 149,
   "id": "c947c1ae",
   "metadata": {},
   "outputs": [
    {
     "data": {
      "text/plain": [
       "True"
      ]
     },
     "execution_count": 149,
     "metadata": {},
     "output_type": "execute_result"
    }
   ],
   "source": [
    "x is y"
   ]
  },
  {
   "cell_type": "code",
   "execution_count": 150,
   "id": "72a18849",
   "metadata": {},
   "outputs": [
    {
     "data": {
      "text/plain": [
       "140726196409416"
      ]
     },
     "execution_count": 150,
     "metadata": {},
     "output_type": "execute_result"
    }
   ],
   "source": [
    "id(x)"
   ]
  },
  {
   "cell_type": "code",
   "execution_count": 151,
   "id": "f5438cda",
   "metadata": {},
   "outputs": [
    {
     "data": {
      "text/plain": [
       "140726196409416"
      ]
     },
     "execution_count": 151,
     "metadata": {},
     "output_type": "execute_result"
    }
   ],
   "source": [
    "id(y)"
   ]
  },
  {
   "cell_type": "code",
   "execution_count": null,
   "id": "d002082e",
   "metadata": {},
   "outputs": [],
   "source": []
  },
  {
   "cell_type": "code",
   "execution_count": 152,
   "id": "4ed4a6e4",
   "metadata": {},
   "outputs": [],
   "source": [
    "# is not\n",
    "# returns True if the memory addresses of the operands are DIFFERENT, else returns False"
   ]
  },
  {
   "cell_type": "code",
   "execution_count": 153,
   "id": "f539b604",
   "metadata": {},
   "outputs": [
    {
     "data": {
      "text/plain": [
       "True"
      ]
     },
     "execution_count": 153,
     "metadata": {},
     "output_type": "execute_result"
    }
   ],
   "source": [
    "a is not b"
   ]
  },
  {
   "cell_type": "code",
   "execution_count": 154,
   "id": "4094c511",
   "metadata": {},
   "outputs": [
    {
     "data": {
      "text/plain": [
       "False"
      ]
     },
     "execution_count": 154,
     "metadata": {},
     "output_type": "execute_result"
    }
   ],
   "source": [
    "x is not y"
   ]
  },
  {
   "cell_type": "code",
   "execution_count": null,
   "id": "979bc57c",
   "metadata": {},
   "outputs": [],
   "source": []
  },
  {
   "cell_type": "code",
   "execution_count": 156,
   "id": "c511f53b",
   "metadata": {},
   "outputs": [
    {
     "data": {
      "text/plain": [
       "True"
      ]
     },
     "execution_count": 156,
     "metadata": {},
     "output_type": "execute_result"
    }
   ],
   "source": [
    "a == b"
   ]
  },
  {
   "cell_type": "code",
   "execution_count": null,
   "id": "ec5458b2",
   "metadata": {},
   "outputs": [],
   "source": []
  },
  {
   "cell_type": "code",
   "execution_count": 157,
   "id": "6e13957f",
   "metadata": {},
   "outputs": [
    {
     "data": {
      "text/plain": [
       "10"
      ]
     },
     "execution_count": 157,
     "metadata": {},
     "output_type": "execute_result"
    }
   ],
   "source": [
    "10 or 20 + 30"
   ]
  },
  {
   "cell_type": "code",
   "execution_count": 158,
   "id": "5066c844",
   "metadata": {},
   "outputs": [
    {
     "data": {
      "text/plain": [
       "50"
      ]
     },
     "execution_count": 158,
     "metadata": {},
     "output_type": "execute_result"
    }
   ],
   "source": [
    "10 and 20 + 30"
   ]
  },
  {
   "cell_type": "code",
   "execution_count": 159,
   "id": "bc9a26bc",
   "metadata": {},
   "outputs": [
    {
     "data": {
      "text/plain": [
       "20"
      ]
     },
     "execution_count": 159,
     "metadata": {},
     "output_type": "execute_result"
    }
   ],
   "source": [
    "10 + 2 * 5"
   ]
  },
  {
   "cell_type": "code",
   "execution_count": 160,
   "id": "6e6d1ff7",
   "metadata": {},
   "outputs": [
    {
     "data": {
      "text/plain": [
       "10"
      ]
     },
     "execution_count": 160,
     "metadata": {},
     "output_type": "execute_result"
    }
   ],
   "source": [
    "10 or 20 + 30\n",
    "\n",
    "# or first => 10 + 30 => 40\n",
    "# + first => 10 or 50 => 10"
   ]
  },
  {
   "cell_type": "code",
   "execution_count": 161,
   "id": "3353abcd",
   "metadata": {},
   "outputs": [
    {
     "data": {
      "text/plain": [
       "50"
      ]
     },
     "execution_count": 161,
     "metadata": {},
     "output_type": "execute_result"
    }
   ],
   "source": [
    "10 and 20 + 30\n",
    "\n",
    "# 10 and 50\n",
    "# 50"
   ]
  },
  {
   "cell_type": "code",
   "execution_count": 162,
   "id": "ed39bf35",
   "metadata": {},
   "outputs": [],
   "source": [
    "# Precedence\n",
    "# If there are more than 1 operation, Python priorties the order of the execution of operators"
   ]
  },
  {
   "cell_type": "code",
   "execution_count": 163,
   "id": "8d1212f4",
   "metadata": {},
   "outputs": [],
   "source": [
    "# Precedence\n",
    "# () Parenthesis\n",
    "# ** Exponentiation\n",
    "# -,~ Unary minus, Bitwise complement\n",
    "# *,/,//,% Multiplication, Division, Floor division, Modulus\n",
    "# +,- Addition, Subtraction\n",
    "# <<,>> Bitwise left shift, Bitwise right shift\n",
    "# & Bitwise AND\n",
    "# ^ Bitwise XOR\n",
    "# | Bitwise OR\n",
    "# >,>=,<,<=,==,!= Relational (comparison) operators\n",
    "# =,%=,/=,//=,-=, +=,*=,**= Assignment operators\n",
    "# is,is not Identity operators\n",
    "# in,not in Membership operators\n",
    "# not Logical not\n",
    "# or Logical or\n",
    "# and Logical and"
   ]
  },
  {
   "cell_type": "code",
   "execution_count": null,
   "id": "9452b5f6",
   "metadata": {},
   "outputs": [],
   "source": []
  },
  {
   "cell_type": "code",
   "execution_count": 164,
   "id": "9887c2d7",
   "metadata": {},
   "outputs": [
    {
     "data": {
      "text/plain": [
       "10.0"
      ]
     },
     "execution_count": 164,
     "metadata": {},
     "output_type": "execute_result"
    }
   ],
   "source": [
    "10 / 10 * 10\n",
    "# 1.0 * 10"
   ]
  },
  {
   "cell_type": "code",
   "execution_count": 166,
   "id": "aa05a585",
   "metadata": {},
   "outputs": [
    {
     "data": {
      "text/plain": [
       "2"
      ]
     },
     "execution_count": 166,
     "metadata": {},
     "output_type": "execute_result"
    }
   ],
   "source": [
    "2 ** 1 ** 3\n",
    "\n",
    "# left to right => 2 ** 3 => 8\n",
    "# right to left => 2 ** 1 => 2"
   ]
  },
  {
   "cell_type": "code",
   "execution_count": 167,
   "id": "dec1ee35",
   "metadata": {},
   "outputs": [],
   "source": [
    "# If the precedence of 2 operators are same, then associativity will decide whether that expresion will be evaluated\n",
    "# from left to right or right to left!!!!"
   ]
  },
  {
   "cell_type": "code",
   "execution_count": 168,
   "id": "c6c03866",
   "metadata": {},
   "outputs": [],
   "source": [
    "# Associativity"
   ]
  },
  {
   "cell_type": "code",
   "execution_count": 169,
   "id": "ce8d88e7",
   "metadata": {},
   "outputs": [],
   "source": [
    "# Operator\tDescription\t  Associativity\n",
    "# ( )\tParentheses  \tleft-to-right\n",
    "# **\tExponent \tright-to-left\n",
    "# *  /  %\tMultiplication/division/modulus\tleft-to-right\n",
    "# +  –\tAddition/subtraction\tleft-to-right\n",
    "# <<  >>\tBitwise shift left, Bitwise shift right\tleft-to-right\n",
    "# <  <= \n",
    "# >  >=\tRelational less than/less than or equal to \n",
    "# Relational greater than/greater  than or equal to\tleft-to-right\n",
    "# ==  !=\tRelational is equal to/is not equal to\tleft-to-right\n",
    "# is,  is not, in, not in => left-to-right\n",
    "\n",
    "# &\tBitwise AND\tleft-to-right\n",
    "# ^\tBitwise exclusive OR\tleft-to-right\n",
    "# |\tBitwise inclusive OR\tleft-to-right\n",
    "# not\tLogical NOT\tright-to-left\n",
    "# and\tLogical AND\tleft-to-right\n",
    "# or\tLogical OR\tleft-to-right\n",
    "# = \n",
    "# +=  -= \n",
    "# *=  /= \n",
    "# %=  &= \n",
    "# ^=  |= \n",
    "# <<=  >>=\tAssignment \n",
    "# Addition/subtraction assignment \n",
    "# Multiplication/division assignment \n",
    "# Modulus/bitwise AND assignment \n",
    "# Bitwise exclusive/inclusive OR assignment \n",
    "# Bitwise shift left/right assignment\tright-to-left"
   ]
  },
  {
   "cell_type": "code",
   "execution_count": 170,
   "id": "4e991142",
   "metadata": {},
   "outputs": [
    {
     "data": {
      "text/plain": [
       "1.0"
      ]
     },
     "execution_count": 170,
     "metadata": {},
     "output_type": "execute_result"
    }
   ],
   "source": [
    "6 / 2 % 2"
   ]
  },
  {
   "cell_type": "code",
   "execution_count": null,
   "id": "a2bb8d53",
   "metadata": {},
   "outputs": [],
   "source": []
  }
 ],
 "metadata": {
  "kernelspec": {
   "display_name": "Python 3 (ipykernel)",
   "language": "python",
   "name": "python3"
  },
  "language_info": {
   "codemirror_mode": {
    "name": "ipython",
    "version": 3
   },
   "file_extension": ".py",
   "mimetype": "text/x-python",
   "name": "python",
   "nbconvert_exporter": "python",
   "pygments_lexer": "ipython3",
   "version": "3.11.4"
  }
 },
 "nbformat": 4,
 "nbformat_minor": 5
}
