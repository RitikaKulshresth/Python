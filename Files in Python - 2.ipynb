{
 "cells": [
  {
   "cell_type": "code",
   "execution_count": 1,
   "id": "61f0f8d0",
   "metadata": {},
   "outputs": [],
   "source": [
    "l1 = [10, 20, 30]"
   ]
  },
  {
   "cell_type": "code",
   "execution_count": 2,
   "id": "23a64a12",
   "metadata": {},
   "outputs": [],
   "source": [
    "fh = open('file5', 'xt')"
   ]
  },
  {
   "cell_type": "code",
   "execution_count": 3,
   "id": "ae9ad63e",
   "metadata": {},
   "outputs": [
    {
     "ename": "TypeError",
     "evalue": "write() argument must be str, not list",
     "output_type": "error",
     "traceback": [
      "\u001b[1;31m---------------------------------------------------------------------------\u001b[0m",
      "\u001b[1;31mTypeError\u001b[0m                                 Traceback (most recent call last)",
      "Cell \u001b[1;32mIn[3], line 1\u001b[0m\n\u001b[1;32m----> 1\u001b[0m fh\u001b[38;5;241m.\u001b[39mwrite(l1)\n",
      "\u001b[1;31mTypeError\u001b[0m: write() argument must be str, not list"
     ]
    }
   ],
   "source": [
    "fh.write(l1)"
   ]
  },
  {
   "cell_type": "code",
   "execution_count": 4,
   "id": "bcf99768",
   "metadata": {},
   "outputs": [
    {
     "ename": "TypeError",
     "evalue": "write() argument must be str, not int",
     "output_type": "error",
     "traceback": [
      "\u001b[1;31m---------------------------------------------------------------------------\u001b[0m",
      "\u001b[1;31mTypeError\u001b[0m                                 Traceback (most recent call last)",
      "Cell \u001b[1;32mIn[4], line 1\u001b[0m\n\u001b[1;32m----> 1\u001b[0m fh\u001b[38;5;241m.\u001b[39mwrite(\u001b[38;5;241m10\u001b[39m)\n",
      "\u001b[1;31mTypeError\u001b[0m: write() argument must be str, not int"
     ]
    }
   ],
   "source": [
    "fh.write(10)"
   ]
  },
  {
   "cell_type": "code",
   "execution_count": 5,
   "id": "c67ff615",
   "metadata": {},
   "outputs": [],
   "source": [
    "fh.close()"
   ]
  },
  {
   "cell_type": "code",
   "execution_count": 6,
   "id": "b86b8826",
   "metadata": {},
   "outputs": [
    {
     "ename": "FileExistsError",
     "evalue": "[Errno 17] File exists: 'file5'",
     "output_type": "error",
     "traceback": [
      "\u001b[1;31m---------------------------------------------------------------------------\u001b[0m",
      "\u001b[1;31mFileExistsError\u001b[0m                           Traceback (most recent call last)",
      "Cell \u001b[1;32mIn[6], line 1\u001b[0m\n\u001b[1;32m----> 1\u001b[0m fh \u001b[38;5;241m=\u001b[39m \u001b[38;5;28mopen\u001b[39m(\u001b[38;5;124m'\u001b[39m\u001b[38;5;124mfile5\u001b[39m\u001b[38;5;124m'\u001b[39m, \u001b[38;5;124m'\u001b[39m\u001b[38;5;124mxb\u001b[39m\u001b[38;5;124m'\u001b[39m)\n",
      "File \u001b[1;32m~\\anaconda3\\Lib\\site-packages\\IPython\\core\\interactiveshell.py:284\u001b[0m, in \u001b[0;36m_modified_open\u001b[1;34m(file, *args, **kwargs)\u001b[0m\n\u001b[0;32m    277\u001b[0m \u001b[38;5;28;01mif\u001b[39;00m file \u001b[38;5;129;01min\u001b[39;00m {\u001b[38;5;241m0\u001b[39m, \u001b[38;5;241m1\u001b[39m, \u001b[38;5;241m2\u001b[39m}:\n\u001b[0;32m    278\u001b[0m     \u001b[38;5;28;01mraise\u001b[39;00m \u001b[38;5;167;01mValueError\u001b[39;00m(\n\u001b[0;32m    279\u001b[0m         \u001b[38;5;124mf\u001b[39m\u001b[38;5;124m\"\u001b[39m\u001b[38;5;124mIPython won\u001b[39m\u001b[38;5;124m'\u001b[39m\u001b[38;5;124mt let you open fd=\u001b[39m\u001b[38;5;132;01m{\u001b[39;00mfile\u001b[38;5;132;01m}\u001b[39;00m\u001b[38;5;124m by default \u001b[39m\u001b[38;5;124m\"\u001b[39m\n\u001b[0;32m    280\u001b[0m         \u001b[38;5;124m\"\u001b[39m\u001b[38;5;124mas it is likely to crash IPython. If you know what you are doing, \u001b[39m\u001b[38;5;124m\"\u001b[39m\n\u001b[0;32m    281\u001b[0m         \u001b[38;5;124m\"\u001b[39m\u001b[38;5;124myou can use builtins\u001b[39m\u001b[38;5;124m'\u001b[39m\u001b[38;5;124m open.\u001b[39m\u001b[38;5;124m\"\u001b[39m\n\u001b[0;32m    282\u001b[0m     )\n\u001b[1;32m--> 284\u001b[0m \u001b[38;5;28;01mreturn\u001b[39;00m io_open(file, \u001b[38;5;241m*\u001b[39margs, \u001b[38;5;241m*\u001b[39m\u001b[38;5;241m*\u001b[39mkwargs)\n",
      "\u001b[1;31mFileExistsError\u001b[0m: [Errno 17] File exists: 'file5'"
     ]
    }
   ],
   "source": [
    "fh = open('file5', 'xb')"
   ]
  },
  {
   "cell_type": "code",
   "execution_count": 7,
   "id": "73fdd32d",
   "metadata": {},
   "outputs": [],
   "source": [
    "fh = open('file6', 'xb')"
   ]
  },
  {
   "cell_type": "code",
   "execution_count": 8,
   "id": "0581d3f9",
   "metadata": {},
   "outputs": [
    {
     "ename": "TypeError",
     "evalue": "a bytes-like object is required, not 'list'",
     "output_type": "error",
     "traceback": [
      "\u001b[1;31m---------------------------------------------------------------------------\u001b[0m",
      "\u001b[1;31mTypeError\u001b[0m                                 Traceback (most recent call last)",
      "Cell \u001b[1;32mIn[8], line 1\u001b[0m\n\u001b[1;32m----> 1\u001b[0m fh\u001b[38;5;241m.\u001b[39mwrite(l1)\n",
      "\u001b[1;31mTypeError\u001b[0m: a bytes-like object is required, not 'list'"
     ]
    }
   ],
   "source": [
    "fh.write(l1)"
   ]
  },
  {
   "cell_type": "code",
   "execution_count": 9,
   "id": "391d89cc",
   "metadata": {},
   "outputs": [],
   "source": [
    "fh.close()"
   ]
  },
  {
   "cell_type": "code",
   "execution_count": null,
   "id": "d5e8a2fc",
   "metadata": {},
   "outputs": [],
   "source": []
  },
  {
   "cell_type": "code",
   "execution_count": 10,
   "id": "94a2a3cb",
   "metadata": {},
   "outputs": [],
   "source": [
    "# Pickle"
   ]
  },
  {
   "cell_type": "code",
   "execution_count": 11,
   "id": "f9790c30",
   "metadata": {},
   "outputs": [],
   "source": [
    "# Pickle helps us to store structured data into a binary file"
   ]
  },
  {
   "cell_type": "code",
   "execution_count": 12,
   "id": "8923ceab",
   "metadata": {},
   "outputs": [],
   "source": [
    "# This is also called serialization"
   ]
  },
  {
   "cell_type": "code",
   "execution_count": 13,
   "id": "54b7f134",
   "metadata": {},
   "outputs": [],
   "source": [
    "# pickle module"
   ]
  },
  {
   "cell_type": "code",
   "execution_count": 14,
   "id": "ad68e321",
   "metadata": {},
   "outputs": [],
   "source": [
    "import pickle"
   ]
  },
  {
   "cell_type": "code",
   "execution_count": 15,
   "id": "19f733a4",
   "metadata": {},
   "outputs": [],
   "source": [
    "student1 = {'roll': 12345, 'name': 'John', 'percent': 78.5}"
   ]
  },
  {
   "cell_type": "code",
   "execution_count": 16,
   "id": "2bcac47e",
   "metadata": {},
   "outputs": [
    {
     "data": {
      "text/plain": [
       "{'roll': 12345, 'name': 'John', 'percent': 78.5}"
      ]
     },
     "execution_count": 16,
     "metadata": {},
     "output_type": "execute_result"
    }
   ],
   "source": [
    "student1"
   ]
  },
  {
   "cell_type": "code",
   "execution_count": 17,
   "id": "45c2113c",
   "metadata": {},
   "outputs": [],
   "source": [
    "fh = open('student1.bin', 'xb')\n",
    "pickle.dump(student1, fh)\n",
    "fh.close()"
   ]
  },
  {
   "cell_type": "code",
   "execution_count": 18,
   "id": "3dc37fb7",
   "metadata": {},
   "outputs": [],
   "source": [
    "fh = open('student1.bin', 'rb')"
   ]
  },
  {
   "cell_type": "code",
   "execution_count": 19,
   "id": "ea059aa6",
   "metadata": {},
   "outputs": [
    {
     "data": {
      "text/plain": [
       "b'\\x80\\x04\\x950\\x00\\x00\\x00\\x00\\x00\\x00\\x00}\\x94(\\x8c\\x04roll\\x94M90\\x8c\\x04name\\x94\\x8c\\x04John\\x94\\x8c\\x07percent\\x94G@S\\xa0\\x00\\x00\\x00\\x00\\x00u.'"
      ]
     },
     "execution_count": 19,
     "metadata": {},
     "output_type": "execute_result"
    }
   ],
   "source": [
    "fh.read()"
   ]
  },
  {
   "cell_type": "code",
   "execution_count": 20,
   "id": "66329f69",
   "metadata": {},
   "outputs": [],
   "source": [
    "fh.close()"
   ]
  },
  {
   "cell_type": "code",
   "execution_count": null,
   "id": "bbdf558f",
   "metadata": {},
   "outputs": [],
   "source": []
  },
  {
   "cell_type": "code",
   "execution_count": 21,
   "id": "f19c70dc",
   "metadata": {},
   "outputs": [],
   "source": [
    "# Unpickle"
   ]
  },
  {
   "cell_type": "code",
   "execution_count": 22,
   "id": "3841a7b6",
   "metadata": {},
   "outputs": [],
   "source": [
    "# ALso called deserialization"
   ]
  },
  {
   "cell_type": "code",
   "execution_count": 23,
   "id": "4b4e915d",
   "metadata": {},
   "outputs": [],
   "source": [
    "fh = open('student1.bin', 'rb')\n",
    "res = pickle.load(fh)\n",
    "fh.close()"
   ]
  },
  {
   "cell_type": "code",
   "execution_count": 24,
   "id": "9c804374",
   "metadata": {},
   "outputs": [
    {
     "data": {
      "text/plain": [
       "{'roll': 12345, 'name': 'John', 'percent': 78.5}"
      ]
     },
     "execution_count": 24,
     "metadata": {},
     "output_type": "execute_result"
    }
   ],
   "source": [
    "res"
   ]
  },
  {
   "cell_type": "code",
   "execution_count": 25,
   "id": "e8face22",
   "metadata": {},
   "outputs": [
    {
     "data": {
      "text/plain": [
       "dict"
      ]
     },
     "execution_count": 25,
     "metadata": {},
     "output_type": "execute_result"
    }
   ],
   "source": [
    "type(res)"
   ]
  },
  {
   "cell_type": "code",
   "execution_count": 26,
   "id": "6668fdac",
   "metadata": {},
   "outputs": [],
   "source": [
    "fh = open('student1.bin', 'rb')"
   ]
  },
  {
   "cell_type": "code",
   "execution_count": 27,
   "id": "e7f4896d",
   "metadata": {},
   "outputs": [
    {
     "data": {
      "text/plain": [
       "b'\\x80\\x04\\x950\\x00\\x00\\x00\\x00\\x00\\x00\\x00}\\x94(\\x8c\\x04roll\\x94M90\\x8c\\x04name\\x94\\x8c\\x04John\\x94\\x8c\\x07percent\\x94G@S\\xa0\\x00\\x00\\x00\\x00\\x00u.'"
      ]
     },
     "execution_count": 27,
     "metadata": {},
     "output_type": "execute_result"
    }
   ],
   "source": [
    "fh.read()"
   ]
  },
  {
   "cell_type": "code",
   "execution_count": 28,
   "id": "4427ee14",
   "metadata": {},
   "outputs": [],
   "source": [
    "fh.close()"
   ]
  },
  {
   "cell_type": "code",
   "execution_count": null,
   "id": "2f7e9f34",
   "metadata": {},
   "outputs": [],
   "source": []
  },
  {
   "cell_type": "code",
   "execution_count": 30,
   "id": "e9842e01",
   "metadata": {},
   "outputs": [],
   "source": [
    "# WAP to store info of 3 students in a binary file\n",
    "# take the input from the user as a dictionary - roll, name and percent"
   ]
  },
  {
   "cell_type": "code",
   "execution_count": 31,
   "id": "4e8f2e93",
   "metadata": {},
   "outputs": [
    {
     "name": "stdout",
     "output_type": "stream",
     "text": [
      "Enter the details of the student. eg: {'roll': 123, 'name': 'John', 'percent': 78.5}: {'roll': 111, 'name': 'Jill', 'percent': 88.5}\n",
      "Enter the details of the student. eg: {'roll': 123, 'name': 'John', 'percent': 78.5}: {'roll': 121, 'name': 'Jack', 'percent': 81.0} \n",
      "Enter the details of the student. eg: {'roll': 123, 'name': 'John', 'percent': 78.5}: {'roll': 100, 'name': 'Dan', 'percent': 68.5}\n"
     ]
    }
   ],
   "source": [
    "fh = open('students.bin', 'xb')\n",
    "\n",
    "for i in range(3):\n",
    "    details = eval(input(\"Enter the details of the student. eg: {'roll': 123, 'name': 'John', 'percent': 78.5}: \"))\n",
    "    pickle.dump(details, fh)\n",
    "    \n",
    "fh.close()"
   ]
  },
  {
   "cell_type": "code",
   "execution_count": 32,
   "id": "e95d42bb",
   "metadata": {},
   "outputs": [],
   "source": [
    "fh = open('students.bin', 'rb')"
   ]
  },
  {
   "cell_type": "code",
   "execution_count": 33,
   "id": "06b25b53",
   "metadata": {},
   "outputs": [
    {
     "data": {
      "text/plain": [
       "b'\\x80\\x04\\x95/\\x00\\x00\\x00\\x00\\x00\\x00\\x00}\\x94(\\x8c\\x04roll\\x94Ko\\x8c\\x04name\\x94\\x8c\\x04Jill\\x94\\x8c\\x07percent\\x94G@V \\x00\\x00\\x00\\x00\\x00u.\\x80\\x04\\x95/\\x00\\x00\\x00\\x00\\x00\\x00\\x00}\\x94(\\x8c\\x04roll\\x94Ky\\x8c\\x04name\\x94\\x8c\\x04Jack\\x94\\x8c\\x07percent\\x94G@T@\\x00\\x00\\x00\\x00\\x00u.\\x80\\x04\\x95.\\x00\\x00\\x00\\x00\\x00\\x00\\x00}\\x94(\\x8c\\x04roll\\x94Kd\\x8c\\x04name\\x94\\x8c\\x03Dan\\x94\\x8c\\x07percent\\x94G@Q \\x00\\x00\\x00\\x00\\x00u.'"
      ]
     },
     "execution_count": 33,
     "metadata": {},
     "output_type": "execute_result"
    }
   ],
   "source": [
    "fh.read()"
   ]
  },
  {
   "cell_type": "code",
   "execution_count": 34,
   "id": "ae4d7aac",
   "metadata": {},
   "outputs": [],
   "source": [
    "fh.close()"
   ]
  },
  {
   "cell_type": "code",
   "execution_count": null,
   "id": "f46ccdf9",
   "metadata": {},
   "outputs": [],
   "source": []
  },
  {
   "cell_type": "code",
   "execution_count": 35,
   "id": "19c9b148",
   "metadata": {},
   "outputs": [],
   "source": [
    "# Display the student name if the student has got more than 80% marks"
   ]
  },
  {
   "cell_type": "code",
   "execution_count": 36,
   "id": "1792fda7",
   "metadata": {},
   "outputs": [],
   "source": [
    "fh = open('students.bin', 'rb')"
   ]
  },
  {
   "cell_type": "code",
   "execution_count": 37,
   "id": "a93a5024",
   "metadata": {},
   "outputs": [
    {
     "data": {
      "text/plain": [
       "{'roll': 111, 'name': 'Jill', 'percent': 88.5}"
      ]
     },
     "execution_count": 37,
     "metadata": {},
     "output_type": "execute_result"
    }
   ],
   "source": [
    "pickle.load(fh)"
   ]
  },
  {
   "cell_type": "code",
   "execution_count": 38,
   "id": "3e913825",
   "metadata": {},
   "outputs": [
    {
     "data": {
      "text/plain": [
       "{'roll': 121, 'name': 'Jack', 'percent': 81.0}"
      ]
     },
     "execution_count": 38,
     "metadata": {},
     "output_type": "execute_result"
    }
   ],
   "source": [
    "pickle.load(fh)"
   ]
  },
  {
   "cell_type": "code",
   "execution_count": 39,
   "id": "39893518",
   "metadata": {},
   "outputs": [
    {
     "data": {
      "text/plain": [
       "{'roll': 100, 'name': 'Dan', 'percent': 68.5}"
      ]
     },
     "execution_count": 39,
     "metadata": {},
     "output_type": "execute_result"
    }
   ],
   "source": [
    "pickle.load(fh)"
   ]
  },
  {
   "cell_type": "code",
   "execution_count": 40,
   "id": "38ac7aa6",
   "metadata": {},
   "outputs": [
    {
     "ename": "EOFError",
     "evalue": "Ran out of input",
     "output_type": "error",
     "traceback": [
      "\u001b[1;31m---------------------------------------------------------------------------\u001b[0m",
      "\u001b[1;31mEOFError\u001b[0m                                  Traceback (most recent call last)",
      "Cell \u001b[1;32mIn[40], line 1\u001b[0m\n\u001b[1;32m----> 1\u001b[0m pickle\u001b[38;5;241m.\u001b[39mload(fh)\n",
      "\u001b[1;31mEOFError\u001b[0m: Ran out of input"
     ]
    }
   ],
   "source": [
    "pickle.load(fh)"
   ]
  },
  {
   "cell_type": "code",
   "execution_count": 41,
   "id": "d9e9ca1e",
   "metadata": {},
   "outputs": [],
   "source": [
    "fh.close()"
   ]
  },
  {
   "cell_type": "code",
   "execution_count": null,
   "id": "d7109d9f",
   "metadata": {},
   "outputs": [],
   "source": []
  },
  {
   "cell_type": "code",
   "execution_count": 42,
   "id": "3899f727",
   "metadata": {},
   "outputs": [],
   "source": [
    "fh = open('file1.txt', 'r+t')"
   ]
  },
  {
   "cell_type": "code",
   "execution_count": 43,
   "id": "34795492",
   "metadata": {},
   "outputs": [
    {
     "data": {
      "text/plain": [
       "\"Hi there!\\nWe have used the 'w' mode to overwrite the contents.\\nBye\""
      ]
     },
     "execution_count": 43,
     "metadata": {},
     "output_type": "execute_result"
    }
   ],
   "source": [
    "fh.read()"
   ]
  },
  {
   "cell_type": "code",
   "execution_count": 44,
   "id": "60a4dce6",
   "metadata": {},
   "outputs": [
    {
     "data": {
      "text/plain": [
       "8"
      ]
     },
     "execution_count": 44,
     "metadata": {},
     "output_type": "execute_result"
    }
   ],
   "source": [
    "fh.write(\"HEllOOOO\")"
   ]
  },
  {
   "cell_type": "code",
   "execution_count": 45,
   "id": "1872eb26",
   "metadata": {},
   "outputs": [],
   "source": [
    "fh.close()"
   ]
  },
  {
   "cell_type": "code",
   "execution_count": 46,
   "id": "5de8caad",
   "metadata": {},
   "outputs": [],
   "source": [
    "fh = open('file1.txt', 'rt')"
   ]
  },
  {
   "cell_type": "code",
   "execution_count": 47,
   "id": "80c0fd93",
   "metadata": {},
   "outputs": [
    {
     "ename": "UnsupportedOperation",
     "evalue": "not writable",
     "output_type": "error",
     "traceback": [
      "\u001b[1;31m---------------------------------------------------------------------------\u001b[0m",
      "\u001b[1;31mUnsupportedOperation\u001b[0m                      Traceback (most recent call last)",
      "Cell \u001b[1;32mIn[47], line 1\u001b[0m\n\u001b[1;32m----> 1\u001b[0m fh\u001b[38;5;241m.\u001b[39mwrite(\u001b[38;5;124m\"\u001b[39m\u001b[38;5;124mHi\u001b[39m\u001b[38;5;124m\"\u001b[39m)\n",
      "\u001b[1;31mUnsupportedOperation\u001b[0m: not writable"
     ]
    }
   ],
   "source": [
    "fh.write(\"Hi\")"
   ]
  },
  {
   "cell_type": "code",
   "execution_count": 48,
   "id": "1bbd46a1",
   "metadata": {},
   "outputs": [],
   "source": [
    "fh.close()"
   ]
  },
  {
   "cell_type": "code",
   "execution_count": 49,
   "id": "e58bac74",
   "metadata": {},
   "outputs": [],
   "source": [
    "fh = open('file1.txt', 'at')"
   ]
  },
  {
   "cell_type": "code",
   "execution_count": 50,
   "id": "16c66667",
   "metadata": {},
   "outputs": [
    {
     "ename": "UnsupportedOperation",
     "evalue": "not readable",
     "output_type": "error",
     "traceback": [
      "\u001b[1;31m---------------------------------------------------------------------------\u001b[0m",
      "\u001b[1;31mUnsupportedOperation\u001b[0m                      Traceback (most recent call last)",
      "Cell \u001b[1;32mIn[50], line 1\u001b[0m\n\u001b[1;32m----> 1\u001b[0m fh\u001b[38;5;241m.\u001b[39mread()\n",
      "\u001b[1;31mUnsupportedOperation\u001b[0m: not readable"
     ]
    }
   ],
   "source": [
    "fh.read()"
   ]
  },
  {
   "cell_type": "code",
   "execution_count": 51,
   "id": "5f562687",
   "metadata": {},
   "outputs": [],
   "source": [
    "fh.close()"
   ]
  },
  {
   "cell_type": "code",
   "execution_count": null,
   "id": "69a9c971",
   "metadata": {},
   "outputs": [],
   "source": []
  },
  {
   "cell_type": "code",
   "execution_count": null,
   "id": "7bba4080",
   "metadata": {},
   "outputs": [],
   "source": []
  }
 ],
 "metadata": {
  "kernelspec": {
   "display_name": "Python 3 (ipykernel)",
   "language": "python",
   "name": "python3"
  },
  "language_info": {
   "codemirror_mode": {
    "name": "ipython",
    "version": 3
   },
   "file_extension": ".py",
   "mimetype": "text/x-python",
   "name": "python",
   "nbconvert_exporter": "python",
   "pygments_lexer": "ipython3",
   "version": "3.11.4"
  }
 },
 "nbformat": 4,
 "nbformat_minor": 5
}
