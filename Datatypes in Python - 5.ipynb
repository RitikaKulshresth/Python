{
 "cells": [
  {
   "cell_type": "code",
   "execution_count": 1,
   "id": "7eb3e839",
   "metadata": {},
   "outputs": [],
   "source": [
    "# Doubts"
   ]
  },
  {
   "cell_type": "code",
   "execution_count": 2,
   "id": "d9435c22",
   "metadata": {},
   "outputs": [
    {
     "name": "stdout",
     "output_type": "stream",
     "text": [
      "False\n"
     ]
    }
   ],
   "source": [
    "print ('P' in [10,10.20,10+20j,'Python']) "
   ]
  },
  {
   "cell_type": "code",
   "execution_count": 3,
   "id": "d1cd314a",
   "metadata": {},
   "outputs": [],
   "source": [
    "l1 = [10,10.20,10+20j,'Python']"
   ]
  },
  {
   "cell_type": "code",
   "execution_count": 4,
   "id": "4e21800e",
   "metadata": {},
   "outputs": [
    {
     "data": {
      "text/plain": [
       "[10, 10.2, (10+20j), 'Python']"
      ]
     },
     "execution_count": 4,
     "metadata": {},
     "output_type": "execute_result"
    }
   ],
   "source": [
    "l1"
   ]
  },
  {
   "cell_type": "code",
   "execution_count": 5,
   "id": "9b069f9c",
   "metadata": {},
   "outputs": [
    {
     "data": {
      "text/plain": [
       "False"
      ]
     },
     "execution_count": 5,
     "metadata": {},
     "output_type": "execute_result"
    }
   ],
   "source": [
    "'P' in l1"
   ]
  },
  {
   "cell_type": "code",
   "execution_count": 6,
   "id": "e4604a1c",
   "metadata": {},
   "outputs": [
    {
     "data": {
      "text/plain": [
       "'Python'"
      ]
     },
     "execution_count": 6,
     "metadata": {},
     "output_type": "execute_result"
    }
   ],
   "source": [
    "l1[-1]"
   ]
  },
  {
   "cell_type": "code",
   "execution_count": 7,
   "id": "0b32d336",
   "metadata": {},
   "outputs": [
    {
     "data": {
      "text/plain": [
       "True"
      ]
     },
     "execution_count": 7,
     "metadata": {},
     "output_type": "execute_result"
    }
   ],
   "source": [
    "'P' in l1[-1]"
   ]
  },
  {
   "cell_type": "code",
   "execution_count": null,
   "id": "4ded25c1",
   "metadata": {},
   "outputs": [],
   "source": []
  },
  {
   "cell_type": "code",
   "execution_count": 8,
   "id": "d03ec6a5",
   "metadata": {},
   "outputs": [],
   "source": [
    "# Dictionary\n",
    "# comma separated collection of ley-value pairs enclosed within {}\n",
    "# {key1:value1, key2:value2, ......}\n",
    "\n",
    "# No indexing\n",
    "# We fetch the value using the key\n",
    "\n",
    "# Mutable\n",
    "# Keys should be unique (non-duplicate), Values can be duplicate\n",
    "# Keys should be only immutable datatypes\n",
    "# Values can be any datatype"
   ]
  },
  {
   "cell_type": "code",
   "execution_count": 9,
   "id": "467ed6dc",
   "metadata": {},
   "outputs": [],
   "source": [
    "student1 = {'rollno': 1234, 'name': 'Jill', 'percent': 89.5}"
   ]
  },
  {
   "cell_type": "code",
   "execution_count": 10,
   "id": "b61c0c78",
   "metadata": {},
   "outputs": [
    {
     "data": {
      "text/plain": [
       "dict"
      ]
     },
     "execution_count": 10,
     "metadata": {},
     "output_type": "execute_result"
    }
   ],
   "source": [
    "type(student1)"
   ]
  },
  {
   "cell_type": "code",
   "execution_count": 11,
   "id": "619b1ee2",
   "metadata": {},
   "outputs": [],
   "source": [
    "# dict => Dictionary datatype"
   ]
  },
  {
   "cell_type": "code",
   "execution_count": 12,
   "id": "625e6ec3",
   "metadata": {},
   "outputs": [
    {
     "data": {
      "text/plain": [
       "{'rollno': 1234, 'name': 'Jill', 'percent': 89.5}"
      ]
     },
     "execution_count": 12,
     "metadata": {},
     "output_type": "execute_result"
    }
   ],
   "source": [
    "student1"
   ]
  },
  {
   "cell_type": "code",
   "execution_count": 13,
   "id": "d92a5bca",
   "metadata": {},
   "outputs": [
    {
     "data": {
      "text/plain": [
       "3"
      ]
     },
     "execution_count": 13,
     "metadata": {},
     "output_type": "execute_result"
    }
   ],
   "source": [
    "len(student1)"
   ]
  },
  {
   "cell_type": "code",
   "execution_count": 14,
   "id": "f02a7ddf",
   "metadata": {},
   "outputs": [
    {
     "ename": "KeyError",
     "evalue": "0",
     "output_type": "error",
     "traceback": [
      "\u001b[1;31m---------------------------------------------------------------------------\u001b[0m",
      "\u001b[1;31mKeyError\u001b[0m                                  Traceback (most recent call last)",
      "Cell \u001b[1;32mIn[14], line 1\u001b[0m\n\u001b[1;32m----> 1\u001b[0m student1[\u001b[38;5;241m0\u001b[39m]\n",
      "\u001b[1;31mKeyError\u001b[0m: 0"
     ]
    }
   ],
   "source": [
    "student1[0]"
   ]
  },
  {
   "cell_type": "code",
   "execution_count": 15,
   "id": "5f4d1df2",
   "metadata": {},
   "outputs": [
    {
     "data": {
      "text/plain": [
       "1234"
      ]
     },
     "execution_count": 15,
     "metadata": {},
     "output_type": "execute_result"
    }
   ],
   "source": [
    "student1['rollno']"
   ]
  },
  {
   "cell_type": "code",
   "execution_count": 16,
   "id": "1843dd0e",
   "metadata": {},
   "outputs": [
    {
     "data": {
      "text/plain": [
       "{'rollno': 1234, 'name': 'Jill', 'percent': 89.5}"
      ]
     },
     "execution_count": 16,
     "metadata": {},
     "output_type": "execute_result"
    }
   ],
   "source": [
    "student1"
   ]
  },
  {
   "cell_type": "code",
   "execution_count": 17,
   "id": "2f7ccf4f",
   "metadata": {},
   "outputs": [
    {
     "data": {
      "text/plain": [
       "89.5"
      ]
     },
     "execution_count": 17,
     "metadata": {},
     "output_type": "execute_result"
    }
   ],
   "source": [
    "student1['percent']"
   ]
  },
  {
   "cell_type": "code",
   "execution_count": 18,
   "id": "ad7fe798",
   "metadata": {},
   "outputs": [
    {
     "data": {
      "text/plain": [
       "'Jill'"
      ]
     },
     "execution_count": 18,
     "metadata": {},
     "output_type": "execute_result"
    }
   ],
   "source": [
    "student1['name']"
   ]
  },
  {
   "cell_type": "code",
   "execution_count": 19,
   "id": "7f842bf6",
   "metadata": {},
   "outputs": [
    {
     "ename": "KeyError",
     "evalue": "'grade'",
     "output_type": "error",
     "traceback": [
      "\u001b[1;31m---------------------------------------------------------------------------\u001b[0m",
      "\u001b[1;31mKeyError\u001b[0m                                  Traceback (most recent call last)",
      "Cell \u001b[1;32mIn[19], line 1\u001b[0m\n\u001b[1;32m----> 1\u001b[0m student1[\u001b[38;5;124m'\u001b[39m\u001b[38;5;124mgrade\u001b[39m\u001b[38;5;124m'\u001b[39m]\n",
      "\u001b[1;31mKeyError\u001b[0m: 'grade'"
     ]
    }
   ],
   "source": [
    "student1['grade']"
   ]
  },
  {
   "cell_type": "code",
   "execution_count": 20,
   "id": "8c2b3051",
   "metadata": {},
   "outputs": [],
   "source": [
    "# If the key is not present in the dictionary and we try to fetch the value of it, Python gives an error"
   ]
  },
  {
   "cell_type": "code",
   "execution_count": 21,
   "id": "b77ec9a8",
   "metadata": {},
   "outputs": [
    {
     "data": {
      "text/plain": [
       "{'rollno': 1234, 'name': 'Jill', 'percent': 89.5}"
      ]
     },
     "execution_count": 21,
     "metadata": {},
     "output_type": "execute_result"
    }
   ],
   "source": [
    "student1"
   ]
  },
  {
   "cell_type": "code",
   "execution_count": 22,
   "id": "2394fa38",
   "metadata": {},
   "outputs": [],
   "source": [
    "student1['percent'] = 88.5"
   ]
  },
  {
   "cell_type": "code",
   "execution_count": 23,
   "id": "553984e7",
   "metadata": {},
   "outputs": [
    {
     "data": {
      "text/plain": [
       "{'rollno': 1234, 'name': 'Jill', 'percent': 88.5}"
      ]
     },
     "execution_count": 23,
     "metadata": {},
     "output_type": "execute_result"
    }
   ],
   "source": [
    "student1"
   ]
  },
  {
   "cell_type": "code",
   "execution_count": 24,
   "id": "1a1f079d",
   "metadata": {},
   "outputs": [],
   "source": [
    "student1['grade'] = 'B'"
   ]
  },
  {
   "cell_type": "code",
   "execution_count": 25,
   "id": "9efc0419",
   "metadata": {},
   "outputs": [
    {
     "data": {
      "text/plain": [
       "{'rollno': 1234, 'name': 'Jill', 'percent': 88.5, 'grade': 'B'}"
      ]
     },
     "execution_count": 25,
     "metadata": {},
     "output_type": "execute_result"
    }
   ],
   "source": [
    "student1"
   ]
  },
  {
   "cell_type": "code",
   "execution_count": null,
   "id": "361f05a5",
   "metadata": {},
   "outputs": [],
   "source": []
  },
  {
   "cell_type": "code",
   "execution_count": 26,
   "id": "5367c35e",
   "metadata": {},
   "outputs": [
    {
     "data": {
      "text/plain": [
       "2859277395136"
      ]
     },
     "execution_count": 26,
     "metadata": {},
     "output_type": "execute_result"
    }
   ],
   "source": [
    "id(student1)"
   ]
  },
  {
   "cell_type": "code",
   "execution_count": 27,
   "id": "8463d18a",
   "metadata": {},
   "outputs": [],
   "source": [
    "student1['city'] = 'Bangalore'"
   ]
  },
  {
   "cell_type": "code",
   "execution_count": 28,
   "id": "ea8d69b3",
   "metadata": {},
   "outputs": [
    {
     "data": {
      "text/plain": [
       "{'rollno': 1234,\n",
       " 'name': 'Jill',\n",
       " 'percent': 88.5,\n",
       " 'grade': 'B',\n",
       " 'city': 'Bangalore'}"
      ]
     },
     "execution_count": 28,
     "metadata": {},
     "output_type": "execute_result"
    }
   ],
   "source": [
    "student1"
   ]
  },
  {
   "cell_type": "code",
   "execution_count": 29,
   "id": "704373bc",
   "metadata": {},
   "outputs": [
    {
     "data": {
      "text/plain": [
       "2859277395136"
      ]
     },
     "execution_count": 29,
     "metadata": {},
     "output_type": "execute_result"
    }
   ],
   "source": [
    "id(student1)"
   ]
  },
  {
   "cell_type": "code",
   "execution_count": null,
   "id": "5ed5a8a7",
   "metadata": {},
   "outputs": [],
   "source": []
  },
  {
   "cell_type": "code",
   "execution_count": 30,
   "id": "d4d0ee31",
   "metadata": {},
   "outputs": [],
   "source": [
    "ascii_pair = {65: 'A', 66: 'B', 97: 'a'}"
   ]
  },
  {
   "cell_type": "code",
   "execution_count": 32,
   "id": "8e5cdd69",
   "metadata": {},
   "outputs": [
    {
     "data": {
      "text/plain": [
       "{65: 'A', 66: 'B', 97: 'a'}"
      ]
     },
     "execution_count": 32,
     "metadata": {},
     "output_type": "execute_result"
    }
   ],
   "source": [
    "ascii_pair"
   ]
  },
  {
   "cell_type": "code",
   "execution_count": 33,
   "id": "70e04135",
   "metadata": {},
   "outputs": [
    {
     "data": {
      "text/plain": [
       "{'rollno': 1234,\n",
       " 'name': 'Jill',\n",
       " 'percent': 88.5,\n",
       " 'grade': 'B',\n",
       " 'city': 'Bangalore'}"
      ]
     },
     "execution_count": 33,
     "metadata": {},
     "output_type": "execute_result"
    }
   ],
   "source": [
    "student1"
   ]
  },
  {
   "cell_type": "code",
   "execution_count": 34,
   "id": "f8b6d771",
   "metadata": {},
   "outputs": [],
   "source": [
    "student1['name'] = 'Jack'"
   ]
  },
  {
   "cell_type": "code",
   "execution_count": 35,
   "id": "94f00add",
   "metadata": {},
   "outputs": [
    {
     "data": {
      "text/plain": [
       "{'rollno': 1234,\n",
       " 'name': 'Jack',\n",
       " 'percent': 88.5,\n",
       " 'grade': 'B',\n",
       " 'city': 'Bangalore'}"
      ]
     },
     "execution_count": 35,
     "metadata": {},
     "output_type": "execute_result"
    }
   ],
   "source": [
    "student1"
   ]
  },
  {
   "cell_type": "code",
   "execution_count": null,
   "id": "0009989c",
   "metadata": {},
   "outputs": [],
   "source": []
  },
  {
   "cell_type": "code",
   "execution_count": 36,
   "id": "483a2284",
   "metadata": {},
   "outputs": [],
   "source": [
    "student2 = {'rollno':1111, 'name':'Carol', 'grade':'A', 'rollno':1123}"
   ]
  },
  {
   "cell_type": "code",
   "execution_count": 37,
   "id": "6bee5931",
   "metadata": {},
   "outputs": [
    {
     "data": {
      "text/plain": [
       "{'rollno': 1123, 'name': 'Carol', 'grade': 'A'}"
      ]
     },
     "execution_count": 37,
     "metadata": {},
     "output_type": "execute_result"
    }
   ],
   "source": [
    "student2"
   ]
  },
  {
   "cell_type": "code",
   "execution_count": null,
   "id": "73db4f50",
   "metadata": {},
   "outputs": [],
   "source": []
  },
  {
   "cell_type": "code",
   "execution_count": 38,
   "id": "94f3dbcb",
   "metadata": {},
   "outputs": [],
   "source": [
    "subjects = {'maths': 90.5, 'physics': 78.0, 'chemistry': 61.0, 'python': 90.5}"
   ]
  },
  {
   "cell_type": "code",
   "execution_count": 39,
   "id": "9b45339b",
   "metadata": {},
   "outputs": [
    {
     "data": {
      "text/plain": [
       "{'maths': 90.5, 'physics': 78.0, 'chemistry': 61.0, 'python': 90.5}"
      ]
     },
     "execution_count": 39,
     "metadata": {},
     "output_type": "execute_result"
    }
   ],
   "source": [
    "subjects"
   ]
  },
  {
   "cell_type": "code",
   "execution_count": null,
   "id": "c24a28d6",
   "metadata": {},
   "outputs": [],
   "source": []
  },
  {
   "cell_type": "code",
   "execution_count": 40,
   "id": "49010cac",
   "metadata": {},
   "outputs": [],
   "source": [
    "d1 = {'name': 'Mark', 1 : 'one'}"
   ]
  },
  {
   "cell_type": "code",
   "execution_count": 41,
   "id": "4a543d33",
   "metadata": {},
   "outputs": [
    {
     "data": {
      "text/plain": [
       "{'name': 'Mark', 1: 'one'}"
      ]
     },
     "execution_count": 41,
     "metadata": {},
     "output_type": "execute_result"
    }
   ],
   "source": [
    "d1"
   ]
  },
  {
   "cell_type": "code",
   "execution_count": 42,
   "id": "49723a71",
   "metadata": {},
   "outputs": [],
   "source": [
    "d2 = {True:1, False:0}"
   ]
  },
  {
   "cell_type": "code",
   "execution_count": 43,
   "id": "f49d0d4d",
   "metadata": {},
   "outputs": [
    {
     "data": {
      "text/plain": [
       "{True: 1, False: 0}"
      ]
     },
     "execution_count": 43,
     "metadata": {},
     "output_type": "execute_result"
    }
   ],
   "source": [
    "d2"
   ]
  },
  {
   "cell_type": "code",
   "execution_count": 44,
   "id": "58a3cd9d",
   "metadata": {},
   "outputs": [
    {
     "ename": "TypeError",
     "evalue": "unhashable type: 'list'",
     "output_type": "error",
     "traceback": [
      "\u001b[1;31m---------------------------------------------------------------------------\u001b[0m",
      "\u001b[1;31mTypeError\u001b[0m                                 Traceback (most recent call last)",
      "Cell \u001b[1;32mIn[44], line 1\u001b[0m\n\u001b[1;32m----> 1\u001b[0m d3 \u001b[38;5;241m=\u001b[39m {[\u001b[38;5;241m1\u001b[39m,\u001b[38;5;241m2\u001b[39m,\u001b[38;5;241m3\u001b[39m]: \u001b[38;5;241m6\u001b[39m, [\u001b[38;5;241m10\u001b[39m, \u001b[38;5;241m20\u001b[39m]: \u001b[38;5;241m30\u001b[39m}\n",
      "\u001b[1;31mTypeError\u001b[0m: unhashable type: 'list'"
     ]
    }
   ],
   "source": [
    "d3 = {[1,2,3]: 6, [10, 20]: 30}"
   ]
  },
  {
   "cell_type": "code",
   "execution_count": 45,
   "id": "9f4202c4",
   "metadata": {},
   "outputs": [],
   "source": [
    "d3 = {(1,2,3): 6, (10, 20): 30}"
   ]
  },
  {
   "cell_type": "code",
   "execution_count": 46,
   "id": "ba35ec64",
   "metadata": {},
   "outputs": [
    {
     "data": {
      "text/plain": [
       "{(1, 2, 3): 6, (10, 20): 30}"
      ]
     },
     "execution_count": 46,
     "metadata": {},
     "output_type": "execute_result"
    }
   ],
   "source": [
    "d3"
   ]
  },
  {
   "cell_type": "code",
   "execution_count": 47,
   "id": "13e60086",
   "metadata": {},
   "outputs": [
    {
     "ename": "TypeError",
     "evalue": "unhashable type: 'set'",
     "output_type": "error",
     "traceback": [
      "\u001b[1;31m---------------------------------------------------------------------------\u001b[0m",
      "\u001b[1;31mTypeError\u001b[0m                                 Traceback (most recent call last)",
      "Cell \u001b[1;32mIn[47], line 1\u001b[0m\n\u001b[1;32m----> 1\u001b[0m d3 \u001b[38;5;241m=\u001b[39m {{\u001b[38;5;241m1\u001b[39m,\u001b[38;5;241m2\u001b[39m,\u001b[38;5;241m3\u001b[39m}: \u001b[38;5;241m6\u001b[39m, {\u001b[38;5;241m10\u001b[39m, \u001b[38;5;241m20\u001b[39m}: \u001b[38;5;241m30\u001b[39m}\n",
      "\u001b[1;31mTypeError\u001b[0m: unhashable type: 'set'"
     ]
    }
   ],
   "source": [
    "d3 = {{1,2,3}: 6, {10, 20}: 30}"
   ]
  },
  {
   "cell_type": "code",
   "execution_count": null,
   "id": "23b63738",
   "metadata": {},
   "outputs": [],
   "source": []
  },
  {
   "cell_type": "code",
   "execution_count": 48,
   "id": "9ade4a8a",
   "metadata": {},
   "outputs": [],
   "source": [
    "set1 = {10, 3, -1}"
   ]
  },
  {
   "cell_type": "code",
   "execution_count": 49,
   "id": "3e6cc09c",
   "metadata": {},
   "outputs": [
    {
     "data": {
      "text/plain": [
       "{-1, 3, 10}"
      ]
     },
     "execution_count": 49,
     "metadata": {},
     "output_type": "execute_result"
    }
   ],
   "source": [
    "set1"
   ]
  },
  {
   "cell_type": "code",
   "execution_count": 50,
   "id": "a5dc8699",
   "metadata": {},
   "outputs": [
    {
     "data": {
      "text/plain": [
       "[10, 3, -1]"
      ]
     },
     "execution_count": 50,
     "metadata": {},
     "output_type": "execute_result"
    }
   ],
   "source": [
    "list(set1)"
   ]
  },
  {
   "cell_type": "code",
   "execution_count": 51,
   "id": "fdb532a9",
   "metadata": {},
   "outputs": [
    {
     "data": {
      "text/plain": [
       "{-1, 3, 10}"
      ]
     },
     "execution_count": 51,
     "metadata": {},
     "output_type": "execute_result"
    }
   ],
   "source": [
    "set1"
   ]
  },
  {
   "cell_type": "code",
   "execution_count": 52,
   "id": "82e21b39",
   "metadata": {},
   "outputs": [
    {
     "data": {
      "text/plain": [
       "(10, 3, -1)"
      ]
     },
     "execution_count": 52,
     "metadata": {},
     "output_type": "execute_result"
    }
   ],
   "source": [
    "tuple(set1)"
   ]
  },
  {
   "cell_type": "code",
   "execution_count": 53,
   "id": "df3713b8",
   "metadata": {},
   "outputs": [],
   "source": [
    "l1 = [1,2,3,4,5]"
   ]
  },
  {
   "cell_type": "code",
   "execution_count": 54,
   "id": "5878b67d",
   "metadata": {},
   "outputs": [
    {
     "data": {
      "text/plain": [
       "[1, 2, 3, 4, 5]"
      ]
     },
     "execution_count": 54,
     "metadata": {},
     "output_type": "execute_result"
    }
   ],
   "source": [
    "l1"
   ]
  },
  {
   "cell_type": "code",
   "execution_count": 55,
   "id": "e6d143df",
   "metadata": {},
   "outputs": [
    {
     "data": {
      "text/plain": [
       "(1, 2, 3, 4, 5)"
      ]
     },
     "execution_count": 55,
     "metadata": {},
     "output_type": "execute_result"
    }
   ],
   "source": [
    "tuple(l1)"
   ]
  },
  {
   "cell_type": "code",
   "execution_count": null,
   "id": "ccc86a9e",
   "metadata": {},
   "outputs": [],
   "source": []
  },
  {
   "cell_type": "code",
   "execution_count": 56,
   "id": "0e36e3fd",
   "metadata": {},
   "outputs": [],
   "source": [
    "d5 = {'marks': [91.0, 67.5, 88.5]}"
   ]
  },
  {
   "cell_type": "code",
   "execution_count": 57,
   "id": "03d1bfdb",
   "metadata": {},
   "outputs": [],
   "source": [
    "student3 = {'rollno': 111, 'name': 'Ross', 'marks': {'maths': 90.5, 'phy': 78.5, 'chem': 67.5}}"
   ]
  },
  {
   "cell_type": "code",
   "execution_count": 58,
   "id": "540a3bac",
   "metadata": {},
   "outputs": [
    {
     "data": {
      "text/plain": [
       "{'rollno': 111,\n",
       " 'name': 'Ross',\n",
       " 'marks': {'maths': 90.5, 'phy': 78.5, 'chem': 67.5}}"
      ]
     },
     "execution_count": 58,
     "metadata": {},
     "output_type": "execute_result"
    }
   ],
   "source": [
    "student3"
   ]
  },
  {
   "cell_type": "code",
   "execution_count": 59,
   "id": "53843b69",
   "metadata": {},
   "outputs": [],
   "source": [
    "# Fetch the marks of phy for student3"
   ]
  },
  {
   "cell_type": "code",
   "execution_count": 60,
   "id": "49bf213d",
   "metadata": {},
   "outputs": [
    {
     "data": {
      "text/plain": [
       "{'maths': 90.5, 'phy': 78.5, 'chem': 67.5}"
      ]
     },
     "execution_count": 60,
     "metadata": {},
     "output_type": "execute_result"
    }
   ],
   "source": [
    "student3['marks']"
   ]
  },
  {
   "cell_type": "code",
   "execution_count": 61,
   "id": "cbb3e345",
   "metadata": {},
   "outputs": [
    {
     "data": {
      "text/plain": [
       "78.5"
      ]
     },
     "execution_count": 61,
     "metadata": {},
     "output_type": "execute_result"
    }
   ],
   "source": [
    "student3['marks']['phy']"
   ]
  },
  {
   "cell_type": "code",
   "execution_count": null,
   "id": "512a7113",
   "metadata": {},
   "outputs": [],
   "source": []
  },
  {
   "cell_type": "code",
   "execution_count": 62,
   "id": "01e8b924",
   "metadata": {},
   "outputs": [
    {
     "data": {
      "text/plain": [
       "{'rollno': 1234,\n",
       " 'name': 'Jack',\n",
       " 'percent': 88.5,\n",
       " 'grade': 'B',\n",
       " 'city': 'Bangalore'}"
      ]
     },
     "execution_count": 62,
     "metadata": {},
     "output_type": "execute_result"
    }
   ],
   "source": [
    "student1"
   ]
  },
  {
   "cell_type": "code",
   "execution_count": 63,
   "id": "3253fcb0",
   "metadata": {},
   "outputs": [],
   "source": [
    "# in operator"
   ]
  },
  {
   "cell_type": "code",
   "execution_count": 64,
   "id": "35c8a137",
   "metadata": {},
   "outputs": [
    {
     "data": {
      "text/plain": [
       "False"
      ]
     },
     "execution_count": 64,
     "metadata": {},
     "output_type": "execute_result"
    }
   ],
   "source": [
    "1234 in student1"
   ]
  },
  {
   "cell_type": "code",
   "execution_count": 65,
   "id": "8481f940",
   "metadata": {},
   "outputs": [
    {
     "data": {
      "text/plain": [
       "True"
      ]
     },
     "execution_count": 65,
     "metadata": {},
     "output_type": "execute_result"
    }
   ],
   "source": [
    "'name' in student1"
   ]
  },
  {
   "cell_type": "code",
   "execution_count": null,
   "id": "30da387f",
   "metadata": {},
   "outputs": [],
   "source": []
  },
  {
   "cell_type": "code",
   "execution_count": 66,
   "id": "41c69bab",
   "metadata": {},
   "outputs": [
    {
     "data": {
      "text/plain": [
       "{'rollno': 1234,\n",
       " 'name': 'Jack',\n",
       " 'percent': 88.5,\n",
       " 'grade': 'B',\n",
       " 'city': 'Bangalore'}"
      ]
     },
     "execution_count": 66,
     "metadata": {},
     "output_type": "execute_result"
    }
   ],
   "source": [
    "student1"
   ]
  },
  {
   "cell_type": "code",
   "execution_count": 67,
   "id": "3f490802",
   "metadata": {},
   "outputs": [
    {
     "data": {
      "text/plain": [
       "['rollno', 'name', 'percent', 'grade', 'city']"
      ]
     },
     "execution_count": 67,
     "metadata": {},
     "output_type": "execute_result"
    }
   ],
   "source": [
    "list(student1)"
   ]
  },
  {
   "cell_type": "code",
   "execution_count": 68,
   "id": "fce340a2",
   "metadata": {},
   "outputs": [],
   "source": [
    "l2 = [1,1,1,1,1,0,8]"
   ]
  },
  {
   "cell_type": "code",
   "execution_count": 69,
   "id": "187869d1",
   "metadata": {},
   "outputs": [
    {
     "data": {
      "text/plain": [
       "[1, 1, 1, 1, 1, 0, 8]"
      ]
     },
     "execution_count": 69,
     "metadata": {},
     "output_type": "execute_result"
    }
   ],
   "source": [
    "l2"
   ]
  },
  {
   "cell_type": "code",
   "execution_count": 70,
   "id": "c67b940b",
   "metadata": {},
   "outputs": [
    {
     "data": {
      "text/plain": [
       "{0, 1, 8}"
      ]
     },
     "execution_count": 70,
     "metadata": {},
     "output_type": "execute_result"
    }
   ],
   "source": [
    "set(l2)"
   ]
  },
  {
   "cell_type": "code",
   "execution_count": 71,
   "id": "65c10c31",
   "metadata": {},
   "outputs": [
    {
     "ename": "TypeError",
     "evalue": "cannot convert dictionary update sequence element #0 to a sequence",
     "output_type": "error",
     "traceback": [
      "\u001b[1;31m---------------------------------------------------------------------------\u001b[0m",
      "\u001b[1;31mTypeError\u001b[0m                                 Traceback (most recent call last)",
      "Cell \u001b[1;32mIn[71], line 1\u001b[0m\n\u001b[1;32m----> 1\u001b[0m \u001b[38;5;28mdict\u001b[39m(l2)\n",
      "\u001b[1;31mTypeError\u001b[0m: cannot convert dictionary update sequence element #0 to a sequence"
     ]
    }
   ],
   "source": [
    "dict(l2)"
   ]
  },
  {
   "cell_type": "code",
   "execution_count": null,
   "id": "ef495d9e",
   "metadata": {},
   "outputs": [],
   "source": []
  },
  {
   "cell_type": "code",
   "execution_count": 74,
   "id": "21cc0299",
   "metadata": {},
   "outputs": [],
   "source": [
    "# Mutable datatypes: list, set, dict\n",
    "# Immutable datatypes: int, float, str, bool, None, tuple, complex"
   ]
  },
  {
   "cell_type": "code",
   "execution_count": 75,
   "id": "01d24ec1",
   "metadata": {},
   "outputs": [
    {
     "data": {
      "text/plain": [
       "{'rollno': 1234,\n",
       " 'name': 'Jack',\n",
       " 'percent': 88.5,\n",
       " 'grade': 'B',\n",
       " 'city': 'Bangalore'}"
      ]
     },
     "execution_count": 75,
     "metadata": {},
     "output_type": "execute_result"
    }
   ],
   "source": [
    "student1"
   ]
  },
  {
   "cell_type": "code",
   "execution_count": 76,
   "id": "f8f0fb16",
   "metadata": {},
   "outputs": [],
   "source": [
    "# Fetch all the keys of the dictionary"
   ]
  },
  {
   "cell_type": "code",
   "execution_count": 77,
   "id": "748a94d2",
   "metadata": {},
   "outputs": [
    {
     "data": {
      "text/plain": [
       "dict_keys(['rollno', 'name', 'percent', 'grade', 'city'])"
      ]
     },
     "execution_count": 77,
     "metadata": {},
     "output_type": "execute_result"
    }
   ],
   "source": [
    "student1.keys()"
   ]
  },
  {
   "cell_type": "code",
   "execution_count": 78,
   "id": "7561bfe9",
   "metadata": {},
   "outputs": [],
   "source": [
    "k1 = student1.keys()"
   ]
  },
  {
   "cell_type": "code",
   "execution_count": 79,
   "id": "630569db",
   "metadata": {},
   "outputs": [
    {
     "data": {
      "text/plain": [
       "dict_keys(['rollno', 'name', 'percent', 'grade', 'city'])"
      ]
     },
     "execution_count": 79,
     "metadata": {},
     "output_type": "execute_result"
    }
   ],
   "source": [
    "k1"
   ]
  },
  {
   "cell_type": "code",
   "execution_count": 80,
   "id": "deffce03",
   "metadata": {},
   "outputs": [
    {
     "data": {
      "text/plain": [
       "dict_keys"
      ]
     },
     "execution_count": 80,
     "metadata": {},
     "output_type": "execute_result"
    }
   ],
   "source": [
    "type(k1)"
   ]
  },
  {
   "cell_type": "code",
   "execution_count": 81,
   "id": "4dd27060",
   "metadata": {},
   "outputs": [],
   "source": [
    "# Fetch all the values of the dictionary"
   ]
  },
  {
   "cell_type": "code",
   "execution_count": 82,
   "id": "43703a58",
   "metadata": {},
   "outputs": [
    {
     "data": {
      "text/plain": [
       "dict_values([1234, 'Jack', 88.5, 'B', 'Bangalore'])"
      ]
     },
     "execution_count": 82,
     "metadata": {},
     "output_type": "execute_result"
    }
   ],
   "source": [
    "student1.values()"
   ]
  },
  {
   "cell_type": "code",
   "execution_count": 83,
   "id": "94cb377d",
   "metadata": {},
   "outputs": [],
   "source": [
    "v1 = student1.values()"
   ]
  },
  {
   "cell_type": "code",
   "execution_count": 84,
   "id": "783c7d0c",
   "metadata": {},
   "outputs": [
    {
     "data": {
      "text/plain": [
       "dict_values([1234, 'Jack', 88.5, 'B', 'Bangalore'])"
      ]
     },
     "execution_count": 84,
     "metadata": {},
     "output_type": "execute_result"
    }
   ],
   "source": [
    "v1"
   ]
  },
  {
   "cell_type": "code",
   "execution_count": 85,
   "id": "3eea9906",
   "metadata": {},
   "outputs": [
    {
     "data": {
      "text/plain": [
       "dict_values"
      ]
     },
     "execution_count": 85,
     "metadata": {},
     "output_type": "execute_result"
    }
   ],
   "source": [
    "type(v1)"
   ]
  },
  {
   "cell_type": "code",
   "execution_count": null,
   "id": "e29337b5",
   "metadata": {},
   "outputs": [],
   "source": []
  },
  {
   "cell_type": "code",
   "execution_count": 86,
   "id": "319042c7",
   "metadata": {},
   "outputs": [
    {
     "ename": "TypeError",
     "evalue": "'dict_keys' object is not subscriptable",
     "output_type": "error",
     "traceback": [
      "\u001b[1;31m---------------------------------------------------------------------------\u001b[0m",
      "\u001b[1;31mTypeError\u001b[0m                                 Traceback (most recent call last)",
      "Cell \u001b[1;32mIn[86], line 1\u001b[0m\n\u001b[1;32m----> 1\u001b[0m k1[\u001b[38;5;241m0\u001b[39m]\n",
      "\u001b[1;31mTypeError\u001b[0m: 'dict_keys' object is not subscriptable"
     ]
    }
   ],
   "source": [
    "k1[0]"
   ]
  },
  {
   "cell_type": "code",
   "execution_count": 87,
   "id": "39618f1f",
   "metadata": {},
   "outputs": [
    {
     "ename": "TypeError",
     "evalue": "'dict_values' object is not subscriptable",
     "output_type": "error",
     "traceback": [
      "\u001b[1;31m---------------------------------------------------------------------------\u001b[0m",
      "\u001b[1;31mTypeError\u001b[0m                                 Traceback (most recent call last)",
      "Cell \u001b[1;32mIn[87], line 1\u001b[0m\n\u001b[1;32m----> 1\u001b[0m v1[\u001b[38;5;241m0\u001b[39m]\n",
      "\u001b[1;31mTypeError\u001b[0m: 'dict_values' object is not subscriptable"
     ]
    }
   ],
   "source": [
    "v1[0]"
   ]
  },
  {
   "cell_type": "code",
   "execution_count": 88,
   "id": "51b8313f",
   "metadata": {},
   "outputs": [
    {
     "data": {
      "text/plain": [
       "[1234, 'Jack', 88.5, 'B', 'Bangalore']"
      ]
     },
     "execution_count": 88,
     "metadata": {},
     "output_type": "execute_result"
    }
   ],
   "source": [
    "list(v1)"
   ]
  },
  {
   "cell_type": "code",
   "execution_count": 89,
   "id": "56b2ddac",
   "metadata": {},
   "outputs": [],
   "source": [
    "l1 = list(v1)"
   ]
  },
  {
   "cell_type": "code",
   "execution_count": 90,
   "id": "6b8ce23d",
   "metadata": {},
   "outputs": [
    {
     "data": {
      "text/plain": [
       "[1234, 'Jack', 88.5, 'B', 'Bangalore']"
      ]
     },
     "execution_count": 90,
     "metadata": {},
     "output_type": "execute_result"
    }
   ],
   "source": [
    "l1"
   ]
  },
  {
   "cell_type": "code",
   "execution_count": 91,
   "id": "1291aadb",
   "metadata": {},
   "outputs": [
    {
     "data": {
      "text/plain": [
       "1234"
      ]
     },
     "execution_count": 91,
     "metadata": {},
     "output_type": "execute_result"
    }
   ],
   "source": [
    "l1[0]"
   ]
  },
  {
   "cell_type": "code",
   "execution_count": 92,
   "id": "c4d49ed6",
   "metadata": {},
   "outputs": [
    {
     "data": {
      "text/plain": [
       "{'maths': 90.5, 'physics': 78.0, 'chemistry': 61.0, 'python': 90.5}"
      ]
     },
     "execution_count": 92,
     "metadata": {},
     "output_type": "execute_result"
    }
   ],
   "source": [
    "subjects"
   ]
  },
  {
   "cell_type": "code",
   "execution_count": 93,
   "id": "d1a6f3a2",
   "metadata": {},
   "outputs": [
    {
     "data": {
      "text/plain": [
       "dict_values([90.5, 78.0, 61.0, 90.5])"
      ]
     },
     "execution_count": 93,
     "metadata": {},
     "output_type": "execute_result"
    }
   ],
   "source": [
    "subjects.values()"
   ]
  },
  {
   "cell_type": "code",
   "execution_count": 94,
   "id": "09235872",
   "metadata": {},
   "outputs": [],
   "source": [
    "# sum() => adds all the values in a collection"
   ]
  },
  {
   "cell_type": "code",
   "execution_count": 95,
   "id": "386f0988",
   "metadata": {},
   "outputs": [
    {
     "data": {
      "text/plain": [
       "320.0"
      ]
     },
     "execution_count": 95,
     "metadata": {},
     "output_type": "execute_result"
    }
   ],
   "source": [
    "sum(subjects.values())"
   ]
  },
  {
   "cell_type": "code",
   "execution_count": 96,
   "id": "b1c48986",
   "metadata": {},
   "outputs": [
    {
     "data": {
      "text/plain": [
       "80.0"
      ]
     },
     "execution_count": 96,
     "metadata": {},
     "output_type": "execute_result"
    }
   ],
   "source": [
    "sum(subjects.values()) / 4"
   ]
  },
  {
   "cell_type": "code",
   "execution_count": 97,
   "id": "de9d0874",
   "metadata": {},
   "outputs": [
    {
     "data": {
      "text/plain": [
       "80.0"
      ]
     },
     "execution_count": 97,
     "metadata": {},
     "output_type": "execute_result"
    }
   ],
   "source": [
    "sum(subjects.values()) / len(subjects)"
   ]
  },
  {
   "cell_type": "code",
   "execution_count": null,
   "id": "215ba38b",
   "metadata": {},
   "outputs": [],
   "source": []
  },
  {
   "cell_type": "code",
   "execution_count": 98,
   "id": "d9a35c87",
   "metadata": {},
   "outputs": [],
   "source": [
    "a = {1, 2, 3}"
   ]
  },
  {
   "cell_type": "code",
   "execution_count": 99,
   "id": "5bd21ec2",
   "metadata": {},
   "outputs": [],
   "source": [
    "b = {'a': 1, 'b': 2, 'c': 3}"
   ]
  },
  {
   "cell_type": "code",
   "execution_count": 100,
   "id": "ef7db40d",
   "metadata": {},
   "outputs": [
    {
     "data": {
      "text/plain": [
       "set"
      ]
     },
     "execution_count": 100,
     "metadata": {},
     "output_type": "execute_result"
    }
   ],
   "source": [
    "type(a)"
   ]
  },
  {
   "cell_type": "code",
   "execution_count": 101,
   "id": "f7dc6ff7",
   "metadata": {},
   "outputs": [
    {
     "data": {
      "text/plain": [
       "dict"
      ]
     },
     "execution_count": 101,
     "metadata": {},
     "output_type": "execute_result"
    }
   ],
   "source": [
    "type(b)"
   ]
  },
  {
   "cell_type": "code",
   "execution_count": 102,
   "id": "681747a2",
   "metadata": {},
   "outputs": [],
   "source": [
    "l1 = []"
   ]
  },
  {
   "cell_type": "code",
   "execution_count": 103,
   "id": "a4b3d02f",
   "metadata": {},
   "outputs": [
    {
     "data": {
      "text/plain": [
       "list"
      ]
     },
     "execution_count": 103,
     "metadata": {},
     "output_type": "execute_result"
    }
   ],
   "source": [
    "type(l1)"
   ]
  },
  {
   "cell_type": "code",
   "execution_count": 104,
   "id": "b979d2a8",
   "metadata": {},
   "outputs": [],
   "source": [
    "t1 = ()"
   ]
  },
  {
   "cell_type": "code",
   "execution_count": 105,
   "id": "a023d43b",
   "metadata": {},
   "outputs": [
    {
     "data": {
      "text/plain": [
       "tuple"
      ]
     },
     "execution_count": 105,
     "metadata": {},
     "output_type": "execute_result"
    }
   ],
   "source": [
    "type(t1)"
   ]
  },
  {
   "cell_type": "code",
   "execution_count": 106,
   "id": "56936df3",
   "metadata": {},
   "outputs": [],
   "source": [
    "var1 = {}"
   ]
  },
  {
   "cell_type": "code",
   "execution_count": 107,
   "id": "673c6ed7",
   "metadata": {},
   "outputs": [
    {
     "data": {
      "text/plain": [
       "dict"
      ]
     },
     "execution_count": 107,
     "metadata": {},
     "output_type": "execute_result"
    }
   ],
   "source": [
    "type(var1)"
   ]
  },
  {
   "cell_type": "code",
   "execution_count": 108,
   "id": "73490a36",
   "metadata": {},
   "outputs": [],
   "source": [
    "set1 = set()"
   ]
  },
  {
   "cell_type": "code",
   "execution_count": 109,
   "id": "24830ac7",
   "metadata": {},
   "outputs": [
    {
     "data": {
      "text/plain": [
       "set"
      ]
     },
     "execution_count": 109,
     "metadata": {},
     "output_type": "execute_result"
    }
   ],
   "source": [
    "type(set1)"
   ]
  },
  {
   "cell_type": "code",
   "execution_count": 110,
   "id": "cab76246",
   "metadata": {},
   "outputs": [],
   "source": [
    "l2 = list()"
   ]
  },
  {
   "cell_type": "code",
   "execution_count": 111,
   "id": "91cea0b7",
   "metadata": {},
   "outputs": [
    {
     "data": {
      "text/plain": [
       "list"
      ]
     },
     "execution_count": 111,
     "metadata": {},
     "output_type": "execute_result"
    }
   ],
   "source": [
    "type(l2)"
   ]
  },
  {
   "cell_type": "code",
   "execution_count": 112,
   "id": "b3b7c044",
   "metadata": {},
   "outputs": [],
   "source": [
    "# Empty String => '', \"\", ''''''\n",
    "# Empty list => [], list()\n",
    "# Empty tuple => (), tuple()\n",
    "# Empty set => set()\n",
    "# Empty dict => {}, dict()"
   ]
  },
  {
   "cell_type": "code",
   "execution_count": 113,
   "id": "557086c0",
   "metadata": {},
   "outputs": [],
   "source": [
    "var2 = dict()"
   ]
  },
  {
   "cell_type": "code",
   "execution_count": 114,
   "id": "77ce66f0",
   "metadata": {},
   "outputs": [
    {
     "data": {
      "text/plain": [
       "dict"
      ]
     },
     "execution_count": 114,
     "metadata": {},
     "output_type": "execute_result"
    }
   ],
   "source": [
    "type(var2)"
   ]
  },
  {
   "cell_type": "code",
   "execution_count": null,
   "id": "672a1453",
   "metadata": {},
   "outputs": [],
   "source": []
  },
  {
   "cell_type": "code",
   "execution_count": 115,
   "id": "c00601b2",
   "metadata": {},
   "outputs": [
    {
     "ename": "TypeError",
     "evalue": "cannot convert dictionary update sequence element #0 to a sequence",
     "output_type": "error",
     "traceback": [
      "\u001b[1;31m---------------------------------------------------------------------------\u001b[0m",
      "\u001b[1;31mTypeError\u001b[0m                                 Traceback (most recent call last)",
      "Cell \u001b[1;32mIn[115], line 1\u001b[0m\n\u001b[1;32m----> 1\u001b[0m \u001b[38;5;28mdict\u001b[39m([\u001b[38;5;241m1\u001b[39m,\u001b[38;5;241m2\u001b[39m,\u001b[38;5;241m3\u001b[39m])\n",
      "\u001b[1;31mTypeError\u001b[0m: cannot convert dictionary update sequence element #0 to a sequence"
     ]
    }
   ],
   "source": [
    "dict([1,2,3])"
   ]
  },
  {
   "cell_type": "code",
   "execution_count": 116,
   "id": "ea00275b",
   "metadata": {},
   "outputs": [
    {
     "ename": "TypeError",
     "evalue": "dict expected at most 1 argument, got 2",
     "output_type": "error",
     "traceback": [
      "\u001b[1;31m---------------------------------------------------------------------------\u001b[0m",
      "\u001b[1;31mTypeError\u001b[0m                                 Traceback (most recent call last)",
      "Cell \u001b[1;32mIn[116], line 1\u001b[0m\n\u001b[1;32m----> 1\u001b[0m \u001b[38;5;28mdict\u001b[39m([\u001b[38;5;241m1\u001b[39m,\u001b[38;5;241m2\u001b[39m,\u001b[38;5;241m3\u001b[39m], [\u001b[38;5;241m10\u001b[39m, \u001b[38;5;241m20\u001b[39m, \u001b[38;5;241m30\u001b[39m])\n",
      "\u001b[1;31mTypeError\u001b[0m: dict expected at most 1 argument, got 2"
     ]
    }
   ],
   "source": [
    "dict([1,2,3], [10, 20, 30])"
   ]
  },
  {
   "cell_type": "code",
   "execution_count": 117,
   "id": "8027bcc1",
   "metadata": {},
   "outputs": [
    {
     "ename": "ValueError",
     "evalue": "dictionary update sequence element #0 has length 3; 2 is required",
     "output_type": "error",
     "traceback": [
      "\u001b[1;31m---------------------------------------------------------------------------\u001b[0m",
      "\u001b[1;31mValueError\u001b[0m                                Traceback (most recent call last)",
      "Cell \u001b[1;32mIn[117], line 1\u001b[0m\n\u001b[1;32m----> 1\u001b[0m \u001b[38;5;28mdict\u001b[39m([[\u001b[38;5;241m1\u001b[39m,\u001b[38;5;241m2\u001b[39m,\u001b[38;5;241m3\u001b[39m], [\u001b[38;5;241m10\u001b[39m, \u001b[38;5;241m20\u001b[39m, \u001b[38;5;241m30\u001b[39m]])\n",
      "\u001b[1;31mValueError\u001b[0m: dictionary update sequence element #0 has length 3; 2 is required"
     ]
    }
   ],
   "source": [
    "dict([[1,2,3], [10, 20, 30]])"
   ]
  },
  {
   "cell_type": "code",
   "execution_count": null,
   "id": "f1586989",
   "metadata": {},
   "outputs": [],
   "source": []
  }
 ],
 "metadata": {
  "kernelspec": {
   "display_name": "Python 3 (ipykernel)",
   "language": "python",
   "name": "python3"
  },
  "language_info": {
   "codemirror_mode": {
    "name": "ipython",
    "version": 3
   },
   "file_extension": ".py",
   "mimetype": "text/x-python",
   "name": "python",
   "nbconvert_exporter": "python",
   "pygments_lexer": "ipython3",
   "version": "3.11.4"
  }
 },
 "nbformat": 4,
 "nbformat_minor": 5
}
