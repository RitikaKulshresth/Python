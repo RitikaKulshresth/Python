{
 "cells": [
  {
   "cell_type": "markdown",
   "id": "608d0567",
   "metadata": {},
   "source": [
    "1. Literal\n",
    "2. Identifier\n",
    "3. Variable\n",
    "4. Constant\n",
    "5. Comment\n",
    "6. Keywords\n",
    "7. Expression\n",
    "8. Statement\n",
    "9. Block and indentation"
   ]
  },
  {
   "cell_type": "code",
   "execution_count": null,
   "id": "bcd66561",
   "metadata": {},
   "outputs": [],
   "source": []
  },
  {
   "cell_type": "markdown",
   "id": "98012677",
   "metadata": {},
   "source": [
    "#### Literal\n",
    "\n",
    "- Literal is value or data.\n",
    "\n",
    "age = 50\n",
    "\n",
    "Here, 50 is a literal\n",
    "\n",
    "name = \"John\"\n",
    "\n",
    "Here, \"John\" is a literal\n",
    "\n",
    "Types of literal:\n",
    "- Numerical literal\n",
    "- String literal\n",
    "- Boolean literal\n",
    "- Special Literal"
   ]
  },
  {
   "cell_type": "markdown",
   "id": "f1565fc9",
   "metadata": {},
   "source": [
    "- Numerical Literals\n",
    "    - Integers: Whole numbers: Base 10 (Decimal number system => 0-9). eg: 10, -5, 0, 4512\n",
    "    - Binary: Base 2 => 0,1. eg: 0b1011, 0b1001\n",
    "    - Octal: Base 8 => 0-7. eg: 0o15, 0o27\n",
    "    - Hexadecimal: Base 16 => 0-9, A-F. eg: 0x2A, 0x123\n",
    "    - Floats: Fractional numbers. eg: 100.45, -67.1, 0.0, 4.0\n",
    "    - Complex numbers: Combination of real and imaginary. a + bj, where, a is real number and b is imaginary number, j => square root of -1"
   ]
  },
  {
   "cell_type": "code",
   "execution_count": 1,
   "id": "80c892df",
   "metadata": {},
   "outputs": [],
   "source": [
    "num1 = 100"
   ]
  },
  {
   "cell_type": "code",
   "execution_count": 2,
   "id": "6028881b",
   "metadata": {},
   "outputs": [
    {
     "name": "stdout",
     "output_type": "stream",
     "text": [
      "100\n"
     ]
    }
   ],
   "source": [
    "print(num1)"
   ]
  },
  {
   "cell_type": "code",
   "execution_count": 3,
   "id": "b5d6a09c",
   "metadata": {},
   "outputs": [],
   "source": [
    "num2 = 0o23"
   ]
  },
  {
   "cell_type": "code",
   "execution_count": 4,
   "id": "d67e291c",
   "metadata": {},
   "outputs": [
    {
     "name": "stdout",
     "output_type": "stream",
     "text": [
      "19\n"
     ]
    }
   ],
   "source": [
    "print(num2)"
   ]
  },
  {
   "cell_type": "code",
   "execution_count": 5,
   "id": "9cdd9d78",
   "metadata": {},
   "outputs": [
    {
     "name": "stdout",
     "output_type": "stream",
     "text": [
      "0o23\n"
     ]
    }
   ],
   "source": [
    "print(oct(num2))"
   ]
  },
  {
   "cell_type": "code",
   "execution_count": 6,
   "id": "a72af975",
   "metadata": {},
   "outputs": [
    {
     "name": "stdout",
     "output_type": "stream",
     "text": [
      "0o144\n"
     ]
    }
   ],
   "source": [
    "print(oct(100))"
   ]
  },
  {
   "cell_type": "code",
   "execution_count": 7,
   "id": "b809abf0",
   "metadata": {},
   "outputs": [],
   "source": [
    "num3 = 0x1A"
   ]
  },
  {
   "cell_type": "code",
   "execution_count": 8,
   "id": "3ae95adf",
   "metadata": {},
   "outputs": [
    {
     "name": "stdout",
     "output_type": "stream",
     "text": [
      "26\n"
     ]
    }
   ],
   "source": [
    "print(num3)"
   ]
  },
  {
   "cell_type": "code",
   "execution_count": 9,
   "id": "b0687eff",
   "metadata": {},
   "outputs": [
    {
     "name": "stdout",
     "output_type": "stream",
     "text": [
      "0x1a\n"
     ]
    }
   ],
   "source": [
    "print(hex(num3))"
   ]
  },
  {
   "cell_type": "code",
   "execution_count": 10,
   "id": "647e8426",
   "metadata": {},
   "outputs": [
    {
     "name": "stdout",
     "output_type": "stream",
     "text": [
      "43\n"
     ]
    }
   ],
   "source": [
    "print(0x2b)"
   ]
  },
  {
   "cell_type": "code",
   "execution_count": 11,
   "id": "9a16b766",
   "metadata": {},
   "outputs": [
    {
     "name": "stdout",
     "output_type": "stream",
     "text": [
      "0x64\n"
     ]
    }
   ],
   "source": [
    "print(hex(100))"
   ]
  },
  {
   "cell_type": "code",
   "execution_count": 12,
   "id": "9f3103d1",
   "metadata": {},
   "outputs": [],
   "source": [
    "num4 = 0b1001"
   ]
  },
  {
   "cell_type": "code",
   "execution_count": 13,
   "id": "8e24dae4",
   "metadata": {},
   "outputs": [
    {
     "name": "stdout",
     "output_type": "stream",
     "text": [
      "9\n"
     ]
    }
   ],
   "source": [
    "print(num4)"
   ]
  },
  {
   "cell_type": "code",
   "execution_count": 14,
   "id": "f6601636",
   "metadata": {},
   "outputs": [
    {
     "name": "stdout",
     "output_type": "stream",
     "text": [
      "0b1011\n"
     ]
    }
   ],
   "source": [
    "print(bin(11))"
   ]
  },
  {
   "cell_type": "code",
   "execution_count": 16,
   "id": "981726e6",
   "metadata": {},
   "outputs": [
    {
     "name": "stdout",
     "output_type": "stream",
     "text": [
      "0b1100100\n"
     ]
    }
   ],
   "source": [
    "print(bin(100))"
   ]
  },
  {
   "cell_type": "code",
   "execution_count": 17,
   "id": "8f861e22",
   "metadata": {},
   "outputs": [
    {
     "name": "stdout",
     "output_type": "stream",
     "text": [
      "1011\n"
     ]
    }
   ],
   "source": [
    "print(1011)"
   ]
  },
  {
   "cell_type": "code",
   "execution_count": 18,
   "id": "c292643a",
   "metadata": {},
   "outputs": [
    {
     "name": "stdout",
     "output_type": "stream",
     "text": [
      "11\n"
     ]
    }
   ],
   "source": [
    "print(0b1011)"
   ]
  },
  {
   "cell_type": "code",
   "execution_count": null,
   "id": "eca808a0",
   "metadata": {},
   "outputs": [],
   "source": []
  },
  {
   "cell_type": "code",
   "execution_count": 19,
   "id": "513b7694",
   "metadata": {},
   "outputs": [],
   "source": [
    "num5 = 10.5"
   ]
  },
  {
   "cell_type": "code",
   "execution_count": 20,
   "id": "f24a12a8",
   "metadata": {},
   "outputs": [
    {
     "name": "stdout",
     "output_type": "stream",
     "text": [
      "10.5\n"
     ]
    }
   ],
   "source": [
    "print(num5)"
   ]
  },
  {
   "cell_type": "code",
   "execution_count": 21,
   "id": "8bc4d8ea",
   "metadata": {},
   "outputs": [],
   "source": [
    "num6 = 45.67564367"
   ]
  },
  {
   "cell_type": "code",
   "execution_count": 22,
   "id": "f892207c",
   "metadata": {},
   "outputs": [
    {
     "name": "stdout",
     "output_type": "stream",
     "text": [
      "45.67564367\n"
     ]
    }
   ],
   "source": [
    "print(num6)"
   ]
  },
  {
   "cell_type": "code",
   "execution_count": null,
   "id": "ae11db00",
   "metadata": {},
   "outputs": [],
   "source": []
  },
  {
   "cell_type": "code",
   "execution_count": 23,
   "id": "68a9d2cd",
   "metadata": {},
   "outputs": [],
   "source": [
    "c1 = 4+3j"
   ]
  },
  {
   "cell_type": "code",
   "execution_count": 24,
   "id": "c5749cdc",
   "metadata": {},
   "outputs": [
    {
     "name": "stdout",
     "output_type": "stream",
     "text": [
      "(4+3j)\n"
     ]
    }
   ],
   "source": [
    "print(c1)"
   ]
  },
  {
   "cell_type": "code",
   "execution_count": 25,
   "id": "7ce34487",
   "metadata": {},
   "outputs": [
    {
     "ename": "NameError",
     "evalue": "name 'j' is not defined",
     "output_type": "error",
     "traceback": [
      "\u001b[1;31m---------------------------------------------------------------------------\u001b[0m",
      "\u001b[1;31mNameError\u001b[0m                                 Traceback (most recent call last)",
      "Cell \u001b[1;32mIn[25], line 1\u001b[0m\n\u001b[1;32m----> 1\u001b[0m c2 \u001b[38;5;241m=\u001b[39m (\u001b[38;5;241m3\u001b[39m\u001b[38;5;241m-\u001b[39mj)\n",
      "\u001b[1;31mNameError\u001b[0m: name 'j' is not defined"
     ]
    }
   ],
   "source": [
    "c2 = (3-j)"
   ]
  },
  {
   "cell_type": "code",
   "execution_count": 26,
   "id": "5be7ce1a",
   "metadata": {},
   "outputs": [],
   "source": [
    "c2 = (3-1j)"
   ]
  },
  {
   "cell_type": "code",
   "execution_count": 27,
   "id": "8e0c02ce",
   "metadata": {},
   "outputs": [
    {
     "name": "stdout",
     "output_type": "stream",
     "text": [
      "(3-1j)\n"
     ]
    }
   ],
   "source": [
    "print(c2)"
   ]
  },
  {
   "cell_type": "code",
   "execution_count": null,
   "id": "842ea887",
   "metadata": {},
   "outputs": [],
   "source": []
  },
  {
   "cell_type": "markdown",
   "id": "4d6f1d2b",
   "metadata": {},
   "source": [
    "- String Literal: group of characters enclosed within quotation.\n",
    "\n",
    "Quotes => \n",
    "- single quotes => ''\n",
    "- double quotes => \"\"\n",
    "- triple quotes => ''' ''', \"\"\" \"\"\""
   ]
  },
  {
   "cell_type": "code",
   "execution_count": 28,
   "id": "369c9727",
   "metadata": {},
   "outputs": [],
   "source": [
    "s1 = 'Welcome to Python!'"
   ]
  },
  {
   "cell_type": "code",
   "execution_count": 29,
   "id": "73e5294d",
   "metadata": {},
   "outputs": [
    {
     "name": "stdout",
     "output_type": "stream",
     "text": [
      "Welcome to Python!\n"
     ]
    }
   ],
   "source": [
    "print(s1)"
   ]
  },
  {
   "cell_type": "code",
   "execution_count": 30,
   "id": "412b5e04",
   "metadata": {},
   "outputs": [],
   "source": [
    "s2 = \"Hello\""
   ]
  },
  {
   "cell_type": "code",
   "execution_count": 31,
   "id": "d29f65df",
   "metadata": {},
   "outputs": [
    {
     "name": "stdout",
     "output_type": "stream",
     "text": [
      "Hello\n"
     ]
    }
   ],
   "source": [
    "print(s2)"
   ]
  },
  {
   "cell_type": "code",
   "execution_count": 32,
   "id": "782d606a",
   "metadata": {},
   "outputs": [],
   "source": [
    "name = \"Mark\""
   ]
  },
  {
   "cell_type": "code",
   "execution_count": 33,
   "id": "ee186c00",
   "metadata": {},
   "outputs": [
    {
     "name": "stdout",
     "output_type": "stream",
     "text": [
      "Mark\n"
     ]
    }
   ],
   "source": [
    "print(name)"
   ]
  },
  {
   "cell_type": "code",
   "execution_count": 34,
   "id": "73ca595f",
   "metadata": {},
   "outputs": [],
   "source": [
    "message = \"Hello everyone, good evening. We are learning Python.\""
   ]
  },
  {
   "cell_type": "code",
   "execution_count": 35,
   "id": "fa4c0375",
   "metadata": {},
   "outputs": [
    {
     "name": "stdout",
     "output_type": "stream",
     "text": [
      "Hello everyone, good evening. We are learning Python.\n"
     ]
    }
   ],
   "source": [
    "print(message)"
   ]
  },
  {
   "cell_type": "code",
   "execution_count": 36,
   "id": "b21fe135",
   "metadata": {},
   "outputs": [],
   "source": [
    "message = \"Hello everyone, good evening.\\nWe are learning Python.\""
   ]
  },
  {
   "cell_type": "code",
   "execution_count": 37,
   "id": "b1ead3f7",
   "metadata": {},
   "outputs": [
    {
     "name": "stdout",
     "output_type": "stream",
     "text": [
      "Hello everyone, good evening.\n",
      "We are learning Python.\n"
     ]
    }
   ],
   "source": [
    "print(message)"
   ]
  },
  {
   "cell_type": "markdown",
   "id": "f98af080",
   "metadata": {},
   "source": [
    "\\n => new line character"
   ]
  },
  {
   "cell_type": "code",
   "execution_count": null,
   "id": "427051f7",
   "metadata": {},
   "outputs": [],
   "source": []
  },
  {
   "cell_type": "code",
   "execution_count": 42,
   "id": "86adb6aa",
   "metadata": {},
   "outputs": [],
   "source": [
    "message = '''Python is fun!!! (Hopefully :) )'''"
   ]
  },
  {
   "cell_type": "code",
   "execution_count": 43,
   "id": "36011324",
   "metadata": {},
   "outputs": [
    {
     "name": "stdout",
     "output_type": "stream",
     "text": [
      "Python is fun!!! (Hopefully :) )\n"
     ]
    }
   ],
   "source": [
    "print(message)"
   ]
  },
  {
   "cell_type": "code",
   "execution_count": 44,
   "id": "5c6a16d4",
   "metadata": {},
   "outputs": [],
   "source": [
    "message = \"\"\"Python is fun!!! (Hopefully :) )\"\"\""
   ]
  },
  {
   "cell_type": "code",
   "execution_count": 45,
   "id": "de8683e9",
   "metadata": {},
   "outputs": [
    {
     "name": "stdout",
     "output_type": "stream",
     "text": [
      "Python is fun!!! (Hopefully :) )\n"
     ]
    }
   ],
   "source": [
    "print(message)"
   ]
  },
  {
   "cell_type": "code",
   "execution_count": 46,
   "id": "3d1560d3",
   "metadata": {},
   "outputs": [],
   "source": [
    "message = 'Python is fun!!! (Hopefully :) )'"
   ]
  },
  {
   "cell_type": "code",
   "execution_count": 47,
   "id": "0f5fcd0f",
   "metadata": {},
   "outputs": [
    {
     "name": "stdout",
     "output_type": "stream",
     "text": [
      "Python is fun!!! (Hopefully :) )\n"
     ]
    }
   ],
   "source": [
    "print(message)"
   ]
  },
  {
   "cell_type": "code",
   "execution_count": 48,
   "id": "eb621ea5",
   "metadata": {},
   "outputs": [],
   "source": [
    "message = \"Python is fun!!! (Hopefully :) )\""
   ]
  },
  {
   "cell_type": "code",
   "execution_count": 49,
   "id": "c227e319",
   "metadata": {},
   "outputs": [
    {
     "name": "stdout",
     "output_type": "stream",
     "text": [
      "Python is fun!!! (Hopefully :) )\n"
     ]
    }
   ],
   "source": [
    "print(message)"
   ]
  },
  {
   "cell_type": "code",
   "execution_count": null,
   "id": "da2688a0",
   "metadata": {},
   "outputs": [],
   "source": []
  },
  {
   "cell_type": "code",
   "execution_count": 50,
   "id": "98f409da",
   "metadata": {},
   "outputs": [
    {
     "ename": "SyntaxError",
     "evalue": "unterminated string literal (detected at line 1) (2985761646.py, line 1)",
     "output_type": "error",
     "traceback": [
      "\u001b[1;36m  Cell \u001b[1;32mIn[50], line 1\u001b[1;36m\u001b[0m\n\u001b[1;33m    message = 'Hello everyone. This is Python's class'\u001b[0m\n\u001b[1;37m                                                     ^\u001b[0m\n\u001b[1;31mSyntaxError\u001b[0m\u001b[1;31m:\u001b[0m unterminated string literal (detected at line 1)\n"
     ]
    }
   ],
   "source": [
    "message = 'Hello everyone. This is Python's class'"
   ]
  },
  {
   "cell_type": "code",
   "execution_count": 51,
   "id": "86a7a74f",
   "metadata": {},
   "outputs": [],
   "source": [
    "message = \"Hello everyone. This is Python's class\""
   ]
  },
  {
   "cell_type": "code",
   "execution_count": 52,
   "id": "0749b946",
   "metadata": {},
   "outputs": [
    {
     "name": "stdout",
     "output_type": "stream",
     "text": [
      "Hello everyone. This is Python's class\n"
     ]
    }
   ],
   "source": [
    "print(message)"
   ]
  },
  {
   "cell_type": "code",
   "execution_count": 53,
   "id": "9c269213",
   "metadata": {},
   "outputs": [],
   "source": [
    "message = \"Hello everyone!\\nWe are learning Python.\\nLet's have fun learning.\\nBye.\""
   ]
  },
  {
   "cell_type": "code",
   "execution_count": 54,
   "id": "d2993987",
   "metadata": {},
   "outputs": [
    {
     "name": "stdout",
     "output_type": "stream",
     "text": [
      "Hello everyone!\n",
      "We are learning Python.\n",
      "Let's have fun learning.\n",
      "Bye.\n"
     ]
    }
   ],
   "source": [
    "print(message)"
   ]
  },
  {
   "cell_type": "code",
   "execution_count": 55,
   "id": "40278647",
   "metadata": {},
   "outputs": [
    {
     "ename": "SyntaxError",
     "evalue": "unterminated string literal (detected at line 1) (4121908571.py, line 1)",
     "output_type": "error",
     "traceback": [
      "\u001b[1;36m  Cell \u001b[1;32mIn[55], line 1\u001b[1;36m\u001b[0m\n\u001b[1;33m    message = \"Hello everyone!\u001b[0m\n\u001b[1;37m              ^\u001b[0m\n\u001b[1;31mSyntaxError\u001b[0m\u001b[1;31m:\u001b[0m unterminated string literal (detected at line 1)\n"
     ]
    }
   ],
   "source": [
    "message = \"Hello everyone!\n",
    "We are learning Python.\n",
    "Let's have fun learning.\n",
    "Bye.\""
   ]
  },
  {
   "cell_type": "code",
   "execution_count": 56,
   "id": "bb87c601",
   "metadata": {},
   "outputs": [],
   "source": [
    "message = \"\"\"Hello everyone!\n",
    "We are learning Python.\n",
    "Let's have fun learning.\n",
    "Bye.\"\"\""
   ]
  },
  {
   "cell_type": "code",
   "execution_count": 57,
   "id": "a37ba8a4",
   "metadata": {},
   "outputs": [
    {
     "name": "stdout",
     "output_type": "stream",
     "text": [
      "Hello everyone!\n",
      "We are learning Python.\n",
      "Let's have fun learning.\n",
      "Bye.\n"
     ]
    }
   ],
   "source": [
    "print(message)"
   ]
  },
  {
   "cell_type": "code",
   "execution_count": 58,
   "id": "4e6ef665",
   "metadata": {},
   "outputs": [],
   "source": [
    "message = \"Hello everyone!\\n\\n\\n\\nWe are learning Python.\\nLet's have fun learning.\\nBye.\""
   ]
  },
  {
   "cell_type": "code",
   "execution_count": 59,
   "id": "f10da422",
   "metadata": {},
   "outputs": [
    {
     "name": "stdout",
     "output_type": "stream",
     "text": [
      "Hello everyone!\n",
      "\n",
      "\n",
      "\n",
      "We are learning Python.\n",
      "Let's have fun learning.\n",
      "Bye.\n"
     ]
    }
   ],
   "source": [
    "print(message)"
   ]
  },
  {
   "cell_type": "code",
   "execution_count": 60,
   "id": "c3899bfe",
   "metadata": {},
   "outputs": [
    {
     "ename": "SyntaxError",
     "evalue": "unterminated triple-quoted string literal (detected at line 1) (212998737.py, line 1)",
     "output_type": "error",
     "traceback": [
      "\u001b[1;36m  Cell \u001b[1;32mIn[60], line 1\u001b[1;36m\u001b[0m\n\u001b[1;33m    message = Hello! This is Python's class. She asked, \"Why strings are used?\". The answer is: '''Because we need it.''' \"\"\"Bye\"\"\"\u001b[0m\n\u001b[1;37m                                                                                                                      ^\u001b[0m\n\u001b[1;31mSyntaxError\u001b[0m\u001b[1;31m:\u001b[0m unterminated triple-quoted string literal (detected at line 1)\n"
     ]
    }
   ],
   "source": [
    "message = Hello! This is Python's class. She asked, \"Why strings are used?\". The answer is: '''Because we need it.''' \"\"\"Bye\"\"\""
   ]
  },
  {
   "cell_type": "code",
   "execution_count": 61,
   "id": "1f3a0ae4",
   "metadata": {},
   "outputs": [
    {
     "ename": "SyntaxError",
     "evalue": "unterminated string literal (detected at line 1) (1888914799.py, line 1)",
     "output_type": "error",
     "traceback": [
      "\u001b[1;36m  Cell \u001b[1;32mIn[61], line 1\u001b[1;36m\u001b[0m\n\u001b[1;33m    message = 'Hello! This is Python's class. She asked, \"Why strings are used?\". The answer is: '''Because we need it.''' \"\"\"Bye\"\"\"'\u001b[0m\n\u001b[1;37m                                                                                                                                    ^\u001b[0m\n\u001b[1;31mSyntaxError\u001b[0m\u001b[1;31m:\u001b[0m unterminated string literal (detected at line 1)\n"
     ]
    }
   ],
   "source": [
    "message = 'Hello! This is Python's class. She asked, \"Why strings are used?\". The answer is: '''Because we need it.''' \"\"\"Bye\"\"\"'"
   ]
  },
  {
   "cell_type": "code",
   "execution_count": 62,
   "id": "e319d4cf",
   "metadata": {},
   "outputs": [
    {
     "ename": "SyntaxError",
     "evalue": "unterminated triple-quoted string literal (detected at line 1) (790430142.py, line 1)",
     "output_type": "error",
     "traceback": [
      "\u001b[1;36m  Cell \u001b[1;32mIn[62], line 1\u001b[1;36m\u001b[0m\n\u001b[1;33m    message = \"Hello! This is Python's class. She asked, \"Why strings are used?\". The answer is: '''Because we need it.''' \"\"\"Bye\"\"\"\"\u001b[0m\n\u001b[1;37m                                                                                                                                 ^\u001b[0m\n\u001b[1;31mSyntaxError\u001b[0m\u001b[1;31m:\u001b[0m unterminated triple-quoted string literal (detected at line 1)\n"
     ]
    }
   ],
   "source": [
    "message = \"Hello! This is Python's class. She asked, \"Why strings are used?\". The answer is: '''Because we need it.''' \"\"\"Bye\"\"\"\""
   ]
  },
  {
   "cell_type": "code",
   "execution_count": 63,
   "id": "fed1b5fc",
   "metadata": {},
   "outputs": [
    {
     "ename": "SyntaxError",
     "evalue": "invalid syntax (141891521.py, line 1)",
     "output_type": "error",
     "traceback": [
      "\u001b[1;36m  Cell \u001b[1;32mIn[63], line 1\u001b[1;36m\u001b[0m\n\u001b[1;33m    message = '''Hello! This is Python's class. She asked, \"Why strings are used?\". The answer is: '''Because we need it.''' \"\"\"Bye\"\"\"'''\u001b[0m\n\u001b[1;37m                                                                                                      ^\u001b[0m\n\u001b[1;31mSyntaxError\u001b[0m\u001b[1;31m:\u001b[0m invalid syntax\n"
     ]
    }
   ],
   "source": [
    "message = '''Hello! This is Python's class. She asked, \"Why strings are used?\". The answer is: '''Because we need it.''' \"\"\"Bye\"\"\"'''"
   ]
  },
  {
   "cell_type": "code",
   "execution_count": 64,
   "id": "0a327d36",
   "metadata": {},
   "outputs": [
    {
     "ename": "SyntaxError",
     "evalue": "invalid syntax (3152729621.py, line 1)",
     "output_type": "error",
     "traceback": [
      "\u001b[1;36m  Cell \u001b[1;32mIn[64], line 1\u001b[1;36m\u001b[0m\n\u001b[1;33m    message = \"\"\"Hello! This is Python's class. She asked, \"Why strings are used?\". The answer is: '''Because we need it.''' \"\"\"Bye\"\"\"\"\"\"\u001b[0m\n\u001b[1;37m                                                                                                                                ^\u001b[0m\n\u001b[1;31mSyntaxError\u001b[0m\u001b[1;31m:\u001b[0m invalid syntax\n"
     ]
    }
   ],
   "source": [
    "message = \"\"\"Hello! This is Python's class. She asked, \"Why strings are used?\". The answer is: '''Because we need it.''' \"\"\"Bye\"\"\"\"\"\""
   ]
  },
  {
   "cell_type": "markdown",
   "id": "9f00aaac",
   "metadata": {},
   "source": [
    "In this scenario, we will use a escape sequence => \\\n",
    "- \\ is a special character in Python that is used to negate/ignore the special meaning of any character in Python."
   ]
  },
  {
   "cell_type": "code",
   "execution_count": 65,
   "id": "06066558",
   "metadata": {},
   "outputs": [
    {
     "ename": "SyntaxError",
     "evalue": "unterminated triple-quoted string literal (detected at line 1) (1235412999.py, line 1)",
     "output_type": "error",
     "traceback": [
      "\u001b[1;36m  Cell \u001b[1;32mIn[65], line 1\u001b[1;36m\u001b[0m\n\u001b[1;33m    message = 'Hello! This is Python\\'s class. She asked, \"Why strings are used?\". The answer is: '''Because we need it.''' \"\"\"Bye\"\"\"'\u001b[0m\n\u001b[1;37m                                                                                                                        ^\u001b[0m\n\u001b[1;31mSyntaxError\u001b[0m\u001b[1;31m:\u001b[0m unterminated triple-quoted string literal (detected at line 1)\n"
     ]
    }
   ],
   "source": [
    "message = 'Hello! This is Python\\'s class. She asked, \"Why strings are used?\". The answer is: '''Because we need it.''' \"\"\"Bye\"\"\"'"
   ]
  },
  {
   "cell_type": "code",
   "execution_count": 68,
   "id": "3e7d97e7",
   "metadata": {},
   "outputs": [],
   "source": [
    "message = 'Hello! This is Python\\'s class. She asked, \"Why strings are used?\". The answer is: \\'\\'\\'Because we need it.\\'\\'\\' \"\"\"Bye\"\"\"'"
   ]
  },
  {
   "cell_type": "code",
   "execution_count": 69,
   "id": "6d325787",
   "metadata": {},
   "outputs": [
    {
     "name": "stdout",
     "output_type": "stream",
     "text": [
      "Hello! This is Python's class. She asked, \"Why strings are used?\". The answer is: '''Because we need it.''' \"\"\"Bye\"\"\"\n"
     ]
    }
   ],
   "source": [
    "print(message)"
   ]
  },
  {
   "cell_type": "code",
   "execution_count": null,
   "id": "0fe7c634",
   "metadata": {},
   "outputs": [],
   "source": []
  },
  {
   "cell_type": "markdown",
   "id": "9ee8efce",
   "metadata": {},
   "source": [
    "- Boolean literal\n",
    "- True, False"
   ]
  },
  {
   "cell_type": "code",
   "execution_count": 70,
   "id": "fd04ebcf",
   "metadata": {},
   "outputs": [],
   "source": [
    "val1 = True"
   ]
  },
  {
   "cell_type": "code",
   "execution_count": 71,
   "id": "fab49c77",
   "metadata": {},
   "outputs": [
    {
     "name": "stdout",
     "output_type": "stream",
     "text": [
      "True\n"
     ]
    }
   ],
   "source": [
    "print(val1)"
   ]
  },
  {
   "cell_type": "code",
   "execution_count": 72,
   "id": "5a594d18",
   "metadata": {},
   "outputs": [],
   "source": [
    "val2 = False"
   ]
  },
  {
   "cell_type": "code",
   "execution_count": 73,
   "id": "ac72486a",
   "metadata": {},
   "outputs": [
    {
     "name": "stdout",
     "output_type": "stream",
     "text": [
      "False\n"
     ]
    }
   ],
   "source": [
    "print(val2)"
   ]
  },
  {
   "cell_type": "code",
   "execution_count": null,
   "id": "1ffc0981",
   "metadata": {},
   "outputs": [],
   "source": []
  },
  {
   "cell_type": "markdown",
   "id": "c36e8f58",
   "metadata": {},
   "source": [
    "- Special literal\n",
    "- None"
   ]
  },
  {
   "cell_type": "code",
   "execution_count": 74,
   "id": "a793edaf",
   "metadata": {},
   "outputs": [],
   "source": [
    "val3 = None"
   ]
  },
  {
   "cell_type": "code",
   "execution_count": 75,
   "id": "659f6319",
   "metadata": {},
   "outputs": [
    {
     "name": "stdout",
     "output_type": "stream",
     "text": [
      "None\n"
     ]
    }
   ],
   "source": [
    "print(val3)"
   ]
  },
  {
   "cell_type": "code",
   "execution_count": 76,
   "id": "aacbaa2e",
   "metadata": {},
   "outputs": [
    {
     "data": {
      "text/plain": [
       "140729488927472"
      ]
     },
     "execution_count": 76,
     "metadata": {},
     "output_type": "execute_result"
    }
   ],
   "source": [
    "id(val3)"
   ]
  },
  {
   "cell_type": "code",
   "execution_count": null,
   "id": "7b1abcaa",
   "metadata": {},
   "outputs": [],
   "source": []
  },
  {
   "cell_type": "markdown",
   "id": "a6321f34",
   "metadata": {},
   "source": [
    "#### Identifier\n",
    "\n",
    "- It is the name given to a variable or a function"
   ]
  },
  {
   "cell_type": "code",
   "execution_count": 77,
   "id": "3824db61",
   "metadata": {},
   "outputs": [],
   "source": [
    "age = 40"
   ]
  },
  {
   "cell_type": "markdown",
   "id": "91448483",
   "metadata": {},
   "source": [
    "Here, age is an identifier. 40 is a numerical (int) literal. = is an operator."
   ]
  },
  {
   "cell_type": "code",
   "execution_count": 78,
   "id": "b3caa8c6",
   "metadata": {},
   "outputs": [],
   "source": [
    "def function_name():\n",
    "    print(\"Hello\")"
   ]
  },
  {
   "cell_type": "markdown",
   "id": "c33a9c8f",
   "metadata": {},
   "source": [
    "function_name is an identifier."
   ]
  },
  {
   "cell_type": "code",
   "execution_count": null,
   "id": "9c7da57d",
   "metadata": {},
   "outputs": [],
   "source": []
  },
  {
   "cell_type": "markdown",
   "id": "dc32eb4b",
   "metadata": {},
   "source": [
    "Rules to create identifiers:\n",
    "- Only a-z, A-Z, 0-9, _ are allowed in identifiers.\n",
    "- No other special character can be used.\n",
    "- It cannot start with a digit (0-9).\n",
    "- Cannot use keywords as identifiers.\n",
    "- Identifiers are case sensitive. age is not same as Age.\n",
    "- It is highly recommended NOT to use function names as identifiers."
   ]
  },
  {
   "cell_type": "code",
   "execution_count": 79,
   "id": "b5a9d989",
   "metadata": {},
   "outputs": [],
   "source": [
    "var_1 = 200"
   ]
  },
  {
   "cell_type": "code",
   "execution_count": 80,
   "id": "74f92eb9",
   "metadata": {},
   "outputs": [
    {
     "name": "stdout",
     "output_type": "stream",
     "text": [
      "200\n"
     ]
    }
   ],
   "source": [
    "print(var_1)"
   ]
  },
  {
   "cell_type": "code",
   "execution_count": 81,
   "id": "31ab6667",
   "metadata": {},
   "outputs": [],
   "source": [
    "Value_2 = 3"
   ]
  },
  {
   "cell_type": "code",
   "execution_count": 82,
   "id": "e3615045",
   "metadata": {},
   "outputs": [
    {
     "name": "stdout",
     "output_type": "stream",
     "text": [
      "3\n"
     ]
    }
   ],
   "source": [
    "print(Value_2)"
   ]
  },
  {
   "cell_type": "code",
   "execution_count": 83,
   "id": "72d5b5a0",
   "metadata": {},
   "outputs": [],
   "source": [
    "num = 0"
   ]
  },
  {
   "cell_type": "code",
   "execution_count": 84,
   "id": "fbf29eab",
   "metadata": {},
   "outputs": [
    {
     "name": "stdout",
     "output_type": "stream",
     "text": [
      "0\n"
     ]
    }
   ],
   "source": [
    "print(num)"
   ]
  },
  {
   "cell_type": "code",
   "execution_count": 85,
   "id": "0dd41c65",
   "metadata": {},
   "outputs": [
    {
     "ename": "SyntaxError",
     "evalue": "cannot assign to expression here. Maybe you meant '==' instead of '='? (22065879.py, line 1)",
     "output_type": "error",
     "traceback": [
      "\u001b[1;36m  Cell \u001b[1;32mIn[85], line 1\u001b[1;36m\u001b[0m\n\u001b[1;33m    var-1 = 100\u001b[0m\n\u001b[1;37m    ^\u001b[0m\n\u001b[1;31mSyntaxError\u001b[0m\u001b[1;31m:\u001b[0m cannot assign to expression here. Maybe you meant '==' instead of '='?\n"
     ]
    }
   ],
   "source": [
    "var-1 = 100"
   ]
  },
  {
   "cell_type": "code",
   "execution_count": 86,
   "id": "01604fb5",
   "metadata": {},
   "outputs": [
    {
     "ename": "SyntaxError",
     "evalue": "invalid syntax (3131498389.py, line 1)",
     "output_type": "error",
     "traceback": [
      "\u001b[1;36m  Cell \u001b[1;32mIn[86], line 1\u001b[1;36m\u001b[0m\n\u001b[1;33m    var$1 = 200\u001b[0m\n\u001b[1;37m       ^\u001b[0m\n\u001b[1;31mSyntaxError\u001b[0m\u001b[1;31m:\u001b[0m invalid syntax\n"
     ]
    }
   ],
   "source": [
    "var$1 = 200"
   ]
  },
  {
   "cell_type": "code",
   "execution_count": 87,
   "id": "274d88c7",
   "metadata": {},
   "outputs": [],
   "source": [
    "def func1():\n",
    "    print('hi')"
   ]
  },
  {
   "cell_type": "code",
   "execution_count": 88,
   "id": "98e4e830",
   "metadata": {},
   "outputs": [
    {
     "ename": "SyntaxError",
     "evalue": "invalid decimal literal (1318934024.py, line 1)",
     "output_type": "error",
     "traceback": [
      "\u001b[1;36m  Cell \u001b[1;32mIn[88], line 1\u001b[1;36m\u001b[0m\n\u001b[1;33m    def 1func():\u001b[0m\n\u001b[1;37m        ^\u001b[0m\n\u001b[1;31mSyntaxError\u001b[0m\u001b[1;31m:\u001b[0m invalid decimal literal\n"
     ]
    }
   ],
   "source": [
    "def 1func():\n",
    "    print('hi')"
   ]
  },
  {
   "cell_type": "code",
   "execution_count": 89,
   "id": "e0bc9765",
   "metadata": {},
   "outputs": [
    {
     "ename": "SyntaxError",
     "evalue": "invalid decimal literal (2953493666.py, line 1)",
     "output_type": "error",
     "traceback": [
      "\u001b[1;36m  Cell \u001b[1;32mIn[89], line 1\u001b[1;36m\u001b[0m\n\u001b[1;33m    1name = \"Mark\"\u001b[0m\n\u001b[1;37m    ^\u001b[0m\n\u001b[1;31mSyntaxError\u001b[0m\u001b[1;31m:\u001b[0m invalid decimal literal\n"
     ]
    }
   ],
   "source": [
    "1name = \"Mark\""
   ]
  },
  {
   "cell_type": "code",
   "execution_count": 90,
   "id": "7175fd5c",
   "metadata": {},
   "outputs": [],
   "source": [
    "n1ame = 'Mark'"
   ]
  },
  {
   "cell_type": "code",
   "execution_count": 91,
   "id": "172e903b",
   "metadata": {},
   "outputs": [
    {
     "name": "stdout",
     "output_type": "stream",
     "text": [
      "Mark\n"
     ]
    }
   ],
   "source": [
    "print(n1ame)"
   ]
  },
  {
   "cell_type": "code",
   "execution_count": 92,
   "id": "ab03b44b",
   "metadata": {},
   "outputs": [
    {
     "ename": "SyntaxError",
     "evalue": "invalid syntax (1093034987.py, line 1)",
     "output_type": "error",
     "traceback": [
      "\u001b[1;36m  Cell \u001b[1;32mIn[92], line 1\u001b[1;36m\u001b[0m\n\u001b[1;33m    def = 100\u001b[0m\n\u001b[1;37m        ^\u001b[0m\n\u001b[1;31mSyntaxError\u001b[0m\u001b[1;31m:\u001b[0m invalid syntax\n"
     ]
    }
   ],
   "source": [
    "def = 100"
   ]
  },
  {
   "cell_type": "code",
   "execution_count": 93,
   "id": "7edf93eb",
   "metadata": {},
   "outputs": [],
   "source": [
    "age = 20"
   ]
  },
  {
   "cell_type": "code",
   "execution_count": 94,
   "id": "3e19c658",
   "metadata": {},
   "outputs": [],
   "source": [
    "Age = 30"
   ]
  },
  {
   "cell_type": "code",
   "execution_count": 95,
   "id": "ccbb6814",
   "metadata": {},
   "outputs": [
    {
     "name": "stdout",
     "output_type": "stream",
     "text": [
      "20\n"
     ]
    }
   ],
   "source": [
    "print(age)"
   ]
  },
  {
   "cell_type": "code",
   "execution_count": 96,
   "id": "a4da4993",
   "metadata": {},
   "outputs": [
    {
     "name": "stdout",
     "output_type": "stream",
     "text": [
      "30\n"
     ]
    }
   ],
   "source": [
    "print(Age)"
   ]
  },
  {
   "cell_type": "markdown",
   "id": "fad3c5b0",
   "metadata": {},
   "source": [
    "print = 2\n",
    "\n",
    "Python will NOT give an error.\n",
    "\n",
    "After we run this line of code, print function will lose it's functionality and we cannot use it further as a function to display the values.\n",
    "\n",
    "print will become a variable with value 2"
   ]
  },
  {
   "cell_type": "code",
   "execution_count": 97,
   "id": "6323f43e",
   "metadata": {},
   "outputs": [
    {
     "name": "stdout",
     "output_type": "stream",
     "text": [
      "100\n"
     ]
    }
   ],
   "source": [
    "print(num1)"
   ]
  },
  {
   "cell_type": "code",
   "execution_count": null,
   "id": "c812c722",
   "metadata": {},
   "outputs": [],
   "source": []
  },
  {
   "cell_type": "markdown",
   "id": "46c787cd",
   "metadata": {},
   "source": [
    "### Variable\n",
    "\n",
    "- name given to the entity which is used to store a value.\n",
    "- Value of a variable can be changed."
   ]
  },
  {
   "cell_type": "code",
   "execution_count": 98,
   "id": "8243ece7",
   "metadata": {},
   "outputs": [],
   "source": [
    "age = 10"
   ]
  },
  {
   "cell_type": "code",
   "execution_count": 99,
   "id": "ad575d6b",
   "metadata": {},
   "outputs": [
    {
     "name": "stdout",
     "output_type": "stream",
     "text": [
      "10\n"
     ]
    }
   ],
   "source": [
    "print(age)"
   ]
  },
  {
   "cell_type": "markdown",
   "id": "46bcf2ff",
   "metadata": {},
   "source": [
    "Rules of a Variable is same as an Identifier!!!"
   ]
  },
  {
   "cell_type": "code",
   "execution_count": 100,
   "id": "80e4f5e3",
   "metadata": {},
   "outputs": [
    {
     "ename": "SyntaxError",
     "evalue": "invalid syntax (1636447395.py, line 1)",
     "output_type": "error",
     "traceback": [
      "\u001b[1;36m  Cell \u001b[1;32mIn[100], line 1\u001b[1;36m\u001b[0m\n\u001b[1;33m    first name = \"Mark\"\u001b[0m\n\u001b[1;37m          ^\u001b[0m\n\u001b[1;31mSyntaxError\u001b[0m\u001b[1;31m:\u001b[0m invalid syntax\n"
     ]
    }
   ],
   "source": [
    "first name = \"Mark\""
   ]
  },
  {
   "cell_type": "code",
   "execution_count": 101,
   "id": "5fbf9081",
   "metadata": {},
   "outputs": [],
   "source": [
    "firstname = \"Mark\""
   ]
  },
  {
   "cell_type": "code",
   "execution_count": 102,
   "id": "60a87296",
   "metadata": {},
   "outputs": [],
   "source": [
    "first_name = \"Mark\""
   ]
  },
  {
   "cell_type": "code",
   "execution_count": 103,
   "id": "b95b5a44",
   "metadata": {},
   "outputs": [],
   "source": [
    "FirstName = \"Mark\""
   ]
  },
  {
   "cell_type": "code",
   "execution_count": 104,
   "id": "8831934f",
   "metadata": {},
   "outputs": [
    {
     "ename": "SyntaxError",
     "evalue": "invalid decimal literal (2891102900.py, line 1)",
     "output_type": "error",
     "traceback": [
      "\u001b[1;36m  Cell \u001b[1;32mIn[104], line 1\u001b[1;36m\u001b[0m\n\u001b[1;33m    1stname = \"Mark\"\u001b[0m\n\u001b[1;37m    ^\u001b[0m\n\u001b[1;31mSyntaxError\u001b[0m\u001b[1;31m:\u001b[0m invalid decimal literal\n"
     ]
    }
   ],
   "source": [
    "1stname = \"Mark\""
   ]
  },
  {
   "cell_type": "code",
   "execution_count": null,
   "id": "9cef47be",
   "metadata": {},
   "outputs": [],
   "source": []
  },
  {
   "cell_type": "code",
   "execution_count": null,
   "id": "01bdc724",
   "metadata": {},
   "outputs": [],
   "source": []
  }
 ],
 "metadata": {
  "kernelspec": {
   "display_name": "Python 3 (ipykernel)",
   "language": "python",
   "name": "python3"
  },
  "language_info": {
   "codemirror_mode": {
    "name": "ipython",
    "version": 3
   },
   "file_extension": ".py",
   "mimetype": "text/x-python",
   "name": "python",
   "nbconvert_exporter": "python",
   "pygments_lexer": "ipython3",
   "version": "3.11.4"
  }
 },
 "nbformat": 4,
 "nbformat_minor": 5
}
