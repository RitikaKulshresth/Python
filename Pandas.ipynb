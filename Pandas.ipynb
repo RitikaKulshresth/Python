{
 "cells": [
  {
   "cell_type": "code",
   "execution_count": 1,
   "id": "48fbb8c4",
   "metadata": {},
   "outputs": [],
   "source": [
    "# Pandas is a Python library\n",
    "# It provides data structures and functions that works with structured or tabular data"
   ]
  },
  {
   "cell_type": "code",
   "execution_count": 2,
   "id": "4e98d5e6",
   "metadata": {},
   "outputs": [],
   "source": [
    "# Pandas is designed to work with heterogeneous data"
   ]
  },
  {
   "cell_type": "markdown",
   "id": "e551310f",
   "metadata": {},
   "source": [
    "https://pandas.pydata.org/"
   ]
  },
  {
   "cell_type": "code",
   "execution_count": 3,
   "id": "5bc790a9",
   "metadata": {},
   "outputs": [],
   "source": [
    "import pandas as pd"
   ]
  },
  {
   "cell_type": "code",
   "execution_count": 4,
   "id": "c139787a",
   "metadata": {},
   "outputs": [],
   "source": [
    "# Series - 1D structure"
   ]
  },
  {
   "cell_type": "code",
   "execution_count": 5,
   "id": "a3d2cf54",
   "metadata": {},
   "outputs": [],
   "source": [
    "s1 = pd.Series([10, 20, 30, 40, 50])"
   ]
  },
  {
   "cell_type": "code",
   "execution_count": 6,
   "id": "122d91f2",
   "metadata": {},
   "outputs": [
    {
     "name": "stdout",
     "output_type": "stream",
     "text": [
      "0    10\n",
      "1    20\n",
      "2    30\n",
      "3    40\n",
      "4    50\n",
      "dtype: int64\n"
     ]
    }
   ],
   "source": [
    "print(s1)"
   ]
  },
  {
   "cell_type": "code",
   "execution_count": 8,
   "id": "a8346c24",
   "metadata": {},
   "outputs": [],
   "source": [
    "l1 = [10, 20, 30, 40, 50]"
   ]
  },
  {
   "cell_type": "code",
   "execution_count": 9,
   "id": "60c1df34",
   "metadata": {},
   "outputs": [
    {
     "data": {
      "text/plain": [
       "[10, 20, 30, 40, 50]"
      ]
     },
     "execution_count": 9,
     "metadata": {},
     "output_type": "execute_result"
    }
   ],
   "source": [
    "l1"
   ]
  },
  {
   "cell_type": "code",
   "execution_count": 10,
   "id": "c4a3e2fb",
   "metadata": {},
   "outputs": [
    {
     "data": {
      "text/plain": [
       "pandas.core.series.Series"
      ]
     },
     "execution_count": 10,
     "metadata": {},
     "output_type": "execute_result"
    }
   ],
   "source": [
    "type(s1)"
   ]
  },
  {
   "cell_type": "code",
   "execution_count": 12,
   "id": "056753b2",
   "metadata": {},
   "outputs": [],
   "source": [
    "i1 = s1.index"
   ]
  },
  {
   "cell_type": "code",
   "execution_count": 13,
   "id": "6132d3bb",
   "metadata": {},
   "outputs": [
    {
     "data": {
      "text/plain": [
       "RangeIndex(start=0, stop=5, step=1)"
      ]
     },
     "execution_count": 13,
     "metadata": {},
     "output_type": "execute_result"
    }
   ],
   "source": [
    "i1"
   ]
  },
  {
   "cell_type": "code",
   "execution_count": 14,
   "id": "1396e00a",
   "metadata": {},
   "outputs": [
    {
     "data": {
      "text/plain": [
       "pandas.core.indexes.range.RangeIndex"
      ]
     },
     "execution_count": 14,
     "metadata": {},
     "output_type": "execute_result"
    }
   ],
   "source": [
    "type(i1)"
   ]
  },
  {
   "cell_type": "code",
   "execution_count": 16,
   "id": "34dc2f57",
   "metadata": {},
   "outputs": [],
   "source": [
    "v1 = s1.values"
   ]
  },
  {
   "cell_type": "code",
   "execution_count": 17,
   "id": "9ae3d167",
   "metadata": {},
   "outputs": [
    {
     "data": {
      "text/plain": [
       "array([10, 20, 30, 40, 50], dtype=int64)"
      ]
     },
     "execution_count": 17,
     "metadata": {},
     "output_type": "execute_result"
    }
   ],
   "source": [
    "v1"
   ]
  },
  {
   "cell_type": "code",
   "execution_count": 18,
   "id": "699ca1ff",
   "metadata": {},
   "outputs": [
    {
     "data": {
      "text/plain": [
       "numpy.ndarray"
      ]
     },
     "execution_count": 18,
     "metadata": {},
     "output_type": "execute_result"
    }
   ],
   "source": [
    "type(v1)"
   ]
  },
  {
   "cell_type": "code",
   "execution_count": 19,
   "id": "b1737ab5",
   "metadata": {},
   "outputs": [
    {
     "data": {
      "text/plain": [
       "0    10\n",
       "1    20\n",
       "2    30\n",
       "3    40\n",
       "4    50\n",
       "dtype: int64"
      ]
     },
     "execution_count": 19,
     "metadata": {},
     "output_type": "execute_result"
    }
   ],
   "source": [
    "s1"
   ]
  },
  {
   "cell_type": "code",
   "execution_count": 20,
   "id": "1dea40df",
   "metadata": {},
   "outputs": [
    {
     "data": {
      "text/plain": [
       "[10, 20, 30, 40, 50]"
      ]
     },
     "execution_count": 20,
     "metadata": {},
     "output_type": "execute_result"
    }
   ],
   "source": [
    "l1"
   ]
  },
  {
   "cell_type": "code",
   "execution_count": 21,
   "id": "587a207d",
   "metadata": {},
   "outputs": [],
   "source": [
    "s2 = pd.Series(l1, index=[1, 2, 3, 4, 5])"
   ]
  },
  {
   "cell_type": "code",
   "execution_count": 22,
   "id": "d3ae489e",
   "metadata": {},
   "outputs": [
    {
     "data": {
      "text/plain": [
       "1    10\n",
       "2    20\n",
       "3    30\n",
       "4    40\n",
       "5    50\n",
       "dtype: int64"
      ]
     },
     "execution_count": 22,
     "metadata": {},
     "output_type": "execute_result"
    }
   ],
   "source": [
    "s2"
   ]
  },
  {
   "cell_type": "code",
   "execution_count": 23,
   "id": "c40d6d9d",
   "metadata": {},
   "outputs": [],
   "source": [
    "i2 = s2.index"
   ]
  },
  {
   "cell_type": "code",
   "execution_count": 24,
   "id": "4fcf02bd",
   "metadata": {},
   "outputs": [
    {
     "data": {
      "text/plain": [
       "Int64Index([1, 2, 3, 4, 5], dtype='int64')"
      ]
     },
     "execution_count": 24,
     "metadata": {},
     "output_type": "execute_result"
    }
   ],
   "source": [
    "i2"
   ]
  },
  {
   "cell_type": "code",
   "execution_count": 25,
   "id": "85ebfb98",
   "metadata": {},
   "outputs": [
    {
     "data": {
      "text/plain": [
       "pandas.core.indexes.numeric.Int64Index"
      ]
     },
     "execution_count": 25,
     "metadata": {},
     "output_type": "execute_result"
    }
   ],
   "source": [
    "type(i2)"
   ]
  },
  {
   "cell_type": "code",
   "execution_count": 26,
   "id": "34e394ab",
   "metadata": {},
   "outputs": [],
   "source": [
    "v2 = s2.values"
   ]
  },
  {
   "cell_type": "code",
   "execution_count": 27,
   "id": "3caa7527",
   "metadata": {},
   "outputs": [
    {
     "data": {
      "text/plain": [
       "array([10, 20, 30, 40, 50], dtype=int64)"
      ]
     },
     "execution_count": 27,
     "metadata": {},
     "output_type": "execute_result"
    }
   ],
   "source": [
    "v2"
   ]
  },
  {
   "cell_type": "code",
   "execution_count": null,
   "id": "8d3d5212",
   "metadata": {},
   "outputs": [],
   "source": []
  },
  {
   "cell_type": "code",
   "execution_count": 28,
   "id": "278ac345",
   "metadata": {},
   "outputs": [],
   "source": [
    "s3 = pd.Series(l1, index=['a', 'b', 'c', 'd', 'e'])"
   ]
  },
  {
   "cell_type": "code",
   "execution_count": 29,
   "id": "10a2bcc9",
   "metadata": {},
   "outputs": [
    {
     "data": {
      "text/plain": [
       "a    10\n",
       "b    20\n",
       "c    30\n",
       "d    40\n",
       "e    50\n",
       "dtype: int64"
      ]
     },
     "execution_count": 29,
     "metadata": {},
     "output_type": "execute_result"
    }
   ],
   "source": [
    "s3"
   ]
  },
  {
   "cell_type": "code",
   "execution_count": 30,
   "id": "e03a9f8c",
   "metadata": {},
   "outputs": [],
   "source": [
    "i3 = s3.index"
   ]
  },
  {
   "cell_type": "code",
   "execution_count": 31,
   "id": "a27527c3",
   "metadata": {},
   "outputs": [
    {
     "data": {
      "text/plain": [
       "Index(['a', 'b', 'c', 'd', 'e'], dtype='object')"
      ]
     },
     "execution_count": 31,
     "metadata": {},
     "output_type": "execute_result"
    }
   ],
   "source": [
    "i3"
   ]
  },
  {
   "cell_type": "code",
   "execution_count": 32,
   "id": "1745e2c0",
   "metadata": {},
   "outputs": [
    {
     "data": {
      "text/plain": [
       "pandas.core.indexes.base.Index"
      ]
     },
     "execution_count": 32,
     "metadata": {},
     "output_type": "execute_result"
    }
   ],
   "source": [
    "type(i3)"
   ]
  },
  {
   "cell_type": "code",
   "execution_count": null,
   "id": "9dab3fcb",
   "metadata": {},
   "outputs": [],
   "source": []
  },
  {
   "cell_type": "code",
   "execution_count": 33,
   "id": "00b772eb",
   "metadata": {},
   "outputs": [
    {
     "ename": "ValueError",
     "evalue": "Length of values (3) does not match length of index (4)",
     "output_type": "error",
     "traceback": [
      "\u001b[1;31m---------------------------------------------------------------------------\u001b[0m",
      "\u001b[1;31mValueError\u001b[0m                                Traceback (most recent call last)",
      "Cell \u001b[1;32mIn[33], line 1\u001b[0m\n\u001b[1;32m----> 1\u001b[0m s4 \u001b[38;5;241m=\u001b[39m pd\u001b[38;5;241m.\u001b[39mSeries([\u001b[38;5;241m21\u001b[39m, \u001b[38;5;241m38\u001b[39m, \u001b[38;5;241m15\u001b[39m], index\u001b[38;5;241m=\u001b[39m[\u001b[38;5;124m'\u001b[39m\u001b[38;5;124ma\u001b[39m\u001b[38;5;124m'\u001b[39m, \u001b[38;5;124m'\u001b[39m\u001b[38;5;124mb\u001b[39m\u001b[38;5;124m'\u001b[39m, \u001b[38;5;124m'\u001b[39m\u001b[38;5;124mc\u001b[39m\u001b[38;5;124m'\u001b[39m, \u001b[38;5;124m'\u001b[39m\u001b[38;5;124md\u001b[39m\u001b[38;5;124m'\u001b[39m])\n",
      "File \u001b[1;32m~\\anaconda3\\Lib\\site-packages\\pandas\\core\\series.py:461\u001b[0m, in \u001b[0;36mSeries.__init__\u001b[1;34m(self, data, index, dtype, name, copy, fastpath)\u001b[0m\n\u001b[0;32m    459\u001b[0m     index \u001b[38;5;241m=\u001b[39m default_index(\u001b[38;5;28mlen\u001b[39m(data))\n\u001b[0;32m    460\u001b[0m \u001b[38;5;28;01melif\u001b[39;00m is_list_like(data):\n\u001b[1;32m--> 461\u001b[0m     com\u001b[38;5;241m.\u001b[39mrequire_length_match(data, index)\n\u001b[0;32m    463\u001b[0m \u001b[38;5;66;03m# create/copy the manager\u001b[39;00m\n\u001b[0;32m    464\u001b[0m \u001b[38;5;28;01mif\u001b[39;00m \u001b[38;5;28misinstance\u001b[39m(data, (SingleBlockManager, SingleArrayManager)):\n",
      "File \u001b[1;32m~\\anaconda3\\Lib\\site-packages\\pandas\\core\\common.py:571\u001b[0m, in \u001b[0;36mrequire_length_match\u001b[1;34m(data, index)\u001b[0m\n\u001b[0;32m    567\u001b[0m \u001b[38;5;250m\u001b[39m\u001b[38;5;124;03m\"\"\"\u001b[39;00m\n\u001b[0;32m    568\u001b[0m \u001b[38;5;124;03mCheck the length of data matches the length of the index.\u001b[39;00m\n\u001b[0;32m    569\u001b[0m \u001b[38;5;124;03m\"\"\"\u001b[39;00m\n\u001b[0;32m    570\u001b[0m \u001b[38;5;28;01mif\u001b[39;00m \u001b[38;5;28mlen\u001b[39m(data) \u001b[38;5;241m!=\u001b[39m \u001b[38;5;28mlen\u001b[39m(index):\n\u001b[1;32m--> 571\u001b[0m     \u001b[38;5;28;01mraise\u001b[39;00m \u001b[38;5;167;01mValueError\u001b[39;00m(\n\u001b[0;32m    572\u001b[0m         \u001b[38;5;124m\"\u001b[39m\u001b[38;5;124mLength of values \u001b[39m\u001b[38;5;124m\"\u001b[39m\n\u001b[0;32m    573\u001b[0m         \u001b[38;5;124mf\u001b[39m\u001b[38;5;124m\"\u001b[39m\u001b[38;5;124m(\u001b[39m\u001b[38;5;132;01m{\u001b[39;00m\u001b[38;5;28mlen\u001b[39m(data)\u001b[38;5;132;01m}\u001b[39;00m\u001b[38;5;124m) \u001b[39m\u001b[38;5;124m\"\u001b[39m\n\u001b[0;32m    574\u001b[0m         \u001b[38;5;124m\"\u001b[39m\u001b[38;5;124mdoes not match length of index \u001b[39m\u001b[38;5;124m\"\u001b[39m\n\u001b[0;32m    575\u001b[0m         \u001b[38;5;124mf\u001b[39m\u001b[38;5;124m\"\u001b[39m\u001b[38;5;124m(\u001b[39m\u001b[38;5;132;01m{\u001b[39;00m\u001b[38;5;28mlen\u001b[39m(index)\u001b[38;5;132;01m}\u001b[39;00m\u001b[38;5;124m)\u001b[39m\u001b[38;5;124m\"\u001b[39m\n\u001b[0;32m    576\u001b[0m     )\n",
      "\u001b[1;31mValueError\u001b[0m: Length of values (3) does not match length of index (4)"
     ]
    }
   ],
   "source": [
    "s4 = pd.Series([21, 38, 15], index=['a', 'b', 'c', 'd'])"
   ]
  },
  {
   "cell_type": "code",
   "execution_count": 34,
   "id": "63e9e155",
   "metadata": {},
   "outputs": [
    {
     "ename": "ValueError",
     "evalue": "Length of values (3) does not match length of index (2)",
     "output_type": "error",
     "traceback": [
      "\u001b[1;31m---------------------------------------------------------------------------\u001b[0m",
      "\u001b[1;31mValueError\u001b[0m                                Traceback (most recent call last)",
      "Cell \u001b[1;32mIn[34], line 1\u001b[0m\n\u001b[1;32m----> 1\u001b[0m s4 \u001b[38;5;241m=\u001b[39m pd\u001b[38;5;241m.\u001b[39mSeries([\u001b[38;5;241m21\u001b[39m, \u001b[38;5;241m38\u001b[39m, \u001b[38;5;241m15\u001b[39m], index\u001b[38;5;241m=\u001b[39m[\u001b[38;5;124m'\u001b[39m\u001b[38;5;124ma\u001b[39m\u001b[38;5;124m'\u001b[39m, \u001b[38;5;124m'\u001b[39m\u001b[38;5;124mb\u001b[39m\u001b[38;5;124m'\u001b[39m])\n",
      "File \u001b[1;32m~\\anaconda3\\Lib\\site-packages\\pandas\\core\\series.py:461\u001b[0m, in \u001b[0;36mSeries.__init__\u001b[1;34m(self, data, index, dtype, name, copy, fastpath)\u001b[0m\n\u001b[0;32m    459\u001b[0m     index \u001b[38;5;241m=\u001b[39m default_index(\u001b[38;5;28mlen\u001b[39m(data))\n\u001b[0;32m    460\u001b[0m \u001b[38;5;28;01melif\u001b[39;00m is_list_like(data):\n\u001b[1;32m--> 461\u001b[0m     com\u001b[38;5;241m.\u001b[39mrequire_length_match(data, index)\n\u001b[0;32m    463\u001b[0m \u001b[38;5;66;03m# create/copy the manager\u001b[39;00m\n\u001b[0;32m    464\u001b[0m \u001b[38;5;28;01mif\u001b[39;00m \u001b[38;5;28misinstance\u001b[39m(data, (SingleBlockManager, SingleArrayManager)):\n",
      "File \u001b[1;32m~\\anaconda3\\Lib\\site-packages\\pandas\\core\\common.py:571\u001b[0m, in \u001b[0;36mrequire_length_match\u001b[1;34m(data, index)\u001b[0m\n\u001b[0;32m    567\u001b[0m \u001b[38;5;250m\u001b[39m\u001b[38;5;124;03m\"\"\"\u001b[39;00m\n\u001b[0;32m    568\u001b[0m \u001b[38;5;124;03mCheck the length of data matches the length of the index.\u001b[39;00m\n\u001b[0;32m    569\u001b[0m \u001b[38;5;124;03m\"\"\"\u001b[39;00m\n\u001b[0;32m    570\u001b[0m \u001b[38;5;28;01mif\u001b[39;00m \u001b[38;5;28mlen\u001b[39m(data) \u001b[38;5;241m!=\u001b[39m \u001b[38;5;28mlen\u001b[39m(index):\n\u001b[1;32m--> 571\u001b[0m     \u001b[38;5;28;01mraise\u001b[39;00m \u001b[38;5;167;01mValueError\u001b[39;00m(\n\u001b[0;32m    572\u001b[0m         \u001b[38;5;124m\"\u001b[39m\u001b[38;5;124mLength of values \u001b[39m\u001b[38;5;124m\"\u001b[39m\n\u001b[0;32m    573\u001b[0m         \u001b[38;5;124mf\u001b[39m\u001b[38;5;124m\"\u001b[39m\u001b[38;5;124m(\u001b[39m\u001b[38;5;132;01m{\u001b[39;00m\u001b[38;5;28mlen\u001b[39m(data)\u001b[38;5;132;01m}\u001b[39;00m\u001b[38;5;124m) \u001b[39m\u001b[38;5;124m\"\u001b[39m\n\u001b[0;32m    574\u001b[0m         \u001b[38;5;124m\"\u001b[39m\u001b[38;5;124mdoes not match length of index \u001b[39m\u001b[38;5;124m\"\u001b[39m\n\u001b[0;32m    575\u001b[0m         \u001b[38;5;124mf\u001b[39m\u001b[38;5;124m\"\u001b[39m\u001b[38;5;124m(\u001b[39m\u001b[38;5;132;01m{\u001b[39;00m\u001b[38;5;28mlen\u001b[39m(index)\u001b[38;5;132;01m}\u001b[39;00m\u001b[38;5;124m)\u001b[39m\u001b[38;5;124m\"\u001b[39m\n\u001b[0;32m    576\u001b[0m     )\n",
      "\u001b[1;31mValueError\u001b[0m: Length of values (3) does not match length of index (2)"
     ]
    }
   ],
   "source": [
    "s4 = pd.Series([21, 38, 15], index=['a', 'b'])"
   ]
  },
  {
   "cell_type": "code",
   "execution_count": null,
   "id": "ca6add46",
   "metadata": {},
   "outputs": [],
   "source": []
  },
  {
   "cell_type": "code",
   "execution_count": 36,
   "id": "634976d0",
   "metadata": {},
   "outputs": [
    {
     "data": {
      "text/plain": [
       "0    10\n",
       "1    20\n",
       "2    30\n",
       "3    40\n",
       "4    50\n",
       "dtype: int64"
      ]
     },
     "execution_count": 36,
     "metadata": {},
     "output_type": "execute_result"
    }
   ],
   "source": [
    "s1"
   ]
  },
  {
   "cell_type": "code",
   "execution_count": 37,
   "id": "8bc57ac3",
   "metadata": {},
   "outputs": [
    {
     "data": {
      "text/plain": [
       "10"
      ]
     },
     "execution_count": 37,
     "metadata": {},
     "output_type": "execute_result"
    }
   ],
   "source": [
    "s1[0]"
   ]
  },
  {
   "cell_type": "code",
   "execution_count": 38,
   "id": "fdf831f7",
   "metadata": {},
   "outputs": [
    {
     "data": {
      "text/plain": [
       "1    10\n",
       "2    20\n",
       "3    30\n",
       "4    40\n",
       "5    50\n",
       "dtype: int64"
      ]
     },
     "execution_count": 38,
     "metadata": {},
     "output_type": "execute_result"
    }
   ],
   "source": [
    "s2"
   ]
  },
  {
   "cell_type": "code",
   "execution_count": 39,
   "id": "5b06a370",
   "metadata": {},
   "outputs": [
    {
     "data": {
      "text/plain": [
       "40"
      ]
     },
     "execution_count": 39,
     "metadata": {},
     "output_type": "execute_result"
    }
   ],
   "source": [
    "s2[4]"
   ]
  },
  {
   "cell_type": "code",
   "execution_count": null,
   "id": "fd444e56",
   "metadata": {},
   "outputs": [],
   "source": []
  },
  {
   "cell_type": "code",
   "execution_count": 40,
   "id": "5ef01c7d",
   "metadata": {},
   "outputs": [
    {
     "data": {
      "text/plain": [
       "a    10\n",
       "b    20\n",
       "c    30\n",
       "d    40\n",
       "e    50\n",
       "dtype: int64"
      ]
     },
     "execution_count": 40,
     "metadata": {},
     "output_type": "execute_result"
    }
   ],
   "source": [
    "s3"
   ]
  },
  {
   "cell_type": "code",
   "execution_count": 41,
   "id": "3e247ad4",
   "metadata": {},
   "outputs": [
    {
     "data": {
      "text/plain": [
       "30"
      ]
     },
     "execution_count": 41,
     "metadata": {},
     "output_type": "execute_result"
    }
   ],
   "source": [
    "s3['c']"
   ]
  },
  {
   "cell_type": "code",
   "execution_count": 42,
   "id": "1f21b0c3",
   "metadata": {},
   "outputs": [
    {
     "data": {
      "text/plain": [
       "30"
      ]
     },
     "execution_count": 42,
     "metadata": {},
     "output_type": "execute_result"
    }
   ],
   "source": [
    "s3[2]"
   ]
  },
  {
   "cell_type": "code",
   "execution_count": 43,
   "id": "0971762c",
   "metadata": {},
   "outputs": [
    {
     "data": {
      "text/plain": [
       "0    10\n",
       "1    20\n",
       "2    30\n",
       "3    40\n",
       "4    50\n",
       "dtype: int64"
      ]
     },
     "execution_count": 43,
     "metadata": {},
     "output_type": "execute_result"
    }
   ],
   "source": [
    "s1"
   ]
  },
  {
   "cell_type": "code",
   "execution_count": null,
   "id": "39cef682",
   "metadata": {},
   "outputs": [],
   "source": []
  },
  {
   "cell_type": "code",
   "execution_count": 44,
   "id": "ba51332f",
   "metadata": {},
   "outputs": [
    {
     "data": {
      "text/plain": [
       "1    10\n",
       "2    20\n",
       "3    30\n",
       "4    40\n",
       "5    50\n",
       "dtype: int64"
      ]
     },
     "execution_count": 44,
     "metadata": {},
     "output_type": "execute_result"
    }
   ],
   "source": [
    "s2"
   ]
  },
  {
   "cell_type": "code",
   "execution_count": 45,
   "id": "713c57f3",
   "metadata": {},
   "outputs": [
    {
     "ename": "KeyError",
     "evalue": "0",
     "output_type": "error",
     "traceback": [
      "\u001b[1;31m---------------------------------------------------------------------------\u001b[0m",
      "\u001b[1;31mKeyError\u001b[0m                                  Traceback (most recent call last)",
      "File \u001b[1;32m~\\anaconda3\\Lib\\site-packages\\pandas\\core\\indexes\\base.py:3802\u001b[0m, in \u001b[0;36mIndex.get_loc\u001b[1;34m(self, key, method, tolerance)\u001b[0m\n\u001b[0;32m   3801\u001b[0m \u001b[38;5;28;01mtry\u001b[39;00m:\n\u001b[1;32m-> 3802\u001b[0m     \u001b[38;5;28;01mreturn\u001b[39;00m \u001b[38;5;28mself\u001b[39m\u001b[38;5;241m.\u001b[39m_engine\u001b[38;5;241m.\u001b[39mget_loc(casted_key)\n\u001b[0;32m   3803\u001b[0m \u001b[38;5;28;01mexcept\u001b[39;00m \u001b[38;5;167;01mKeyError\u001b[39;00m \u001b[38;5;28;01mas\u001b[39;00m err:\n",
      "File \u001b[1;32m~\\anaconda3\\Lib\\site-packages\\pandas\\_libs\\index.pyx:138\u001b[0m, in \u001b[0;36mpandas._libs.index.IndexEngine.get_loc\u001b[1;34m()\u001b[0m\n",
      "File \u001b[1;32m~\\anaconda3\\Lib\\site-packages\\pandas\\_libs\\index.pyx:165\u001b[0m, in \u001b[0;36mpandas._libs.index.IndexEngine.get_loc\u001b[1;34m()\u001b[0m\n",
      "File \u001b[1;32mpandas\\_libs\\hashtable_class_helper.pxi:2263\u001b[0m, in \u001b[0;36mpandas._libs.hashtable.Int64HashTable.get_item\u001b[1;34m()\u001b[0m\n",
      "File \u001b[1;32mpandas\\_libs\\hashtable_class_helper.pxi:2273\u001b[0m, in \u001b[0;36mpandas._libs.hashtable.Int64HashTable.get_item\u001b[1;34m()\u001b[0m\n",
      "\u001b[1;31mKeyError\u001b[0m: 0",
      "\nThe above exception was the direct cause of the following exception:\n",
      "\u001b[1;31mKeyError\u001b[0m                                  Traceback (most recent call last)",
      "Cell \u001b[1;32mIn[45], line 1\u001b[0m\n\u001b[1;32m----> 1\u001b[0m s2[\u001b[38;5;241m0\u001b[39m]\n",
      "File \u001b[1;32m~\\anaconda3\\Lib\\site-packages\\pandas\\core\\series.py:981\u001b[0m, in \u001b[0;36mSeries.__getitem__\u001b[1;34m(self, key)\u001b[0m\n\u001b[0;32m    978\u001b[0m     \u001b[38;5;28;01mreturn\u001b[39;00m \u001b[38;5;28mself\u001b[39m\u001b[38;5;241m.\u001b[39m_values[key]\n\u001b[0;32m    980\u001b[0m \u001b[38;5;28;01melif\u001b[39;00m key_is_scalar:\n\u001b[1;32m--> 981\u001b[0m     \u001b[38;5;28;01mreturn\u001b[39;00m \u001b[38;5;28mself\u001b[39m\u001b[38;5;241m.\u001b[39m_get_value(key)\n\u001b[0;32m    983\u001b[0m \u001b[38;5;28;01mif\u001b[39;00m is_hashable(key):\n\u001b[0;32m    984\u001b[0m     \u001b[38;5;66;03m# Otherwise index.get_value will raise InvalidIndexError\u001b[39;00m\n\u001b[0;32m    985\u001b[0m     \u001b[38;5;28;01mtry\u001b[39;00m:\n\u001b[0;32m    986\u001b[0m         \u001b[38;5;66;03m# For labels that don't resolve as scalars like tuples and frozensets\u001b[39;00m\n",
      "File \u001b[1;32m~\\anaconda3\\Lib\\site-packages\\pandas\\core\\series.py:1089\u001b[0m, in \u001b[0;36mSeries._get_value\u001b[1;34m(self, label, takeable)\u001b[0m\n\u001b[0;32m   1086\u001b[0m     \u001b[38;5;28;01mreturn\u001b[39;00m \u001b[38;5;28mself\u001b[39m\u001b[38;5;241m.\u001b[39m_values[label]\n\u001b[0;32m   1088\u001b[0m \u001b[38;5;66;03m# Similar to Index.get_value, but we do not fall back to positional\u001b[39;00m\n\u001b[1;32m-> 1089\u001b[0m loc \u001b[38;5;241m=\u001b[39m \u001b[38;5;28mself\u001b[39m\u001b[38;5;241m.\u001b[39mindex\u001b[38;5;241m.\u001b[39mget_loc(label)\n\u001b[0;32m   1090\u001b[0m \u001b[38;5;28;01mreturn\u001b[39;00m \u001b[38;5;28mself\u001b[39m\u001b[38;5;241m.\u001b[39mindex\u001b[38;5;241m.\u001b[39m_get_values_for_loc(\u001b[38;5;28mself\u001b[39m, loc, label)\n",
      "File \u001b[1;32m~\\anaconda3\\Lib\\site-packages\\pandas\\core\\indexes\\base.py:3804\u001b[0m, in \u001b[0;36mIndex.get_loc\u001b[1;34m(self, key, method, tolerance)\u001b[0m\n\u001b[0;32m   3802\u001b[0m     \u001b[38;5;28;01mreturn\u001b[39;00m \u001b[38;5;28mself\u001b[39m\u001b[38;5;241m.\u001b[39m_engine\u001b[38;5;241m.\u001b[39mget_loc(casted_key)\n\u001b[0;32m   3803\u001b[0m \u001b[38;5;28;01mexcept\u001b[39;00m \u001b[38;5;167;01mKeyError\u001b[39;00m \u001b[38;5;28;01mas\u001b[39;00m err:\n\u001b[1;32m-> 3804\u001b[0m     \u001b[38;5;28;01mraise\u001b[39;00m \u001b[38;5;167;01mKeyError\u001b[39;00m(key) \u001b[38;5;28;01mfrom\u001b[39;00m \u001b[38;5;21;01merr\u001b[39;00m\n\u001b[0;32m   3805\u001b[0m \u001b[38;5;28;01mexcept\u001b[39;00m \u001b[38;5;167;01mTypeError\u001b[39;00m:\n\u001b[0;32m   3806\u001b[0m     \u001b[38;5;66;03m# If we have a listlike key, _check_indexing_error will raise\u001b[39;00m\n\u001b[0;32m   3807\u001b[0m     \u001b[38;5;66;03m#  InvalidIndexError. Otherwise we fall through and re-raise\u001b[39;00m\n\u001b[0;32m   3808\u001b[0m     \u001b[38;5;66;03m#  the TypeError.\u001b[39;00m\n\u001b[0;32m   3809\u001b[0m     \u001b[38;5;28mself\u001b[39m\u001b[38;5;241m.\u001b[39m_check_indexing_error(key)\n",
      "\u001b[1;31mKeyError\u001b[0m: 0"
     ]
    }
   ],
   "source": [
    "s2[0]"
   ]
  },
  {
   "cell_type": "code",
   "execution_count": 46,
   "id": "36b7cfb7",
   "metadata": {},
   "outputs": [],
   "source": [
    "# loc => outer index\n",
    "# iloc => inner index"
   ]
  },
  {
   "cell_type": "code",
   "execution_count": 47,
   "id": "da63b8e2",
   "metadata": {},
   "outputs": [
    {
     "data": {
      "text/plain": [
       "1    10\n",
       "2    20\n",
       "3    30\n",
       "4    40\n",
       "5    50\n",
       "dtype: int64"
      ]
     },
     "execution_count": 47,
     "metadata": {},
     "output_type": "execute_result"
    }
   ],
   "source": [
    "s2"
   ]
  },
  {
   "cell_type": "code",
   "execution_count": 48,
   "id": "846e1f73",
   "metadata": {},
   "outputs": [
    {
     "data": {
      "text/plain": [
       "30"
      ]
     },
     "execution_count": 48,
     "metadata": {},
     "output_type": "execute_result"
    }
   ],
   "source": [
    "s2.loc[3]"
   ]
  },
  {
   "cell_type": "code",
   "execution_count": 49,
   "id": "81bb115f",
   "metadata": {},
   "outputs": [
    {
     "data": {
      "text/plain": [
       "40"
      ]
     },
     "execution_count": 49,
     "metadata": {},
     "output_type": "execute_result"
    }
   ],
   "source": [
    "s2.iloc[3]"
   ]
  },
  {
   "cell_type": "code",
   "execution_count": null,
   "id": "2b64fb7d",
   "metadata": {},
   "outputs": [],
   "source": []
  },
  {
   "cell_type": "code",
   "execution_count": 50,
   "id": "67ce8ca6",
   "metadata": {},
   "outputs": [],
   "source": [
    "sub1 = pd.Series([77.0, 81.0, 89.5, 91.0, 65.5], index=['Alice', 'Carol', 'Dan', 'Jill', 'John'])"
   ]
  },
  {
   "cell_type": "code",
   "execution_count": 51,
   "id": "f176ce2d",
   "metadata": {},
   "outputs": [
    {
     "data": {
      "text/plain": [
       "Alice    77.0\n",
       "Carol    81.0\n",
       "Dan      89.5\n",
       "Jill     91.0\n",
       "John     65.5\n",
       "dtype: float64"
      ]
     },
     "execution_count": 51,
     "metadata": {},
     "output_type": "execute_result"
    }
   ],
   "source": [
    "sub1"
   ]
  },
  {
   "cell_type": "code",
   "execution_count": 52,
   "id": "04294e9d",
   "metadata": {},
   "outputs": [],
   "source": [
    "sub1 = pd.Series([77.0, 81.0, 89.5, 91.0, 65.5], index=['Alice', 'Carol', 'Dan', 'Jill', 'John'], name='English')"
   ]
  },
  {
   "cell_type": "code",
   "execution_count": 53,
   "id": "6c35fa2b",
   "metadata": {},
   "outputs": [
    {
     "data": {
      "text/plain": [
       "Alice    77.0\n",
       "Carol    81.0\n",
       "Dan      89.5\n",
       "Jill     91.0\n",
       "John     65.5\n",
       "Name: English, dtype: float64"
      ]
     },
     "execution_count": 53,
     "metadata": {},
     "output_type": "execute_result"
    }
   ],
   "source": [
    "sub1"
   ]
  },
  {
   "cell_type": "code",
   "execution_count": 54,
   "id": "657b030f",
   "metadata": {},
   "outputs": [
    {
     "data": {
      "text/plain": [
       "'English'"
      ]
     },
     "execution_count": 54,
     "metadata": {},
     "output_type": "execute_result"
    }
   ],
   "source": [
    "sub1.name"
   ]
  },
  {
   "cell_type": "code",
   "execution_count": 55,
   "id": "658df281",
   "metadata": {},
   "outputs": [
    {
     "data": {
      "text/plain": [
       "0    10\n",
       "1    20\n",
       "2    30\n",
       "3    40\n",
       "4    50\n",
       "dtype: int64"
      ]
     },
     "execution_count": 55,
     "metadata": {},
     "output_type": "execute_result"
    }
   ],
   "source": [
    "s1"
   ]
  },
  {
   "cell_type": "code",
   "execution_count": 56,
   "id": "150a2768",
   "metadata": {},
   "outputs": [],
   "source": [
    "s1.name"
   ]
  },
  {
   "cell_type": "code",
   "execution_count": 57,
   "id": "9b1f38e0",
   "metadata": {},
   "outputs": [
    {
     "name": "stdout",
     "output_type": "stream",
     "text": [
      "None\n"
     ]
    }
   ],
   "source": [
    "print(s1.name)"
   ]
  },
  {
   "cell_type": "code",
   "execution_count": 58,
   "id": "1ba35b50",
   "metadata": {},
   "outputs": [],
   "source": [
    "sub2 = pd.Series([92.5, 81.5, 84.0, 77.5, 71.0], index=['Alice', 'Carol', 'Dan', 'Jill', 'John'], name='Maths')"
   ]
  },
  {
   "cell_type": "code",
   "execution_count": 59,
   "id": "8bcb6d17",
   "metadata": {},
   "outputs": [
    {
     "data": {
      "text/plain": [
       "Alice    92.5\n",
       "Carol    81.5\n",
       "Dan      84.0\n",
       "Jill     77.5\n",
       "John     71.0\n",
       "Name: Maths, dtype: float64"
      ]
     },
     "execution_count": 59,
     "metadata": {},
     "output_type": "execute_result"
    }
   ],
   "source": [
    "sub2"
   ]
  },
  {
   "cell_type": "code",
   "execution_count": 60,
   "id": "733cbf48",
   "metadata": {},
   "outputs": [
    {
     "data": {
      "text/plain": [
       "Alice    77.0\n",
       "Carol    81.0\n",
       "Dan      89.5\n",
       "Jill     91.0\n",
       "John     65.5\n",
       "Name: English, dtype: float64"
      ]
     },
     "execution_count": 60,
     "metadata": {},
     "output_type": "execute_result"
    }
   ],
   "source": [
    "sub1"
   ]
  },
  {
   "cell_type": "code",
   "execution_count": 61,
   "id": "714f2d93",
   "metadata": {},
   "outputs": [
    {
     "data": {
      "text/plain": [
       "84.0"
      ]
     },
     "execution_count": 61,
     "metadata": {},
     "output_type": "execute_result"
    }
   ],
   "source": [
    "sub2.loc['Dan']"
   ]
  },
  {
   "cell_type": "code",
   "execution_count": null,
   "id": "30851137",
   "metadata": {},
   "outputs": [],
   "source": []
  },
  {
   "cell_type": "code",
   "execution_count": 62,
   "id": "181e4e3e",
   "metadata": {},
   "outputs": [
    {
     "data": {
      "text/plain": [
       "Alice    77.0\n",
       "Carol    81.0\n",
       "Dan      89.5\n",
       "Jill     91.0\n",
       "John     65.5\n",
       "Name: English, dtype: float64"
      ]
     },
     "execution_count": 62,
     "metadata": {},
     "output_type": "execute_result"
    }
   ],
   "source": [
    "sub1"
   ]
  },
  {
   "cell_type": "code",
   "execution_count": 63,
   "id": "bcb873a8",
   "metadata": {},
   "outputs": [],
   "source": [
    "sub1.loc['Dan'] = 90"
   ]
  },
  {
   "cell_type": "code",
   "execution_count": 64,
   "id": "3f31ae72",
   "metadata": {},
   "outputs": [
    {
     "data": {
      "text/plain": [
       "Alice    77.0\n",
       "Carol    81.0\n",
       "Dan      90.0\n",
       "Jill     91.0\n",
       "John     65.5\n",
       "Name: English, dtype: float64"
      ]
     },
     "execution_count": 64,
     "metadata": {},
     "output_type": "execute_result"
    }
   ],
   "source": [
    "sub1"
   ]
  },
  {
   "cell_type": "code",
   "execution_count": 65,
   "id": "97918ee1",
   "metadata": {},
   "outputs": [
    {
     "data": {
      "text/plain": [
       "Alice    92.5\n",
       "Carol    81.5\n",
       "Dan      84.0\n",
       "Jill     77.5\n",
       "John     71.0\n",
       "Name: Maths, dtype: float64"
      ]
     },
     "execution_count": 65,
     "metadata": {},
     "output_type": "execute_result"
    }
   ],
   "source": [
    "sub2"
   ]
  },
  {
   "cell_type": "markdown",
   "id": "4e2e60c9",
   "metadata": {},
   "source": [
    "## "
   ]
  },
  {
   "cell_type": "code",
   "execution_count": 66,
   "id": "ce54494b",
   "metadata": {},
   "outputs": [
    {
     "data": {
      "text/plain": [
       "Alice    169.5\n",
       "Carol    162.5\n",
       "Dan      174.0\n",
       "Jill     168.5\n",
       "John     136.5\n",
       "dtype: float64"
      ]
     },
     "execution_count": 66,
     "metadata": {},
     "output_type": "execute_result"
    }
   ],
   "source": [
    "sub1 + sub2"
   ]
  },
  {
   "cell_type": "code",
   "execution_count": 68,
   "id": "f53b050a",
   "metadata": {},
   "outputs": [
    {
     "data": {
      "text/plain": [
       "Alice    84.75\n",
       "Carol    81.25\n",
       "Dan      87.00\n",
       "Jill     84.25\n",
       "John     68.25\n",
       "dtype: float64"
      ]
     },
     "execution_count": 68,
     "metadata": {},
     "output_type": "execute_result"
    }
   ],
   "source": [
    "(sub1 + sub2) / 2"
   ]
  },
  {
   "cell_type": "code",
   "execution_count": null,
   "id": "56823ecd",
   "metadata": {},
   "outputs": [],
   "source": []
  },
  {
   "cell_type": "code",
   "execution_count": 69,
   "id": "9ff51dac",
   "metadata": {},
   "outputs": [],
   "source": [
    "sub3 = pd.Series([92.5, 81.5, 84.0, 77.5, 71.0], index=['Alice', 'Jill', 'Dan', 'Jill', 'John'], name='Physics')"
   ]
  },
  {
   "cell_type": "code",
   "execution_count": 70,
   "id": "c3747287",
   "metadata": {},
   "outputs": [
    {
     "data": {
      "text/plain": [
       "Alice    92.5\n",
       "Jill     81.5\n",
       "Dan      84.0\n",
       "Jill     77.5\n",
       "John     71.0\n",
       "Name: Physics, dtype: float64"
      ]
     },
     "execution_count": 70,
     "metadata": {},
     "output_type": "execute_result"
    }
   ],
   "source": [
    "sub3"
   ]
  },
  {
   "cell_type": "code",
   "execution_count": 71,
   "id": "904bc3e8",
   "metadata": {},
   "outputs": [
    {
     "data": {
      "text/plain": [
       "Jill    81.5\n",
       "Jill    77.5\n",
       "Name: Physics, dtype: float64"
      ]
     },
     "execution_count": 71,
     "metadata": {},
     "output_type": "execute_result"
    }
   ],
   "source": [
    "sub3.loc['Jill']"
   ]
  },
  {
   "cell_type": "code",
   "execution_count": null,
   "id": "d43f0330",
   "metadata": {},
   "outputs": [],
   "source": []
  },
  {
   "cell_type": "code",
   "execution_count": 73,
   "id": "dc50eaa5",
   "metadata": {},
   "outputs": [
    {
     "data": {
      "text/plain": [
       "77.5"
      ]
     },
     "execution_count": 73,
     "metadata": {},
     "output_type": "execute_result"
    }
   ],
   "source": [
    "sub3.iloc[3]"
   ]
  },
  {
   "cell_type": "code",
   "execution_count": 74,
   "id": "7eaaba6b",
   "metadata": {},
   "outputs": [
    {
     "data": {
      "text/plain": [
       "Alice    92.5\n",
       "Jill     81.5\n",
       "Dan      84.0\n",
       "Jill     77.5\n",
       "John     71.0\n",
       "Name: Physics, dtype: float64"
      ]
     },
     "execution_count": 74,
     "metadata": {},
     "output_type": "execute_result"
    }
   ],
   "source": [
    "sub3"
   ]
  },
  {
   "cell_type": "code",
   "execution_count": 75,
   "id": "c0f261c6",
   "metadata": {},
   "outputs": [
    {
     "data": {
      "text/plain": [
       "Jill    81.5\n",
       "Jill    77.5\n",
       "Name: Physics, dtype: float64"
      ]
     },
     "execution_count": 75,
     "metadata": {},
     "output_type": "execute_result"
    }
   ],
   "source": [
    "sub3.loc['Jill']"
   ]
  },
  {
   "cell_type": "code",
   "execution_count": 76,
   "id": "8bc37b83",
   "metadata": {},
   "outputs": [
    {
     "data": {
      "text/plain": [
       "77.5"
      ]
     },
     "execution_count": 76,
     "metadata": {},
     "output_type": "execute_result"
    }
   ],
   "source": [
    "sub3.loc['Jill'].iloc[1]"
   ]
  },
  {
   "cell_type": "code",
   "execution_count": null,
   "id": "29f1ad82",
   "metadata": {},
   "outputs": [],
   "source": []
  },
  {
   "cell_type": "code",
   "execution_count": 77,
   "id": "8deed776",
   "metadata": {},
   "outputs": [
    {
     "data": {
      "text/plain": [
       "Alice    77.0\n",
       "Carol    81.0\n",
       "Dan      90.0\n",
       "Jill     91.0\n",
       "John     65.5\n",
       "Name: English, dtype: float64"
      ]
     },
     "execution_count": 77,
     "metadata": {},
     "output_type": "execute_result"
    }
   ],
   "source": [
    "sub1"
   ]
  },
  {
   "cell_type": "code",
   "execution_count": 78,
   "id": "64f8b377",
   "metadata": {},
   "outputs": [
    {
     "data": {
      "text/plain": [
       "Alice    92.5\n",
       "Carol    81.5\n",
       "Dan      84.0\n",
       "Jill     77.5\n",
       "John     71.0\n",
       "Name: Maths, dtype: float64"
      ]
     },
     "execution_count": 78,
     "metadata": {},
     "output_type": "execute_result"
    }
   ],
   "source": [
    "sub2"
   ]
  },
  {
   "cell_type": "code",
   "execution_count": null,
   "id": "64f3d3b0",
   "metadata": {},
   "outputs": [],
   "source": []
  },
  {
   "cell_type": "code",
   "execution_count": 81,
   "id": "7184e27b",
   "metadata": {},
   "outputs": [],
   "source": [
    "sub4 = pd.Series([77.5, 89.0, 78.5, 81.5], index=['Carol', 'Mark', 'John', 'Sam'], name='Elective')"
   ]
  },
  {
   "cell_type": "code",
   "execution_count": 82,
   "id": "2fbaee33",
   "metadata": {},
   "outputs": [
    {
     "data": {
      "text/plain": [
       "Carol    77.5\n",
       "Mark     89.0\n",
       "John     78.5\n",
       "Sam      81.5\n",
       "Name: Elective, dtype: float64"
      ]
     },
     "execution_count": 82,
     "metadata": {},
     "output_type": "execute_result"
    }
   ],
   "source": [
    "sub4"
   ]
  },
  {
   "cell_type": "code",
   "execution_count": 83,
   "id": "6c9045ac",
   "metadata": {},
   "outputs": [
    {
     "data": {
      "text/plain": [
       "Alice    77.0\n",
       "Carol    81.0\n",
       "Dan      90.0\n",
       "Jill     91.0\n",
       "John     65.5\n",
       "Name: English, dtype: float64"
      ]
     },
     "execution_count": 83,
     "metadata": {},
     "output_type": "execute_result"
    }
   ],
   "source": [
    "sub1"
   ]
  },
  {
   "cell_type": "code",
   "execution_count": 84,
   "id": "0d1a3ed7",
   "metadata": {},
   "outputs": [
    {
     "data": {
      "text/plain": [
       "Alice      NaN\n",
       "Carol    158.5\n",
       "Dan        NaN\n",
       "Jill       NaN\n",
       "John     144.0\n",
       "Mark       NaN\n",
       "Sam        NaN\n",
       "dtype: float64"
      ]
     },
     "execution_count": 84,
     "metadata": {},
     "output_type": "execute_result"
    }
   ],
   "source": [
    "sub1 + sub4"
   ]
  },
  {
   "cell_type": "code",
   "execution_count": null,
   "id": "7824bf17",
   "metadata": {},
   "outputs": [],
   "source": []
  },
  {
   "cell_type": "code",
   "execution_count": 85,
   "id": "5684f323",
   "metadata": {},
   "outputs": [
    {
     "data": {
      "text/plain": [
       "Alice    77.0\n",
       "Carol    81.0\n",
       "Dan      90.0\n",
       "Jill     91.0\n",
       "John     65.5\n",
       "Name: English, dtype: float64"
      ]
     },
     "execution_count": 85,
     "metadata": {},
     "output_type": "execute_result"
    }
   ],
   "source": [
    "sub1"
   ]
  },
  {
   "cell_type": "code",
   "execution_count": 86,
   "id": "961f637b",
   "metadata": {},
   "outputs": [
    {
     "data": {
      "text/plain": [
       "Alice    78.0\n",
       "Carol    82.0\n",
       "Dan      91.0\n",
       "Jill     92.0\n",
       "John     66.5\n",
       "Name: English, dtype: float64"
      ]
     },
     "execution_count": 86,
     "metadata": {},
     "output_type": "execute_result"
    }
   ],
   "source": [
    "sub1 + 1"
   ]
  },
  {
   "cell_type": "code",
   "execution_count": 87,
   "id": "c823f5f6",
   "metadata": {},
   "outputs": [
    {
     "data": {
      "text/plain": [
       "Alice    77.0\n",
       "Carol    81.0\n",
       "Dan      90.0\n",
       "Jill     91.0\n",
       "John     65.5\n",
       "Name: English, dtype: float64"
      ]
     },
     "execution_count": 87,
     "metadata": {},
     "output_type": "execute_result"
    }
   ],
   "source": [
    "sub1"
   ]
  },
  {
   "cell_type": "code",
   "execution_count": 88,
   "id": "982e45bf",
   "metadata": {},
   "outputs": [],
   "source": [
    "sub1 = sub1 + 1"
   ]
  },
  {
   "cell_type": "code",
   "execution_count": 89,
   "id": "f8aace13",
   "metadata": {},
   "outputs": [
    {
     "data": {
      "text/plain": [
       "Alice    78.0\n",
       "Carol    82.0\n",
       "Dan      91.0\n",
       "Jill     92.0\n",
       "John     66.5\n",
       "Name: English, dtype: float64"
      ]
     },
     "execution_count": 89,
     "metadata": {},
     "output_type": "execute_result"
    }
   ],
   "source": [
    "sub1"
   ]
  },
  {
   "cell_type": "code",
   "execution_count": null,
   "id": "128425dc",
   "metadata": {},
   "outputs": [],
   "source": []
  },
  {
   "cell_type": "code",
   "execution_count": 90,
   "id": "0ee92437",
   "metadata": {},
   "outputs": [
    {
     "data": {
      "text/plain": [
       "Alice    156.0\n",
       "Carol    164.0\n",
       "Dan      182.0\n",
       "Jill     184.0\n",
       "John     133.0\n",
       "Name: English, dtype: float64"
      ]
     },
     "execution_count": 90,
     "metadata": {},
     "output_type": "execute_result"
    }
   ],
   "source": [
    "sub1 * 2"
   ]
  },
  {
   "cell_type": "code",
   "execution_count": 91,
   "id": "ecc084b6",
   "metadata": {},
   "outputs": [
    {
     "data": {
      "text/plain": [
       "Alice    15.6\n",
       "Carol    16.4\n",
       "Dan      18.2\n",
       "Jill     18.4\n",
       "John     13.3\n",
       "Name: English, dtype: float64"
      ]
     },
     "execution_count": 91,
     "metadata": {},
     "output_type": "execute_result"
    }
   ],
   "source": [
    "sub1/5"
   ]
  },
  {
   "cell_type": "code",
   "execution_count": 92,
   "id": "91f0957a",
   "metadata": {},
   "outputs": [
    {
     "data": {
      "text/plain": [
       "Alice    73.0\n",
       "Carol    77.0\n",
       "Dan      86.0\n",
       "Jill     87.0\n",
       "John     61.5\n",
       "Name: English, dtype: float64"
      ]
     },
     "execution_count": 92,
     "metadata": {},
     "output_type": "execute_result"
    }
   ],
   "source": [
    "sub1 - 5"
   ]
  },
  {
   "cell_type": "code",
   "execution_count": 93,
   "id": "ac5e5933",
   "metadata": {},
   "outputs": [
    {
     "data": {
      "text/plain": [
       "Alice    78.0\n",
       "Carol    82.0\n",
       "Dan      91.0\n",
       "Jill     92.0\n",
       "John     66.5\n",
       "Name: English, dtype: float64"
      ]
     },
     "execution_count": 93,
     "metadata": {},
     "output_type": "execute_result"
    }
   ],
   "source": [
    "sub1 "
   ]
  },
  {
   "cell_type": "code",
   "execution_count": 94,
   "id": "3eecdbae",
   "metadata": {},
   "outputs": [
    {
     "data": {
      "text/plain": [
       "Alice    False\n",
       "Carol    False\n",
       "Dan       True\n",
       "Jill      True\n",
       "John     False\n",
       "Name: English, dtype: bool"
      ]
     },
     "execution_count": 94,
     "metadata": {},
     "output_type": "execute_result"
    }
   ],
   "source": [
    "sub1 > 90"
   ]
  },
  {
   "cell_type": "code",
   "execution_count": null,
   "id": "849ce038",
   "metadata": {},
   "outputs": [],
   "source": []
  },
  {
   "cell_type": "code",
   "execution_count": 95,
   "id": "665f3b01",
   "metadata": {},
   "outputs": [
    {
     "data": {
      "text/plain": [
       "Dan     91.0\n",
       "Jill    92.0\n",
       "Name: English, dtype: float64"
      ]
     },
     "execution_count": 95,
     "metadata": {},
     "output_type": "execute_result"
    }
   ],
   "source": [
    "sub1[sub1 > 90]"
   ]
  },
  {
   "cell_type": "code",
   "execution_count": null,
   "id": "e2f9a0d1",
   "metadata": {},
   "outputs": [],
   "source": []
  },
  {
   "cell_type": "code",
   "execution_count": 96,
   "id": "a56b4aa2",
   "metadata": {},
   "outputs": [
    {
     "data": {
      "text/plain": [
       "Alice    78.0\n",
       "Carol    82.0\n",
       "Dan      91.0\n",
       "Jill     92.0\n",
       "John     66.5\n",
       "Name: English, dtype: float64"
      ]
     },
     "execution_count": 96,
     "metadata": {},
     "output_type": "execute_result"
    }
   ],
   "source": [
    "sub1"
   ]
  },
  {
   "cell_type": "code",
   "execution_count": 97,
   "id": "e8709960",
   "metadata": {},
   "outputs": [
    {
     "data": {
      "text/plain": [
       "Carol    82.0\n",
       "John     66.5\n",
       "Name: English, dtype: float64"
      ]
     },
     "execution_count": 97,
     "metadata": {},
     "output_type": "execute_result"
    }
   ],
   "source": [
    "sub1[['Carol', 'John']]"
   ]
  },
  {
   "cell_type": "code",
   "execution_count": 99,
   "id": "48fefeb9",
   "metadata": {},
   "outputs": [
    {
     "data": {
      "text/plain": [
       "Alice    92.5\n",
       "Jill     81.5\n",
       "Dan      84.0\n",
       "Jill     77.5\n",
       "John     71.0\n",
       "Name: Physics, dtype: float64"
      ]
     },
     "execution_count": 99,
     "metadata": {},
     "output_type": "execute_result"
    }
   ],
   "source": [
    "sub3"
   ]
  },
  {
   "cell_type": "code",
   "execution_count": 100,
   "id": "16fb301d",
   "metadata": {},
   "outputs": [
    {
     "data": {
      "text/plain": [
       "Jill    81.5\n",
       "Jill    77.5\n",
       "John    71.0\n",
       "Name: Physics, dtype: float64"
      ]
     },
     "execution_count": 100,
     "metadata": {},
     "output_type": "execute_result"
    }
   ],
   "source": [
    "sub3[['Jill', 'John']]"
   ]
  },
  {
   "cell_type": "code",
   "execution_count": null,
   "id": "04a2b335",
   "metadata": {},
   "outputs": [],
   "source": []
  },
  {
   "cell_type": "code",
   "execution_count": 101,
   "id": "b2bb78f5",
   "metadata": {},
   "outputs": [],
   "source": [
    "# Creating a series using a dictionary"
   ]
  },
  {
   "cell_type": "code",
   "execution_count": 102,
   "id": "3e3a8d08",
   "metadata": {},
   "outputs": [],
   "source": [
    "ipl_cups = {'SRH': 1, 'KKR': 2, 'MI': 5, 'CSK': 5, 'RCB': 0}"
   ]
  },
  {
   "cell_type": "code",
   "execution_count": 103,
   "id": "02fa7e1f",
   "metadata": {},
   "outputs": [
    {
     "data": {
      "text/plain": [
       "{'SRH': 1, 'KKR': 2, 'MI': 5, 'CSK': 5, 'RCB': 0}"
      ]
     },
     "execution_count": 103,
     "metadata": {},
     "output_type": "execute_result"
    }
   ],
   "source": [
    "ipl_cups"
   ]
  },
  {
   "cell_type": "code",
   "execution_count": 104,
   "id": "0c87e39e",
   "metadata": {},
   "outputs": [],
   "source": [
    "ser1 = pd.Series(ipl_cups)"
   ]
  },
  {
   "cell_type": "code",
   "execution_count": 105,
   "id": "0392c1af",
   "metadata": {},
   "outputs": [
    {
     "data": {
      "text/plain": [
       "SRH    1\n",
       "KKR    2\n",
       "MI     5\n",
       "CSK    5\n",
       "RCB    0\n",
       "dtype: int64"
      ]
     },
     "execution_count": 105,
     "metadata": {},
     "output_type": "execute_result"
    }
   ],
   "source": [
    "ser1"
   ]
  },
  {
   "cell_type": "code",
   "execution_count": 107,
   "id": "b3253b88",
   "metadata": {},
   "outputs": [],
   "source": [
    "ser2 = pd.Series(ipl_cups, index=['DC', 'CSK', 'RR', 'GT', 'MI', 'LSG'])"
   ]
  },
  {
   "cell_type": "code",
   "execution_count": 108,
   "id": "ceb542bc",
   "metadata": {},
   "outputs": [
    {
     "data": {
      "text/plain": [
       "DC     NaN\n",
       "CSK    5.0\n",
       "RR     NaN\n",
       "GT     NaN\n",
       "MI     5.0\n",
       "LSG    NaN\n",
       "dtype: float64"
      ]
     },
     "execution_count": 108,
     "metadata": {},
     "output_type": "execute_result"
    }
   ],
   "source": [
    "ser2"
   ]
  },
  {
   "cell_type": "code",
   "execution_count": null,
   "id": "7ffdcdec",
   "metadata": {},
   "outputs": [],
   "source": []
  },
  {
   "cell_type": "code",
   "execution_count": 109,
   "id": "3c7353e0",
   "metadata": {},
   "outputs": [],
   "source": [
    "ser3 = pd.Series([10, 10.5, 'hi'])"
   ]
  },
  {
   "cell_type": "code",
   "execution_count": 110,
   "id": "4cf47fe4",
   "metadata": {},
   "outputs": [
    {
     "data": {
      "text/plain": [
       "0      10\n",
       "1    10.5\n",
       "2      hi\n",
       "dtype: object"
      ]
     },
     "execution_count": 110,
     "metadata": {},
     "output_type": "execute_result"
    }
   ],
   "source": [
    "ser3"
   ]
  },
  {
   "cell_type": "code",
   "execution_count": 111,
   "id": "a7927748",
   "metadata": {},
   "outputs": [
    {
     "data": {
      "text/plain": [
       "10"
      ]
     },
     "execution_count": 111,
     "metadata": {},
     "output_type": "execute_result"
    }
   ],
   "source": [
    "ser3.loc[0]"
   ]
  },
  {
   "cell_type": "code",
   "execution_count": 112,
   "id": "a82cb28c",
   "metadata": {},
   "outputs": [
    {
     "data": {
      "text/plain": [
       "int"
      ]
     },
     "execution_count": 112,
     "metadata": {},
     "output_type": "execute_result"
    }
   ],
   "source": [
    "type(ser3.loc[0])"
   ]
  },
  {
   "cell_type": "code",
   "execution_count": 113,
   "id": "b90b3e6c",
   "metadata": {},
   "outputs": [
    {
     "data": {
      "text/plain": [
       "10.5"
      ]
     },
     "execution_count": 113,
     "metadata": {},
     "output_type": "execute_result"
    }
   ],
   "source": [
    "ser3.loc[1]"
   ]
  },
  {
   "cell_type": "code",
   "execution_count": 114,
   "id": "a751b564",
   "metadata": {},
   "outputs": [
    {
     "data": {
      "text/plain": [
       "'hi'"
      ]
     },
     "execution_count": 114,
     "metadata": {},
     "output_type": "execute_result"
    }
   ],
   "source": [
    "ser3.loc[2]"
   ]
  },
  {
   "cell_type": "code",
   "execution_count": null,
   "id": "2381e5d8",
   "metadata": {},
   "outputs": [],
   "source": []
  },
  {
   "cell_type": "code",
   "execution_count": 115,
   "id": "b57e5715",
   "metadata": {},
   "outputs": [],
   "source": [
    "ser4 = pd.Series([10, 10.5, 20])"
   ]
  },
  {
   "cell_type": "code",
   "execution_count": 116,
   "id": "aa2a2a29",
   "metadata": {},
   "outputs": [
    {
     "data": {
      "text/plain": [
       "0    10.0\n",
       "1    10.5\n",
       "2    20.0\n",
       "dtype: float64"
      ]
     },
     "execution_count": 116,
     "metadata": {},
     "output_type": "execute_result"
    }
   ],
   "source": [
    "ser4"
   ]
  },
  {
   "cell_type": "code",
   "execution_count": null,
   "id": "ce01d512",
   "metadata": {},
   "outputs": [],
   "source": []
  },
  {
   "cell_type": "code",
   "execution_count": 117,
   "id": "eb121199",
   "metadata": {},
   "outputs": [
    {
     "data": {
      "text/plain": [
       "Alice    78.0\n",
       "Carol    82.0\n",
       "Dan      91.0\n",
       "Jill     92.0\n",
       "John     66.5\n",
       "Name: English, dtype: float64"
      ]
     },
     "execution_count": 117,
     "metadata": {},
     "output_type": "execute_result"
    }
   ],
   "source": [
    "sub1"
   ]
  },
  {
   "cell_type": "code",
   "execution_count": 118,
   "id": "c52e5c15",
   "metadata": {},
   "outputs": [
    {
     "data": {
      "text/plain": [
       "Carol    77.5\n",
       "Mark     89.0\n",
       "John     78.5\n",
       "Sam      81.5\n",
       "Name: Elective, dtype: float64"
      ]
     },
     "execution_count": 118,
     "metadata": {},
     "output_type": "execute_result"
    }
   ],
   "source": [
    "sub4"
   ]
  },
  {
   "cell_type": "code",
   "execution_count": 119,
   "id": "674a5d76",
   "metadata": {},
   "outputs": [],
   "source": [
    "total = sub1 + sub4"
   ]
  },
  {
   "cell_type": "code",
   "execution_count": 120,
   "id": "beaed0d5",
   "metadata": {},
   "outputs": [
    {
     "data": {
      "text/plain": [
       "Alice      NaN\n",
       "Carol    159.5\n",
       "Dan        NaN\n",
       "Jill       NaN\n",
       "John     145.0\n",
       "Mark       NaN\n",
       "Sam        NaN\n",
       "dtype: float64"
      ]
     },
     "execution_count": 120,
     "metadata": {},
     "output_type": "execute_result"
    }
   ],
   "source": [
    "total"
   ]
  },
  {
   "cell_type": "code",
   "execution_count": 121,
   "id": "09c0069e",
   "metadata": {},
   "outputs": [
    {
     "data": {
      "text/plain": [
       "Alice     True\n",
       "Carol    False\n",
       "Dan       True\n",
       "Jill      True\n",
       "John     False\n",
       "Mark      True\n",
       "Sam       True\n",
       "dtype: bool"
      ]
     },
     "execution_count": 121,
     "metadata": {},
     "output_type": "execute_result"
    }
   ],
   "source": [
    "total.isnull()"
   ]
  },
  {
   "cell_type": "code",
   "execution_count": 122,
   "id": "297eb2d4",
   "metadata": {},
   "outputs": [
    {
     "data": {
      "text/plain": [
       "Alice    False\n",
       "Carol     True\n",
       "Dan      False\n",
       "Jill     False\n",
       "John      True\n",
       "Mark     False\n",
       "Sam      False\n",
       "dtype: bool"
      ]
     },
     "execution_count": 122,
     "metadata": {},
     "output_type": "execute_result"
    }
   ],
   "source": [
    "total.notnull()"
   ]
  },
  {
   "cell_type": "code",
   "execution_count": 123,
   "id": "ebdf924e",
   "metadata": {},
   "outputs": [
    {
     "data": {
      "text/plain": [
       "Alice     True\n",
       "Carol    False\n",
       "Dan       True\n",
       "Jill      True\n",
       "John     False\n",
       "Mark      True\n",
       "Sam       True\n",
       "dtype: bool"
      ]
     },
     "execution_count": 123,
     "metadata": {},
     "output_type": "execute_result"
    }
   ],
   "source": [
    "total.isnull()"
   ]
  },
  {
   "cell_type": "code",
   "execution_count": 124,
   "id": "ba5b2163",
   "metadata": {},
   "outputs": [
    {
     "data": {
      "text/plain": [
       "Alice    78.0\n",
       "Carol    82.0\n",
       "Dan      91.0\n",
       "Jill     92.0\n",
       "John     66.5\n",
       "Name: English, dtype: float64"
      ]
     },
     "execution_count": 124,
     "metadata": {},
     "output_type": "execute_result"
    }
   ],
   "source": [
    "sub1"
   ]
  },
  {
   "cell_type": "code",
   "execution_count": 125,
   "id": "d6f7227c",
   "metadata": {},
   "outputs": [
    {
     "data": {
      "text/plain": [
       "409.5"
      ]
     },
     "execution_count": 125,
     "metadata": {},
     "output_type": "execute_result"
    }
   ],
   "source": [
    "sub1.sum()"
   ]
  },
  {
   "cell_type": "code",
   "execution_count": 126,
   "id": "965a9962",
   "metadata": {},
   "outputs": [
    {
     "data": {
      "text/plain": [
       "Alice     True\n",
       "Carol    False\n",
       "Dan       True\n",
       "Jill      True\n",
       "John     False\n",
       "Mark      True\n",
       "Sam       True\n",
       "dtype: bool"
      ]
     },
     "execution_count": 126,
     "metadata": {},
     "output_type": "execute_result"
    }
   ],
   "source": [
    "total.isnull()"
   ]
  },
  {
   "cell_type": "code",
   "execution_count": 127,
   "id": "dfdcf824",
   "metadata": {},
   "outputs": [
    {
     "data": {
      "text/plain": [
       "5"
      ]
     },
     "execution_count": 127,
     "metadata": {},
     "output_type": "execute_result"
    }
   ],
   "source": [
    "total.isnull().sum()"
   ]
  },
  {
   "cell_type": "code",
   "execution_count": null,
   "id": "0ea70c17",
   "metadata": {},
   "outputs": [],
   "source": []
  }
 ],
 "metadata": {
  "kernelspec": {
   "display_name": "Python 3 (ipykernel)",
   "language": "python",
   "name": "python3"
  },
  "language_info": {
   "codemirror_mode": {
    "name": "ipython",
    "version": 3
   },
   "file_extension": ".py",
   "mimetype": "text/x-python",
   "name": "python",
   "nbconvert_exporter": "python",
   "pygments_lexer": "ipython3",
   "version": "3.11.4"
  }
 },
 "nbformat": 4,
 "nbformat_minor": 5
}
