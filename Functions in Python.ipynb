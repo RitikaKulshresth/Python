{
 "cells": [
  {
   "cell_type": "code",
   "execution_count": 1,
   "id": "2b6ccd60",
   "metadata": {},
   "outputs": [],
   "source": [
    "# Function - a block of code that does some specific task when it is called"
   ]
  },
  {
   "cell_type": "code",
   "execution_count": 2,
   "id": "601d4861",
   "metadata": {},
   "outputs": [],
   "source": [
    "# resuable"
   ]
  },
  {
   "cell_type": "code",
   "execution_count": 3,
   "id": "7217287b",
   "metadata": {},
   "outputs": [],
   "source": [
    "# len()"
   ]
  },
  {
   "cell_type": "code",
   "execution_count": 4,
   "id": "57d0109b",
   "metadata": {},
   "outputs": [],
   "source": [
    "l1 = [1,2,3,4,5]"
   ]
  },
  {
   "cell_type": "code",
   "execution_count": 5,
   "id": "98c8b843",
   "metadata": {},
   "outputs": [
    {
     "data": {
      "text/plain": [
       "5"
      ]
     },
     "execution_count": 5,
     "metadata": {},
     "output_type": "execute_result"
    }
   ],
   "source": [
    "len(l1)"
   ]
  },
  {
   "cell_type": "code",
   "execution_count": 6,
   "id": "140c9a60",
   "metadata": {},
   "outputs": [],
   "source": [
    "s1 = \"Hello World\""
   ]
  },
  {
   "cell_type": "code",
   "execution_count": 7,
   "id": "1fefd4b7",
   "metadata": {},
   "outputs": [
    {
     "data": {
      "text/plain": [
       "11"
      ]
     },
     "execution_count": 7,
     "metadata": {},
     "output_type": "execute_result"
    }
   ],
   "source": [
    "len(s1)"
   ]
  },
  {
   "cell_type": "code",
   "execution_count": null,
   "id": "2f9ea4fd",
   "metadata": {},
   "outputs": [],
   "source": []
  },
  {
   "cell_type": "code",
   "execution_count": 8,
   "id": "03eb0c39",
   "metadata": {},
   "outputs": [],
   "source": [
    "# User-defined functions"
   ]
  },
  {
   "cell_type": "code",
   "execution_count": 9,
   "id": "4b43c328",
   "metadata": {},
   "outputs": [],
   "source": [
    "# Functions that are defined by users"
   ]
  },
  {
   "cell_type": "code",
   "execution_count": 10,
   "id": "fd5d860e",
   "metadata": {},
   "outputs": [
    {
     "name": "stdout",
     "output_type": "stream",
     "text": [
      "Enter your name: John\n",
      "Enter your age: 20\n",
      "Hello John. You are 20 years old\n"
     ]
    }
   ],
   "source": [
    "name = input(\"Enter your name: \")\n",
    "age = int(input(\"Enter your age: \"))\n",
    "print(f\"Hello {name}. You are {age} years old\")"
   ]
  },
  {
   "cell_type": "code",
   "execution_count": 11,
   "id": "8308a4a6",
   "metadata": {},
   "outputs": [
    {
     "name": "stdout",
     "output_type": "stream",
     "text": [
      "Enter your name: Jill\n",
      "Enter your age: 51\n",
      "Hello Jill. You are 51 years old\n"
     ]
    }
   ],
   "source": [
    "name = input(\"Enter your name: \")\n",
    "age = int(input(\"Enter your age: \"))\n",
    "print(f\"Hello {name}. You are {age} years old\")"
   ]
  },
  {
   "cell_type": "code",
   "execution_count": 12,
   "id": "00cbf02b",
   "metadata": {},
   "outputs": [
    {
     "name": "stdout",
     "output_type": "stream",
     "text": [
      "Enter your name: Mark\n",
      "Enter your age: 10\n",
      "Hello Mark. You are 10 years old\n"
     ]
    }
   ],
   "source": [
    "name = input(\"Enter your name: \")\n",
    "age = int(input(\"Enter your age: \"))\n",
    "print(f\"Hello {name}. You are {age} years old\")"
   ]
  },
  {
   "cell_type": "code",
   "execution_count": 13,
   "id": "1f558814",
   "metadata": {},
   "outputs": [],
   "source": [
    "# def function_name(arg1, arg2, arg3, ..., argN):\n",
    "#     statement1\n",
    "#     statement2\n",
    "#     ..\n",
    "#     statementN"
   ]
  },
  {
   "cell_type": "code",
   "execution_count": 14,
   "id": "57e8fae3",
   "metadata": {},
   "outputs": [],
   "source": [
    "# Calling a function\n",
    "# function_name(val1, val2, ....valN)"
   ]
  },
  {
   "cell_type": "code",
   "execution_count": 15,
   "id": "8943d637",
   "metadata": {},
   "outputs": [],
   "source": [
    "def f1():\n",
    "    name = input(\"Enter your name: \")\n",
    "    age = int(input(\"Enter your age: \"))\n",
    "    print(f\"Hello {name}. You are {age} years old\")"
   ]
  },
  {
   "cell_type": "code",
   "execution_count": 16,
   "id": "058982f7",
   "metadata": {},
   "outputs": [
    {
     "name": "stdout",
     "output_type": "stream",
     "text": [
      "Enter your name: John\n",
      "Enter your age: 20\n",
      "Hello John. You are 20 years old\n"
     ]
    }
   ],
   "source": [
    "f1()"
   ]
  },
  {
   "cell_type": "code",
   "execution_count": 17,
   "id": "5e2bc4dc",
   "metadata": {},
   "outputs": [
    {
     "name": "stdout",
     "output_type": "stream",
     "text": [
      "Enter your name: Jill\n",
      "Enter your age: 24\n",
      "Hello Jill. You are 24 years old\n"
     ]
    }
   ],
   "source": [
    "f1()"
   ]
  },
  {
   "cell_type": "code",
   "execution_count": null,
   "id": "226ecb99",
   "metadata": {},
   "outputs": [],
   "source": []
  }
 ],
 "metadata": {
  "kernelspec": {
   "display_name": "Python 3 (ipykernel)",
   "language": "python",
   "name": "python3"
  },
  "language_info": {
   "codemirror_mode": {
    "name": "ipython",
    "version": 3
   },
   "file_extension": ".py",
   "mimetype": "text/x-python",
   "name": "python",
   "nbconvert_exporter": "python",
   "pygments_lexer": "ipython3",
   "version": "3.11.4"
  }
 },
 "nbformat": 4,
 "nbformat_minor": 5
}
