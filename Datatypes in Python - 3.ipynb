{
 "cells": [
  {
   "cell_type": "code",
   "execution_count": 2,
   "id": "b92d66af",
   "metadata": {},
   "outputs": [],
   "source": [
    "# Doubts"
   ]
  },
  {
   "cell_type": "code",
   "execution_count": 3,
   "id": "140a40ba",
   "metadata": {},
   "outputs": [],
   "source": [
    "s1 = \"Hello World\""
   ]
  },
  {
   "cell_type": "code",
   "execution_count": 4,
   "id": "e0337aa2",
   "metadata": {},
   "outputs": [
    {
     "data": {
      "text/plain": [
       "'Hello World'"
      ]
     },
     "execution_count": 4,
     "metadata": {},
     "output_type": "execute_result"
    }
   ],
   "source": [
    "s1"
   ]
  },
  {
   "cell_type": "code",
   "execution_count": 5,
   "id": "882ae2ba",
   "metadata": {},
   "outputs": [
    {
     "data": {
      "text/plain": [
       "''"
      ]
     },
     "execution_count": 5,
     "metadata": {},
     "output_type": "execute_result"
    }
   ],
   "source": [
    "s1[7:2:1]"
   ]
  },
  {
   "cell_type": "code",
   "execution_count": 6,
   "id": "caf0525e",
   "metadata": {},
   "outputs": [
    {
     "data": {
      "text/plain": [
       "140729490335456"
      ]
     },
     "execution_count": 6,
     "metadata": {},
     "output_type": "execute_result"
    }
   ],
   "source": [
    "id(s1[7:2:1])"
   ]
  },
  {
   "cell_type": "code",
   "execution_count": 7,
   "id": "ea539a0a",
   "metadata": {},
   "outputs": [],
   "source": [
    "var = s1[7:2:1]"
   ]
  },
  {
   "cell_type": "code",
   "execution_count": 8,
   "id": "4fa4cd9e",
   "metadata": {},
   "outputs": [
    {
     "data": {
      "text/plain": [
       "''"
      ]
     },
     "execution_count": 8,
     "metadata": {},
     "output_type": "execute_result"
    }
   ],
   "source": [
    "var"
   ]
  },
  {
   "cell_type": "code",
   "execution_count": 9,
   "id": "e233f880",
   "metadata": {},
   "outputs": [
    {
     "data": {
      "text/plain": [
       "140729490335456"
      ]
     },
     "execution_count": 9,
     "metadata": {},
     "output_type": "execute_result"
    }
   ],
   "source": [
    "id(var)"
   ]
  },
  {
   "cell_type": "code",
   "execution_count": 10,
   "id": "67f81c11",
   "metadata": {},
   "outputs": [
    {
     "data": {
      "text/plain": [
       "140729490317544"
      ]
     },
     "execution_count": 10,
     "metadata": {},
     "output_type": "execute_result"
    }
   ],
   "source": [
    "id(111)"
   ]
  },
  {
   "cell_type": "code",
   "execution_count": 11,
   "id": "d81cdb58",
   "metadata": {},
   "outputs": [
    {
     "data": {
      "text/plain": [
       "140729490317544"
      ]
     },
     "execution_count": 11,
     "metadata": {},
     "output_type": "execute_result"
    }
   ],
   "source": [
    "id(111)"
   ]
  },
  {
   "cell_type": "code",
   "execution_count": 12,
   "id": "9007afdb",
   "metadata": {},
   "outputs": [],
   "source": [
    "val1 = 111"
   ]
  },
  {
   "cell_type": "code",
   "execution_count": 13,
   "id": "38747a5a",
   "metadata": {},
   "outputs": [
    {
     "data": {
      "text/plain": [
       "140729490317544"
      ]
     },
     "execution_count": 13,
     "metadata": {},
     "output_type": "execute_result"
    }
   ],
   "source": [
    "id(val1)"
   ]
  },
  {
   "cell_type": "code",
   "execution_count": 14,
   "id": "766ee3c9",
   "metadata": {},
   "outputs": [],
   "source": [
    "var2 = 1234"
   ]
  },
  {
   "cell_type": "code",
   "execution_count": 15,
   "id": "a79a16ef",
   "metadata": {},
   "outputs": [
    {
     "data": {
      "text/plain": [
       "2608935566640"
      ]
     },
     "execution_count": 15,
     "metadata": {},
     "output_type": "execute_result"
    }
   ],
   "source": [
    "id(1234)"
   ]
  },
  {
   "cell_type": "code",
   "execution_count": 16,
   "id": "c14a11ad",
   "metadata": {},
   "outputs": [
    {
     "data": {
      "text/plain": [
       "2608935552336"
      ]
     },
     "execution_count": 16,
     "metadata": {},
     "output_type": "execute_result"
    }
   ],
   "source": [
    "id(var2)"
   ]
  },
  {
   "cell_type": "code",
   "execution_count": 17,
   "id": "a00b1d91",
   "metadata": {},
   "outputs": [
    {
     "data": {
      "text/plain": [
       "'Hello World'"
      ]
     },
     "execution_count": 17,
     "metadata": {},
     "output_type": "execute_result"
    }
   ],
   "source": [
    "s1"
   ]
  },
  {
   "cell_type": "code",
   "execution_count": 18,
   "id": "c80f444d",
   "metadata": {},
   "outputs": [
    {
     "data": {
      "text/plain": [
       "'l'"
      ]
     },
     "execution_count": 18,
     "metadata": {},
     "output_type": "execute_result"
    }
   ],
   "source": [
    "s1[3:7:9]"
   ]
  },
  {
   "cell_type": "code",
   "execution_count": null,
   "id": "7c03426f",
   "metadata": {},
   "outputs": [],
   "source": []
  },
  {
   "cell_type": "code",
   "execution_count": 19,
   "id": "449848ab",
   "metadata": {},
   "outputs": [],
   "source": [
    "version=3.12\n"
   ]
  },
  {
   "cell_type": "code",
   "execution_count": 20,
   "id": "79e2e696",
   "metadata": {},
   "outputs": [
    {
     "data": {
      "text/plain": [
       "3"
      ]
     },
     "execution_count": 20,
     "metadata": {},
     "output_type": "execute_result"
    }
   ],
   "source": [
    "int(version)"
   ]
  },
  {
   "cell_type": "code",
   "execution_count": 22,
   "id": "def9f14e",
   "metadata": {},
   "outputs": [
    {
     "ename": "TypeError",
     "evalue": "'float' object is not callable",
     "output_type": "error",
     "traceback": [
      "\u001b[1;31m---------------------------------------------------------------------------\u001b[0m",
      "\u001b[1;31mTypeError\u001b[0m                                 Traceback (most recent call last)",
      "Cell \u001b[1;32mIn[22], line 1\u001b[0m\n\u001b[1;32m----> 1\u001b[0m version(\u001b[38;5;124m\"\u001b[39m\u001b[38;5;124m3.12\u001b[39m\u001b[38;5;124m\"\u001b[39m)\n",
      "\u001b[1;31mTypeError\u001b[0m: 'float' object is not callable"
     ]
    }
   ],
   "source": [
    "version(\"3.12\")"
   ]
  },
  {
   "cell_type": "code",
   "execution_count": null,
   "id": "135d6f1c",
   "metadata": {},
   "outputs": [],
   "source": []
  },
  {
   "cell_type": "code",
   "execution_count": 21,
   "id": "f117462c",
   "metadata": {},
   "outputs": [],
   "source": [
    "# Type casting continued ...."
   ]
  },
  {
   "cell_type": "code",
   "execution_count": 23,
   "id": "63b8713e",
   "metadata": {},
   "outputs": [
    {
     "ename": "ValueError",
     "evalue": "invalid literal for int() with base 10: 'a'",
     "output_type": "error",
     "traceback": [
      "\u001b[1;31m---------------------------------------------------------------------------\u001b[0m",
      "\u001b[1;31mValueError\u001b[0m                                Traceback (most recent call last)",
      "Cell \u001b[1;32mIn[23], line 1\u001b[0m\n\u001b[1;32m----> 1\u001b[0m \u001b[38;5;28mint\u001b[39m(\u001b[38;5;124m\"\u001b[39m\u001b[38;5;124ma\u001b[39m\u001b[38;5;124m\"\u001b[39m)\n",
      "\u001b[1;31mValueError\u001b[0m: invalid literal for int() with base 10: 'a'"
     ]
    }
   ],
   "source": [
    "int(\"a\")"
   ]
  },
  {
   "cell_type": "code",
   "execution_count": null,
   "id": "6e80dc6a",
   "metadata": {},
   "outputs": [],
   "source": []
  },
  {
   "cell_type": "code",
   "execution_count": 24,
   "id": "52b4e562",
   "metadata": {},
   "outputs": [],
   "source": [
    "# ASCII values?"
   ]
  },
  {
   "cell_type": "code",
   "execution_count": 25,
   "id": "2203ae41",
   "metadata": {},
   "outputs": [],
   "source": [
    "# ord() => gives the ASCII value of a character"
   ]
  },
  {
   "cell_type": "code",
   "execution_count": 26,
   "id": "e56c5c11",
   "metadata": {},
   "outputs": [
    {
     "data": {
      "text/plain": [
       "97"
      ]
     },
     "execution_count": 26,
     "metadata": {},
     "output_type": "execute_result"
    }
   ],
   "source": [
    "ord('a')"
   ]
  },
  {
   "cell_type": "code",
   "execution_count": 27,
   "id": "ae2a0bed",
   "metadata": {},
   "outputs": [
    {
     "data": {
      "text/plain": [
       "90"
      ]
     },
     "execution_count": 27,
     "metadata": {},
     "output_type": "execute_result"
    }
   ],
   "source": [
    "ord('Z')"
   ]
  },
  {
   "cell_type": "code",
   "execution_count": 28,
   "id": "b3dfb494",
   "metadata": {},
   "outputs": [
    {
     "data": {
      "text/plain": [
       "94"
      ]
     },
     "execution_count": 28,
     "metadata": {},
     "output_type": "execute_result"
    }
   ],
   "source": [
    "ord('^')"
   ]
  },
  {
   "cell_type": "code",
   "execution_count": 29,
   "id": "c565fba2",
   "metadata": {},
   "outputs": [],
   "source": [
    "# chr() => gives the character from the ASCII value"
   ]
  },
  {
   "cell_type": "code",
   "execution_count": 30,
   "id": "34e19fa7",
   "metadata": {},
   "outputs": [
    {
     "data": {
      "text/plain": [
       "'d'"
      ]
     },
     "execution_count": 30,
     "metadata": {},
     "output_type": "execute_result"
    }
   ],
   "source": [
    "chr(100)"
   ]
  },
  {
   "cell_type": "code",
   "execution_count": null,
   "id": "66cfb327",
   "metadata": {},
   "outputs": [],
   "source": []
  },
  {
   "cell_type": "code",
   "execution_count": 31,
   "id": "bd214351",
   "metadata": {},
   "outputs": [
    {
     "data": {
      "text/plain": [
       "1"
      ]
     },
     "execution_count": 31,
     "metadata": {},
     "output_type": "execute_result"
    }
   ],
   "source": [
    "int(True)"
   ]
  },
  {
   "cell_type": "code",
   "execution_count": 32,
   "id": "e9c28466",
   "metadata": {},
   "outputs": [
    {
     "data": {
      "text/plain": [
       "0"
      ]
     },
     "execution_count": 32,
     "metadata": {},
     "output_type": "execute_result"
    }
   ],
   "source": [
    "int(False)"
   ]
  },
  {
   "cell_type": "code",
   "execution_count": 33,
   "id": "701b3166",
   "metadata": {},
   "outputs": [
    {
     "data": {
      "text/plain": [
       "True"
      ]
     },
     "execution_count": 33,
     "metadata": {},
     "output_type": "execute_result"
    }
   ],
   "source": [
    "bool(1)"
   ]
  },
  {
   "cell_type": "code",
   "execution_count": 34,
   "id": "7d599a78",
   "metadata": {},
   "outputs": [
    {
     "data": {
      "text/plain": [
       "False"
      ]
     },
     "execution_count": 34,
     "metadata": {},
     "output_type": "execute_result"
    }
   ],
   "source": [
    "bool(0)"
   ]
  },
  {
   "cell_type": "code",
   "execution_count": 35,
   "id": "e124d0ae",
   "metadata": {},
   "outputs": [
    {
     "data": {
      "text/plain": [
       "True"
      ]
     },
     "execution_count": 35,
     "metadata": {},
     "output_type": "execute_result"
    }
   ],
   "source": [
    "bool(100)"
   ]
  },
  {
   "cell_type": "code",
   "execution_count": 36,
   "id": "c27f2b49",
   "metadata": {},
   "outputs": [],
   "source": [
    "# Any integer value other than 0 will be type casted to True"
   ]
  },
  {
   "cell_type": "code",
   "execution_count": 37,
   "id": "4ea3653d",
   "metadata": {},
   "outputs": [
    {
     "data": {
      "text/plain": [
       "True"
      ]
     },
     "execution_count": 37,
     "metadata": {},
     "output_type": "execute_result"
    }
   ],
   "source": [
    "bool(-1)"
   ]
  },
  {
   "cell_type": "code",
   "execution_count": 38,
   "id": "083d23d5",
   "metadata": {},
   "outputs": [
    {
     "data": {
      "text/plain": [
       "True"
      ]
     },
     "execution_count": 38,
     "metadata": {},
     "output_type": "execute_result"
    }
   ],
   "source": [
    "bool(-100)"
   ]
  },
  {
   "cell_type": "code",
   "execution_count": 39,
   "id": "935b1328",
   "metadata": {},
   "outputs": [],
   "source": [
    "# Any float value other than 0.0 will be type casted to True"
   ]
  },
  {
   "cell_type": "code",
   "execution_count": 40,
   "id": "6c6497c1",
   "metadata": {},
   "outputs": [
    {
     "data": {
      "text/plain": [
       "True"
      ]
     },
     "execution_count": 40,
     "metadata": {},
     "output_type": "execute_result"
    }
   ],
   "source": [
    "bool(10.5)"
   ]
  },
  {
   "cell_type": "code",
   "execution_count": 41,
   "id": "f7d622b5",
   "metadata": {},
   "outputs": [
    {
     "data": {
      "text/plain": [
       "True"
      ]
     },
     "execution_count": 41,
     "metadata": {},
     "output_type": "execute_result"
    }
   ],
   "source": [
    "bool(-50.444)"
   ]
  },
  {
   "cell_type": "code",
   "execution_count": 42,
   "id": "532dfeac",
   "metadata": {},
   "outputs": [
    {
     "data": {
      "text/plain": [
       "False"
      ]
     },
     "execution_count": 42,
     "metadata": {},
     "output_type": "execute_result"
    }
   ],
   "source": [
    "bool(0.0)"
   ]
  },
  {
   "cell_type": "code",
   "execution_count": 43,
   "id": "02fd7c5f",
   "metadata": {},
   "outputs": [
    {
     "data": {
      "text/plain": [
       "True"
      ]
     },
     "execution_count": 43,
     "metadata": {},
     "output_type": "execute_result"
    }
   ],
   "source": [
    "bool(0.00001)"
   ]
  },
  {
   "cell_type": "code",
   "execution_count": null,
   "id": "9c52dc0b",
   "metadata": {},
   "outputs": [],
   "source": []
  },
  {
   "cell_type": "code",
   "execution_count": 44,
   "id": "29cff6da",
   "metadata": {},
   "outputs": [
    {
     "data": {
      "text/plain": [
       "True"
      ]
     },
     "execution_count": 44,
     "metadata": {},
     "output_type": "execute_result"
    }
   ],
   "source": [
    "bool(\"hello\")"
   ]
  },
  {
   "cell_type": "code",
   "execution_count": 45,
   "id": "2edff522",
   "metadata": {},
   "outputs": [
    {
     "data": {
      "text/plain": [
       "True"
      ]
     },
     "execution_count": 45,
     "metadata": {},
     "output_type": "execute_result"
    }
   ],
   "source": [
    "bool(\"hi\")"
   ]
  },
  {
   "cell_type": "code",
   "execution_count": 46,
   "id": "87ac6c2c",
   "metadata": {},
   "outputs": [
    {
     "data": {
      "text/plain": [
       "True"
      ]
     },
     "execution_count": 46,
     "metadata": {},
     "output_type": "execute_result"
    }
   ],
   "source": [
    "bool(\" \")"
   ]
  },
  {
   "cell_type": "code",
   "execution_count": 47,
   "id": "78f7817d",
   "metadata": {},
   "outputs": [
    {
     "data": {
      "text/plain": [
       "True"
      ]
     },
     "execution_count": 47,
     "metadata": {},
     "output_type": "execute_result"
    }
   ],
   "source": [
    "bool(\"False\")"
   ]
  },
  {
   "cell_type": "code",
   "execution_count": 48,
   "id": "c6360720",
   "metadata": {},
   "outputs": [
    {
     "data": {
      "text/plain": [
       "False"
      ]
     },
     "execution_count": 48,
     "metadata": {},
     "output_type": "execute_result"
    }
   ],
   "source": [
    "bool(\"\")"
   ]
  },
  {
   "cell_type": "code",
   "execution_count": 49,
   "id": "994a35d8",
   "metadata": {},
   "outputs": [],
   "source": [
    "# Anything other than Empty String (\"\") is True"
   ]
  },
  {
   "cell_type": "code",
   "execution_count": null,
   "id": "2bbc6bd4",
   "metadata": {},
   "outputs": [],
   "source": []
  },
  {
   "cell_type": "code",
   "execution_count": 50,
   "id": "1a89a27f",
   "metadata": {},
   "outputs": [],
   "source": [
    "# Memory Reusability"
   ]
  },
  {
   "cell_type": "code",
   "execution_count": 51,
   "id": "5e8a9fec",
   "metadata": {},
   "outputs": [],
   "source": [
    "a = 1000"
   ]
  },
  {
   "cell_type": "code",
   "execution_count": 52,
   "id": "0f6e99cf",
   "metadata": {},
   "outputs": [],
   "source": [
    "b = 1000"
   ]
  },
  {
   "cell_type": "code",
   "execution_count": 53,
   "id": "b3c60314",
   "metadata": {},
   "outputs": [
    {
     "data": {
      "text/plain": [
       "2608948728880"
      ]
     },
     "execution_count": 53,
     "metadata": {},
     "output_type": "execute_result"
    }
   ],
   "source": [
    "id(a)"
   ]
  },
  {
   "cell_type": "code",
   "execution_count": 54,
   "id": "aa98218b",
   "metadata": {},
   "outputs": [
    {
     "data": {
      "text/plain": [
       "2608948728816"
      ]
     },
     "execution_count": 54,
     "metadata": {},
     "output_type": "execute_result"
    }
   ],
   "source": [
    "id(b)"
   ]
  },
  {
   "cell_type": "code",
   "execution_count": 55,
   "id": "67710c68",
   "metadata": {},
   "outputs": [],
   "source": [
    "s1 = \"Hello World\""
   ]
  },
  {
   "cell_type": "code",
   "execution_count": 56,
   "id": "f7fd399e",
   "metadata": {},
   "outputs": [
    {
     "data": {
      "text/plain": [
       "2608936086640"
      ]
     },
     "execution_count": 56,
     "metadata": {},
     "output_type": "execute_result"
    }
   ],
   "source": [
    "id(s1)"
   ]
  },
  {
   "cell_type": "code",
   "execution_count": 57,
   "id": "7ec78073",
   "metadata": {},
   "outputs": [],
   "source": [
    "s2 = \"Hello World\""
   ]
  },
  {
   "cell_type": "code",
   "execution_count": 58,
   "id": "826f1675",
   "metadata": {},
   "outputs": [
    {
     "data": {
      "text/plain": [
       "2608949858032"
      ]
     },
     "execution_count": 58,
     "metadata": {},
     "output_type": "execute_result"
    }
   ],
   "source": [
    "id(s2)"
   ]
  },
  {
   "cell_type": "code",
   "execution_count": null,
   "id": "e8e4ebe6",
   "metadata": {},
   "outputs": [],
   "source": []
  },
  {
   "cell_type": "code",
   "execution_count": 59,
   "id": "be57b5ad",
   "metadata": {},
   "outputs": [],
   "source": [
    "x = 100"
   ]
  },
  {
   "cell_type": "code",
   "execution_count": 60,
   "id": "a5ccb213",
   "metadata": {},
   "outputs": [
    {
     "data": {
      "text/plain": [
       "140729490317192"
      ]
     },
     "execution_count": 60,
     "metadata": {},
     "output_type": "execute_result"
    }
   ],
   "source": [
    "id(x)"
   ]
  },
  {
   "cell_type": "code",
   "execution_count": 61,
   "id": "1ce5784a",
   "metadata": {},
   "outputs": [],
   "source": [
    "y = 100"
   ]
  },
  {
   "cell_type": "code",
   "execution_count": 62,
   "id": "748cc75d",
   "metadata": {},
   "outputs": [
    {
     "data": {
      "text/plain": [
       "140729490317192"
      ]
     },
     "execution_count": 62,
     "metadata": {},
     "output_type": "execute_result"
    }
   ],
   "source": [
    "id(y)"
   ]
  },
  {
   "cell_type": "code",
   "execution_count": 63,
   "id": "3d38a50a",
   "metadata": {},
   "outputs": [],
   "source": [
    "# This is because of Python memory optimization for reusing the memory address for certain values!!!"
   ]
  },
  {
   "cell_type": "code",
   "execution_count": 64,
   "id": "9581df02",
   "metadata": {},
   "outputs": [],
   "source": [
    "# This is also called Interning!"
   ]
  },
  {
   "cell_type": "code",
   "execution_count": 65,
   "id": "69454c9c",
   "metadata": {},
   "outputs": [],
   "source": [
    "# For integers, Python pre-loads a range of values between -5 to 256 (both included) in the memory.\n",
    "# When we assign a value which part of this range to a variable, Python will NOT assign a different memory address \n",
    "# to that value, rather it will reuse the same value and ask the variable to refer to the same memory location\n",
    "# which is the pre-loaded value's memory address/location"
   ]
  },
  {
   "cell_type": "code",
   "execution_count": 66,
   "id": "8f874a5a",
   "metadata": {},
   "outputs": [],
   "source": [
    "a1 = 257"
   ]
  },
  {
   "cell_type": "code",
   "execution_count": 67,
   "id": "25888b0d",
   "metadata": {},
   "outputs": [
    {
     "data": {
      "text/plain": [
       "2608948731120"
      ]
     },
     "execution_count": 67,
     "metadata": {},
     "output_type": "execute_result"
    }
   ],
   "source": [
    "id(a1)"
   ]
  },
  {
   "cell_type": "code",
   "execution_count": 68,
   "id": "0c4e3873",
   "metadata": {},
   "outputs": [],
   "source": [
    "a2 = 257"
   ]
  },
  {
   "cell_type": "code",
   "execution_count": 69,
   "id": "d4ae93d7",
   "metadata": {},
   "outputs": [
    {
     "data": {
      "text/plain": [
       "2608948728304"
      ]
     },
     "execution_count": 69,
     "metadata": {},
     "output_type": "execute_result"
    }
   ],
   "source": [
    "id(a2)"
   ]
  },
  {
   "cell_type": "code",
   "execution_count": null,
   "id": "54dfb578",
   "metadata": {},
   "outputs": [],
   "source": []
  },
  {
   "cell_type": "code",
   "execution_count": null,
   "id": "a48dd0bb",
   "metadata": {},
   "outputs": [],
   "source": []
  },
  {
   "cell_type": "code",
   "execution_count": 70,
   "id": "73e3390a",
   "metadata": {},
   "outputs": [],
   "source": [
    "# Interning with floats"
   ]
  },
  {
   "cell_type": "code",
   "execution_count": 71,
   "id": "80dacf97",
   "metadata": {},
   "outputs": [],
   "source": [
    "f1 = 10.5"
   ]
  },
  {
   "cell_type": "code",
   "execution_count": 72,
   "id": "bb9e11c9",
   "metadata": {},
   "outputs": [
    {
     "data": {
      "text/plain": [
       "2608948731184"
      ]
     },
     "execution_count": 72,
     "metadata": {},
     "output_type": "execute_result"
    }
   ],
   "source": [
    "id(f1)"
   ]
  },
  {
   "cell_type": "code",
   "execution_count": 73,
   "id": "04e8f724",
   "metadata": {},
   "outputs": [],
   "source": [
    "f2 = 10.5"
   ]
  },
  {
   "cell_type": "code",
   "execution_count": 74,
   "id": "b04347ad",
   "metadata": {},
   "outputs": [
    {
     "data": {
      "text/plain": [
       "2608948731024"
      ]
     },
     "execution_count": 74,
     "metadata": {},
     "output_type": "execute_result"
    }
   ],
   "source": [
    "id(f2)"
   ]
  },
  {
   "cell_type": "code",
   "execution_count": 75,
   "id": "1436833d",
   "metadata": {},
   "outputs": [],
   "source": [
    "# For floats, there is no reusablity"
   ]
  },
  {
   "cell_type": "code",
   "execution_count": null,
   "id": "8a1353f4",
   "metadata": {},
   "outputs": [],
   "source": []
  },
  {
   "cell_type": "code",
   "execution_count": 76,
   "id": "b3e1c3fb",
   "metadata": {},
   "outputs": [],
   "source": [
    "# Boolean"
   ]
  },
  {
   "cell_type": "code",
   "execution_count": 77,
   "id": "bafc0c04",
   "metadata": {},
   "outputs": [],
   "source": [
    "val1 = True"
   ]
  },
  {
   "cell_type": "code",
   "execution_count": 78,
   "id": "5bf8c5db",
   "metadata": {},
   "outputs": [
    {
     "data": {
      "text/plain": [
       "140729488845344"
      ]
     },
     "execution_count": 78,
     "metadata": {},
     "output_type": "execute_result"
    }
   ],
   "source": [
    "id(val1)"
   ]
  },
  {
   "cell_type": "code",
   "execution_count": 79,
   "id": "ef0d9e0f",
   "metadata": {},
   "outputs": [],
   "source": [
    "val2 = True"
   ]
  },
  {
   "cell_type": "code",
   "execution_count": 80,
   "id": "5fce1d1f",
   "metadata": {},
   "outputs": [
    {
     "data": {
      "text/plain": [
       "140729488845344"
      ]
     },
     "execution_count": 80,
     "metadata": {},
     "output_type": "execute_result"
    }
   ],
   "source": [
    "id(val2)"
   ]
  },
  {
   "cell_type": "code",
   "execution_count": 81,
   "id": "fc821a10",
   "metadata": {},
   "outputs": [],
   "source": [
    "val2 = False"
   ]
  },
  {
   "cell_type": "code",
   "execution_count": 82,
   "id": "f5f1de76",
   "metadata": {},
   "outputs": [],
   "source": [
    "val3 = False"
   ]
  },
  {
   "cell_type": "code",
   "execution_count": 83,
   "id": "3e09e18e",
   "metadata": {},
   "outputs": [
    {
     "data": {
      "text/plain": [
       "140729488845376"
      ]
     },
     "execution_count": 83,
     "metadata": {},
     "output_type": "execute_result"
    }
   ],
   "source": [
    "id(val2)"
   ]
  },
  {
   "cell_type": "code",
   "execution_count": 84,
   "id": "48459a64",
   "metadata": {},
   "outputs": [
    {
     "data": {
      "text/plain": [
       "140729488845376"
      ]
     },
     "execution_count": 84,
     "metadata": {},
     "output_type": "execute_result"
    }
   ],
   "source": [
    "id(val3)"
   ]
  },
  {
   "cell_type": "code",
   "execution_count": 85,
   "id": "7ad221ee",
   "metadata": {},
   "outputs": [
    {
     "data": {
      "text/plain": [
       "True"
      ]
     },
     "execution_count": 85,
     "metadata": {},
     "output_type": "execute_result"
    }
   ],
   "source": [
    "bool(1)"
   ]
  },
  {
   "cell_type": "code",
   "execution_count": 86,
   "id": "e75f9fda",
   "metadata": {},
   "outputs": [
    {
     "data": {
      "text/plain": [
       "140729490314024"
      ]
     },
     "execution_count": 86,
     "metadata": {},
     "output_type": "execute_result"
    }
   ],
   "source": [
    "id(1)"
   ]
  },
  {
   "cell_type": "code",
   "execution_count": 87,
   "id": "c43260fd",
   "metadata": {},
   "outputs": [
    {
     "data": {
      "text/plain": [
       "140729488845344"
      ]
     },
     "execution_count": 87,
     "metadata": {},
     "output_type": "execute_result"
    }
   ],
   "source": [
    "id(True)"
   ]
  },
  {
   "cell_type": "code",
   "execution_count": null,
   "id": "afc2eccf",
   "metadata": {},
   "outputs": [],
   "source": []
  },
  {
   "cell_type": "code",
   "execution_count": 88,
   "id": "b8395fbd",
   "metadata": {},
   "outputs": [],
   "source": [
    "v1 = None"
   ]
  },
  {
   "cell_type": "code",
   "execution_count": 89,
   "id": "b9fd71dd",
   "metadata": {},
   "outputs": [],
   "source": [
    "v2 = None"
   ]
  },
  {
   "cell_type": "code",
   "execution_count": 90,
   "id": "79ad579c",
   "metadata": {},
   "outputs": [
    {
     "data": {
      "text/plain": [
       "140729488927472"
      ]
     },
     "execution_count": 90,
     "metadata": {},
     "output_type": "execute_result"
    }
   ],
   "source": [
    "id(v1)"
   ]
  },
  {
   "cell_type": "code",
   "execution_count": 91,
   "id": "9133a66a",
   "metadata": {},
   "outputs": [
    {
     "data": {
      "text/plain": [
       "140729488927472"
      ]
     },
     "execution_count": 91,
     "metadata": {},
     "output_type": "execute_result"
    }
   ],
   "source": [
    "id(v2)"
   ]
  },
  {
   "cell_type": "code",
   "execution_count": null,
   "id": "73d27293",
   "metadata": {},
   "outputs": [],
   "source": []
  },
  {
   "cell_type": "code",
   "execution_count": 92,
   "id": "87458e26",
   "metadata": {},
   "outputs": [],
   "source": [
    "# Strings"
   ]
  },
  {
   "cell_type": "code",
   "execution_count": 96,
   "id": "abcdab18",
   "metadata": {},
   "outputs": [],
   "source": [
    "s1 = \"Hello1\""
   ]
  },
  {
   "cell_type": "code",
   "execution_count": 97,
   "id": "7b5d47bb",
   "metadata": {},
   "outputs": [
    {
     "data": {
      "text/plain": [
       "2608949965232"
      ]
     },
     "execution_count": 97,
     "metadata": {},
     "output_type": "execute_result"
    }
   ],
   "source": [
    "id(s1)"
   ]
  },
  {
   "cell_type": "code",
   "execution_count": 98,
   "id": "dbaf3850",
   "metadata": {},
   "outputs": [],
   "source": [
    "s2 = \"Hello1\""
   ]
  },
  {
   "cell_type": "code",
   "execution_count": 99,
   "id": "353b537e",
   "metadata": {},
   "outputs": [
    {
     "data": {
      "text/plain": [
       "2608949965232"
      ]
     },
     "execution_count": 99,
     "metadata": {},
     "output_type": "execute_result"
    }
   ],
   "source": [
    "id(s2)"
   ]
  },
  {
   "cell_type": "code",
   "execution_count": 100,
   "id": "04184dcd",
   "metadata": {},
   "outputs": [],
   "source": [
    "s3 = \"jhcvfbjkhbvjhdbcjhdbcjhdbcjhdcjhdyvgchjgvcjhvjvjhvbjcjvcvcvjdjhvcjdbcdcbc\""
   ]
  },
  {
   "cell_type": "code",
   "execution_count": 101,
   "id": "3ff151df",
   "metadata": {},
   "outputs": [
    {
     "data": {
      "text/plain": [
       "2608935657392"
      ]
     },
     "execution_count": 101,
     "metadata": {},
     "output_type": "execute_result"
    }
   ],
   "source": [
    "id(s3)"
   ]
  },
  {
   "cell_type": "code",
   "execution_count": 102,
   "id": "adc664cf",
   "metadata": {},
   "outputs": [],
   "source": [
    "s4 = \"jhcvfbjkhbvjhdbcjhdbcjhdbcjhdcjhdyvgchjgvcjhvjvjhvbjcjvcvcvjdjhvcjdbcdcbc\""
   ]
  },
  {
   "cell_type": "code",
   "execution_count": 103,
   "id": "dd84c14c",
   "metadata": {},
   "outputs": [
    {
     "data": {
      "text/plain": [
       "2608935657392"
      ]
     },
     "execution_count": 103,
     "metadata": {},
     "output_type": "execute_result"
    }
   ],
   "source": [
    "id(s4)"
   ]
  },
  {
   "cell_type": "code",
   "execution_count": 104,
   "id": "6420baf4",
   "metadata": {},
   "outputs": [],
   "source": [
    "s5 = \"Hello World\""
   ]
  },
  {
   "cell_type": "code",
   "execution_count": 105,
   "id": "a7a9f43d",
   "metadata": {},
   "outputs": [
    {
     "data": {
      "text/plain": [
       "2608949900912"
      ]
     },
     "execution_count": 105,
     "metadata": {},
     "output_type": "execute_result"
    }
   ],
   "source": [
    "id(s5)"
   ]
  },
  {
   "cell_type": "code",
   "execution_count": 106,
   "id": "fc5b33c7",
   "metadata": {},
   "outputs": [],
   "source": [
    "s6 = \"Hello World\""
   ]
  },
  {
   "cell_type": "code",
   "execution_count": 107,
   "id": "702feaef",
   "metadata": {},
   "outputs": [
    {
     "data": {
      "text/plain": [
       "2608936200816"
      ]
     },
     "execution_count": 107,
     "metadata": {},
     "output_type": "execute_result"
    }
   ],
   "source": [
    "id(s6)"
   ]
  },
  {
   "cell_type": "code",
   "execution_count": 108,
   "id": "f2c6cc19",
   "metadata": {},
   "outputs": [],
   "source": [
    "s5 = \"Hello&World\""
   ]
  },
  {
   "cell_type": "code",
   "execution_count": 109,
   "id": "018cf501",
   "metadata": {},
   "outputs": [],
   "source": [
    "s6 = \"Hello&World\""
   ]
  },
  {
   "cell_type": "code",
   "execution_count": 110,
   "id": "954baff1",
   "metadata": {},
   "outputs": [
    {
     "data": {
      "text/plain": [
       "2608949969584"
      ]
     },
     "execution_count": 110,
     "metadata": {},
     "output_type": "execute_result"
    }
   ],
   "source": [
    "id(s5)"
   ]
  },
  {
   "cell_type": "code",
   "execution_count": 111,
   "id": "8f107b95",
   "metadata": {},
   "outputs": [
    {
     "data": {
      "text/plain": [
       "2608949966320"
      ]
     },
     "execution_count": 111,
     "metadata": {},
     "output_type": "execute_result"
    }
   ],
   "source": [
    "id(s6)"
   ]
  },
  {
   "cell_type": "code",
   "execution_count": null,
   "id": "fceb386b",
   "metadata": {},
   "outputs": [],
   "source": []
  },
  {
   "cell_type": "code",
   "execution_count": 112,
   "id": "6db19586",
   "metadata": {},
   "outputs": [
    {
     "name": "stdout",
     "output_type": "stream",
     "text": [
      "2608949410736\n",
      "2608941840368\n"
     ]
    }
   ],
   "source": [
    "s1 = \"Hello&World\"\n",
    "s2 = \"Hello&World\"\n",
    "print(id(s1))\n",
    "print(id(s2))"
   ]
  },
  {
   "cell_type": "code",
   "execution_count": 113,
   "id": "17acb55a",
   "metadata": {},
   "outputs": [
    {
     "name": "stdout",
     "output_type": "stream",
     "text": [
      "2608936674928\n",
      "2608949886000\n"
     ]
    }
   ],
   "source": [
    "s1 = \"Hello-World\"\n",
    "s2 = \"Hello-World\"\n",
    "print(id(s1))\n",
    "print(id(s2))"
   ]
  },
  {
   "cell_type": "code",
   "execution_count": 114,
   "id": "343fd001",
   "metadata": {},
   "outputs": [
    {
     "name": "stdout",
     "output_type": "stream",
     "text": [
      "2608941837616\n",
      "2608941837616\n"
     ]
    }
   ],
   "source": [
    "s1 = \"Hello_World\"\n",
    "s2 = \"Hello_World\"\n",
    "print(id(s1))\n",
    "print(id(s2))"
   ]
  },
  {
   "cell_type": "code",
   "execution_count": 115,
   "id": "8675c7fb",
   "metadata": {},
   "outputs": [],
   "source": [
    "# Any string value that follows the rules of identifier will reuse the memory!!!"
   ]
  },
  {
   "cell_type": "code",
   "execution_count": null,
   "id": "bf40c771",
   "metadata": {},
   "outputs": [],
   "source": []
  },
  {
   "cell_type": "code",
   "execution_count": 116,
   "id": "b41c872f",
   "metadata": {},
   "outputs": [],
   "source": [
    "# Derived datatypes!!!"
   ]
  },
  {
   "cell_type": "code",
   "execution_count": 118,
   "id": "5d8b98df",
   "metadata": {},
   "outputs": [],
   "source": [
    "# List\n",
    "# collection of heterogenous items/elements enclosed within []\n",
    "# Heterogenous => different datatypes\n",
    "\n",
    "# Comma separated values enclosed within []"
   ]
  },
  {
   "cell_type": "code",
   "execution_count": 119,
   "id": "4d20263d",
   "metadata": {},
   "outputs": [],
   "source": [
    "l1 = [10, True, 'Hello', 10.5, None, 600]"
   ]
  },
  {
   "cell_type": "code",
   "execution_count": 120,
   "id": "702ce611",
   "metadata": {},
   "outputs": [],
   "source": [
    "# l1 is a list"
   ]
  },
  {
   "cell_type": "code",
   "execution_count": 121,
   "id": "b7739457",
   "metadata": {},
   "outputs": [
    {
     "data": {
      "text/plain": [
       "list"
      ]
     },
     "execution_count": 121,
     "metadata": {},
     "output_type": "execute_result"
    }
   ],
   "source": [
    "type(l1)"
   ]
  },
  {
   "cell_type": "code",
   "execution_count": 122,
   "id": "3e039282",
   "metadata": {},
   "outputs": [],
   "source": [
    "# It is in sequence"
   ]
  },
  {
   "cell_type": "code",
   "execution_count": 123,
   "id": "a3517f54",
   "metadata": {},
   "outputs": [],
   "source": [
    "grocery = [\"Sugar\", \"Salt\", \"Rice\", \"Grapes\", \"Almonds\"]"
   ]
  },
  {
   "cell_type": "code",
   "execution_count": 124,
   "id": "0e7ed28c",
   "metadata": {},
   "outputs": [
    {
     "name": "stdout",
     "output_type": "stream",
     "text": [
      "['Sugar', 'Salt', 'Rice', 'Grapes', 'Almonds']\n"
     ]
    }
   ],
   "source": [
    "print(grocery)"
   ]
  },
  {
   "cell_type": "code",
   "execution_count": 125,
   "id": "e9268b77",
   "metadata": {},
   "outputs": [
    {
     "data": {
      "text/plain": [
       "list"
      ]
     },
     "execution_count": 125,
     "metadata": {},
     "output_type": "execute_result"
    }
   ],
   "source": [
    "type(grocery)"
   ]
  },
  {
   "cell_type": "code",
   "execution_count": null,
   "id": "c486f542",
   "metadata": {},
   "outputs": [],
   "source": []
  },
  {
   "cell_type": "code",
   "execution_count": 126,
   "id": "3ed6eb92",
   "metadata": {},
   "outputs": [
    {
     "data": {
      "text/plain": [
       "[10, True, 'Hello', 10.5, None, 600]"
      ]
     },
     "execution_count": 126,
     "metadata": {},
     "output_type": "execute_result"
    }
   ],
   "source": [
    "l1"
   ]
  },
  {
   "cell_type": "code",
   "execution_count": null,
   "id": "e80302ae",
   "metadata": {},
   "outputs": [],
   "source": []
  },
  {
   "cell_type": "code",
   "execution_count": 127,
   "id": "bfd3a697",
   "metadata": {},
   "outputs": [],
   "source": [
    "# indexing in lists"
   ]
  },
  {
   "cell_type": "code",
   "execution_count": 128,
   "id": "cda0528e",
   "metadata": {},
   "outputs": [
    {
     "data": {
      "text/plain": [
       "6"
      ]
     },
     "execution_count": 128,
     "metadata": {},
     "output_type": "execute_result"
    }
   ],
   "source": [
    "len(l1)"
   ]
  },
  {
   "cell_type": "code",
   "execution_count": 129,
   "id": "fca4ddca",
   "metadata": {},
   "outputs": [
    {
     "data": {
      "text/plain": [
       "10"
      ]
     },
     "execution_count": 129,
     "metadata": {},
     "output_type": "execute_result"
    }
   ],
   "source": [
    "l1[0]"
   ]
  },
  {
   "cell_type": "code",
   "execution_count": 130,
   "id": "ae8b5d29",
   "metadata": {},
   "outputs": [
    {
     "data": {
      "text/plain": [
       "[10, True, 'Hello', 10.5, None, 600]"
      ]
     },
     "execution_count": 130,
     "metadata": {},
     "output_type": "execute_result"
    }
   ],
   "source": [
    "l1"
   ]
  },
  {
   "cell_type": "code",
   "execution_count": 131,
   "id": "26d18023",
   "metadata": {},
   "outputs": [
    {
     "data": {
      "text/plain": [
       "600"
      ]
     },
     "execution_count": 131,
     "metadata": {},
     "output_type": "execute_result"
    }
   ],
   "source": [
    "l1[-1]"
   ]
  },
  {
   "cell_type": "code",
   "execution_count": 132,
   "id": "57d80ba3",
   "metadata": {},
   "outputs": [
    {
     "data": {
      "text/plain": [
       "10.5"
      ]
     },
     "execution_count": 132,
     "metadata": {},
     "output_type": "execute_result"
    }
   ],
   "source": [
    "l1[3]"
   ]
  },
  {
   "cell_type": "code",
   "execution_count": 133,
   "id": "3f706609",
   "metadata": {},
   "outputs": [
    {
     "ename": "IndexError",
     "evalue": "list index out of range",
     "output_type": "error",
     "traceback": [
      "\u001b[1;31m---------------------------------------------------------------------------\u001b[0m",
      "\u001b[1;31mIndexError\u001b[0m                                Traceback (most recent call last)",
      "Cell \u001b[1;32mIn[133], line 1\u001b[0m\n\u001b[1;32m----> 1\u001b[0m l1[\u001b[38;5;241m8\u001b[39m]\n",
      "\u001b[1;31mIndexError\u001b[0m: list index out of range"
     ]
    }
   ],
   "source": [
    "l1[8]"
   ]
  },
  {
   "cell_type": "code",
   "execution_count": 134,
   "id": "bba919ba",
   "metadata": {},
   "outputs": [
    {
     "data": {
      "text/plain": [
       "[10, True, 'Hello', 10.5, None, 600]"
      ]
     },
     "execution_count": 134,
     "metadata": {},
     "output_type": "execute_result"
    }
   ],
   "source": [
    "l1"
   ]
  },
  {
   "cell_type": "code",
   "execution_count": 135,
   "id": "cf142e3f",
   "metadata": {},
   "outputs": [
    {
     "data": {
      "text/plain": [
       "'Hello'"
      ]
     },
     "execution_count": 135,
     "metadata": {},
     "output_type": "execute_result"
    }
   ],
   "source": [
    "l1[2]"
   ]
  },
  {
   "cell_type": "code",
   "execution_count": 136,
   "id": "a002935e",
   "metadata": {},
   "outputs": [
    {
     "data": {
      "text/plain": [
       "str"
      ]
     },
     "execution_count": 136,
     "metadata": {},
     "output_type": "execute_result"
    }
   ],
   "source": [
    "type(l1[2])"
   ]
  },
  {
   "cell_type": "code",
   "execution_count": 137,
   "id": "4a915868",
   "metadata": {},
   "outputs": [
    {
     "data": {
      "text/plain": [
       "'e'"
      ]
     },
     "execution_count": 137,
     "metadata": {},
     "output_type": "execute_result"
    }
   ],
   "source": [
    "l1[2][1]"
   ]
  },
  {
   "cell_type": "code",
   "execution_count": 138,
   "id": "c40960db",
   "metadata": {},
   "outputs": [
    {
     "ename": "TypeError",
     "evalue": "'int' object is not subscriptable",
     "output_type": "error",
     "traceback": [
      "\u001b[1;31m---------------------------------------------------------------------------\u001b[0m",
      "\u001b[1;31mTypeError\u001b[0m                                 Traceback (most recent call last)",
      "Cell \u001b[1;32mIn[138], line 1\u001b[0m\n\u001b[1;32m----> 1\u001b[0m l1[\u001b[38;5;241m0\u001b[39m][\u001b[38;5;241m1\u001b[39m]\n",
      "\u001b[1;31mTypeError\u001b[0m: 'int' object is not subscriptable"
     ]
    }
   ],
   "source": [
    "l1[0][1]"
   ]
  },
  {
   "cell_type": "code",
   "execution_count": 139,
   "id": "a9aa5b4b",
   "metadata": {},
   "outputs": [
    {
     "data": {
      "text/plain": [
       "[10, True, 'Hello', 10.5, None, 600]"
      ]
     },
     "execution_count": 139,
     "metadata": {},
     "output_type": "execute_result"
    }
   ],
   "source": [
    "l1"
   ]
  },
  {
   "cell_type": "code",
   "execution_count": 142,
   "id": "71098544",
   "metadata": {},
   "outputs": [],
   "source": [
    "l2 = [\"hi\", 100, \"hello_world\"]"
   ]
  },
  {
   "cell_type": "code",
   "execution_count": 143,
   "id": "094aea97",
   "metadata": {},
   "outputs": [
    {
     "data": {
      "text/plain": [
       "['hi', 100, 'hello_world']"
      ]
     },
     "execution_count": 143,
     "metadata": {},
     "output_type": "execute_result"
    }
   ],
   "source": [
    "l2"
   ]
  },
  {
   "cell_type": "code",
   "execution_count": 144,
   "id": "9184656f",
   "metadata": {},
   "outputs": [
    {
     "ename": "NameError",
     "evalue": "name 'hello_world' is not defined",
     "output_type": "error",
     "traceback": [
      "\u001b[1;31m---------------------------------------------------------------------------\u001b[0m",
      "\u001b[1;31mNameError\u001b[0m                                 Traceback (most recent call last)",
      "Cell \u001b[1;32mIn[144], line 1\u001b[0m\n\u001b[1;32m----> 1\u001b[0m l3 \u001b[38;5;241m=\u001b[39m [\u001b[38;5;124m\"\u001b[39m\u001b[38;5;124mhi\u001b[39m\u001b[38;5;124m\"\u001b[39m, \u001b[38;5;241m100\u001b[39m, hello_world]\n",
      "\u001b[1;31mNameError\u001b[0m: name 'hello_world' is not defined"
     ]
    }
   ],
   "source": [
    "l3 = [\"hi\", 100, hello_world]"
   ]
  },
  {
   "cell_type": "code",
   "execution_count": 145,
   "id": "cc8a4749",
   "metadata": {},
   "outputs": [],
   "source": [
    "hello_world = 100"
   ]
  },
  {
   "cell_type": "code",
   "execution_count": 146,
   "id": "41e83762",
   "metadata": {},
   "outputs": [],
   "source": [
    "l3 = [\"hi\", 100, hello_world]"
   ]
  },
  {
   "cell_type": "code",
   "execution_count": 147,
   "id": "99b6684d",
   "metadata": {},
   "outputs": [
    {
     "data": {
      "text/plain": [
       "['hi', 100, 100]"
      ]
     },
     "execution_count": 147,
     "metadata": {},
     "output_type": "execute_result"
    }
   ],
   "source": [
    "l3"
   ]
  },
  {
   "cell_type": "code",
   "execution_count": 148,
   "id": "f2d9b66b",
   "metadata": {},
   "outputs": [],
   "source": [
    "# List can have duplicate values"
   ]
  },
  {
   "cell_type": "code",
   "execution_count": 150,
   "id": "c7c81a3b",
   "metadata": {},
   "outputs": [],
   "source": [
    "l4 = [10, 10, 10, 10, 2, 2, 3]"
   ]
  },
  {
   "cell_type": "code",
   "execution_count": 151,
   "id": "21143428",
   "metadata": {},
   "outputs": [
    {
     "data": {
      "text/plain": [
       "[10, 10, 10, 10, 2, 2, 3]"
      ]
     },
     "execution_count": 151,
     "metadata": {},
     "output_type": "execute_result"
    }
   ],
   "source": [
    "l4"
   ]
  },
  {
   "cell_type": "code",
   "execution_count": null,
   "id": "9e3f788c",
   "metadata": {},
   "outputs": [],
   "source": []
  },
  {
   "cell_type": "code",
   "execution_count": 152,
   "id": "ed17c6ef",
   "metadata": {},
   "outputs": [],
   "source": [
    "l5 = [10, 20, [1,2,3]]"
   ]
  },
  {
   "cell_type": "code",
   "execution_count": 153,
   "id": "0932389d",
   "metadata": {},
   "outputs": [
    {
     "data": {
      "text/plain": [
       "[10, 20, [1, 2, 3]]"
      ]
     },
     "execution_count": 153,
     "metadata": {},
     "output_type": "execute_result"
    }
   ],
   "source": [
    "l5"
   ]
  },
  {
   "cell_type": "code",
   "execution_count": 154,
   "id": "e082ff50",
   "metadata": {},
   "outputs": [
    {
     "data": {
      "text/plain": [
       "3"
      ]
     },
     "execution_count": 154,
     "metadata": {},
     "output_type": "execute_result"
    }
   ],
   "source": [
    "len(l5)"
   ]
  },
  {
   "cell_type": "code",
   "execution_count": 155,
   "id": "b237eb8d",
   "metadata": {},
   "outputs": [
    {
     "data": {
      "text/plain": [
       "10"
      ]
     },
     "execution_count": 155,
     "metadata": {},
     "output_type": "execute_result"
    }
   ],
   "source": [
    "l5[0]"
   ]
  },
  {
   "cell_type": "code",
   "execution_count": 156,
   "id": "99e98718",
   "metadata": {},
   "outputs": [
    {
     "data": {
      "text/plain": [
       "20"
      ]
     },
     "execution_count": 156,
     "metadata": {},
     "output_type": "execute_result"
    }
   ],
   "source": [
    "l5[1]"
   ]
  },
  {
   "cell_type": "code",
   "execution_count": 157,
   "id": "f4185d93",
   "metadata": {},
   "outputs": [
    {
     "data": {
      "text/plain": [
       "[1, 2, 3]"
      ]
     },
     "execution_count": 157,
     "metadata": {},
     "output_type": "execute_result"
    }
   ],
   "source": [
    "l5[2]"
   ]
  },
  {
   "cell_type": "code",
   "execution_count": 158,
   "id": "69da927a",
   "metadata": {},
   "outputs": [
    {
     "data": {
      "text/plain": [
       "[10, 20, [1, 2, 3]]"
      ]
     },
     "execution_count": 158,
     "metadata": {},
     "output_type": "execute_result"
    }
   ],
   "source": [
    "l5"
   ]
  },
  {
   "cell_type": "code",
   "execution_count": 159,
   "id": "4fa749ff",
   "metadata": {},
   "outputs": [
    {
     "data": {
      "text/plain": [
       "3"
      ]
     },
     "execution_count": 159,
     "metadata": {},
     "output_type": "execute_result"
    }
   ],
   "source": [
    "l5[2][-1]"
   ]
  },
  {
   "cell_type": "code",
   "execution_count": 160,
   "id": "2b829c2e",
   "metadata": {},
   "outputs": [],
   "source": [
    "# Nested list => list inside list"
   ]
  },
  {
   "cell_type": "code",
   "execution_count": 161,
   "id": "a83ca71f",
   "metadata": {},
   "outputs": [
    {
     "data": {
      "text/plain": [
       "[10, True, 'Hello', 10.5, None, 600]"
      ]
     },
     "execution_count": 161,
     "metadata": {},
     "output_type": "execute_result"
    }
   ],
   "source": [
    "l1"
   ]
  },
  {
   "cell_type": "code",
   "execution_count": 162,
   "id": "b3debdd5",
   "metadata": {},
   "outputs": [],
   "source": [
    "# slicing in lists"
   ]
  },
  {
   "cell_type": "code",
   "execution_count": 163,
   "id": "fe2b782b",
   "metadata": {},
   "outputs": [
    {
     "data": {
      "text/plain": [
       "[True, 'Hello', 10.5]"
      ]
     },
     "execution_count": 163,
     "metadata": {},
     "output_type": "execute_result"
    }
   ],
   "source": [
    "l1[1:4:1]"
   ]
  },
  {
   "cell_type": "code",
   "execution_count": null,
   "id": "18d8a93a",
   "metadata": {},
   "outputs": [],
   "source": []
  },
  {
   "cell_type": "code",
   "execution_count": 165,
   "id": "3561c7e6",
   "metadata": {},
   "outputs": [],
   "source": [
    "# Concatination of lists"
   ]
  },
  {
   "cell_type": "code",
   "execution_count": 166,
   "id": "8c5163ca",
   "metadata": {},
   "outputs": [
    {
     "data": {
      "text/plain": [
       "[10, True, 'Hello', 10.5, None, 600]"
      ]
     },
     "execution_count": 166,
     "metadata": {},
     "output_type": "execute_result"
    }
   ],
   "source": [
    "l1"
   ]
  },
  {
   "cell_type": "code",
   "execution_count": 167,
   "id": "499ac8bb",
   "metadata": {},
   "outputs": [
    {
     "data": {
      "text/plain": [
       "['hi', 100, 'hello_world']"
      ]
     },
     "execution_count": 167,
     "metadata": {},
     "output_type": "execute_result"
    }
   ],
   "source": [
    "l2"
   ]
  },
  {
   "cell_type": "code",
   "execution_count": 168,
   "id": "e9284a18",
   "metadata": {},
   "outputs": [
    {
     "data": {
      "text/plain": [
       "[10, True, 'Hello', 10.5, None, 600, 'hi', 100, 'hello_world']"
      ]
     },
     "execution_count": 168,
     "metadata": {},
     "output_type": "execute_result"
    }
   ],
   "source": [
    "l1 + l2"
   ]
  },
  {
   "cell_type": "code",
   "execution_count": null,
   "id": "0a817ad5",
   "metadata": {},
   "outputs": [],
   "source": []
  },
  {
   "cell_type": "code",
   "execution_count": 169,
   "id": "2e19b0c8",
   "metadata": {},
   "outputs": [],
   "source": [
    "l6 = [10, 20, 30,30]"
   ]
  },
  {
   "cell_type": "code",
   "execution_count": 170,
   "id": "5d1899f2",
   "metadata": {},
   "outputs": [],
   "source": [
    "l7 = [10, 10, 30]"
   ]
  },
  {
   "cell_type": "code",
   "execution_count": 171,
   "id": "fbb00b55",
   "metadata": {},
   "outputs": [
    {
     "data": {
      "text/plain": [
       "[10, 20, 30, 30, 10, 10, 30]"
      ]
     },
     "execution_count": 171,
     "metadata": {},
     "output_type": "execute_result"
    }
   ],
   "source": [
    "l6 + l7"
   ]
  },
  {
   "cell_type": "code",
   "execution_count": null,
   "id": "6777efb0",
   "metadata": {},
   "outputs": [],
   "source": []
  },
  {
   "cell_type": "code",
   "execution_count": 172,
   "id": "e7292b93",
   "metadata": {},
   "outputs": [],
   "source": [
    "# Repetition of lists"
   ]
  },
  {
   "cell_type": "code",
   "execution_count": 173,
   "id": "05d3181e",
   "metadata": {},
   "outputs": [
    {
     "data": {
      "text/plain": [
       "[10, 10, 30]"
      ]
     },
     "execution_count": 173,
     "metadata": {},
     "output_type": "execute_result"
    }
   ],
   "source": [
    "l7"
   ]
  },
  {
   "cell_type": "code",
   "execution_count": 174,
   "id": "c484b965",
   "metadata": {},
   "outputs": [
    {
     "data": {
      "text/plain": [
       "[10, 10, 30, 10, 10, 30]"
      ]
     },
     "execution_count": 174,
     "metadata": {},
     "output_type": "execute_result"
    }
   ],
   "source": [
    "l7 * 2"
   ]
  },
  {
   "cell_type": "code",
   "execution_count": null,
   "id": "82dcd210",
   "metadata": {},
   "outputs": [],
   "source": []
  },
  {
   "cell_type": "code",
   "execution_count": 175,
   "id": "6b06bc64",
   "metadata": {},
   "outputs": [
    {
     "data": {
      "text/plain": [
       "[10, True, 'Hello', 10.5, None, 600]"
      ]
     },
     "execution_count": 175,
     "metadata": {},
     "output_type": "execute_result"
    }
   ],
   "source": [
    "l1"
   ]
  },
  {
   "cell_type": "code",
   "execution_count": 176,
   "id": "8f14d315",
   "metadata": {},
   "outputs": [
    {
     "data": {
      "text/plain": [
       "[10, True, 'Hello', 10.5, None, 600, 10, True, 'Hello', 10.5, None, 600]"
      ]
     },
     "execution_count": 176,
     "metadata": {},
     "output_type": "execute_result"
    }
   ],
   "source": [
    "l1 + l1"
   ]
  },
  {
   "cell_type": "code",
   "execution_count": 177,
   "id": "d45e7887",
   "metadata": {},
   "outputs": [
    {
     "data": {
      "text/plain": [
       "[10, True, 'Hello', 10.5, None, 600, 10, True, 'Hello', 10.5, None, 600]"
      ]
     },
     "execution_count": 177,
     "metadata": {},
     "output_type": "execute_result"
    }
   ],
   "source": [
    "l1 * 2"
   ]
  },
  {
   "cell_type": "code",
   "execution_count": null,
   "id": "cca05804",
   "metadata": {},
   "outputs": [],
   "source": []
  },
  {
   "cell_type": "code",
   "execution_count": 178,
   "id": "5c0b0813",
   "metadata": {},
   "outputs": [],
   "source": [
    "# Doubts"
   ]
  },
  {
   "cell_type": "code",
   "execution_count": 179,
   "id": "1fc4108c",
   "metadata": {},
   "outputs": [
    {
     "data": {
      "text/plain": [
       "False"
      ]
     },
     "execution_count": 179,
     "metadata": {},
     "output_type": "execute_result"
    }
   ],
   "source": [
    "bool(0)"
   ]
  },
  {
   "cell_type": "code",
   "execution_count": 180,
   "id": "8c4528a6",
   "metadata": {},
   "outputs": [
    {
     "data": {
      "text/plain": [
       "True"
      ]
     },
     "execution_count": 180,
     "metadata": {},
     "output_type": "execute_result"
    }
   ],
   "source": [
    "bool('0')"
   ]
  },
  {
   "cell_type": "code",
   "execution_count": 181,
   "id": "75347d37",
   "metadata": {},
   "outputs": [],
   "source": [
    "# What is _?"
   ]
  },
  {
   "cell_type": "code",
   "execution_count": 182,
   "id": "cf85f0ee",
   "metadata": {},
   "outputs": [
    {
     "data": {
      "text/plain": [
       "True"
      ]
     },
     "execution_count": 182,
     "metadata": {},
     "output_type": "execute_result"
    }
   ],
   "source": [
    "_"
   ]
  },
  {
   "cell_type": "code",
   "execution_count": 183,
   "id": "18aea5b0",
   "metadata": {},
   "outputs": [],
   "source": [
    "var = 100"
   ]
  },
  {
   "cell_type": "code",
   "execution_count": 184,
   "id": "eb9279f9",
   "metadata": {},
   "outputs": [
    {
     "data": {
      "text/plain": [
       "True"
      ]
     },
     "execution_count": 184,
     "metadata": {},
     "output_type": "execute_result"
    }
   ],
   "source": [
    "_"
   ]
  },
  {
   "cell_type": "code",
   "execution_count": 185,
   "id": "f1e9afa5",
   "metadata": {},
   "outputs": [
    {
     "data": {
      "text/plain": [
       "100"
      ]
     },
     "execution_count": 185,
     "metadata": {},
     "output_type": "execute_result"
    }
   ],
   "source": [
    "var"
   ]
  },
  {
   "cell_type": "code",
   "execution_count": 186,
   "id": "16ca8825",
   "metadata": {},
   "outputs": [
    {
     "data": {
      "text/plain": [
       "100"
      ]
     },
     "execution_count": 186,
     "metadata": {},
     "output_type": "execute_result"
    }
   ],
   "source": [
    "_"
   ]
  },
  {
   "cell_type": "code",
   "execution_count": 187,
   "id": "ba00e00c",
   "metadata": {},
   "outputs": [
    {
     "name": "stdout",
     "output_type": "stream",
     "text": [
      "[10, True, 'Hello', 10.5, None, 600]\n"
     ]
    }
   ],
   "source": [
    "print(l1)"
   ]
  },
  {
   "cell_type": "code",
   "execution_count": 188,
   "id": "40763ffc",
   "metadata": {},
   "outputs": [
    {
     "data": {
      "text/plain": [
       "100"
      ]
     },
     "execution_count": 188,
     "metadata": {},
     "output_type": "execute_result"
    }
   ],
   "source": [
    "_"
   ]
  },
  {
   "cell_type": "code",
   "execution_count": null,
   "id": "c69c0418",
   "metadata": {},
   "outputs": [],
   "source": []
  }
 ],
 "metadata": {
  "kernelspec": {
   "display_name": "Python 3 (ipykernel)",
   "language": "python",
   "name": "python3"
  },
  "language_info": {
   "codemirror_mode": {
    "name": "ipython",
    "version": 3
   },
   "file_extension": ".py",
   "mimetype": "text/x-python",
   "name": "python",
   "nbconvert_exporter": "python",
   "pygments_lexer": "ipython3",
   "version": "3.11.4"
  }
 },
 "nbformat": 4,
 "nbformat_minor": 5
}
