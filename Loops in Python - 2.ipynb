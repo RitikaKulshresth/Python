{
 "cells": [
  {
   "cell_type": "code",
   "execution_count": 1,
   "id": "60c9a86d",
   "metadata": {},
   "outputs": [],
   "source": [
    "# for loop\n",
    "\n",
    "# it's an iterator based loop\n",
    "# for loop steps through the items/elements of an iterable object/datatype (str, list, tuple, set, dict) and\n",
    "# executes the block of code repeatedly for a number of times equal to the number of elements of that iterable object!\n",
    "# or for loops repeats itself number of times equal to the length of the iterable object"
   ]
  },
  {
   "cell_type": "code",
   "execution_count": 2,
   "id": "7364f25b",
   "metadata": {},
   "outputs": [],
   "source": [
    "# for var in iterable_object:\n",
    "#     statement1\n",
    "#     statement2\n",
    "#     ...\n",
    "#     statementN"
   ]
  },
  {
   "cell_type": "code",
   "execution_count": 3,
   "id": "53bb5b77",
   "metadata": {},
   "outputs": [],
   "source": [
    "# for each element of the iterable_object, it stores the element of it in an arbitary variable 'var' and executes\n",
    "# the block of statmenets until all the elements are exhausted!"
   ]
  },
  {
   "cell_type": "code",
   "execution_count": 4,
   "id": "f75abf08",
   "metadata": {},
   "outputs": [],
   "source": [
    "profits = [10.5, 9.0, 11.5, 13.5]"
   ]
  },
  {
   "cell_type": "code",
   "execution_count": 5,
   "id": "10bd6fd6",
   "metadata": {},
   "outputs": [
    {
     "data": {
      "text/plain": [
       "list"
      ]
     },
     "execution_count": 5,
     "metadata": {},
     "output_type": "execute_result"
    }
   ],
   "source": [
    "type(profits)"
   ]
  },
  {
   "cell_type": "code",
   "execution_count": 6,
   "id": "d80b94ea",
   "metadata": {},
   "outputs": [
    {
     "data": {
      "text/plain": [
       "[10.5, 9.0, 11.5, 13.5]"
      ]
     },
     "execution_count": 6,
     "metadata": {},
     "output_type": "execute_result"
    }
   ],
   "source": [
    "profits"
   ]
  },
  {
   "cell_type": "code",
   "execution_count": 7,
   "id": "98ea980f",
   "metadata": {},
   "outputs": [
    {
     "data": {
      "text/plain": [
       "10.5"
      ]
     },
     "execution_count": 7,
     "metadata": {},
     "output_type": "execute_result"
    }
   ],
   "source": [
    "profits[0]"
   ]
  },
  {
   "cell_type": "code",
   "execution_count": 8,
   "id": "4cb6860a",
   "metadata": {},
   "outputs": [
    {
     "data": {
      "text/plain": [
       "9.0"
      ]
     },
     "execution_count": 8,
     "metadata": {},
     "output_type": "execute_result"
    }
   ],
   "source": [
    "profits[1]"
   ]
  },
  {
   "cell_type": "code",
   "execution_count": 9,
   "id": "64770662",
   "metadata": {},
   "outputs": [
    {
     "data": {
      "text/plain": [
       "11.5"
      ]
     },
     "execution_count": 9,
     "metadata": {},
     "output_type": "execute_result"
    }
   ],
   "source": [
    "profits[2]"
   ]
  },
  {
   "cell_type": "code",
   "execution_count": 10,
   "id": "759ac809",
   "metadata": {},
   "outputs": [
    {
     "data": {
      "text/plain": [
       "13.5"
      ]
     },
     "execution_count": 10,
     "metadata": {},
     "output_type": "execute_result"
    }
   ],
   "source": [
    "profits[3]"
   ]
  },
  {
   "cell_type": "code",
   "execution_count": 11,
   "id": "ca3c855c",
   "metadata": {},
   "outputs": [
    {
     "name": "stdout",
     "output_type": "stream",
     "text": [
      "10.5\n",
      "9.0\n",
      "11.5\n",
      "13.5\n"
     ]
    }
   ],
   "source": [
    "for p in profits:\n",
    "    print(p)"
   ]
  },
  {
   "cell_type": "code",
   "execution_count": 12,
   "id": "67bd57af",
   "metadata": {},
   "outputs": [
    {
     "name": "stdout",
     "output_type": "stream",
     "text": [
      "10.5\n",
      "9.0\n",
      "11.5\n",
      "13.5\n"
     ]
    }
   ],
   "source": [
    "for profit in profits:\n",
    "    print(profit)"
   ]
  },
  {
   "cell_type": "code",
   "execution_count": 13,
   "id": "4f896474",
   "metadata": {},
   "outputs": [],
   "source": [
    "t1 = (10, -4, 'Hello', True, None, 'Python')"
   ]
  },
  {
   "cell_type": "code",
   "execution_count": 14,
   "id": "0d4a79a6",
   "metadata": {},
   "outputs": [
    {
     "data": {
      "text/plain": [
       "(10, -4, 'Hello', True, None, 'Python')"
      ]
     },
     "execution_count": 14,
     "metadata": {},
     "output_type": "execute_result"
    }
   ],
   "source": [
    "t1"
   ]
  },
  {
   "cell_type": "code",
   "execution_count": 15,
   "id": "88654e4b",
   "metadata": {},
   "outputs": [
    {
     "data": {
      "text/plain": [
       "tuple"
      ]
     },
     "execution_count": 15,
     "metadata": {},
     "output_type": "execute_result"
    }
   ],
   "source": [
    "type(t1)"
   ]
  },
  {
   "cell_type": "code",
   "execution_count": 16,
   "id": "a7da01b3",
   "metadata": {},
   "outputs": [
    {
     "name": "stdout",
     "output_type": "stream",
     "text": [
      "10\n",
      "-4\n",
      "Hello\n",
      "True\n",
      "None\n",
      "Python\n"
     ]
    }
   ],
   "source": [
    "for i in t1:\n",
    "    print(i)"
   ]
  },
  {
   "cell_type": "code",
   "execution_count": null,
   "id": "06a9bd19",
   "metadata": {},
   "outputs": [],
   "source": []
  },
  {
   "cell_type": "code",
   "execution_count": 17,
   "id": "14a0b3bf",
   "metadata": {},
   "outputs": [],
   "source": [
    "str1 = \"Hello World\""
   ]
  },
  {
   "cell_type": "code",
   "execution_count": 18,
   "id": "406733d9",
   "metadata": {},
   "outputs": [
    {
     "data": {
      "text/plain": [
       "'Hello World'"
      ]
     },
     "execution_count": 18,
     "metadata": {},
     "output_type": "execute_result"
    }
   ],
   "source": [
    "str1"
   ]
  },
  {
   "cell_type": "code",
   "execution_count": 19,
   "id": "5dfae690",
   "metadata": {},
   "outputs": [
    {
     "data": {
      "text/plain": [
       "str"
      ]
     },
     "execution_count": 19,
     "metadata": {},
     "output_type": "execute_result"
    }
   ],
   "source": [
    "type(str1)"
   ]
  },
  {
   "cell_type": "code",
   "execution_count": 20,
   "id": "11ec0758",
   "metadata": {},
   "outputs": [
    {
     "name": "stdout",
     "output_type": "stream",
     "text": [
      "H\n",
      "e\n",
      "l\n",
      "l\n",
      "o\n",
      " \n",
      "W\n",
      "o\n",
      "r\n",
      "l\n",
      "d\n"
     ]
    }
   ],
   "source": [
    "for character in str1:\n",
    "    print(character)"
   ]
  },
  {
   "cell_type": "code",
   "execution_count": 21,
   "id": "80fe4516",
   "metadata": {},
   "outputs": [
    {
     "data": {
      "text/plain": [
       "(10, -4, 'Hello', True, None, 'Python')"
      ]
     },
     "execution_count": 21,
     "metadata": {},
     "output_type": "execute_result"
    }
   ],
   "source": [
    "t1"
   ]
  },
  {
   "cell_type": "code",
   "execution_count": 22,
   "id": "5171c0c6",
   "metadata": {},
   "outputs": [
    {
     "data": {
      "text/plain": [
       "('Hello', True, None, 'Python')"
      ]
     },
     "execution_count": 22,
     "metadata": {},
     "output_type": "execute_result"
    }
   ],
   "source": [
    "t1[2::1]"
   ]
  },
  {
   "cell_type": "code",
   "execution_count": 23,
   "id": "4bf721ae",
   "metadata": {},
   "outputs": [
    {
     "name": "stdout",
     "output_type": "stream",
     "text": [
      "Hello\n",
      "True\n",
      "None\n",
      "Python\n"
     ]
    }
   ],
   "source": [
    "for i in t1[2::1]:\n",
    "    print(i)"
   ]
  },
  {
   "cell_type": "code",
   "execution_count": 24,
   "id": "fd90ff1b",
   "metadata": {},
   "outputs": [],
   "source": [
    "t2 = t1[2::1]"
   ]
  },
  {
   "cell_type": "code",
   "execution_count": 25,
   "id": "3b101d0e",
   "metadata": {},
   "outputs": [
    {
     "data": {
      "text/plain": [
       "('Hello', True, None, 'Python')"
      ]
     },
     "execution_count": 25,
     "metadata": {},
     "output_type": "execute_result"
    }
   ],
   "source": [
    "t2"
   ]
  },
  {
   "cell_type": "code",
   "execution_count": 26,
   "id": "5c71b880",
   "metadata": {},
   "outputs": [
    {
     "name": "stdout",
     "output_type": "stream",
     "text": [
      "Hello\n",
      "True\n",
      "None\n",
      "Python\n"
     ]
    }
   ],
   "source": [
    "for i in t2:\n",
    "    print(i)"
   ]
  },
  {
   "cell_type": "code",
   "execution_count": 27,
   "id": "250f33fb",
   "metadata": {},
   "outputs": [
    {
     "name": "stdout",
     "output_type": "stream",
     "text": [
      "H\n",
      "e\n",
      "l\n",
      "l\n",
      "o\n",
      " \n",
      "W\n",
      "o\n",
      "r\n",
      "l\n",
      "d\n"
     ]
    }
   ],
   "source": [
    "for i in str1:\n",
    "    print(i)"
   ]
  },
  {
   "cell_type": "code",
   "execution_count": 28,
   "id": "e0b14148",
   "metadata": {},
   "outputs": [
    {
     "data": {
      "text/plain": [
       "(10, -4, 'Hello', True, None, 'Python')"
      ]
     },
     "execution_count": 28,
     "metadata": {},
     "output_type": "execute_result"
    }
   ],
   "source": [
    "t1"
   ]
  },
  {
   "cell_type": "code",
   "execution_count": 29,
   "id": "dc6a9225",
   "metadata": {},
   "outputs": [
    {
     "name": "stdout",
     "output_type": "stream",
     "text": [
      "10\n",
      "-4\n",
      "Hello\n",
      "True\n",
      "None\n",
      "Python\n"
     ]
    }
   ],
   "source": [
    "for i in t1:\n",
    "    print(i)"
   ]
  },
  {
   "cell_type": "code",
   "execution_count": 30,
   "id": "3a26956c",
   "metadata": {},
   "outputs": [
    {
     "name": "stdout",
     "output_type": "stream",
     "text": [
      "Python\n",
      "None\n",
      "True\n",
      "Hello\n",
      "-4\n",
      "10\n"
     ]
    }
   ],
   "source": [
    "for i in t1[::-1]:\n",
    "    print(i)"
   ]
  },
  {
   "cell_type": "code",
   "execution_count": 31,
   "id": "13f35622",
   "metadata": {},
   "outputs": [
    {
     "data": {
      "text/plain": [
       "(10, -4, 'Hello', True, None, 'Python')"
      ]
     },
     "execution_count": 31,
     "metadata": {},
     "output_type": "execute_result"
    }
   ],
   "source": [
    "t1"
   ]
  },
  {
   "cell_type": "code",
   "execution_count": 32,
   "id": "ce7f787f",
   "metadata": {},
   "outputs": [
    {
     "data": {
      "text/plain": [
       "(10, 'Hello', None)"
      ]
     },
     "execution_count": 32,
     "metadata": {},
     "output_type": "execute_result"
    }
   ],
   "source": [
    "t1[::2]"
   ]
  },
  {
   "cell_type": "code",
   "execution_count": 33,
   "id": "2ab54834",
   "metadata": {},
   "outputs": [
    {
     "name": "stdout",
     "output_type": "stream",
     "text": [
      "10\n",
      "Hello\n",
      "None\n"
     ]
    }
   ],
   "source": [
    "for i in t1[::2]:\n",
    "    print(i)"
   ]
  },
  {
   "cell_type": "code",
   "execution_count": 34,
   "id": "d8697af1",
   "metadata": {},
   "outputs": [],
   "source": [
    "l1 = [10, 20, 30, [1,2,3,4], -1, -2]"
   ]
  },
  {
   "cell_type": "code",
   "execution_count": 35,
   "id": "8ca1052e",
   "metadata": {},
   "outputs": [
    {
     "data": {
      "text/plain": [
       "[10, 20, 30, [1, 2, 3, 4], -1, -2]"
      ]
     },
     "execution_count": 35,
     "metadata": {},
     "output_type": "execute_result"
    }
   ],
   "source": [
    "l1"
   ]
  },
  {
   "cell_type": "code",
   "execution_count": 36,
   "id": "3e11be1e",
   "metadata": {},
   "outputs": [
    {
     "name": "stdout",
     "output_type": "stream",
     "text": [
      "10\n",
      "20\n",
      "30\n",
      "[1, 2, 3, 4]\n",
      "-1\n",
      "-2\n"
     ]
    }
   ],
   "source": [
    "for i in l1:\n",
    "    print(i)"
   ]
  },
  {
   "cell_type": "code",
   "execution_count": 37,
   "id": "1df4b798",
   "metadata": {},
   "outputs": [
    {
     "data": {
      "text/plain": [
       "(10, -4, 'Hello', True, None, 'Python')"
      ]
     },
     "execution_count": 37,
     "metadata": {},
     "output_type": "execute_result"
    }
   ],
   "source": [
    "t1"
   ]
  },
  {
   "cell_type": "code",
   "execution_count": 38,
   "id": "7f955d11",
   "metadata": {},
   "outputs": [
    {
     "name": "stdout",
     "output_type": "stream",
     "text": [
      "Hello\n",
      "Hello\n",
      "Hello\n",
      "Hello\n",
      "Hello\n",
      "Hello\n"
     ]
    }
   ],
   "source": [
    "for i in t1:\n",
    "    print(\"Hello\")"
   ]
  },
  {
   "cell_type": "code",
   "execution_count": 39,
   "id": "65ecfc1c",
   "metadata": {},
   "outputs": [
    {
     "data": {
      "text/plain": [
       "6"
      ]
     },
     "execution_count": 39,
     "metadata": {},
     "output_type": "execute_result"
    }
   ],
   "source": [
    "len(t1)"
   ]
  },
  {
   "cell_type": "code",
   "execution_count": 40,
   "id": "ed7422a2",
   "metadata": {},
   "outputs": [
    {
     "name": "stdout",
     "output_type": "stream",
     "text": [
      "vfkjbhuvbfyvhgb\n",
      "vfkjbhuvbfyvhgb\n",
      "vfkjbhuvbfyvhgb\n",
      "vfkjbhuvbfyvhgb\n",
      "vfkjbhuvbfyvhgb\n",
      "vfkjbhuvbfyvhgb\n"
     ]
    }
   ],
   "source": [
    "for i in t1:\n",
    "    print(\"vfkjbhuvbfyvhgb\")"
   ]
  },
  {
   "cell_type": "code",
   "execution_count": 41,
   "id": "1ea0c685",
   "metadata": {},
   "outputs": [
    {
     "name": "stdout",
     "output_type": "stream",
     "text": [
      "Hello 10\n",
      "Hello -4\n",
      "Hello Hello\n",
      "Hello True\n",
      "Hello None\n",
      "Hello Python\n"
     ]
    }
   ],
   "source": [
    "for i in t1:\n",
    "    print(\"Hello\", i)"
   ]
  },
  {
   "cell_type": "code",
   "execution_count": 42,
   "id": "c3c1308c",
   "metadata": {},
   "outputs": [
    {
     "name": "stdout",
     "output_type": "stream",
     "text": [
      "Hello\n",
      "10\n",
      "Hello\n",
      "-4\n",
      "Hello\n",
      "Hello\n",
      "Hello\n",
      "True\n",
      "Hello\n",
      "None\n",
      "Hello\n",
      "Python\n"
     ]
    }
   ],
   "source": [
    "for i in t1:\n",
    "    print(\"Hello\")\n",
    "    print(i)"
   ]
  },
  {
   "cell_type": "code",
   "execution_count": 43,
   "id": "2268f877",
   "metadata": {},
   "outputs": [
    {
     "name": "stdout",
     "output_type": "stream",
     "text": [
      "Hello\n",
      "10\n",
      "==========================\n",
      "Hello\n",
      "-4\n",
      "==========================\n",
      "Hello\n",
      "Hello\n",
      "==========================\n",
      "Hello\n",
      "True\n",
      "==========================\n",
      "Hello\n",
      "None\n",
      "==========================\n",
      "Hello\n",
      "Python\n",
      "==========================\n"
     ]
    }
   ],
   "source": [
    "for i in t1:\n",
    "    print(\"Hello\")\n",
    "    print(i)\n",
    "    print(\"==========================\")"
   ]
  },
  {
   "cell_type": "code",
   "execution_count": null,
   "id": "fcb665b5",
   "metadata": {},
   "outputs": [],
   "source": []
  },
  {
   "cell_type": "code",
   "execution_count": 44,
   "id": "8006f600",
   "metadata": {},
   "outputs": [],
   "source": [
    "set1 = {0, 6, 'Bye', None, 'Python'}"
   ]
  },
  {
   "cell_type": "code",
   "execution_count": 45,
   "id": "2a3d368a",
   "metadata": {},
   "outputs": [
    {
     "data": {
      "text/plain": [
       "{0, 6, 'Bye', None, 'Python'}"
      ]
     },
     "execution_count": 45,
     "metadata": {},
     "output_type": "execute_result"
    }
   ],
   "source": [
    "set1"
   ]
  },
  {
   "cell_type": "code",
   "execution_count": 46,
   "id": "17692816",
   "metadata": {},
   "outputs": [
    {
     "name": "stdout",
     "output_type": "stream",
     "text": [
      "0\n",
      "Bye\n",
      "Python\n",
      "6\n",
      "None\n"
     ]
    }
   ],
   "source": [
    "for i in set1:\n",
    "    print(i)"
   ]
  },
  {
   "cell_type": "code",
   "execution_count": 47,
   "id": "5337fa05",
   "metadata": {},
   "outputs": [],
   "source": [
    "student1 = {'roll': 101, 'name': 'Jack', 'percent': 78.5}"
   ]
  },
  {
   "cell_type": "code",
   "execution_count": 48,
   "id": "f46ae421",
   "metadata": {},
   "outputs": [
    {
     "data": {
      "text/plain": [
       "{'roll': 101, 'name': 'Jack', 'percent': 78.5}"
      ]
     },
     "execution_count": 48,
     "metadata": {},
     "output_type": "execute_result"
    }
   ],
   "source": [
    "student1"
   ]
  },
  {
   "cell_type": "code",
   "execution_count": 49,
   "id": "b2a6985e",
   "metadata": {},
   "outputs": [
    {
     "name": "stdout",
     "output_type": "stream",
     "text": [
      "roll\n",
      "name\n",
      "percent\n"
     ]
    }
   ],
   "source": [
    "for i in student1:\n",
    "    print(i)"
   ]
  },
  {
   "cell_type": "code",
   "execution_count": 51,
   "id": "caed9ce4",
   "metadata": {},
   "outputs": [],
   "source": [
    "# If we run a for loop directly on a dictionary, keys will be fetched."
   ]
  },
  {
   "cell_type": "code",
   "execution_count": 52,
   "id": "2bdec8fa",
   "metadata": {},
   "outputs": [
    {
     "data": {
      "text/plain": [
       "dict_keys(['roll', 'name', 'percent'])"
      ]
     },
     "execution_count": 52,
     "metadata": {},
     "output_type": "execute_result"
    }
   ],
   "source": [
    "student1.keys()"
   ]
  },
  {
   "cell_type": "code",
   "execution_count": 53,
   "id": "1a261e8b",
   "metadata": {},
   "outputs": [
    {
     "name": "stdout",
     "output_type": "stream",
     "text": [
      "roll\n",
      "name\n",
      "percent\n"
     ]
    }
   ],
   "source": [
    "for k in student1.keys():\n",
    "    print(k)"
   ]
  },
  {
   "cell_type": "code",
   "execution_count": 55,
   "id": "97b091c5",
   "metadata": {},
   "outputs": [
    {
     "name": "stdout",
     "output_type": "stream",
     "text": [
      "101\n",
      "Jack\n",
      "78.5\n"
     ]
    }
   ],
   "source": [
    "for v in student1.values():\n",
    "    print(v)"
   ]
  },
  {
   "cell_type": "code",
   "execution_count": 57,
   "id": "3c045eff",
   "metadata": {},
   "outputs": [
    {
     "data": {
      "text/plain": [
       "{'roll': 101, 'name': 'Jack', 'percent': 78.5}"
      ]
     },
     "execution_count": 57,
     "metadata": {},
     "output_type": "execute_result"
    }
   ],
   "source": [
    "student1"
   ]
  },
  {
   "cell_type": "code",
   "execution_count": null,
   "id": "725002cf",
   "metadata": {},
   "outputs": [],
   "source": []
  },
  {
   "cell_type": "code",
   "execution_count": 58,
   "id": "f4e6acc1",
   "metadata": {},
   "outputs": [
    {
     "data": {
      "text/plain": [
       "[10.5, 9.0, 11.5, 13.5]"
      ]
     },
     "execution_count": 58,
     "metadata": {},
     "output_type": "execute_result"
    }
   ],
   "source": [
    "profits"
   ]
  },
  {
   "cell_type": "code",
   "execution_count": 59,
   "id": "c363d9c7",
   "metadata": {},
   "outputs": [
    {
     "name": "stdout",
     "output_type": "stream",
     "text": [
      "10.5\n",
      "9.0\n",
      "11.5\n",
      "13.5\n"
     ]
    }
   ],
   "source": [
    "for profit in profits:\n",
    "    print(profit)"
   ]
  },
  {
   "cell_type": "code",
   "execution_count": 60,
   "id": "15d1c3ed",
   "metadata": {},
   "outputs": [],
   "source": [
    "# Profits for quarter 1 is 10.5\n",
    "# Profits for quarter 2 is 9.0\n",
    "# Profits for quarter 3 is 11.5\n",
    "# Profits for quarter 4 is 13.5"
   ]
  },
  {
   "cell_type": "code",
   "execution_count": 61,
   "id": "782d445c",
   "metadata": {},
   "outputs": [
    {
     "name": "stdout",
     "output_type": "stream",
     "text": [
      "Profits of quarter 1 is 10.5\n",
      "Profits of quarter 1 is 9.0\n",
      "Profits of quarter 1 is 11.5\n",
      "Profits of quarter 1 is 13.5\n"
     ]
    }
   ],
   "source": [
    "for profit in profits:\n",
    "    print(f\"Profits of quarter 1 is {profit}\")"
   ]
  },
  {
   "cell_type": "code",
   "execution_count": 63,
   "id": "577c30a4",
   "metadata": {},
   "outputs": [
    {
     "name": "stdout",
     "output_type": "stream",
     "text": [
      "Profits of quarter 1 is 10.5\n",
      "Profits of quarter 1 is 9.0\n",
      "Profits of quarter 1 is 11.5\n",
      "Profits of quarter 1 is 13.5\n"
     ]
    }
   ],
   "source": [
    "quarter = 1\n",
    "\n",
    "for profit in profits:\n",
    "    print(f\"Profits of quarter {quarter} is {profit}\")"
   ]
  },
  {
   "cell_type": "code",
   "execution_count": 64,
   "id": "4e053878",
   "metadata": {},
   "outputs": [
    {
     "name": "stdout",
     "output_type": "stream",
     "text": [
      "Profits of quarter 1 is 10.5\n",
      "Profits of quarter 2 is 9.0\n",
      "Profits of quarter 3 is 11.5\n",
      "Profits of quarter 4 is 13.5\n"
     ]
    }
   ],
   "source": [
    "quarter = 1\n",
    "\n",
    "for profit in profits:\n",
    "    print(f\"Profits of quarter {quarter} is {profit}\")\n",
    "    quarter += 1"
   ]
  },
  {
   "cell_type": "code",
   "execution_count": 65,
   "id": "8882eea7",
   "metadata": {},
   "outputs": [
    {
     "name": "stdout",
     "output_type": "stream",
     "text": [
      "Profits of quarter 2 is 10.5\n",
      "Profits of quarter 2 is 9.0\n",
      "Profits of quarter 2 is 11.5\n",
      "Profits of quarter 2 is 13.5\n"
     ]
    }
   ],
   "source": [
    "quarter = 1\n",
    "\n",
    "quarter += 1\n",
    "for profit in profits:\n",
    "    print(f\"Profits of quarter {quarter} is {profit}\")"
   ]
  },
  {
   "cell_type": "code",
   "execution_count": null,
   "id": "51353c46",
   "metadata": {},
   "outputs": [],
   "source": []
  },
  {
   "cell_type": "code",
   "execution_count": 66,
   "id": "d0d8dbd3",
   "metadata": {},
   "outputs": [],
   "source": [
    "# Print the elements of a list using while loop"
   ]
  },
  {
   "cell_type": "code",
   "execution_count": 67,
   "id": "8b8d82f9",
   "metadata": {},
   "outputs": [],
   "source": [
    "# Indexing starts from 0 to len-1"
   ]
  },
  {
   "cell_type": "code",
   "execution_count": 68,
   "id": "84600911",
   "metadata": {},
   "outputs": [
    {
     "data": {
      "text/plain": [
       "[10.5, 9.0, 11.5, 13.5]"
      ]
     },
     "execution_count": 68,
     "metadata": {},
     "output_type": "execute_result"
    }
   ],
   "source": [
    "profits"
   ]
  },
  {
   "cell_type": "code",
   "execution_count": 69,
   "id": "d9d8a928",
   "metadata": {},
   "outputs": [
    {
     "name": "stdout",
     "output_type": "stream",
     "text": [
      "Index: 0\n",
      "Index: 1\n",
      "Index: 2\n",
      "Index: 3\n"
     ]
    }
   ],
   "source": [
    "index = 0\n",
    "\n",
    "while index < len(profits):\n",
    "    print(f\"Index: {index}\")\n",
    "    index += 1"
   ]
  },
  {
   "cell_type": "code",
   "execution_count": 70,
   "id": "ee3ba6f3",
   "metadata": {},
   "outputs": [
    {
     "name": "stdout",
     "output_type": "stream",
     "text": [
      "10.5\n",
      "9.0\n",
      "11.5\n",
      "13.5\n"
     ]
    }
   ],
   "source": [
    "index = 0\n",
    "\n",
    "while index < len(profits):\n",
    "    # print(f\"Index: {index}\")\n",
    "    print(profits[index])\n",
    "    index += 1"
   ]
  },
  {
   "cell_type": "code",
   "execution_count": 71,
   "id": "276d7a55",
   "metadata": {},
   "outputs": [
    {
     "name": "stdout",
     "output_type": "stream",
     "text": [
      "Index: 0, Profit: 10.5\n",
      "Index: 1, Profit: 9.0\n",
      "Index: 2, Profit: 11.5\n",
      "Index: 3, Profit: 13.5\n"
     ]
    }
   ],
   "source": [
    "index = 0\n",
    "\n",
    "while index < len(profits):\n",
    "    print(f\"Index: {index}, Profit: {profits[index]}\")\n",
    "    index += 1"
   ]
  },
  {
   "cell_type": "code",
   "execution_count": 73,
   "id": "993ed3d6",
   "metadata": {},
   "outputs": [
    {
     "name": "stdout",
     "output_type": "stream",
     "text": [
      "Index: 0, Profit: 10.5\n",
      "Index: 1, Profit: 9.0\n",
      "Index: 2, Profit: 11.5\n",
      "Index: 3, Profit: 13.5\n"
     ]
    }
   ],
   "source": [
    "index = 0\n",
    "\n",
    "while index < len(profits):\n",
    "    profit = profits[index]\n",
    "    print(f\"Index: {index}, Profit: {profit}\")\n",
    "    index += 1"
   ]
  },
  {
   "cell_type": "code",
   "execution_count": 74,
   "id": "4e709760",
   "metadata": {},
   "outputs": [],
   "source": [
    "# Profits for quarter 1 is 10.5\n",
    "# Profits for quarter 2 is 9.0\n",
    "# Profits for quarter 3 is 11.5\n",
    "# Profits for quarter 4 is 13.5"
   ]
  },
  {
   "cell_type": "code",
   "execution_count": 75,
   "id": "8ea2da1c",
   "metadata": {},
   "outputs": [
    {
     "name": "stdout",
     "output_type": "stream",
     "text": [
      "Profits for quarter 1 is 10.5\n",
      "Profits for quarter 2 is 9.0\n",
      "Profits for quarter 3 is 11.5\n",
      "Profits for quarter 4 is 13.5\n"
     ]
    }
   ],
   "source": [
    "index = 0\n",
    "\n",
    "while index < len(profits):\n",
    "    profit = profits[index]\n",
    "    quarter = index + 1\n",
    "    print(f\"Profits for quarter {quarter} is {profit}\")\n",
    "    index += 1"
   ]
  },
  {
   "cell_type": "code",
   "execution_count": null,
   "id": "2dafcbe3",
   "metadata": {},
   "outputs": [],
   "source": []
  },
  {
   "cell_type": "code",
   "execution_count": 76,
   "id": "117416b0",
   "metadata": {},
   "outputs": [
    {
     "data": {
      "text/plain": [
       "{'roll': 101, 'name': 'Jack', 'percent': 78.5}"
      ]
     },
     "execution_count": 76,
     "metadata": {},
     "output_type": "execute_result"
    }
   ],
   "source": [
    "student1"
   ]
  },
  {
   "cell_type": "code",
   "execution_count": 77,
   "id": "03623f9b",
   "metadata": {},
   "outputs": [
    {
     "name": "stdout",
     "output_type": "stream",
     "text": [
      "roll\n",
      "name\n",
      "percent\n"
     ]
    }
   ],
   "source": [
    "for k in student1:\n",
    "    print(k)"
   ]
  },
  {
   "cell_type": "code",
   "execution_count": 78,
   "id": "513a8c92",
   "metadata": {},
   "outputs": [
    {
     "name": "stdout",
     "output_type": "stream",
     "text": [
      "Key: roll, Value: 101\n",
      "Key: name, Value: Jack\n",
      "Key: percent, Value: 78.5\n"
     ]
    }
   ],
   "source": [
    "for k in student1:\n",
    "    v = student1[k]\n",
    "    print(f\"Key: {k}, Value: {v}\")"
   ]
  },
  {
   "cell_type": "code",
   "execution_count": null,
   "id": "5d48dbc5",
   "metadata": {},
   "outputs": [],
   "source": []
  },
  {
   "cell_type": "code",
   "execution_count": 79,
   "id": "3f065001",
   "metadata": {},
   "outputs": [],
   "source": [
    "# range\n",
    "# used to generate a range of integers"
   ]
  },
  {
   "cell_type": "code",
   "execution_count": 80,
   "id": "8157ae03",
   "metadata": {},
   "outputs": [],
   "source": [
    "# range(start, stop, step)"
   ]
  },
  {
   "cell_type": "code",
   "execution_count": 81,
   "id": "fee3c98b",
   "metadata": {},
   "outputs": [],
   "source": [
    "r1 = range(10, 20, 1)"
   ]
  },
  {
   "cell_type": "code",
   "execution_count": 82,
   "id": "92b51759",
   "metadata": {},
   "outputs": [
    {
     "name": "stdout",
     "output_type": "stream",
     "text": [
      "range(10, 20)\n"
     ]
    }
   ],
   "source": [
    "print(r1)"
   ]
  },
  {
   "cell_type": "code",
   "execution_count": 83,
   "id": "79f32e77",
   "metadata": {},
   "outputs": [
    {
     "data": {
      "text/plain": [
       "[10, 11, 12, 13, 14, 15, 16, 17, 18, 19]"
      ]
     },
     "execution_count": 83,
     "metadata": {},
     "output_type": "execute_result"
    }
   ],
   "source": [
    "list(r1)"
   ]
  },
  {
   "cell_type": "code",
   "execution_count": 84,
   "id": "cd42660f",
   "metadata": {},
   "outputs": [
    {
     "data": {
      "text/plain": [
       "(10, 11, 12, 13, 14, 15, 16, 17, 18, 19)"
      ]
     },
     "execution_count": 84,
     "metadata": {},
     "output_type": "execute_result"
    }
   ],
   "source": [
    "tuple(r1)"
   ]
  },
  {
   "cell_type": "code",
   "execution_count": 85,
   "id": "9e045f89",
   "metadata": {},
   "outputs": [
    {
     "data": {
      "text/plain": [
       "{10, 11, 12, 13, 14, 15, 16, 17, 18, 19}"
      ]
     },
     "execution_count": 85,
     "metadata": {},
     "output_type": "execute_result"
    }
   ],
   "source": [
    "set(r1)"
   ]
  },
  {
   "cell_type": "code",
   "execution_count": 86,
   "id": "a799f10c",
   "metadata": {},
   "outputs": [
    {
     "data": {
      "text/plain": [
       "range"
      ]
     },
     "execution_count": 86,
     "metadata": {},
     "output_type": "execute_result"
    }
   ],
   "source": [
    "type(r1)"
   ]
  },
  {
   "cell_type": "code",
   "execution_count": 87,
   "id": "60182eba",
   "metadata": {},
   "outputs": [
    {
     "name": "stdout",
     "output_type": "stream",
     "text": [
      "10\n",
      "11\n",
      "12\n",
      "13\n",
      "14\n",
      "15\n",
      "16\n",
      "17\n",
      "18\n",
      "19\n"
     ]
    }
   ],
   "source": [
    "for i in r1:\n",
    "    print(i)"
   ]
  },
  {
   "cell_type": "code",
   "execution_count": 88,
   "id": "c9841daf",
   "metadata": {},
   "outputs": [
    {
     "name": "stdout",
     "output_type": "stream",
     "text": [
      "10\n",
      "12\n",
      "14\n",
      "16\n",
      "18\n"
     ]
    }
   ],
   "source": [
    "for i in range(10, 20, 2):\n",
    "    print(i)"
   ]
  },
  {
   "cell_type": "code",
   "execution_count": 89,
   "id": "7b9626f4",
   "metadata": {},
   "outputs": [
    {
     "name": "stdout",
     "output_type": "stream",
     "text": [
      "10\n",
      "14\n",
      "18\n",
      "22\n",
      "26\n"
     ]
    }
   ],
   "source": [
    "for i in range(10, 30, 4):\n",
    "    print(i)"
   ]
  },
  {
   "cell_type": "code",
   "execution_count": 90,
   "id": "8192bad6",
   "metadata": {},
   "outputs": [],
   "source": [
    "for i in range(10, 5, 1):\n",
    "    print(i)"
   ]
  },
  {
   "cell_type": "code",
   "execution_count": 91,
   "id": "9770127b",
   "metadata": {},
   "outputs": [
    {
     "data": {
      "text/plain": [
       "[]"
      ]
     },
     "execution_count": 91,
     "metadata": {},
     "output_type": "execute_result"
    }
   ],
   "source": [
    "list(range(10, 5, 1))"
   ]
  },
  {
   "cell_type": "code",
   "execution_count": 92,
   "id": "b45bfd0d",
   "metadata": {},
   "outputs": [
    {
     "name": "stdout",
     "output_type": "stream",
     "text": [
      "10\n",
      "9\n",
      "8\n",
      "7\n",
      "6\n"
     ]
    }
   ],
   "source": [
    "for i in range(10, 5, -1):\n",
    "    print(i)"
   ]
  },
  {
   "cell_type": "code",
   "execution_count": 93,
   "id": "44da3c98",
   "metadata": {},
   "outputs": [
    {
     "name": "stdout",
     "output_type": "stream",
     "text": [
      "10\n",
      "9\n",
      "8\n",
      "7\n",
      "6\n",
      "5\n"
     ]
    }
   ],
   "source": [
    "for i in range(10, 4, -1):\n",
    "    print(i)"
   ]
  },
  {
   "cell_type": "code",
   "execution_count": 94,
   "id": "5b562bc1",
   "metadata": {},
   "outputs": [
    {
     "name": "stdout",
     "output_type": "stream",
     "text": [
      "10\n",
      "11\n",
      "12\n",
      "13\n",
      "14\n"
     ]
    }
   ],
   "source": [
    "for i in range(10, 15):\n",
    "    print(i)"
   ]
  },
  {
   "cell_type": "code",
   "execution_count": 95,
   "id": "e58ccad8",
   "metadata": {},
   "outputs": [
    {
     "ename": "TypeError",
     "evalue": "'float' object cannot be interpreted as an integer",
     "output_type": "error",
     "traceback": [
      "\u001b[1;31m---------------------------------------------------------------------------\u001b[0m",
      "\u001b[1;31mTypeError\u001b[0m                                 Traceback (most recent call last)",
      "Cell \u001b[1;32mIn[95], line 1\u001b[0m\n\u001b[1;32m----> 1\u001b[0m \u001b[38;5;28;01mfor\u001b[39;00m i \u001b[38;5;129;01min\u001b[39;00m \u001b[38;5;28mrange\u001b[39m(\u001b[38;5;241m10.5\u001b[39m, \u001b[38;5;241m15.5\u001b[39m):\n\u001b[0;32m      2\u001b[0m     \u001b[38;5;28mprint\u001b[39m(i)\n",
      "\u001b[1;31mTypeError\u001b[0m: 'float' object cannot be interpreted as an integer"
     ]
    }
   ],
   "source": [
    "for i in range(10.5, 15.5):\n",
    "    print(i)"
   ]
  },
  {
   "cell_type": "code",
   "execution_count": 96,
   "id": "cde357be",
   "metadata": {},
   "outputs": [],
   "source": [
    "# step = 1 by default"
   ]
  },
  {
   "cell_type": "code",
   "execution_count": 97,
   "id": "45d938d0",
   "metadata": {},
   "outputs": [
    {
     "name": "stdout",
     "output_type": "stream",
     "text": [
      "0\n",
      "1\n",
      "2\n",
      "3\n",
      "4\n"
     ]
    }
   ],
   "source": [
    "for i in range(5):\n",
    "    print(i)"
   ]
  },
  {
   "cell_type": "code",
   "execution_count": 98,
   "id": "6e4ffed5",
   "metadata": {},
   "outputs": [],
   "source": [
    "# start = 0 by default"
   ]
  },
  {
   "cell_type": "code",
   "execution_count": 99,
   "id": "ba9a08c7",
   "metadata": {},
   "outputs": [],
   "source": [
    "# stop is mandatory!!!!"
   ]
  },
  {
   "cell_type": "code",
   "execution_count": 100,
   "id": "e8bc4991",
   "metadata": {},
   "outputs": [
    {
     "name": "stdout",
     "output_type": "stream",
     "text": [
      "0\n",
      "1\n",
      "2\n",
      "3\n",
      "4\n"
     ]
    }
   ],
   "source": [
    "for i in range(5): # start = 0, stop = 5, step = 1\n",
    "    print(i)"
   ]
  },
  {
   "cell_type": "code",
   "execution_count": 101,
   "id": "9dc79e8e",
   "metadata": {},
   "outputs": [
    {
     "name": "stdout",
     "output_type": "stream",
     "text": [
      "Help on class range in module builtins:\n",
      "\n",
      "class range(object)\n",
      " |  range(stop) -> range object\n",
      " |  range(start, stop[, step]) -> range object\n",
      " |  \n",
      " |  Return an object that produces a sequence of integers from start (inclusive)\n",
      " |  to stop (exclusive) by step.  range(i, j) produces i, i+1, i+2, ..., j-1.\n",
      " |  start defaults to 0, and stop is omitted!  range(4) produces 0, 1, 2, 3.\n",
      " |  These are exactly the valid indices for a list of 4 elements.\n",
      " |  When step is given, it specifies the increment (or decrement).\n",
      " |  \n",
      " |  Methods defined here:\n",
      " |  \n",
      " |  __bool__(self, /)\n",
      " |      True if self else False\n",
      " |  \n",
      " |  __contains__(self, key, /)\n",
      " |      Return key in self.\n",
      " |  \n",
      " |  __eq__(self, value, /)\n",
      " |      Return self==value.\n",
      " |  \n",
      " |  __ge__(self, value, /)\n",
      " |      Return self>=value.\n",
      " |  \n",
      " |  __getattribute__(self, name, /)\n",
      " |      Return getattr(self, name).\n",
      " |  \n",
      " |  __getitem__(self, key, /)\n",
      " |      Return self[key].\n",
      " |  \n",
      " |  __gt__(self, value, /)\n",
      " |      Return self>value.\n",
      " |  \n",
      " |  __hash__(self, /)\n",
      " |      Return hash(self).\n",
      " |  \n",
      " |  __iter__(self, /)\n",
      " |      Implement iter(self).\n",
      " |  \n",
      " |  __le__(self, value, /)\n",
      " |      Return self<=value.\n",
      " |  \n",
      " |  __len__(self, /)\n",
      " |      Return len(self).\n",
      " |  \n",
      " |  __lt__(self, value, /)\n",
      " |      Return self<value.\n",
      " |  \n",
      " |  __ne__(self, value, /)\n",
      " |      Return self!=value.\n",
      " |  \n",
      " |  __reduce__(...)\n",
      " |      Helper for pickle.\n",
      " |  \n",
      " |  __repr__(self, /)\n",
      " |      Return repr(self).\n",
      " |  \n",
      " |  __reversed__(...)\n",
      " |      Return a reverse iterator.\n",
      " |  \n",
      " |  count(...)\n",
      " |      rangeobject.count(value) -> integer -- return number of occurrences of value\n",
      " |  \n",
      " |  index(...)\n",
      " |      rangeobject.index(value) -> integer -- return index of value.\n",
      " |      Raise ValueError if the value is not present.\n",
      " |  \n",
      " |  ----------------------------------------------------------------------\n",
      " |  Static methods defined here:\n",
      " |  \n",
      " |  __new__(*args, **kwargs) from builtins.type\n",
      " |      Create and return a new object.  See help(type) for accurate signature.\n",
      " |  \n",
      " |  ----------------------------------------------------------------------\n",
      " |  Data descriptors defined here:\n",
      " |  \n",
      " |  start\n",
      " |  \n",
      " |  step\n",
      " |  \n",
      " |  stop\n",
      "\n"
     ]
    }
   ],
   "source": [
    "help(range)"
   ]
  },
  {
   "cell_type": "code",
   "execution_count": null,
   "id": "ced8b495",
   "metadata": {},
   "outputs": [],
   "source": []
  },
  {
   "cell_type": "code",
   "execution_count": 102,
   "id": "a9e937ca",
   "metadata": {},
   "outputs": [
    {
     "name": "stdout",
     "output_type": "stream",
     "text": [
      "0\n",
      "1\n",
      "2\n",
      "3\n",
      "4\n"
     ]
    }
   ],
   "source": [
    "for i in range(5):\n",
    "    print(i)"
   ]
  },
  {
   "cell_type": "code",
   "execution_count": 103,
   "id": "e7b47840",
   "metadata": {},
   "outputs": [
    {
     "data": {
      "text/plain": [
       "4"
      ]
     },
     "execution_count": 103,
     "metadata": {},
     "output_type": "execute_result"
    }
   ],
   "source": [
    "len(profits)"
   ]
  },
  {
   "cell_type": "code",
   "execution_count": 104,
   "id": "3e2cecb7",
   "metadata": {},
   "outputs": [
    {
     "data": {
      "text/plain": [
       "[10.5, 9.0, 11.5, 13.5]"
      ]
     },
     "execution_count": 104,
     "metadata": {},
     "output_type": "execute_result"
    }
   ],
   "source": [
    "profits"
   ]
  },
  {
   "cell_type": "code",
   "execution_count": 105,
   "id": "d21413b5",
   "metadata": {},
   "outputs": [
    {
     "name": "stdout",
     "output_type": "stream",
     "text": [
      "0\n",
      "1\n",
      "2\n",
      "3\n"
     ]
    }
   ],
   "source": [
    "for i in range(len(profits)):\n",
    "    print(i)"
   ]
  },
  {
   "cell_type": "code",
   "execution_count": 106,
   "id": "d8f59b67",
   "metadata": {},
   "outputs": [
    {
     "name": "stdout",
     "output_type": "stream",
     "text": [
      "10.5\n",
      "9.0\n",
      "11.5\n",
      "13.5\n"
     ]
    }
   ],
   "source": [
    "for i in range(len(profits)):\n",
    "    print(profits[i])"
   ]
  },
  {
   "cell_type": "code",
   "execution_count": 107,
   "id": "08dcc08d",
   "metadata": {},
   "outputs": [
    {
     "name": "stdout",
     "output_type": "stream",
     "text": [
      "10.5\n",
      "9.0\n",
      "11.5\n",
      "13.5\n"
     ]
    }
   ],
   "source": [
    "for p in profits:\n",
    "    print(p)"
   ]
  },
  {
   "cell_type": "code",
   "execution_count": 108,
   "id": "95c1134d",
   "metadata": {},
   "outputs": [
    {
     "data": {
      "text/plain": [
       "(10, -4, 'Hello', True, None, 'Python')"
      ]
     },
     "execution_count": 108,
     "metadata": {},
     "output_type": "execute_result"
    }
   ],
   "source": [
    "t1"
   ]
  },
  {
   "cell_type": "code",
   "execution_count": 110,
   "id": "1c07c1ea",
   "metadata": {},
   "outputs": [
    {
     "name": "stdout",
     "output_type": "stream",
     "text": [
      "0\n",
      "1\n",
      "2\n",
      "3\n",
      "4\n",
      "5\n"
     ]
    }
   ],
   "source": [
    "for i in range(len(t1)):\n",
    "    print(i)"
   ]
  },
  {
   "cell_type": "code",
   "execution_count": null,
   "id": "5a2609fa",
   "metadata": {},
   "outputs": [],
   "source": []
  },
  {
   "cell_type": "code",
   "execution_count": 111,
   "id": "af057ec8",
   "metadata": {},
   "outputs": [],
   "source": [
    "# in operator can be used with range()"
   ]
  },
  {
   "cell_type": "code",
   "execution_count": 112,
   "id": "f51e898d",
   "metadata": {},
   "outputs": [
    {
     "data": {
      "text/plain": [
       "True"
      ]
     },
     "execution_count": 112,
     "metadata": {},
     "output_type": "execute_result"
    }
   ],
   "source": [
    "15 in range(10, 20)"
   ]
  },
  {
   "cell_type": "code",
   "execution_count": 113,
   "id": "29d08436",
   "metadata": {},
   "outputs": [
    {
     "data": {
      "text/plain": [
       "False"
      ]
     },
     "execution_count": 113,
     "metadata": {},
     "output_type": "execute_result"
    }
   ],
   "source": [
    "15 in range(10, 20, 2)"
   ]
  },
  {
   "cell_type": "code",
   "execution_count": 114,
   "id": "996dbae0",
   "metadata": {},
   "outputs": [
    {
     "name": "stdout",
     "output_type": "stream",
     "text": [
      "5\n",
      "3\n",
      "1\n",
      "-1\n",
      "-3\n"
     ]
    }
   ],
   "source": [
    "for i in range(5, -5, -2):\n",
    "    print(i)"
   ]
  },
  {
   "cell_type": "code",
   "execution_count": 116,
   "id": "47cd3f47",
   "metadata": {},
   "outputs": [
    {
     "name": "stdout",
     "output_type": "stream",
     "text": [
      "0\n",
      "-1\n",
      "-2\n",
      "-3\n",
      "-4\n"
     ]
    }
   ],
   "source": [
    "for i in range(0, -5, -1):\n",
    "    print(i)"
   ]
  },
  {
   "cell_type": "code",
   "execution_count": 117,
   "id": "8b824888",
   "metadata": {},
   "outputs": [],
   "source": [
    "for i in range(-5):\n",
    "    print(i)"
   ]
  },
  {
   "cell_type": "code",
   "execution_count": 118,
   "id": "a3e16f38",
   "metadata": {},
   "outputs": [],
   "source": [
    "for i in range(100, -5):\n",
    "    print(i)"
   ]
  },
  {
   "cell_type": "code",
   "execution_count": null,
   "id": "767d4714",
   "metadata": {},
   "outputs": [],
   "source": []
  },
  {
   "cell_type": "code",
   "execution_count": 119,
   "id": "dddaaed4",
   "metadata": {},
   "outputs": [],
   "source": [
    "# break"
   ]
  },
  {
   "cell_type": "code",
   "execution_count": 120,
   "id": "685818de",
   "metadata": {},
   "outputs": [],
   "source": [
    "# it is a keyword which is used to exit/terminate the loop"
   ]
  },
  {
   "cell_type": "code",
   "execution_count": 121,
   "id": "bd3ca768",
   "metadata": {},
   "outputs": [
    {
     "name": "stdout",
     "output_type": "stream",
     "text": [
      "10\n",
      "11\n",
      "12\n",
      "13\n",
      "14\n",
      "15\n",
      "16\n",
      "17\n",
      "18\n",
      "19\n"
     ]
    }
   ],
   "source": [
    "for i in range(10, 20, 1):\n",
    "    print(i)"
   ]
  },
  {
   "cell_type": "code",
   "execution_count": 122,
   "id": "fce98693",
   "metadata": {},
   "outputs": [
    {
     "name": "stdout",
     "output_type": "stream",
     "text": [
      "10\n",
      "11\n",
      "12\n",
      "13\n",
      "14\n",
      "15\n"
     ]
    }
   ],
   "source": [
    "for i in range(10, 20, 1):\n",
    "    print(i)\n",
    "    if i == 15:\n",
    "        break"
   ]
  },
  {
   "cell_type": "code",
   "execution_count": null,
   "id": "df9498dc",
   "metadata": {},
   "outputs": [],
   "source": []
  }
 ],
 "metadata": {
  "kernelspec": {
   "display_name": "Python 3 (ipykernel)",
   "language": "python",
   "name": "python3"
  },
  "language_info": {
   "codemirror_mode": {
    "name": "ipython",
    "version": 3
   },
   "file_extension": ".py",
   "mimetype": "text/x-python",
   "name": "python",
   "nbconvert_exporter": "python",
   "pygments_lexer": "ipython3",
   "version": "3.11.4"
  }
 },
 "nbformat": 4,
 "nbformat_minor": 5
}
