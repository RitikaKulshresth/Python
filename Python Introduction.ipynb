{
 "cells": [
  {
   "cell_type": "markdown",
   "id": "c9e14fcb",
   "metadata": {},
   "source": [
    "### Operating System\n",
    "\n",
    "- an interface to interact with the application\n",
    "- Windows, MacOS, Linux, ANdroid, ...\n",
    "- manages the hardware resources (RAM, ROM, CPU, keyboard, screen, printer, ...)\n",
    "- and helps to run the application by providingv these resources"
   ]
  },
  {
   "cell_type": "code",
   "execution_count": null,
   "id": "24defeec",
   "metadata": {},
   "outputs": [],
   "source": []
  },
  {
   "cell_type": "markdown",
   "id": "26d0c6f1",
   "metadata": {},
   "source": [
    "### Programming language\n",
    "\n",
    "- language to communicate with the machines\n",
    "- set of instructions given to a machine/device to perform a specific task\n",
    "- A programming language has:\n",
    "    - Syntax: grammar of the programming language. set of rules writing the program/code\n",
    "    - Keywords: pre-defined reserved words having special meaning.\n",
    "- With a combination of Syntax and Keywords, we write meaningful programs.\n",
    "\n",
    "==============================================\n",
    "\n",
    "- Types of programming languages:\n",
    "    - High level language (HLL)\n",
    "        - close to how humans communicate\n",
    "        - easier compared to LLL\n",
    "        - Python, Java, C#, ...\n",
    "        - slower compared to LLL\n",
    "        \n",
    "    - Low level language (LLL)\n",
    "        - close to the machines\n",
    "        - difficult compared to HLL\n",
    "        - Assembly langauge (used in microcontrollers and microprocessors)\n",
    "        - faster than HLL"
   ]
  },
  {
   "cell_type": "code",
   "execution_count": null,
   "id": "255e7f81",
   "metadata": {},
   "outputs": [],
   "source": []
  },
  {
   "cell_type": "markdown",
   "id": "b250546c",
   "metadata": {},
   "source": [
    "#### Translator\n",
    "\n",
    "- used to convert the source code to machine understandable code\n",
    "    - source code: the code that we write\n",
    "    \n",
    "1. Compiler: translates the entire source code at once\n",
    "2. Interpreter: translates line by line (1 line at a time)"
   ]
  },
  {
   "cell_type": "code",
   "execution_count": null,
   "id": "4a5c5c8a",
   "metadata": {},
   "outputs": [],
   "source": []
  },
  {
   "cell_type": "markdown",
   "id": "7c62e72f",
   "metadata": {},
   "source": [
    "### Python and its features\n",
    "\n",
    "- HLL\n",
    "- Open source, free to use\n",
    "- Portable\n",
    "- Easy, simple\n",
    "- Interpreted?\n",
    "- a lot of libraries\n",
    "- Multi-purpose language\n",
    "- Case sensitive language\n",
    "- Slower than C++\n",
    "- Very strong and huge community\n",
    "- dynamically typed"
   ]
  },
  {
   "cell_type": "code",
   "execution_count": 1,
   "id": "b9dfa46b",
   "metadata": {},
   "outputs": [],
   "source": [
    "age = 50"
   ]
  },
  {
   "cell_type": "code",
   "execution_count": 2,
   "id": "ed042164",
   "metadata": {},
   "outputs": [
    {
     "name": "stdout",
     "output_type": "stream",
     "text": [
      "50\n"
     ]
    }
   ],
   "source": [
    "print(age)"
   ]
  },
  {
   "cell_type": "code",
   "execution_count": 3,
   "id": "b33525cb",
   "metadata": {},
   "outputs": [],
   "source": [
    "Age = 35"
   ]
  },
  {
   "cell_type": "code",
   "execution_count": 4,
   "id": "f43a5e31",
   "metadata": {},
   "outputs": [
    {
     "name": "stdout",
     "output_type": "stream",
     "text": [
      "35\n"
     ]
    }
   ],
   "source": [
    "print(Age)"
   ]
  },
  {
   "cell_type": "code",
   "execution_count": 5,
   "id": "2663a1b3",
   "metadata": {},
   "outputs": [
    {
     "name": "stdout",
     "output_type": "stream",
     "text": [
      "50\n"
     ]
    }
   ],
   "source": [
    "print(age)"
   ]
  },
  {
   "cell_type": "code",
   "execution_count": 6,
   "id": "4380e32f",
   "metadata": {},
   "outputs": [
    {
     "ename": "NameError",
     "evalue": "name 'Y' is not defined",
     "output_type": "error",
     "traceback": [
      "\u001b[1;31m---------------------------------------------------------------------------\u001b[0m",
      "\u001b[1;31mNameError\u001b[0m                                 Traceback (most recent call last)",
      "Cell \u001b[1;32mIn[6], line 2\u001b[0m\n\u001b[0;32m      1\u001b[0m y \u001b[38;5;241m=\u001b[39m \u001b[38;5;241m10\u001b[39m\n\u001b[1;32m----> 2\u001b[0m \u001b[38;5;28mprint\u001b[39m(Y)\n",
      "\u001b[1;31mNameError\u001b[0m: name 'Y' is not defined"
     ]
    }
   ],
   "source": [
    "y = 10\n",
    "print(Y)"
   ]
  },
  {
   "cell_type": "code",
   "execution_count": 7,
   "id": "62919701",
   "metadata": {},
   "outputs": [
    {
     "name": "stdout",
     "output_type": "stream",
     "text": [
      "50\n"
     ]
    }
   ],
   "source": [
    "print(age)"
   ]
  },
  {
   "cell_type": "code",
   "execution_count": 9,
   "id": "9776dce7",
   "metadata": {},
   "outputs": [],
   "source": [
    "X = 200"
   ]
  },
  {
   "cell_type": "code",
   "execution_count": 10,
   "id": "806ce79d",
   "metadata": {},
   "outputs": [
    {
     "name": "stdout",
     "output_type": "stream",
     "text": [
      "100\n"
     ]
    }
   ],
   "source": [
    "print(x)"
   ]
  },
  {
   "cell_type": "code",
   "execution_count": null,
   "id": "e8d9c369",
   "metadata": {},
   "outputs": [],
   "source": []
  },
  {
   "cell_type": "markdown",
   "id": "d9c16149",
   "metadata": {},
   "source": [
    "In statically typed language:\n",
    "\n",
    "int age = 40;"
   ]
  },
  {
   "cell_type": "code",
   "execution_count": 15,
   "id": "7fd8323d",
   "metadata": {},
   "outputs": [
    {
     "name": "stdout",
     "output_type": "stream",
     "text": [
      "80\n"
     ]
    }
   ],
   "source": [
    "num4 = 30\n",
    "num5 = 50\n",
    "print(num4 + num5)"
   ]
  },
  {
   "cell_type": "code",
   "execution_count": 12,
   "id": "b16da07b",
   "metadata": {},
   "outputs": [],
   "source": [
    "num5 = 60"
   ]
  },
  {
   "cell_type": "code",
   "execution_count": 13,
   "id": "6551c1ee",
   "metadata": {},
   "outputs": [],
   "source": [
    "num6 = 70"
   ]
  },
  {
   "cell_type": "code",
   "execution_count": 14,
   "id": "da757923",
   "metadata": {},
   "outputs": [
    {
     "data": {
      "text/plain": [
       "130"
      ]
     },
     "execution_count": 14,
     "metadata": {},
     "output_type": "execute_result"
    }
   ],
   "source": [
    "num5 + num6"
   ]
  },
  {
   "cell_type": "code",
   "execution_count": 16,
   "id": "38c0c157",
   "metadata": {},
   "outputs": [
    {
     "ename": "SyntaxError",
     "evalue": "invalid syntax (999405694.py, line 1)",
     "output_type": "error",
     "traceback": [
      "\u001b[1;36m  Cell \u001b[1;32mIn[16], line 1\u001b[1;36m\u001b[0m\n\u001b[1;33m    int a = 20\u001b[0m\n\u001b[1;37m        ^\u001b[0m\n\u001b[1;31mSyntaxError\u001b[0m\u001b[1;31m:\u001b[0m invalid syntax\n"
     ]
    }
   ],
   "source": [
    "int a = 20"
   ]
  },
  {
   "cell_type": "markdown",
   "id": "842205ff",
   "metadata": {},
   "source": [
    "### Internal working of Python\n",
    "\n",
    "Source code(.py) --Compiles--> Byte code(.pyc) --Interpreter (PVM)--> Machine understable code --Executed --> o/p\n",
    "\n",
    "- Byte code -> Intermediate code (.pyc)\n",
    "- Byte code (.pyc) is the compiled version of Source code (.py)\n",
    "- When there is an error during compilation, Byte code wiill not be generated\n",
    "\n",
    "- PVM - Python Virtual Machine\n",
    "\n",
    "- During compilation time, syntax and indentation are checked\n",
    "- During interpretation, the code execution. ALso, the datatype check and memory management are done during the interpreter stage.\n",
    "\n",
    "- A language is said to be complied or interpreted, depending on where the type checking and the memory management happens.\n",
    "\n",
    "- In Python, type checking and the memory management happens by the interpreter. Hence, Python is called as an Interpreted language\n"
   ]
  },
  {
   "cell_type": "code",
   "execution_count": null,
   "id": "2e2c6787",
   "metadata": {},
   "outputs": [],
   "source": []
  }
 ],
 "metadata": {
  "kernelspec": {
   "display_name": "Python 3 (ipykernel)",
   "language": "python",
   "name": "python3"
  },
  "language_info": {
   "codemirror_mode": {
    "name": "ipython",
    "version": 3
   },
   "file_extension": ".py",
   "mimetype": "text/x-python",
   "name": "python",
   "nbconvert_exporter": "python",
   "pygments_lexer": "ipython3",
   "version": "3.11.4"
  }
 },
 "nbformat": 4,
 "nbformat_minor": 5
}
