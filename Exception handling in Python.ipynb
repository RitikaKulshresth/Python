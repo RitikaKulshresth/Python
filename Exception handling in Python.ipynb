{
 "cells": [
  {
   "cell_type": "code",
   "execution_count": 1,
   "id": "182282b3",
   "metadata": {},
   "outputs": [],
   "source": [
    "# Exception???\n",
    "# Runtime errors"
   ]
  },
  {
   "cell_type": "code",
   "execution_count": 2,
   "id": "ade889c5",
   "metadata": {},
   "outputs": [],
   "source": [
    "l1 = [1,2,3,4,5]"
   ]
  },
  {
   "cell_type": "code",
   "execution_count": 3,
   "id": "98091236",
   "metadata": {},
   "outputs": [
    {
     "ename": "IndexError",
     "evalue": "list index out of range",
     "output_type": "error",
     "traceback": [
      "\u001b[1;31m---------------------------------------------------------------------------\u001b[0m",
      "\u001b[1;31mIndexError\u001b[0m                                Traceback (most recent call last)",
      "Cell \u001b[1;32mIn[3], line 1\u001b[0m\n\u001b[1;32m----> 1\u001b[0m l1[\u001b[38;5;241m10\u001b[39m]\n",
      "\u001b[1;31mIndexError\u001b[0m: list index out of range"
     ]
    }
   ],
   "source": [
    "l1[10]"
   ]
  },
  {
   "cell_type": "code",
   "execution_count": 4,
   "id": "33ed5629",
   "metadata": {},
   "outputs": [
    {
     "ename": "ZeroDivisionError",
     "evalue": "division by zero",
     "output_type": "error",
     "traceback": [
      "\u001b[1;31m---------------------------------------------------------------------------\u001b[0m",
      "\u001b[1;31mZeroDivisionError\u001b[0m                         Traceback (most recent call last)",
      "Cell \u001b[1;32mIn[4], line 1\u001b[0m\n\u001b[1;32m----> 1\u001b[0m \u001b[38;5;241m10\u001b[39m \u001b[38;5;241m/\u001b[39m \u001b[38;5;241m0\u001b[39m\n",
      "\u001b[1;31mZeroDivisionError\u001b[0m: division by zero"
     ]
    }
   ],
   "source": [
    "10 / 0"
   ]
  },
  {
   "cell_type": "code",
   "execution_count": null,
   "id": "9e794349",
   "metadata": {},
   "outputs": [],
   "source": []
  },
  {
   "cell_type": "code",
   "execution_count": 5,
   "id": "9f818342",
   "metadata": {},
   "outputs": [
    {
     "name": "stdout",
     "output_type": "stream",
     "text": [
      "Enter a number: 10\n",
      "Enter another number: 2\n",
      "5.0\n"
     ]
    }
   ],
   "source": [
    "num1 = int(input(\"Enter a number: \"))\n",
    "num2 = int(input(\"Enter another number: \"))\n",
    "result = num1 / num2\n",
    "print(result)"
   ]
  },
  {
   "cell_type": "code",
   "execution_count": 6,
   "id": "16a9c0d2",
   "metadata": {},
   "outputs": [
    {
     "name": "stdout",
     "output_type": "stream",
     "text": [
      "Enter a number: 10\n",
      "Enter another number: 0\n"
     ]
    },
    {
     "ename": "ZeroDivisionError",
     "evalue": "division by zero",
     "output_type": "error",
     "traceback": [
      "\u001b[1;31m---------------------------------------------------------------------------\u001b[0m",
      "\u001b[1;31mZeroDivisionError\u001b[0m                         Traceback (most recent call last)",
      "Cell \u001b[1;32mIn[6], line 3\u001b[0m\n\u001b[0;32m      1\u001b[0m num1 \u001b[38;5;241m=\u001b[39m \u001b[38;5;28mint\u001b[39m(\u001b[38;5;28minput\u001b[39m(\u001b[38;5;124m\"\u001b[39m\u001b[38;5;124mEnter a number: \u001b[39m\u001b[38;5;124m\"\u001b[39m))\n\u001b[0;32m      2\u001b[0m num2 \u001b[38;5;241m=\u001b[39m \u001b[38;5;28mint\u001b[39m(\u001b[38;5;28minput\u001b[39m(\u001b[38;5;124m\"\u001b[39m\u001b[38;5;124mEnter another number: \u001b[39m\u001b[38;5;124m\"\u001b[39m))\n\u001b[1;32m----> 3\u001b[0m result \u001b[38;5;241m=\u001b[39m num1 \u001b[38;5;241m/\u001b[39m num2\n\u001b[0;32m      4\u001b[0m \u001b[38;5;28mprint\u001b[39m(result)\n",
      "\u001b[1;31mZeroDivisionError\u001b[0m: division by zero"
     ]
    }
   ],
   "source": [
    "num1 = int(input(\"Enter a number: \"))\n",
    "num2 = int(input(\"Enter another number: \"))\n",
    "result = num1 / num2\n",
    "print(result)"
   ]
  },
  {
   "cell_type": "code",
   "execution_count": null,
   "id": "f77693ef",
   "metadata": {},
   "outputs": [],
   "source": []
  },
  {
   "cell_type": "code",
   "execution_count": 7,
   "id": "56ff0f64",
   "metadata": {},
   "outputs": [],
   "source": [
    "# Exception handling\n",
    "# handling the runtime errors"
   ]
  },
  {
   "cell_type": "code",
   "execution_count": 8,
   "id": "c7c270bb",
   "metadata": {},
   "outputs": [],
   "source": [
    "# try-except block"
   ]
  },
  {
   "cell_type": "code",
   "execution_count": 9,
   "id": "4f0309d6",
   "metadata": {},
   "outputs": [],
   "source": [
    "# try:\n",
    "#     statement1\n",
    "#     statement2\n",
    "#     ...\n",
    "#     statementN\n",
    "# except ErrorName:\n",
    "#     statement1\n",
    "#     statement2\n",
    "#     ...\n",
    "#     statementM"
   ]
  },
  {
   "cell_type": "code",
   "execution_count": 10,
   "id": "56e4f155",
   "metadata": {},
   "outputs": [
    {
     "name": "stdout",
     "output_type": "stream",
     "text": [
      "Enter a number: 10\n",
      "Enter another number: 0\n",
      "Denominator cannot be 0!!\n"
     ]
    }
   ],
   "source": [
    "try:\n",
    "    num1 = int(input(\"Enter a number: \"))\n",
    "    num2 = int(input(\"Enter another number: \"))\n",
    "    result = num1 / num2\n",
    "    print(result)\n",
    "except ZeroDivisionError:\n",
    "    print(\"Denominator cannot be 0!!\")"
   ]
  },
  {
   "cell_type": "code",
   "execution_count": 11,
   "id": "ba66530c",
   "metadata": {},
   "outputs": [
    {
     "name": "stdout",
     "output_type": "stream",
     "text": [
      "Enter a number: 10\n",
      "Enter another number: h\n"
     ]
    },
    {
     "ename": "ValueError",
     "evalue": "invalid literal for int() with base 10: 'h'",
     "output_type": "error",
     "traceback": [
      "\u001b[1;31m---------------------------------------------------------------------------\u001b[0m",
      "\u001b[1;31mValueError\u001b[0m                                Traceback (most recent call last)",
      "Cell \u001b[1;32mIn[11], line 3\u001b[0m\n\u001b[0;32m      1\u001b[0m \u001b[38;5;28;01mtry\u001b[39;00m:\n\u001b[0;32m      2\u001b[0m     num1 \u001b[38;5;241m=\u001b[39m \u001b[38;5;28mint\u001b[39m(\u001b[38;5;28minput\u001b[39m(\u001b[38;5;124m\"\u001b[39m\u001b[38;5;124mEnter a number: \u001b[39m\u001b[38;5;124m\"\u001b[39m))\n\u001b[1;32m----> 3\u001b[0m     num2 \u001b[38;5;241m=\u001b[39m \u001b[38;5;28mint\u001b[39m(\u001b[38;5;28minput\u001b[39m(\u001b[38;5;124m\"\u001b[39m\u001b[38;5;124mEnter another number: \u001b[39m\u001b[38;5;124m\"\u001b[39m))\n\u001b[0;32m      4\u001b[0m     result \u001b[38;5;241m=\u001b[39m num1 \u001b[38;5;241m/\u001b[39m num2\n\u001b[0;32m      5\u001b[0m     \u001b[38;5;28mprint\u001b[39m(result)\n",
      "\u001b[1;31mValueError\u001b[0m: invalid literal for int() with base 10: 'h'"
     ]
    }
   ],
   "source": [
    "try:\n",
    "    num1 = int(input(\"Enter a number: \"))\n",
    "    num2 = int(input(\"Enter another number: \"))\n",
    "    result = num1 / num2\n",
    "    print(result)\n",
    "except ZeroDivisionError:\n",
    "    print(\"Denominator cannot be 0!!\")"
   ]
  },
  {
   "cell_type": "code",
   "execution_count": 12,
   "id": "4d1b0339",
   "metadata": {},
   "outputs": [
    {
     "name": "stdout",
     "output_type": "stream",
     "text": [
      "Enter a number: 10\n",
      "Enter another number: i\n",
      "Please enter whole numbers only!!!\n"
     ]
    }
   ],
   "source": [
    "try:\n",
    "    num1 = int(input(\"Enter a number: \"))\n",
    "    num2 = int(input(\"Enter another number: \"))\n",
    "    result = num1 / num2\n",
    "    print(result)\n",
    "except ZeroDivisionError:\n",
    "    print(\"Denominator cannot be 0!!\")\n",
    "except ValueError:\n",
    "    print(\"Please enter whole numbers only!!!\")"
   ]
  },
  {
   "cell_type": "code",
   "execution_count": 13,
   "id": "4e04d859",
   "metadata": {},
   "outputs": [],
   "source": [
    "# Exception is the parent error of all the runtime errors"
   ]
  },
  {
   "cell_type": "code",
   "execution_count": 14,
   "id": "f97456af",
   "metadata": {},
   "outputs": [
    {
     "name": "stdout",
     "output_type": "stream",
     "text": [
      "Enter a number: 10\n",
      "Enter another number: 0\n",
      "Some error occured\n"
     ]
    }
   ],
   "source": [
    "try:\n",
    "    num1 = int(input(\"Enter a number: \"))\n",
    "    num2 = int(input(\"Enter another number: \"))\n",
    "    result = num1 / num2\n",
    "    print(result)\n",
    "except Exception:\n",
    "    print(\"Some error occured\")"
   ]
  },
  {
   "cell_type": "code",
   "execution_count": 15,
   "id": "5e4b8c51",
   "metadata": {},
   "outputs": [
    {
     "name": "stdout",
     "output_type": "stream",
     "text": [
      "Enter a number: 10\n",
      "Enter another number: k\n",
      "Some error occured\n"
     ]
    }
   ],
   "source": [
    "try:\n",
    "    num1 = int(input(\"Enter a number: \"))\n",
    "    num2 = int(input(\"Enter another number: \"))\n",
    "    result = num1 / num2\n",
    "    print(result)\n",
    "except Exception:\n",
    "    print(\"Some error occured\")"
   ]
  },
  {
   "cell_type": "code",
   "execution_count": 16,
   "id": "25063be9",
   "metadata": {},
   "outputs": [
    {
     "name": "stdout",
     "output_type": "stream",
     "text": [
      "Enter a number: 10\n",
      "Enter another number: 5\n",
      "2.0\n"
     ]
    }
   ],
   "source": [
    "try:\n",
    "    num1 = int(input(\"Enter a number: \"))\n",
    "    num2 = int(input(\"Enter another number: \"))\n",
    "    result = num1 / num2\n",
    "    print(result)\n",
    "except ZeroDivisionError:\n",
    "    print(\"Denominator cannot be 0!!\")\n",
    "except ValueError:\n",
    "    print(\"Please enter whole numbers only!!!\")"
   ]
  },
  {
   "cell_type": "code",
   "execution_count": 17,
   "id": "60ce5f95",
   "metadata": {},
   "outputs": [
    {
     "name": "stdout",
     "output_type": "stream",
     "text": [
      "Enter a number: 10\n",
      "Enter another number: 0\n",
      "Denominator cannot be 0!!\n"
     ]
    }
   ],
   "source": [
    "try:\n",
    "    num1 = int(input(\"Enter a number: \"))\n",
    "    num2 = int(input(\"Enter another number: \"))\n",
    "    result = num1 / num2\n",
    "    print(result)\n",
    "except ZeroDivisionError:\n",
    "    print(\"Denominator cannot be 0!!\")\n",
    "except ValueError:\n",
    "    print(\"Please enter whole numbers only!!!\")\n",
    "except Exception:\n",
    "    print(\"Some error occured!!\")"
   ]
  },
  {
   "cell_type": "code",
   "execution_count": 18,
   "id": "2978c454",
   "metadata": {},
   "outputs": [
    {
     "name": "stdout",
     "output_type": "stream",
     "text": [
      "Enter a number: 10\n",
      "Enter another number: 0\n",
      "Some error occured!!\n"
     ]
    }
   ],
   "source": [
    "try:\n",
    "    num1 = int(input(\"Enter a number: \"))\n",
    "    num2 = int(input(\"Enter another number: \"))\n",
    "    result = num1 / num2\n",
    "    print(result)\n",
    "except Exception:\n",
    "    print(\"Some error occured!!\")\n",
    "except ZeroDivisionError:\n",
    "    print(\"Denominator cannot be 0!!\")\n",
    "except ValueError:\n",
    "    print(\"Please enter whole numbers only!!!\")\n"
   ]
  },
  {
   "cell_type": "code",
   "execution_count": 19,
   "id": "2a9df218",
   "metadata": {},
   "outputs": [
    {
     "name": "stdout",
     "output_type": "stream",
     "text": [
      "Enter a number: 10\n",
      "Enter another number: 0\n",
      "Some error occured\n"
     ]
    }
   ],
   "source": [
    "try:\n",
    "    num1 = int(input(\"Enter a number: \"))\n",
    "    num2 = int(input(\"Enter another number: \"))\n",
    "    result = num1 / num2\n",
    "    print(result)\n",
    "except Exception:\n",
    "    print(\"Some error occured\")"
   ]
  },
  {
   "cell_type": "code",
   "execution_count": 20,
   "id": "3e23a443",
   "metadata": {},
   "outputs": [],
   "source": [
    "# How to know which error happened"
   ]
  },
  {
   "cell_type": "code",
   "execution_count": 21,
   "id": "a42358ec",
   "metadata": {},
   "outputs": [
    {
     "name": "stdout",
     "output_type": "stream",
     "text": [
      "Enter a number: 10\n",
      "Enter another number: 0\n",
      "Some error occured\n",
      "division by zero\n"
     ]
    }
   ],
   "source": [
    "try:\n",
    "    num1 = int(input(\"Enter a number: \"))\n",
    "    num2 = int(input(\"Enter another number: \"))\n",
    "    result = num1 / num2\n",
    "    print(result)\n",
    "except Exception as var:\n",
    "    print(\"Some error occured\")\n",
    "    print(var)"
   ]
  },
  {
   "cell_type": "code",
   "execution_count": 22,
   "id": "a545158c",
   "metadata": {},
   "outputs": [
    {
     "ename": "ZeroDivisionError",
     "evalue": "division by zero",
     "output_type": "error",
     "traceback": [
      "\u001b[1;31m---------------------------------------------------------------------------\u001b[0m",
      "\u001b[1;31mZeroDivisionError\u001b[0m                         Traceback (most recent call last)",
      "Cell \u001b[1;32mIn[22], line 1\u001b[0m\n\u001b[1;32m----> 1\u001b[0m \u001b[38;5;241m10\u001b[39m \u001b[38;5;241m/\u001b[39m \u001b[38;5;241m0\u001b[39m\n",
      "\u001b[1;31mZeroDivisionError\u001b[0m: division by zero"
     ]
    }
   ],
   "source": [
    "10 / 0"
   ]
  },
  {
   "cell_type": "code",
   "execution_count": 23,
   "id": "07e75989",
   "metadata": {},
   "outputs": [
    {
     "name": "stdout",
     "output_type": "stream",
     "text": [
      "Enter a number: 10\n",
      "Enter another number: 0\n",
      "Some error occured\n",
      "division by zero\n",
      "<class 'ZeroDivisionError'>\n"
     ]
    }
   ],
   "source": [
    "try:\n",
    "    num1 = int(input(\"Enter a number: \"))\n",
    "    num2 = int(input(\"Enter another number: \"))\n",
    "    result = num1 / num2\n",
    "    print(result)\n",
    "except Exception as var:\n",
    "    print(\"Some error occured\")\n",
    "    print(var)\n",
    "    print(type(var))"
   ]
  },
  {
   "cell_type": "code",
   "execution_count": 24,
   "id": "37d0248a",
   "metadata": {},
   "outputs": [
    {
     "name": "stdout",
     "output_type": "stream",
     "text": [
      "Enter a number: 10\n",
      "Enter another number: o\n",
      "Some error occured\n",
      "invalid literal for int() with base 10: 'o'\n",
      "<class 'ValueError'>\n"
     ]
    }
   ],
   "source": [
    "try:\n",
    "    num1 = int(input(\"Enter a number: \"))\n",
    "    num2 = int(input(\"Enter another number: \"))\n",
    "    result = num1 / num2\n",
    "    print(result)\n",
    "except Exception as var:\n",
    "    print(\"Some error occured\")\n",
    "    print(var)\n",
    "    print(type(var))"
   ]
  },
  {
   "cell_type": "code",
   "execution_count": null,
   "id": "31765e20",
   "metadata": {},
   "outputs": [],
   "source": []
  },
  {
   "cell_type": "code",
   "execution_count": 25,
   "id": "a9a3f395",
   "metadata": {},
   "outputs": [],
   "source": [
    "# else and finally blocks - optional"
   ]
  },
  {
   "cell_type": "code",
   "execution_count": 26,
   "id": "0b38b9b4",
   "metadata": {},
   "outputs": [
    {
     "name": "stdout",
     "output_type": "stream",
     "text": [
      "Enter a number: 10\n",
      "Enter another number: 5\n",
      "2.0\n",
      "else block gets executed when there is no error\n",
      "finally gets executed always\n"
     ]
    }
   ],
   "source": [
    "try:\n",
    "    num1 = int(input(\"Enter a number: \"))\n",
    "    num2 = int(input(\"Enter another number: \"))\n",
    "    result = num1 / num2\n",
    "    print(result)\n",
    "except ZeroDivisionError:\n",
    "    print(\"Denominator cannot be 0!!\")\n",
    "except ValueError:\n",
    "    print(\"Please enter whole numbers only!!!\")\n",
    "except Exception:\n",
    "    print(\"Some error occured!!\")\n",
    "else:\n",
    "    print(\"else block gets executed when there is no error\")\n",
    "finally:\n",
    "    print(\"finally gets executed always\")"
   ]
  },
  {
   "cell_type": "code",
   "execution_count": 27,
   "id": "18fe96ca",
   "metadata": {},
   "outputs": [
    {
     "name": "stdout",
     "output_type": "stream",
     "text": [
      "Enter a number: 10\n",
      "Enter another number: 0\n",
      "Denominator cannot be 0!!\n",
      "finally gets executed always\n"
     ]
    }
   ],
   "source": [
    "try:\n",
    "    num1 = int(input(\"Enter a number: \"))\n",
    "    num2 = int(input(\"Enter another number: \"))\n",
    "    result = num1 / num2\n",
    "    print(result)\n",
    "except ZeroDivisionError:\n",
    "    print(\"Denominator cannot be 0!!\")\n",
    "except ValueError:\n",
    "    print(\"Please enter whole numbers only!!!\")\n",
    "except Exception:\n",
    "    print(\"Some error occured!!\")\n",
    "else:\n",
    "    print(\"else block gets executed when there is no error\")\n",
    "finally:\n",
    "    print(\"finally gets executed always\")"
   ]
  },
  {
   "cell_type": "code",
   "execution_count": 28,
   "id": "509fbe15",
   "metadata": {},
   "outputs": [
    {
     "name": "stdout",
     "output_type": "stream",
     "text": [
      "Enter a number: 10\n",
      "Enter another number: 9\n",
      "1.1111111111111112\n",
      "else block gets executed when there is no error\n"
     ]
    }
   ],
   "source": [
    "try:\n",
    "    num1 = int(input(\"Enter a number: \"))\n",
    "    num2 = int(input(\"Enter another number: \"))\n",
    "    result = num1 / num2\n",
    "    print(result)\n",
    "except ZeroDivisionError:\n",
    "    print(\"Denominator cannot be 0!!\")\n",
    "except ValueError:\n",
    "    print(\"Please enter whole numbers only!!!\")\n",
    "except Exception:\n",
    "    print(\"Some error occured!!\")\n",
    "else:\n",
    "    print(\"else block gets executed when there is no error\")"
   ]
  },
  {
   "cell_type": "code",
   "execution_count": null,
   "id": "bcfda12d",
   "metadata": {},
   "outputs": [],
   "source": []
  },
  {
   "cell_type": "code",
   "execution_count": 29,
   "id": "e313d733",
   "metadata": {},
   "outputs": [],
   "source": [
    "# User-defined exceptions"
   ]
  },
  {
   "cell_type": "code",
   "execution_count": 30,
   "id": "eb8803a6",
   "metadata": {},
   "outputs": [],
   "source": [
    "def check_salary(salary):\n",
    "    if salary < 5000:\n",
    "        print(\"Less salary\")"
   ]
  },
  {
   "cell_type": "code",
   "execution_count": 31,
   "id": "3be1f268",
   "metadata": {},
   "outputs": [],
   "source": [
    "check_salary(10000)"
   ]
  },
  {
   "cell_type": "code",
   "execution_count": 32,
   "id": "c2836de9",
   "metadata": {},
   "outputs": [
    {
     "name": "stdout",
     "output_type": "stream",
     "text": [
      "Less salary\n"
     ]
    }
   ],
   "source": [
    "check_salary(4000)"
   ]
  },
  {
   "cell_type": "code",
   "execution_count": 33,
   "id": "44778880",
   "metadata": {},
   "outputs": [
    {
     "name": "stdout",
     "output_type": "stream",
     "text": [
      "Salary deposited!!\n"
     ]
    }
   ],
   "source": [
    "check_salary(10000)\n",
    "\n",
    "print(\"Salary deposited!!\")"
   ]
  },
  {
   "cell_type": "code",
   "execution_count": 34,
   "id": "d75a9bdb",
   "metadata": {},
   "outputs": [
    {
     "name": "stdout",
     "output_type": "stream",
     "text": [
      "Less salary\n",
      "Salary deposited!!\n"
     ]
    }
   ],
   "source": [
    "check_salary(4000)\n",
    "\n",
    "print(\"Salary deposited!!\")"
   ]
  },
  {
   "cell_type": "code",
   "execution_count": 35,
   "id": "7faa40fe",
   "metadata": {},
   "outputs": [],
   "source": [
    "def check_salary(salary):\n",
    "    if salary < 5000:\n",
    "        raise Exception"
   ]
  },
  {
   "cell_type": "code",
   "execution_count": 36,
   "id": "07ea79a8",
   "metadata": {},
   "outputs": [
    {
     "ename": "Exception",
     "evalue": "",
     "output_type": "error",
     "traceback": [
      "\u001b[1;31m---------------------------------------------------------------------------\u001b[0m",
      "\u001b[1;31mException\u001b[0m                                 Traceback (most recent call last)",
      "Cell \u001b[1;32mIn[36], line 1\u001b[0m\n\u001b[1;32m----> 1\u001b[0m check_salary(\u001b[38;5;241m4000\u001b[39m)\n\u001b[0;32m      3\u001b[0m \u001b[38;5;28mprint\u001b[39m(\u001b[38;5;124m\"\u001b[39m\u001b[38;5;124mSalary deposited!!\u001b[39m\u001b[38;5;124m\"\u001b[39m)\n",
      "Cell \u001b[1;32mIn[35], line 3\u001b[0m, in \u001b[0;36mcheck_salary\u001b[1;34m(salary)\u001b[0m\n\u001b[0;32m      1\u001b[0m \u001b[38;5;28;01mdef\u001b[39;00m \u001b[38;5;21mcheck_salary\u001b[39m(salary):\n\u001b[0;32m      2\u001b[0m     \u001b[38;5;28;01mif\u001b[39;00m salary \u001b[38;5;241m<\u001b[39m \u001b[38;5;241m5000\u001b[39m:\n\u001b[1;32m----> 3\u001b[0m         \u001b[38;5;28;01mraise\u001b[39;00m \u001b[38;5;167;01mException\u001b[39;00m\n",
      "\u001b[1;31mException\u001b[0m: "
     ]
    }
   ],
   "source": [
    "check_salary(4000)\n",
    "\n",
    "print(\"Salary deposited!!\")"
   ]
  },
  {
   "cell_type": "code",
   "execution_count": 37,
   "id": "c7ec28ff",
   "metadata": {},
   "outputs": [],
   "source": [
    "def check_salary(salary):\n",
    "    if salary < 5000:\n",
    "        raise Exception(\"Less salary\")"
   ]
  },
  {
   "cell_type": "code",
   "execution_count": 38,
   "id": "9b86476e",
   "metadata": {},
   "outputs": [
    {
     "ename": "Exception",
     "evalue": "Less salary",
     "output_type": "error",
     "traceback": [
      "\u001b[1;31m---------------------------------------------------------------------------\u001b[0m",
      "\u001b[1;31mException\u001b[0m                                 Traceback (most recent call last)",
      "Cell \u001b[1;32mIn[38], line 1\u001b[0m\n\u001b[1;32m----> 1\u001b[0m check_salary(\u001b[38;5;241m4000\u001b[39m)\n\u001b[0;32m      3\u001b[0m \u001b[38;5;28mprint\u001b[39m(\u001b[38;5;124m\"\u001b[39m\u001b[38;5;124mSalary deposited!!\u001b[39m\u001b[38;5;124m\"\u001b[39m)\n",
      "Cell \u001b[1;32mIn[37], line 3\u001b[0m, in \u001b[0;36mcheck_salary\u001b[1;34m(salary)\u001b[0m\n\u001b[0;32m      1\u001b[0m \u001b[38;5;28;01mdef\u001b[39;00m \u001b[38;5;21mcheck_salary\u001b[39m(salary):\n\u001b[0;32m      2\u001b[0m     \u001b[38;5;28;01mif\u001b[39;00m salary \u001b[38;5;241m<\u001b[39m \u001b[38;5;241m5000\u001b[39m:\n\u001b[1;32m----> 3\u001b[0m         \u001b[38;5;28;01mraise\u001b[39;00m \u001b[38;5;167;01mException\u001b[39;00m(\u001b[38;5;124m\"\u001b[39m\u001b[38;5;124mLess salary\u001b[39m\u001b[38;5;124m\"\u001b[39m)\n",
      "\u001b[1;31mException\u001b[0m: Less salary"
     ]
    }
   ],
   "source": [
    "check_salary(4000)\n",
    "\n",
    "print(\"Salary deposited!!\")"
   ]
  },
  {
   "cell_type": "code",
   "execution_count": 39,
   "id": "ae523fce",
   "metadata": {},
   "outputs": [],
   "source": [
    "# How to create an exception?"
   ]
  },
  {
   "cell_type": "code",
   "execution_count": 40,
   "id": "b046b6a9",
   "metadata": {},
   "outputs": [
    {
     "name": "stdout",
     "output_type": "stream",
     "text": [
      "Help on class ValueError in module builtins:\n",
      "\n",
      "class ValueError(Exception)\n",
      " |  Inappropriate argument value (of correct type).\n",
      " |  \n",
      " |  Method resolution order:\n",
      " |      ValueError\n",
      " |      Exception\n",
      " |      BaseException\n",
      " |      object\n",
      " |  \n",
      " |  Built-in subclasses:\n",
      " |      UnicodeError\n",
      " |  \n",
      " |  Methods defined here:\n",
      " |  \n",
      " |  __init__(self, /, *args, **kwargs)\n",
      " |      Initialize self.  See help(type(self)) for accurate signature.\n",
      " |  \n",
      " |  ----------------------------------------------------------------------\n",
      " |  Static methods defined here:\n",
      " |  \n",
      " |  __new__(*args, **kwargs) from builtins.type\n",
      " |      Create and return a new object.  See help(type) for accurate signature.\n",
      " |  \n",
      " |  ----------------------------------------------------------------------\n",
      " |  Methods inherited from BaseException:\n",
      " |  \n",
      " |  __delattr__(self, name, /)\n",
      " |      Implement delattr(self, name).\n",
      " |  \n",
      " |  __getattribute__(self, name, /)\n",
      " |      Return getattr(self, name).\n",
      " |  \n",
      " |  __reduce__(...)\n",
      " |      Helper for pickle.\n",
      " |  \n",
      " |  __repr__(self, /)\n",
      " |      Return repr(self).\n",
      " |  \n",
      " |  __setattr__(self, name, value, /)\n",
      " |      Implement setattr(self, name, value).\n",
      " |  \n",
      " |  __setstate__(...)\n",
      " |  \n",
      " |  __str__(self, /)\n",
      " |      Return str(self).\n",
      " |  \n",
      " |  add_note(...)\n",
      " |      Exception.add_note(note) --\n",
      " |      add a note to the exception\n",
      " |  \n",
      " |  with_traceback(...)\n",
      " |      Exception.with_traceback(tb) --\n",
      " |      set self.__traceback__ to tb and return self.\n",
      " |  \n",
      " |  ----------------------------------------------------------------------\n",
      " |  Data descriptors inherited from BaseException:\n",
      " |  \n",
      " |  __cause__\n",
      " |      exception cause\n",
      " |  \n",
      " |  __context__\n",
      " |      exception context\n",
      " |  \n",
      " |  __dict__\n",
      " |  \n",
      " |  __suppress_context__\n",
      " |  \n",
      " |  __traceback__\n",
      " |  \n",
      " |  args\n",
      "\n"
     ]
    }
   ],
   "source": [
    "help(ValueError)"
   ]
  },
  {
   "cell_type": "code",
   "execution_count": 41,
   "id": "a927d52b",
   "metadata": {},
   "outputs": [
    {
     "ename": "SyntaxError",
     "evalue": "incomplete input (2486346111.py, line 1)",
     "output_type": "error",
     "traceback": [
      "\u001b[1;36m  Cell \u001b[1;32mIn[41], line 1\u001b[1;36m\u001b[0m\n\u001b[1;33m    class SalaryError(Exception):\u001b[0m\n\u001b[1;37m                                 ^\u001b[0m\n\u001b[1;31mSyntaxError\u001b[0m\u001b[1;31m:\u001b[0m incomplete input\n"
     ]
    }
   ],
   "source": [
    "class SalaryError(Exception):"
   ]
  },
  {
   "cell_type": "code",
   "execution_count": 42,
   "id": "c70fe6b9",
   "metadata": {},
   "outputs": [],
   "source": [
    "class SalaryError(Exception):\n",
    "    pass"
   ]
  },
  {
   "cell_type": "code",
   "execution_count": 43,
   "id": "cdea0fa4",
   "metadata": {},
   "outputs": [
    {
     "ename": "SalaryError",
     "evalue": "Low salary",
     "output_type": "error",
     "traceback": [
      "\u001b[1;31m---------------------------------------------------------------------------\u001b[0m",
      "\u001b[1;31mSalaryError\u001b[0m                               Traceback (most recent call last)",
      "Cell \u001b[1;32mIn[43], line 1\u001b[0m\n\u001b[1;32m----> 1\u001b[0m \u001b[38;5;28;01mraise\u001b[39;00m SalaryError(\u001b[38;5;124m\"\u001b[39m\u001b[38;5;124mLow salary\u001b[39m\u001b[38;5;124m\"\u001b[39m)\n",
      "\u001b[1;31mSalaryError\u001b[0m: Low salary"
     ]
    }
   ],
   "source": [
    "raise SalaryError(\"Low salary\")"
   ]
  },
  {
   "cell_type": "code",
   "execution_count": 44,
   "id": "c276f98c",
   "metadata": {},
   "outputs": [
    {
     "ename": "SalaryError",
     "evalue": "My message",
     "output_type": "error",
     "traceback": [
      "\u001b[1;31m---------------------------------------------------------------------------\u001b[0m",
      "\u001b[1;31mSalaryError\u001b[0m                               Traceback (most recent call last)",
      "Cell \u001b[1;32mIn[44], line 1\u001b[0m\n\u001b[1;32m----> 1\u001b[0m \u001b[38;5;28;01mraise\u001b[39;00m SalaryError(\u001b[38;5;124m\"\u001b[39m\u001b[38;5;124mMy message\u001b[39m\u001b[38;5;124m\"\u001b[39m)\n",
      "\u001b[1;31mSalaryError\u001b[0m: My message"
     ]
    }
   ],
   "source": [
    "raise SalaryError(\"My message\")"
   ]
  },
  {
   "cell_type": "code",
   "execution_count": null,
   "id": "4e3d0cf4",
   "metadata": {},
   "outputs": [],
   "source": []
  },
  {
   "cell_type": "code",
   "execution_count": 45,
   "id": "9bbc796e",
   "metadata": {},
   "outputs": [],
   "source": [
    "def check_salary(salary):\n",
    "    if salary < 5000:\n",
    "        raise SalaryError(\"Less salary\")"
   ]
  },
  {
   "cell_type": "code",
   "execution_count": 46,
   "id": "5c3577a9",
   "metadata": {},
   "outputs": [
    {
     "ename": "SalaryError",
     "evalue": "Less salary",
     "output_type": "error",
     "traceback": [
      "\u001b[1;31m---------------------------------------------------------------------------\u001b[0m",
      "\u001b[1;31mSalaryError\u001b[0m                               Traceback (most recent call last)",
      "Cell \u001b[1;32mIn[46], line 1\u001b[0m\n\u001b[1;32m----> 1\u001b[0m check_salary(\u001b[38;5;241m4000\u001b[39m)\n\u001b[0;32m      3\u001b[0m \u001b[38;5;28mprint\u001b[39m(\u001b[38;5;124m\"\u001b[39m\u001b[38;5;124mSalary deposited\u001b[39m\u001b[38;5;124m\"\u001b[39m)\n",
      "Cell \u001b[1;32mIn[45], line 3\u001b[0m, in \u001b[0;36mcheck_salary\u001b[1;34m(salary)\u001b[0m\n\u001b[0;32m      1\u001b[0m \u001b[38;5;28;01mdef\u001b[39;00m \u001b[38;5;21mcheck_salary\u001b[39m(salary):\n\u001b[0;32m      2\u001b[0m     \u001b[38;5;28;01mif\u001b[39;00m salary \u001b[38;5;241m<\u001b[39m \u001b[38;5;241m5000\u001b[39m:\n\u001b[1;32m----> 3\u001b[0m         \u001b[38;5;28;01mraise\u001b[39;00m SalaryError(\u001b[38;5;124m\"\u001b[39m\u001b[38;5;124mLess salary\u001b[39m\u001b[38;5;124m\"\u001b[39m)\n",
      "\u001b[1;31mSalaryError\u001b[0m: Less salary"
     ]
    }
   ],
   "source": [
    "check_salary(4000)\n",
    "\n",
    "print(\"Salary deposited\")"
   ]
  },
  {
   "cell_type": "code",
   "execution_count": 47,
   "id": "eb985df4",
   "metadata": {},
   "outputs": [
    {
     "name": "stdout",
     "output_type": "stream",
     "text": [
      "Salary deposited\n"
     ]
    }
   ],
   "source": [
    "check_salary(10000)\n",
    "\n",
    "print(\"Salary deposited\")"
   ]
  },
  {
   "cell_type": "code",
   "execution_count": 48,
   "id": "5ddcd8d1",
   "metadata": {},
   "outputs": [
    {
     "name": "stdout",
     "output_type": "stream",
     "text": [
      "Low salary\n"
     ]
    }
   ],
   "source": [
    "try:\n",
    "    check_salary(4000)\n",
    "except SalaryError:\n",
    "    print(\"Low salary\")\n",
    "else:\n",
    "    print(\"Salary deposited\")"
   ]
  },
  {
   "cell_type": "code",
   "execution_count": 49,
   "id": "fab5ee84",
   "metadata": {},
   "outputs": [
    {
     "name": "stdout",
     "output_type": "stream",
     "text": [
      "Salary deposited\n"
     ]
    }
   ],
   "source": [
    "try:\n",
    "    check_salary(12000)\n",
    "except SalaryError:\n",
    "    print(\"Low salary\")\n",
    "else:\n",
    "    print(\"Salary deposited\")"
   ]
  },
  {
   "cell_type": "code",
   "execution_count": null,
   "id": "4bc4459e",
   "metadata": {},
   "outputs": [],
   "source": []
  }
 ],
 "metadata": {
  "kernelspec": {
   "display_name": "Python 3 (ipykernel)",
   "language": "python",
   "name": "python3"
  },
  "language_info": {
   "codemirror_mode": {
    "name": "ipython",
    "version": 3
   },
   "file_extension": ".py",
   "mimetype": "text/x-python",
   "name": "python",
   "nbconvert_exporter": "python",
   "pygments_lexer": "ipython3",
   "version": "3.11.4"
  }
 },
 "nbformat": 4,
 "nbformat_minor": 5
}
