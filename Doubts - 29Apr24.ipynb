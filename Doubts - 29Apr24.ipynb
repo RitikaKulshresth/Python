{
 "cells": [
  {
   "cell_type": "code",
   "execution_count": 1,
   "id": "c03eb463",
   "metadata": {},
   "outputs": [],
   "source": [
    "# Given a binary file employee.dat, created using dictionary object having keys: (empcode, name, and salary)\n",
    "\n",
    "# Write a python function that add one more record at the end of file.\n",
    "# Write a python function that display all employee records whose salary is more that 30000\n"
   ]
  },
  {
   "cell_type": "code",
   "execution_count": 2,
   "id": "65d5c714",
   "metadata": {},
   "outputs": [],
   "source": [
    "# A binary file \"Book.dat\" has structure [BookNo, Book_Name, Author, Price].\n",
    "# i. Write a user defined function createFile() to input data for a record and add to Book.dat.\n"
   ]
  },
  {
   "cell_type": "code",
   "execution_count": 3,
   "id": "a9400bad",
   "metadata": {},
   "outputs": [
    {
     "name": "stdout",
     "output_type": "stream",
     "text": [
      "Enter Book Number: 111\n",
      "Enter Book Name: ABC\n",
      "Enter Author Name: XYZ\n",
      "Enter Price: 100\n",
      "Added Successfully\n"
     ]
    }
   ],
   "source": [
    "import pickle\n",
    "\n",
    "def createFile(file_name):\n",
    "        with open(file_name,'ab') as fh:\n",
    "            bookNo = int(input(\"Enter Book Number: \"))\n",
    "            bookName = input(\"Enter Book Name: \")\n",
    "            author = input(\"Enter Author Name: \")\n",
    "            price = int(input(\"Enter Price: \"))\n",
    "            record = {'BookNo': bookNo, 'Book_Name': bookName, 'Author': author, 'Price': price}\n",
    "            pickle.dump(record,fh)\n",
    "        print(\"Added Successfully\")\n",
    "createFile('Book.dat')\n"
   ]
  },
  {
   "cell_type": "code",
   "execution_count": null,
   "id": "dbc473e6",
   "metadata": {},
   "outputs": [],
   "source": []
  },
  {
   "cell_type": "code",
   "execution_count": 4,
   "id": "534e32a5",
   "metadata": {},
   "outputs": [],
   "source": [
    "# A binary file players.dat, containing records of following list format: [code, name, country and total runs]\n",
    "\n",
    "# 1. Write a python function that display all records where player name starts from 'A'\n",
    "# 2. Write a python function that accept country as an argument and count and display \n",
    "#     the number of players of that country.\n",
    "# 3. Write a python function that add one record at the end of file.\n"
   ]
  },
  {
   "cell_type": "code",
   "execution_count": 5,
   "id": "58af13e9",
   "metadata": {},
   "outputs": [],
   "source": [
    "import pickle\n",
    "\n",
    "def f3():\n",
    "    data = [123, 'John', 'US', 20]\n",
    "    fh = open('players.dat', 'ab')\n",
    "    pickle.dump(data, fh)\n",
    "    fh.close()"
   ]
  },
  {
   "cell_type": "code",
   "execution_count": 6,
   "id": "8735c9ea",
   "metadata": {},
   "outputs": [],
   "source": [
    "# Given a binary file game.dat, containing records of following list format: [game_name, participants]\n",
    "\n",
    "# Write a function in Python that would read contents from the file game.dat and \n",
    "# creates a file named basket.dat copying only those records from game.dat where the game name is \"Basket Ball\"\n"
   ]
  },
  {
   "cell_type": "code",
   "execution_count": 8,
   "id": "afe9cf68",
   "metadata": {},
   "outputs": [],
   "source": [
    "fh = open('game.dat', 'bx')"
   ]
  },
  {
   "cell_type": "code",
   "execution_count": 9,
   "id": "93bc3227",
   "metadata": {},
   "outputs": [],
   "source": [
    "l1 = ['Cricket', 20]"
   ]
  },
  {
   "cell_type": "code",
   "execution_count": 10,
   "id": "9512e91f",
   "metadata": {},
   "outputs": [],
   "source": [
    "pickle.dump(l1, fh)"
   ]
  },
  {
   "cell_type": "code",
   "execution_count": 12,
   "id": "e18155bd",
   "metadata": {},
   "outputs": [],
   "source": [
    "l2 = ['Football', 25]"
   ]
  },
  {
   "cell_type": "code",
   "execution_count": 13,
   "id": "13399c74",
   "metadata": {},
   "outputs": [],
   "source": [
    "pickle.dump(l2, fh)"
   ]
  },
  {
   "cell_type": "code",
   "execution_count": 14,
   "id": "e567a381",
   "metadata": {},
   "outputs": [],
   "source": [
    "l3 = ['Basket Ball', 10]"
   ]
  },
  {
   "cell_type": "code",
   "execution_count": 15,
   "id": "e9b347a5",
   "metadata": {},
   "outputs": [],
   "source": [
    "pickle.dump(l3, fh)"
   ]
  },
  {
   "cell_type": "code",
   "execution_count": 16,
   "id": "0984dd6b",
   "metadata": {},
   "outputs": [],
   "source": [
    "fh.close()"
   ]
  },
  {
   "cell_type": "code",
   "execution_count": null,
   "id": "6c8d9071",
   "metadata": {},
   "outputs": [],
   "source": []
  },
  {
   "cell_type": "code",
   "execution_count": 17,
   "id": "1e69ff6f",
   "metadata": {},
   "outputs": [],
   "source": [
    "def f1():\n",
    "    fh1 = open('basket.dat', 'xb')\n",
    "    fh2 = open('game.dat', 'rb')\n",
    "    while True:\n",
    "        try:\n",
    "            game = pickle.load(fh2)\n",
    "            if game[0] == 'Basket Ball':\n",
    "                pickle.dump(game, fh1)\n",
    "        except Exception:\n",
    "            break\n",
    "    fh1.close()\n",
    "    fh2.close()"
   ]
  },
  {
   "cell_type": "code",
   "execution_count": 18,
   "id": "73266ec3",
   "metadata": {},
   "outputs": [],
   "source": [
    "f1()"
   ]
  },
  {
   "cell_type": "code",
   "execution_count": null,
   "id": "b8287dd7",
   "metadata": {},
   "outputs": [],
   "source": []
  }
 ],
 "metadata": {
  "kernelspec": {
   "display_name": "Python 3 (ipykernel)",
   "language": "python",
   "name": "python3"
  },
  "language_info": {
   "codemirror_mode": {
    "name": "ipython",
    "version": 3
   },
   "file_extension": ".py",
   "mimetype": "text/x-python",
   "name": "python",
   "nbconvert_exporter": "python",
   "pygments_lexer": "ipython3",
   "version": "3.11.4"
  }
 },
 "nbformat": 4,
 "nbformat_minor": 5
}
