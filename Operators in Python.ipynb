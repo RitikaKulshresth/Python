{
 "cells": [
  {
   "cell_type": "code",
   "execution_count": 1,
   "id": "24c154bb",
   "metadata": {},
   "outputs": [],
   "source": [
    "# Operators perform operation on operand\n",
    "\n",
    "# a + b * 2 => Here, a, b, 2 are operands and +, * are operators\n",
    "\n",
    "# a > b => a and b are operands, > is a operator"
   ]
  },
  {
   "cell_type": "markdown",
   "id": "82b6ad9d",
   "metadata": {},
   "source": [
    "- Classification of operators based on number of operands\n",
    "    - Unary operator: Operator that operates on 1 operand. eg: -, not, ~\n",
    "    - Binary operator: Operator that operates on 2 operands. eg: +, >, and\n",
    "    - Ternary operator: Operator that operates on 3 operands."
   ]
  },
  {
   "cell_type": "markdown",
   "id": "e653421a",
   "metadata": {},
   "source": [
    "- Classification of operators based on the operation they perform"
   ]
  },
  {
   "cell_type": "code",
   "execution_count": 2,
   "id": "019e04fc",
   "metadata": {},
   "outputs": [],
   "source": [
    "# Arithmetic Operators\n",
    "# Arithmetic operations \n",
    "# +, -, *, /, //, %, **"
   ]
  },
  {
   "cell_type": "code",
   "execution_count": 3,
   "id": "a752dae3",
   "metadata": {},
   "outputs": [
    {
     "data": {
      "text/plain": [
       "12"
      ]
     },
     "execution_count": 3,
     "metadata": {},
     "output_type": "execute_result"
    }
   ],
   "source": [
    "10 + 2"
   ]
  },
  {
   "cell_type": "code",
   "execution_count": 4,
   "id": "b037bf91",
   "metadata": {},
   "outputs": [
    {
     "data": {
      "text/plain": [
       "8"
      ]
     },
     "execution_count": 4,
     "metadata": {},
     "output_type": "execute_result"
    }
   ],
   "source": [
    "10 - 2"
   ]
  },
  {
   "cell_type": "code",
   "execution_count": 5,
   "id": "0f954741",
   "metadata": {},
   "outputs": [
    {
     "data": {
      "text/plain": [
       "20"
      ]
     },
     "execution_count": 5,
     "metadata": {},
     "output_type": "execute_result"
    }
   ],
   "source": [
    "10 * 2"
   ]
  },
  {
   "cell_type": "code",
   "execution_count": 6,
   "id": "7ba28cd2",
   "metadata": {},
   "outputs": [
    {
     "data": {
      "text/plain": [
       "5.0"
      ]
     },
     "execution_count": 6,
     "metadata": {},
     "output_type": "execute_result"
    }
   ],
   "source": [
    "10 / 2"
   ]
  },
  {
   "cell_type": "code",
   "execution_count": 7,
   "id": "5b29032a",
   "metadata": {},
   "outputs": [],
   "source": [
    "# / operator always give the output in float"
   ]
  },
  {
   "cell_type": "code",
   "execution_count": 8,
   "id": "d9e4f508",
   "metadata": {},
   "outputs": [],
   "source": [
    "# // => Floor division/ Integer division"
   ]
  },
  {
   "cell_type": "code",
   "execution_count": 9,
   "id": "709e9587",
   "metadata": {},
   "outputs": [
    {
     "data": {
      "text/plain": [
       "5"
      ]
     },
     "execution_count": 9,
     "metadata": {},
     "output_type": "execute_result"
    }
   ],
   "source": [
    "10 // 2"
   ]
  },
  {
   "cell_type": "code",
   "execution_count": 10,
   "id": "fddf73b9",
   "metadata": {},
   "outputs": [
    {
     "data": {
      "text/plain": [
       "3"
      ]
     },
     "execution_count": 10,
     "metadata": {},
     "output_type": "execute_result"
    }
   ],
   "source": [
    "10 // 3"
   ]
  },
  {
   "cell_type": "code",
   "execution_count": null,
   "id": "b97defed",
   "metadata": {},
   "outputs": [],
   "source": []
  },
  {
   "cell_type": "code",
   "execution_count": 11,
   "id": "15bf4299",
   "metadata": {},
   "outputs": [
    {
     "data": {
      "text/plain": [
       "25"
      ]
     },
     "execution_count": 11,
     "metadata": {},
     "output_type": "execute_result"
    }
   ],
   "source": [
    "5 ** 2"
   ]
  },
  {
   "cell_type": "code",
   "execution_count": 12,
   "id": "1229db34",
   "metadata": {},
   "outputs": [
    {
     "data": {
      "text/plain": [
       "125"
      ]
     },
     "execution_count": 12,
     "metadata": {},
     "output_type": "execute_result"
    }
   ],
   "source": [
    "5 ** 3"
   ]
  },
  {
   "cell_type": "code",
   "execution_count": 13,
   "id": "b54b2a05",
   "metadata": {},
   "outputs": [
    {
     "data": {
      "text/plain": [
       "32"
      ]
     },
     "execution_count": 13,
     "metadata": {},
     "output_type": "execute_result"
    }
   ],
   "source": [
    "2 ** 5"
   ]
  },
  {
   "cell_type": "code",
   "execution_count": 14,
   "id": "8c3bd859",
   "metadata": {},
   "outputs": [],
   "source": [
    "# a ** b => a to the power of b"
   ]
  },
  {
   "cell_type": "code",
   "execution_count": 15,
   "id": "69943467",
   "metadata": {},
   "outputs": [
    {
     "data": {
      "text/plain": [
       "8"
      ]
     },
     "execution_count": 15,
     "metadata": {},
     "output_type": "execute_result"
    }
   ],
   "source": [
    "10 ^ 2"
   ]
  },
  {
   "cell_type": "code",
   "execution_count": 16,
   "id": "69afe969",
   "metadata": {},
   "outputs": [],
   "source": [
    "# ^ is NOT the power operator!!"
   ]
  },
  {
   "cell_type": "code",
   "execution_count": 17,
   "id": "4c6bd36a",
   "metadata": {},
   "outputs": [],
   "source": [
    "# % Modulus operator\n",
    "# Returns the remainder!!!"
   ]
  },
  {
   "cell_type": "code",
   "execution_count": 18,
   "id": "6c901daf",
   "metadata": {},
   "outputs": [
    {
     "data": {
      "text/plain": [
       "1"
      ]
     },
     "execution_count": 18,
     "metadata": {},
     "output_type": "execute_result"
    }
   ],
   "source": [
    "10 % 3"
   ]
  },
  {
   "cell_type": "code",
   "execution_count": 19,
   "id": "fcfd995f",
   "metadata": {},
   "outputs": [
    {
     "data": {
      "text/plain": [
       "1"
      ]
     },
     "execution_count": 19,
     "metadata": {},
     "output_type": "execute_result"
    }
   ],
   "source": [
    "100 % 9"
   ]
  },
  {
   "cell_type": "code",
   "execution_count": 20,
   "id": "43059f8c",
   "metadata": {},
   "outputs": [
    {
     "data": {
      "text/plain": [
       "0"
      ]
     },
     "execution_count": 20,
     "metadata": {},
     "output_type": "execute_result"
    }
   ],
   "source": [
    "10 % 2"
   ]
  },
  {
   "cell_type": "code",
   "execution_count": 21,
   "id": "827ddaa1",
   "metadata": {},
   "outputs": [
    {
     "data": {
      "text/plain": [
       "3.3333333333333335"
      ]
     },
     "execution_count": 21,
     "metadata": {},
     "output_type": "execute_result"
    }
   ],
   "source": [
    "10/3"
   ]
  },
  {
   "cell_type": "code",
   "execution_count": 22,
   "id": "4b9c63dc",
   "metadata": {},
   "outputs": [
    {
     "data": {
      "text/plain": [
       "1296"
      ]
     },
     "execution_count": 22,
     "metadata": {},
     "output_type": "execute_result"
    }
   ],
   "source": [
    "6 ** 4"
   ]
  },
  {
   "cell_type": "code",
   "execution_count": 23,
   "id": "93e4377d",
   "metadata": {},
   "outputs": [
    {
     "data": {
      "text/plain": [
       "5.0"
      ]
     },
     "execution_count": 23,
     "metadata": {},
     "output_type": "execute_result"
    }
   ],
   "source": [
    "25 ** 0.5"
   ]
  },
  {
   "cell_type": "code",
   "execution_count": 24,
   "id": "ae22a0d7",
   "metadata": {},
   "outputs": [],
   "source": [
    "# Assignment Operators\n",
    "# asigns the right side value to the left side variable"
   ]
  },
  {
   "cell_type": "code",
   "execution_count": 25,
   "id": "96b6c707",
   "metadata": {},
   "outputs": [],
   "source": [
    "num1 = 100"
   ]
  },
  {
   "cell_type": "code",
   "execution_count": 26,
   "id": "5dacc683",
   "metadata": {},
   "outputs": [],
   "source": [
    "# Compound assignment operators\n",
    "# +=, -=, *=, /=, //=, %=, **="
   ]
  },
  {
   "cell_type": "code",
   "execution_count": 27,
   "id": "a3abbc19",
   "metadata": {},
   "outputs": [
    {
     "data": {
      "text/plain": [
       "100"
      ]
     },
     "execution_count": 27,
     "metadata": {},
     "output_type": "execute_result"
    }
   ],
   "source": [
    "num1"
   ]
  },
  {
   "cell_type": "code",
   "execution_count": 28,
   "id": "1055eb28",
   "metadata": {},
   "outputs": [],
   "source": [
    "num1 += 1\n",
    "# num1 = num1 + 1\n",
    "# num1 = 100 + 1\n",
    "# num1 = 101"
   ]
  },
  {
   "cell_type": "code",
   "execution_count": 29,
   "id": "482d1637",
   "metadata": {},
   "outputs": [
    {
     "data": {
      "text/plain": [
       "101"
      ]
     },
     "execution_count": 29,
     "metadata": {},
     "output_type": "execute_result"
    }
   ],
   "source": [
    "num1 "
   ]
  },
  {
   "cell_type": "code",
   "execution_count": 30,
   "id": "2d7b0993",
   "metadata": {},
   "outputs": [],
   "source": [
    "num1 -= 50\n",
    "# num1 = num1 - 50\n",
    "# num1 = 101 - 50\n",
    "# num1 = 51"
   ]
  },
  {
   "cell_type": "code",
   "execution_count": 31,
   "id": "bf8fe696",
   "metadata": {},
   "outputs": [
    {
     "data": {
      "text/plain": [
       "51"
      ]
     },
     "execution_count": 31,
     "metadata": {},
     "output_type": "execute_result"
    }
   ],
   "source": [
    "num1"
   ]
  },
  {
   "cell_type": "code",
   "execution_count": 32,
   "id": "aefafd11",
   "metadata": {},
   "outputs": [],
   "source": [
    "num1 *= 3\n",
    "# num1 = num1 * 3\n",
    "# num1 = 51 * 3\n",
    "# num1 = 153"
   ]
  },
  {
   "cell_type": "code",
   "execution_count": 33,
   "id": "f0ca709e",
   "metadata": {},
   "outputs": [
    {
     "data": {
      "text/plain": [
       "153"
      ]
     },
     "execution_count": 33,
     "metadata": {},
     "output_type": "execute_result"
    }
   ],
   "source": [
    "num1"
   ]
  },
  {
   "cell_type": "code",
   "execution_count": null,
   "id": "8e805c3f",
   "metadata": {},
   "outputs": [],
   "source": []
  },
  {
   "cell_type": "code",
   "execution_count": 34,
   "id": "9c43a757",
   "metadata": {},
   "outputs": [],
   "source": [
    "num1 /= 5\n",
    "# num1 = num1 / 5\n",
    "# num1 = 153 / 5\n",
    "# num1 = 30.6"
   ]
  },
  {
   "cell_type": "code",
   "execution_count": 35,
   "id": "408d1a15",
   "metadata": {},
   "outputs": [
    {
     "data": {
      "text/plain": [
       "30.6"
      ]
     },
     "execution_count": 35,
     "metadata": {},
     "output_type": "execute_result"
    }
   ],
   "source": [
    "num1"
   ]
  },
  {
   "cell_type": "code",
   "execution_count": 36,
   "id": "90b41a95",
   "metadata": {},
   "outputs": [],
   "source": [
    "num1 //= 2\n",
    "# num1 = 30.6 // 2\n",
    "# num1 = 15.0"
   ]
  },
  {
   "cell_type": "code",
   "execution_count": 37,
   "id": "a66adca3",
   "metadata": {},
   "outputs": [
    {
     "data": {
      "text/plain": [
       "15.0"
      ]
     },
     "execution_count": 37,
     "metadata": {},
     "output_type": "execute_result"
    }
   ],
   "source": [
    "num1"
   ]
  },
  {
   "cell_type": "code",
   "execution_count": 38,
   "id": "e198dfdb",
   "metadata": {},
   "outputs": [],
   "source": [
    "# If one of the opearand is a float, the output will be in float always!!!"
   ]
  },
  {
   "cell_type": "code",
   "execution_count": null,
   "id": "58c41efd",
   "metadata": {},
   "outputs": [],
   "source": []
  },
  {
   "cell_type": "code",
   "execution_count": 39,
   "id": "6e669657",
   "metadata": {},
   "outputs": [
    {
     "data": {
      "text/plain": [
       "15.0"
      ]
     },
     "execution_count": 39,
     "metadata": {},
     "output_type": "execute_result"
    }
   ],
   "source": [
    "num1"
   ]
  },
  {
   "cell_type": "code",
   "execution_count": 40,
   "id": "9a58fb10",
   "metadata": {},
   "outputs": [],
   "source": [
    "num2 = 10"
   ]
  },
  {
   "cell_type": "code",
   "execution_count": 41,
   "id": "f12d403a",
   "metadata": {},
   "outputs": [],
   "source": [
    "num2 += 2"
   ]
  },
  {
   "cell_type": "code",
   "execution_count": 42,
   "id": "0089afa2",
   "metadata": {},
   "outputs": [
    {
     "data": {
      "text/plain": [
       "12"
      ]
     },
     "execution_count": 42,
     "metadata": {},
     "output_type": "execute_result"
    }
   ],
   "source": [
    "num2"
   ]
  },
  {
   "cell_type": "code",
   "execution_count": 43,
   "id": "01d5e83d",
   "metadata": {},
   "outputs": [],
   "source": [
    "num2 /= 5"
   ]
  },
  {
   "cell_type": "code",
   "execution_count": 44,
   "id": "3d6b2bd9",
   "metadata": {},
   "outputs": [
    {
     "data": {
      "text/plain": [
       "2.4"
      ]
     },
     "execution_count": 44,
     "metadata": {},
     "output_type": "execute_result"
    }
   ],
   "source": [
    "num2"
   ]
  },
  {
   "cell_type": "code",
   "execution_count": null,
   "id": "8778da11",
   "metadata": {},
   "outputs": [],
   "source": []
  }
 ],
 "metadata": {
  "kernelspec": {
   "display_name": "Python 3 (ipykernel)",
   "language": "python",
   "name": "python3"
  },
  "language_info": {
   "codemirror_mode": {
    "name": "ipython",
    "version": 3
   },
   "file_extension": ".py",
   "mimetype": "text/x-python",
   "name": "python",
   "nbconvert_exporter": "python",
   "pygments_lexer": "ipython3",
   "version": "3.11.4"
  }
 },
 "nbformat": 4,
 "nbformat_minor": 5
}
