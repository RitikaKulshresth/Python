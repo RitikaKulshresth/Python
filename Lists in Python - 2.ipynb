{
 "cells": [
  {
   "cell_type": "code",
   "execution_count": 1,
   "id": "2612e437",
   "metadata": {},
   "outputs": [],
   "source": [
    "# index"
   ]
  },
  {
   "cell_type": "code",
   "execution_count": 2,
   "id": "25eead22",
   "metadata": {},
   "outputs": [],
   "source": [
    "l1 = [10, 3, 0, 1, 9, 3, 1, 3, 1, 3, 3, 8]"
   ]
  },
  {
   "cell_type": "code",
   "execution_count": 3,
   "id": "69dad15a",
   "metadata": {},
   "outputs": [
    {
     "data": {
      "text/plain": [
       "[10, 3, 0, 1, 9, 3, 1, 3, 1, 3, 3, 8]"
      ]
     },
     "execution_count": 3,
     "metadata": {},
     "output_type": "execute_result"
    }
   ],
   "source": [
    "l1"
   ]
  },
  {
   "cell_type": "code",
   "execution_count": 4,
   "id": "ca42e6ae",
   "metadata": {},
   "outputs": [
    {
     "data": {
      "text/plain": [
       "1"
      ]
     },
     "execution_count": 4,
     "metadata": {},
     "output_type": "execute_result"
    }
   ],
   "source": [
    "l1.index(3)"
   ]
  },
  {
   "cell_type": "code",
   "execution_count": 5,
   "id": "57e39153",
   "metadata": {},
   "outputs": [],
   "source": [
    "fruits = ['apple', 'mango', 'grapes', 'orange']"
   ]
  },
  {
   "cell_type": "code",
   "execution_count": 6,
   "id": "3f3dea90",
   "metadata": {},
   "outputs": [
    {
     "data": {
      "text/plain": [
       "['apple', 'mango', 'grapes', 'orange']"
      ]
     },
     "execution_count": 6,
     "metadata": {},
     "output_type": "execute_result"
    }
   ],
   "source": [
    "fruits"
   ]
  },
  {
   "cell_type": "code",
   "execution_count": 7,
   "id": "45ae5cab",
   "metadata": {},
   "outputs": [
    {
     "data": {
      "text/plain": [
       "2"
      ]
     },
     "execution_count": 7,
     "metadata": {},
     "output_type": "execute_result"
    }
   ],
   "source": [
    "fruits.index('grapes')"
   ]
  },
  {
   "cell_type": "code",
   "execution_count": 8,
   "id": "18a85a1d",
   "metadata": {},
   "outputs": [
    {
     "data": {
      "text/plain": [
       "[10, 3, 0, 1, 9, 3, 1, 3, 1, 3, 3, 8]"
      ]
     },
     "execution_count": 8,
     "metadata": {},
     "output_type": "execute_result"
    }
   ],
   "source": [
    "l1"
   ]
  },
  {
   "cell_type": "code",
   "execution_count": 9,
   "id": "6a81a287",
   "metadata": {},
   "outputs": [
    {
     "ename": "AttributeError",
     "evalue": "'list' object has no attribute 'rindex'",
     "output_type": "error",
     "traceback": [
      "\u001b[1;31m---------------------------------------------------------------------------\u001b[0m",
      "\u001b[1;31mAttributeError\u001b[0m                            Traceback (most recent call last)",
      "Cell \u001b[1;32mIn[9], line 1\u001b[0m\n\u001b[1;32m----> 1\u001b[0m l1\u001b[38;5;241m.\u001b[39mrindex(\u001b[38;5;241m3\u001b[39m)\n",
      "\u001b[1;31mAttributeError\u001b[0m: 'list' object has no attribute 'rindex'"
     ]
    }
   ],
   "source": [
    "l1.rindex(3)"
   ]
  },
  {
   "cell_type": "code",
   "execution_count": 10,
   "id": "30f7f1d9",
   "metadata": {},
   "outputs": [
    {
     "name": "stdout",
     "output_type": "stream",
     "text": [
      "Help on class list in module builtins:\n",
      "\n",
      "class list(object)\n",
      " |  list(iterable=(), /)\n",
      " |  \n",
      " |  Built-in mutable sequence.\n",
      " |  \n",
      " |  If no argument is given, the constructor creates a new empty list.\n",
      " |  The argument must be an iterable if specified.\n",
      " |  \n",
      " |  Methods defined here:\n",
      " |  \n",
      " |  __add__(self, value, /)\n",
      " |      Return self+value.\n",
      " |  \n",
      " |  __contains__(self, key, /)\n",
      " |      Return key in self.\n",
      " |  \n",
      " |  __delitem__(self, key, /)\n",
      " |      Delete self[key].\n",
      " |  \n",
      " |  __eq__(self, value, /)\n",
      " |      Return self==value.\n",
      " |  \n",
      " |  __ge__(self, value, /)\n",
      " |      Return self>=value.\n",
      " |  \n",
      " |  __getattribute__(self, name, /)\n",
      " |      Return getattr(self, name).\n",
      " |  \n",
      " |  __getitem__(...)\n",
      " |      x.__getitem__(y) <==> x[y]\n",
      " |  \n",
      " |  __gt__(self, value, /)\n",
      " |      Return self>value.\n",
      " |  \n",
      " |  __iadd__(self, value, /)\n",
      " |      Implement self+=value.\n",
      " |  \n",
      " |  __imul__(self, value, /)\n",
      " |      Implement self*=value.\n",
      " |  \n",
      " |  __init__(self, /, *args, **kwargs)\n",
      " |      Initialize self.  See help(type(self)) for accurate signature.\n",
      " |  \n",
      " |  __iter__(self, /)\n",
      " |      Implement iter(self).\n",
      " |  \n",
      " |  __le__(self, value, /)\n",
      " |      Return self<=value.\n",
      " |  \n",
      " |  __len__(self, /)\n",
      " |      Return len(self).\n",
      " |  \n",
      " |  __lt__(self, value, /)\n",
      " |      Return self<value.\n",
      " |  \n",
      " |  __mul__(self, value, /)\n",
      " |      Return self*value.\n",
      " |  \n",
      " |  __ne__(self, value, /)\n",
      " |      Return self!=value.\n",
      " |  \n",
      " |  __repr__(self, /)\n",
      " |      Return repr(self).\n",
      " |  \n",
      " |  __reversed__(self, /)\n",
      " |      Return a reverse iterator over the list.\n",
      " |  \n",
      " |  __rmul__(self, value, /)\n",
      " |      Return value*self.\n",
      " |  \n",
      " |  __setitem__(self, key, value, /)\n",
      " |      Set self[key] to value.\n",
      " |  \n",
      " |  __sizeof__(self, /)\n",
      " |      Return the size of the list in memory, in bytes.\n",
      " |  \n",
      " |  append(self, object, /)\n",
      " |      Append object to the end of the list.\n",
      " |  \n",
      " |  clear(self, /)\n",
      " |      Remove all items from list.\n",
      " |  \n",
      " |  copy(self, /)\n",
      " |      Return a shallow copy of the list.\n",
      " |  \n",
      " |  count(self, value, /)\n",
      " |      Return number of occurrences of value.\n",
      " |  \n",
      " |  extend(self, iterable, /)\n",
      " |      Extend list by appending elements from the iterable.\n",
      " |  \n",
      " |  index(self, value, start=0, stop=9223372036854775807, /)\n",
      " |      Return first index of value.\n",
      " |      \n",
      " |      Raises ValueError if the value is not present.\n",
      " |  \n",
      " |  insert(self, index, object, /)\n",
      " |      Insert object before index.\n",
      " |  \n",
      " |  pop(self, index=-1, /)\n",
      " |      Remove and return item at index (default last).\n",
      " |      \n",
      " |      Raises IndexError if list is empty or index is out of range.\n",
      " |  \n",
      " |  remove(self, value, /)\n",
      " |      Remove first occurrence of value.\n",
      " |      \n",
      " |      Raises ValueError if the value is not present.\n",
      " |  \n",
      " |  reverse(self, /)\n",
      " |      Reverse *IN PLACE*.\n",
      " |  \n",
      " |  sort(self, /, *, key=None, reverse=False)\n",
      " |      Sort the list in ascending order and return None.\n",
      " |      \n",
      " |      The sort is in-place (i.e. the list itself is modified) and stable (i.e. the\n",
      " |      order of two equal elements is maintained).\n",
      " |      \n",
      " |      If a key function is given, apply it once to each list item and sort them,\n",
      " |      ascending or descending, according to their function values.\n",
      " |      \n",
      " |      The reverse flag can be set to sort in descending order.\n",
      " |  \n",
      " |  ----------------------------------------------------------------------\n",
      " |  Class methods defined here:\n",
      " |  \n",
      " |  __class_getitem__(...) from builtins.type\n",
      " |      See PEP 585\n",
      " |  \n",
      " |  ----------------------------------------------------------------------\n",
      " |  Static methods defined here:\n",
      " |  \n",
      " |  __new__(*args, **kwargs) from builtins.type\n",
      " |      Create and return a new object.  See help(type) for accurate signature.\n",
      " |  \n",
      " |  ----------------------------------------------------------------------\n",
      " |  Data and other attributes defined here:\n",
      " |  \n",
      " |  __hash__ = None\n",
      "\n"
     ]
    }
   ],
   "source": [
    "help(list)"
   ]
  },
  {
   "cell_type": "code",
   "execution_count": null,
   "id": "32567c9a",
   "metadata": {},
   "outputs": [],
   "source": []
  },
  {
   "cell_type": "code",
   "execution_count": 11,
   "id": "53342245",
   "metadata": {},
   "outputs": [],
   "source": [
    "# reverse"
   ]
  },
  {
   "cell_type": "code",
   "execution_count": 12,
   "id": "6f504245",
   "metadata": {},
   "outputs": [
    {
     "data": {
      "text/plain": [
       "[10, 3, 0, 1, 9, 3, 1, 3, 1, 3, 3, 8]"
      ]
     },
     "execution_count": 12,
     "metadata": {},
     "output_type": "execute_result"
    }
   ],
   "source": [
    "l1"
   ]
  },
  {
   "cell_type": "code",
   "execution_count": 13,
   "id": "aa1f2251",
   "metadata": {},
   "outputs": [],
   "source": [
    "l1.reverse()"
   ]
  },
  {
   "cell_type": "code",
   "execution_count": 14,
   "id": "ebcaff06",
   "metadata": {},
   "outputs": [
    {
     "data": {
      "text/plain": [
       "[8, 3, 3, 1, 3, 1, 3, 9, 1, 0, 3, 10]"
      ]
     },
     "execution_count": 14,
     "metadata": {},
     "output_type": "execute_result"
    }
   ],
   "source": [
    "l1"
   ]
  },
  {
   "cell_type": "code",
   "execution_count": 15,
   "id": "fbdc4d1a",
   "metadata": {},
   "outputs": [
    {
     "name": "stdout",
     "output_type": "stream",
     "text": [
      "Help on built-in function reverse:\n",
      "\n",
      "reverse() method of builtins.list instance\n",
      "    Reverse *IN PLACE*.\n",
      "\n"
     ]
    }
   ],
   "source": [
    "help(l1.reverse)"
   ]
  },
  {
   "cell_type": "code",
   "execution_count": 16,
   "id": "38d100c6",
   "metadata": {},
   "outputs": [
    {
     "data": {
      "text/plain": [
       "[10, 3, 0, 1, 9, 3, 1, 3, 1, 3, 3, 8]"
      ]
     },
     "execution_count": 16,
     "metadata": {},
     "output_type": "execute_result"
    }
   ],
   "source": [
    "l1[::-1]"
   ]
  },
  {
   "cell_type": "code",
   "execution_count": 17,
   "id": "bbd24b3e",
   "metadata": {},
   "outputs": [
    {
     "data": {
      "text/plain": [
       "[8, 3, 3, 1, 3, 1, 3, 9, 1, 0, 3, 10]"
      ]
     },
     "execution_count": 17,
     "metadata": {},
     "output_type": "execute_result"
    }
   ],
   "source": [
    "l1"
   ]
  },
  {
   "cell_type": "code",
   "execution_count": 18,
   "id": "1ff2d2df",
   "metadata": {},
   "outputs": [
    {
     "data": {
      "text/plain": [
       "['apple', 'mango', 'grapes', 'orange']"
      ]
     },
     "execution_count": 18,
     "metadata": {},
     "output_type": "execute_result"
    }
   ],
   "source": [
    "fruits"
   ]
  },
  {
   "cell_type": "code",
   "execution_count": 19,
   "id": "d8fa460e",
   "metadata": {},
   "outputs": [
    {
     "data": {
      "text/plain": [
       "['orange', 'grapes', 'mango', 'apple']"
      ]
     },
     "execution_count": 19,
     "metadata": {},
     "output_type": "execute_result"
    }
   ],
   "source": [
    "fruits[::-1]"
   ]
  },
  {
   "cell_type": "code",
   "execution_count": 20,
   "id": "432d1b86",
   "metadata": {},
   "outputs": [
    {
     "data": {
      "text/plain": [
       "['apple', 'mango', 'grapes', 'orange']"
      ]
     },
     "execution_count": 20,
     "metadata": {},
     "output_type": "execute_result"
    }
   ],
   "source": [
    "fruits"
   ]
  },
  {
   "cell_type": "code",
   "execution_count": null,
   "id": "44784556",
   "metadata": {},
   "outputs": [],
   "source": []
  },
  {
   "cell_type": "code",
   "execution_count": 21,
   "id": "571fea1a",
   "metadata": {},
   "outputs": [
    {
     "data": {
      "text/plain": [
       "[8, 3, 3, 1, 3, 1, 3, 9, 1, 0, 3, 10]"
      ]
     },
     "execution_count": 21,
     "metadata": {},
     "output_type": "execute_result"
    }
   ],
   "source": [
    "l1"
   ]
  },
  {
   "cell_type": "code",
   "execution_count": 22,
   "id": "e8fb4379",
   "metadata": {},
   "outputs": [
    {
     "data": {
      "text/plain": [
       "[3, 1, 3, 9]"
      ]
     },
     "execution_count": 22,
     "metadata": {},
     "output_type": "execute_result"
    }
   ],
   "source": [
    "l1[4:8:1]"
   ]
  },
  {
   "cell_type": "code",
   "execution_count": 23,
   "id": "3b9e853b",
   "metadata": {},
   "outputs": [],
   "source": [
    "l1[4:8:1].reverse()"
   ]
  },
  {
   "cell_type": "code",
   "execution_count": 24,
   "id": "e5843c28",
   "metadata": {},
   "outputs": [
    {
     "data": {
      "text/plain": [
       "[8, 3, 3, 1, 3, 1, 3, 9, 1, 0, 3, 10]"
      ]
     },
     "execution_count": 24,
     "metadata": {},
     "output_type": "execute_result"
    }
   ],
   "source": [
    "l1"
   ]
  },
  {
   "cell_type": "code",
   "execution_count": null,
   "id": "8152e677",
   "metadata": {},
   "outputs": [],
   "source": []
  },
  {
   "cell_type": "code",
   "execution_count": 25,
   "id": "27eb045c",
   "metadata": {},
   "outputs": [],
   "source": [
    "# sort"
   ]
  },
  {
   "cell_type": "code",
   "execution_count": 26,
   "id": "b3beb519",
   "metadata": {},
   "outputs": [
    {
     "data": {
      "text/plain": [
       "[8, 3, 3, 1, 3, 1, 3, 9, 1, 0, 3, 10]"
      ]
     },
     "execution_count": 26,
     "metadata": {},
     "output_type": "execute_result"
    }
   ],
   "source": [
    "l1"
   ]
  },
  {
   "cell_type": "code",
   "execution_count": 27,
   "id": "e08bb544",
   "metadata": {},
   "outputs": [
    {
     "name": "stdout",
     "output_type": "stream",
     "text": [
      "Help on built-in function sort:\n",
      "\n",
      "sort(*, key=None, reverse=False) method of builtins.list instance\n",
      "    Sort the list in ascending order and return None.\n",
      "    \n",
      "    The sort is in-place (i.e. the list itself is modified) and stable (i.e. the\n",
      "    order of two equal elements is maintained).\n",
      "    \n",
      "    If a key function is given, apply it once to each list item and sort them,\n",
      "    ascending or descending, according to their function values.\n",
      "    \n",
      "    The reverse flag can be set to sort in descending order.\n",
      "\n"
     ]
    }
   ],
   "source": [
    "help(l1.sort)"
   ]
  },
  {
   "cell_type": "code",
   "execution_count": 28,
   "id": "083a5403",
   "metadata": {},
   "outputs": [
    {
     "data": {
      "text/plain": [
       "[8, 3, 3, 1, 3, 1, 3, 9, 1, 0, 3, 10]"
      ]
     },
     "execution_count": 28,
     "metadata": {},
     "output_type": "execute_result"
    }
   ],
   "source": [
    "l1"
   ]
  },
  {
   "cell_type": "code",
   "execution_count": 29,
   "id": "d6497f02",
   "metadata": {},
   "outputs": [],
   "source": [
    "l1.sort()"
   ]
  },
  {
   "cell_type": "code",
   "execution_count": 30,
   "id": "a8c75ae8",
   "metadata": {},
   "outputs": [
    {
     "data": {
      "text/plain": [
       "[0, 1, 1, 1, 3, 3, 3, 3, 3, 8, 9, 10]"
      ]
     },
     "execution_count": 30,
     "metadata": {},
     "output_type": "execute_result"
    }
   ],
   "source": [
    "l1"
   ]
  },
  {
   "cell_type": "code",
   "execution_count": 31,
   "id": "6b146da2",
   "metadata": {},
   "outputs": [],
   "source": [
    "l2 = [4, 6, 9, 0, -4, 5, 2]"
   ]
  },
  {
   "cell_type": "code",
   "execution_count": 32,
   "id": "2490391b",
   "metadata": {},
   "outputs": [
    {
     "data": {
      "text/plain": [
       "[4, 6, 9, 0, -4, 5, 2]"
      ]
     },
     "execution_count": 32,
     "metadata": {},
     "output_type": "execute_result"
    }
   ],
   "source": [
    "l2"
   ]
  },
  {
   "cell_type": "code",
   "execution_count": 33,
   "id": "074bff8e",
   "metadata": {},
   "outputs": [],
   "source": [
    "l2.sort(reverse=True) # SOrt in descending order!!"
   ]
  },
  {
   "cell_type": "code",
   "execution_count": 34,
   "id": "1b375829",
   "metadata": {},
   "outputs": [
    {
     "data": {
      "text/plain": [
       "[9, 6, 5, 4, 2, 0, -4]"
      ]
     },
     "execution_count": 34,
     "metadata": {},
     "output_type": "execute_result"
    }
   ],
   "source": [
    "l2"
   ]
  },
  {
   "cell_type": "code",
   "execution_count": null,
   "id": "b6df607b",
   "metadata": {},
   "outputs": [],
   "source": []
  },
  {
   "cell_type": "code",
   "execution_count": null,
   "id": "78c6c565",
   "metadata": {},
   "outputs": [],
   "source": []
  },
  {
   "cell_type": "code",
   "execution_count": 35,
   "id": "b140bd44",
   "metadata": {},
   "outputs": [],
   "source": [
    "# copy()"
   ]
  },
  {
   "cell_type": "code",
   "execution_count": 36,
   "id": "8e39e0dd",
   "metadata": {},
   "outputs": [],
   "source": [
    "# Aliasing and Cloning"
   ]
  },
  {
   "cell_type": "code",
   "execution_count": 38,
   "id": "e4f1a285",
   "metadata": {},
   "outputs": [
    {
     "data": {
      "text/plain": [
       "[9, 6, 5, 4, 2, 0, -4]"
      ]
     },
     "execution_count": 38,
     "metadata": {},
     "output_type": "execute_result"
    }
   ],
   "source": [
    "l2"
   ]
  },
  {
   "cell_type": "code",
   "execution_count": 39,
   "id": "1c4c5286",
   "metadata": {},
   "outputs": [],
   "source": [
    "l3 = l2"
   ]
  },
  {
   "cell_type": "code",
   "execution_count": 40,
   "id": "a82dd4cc",
   "metadata": {},
   "outputs": [
    {
     "data": {
      "text/plain": [
       "[9, 6, 5, 4, 2, 0, -4]"
      ]
     },
     "execution_count": 40,
     "metadata": {},
     "output_type": "execute_result"
    }
   ],
   "source": [
    "l2"
   ]
  },
  {
   "cell_type": "code",
   "execution_count": 41,
   "id": "6083f8c4",
   "metadata": {},
   "outputs": [
    {
     "data": {
      "text/plain": [
       "[9, 6, 5, 4, 2, 0, -4]"
      ]
     },
     "execution_count": 41,
     "metadata": {},
     "output_type": "execute_result"
    }
   ],
   "source": [
    "l3"
   ]
  },
  {
   "cell_type": "code",
   "execution_count": 42,
   "id": "0b0f59fa",
   "metadata": {},
   "outputs": [
    {
     "data": {
      "text/plain": [
       "2991654641984"
      ]
     },
     "execution_count": 42,
     "metadata": {},
     "output_type": "execute_result"
    }
   ],
   "source": [
    "id(l2)"
   ]
  },
  {
   "cell_type": "code",
   "execution_count": 43,
   "id": "2e802a00",
   "metadata": {},
   "outputs": [
    {
     "data": {
      "text/plain": [
       "2991654641984"
      ]
     },
     "execution_count": 43,
     "metadata": {},
     "output_type": "execute_result"
    }
   ],
   "source": [
    "id(l3)"
   ]
  },
  {
   "cell_type": "code",
   "execution_count": 44,
   "id": "cf70f01d",
   "metadata": {},
   "outputs": [
    {
     "data": {
      "text/plain": [
       "True"
      ]
     },
     "execution_count": 44,
     "metadata": {},
     "output_type": "execute_result"
    }
   ],
   "source": [
    "l2 is l3"
   ]
  },
  {
   "cell_type": "code",
   "execution_count": 45,
   "id": "6fd28361",
   "metadata": {},
   "outputs": [
    {
     "data": {
      "text/plain": [
       "[9, 6, 5, 4, 2, 0, -4]"
      ]
     },
     "execution_count": 45,
     "metadata": {},
     "output_type": "execute_result"
    }
   ],
   "source": [
    "l2"
   ]
  },
  {
   "cell_type": "code",
   "execution_count": 46,
   "id": "57be1fcf",
   "metadata": {},
   "outputs": [],
   "source": [
    "l2[0] = 0"
   ]
  },
  {
   "cell_type": "code",
   "execution_count": 47,
   "id": "92223b8a",
   "metadata": {},
   "outputs": [
    {
     "data": {
      "text/plain": [
       "[0, 6, 5, 4, 2, 0, -4]"
      ]
     },
     "execution_count": 47,
     "metadata": {},
     "output_type": "execute_result"
    }
   ],
   "source": [
    "l2"
   ]
  },
  {
   "cell_type": "code",
   "execution_count": 48,
   "id": "b429dcdf",
   "metadata": {},
   "outputs": [
    {
     "data": {
      "text/plain": [
       "[0, 6, 5, 4, 2, 0, -4]"
      ]
     },
     "execution_count": 48,
     "metadata": {},
     "output_type": "execute_result"
    }
   ],
   "source": [
    "l3"
   ]
  },
  {
   "cell_type": "code",
   "execution_count": 49,
   "id": "32ea99f2",
   "metadata": {},
   "outputs": [],
   "source": [
    "# This is called aliasing!"
   ]
  },
  {
   "cell_type": "code",
   "execution_count": 50,
   "id": "b8d63811",
   "metadata": {},
   "outputs": [],
   "source": [
    "l3.append('hi')"
   ]
  },
  {
   "cell_type": "code",
   "execution_count": 51,
   "id": "d5d6a90b",
   "metadata": {},
   "outputs": [
    {
     "data": {
      "text/plain": [
       "[0, 6, 5, 4, 2, 0, -4, 'hi']"
      ]
     },
     "execution_count": 51,
     "metadata": {},
     "output_type": "execute_result"
    }
   ],
   "source": [
    "l3"
   ]
  },
  {
   "cell_type": "code",
   "execution_count": 52,
   "id": "b7809e15",
   "metadata": {},
   "outputs": [
    {
     "data": {
      "text/plain": [
       "[0, 6, 5, 4, 2, 0, -4, 'hi']"
      ]
     },
     "execution_count": 52,
     "metadata": {},
     "output_type": "execute_result"
    }
   ],
   "source": [
    "l2"
   ]
  },
  {
   "cell_type": "code",
   "execution_count": null,
   "id": "5543a047",
   "metadata": {},
   "outputs": [],
   "source": []
  },
  {
   "cell_type": "code",
   "execution_count": 54,
   "id": "42447e60",
   "metadata": {},
   "outputs": [
    {
     "data": {
      "text/plain": [
       "[0, 6, 5, 4, 2, 0, -4, 'hi']"
      ]
     },
     "execution_count": 54,
     "metadata": {},
     "output_type": "execute_result"
    }
   ],
   "source": [
    "l2"
   ]
  },
  {
   "cell_type": "code",
   "execution_count": 55,
   "id": "311a83c5",
   "metadata": {},
   "outputs": [
    {
     "data": {
      "text/plain": [
       "[0, 6, 5, 4, 2, 0, -4, 'hi']"
      ]
     },
     "execution_count": 55,
     "metadata": {},
     "output_type": "execute_result"
    }
   ],
   "source": [
    "l3"
   ]
  },
  {
   "cell_type": "code",
   "execution_count": null,
   "id": "e80a780e",
   "metadata": {},
   "outputs": [],
   "source": []
  },
  {
   "cell_type": "code",
   "execution_count": 56,
   "id": "1edb9ef5",
   "metadata": {},
   "outputs": [],
   "source": [
    "# Cloning/copy (shallow copy)"
   ]
  },
  {
   "cell_type": "code",
   "execution_count": 57,
   "id": "992089ee",
   "metadata": {},
   "outputs": [],
   "source": [
    "l4 = l2.copy()"
   ]
  },
  {
   "cell_type": "code",
   "execution_count": 58,
   "id": "756cb1fc",
   "metadata": {},
   "outputs": [
    {
     "data": {
      "text/plain": [
       "[0, 6, 5, 4, 2, 0, -4, 'hi']"
      ]
     },
     "execution_count": 58,
     "metadata": {},
     "output_type": "execute_result"
    }
   ],
   "source": [
    "l4"
   ]
  },
  {
   "cell_type": "code",
   "execution_count": 59,
   "id": "a97e040f",
   "metadata": {},
   "outputs": [
    {
     "data": {
      "text/plain": [
       "2991654641984"
      ]
     },
     "execution_count": 59,
     "metadata": {},
     "output_type": "execute_result"
    }
   ],
   "source": [
    "id(l2)"
   ]
  },
  {
   "cell_type": "code",
   "execution_count": 60,
   "id": "bd2ec2bd",
   "metadata": {},
   "outputs": [
    {
     "data": {
      "text/plain": [
       "2991655699584"
      ]
     },
     "execution_count": 60,
     "metadata": {},
     "output_type": "execute_result"
    }
   ],
   "source": [
    "id(l4)"
   ]
  },
  {
   "cell_type": "code",
   "execution_count": 61,
   "id": "8635bee5",
   "metadata": {},
   "outputs": [
    {
     "data": {
      "text/plain": [
       "False"
      ]
     },
     "execution_count": 61,
     "metadata": {},
     "output_type": "execute_result"
    }
   ],
   "source": [
    "l4 is l2"
   ]
  },
  {
   "cell_type": "code",
   "execution_count": 62,
   "id": "07537bcd",
   "metadata": {},
   "outputs": [],
   "source": [
    "l4[0] = 1000000"
   ]
  },
  {
   "cell_type": "code",
   "execution_count": 63,
   "id": "c28bc1fe",
   "metadata": {},
   "outputs": [
    {
     "data": {
      "text/plain": [
       "[1000000, 6, 5, 4, 2, 0, -4, 'hi']"
      ]
     },
     "execution_count": 63,
     "metadata": {},
     "output_type": "execute_result"
    }
   ],
   "source": [
    "l4"
   ]
  },
  {
   "cell_type": "code",
   "execution_count": 64,
   "id": "bd8b6447",
   "metadata": {},
   "outputs": [
    {
     "data": {
      "text/plain": [
       "[0, 6, 5, 4, 2, 0, -4, 'hi']"
      ]
     },
     "execution_count": 64,
     "metadata": {},
     "output_type": "execute_result"
    }
   ],
   "source": [
    "l2"
   ]
  },
  {
   "cell_type": "code",
   "execution_count": null,
   "id": "6ac349ea",
   "metadata": {},
   "outputs": [],
   "source": []
  },
  {
   "cell_type": "code",
   "execution_count": 65,
   "id": "8dd69ed4",
   "metadata": {},
   "outputs": [],
   "source": [
    "student1 = [101, 'John', [56.5, 78.5, 90.0]]"
   ]
  },
  {
   "cell_type": "code",
   "execution_count": 66,
   "id": "6b04d71d",
   "metadata": {},
   "outputs": [
    {
     "data": {
      "text/plain": [
       "[101, 'John', [56.5, 78.5, 90.0]]"
      ]
     },
     "execution_count": 66,
     "metadata": {},
     "output_type": "execute_result"
    }
   ],
   "source": [
    "student1"
   ]
  },
  {
   "cell_type": "code",
   "execution_count": 67,
   "id": "e58179c4",
   "metadata": {},
   "outputs": [],
   "source": [
    "student2 = student1.copy()"
   ]
  },
  {
   "cell_type": "code",
   "execution_count": 68,
   "id": "e2276b4f",
   "metadata": {},
   "outputs": [
    {
     "data": {
      "text/plain": [
       "[101, 'John', [56.5, 78.5, 90.0]]"
      ]
     },
     "execution_count": 68,
     "metadata": {},
     "output_type": "execute_result"
    }
   ],
   "source": [
    "student2"
   ]
  },
  {
   "cell_type": "code",
   "execution_count": 69,
   "id": "ec2e4b02",
   "metadata": {},
   "outputs": [
    {
     "data": {
      "text/plain": [
       "False"
      ]
     },
     "execution_count": 69,
     "metadata": {},
     "output_type": "execute_result"
    }
   ],
   "source": [
    "student1 is student2"
   ]
  },
  {
   "cell_type": "code",
   "execution_count": 70,
   "id": "2912ed5c",
   "metadata": {},
   "outputs": [],
   "source": [
    "student2[0] = 102"
   ]
  },
  {
   "cell_type": "code",
   "execution_count": 71,
   "id": "3f724811",
   "metadata": {},
   "outputs": [
    {
     "data": {
      "text/plain": [
       "[102, 'John', [56.5, 78.5, 90.0]]"
      ]
     },
     "execution_count": 71,
     "metadata": {},
     "output_type": "execute_result"
    }
   ],
   "source": [
    "student2"
   ]
  },
  {
   "cell_type": "code",
   "execution_count": 72,
   "id": "9587da2c",
   "metadata": {},
   "outputs": [
    {
     "data": {
      "text/plain": [
       "[101, 'John', [56.5, 78.5, 90.0]]"
      ]
     },
     "execution_count": 72,
     "metadata": {},
     "output_type": "execute_result"
    }
   ],
   "source": [
    "student1"
   ]
  },
  {
   "cell_type": "code",
   "execution_count": 73,
   "id": "34d9440b",
   "metadata": {},
   "outputs": [],
   "source": [
    "student2[1] = 'Jill'"
   ]
  },
  {
   "cell_type": "code",
   "execution_count": 74,
   "id": "a03a3247",
   "metadata": {},
   "outputs": [
    {
     "data": {
      "text/plain": [
       "[102, 'Jill', [56.5, 78.5, 90.0]]"
      ]
     },
     "execution_count": 74,
     "metadata": {},
     "output_type": "execute_result"
    }
   ],
   "source": [
    "student2"
   ]
  },
  {
   "cell_type": "code",
   "execution_count": 75,
   "id": "b39e2f1f",
   "metadata": {},
   "outputs": [
    {
     "data": {
      "text/plain": [
       "[101, 'John', [56.5, 78.5, 90.0]]"
      ]
     },
     "execution_count": 75,
     "metadata": {},
     "output_type": "execute_result"
    }
   ],
   "source": [
    "student1"
   ]
  },
  {
   "cell_type": "code",
   "execution_count": 76,
   "id": "e9cfde5e",
   "metadata": {},
   "outputs": [],
   "source": [
    "student2[-1][0] = 67.0"
   ]
  },
  {
   "cell_type": "code",
   "execution_count": 77,
   "id": "b04a8966",
   "metadata": {},
   "outputs": [
    {
     "data": {
      "text/plain": [
       "[102, 'Jill', [67.0, 78.5, 90.0]]"
      ]
     },
     "execution_count": 77,
     "metadata": {},
     "output_type": "execute_result"
    }
   ],
   "source": [
    "student2"
   ]
  },
  {
   "cell_type": "code",
   "execution_count": 78,
   "id": "07745715",
   "metadata": {},
   "outputs": [
    {
     "data": {
      "text/plain": [
       "[101, 'John', [67.0, 78.5, 90.0]]"
      ]
     },
     "execution_count": 78,
     "metadata": {},
     "output_type": "execute_result"
    }
   ],
   "source": [
    "student1"
   ]
  },
  {
   "cell_type": "code",
   "execution_count": 79,
   "id": "fa465f1f",
   "metadata": {},
   "outputs": [],
   "source": [
    "# The inner list memory address is same. Hence, it is changing!!!"
   ]
  },
  {
   "attachments": {
    "ShallowCopy.JPG": {
     "image/jpeg": "[encoded data removed]"
    }
   },
   "cell_type": "markdown",
   "id": "e7526201",
   "metadata": {},
   "source": [
    "![ShallowCopy.JPG](attachment:ShallowCopy.JPG)"
   ]
  },
  {
   "cell_type": "code",
   "execution_count": null,
   "id": "c1cc9753",
   "metadata": {},
   "outputs": [],
   "source": []
  },
  {
   "cell_type": "code",
   "execution_count": 80,
   "id": "32e353f2",
   "metadata": {},
   "outputs": [],
   "source": [
    "# Deep copy!!"
   ]
  },
  {
   "cell_type": "code",
   "execution_count": 81,
   "id": "b758f4e9",
   "metadata": {},
   "outputs": [],
   "source": [
    "# In deep copy, the inner elements are also copied and will have different memory addresses"
   ]
  },
  {
   "cell_type": "code",
   "execution_count": 82,
   "id": "50978612",
   "metadata": {},
   "outputs": [],
   "source": [
    "# 'copy' module has to be imported and deepcopy() has to be used for deep copy!!"
   ]
  },
  {
   "cell_type": "code",
   "execution_count": 83,
   "id": "5e89154b",
   "metadata": {},
   "outputs": [],
   "source": [
    "import copy"
   ]
  },
  {
   "cell_type": "code",
   "execution_count": 84,
   "id": "33b38133",
   "metadata": {},
   "outputs": [
    {
     "data": {
      "text/plain": [
       "[101, 'John', [67.0, 78.5, 90.0]]"
      ]
     },
     "execution_count": 84,
     "metadata": {},
     "output_type": "execute_result"
    }
   ],
   "source": [
    "student1"
   ]
  },
  {
   "cell_type": "code",
   "execution_count": 85,
   "id": "6e401259",
   "metadata": {},
   "outputs": [
    {
     "data": {
      "text/plain": [
       "[102, 'Jill', [67.0, 78.5, 90.0]]"
      ]
     },
     "execution_count": 85,
     "metadata": {},
     "output_type": "execute_result"
    }
   ],
   "source": [
    "student2"
   ]
  },
  {
   "cell_type": "code",
   "execution_count": 86,
   "id": "9ac0f7bc",
   "metadata": {},
   "outputs": [],
   "source": [
    "student3 = copy.deepcopy(student1)"
   ]
  },
  {
   "cell_type": "code",
   "execution_count": 87,
   "id": "27de51cb",
   "metadata": {},
   "outputs": [
    {
     "data": {
      "text/plain": [
       "[101, 'John', [67.0, 78.5, 90.0]]"
      ]
     },
     "execution_count": 87,
     "metadata": {},
     "output_type": "execute_result"
    }
   ],
   "source": [
    "student3"
   ]
  },
  {
   "cell_type": "code",
   "execution_count": 88,
   "id": "e49d4e75",
   "metadata": {},
   "outputs": [
    {
     "data": {
      "text/plain": [
       "2991654539392"
      ]
     },
     "execution_count": 88,
     "metadata": {},
     "output_type": "execute_result"
    }
   ],
   "source": [
    "id(student3)"
   ]
  },
  {
   "cell_type": "code",
   "execution_count": 89,
   "id": "55d4409f",
   "metadata": {},
   "outputs": [
    {
     "data": {
      "text/plain": [
       "2991655744512"
      ]
     },
     "execution_count": 89,
     "metadata": {},
     "output_type": "execute_result"
    }
   ],
   "source": [
    "id(student1)"
   ]
  },
  {
   "cell_type": "code",
   "execution_count": 90,
   "id": "ea92076c",
   "metadata": {},
   "outputs": [
    {
     "data": {
      "text/plain": [
       "2991655750016"
      ]
     },
     "execution_count": 90,
     "metadata": {},
     "output_type": "execute_result"
    }
   ],
   "source": [
    "id(student1[2])"
   ]
  },
  {
   "cell_type": "code",
   "execution_count": 91,
   "id": "f1e5a40e",
   "metadata": {},
   "outputs": [
    {
     "data": {
      "text/plain": [
       "2991654546816"
      ]
     },
     "execution_count": 91,
     "metadata": {},
     "output_type": "execute_result"
    }
   ],
   "source": [
    "id(student3[2])"
   ]
  },
  {
   "cell_type": "code",
   "execution_count": 92,
   "id": "6ea2b5bf",
   "metadata": {},
   "outputs": [
    {
     "data": {
      "text/plain": [
       "2991655750016"
      ]
     },
     "execution_count": 92,
     "metadata": {},
     "output_type": "execute_result"
    }
   ],
   "source": [
    "id(student2[2])"
   ]
  },
  {
   "cell_type": "code",
   "execution_count": null,
   "id": "13531c81",
   "metadata": {},
   "outputs": [],
   "source": []
  },
  {
   "cell_type": "code",
   "execution_count": 93,
   "id": "4a16387f",
   "metadata": {},
   "outputs": [],
   "source": [
    "student3[2][0] = 77.5"
   ]
  },
  {
   "cell_type": "code",
   "execution_count": 94,
   "id": "c57e157c",
   "metadata": {},
   "outputs": [
    {
     "data": {
      "text/plain": [
       "[101, 'John', [77.5, 78.5, 90.0]]"
      ]
     },
     "execution_count": 94,
     "metadata": {},
     "output_type": "execute_result"
    }
   ],
   "source": [
    "student3"
   ]
  },
  {
   "cell_type": "code",
   "execution_count": 95,
   "id": "ad734ecb",
   "metadata": {},
   "outputs": [
    {
     "data": {
      "text/plain": [
       "[101, 'John', [67.0, 78.5, 90.0]]"
      ]
     },
     "execution_count": 95,
     "metadata": {},
     "output_type": "execute_result"
    }
   ],
   "source": [
    "student1"
   ]
  },
  {
   "cell_type": "code",
   "execution_count": 96,
   "id": "d92db2b3",
   "metadata": {},
   "outputs": [],
   "source": [
    "# Here, the memory addresses of inner lists are different!!! => DEEPCOPY"
   ]
  },
  {
   "cell_type": "code",
   "execution_count": null,
   "id": "83cad7ea",
   "metadata": {},
   "outputs": [],
   "source": []
  },
  {
   "cell_type": "code",
   "execution_count": 97,
   "id": "6ae74a03",
   "metadata": {},
   "outputs": [
    {
     "data": {
      "text/plain": [
       "[0, 1, 1, 1, 3, 3, 3, 3, 3, 8, 9, 10]"
      ]
     },
     "execution_count": 97,
     "metadata": {},
     "output_type": "execute_result"
    }
   ],
   "source": [
    "l1"
   ]
  },
  {
   "cell_type": "code",
   "execution_count": 98,
   "id": "c81ba4f9",
   "metadata": {},
   "outputs": [],
   "source": [
    "l1.clear()"
   ]
  },
  {
   "cell_type": "code",
   "execution_count": 99,
   "id": "942ca37f",
   "metadata": {},
   "outputs": [
    {
     "data": {
      "text/plain": [
       "[]"
      ]
     },
     "execution_count": 99,
     "metadata": {},
     "output_type": "execute_result"
    }
   ],
   "source": [
    "l1"
   ]
  },
  {
   "cell_type": "code",
   "execution_count": null,
   "id": "c26170ea",
   "metadata": {},
   "outputs": [],
   "source": []
  },
  {
   "cell_type": "code",
   "execution_count": 100,
   "id": "d7d0aa78",
   "metadata": {},
   "outputs": [],
   "source": [
    "# List Comprehension"
   ]
  },
  {
   "cell_type": "code",
   "execution_count": 101,
   "id": "d70c867f",
   "metadata": {},
   "outputs": [],
   "source": [
    "# represents creation of a new list using an iterable object (list, str, set, dict, tuple, ..) in a single line"
   ]
  },
  {
   "cell_type": "code",
   "execution_count": 103,
   "id": "a90e4481",
   "metadata": {},
   "outputs": [],
   "source": [
    "l3 = [5, 2, -1, 6, 4]"
   ]
  },
  {
   "cell_type": "code",
   "execution_count": 104,
   "id": "dba8146a",
   "metadata": {},
   "outputs": [
    {
     "data": {
      "text/plain": [
       "[5, 2, -1, 6, 4]"
      ]
     },
     "execution_count": 104,
     "metadata": {},
     "output_type": "execute_result"
    }
   ],
   "source": [
    "l3"
   ]
  },
  {
   "cell_type": "code",
   "execution_count": 106,
   "id": "7e378543",
   "metadata": {},
   "outputs": [],
   "source": [
    "# WAP to get a new list => [25, 4, 1, 36, 16] from l3"
   ]
  },
  {
   "cell_type": "code",
   "execution_count": 107,
   "id": "d9138d27",
   "metadata": {},
   "outputs": [
    {
     "name": "stdout",
     "output_type": "stream",
     "text": [
      "[25, 4, 1, 36, 16]\n"
     ]
    }
   ],
   "source": [
    "out = []\n",
    "\n",
    "for i in l3:\n",
    "    square = i ** 2 # i * i\n",
    "    out.append(square)\n",
    "    \n",
    "print(out)"
   ]
  },
  {
   "cell_type": "code",
   "execution_count": 108,
   "id": "609ae646",
   "metadata": {},
   "outputs": [
    {
     "name": "stdout",
     "output_type": "stream",
     "text": [
      "[25, 4, 1, 36, 16]\n"
     ]
    }
   ],
   "source": [
    "out = []\n",
    "\n",
    "for i in l3:\n",
    "    out.append(i**2)\n",
    "    \n",
    "print(out)"
   ]
  },
  {
   "cell_type": "code",
   "execution_count": null,
   "id": "8ab49261",
   "metadata": {},
   "outputs": [],
   "source": []
  },
  {
   "cell_type": "code",
   "execution_count": 109,
   "id": "323bf970",
   "metadata": {},
   "outputs": [],
   "source": [
    "res = [i**2 for i in l3]"
   ]
  },
  {
   "cell_type": "code",
   "execution_count": 110,
   "id": "509a7d69",
   "metadata": {},
   "outputs": [
    {
     "data": {
      "text/plain": [
       "[25, 4, 1, 36, 16]"
      ]
     },
     "execution_count": 110,
     "metadata": {},
     "output_type": "execute_result"
    }
   ],
   "source": [
    "res"
   ]
  },
  {
   "cell_type": "code",
   "execution_count": null,
   "id": "80ec1f23",
   "metadata": {},
   "outputs": [],
   "source": []
  },
  {
   "cell_type": "code",
   "execution_count": 111,
   "id": "a832f18e",
   "metadata": {},
   "outputs": [
    {
     "data": {
      "text/plain": [
       "[5, 2, -1, 6, 4]"
      ]
     },
     "execution_count": 111,
     "metadata": {},
     "output_type": "execute_result"
    }
   ],
   "source": [
    "l3"
   ]
  },
  {
   "cell_type": "code",
   "execution_count": 114,
   "id": "8b0888e6",
   "metadata": {},
   "outputs": [],
   "source": [
    "l4 = [4, 6, 3, 7, 2]"
   ]
  },
  {
   "cell_type": "code",
   "execution_count": 116,
   "id": "48fd1294",
   "metadata": {},
   "outputs": [
    {
     "data": {
      "text/plain": [
       "[4, 6, 3, 7, 2]"
      ]
     },
     "execution_count": 116,
     "metadata": {},
     "output_type": "execute_result"
    }
   ],
   "source": [
    "l4"
   ]
  },
  {
   "cell_type": "code",
   "execution_count": 117,
   "id": "fc4acf92",
   "metadata": {},
   "outputs": [],
   "source": [
    "# WAP to get a new list => [64, 216, 9, 49, 8] from l4"
   ]
  },
  {
   "cell_type": "code",
   "execution_count": 118,
   "id": "22b61cbf",
   "metadata": {},
   "outputs": [],
   "source": [
    "# If the element is even, cube it.\n",
    "# If the element is odd, square it."
   ]
  },
  {
   "cell_type": "code",
   "execution_count": 119,
   "id": "a98b1366",
   "metadata": {},
   "outputs": [
    {
     "name": "stdout",
     "output_type": "stream",
     "text": [
      "[64, 216, 9, 49, 8]\n"
     ]
    }
   ],
   "source": [
    "out = []\n",
    "\n",
    "for i in l4:\n",
    "    if i % 2 == 0: # if i is even\n",
    "        out.append(i ** 3)\n",
    "    else: # odd\n",
    "        out.append(i ** 2)\n",
    "        \n",
    "print(out)"
   ]
  },
  {
   "cell_type": "code",
   "execution_count": null,
   "id": "2ac2f114",
   "metadata": {},
   "outputs": [],
   "source": []
  },
  {
   "cell_type": "code",
   "execution_count": 120,
   "id": "4e319834",
   "metadata": {},
   "outputs": [],
   "source": [
    "# Using list comprehension"
   ]
  },
  {
   "cell_type": "code",
   "execution_count": 121,
   "id": "3a8ae7ee",
   "metadata": {},
   "outputs": [
    {
     "data": {
      "text/plain": [
       "[4, 6, 3, 7, 2]"
      ]
     },
     "execution_count": 121,
     "metadata": {},
     "output_type": "execute_result"
    }
   ],
   "source": [
    "l4"
   ]
  },
  {
   "cell_type": "code",
   "execution_count": 122,
   "id": "3d63e084",
   "metadata": {},
   "outputs": [],
   "source": [
    "res = [i**3 if i%2 == 0 else i**2 for i in l4]"
   ]
  },
  {
   "cell_type": "code",
   "execution_count": 123,
   "id": "1467fcba",
   "metadata": {},
   "outputs": [
    {
     "data": {
      "text/plain": [
       "[64, 216, 9, 49, 8]"
      ]
     },
     "execution_count": 123,
     "metadata": {},
     "output_type": "execute_result"
    }
   ],
   "source": [
    "res"
   ]
  },
  {
   "cell_type": "code",
   "execution_count": null,
   "id": "c623dc9f",
   "metadata": {},
   "outputs": [],
   "source": []
  },
  {
   "cell_type": "code",
   "execution_count": 124,
   "id": "6b9ebcd8",
   "metadata": {},
   "outputs": [],
   "source": [
    "l1=[1,2,3,4,5,6]\n",
    "res=[i**3 if i%2==0 else i**2 for i in l1]\n"
   ]
  },
  {
   "cell_type": "code",
   "execution_count": 125,
   "id": "6f30832f",
   "metadata": {},
   "outputs": [
    {
     "data": {
      "text/plain": [
       "[1, 8, 9, 64, 25, 216]"
      ]
     },
     "execution_count": 125,
     "metadata": {},
     "output_type": "execute_result"
    }
   ],
   "source": [
    "res"
   ]
  },
  {
   "cell_type": "code",
   "execution_count": null,
   "id": "e9172591",
   "metadata": {},
   "outputs": [],
   "source": []
  }
 ],
 "metadata": {
  "kernelspec": {
   "display_name": "Python 3 (ipykernel)",
   "language": "python",
   "name": "python3"
  },
  "language_info": {
   "codemirror_mode": {
    "name": "ipython",
    "version": 3
   },
   "file_extension": ".py",
   "mimetype": "text/x-python",
   "name": "python",
   "nbconvert_exporter": "python",
   "pygments_lexer": "ipython3",
   "version": "3.11.4"
  }
 },
 "nbformat": 4,
 "nbformat_minor": 5
}
