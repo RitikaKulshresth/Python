{
 "cells": [
  {
   "cell_type": "code",
   "execution_count": 1,
   "id": "a5fcfe8e",
   "metadata": {},
   "outputs": [],
   "source": [
    "marks = 55"
   ]
  },
  {
   "cell_type": "code",
   "execution_count": 2,
   "id": "134ec0cf",
   "metadata": {},
   "outputs": [
    {
     "data": {
      "text/plain": [
       "False"
      ]
     },
     "execution_count": 2,
     "metadata": {},
     "output_type": "execute_result"
    }
   ],
   "source": [
    "marks >= 60"
   ]
  },
  {
   "cell_type": "code",
   "execution_count": 3,
   "id": "1c344d03",
   "metadata": {},
   "outputs": [],
   "source": [
    "marks = 76"
   ]
  },
  {
   "cell_type": "code",
   "execution_count": 4,
   "id": "323b1bc6",
   "metadata": {},
   "outputs": [
    {
     "data": {
      "text/plain": [
       "True"
      ]
     },
     "execution_count": 4,
     "metadata": {},
     "output_type": "execute_result"
    }
   ],
   "source": [
    "marks >= 60"
   ]
  },
  {
   "cell_type": "code",
   "execution_count": 5,
   "id": "90a16c29",
   "metadata": {},
   "outputs": [],
   "source": [
    "# if statement"
   ]
  },
  {
   "cell_type": "code",
   "execution_count": 6,
   "id": "b30e5537",
   "metadata": {},
   "outputs": [],
   "source": [
    "# if condition:\n",
    "#     statement1\n",
    "#     statement2\n",
    "#     ...\n",
    "#     statementN"
   ]
  },
  {
   "cell_type": "code",
   "execution_count": 7,
   "id": "ddd9bc58",
   "metadata": {},
   "outputs": [
    {
     "name": "stdout",
     "output_type": "stream",
     "text": [
      "It is a negative number\n",
      "Bye\n"
     ]
    }
   ],
   "source": [
    "num = -3\n",
    "\n",
    "if num < 0:\n",
    "    print(\"It is a negative number\")\n",
    "    print('Bye')"
   ]
  },
  {
   "cell_type": "code",
   "execution_count": 8,
   "id": "7782c648",
   "metadata": {},
   "outputs": [],
   "source": [
    "num = 10\n",
    "\n",
    "if num < 0:\n",
    "    print(\"It is a negative number\")\n",
    "    print('Bye')"
   ]
  },
  {
   "cell_type": "code",
   "execution_count": 9,
   "id": "5abece46",
   "metadata": {},
   "outputs": [
    {
     "name": "stdout",
     "output_type": "stream",
     "text": [
      "We are learning 'if'\n"
     ]
    }
   ],
   "source": [
    "num = 10\n",
    "\n",
    "if num < 0:\n",
    "    print(\"It is a negative number\")\n",
    "    print('Bye')\n",
    "print(\"We are learning 'if'\") # outside the if block"
   ]
  },
  {
   "cell_type": "code",
   "execution_count": 10,
   "id": "7f00893d",
   "metadata": {},
   "outputs": [
    {
     "name": "stdout",
     "output_type": "stream",
     "text": [
      "It is a negative number\n",
      "Bye\n",
      "We are learning 'if'\n"
     ]
    }
   ],
   "source": [
    "num = -3\n",
    "\n",
    "if num < 0:\n",
    "    print(\"It is a negative number\")\n",
    "    print('Bye')\n",
    "print(\"We are learning 'if'\") # outside the if block"
   ]
  },
  {
   "cell_type": "code",
   "execution_count": 11,
   "id": "5251cadc",
   "metadata": {},
   "outputs": [],
   "source": [
    "# if-else"
   ]
  },
  {
   "cell_type": "code",
   "execution_count": 12,
   "id": "99489409",
   "metadata": {},
   "outputs": [],
   "source": [
    "# if condition:\n",
    "#     statement1\n",
    "#     statement2\n",
    "#     ...\n",
    "#     statementN\n",
    "# else:\n",
    "#     statement1\n",
    "#     statement2\n",
    "#     ...\n",
    "#     statementM"
   ]
  },
  {
   "cell_type": "code",
   "execution_count": 13,
   "id": "f929dfae",
   "metadata": {},
   "outputs": [
    {
     "name": "stdout",
     "output_type": "stream",
     "text": [
      "The student is pass\n",
      "Bye\n",
      "We are learning 'if'\n"
     ]
    }
   ],
   "source": [
    "marks = 90\n",
    "\n",
    "if marks >= 60:\n",
    "    print(\"The student is pass\")\n",
    "    print('Bye')\n",
    "else:\n",
    "    print(\"The student is fail\")\n",
    "    print(\"Work harder!!!\")\n",
    "\n",
    "print(\"We are learning 'if'\") # outside the if block"
   ]
  },
  {
   "cell_type": "code",
   "execution_count": 14,
   "id": "bbc8fe4b",
   "metadata": {},
   "outputs": [
    {
     "name": "stdout",
     "output_type": "stream",
     "text": [
      "The student is fail\n",
      "Work harder!!!\n",
      "We are learning 'if'\n"
     ]
    }
   ],
   "source": [
    "marks = 55\n",
    "\n",
    "if marks >= 60:\n",
    "    print(\"The student is pass\")\n",
    "    print('Bye')\n",
    "else:\n",
    "    print(\"The student is fail\")\n",
    "    print(\"Work harder!!!\")\n",
    "\n",
    "print(\"We are learning 'if'\") # outside the if block"
   ]
  },
  {
   "cell_type": "code",
   "execution_count": 15,
   "id": "2d1c5e68",
   "metadata": {},
   "outputs": [
    {
     "name": "stdout",
     "output_type": "stream",
     "text": [
      "It is a positive number!\n"
     ]
    }
   ],
   "source": [
    "num = 10\n",
    "\n",
    "if num < 0:\n",
    "    print(\"It is a negative number\")\n",
    "    print('Bye')\n",
    "else:\n",
    "    print(\"It is a positive number!\")"
   ]
  },
  {
   "cell_type": "code",
   "execution_count": 16,
   "id": "389a51e9",
   "metadata": {},
   "outputs": [
    {
     "name": "stdout",
     "output_type": "stream",
     "text": [
      "It is a positive number!\n"
     ]
    }
   ],
   "source": [
    "num = 0\n",
    "\n",
    "if num < 0:\n",
    "    print(\"It is a negative number\")\n",
    "    print('Bye')\n",
    "else:\n",
    "    print(\"It is a positive number!\")"
   ]
  },
  {
   "cell_type": "code",
   "execution_count": 17,
   "id": "f1a2e458",
   "metadata": {},
   "outputs": [],
   "source": [
    "# if-elif-else"
   ]
  },
  {
   "cell_type": "code",
   "execution_count": 18,
   "id": "18514dae",
   "metadata": {},
   "outputs": [
    {
     "name": "stdout",
     "output_type": "stream",
     "text": [
      "Neither positive nor negative. It's ZERO!!!\n"
     ]
    }
   ],
   "source": [
    "num = 0\n",
    "if num == 0:\n",
    "    print(\"Neither positive nor negative. It's ZERO!!!\")\n",
    "elif num < 0:\n",
    "    print(\"Negative\")\n",
    "else:\n",
    "    print(\"Positive\")"
   ]
  },
  {
   "cell_type": "code",
   "execution_count": 19,
   "id": "9fcfc071",
   "metadata": {},
   "outputs": [
    {
     "name": "stdout",
     "output_type": "stream",
     "text": [
      "Positive\n"
     ]
    }
   ],
   "source": [
    "num = 10\n",
    "if num == 0:\n",
    "    print(\"Neither positive nor negative. It's ZERO!!!\")\n",
    "elif num < 0:\n",
    "    print(\"Negative\")\n",
    "else:\n",
    "    print(\"Positive\")"
   ]
  },
  {
   "cell_type": "code",
   "execution_count": 20,
   "id": "e79903ee",
   "metadata": {},
   "outputs": [
    {
     "name": "stdout",
     "output_type": "stream",
     "text": [
      "Negative\n"
     ]
    }
   ],
   "source": [
    "num = -2\n",
    "if num == 0:\n",
    "    print(\"Neither positive nor negative. It's ZERO!!!\")\n",
    "elif num < 0:\n",
    "    print(\"Negative\")\n",
    "else:\n",
    "    print(\"Positive\")"
   ]
  },
  {
   "cell_type": "code",
   "execution_count": null,
   "id": "877fa9d7",
   "metadata": {},
   "outputs": [],
   "source": []
  },
  {
   "cell_type": "code",
   "execution_count": 21,
   "id": "ee021bbc",
   "metadata": {},
   "outputs": [],
   "source": [
    "# get the grade of a student from the marks\n",
    "\n",
    "# if marks is equal to or more than 90, grade should be 'A'\n",
    "# if marks is equal to or more than 80 but less than 90, grade should be 'B'\n",
    "# if marks is equal to or more than 70 but less than 80, grade should be 'C'\n",
    "# if marks is equal to or more than 60 but less than 70, grade should be 'D'\n",
    "# if marks is less than 60, grade is 'F'"
   ]
  },
  {
   "cell_type": "code",
   "execution_count": 22,
   "id": "78a078e5",
   "metadata": {},
   "outputs": [
    {
     "name": "stdout",
     "output_type": "stream",
     "text": [
      "A\n"
     ]
    }
   ],
   "source": [
    "marks = 90\n",
    "\n",
    "if marks >= 90:\n",
    "    print('A')\n",
    "elif marks >= 80 and marks < 90:\n",
    "    print('B')\n",
    "elif marks >= 70 and marks < 80:\n",
    "    print('C')\n",
    "elif marks >= 60 and marks < 70:\n",
    "    print('D')\n",
    "else:\n",
    "    print('F')"
   ]
  },
  {
   "cell_type": "code",
   "execution_count": 23,
   "id": "abd42631",
   "metadata": {},
   "outputs": [
    {
     "name": "stdout",
     "output_type": "stream",
     "text": [
      "B\n"
     ]
    }
   ],
   "source": [
    "marks = 84\n",
    "\n",
    "if marks >= 90:\n",
    "    print('A')\n",
    "elif marks >= 80 and marks < 90:\n",
    "    print('B')\n",
    "elif marks >= 70 and marks < 80:\n",
    "    print('C')\n",
    "elif marks >= 60 and marks < 70:\n",
    "    print('D')\n",
    "else:\n",
    "    print('F')"
   ]
  },
  {
   "cell_type": "code",
   "execution_count": 24,
   "id": "a32b8b86",
   "metadata": {},
   "outputs": [
    {
     "name": "stdout",
     "output_type": "stream",
     "text": [
      "F\n"
     ]
    }
   ],
   "source": [
    "marks = 54\n",
    "\n",
    "if marks >= 90:\n",
    "    print('A')\n",
    "elif marks >= 80 and marks < 90:\n",
    "    print('B')\n",
    "elif marks >= 70 and marks < 80:\n",
    "    print('C')\n",
    "elif marks >= 60 and marks < 70:\n",
    "    print('D')\n",
    "else:\n",
    "    print('F')"
   ]
  },
  {
   "cell_type": "code",
   "execution_count": 25,
   "id": "862ffe6f",
   "metadata": {},
   "outputs": [
    {
     "name": "stdout",
     "output_type": "stream",
     "text": [
      "C\n"
     ]
    }
   ],
   "source": [
    "marks = 75\n",
    "\n",
    "if marks >= 90:\n",
    "    print('A')\n",
    "elif marks >= 80:\n",
    "    print('B')\n",
    "elif marks >= 70:\n",
    "    print('C')\n",
    "elif marks >= 60:\n",
    "    print('D')\n",
    "else:\n",
    "    print('F')"
   ]
  },
  {
   "cell_type": "code",
   "execution_count": 26,
   "id": "30ef21ba",
   "metadata": {},
   "outputs": [
    {
     "ename": "IndentationError",
     "evalue": "expected an indented block after 'if' statement on line 3 (3460486818.py, line 4)",
     "output_type": "error",
     "traceback": [
      "\u001b[1;36m  Cell \u001b[1;32mIn[26], line 4\u001b[1;36m\u001b[0m\n\u001b[1;33m    print('A')\u001b[0m\n\u001b[1;37m    ^\u001b[0m\n\u001b[1;31mIndentationError\u001b[0m\u001b[1;31m:\u001b[0m expected an indented block after 'if' statement on line 3\n"
     ]
    }
   ],
   "source": [
    "marks = 75\n",
    "\n",
    "if marks >= 90:\n",
    "print('A')\n",
    "elif marks >= 80:\n",
    "    print('B')\n",
    "elif marks >= 70:\n",
    "    print('C')\n",
    "elif marks >= 60:\n",
    "    print('D')\n",
    "else:\n",
    "    print('F')"
   ]
  },
  {
   "cell_type": "code",
   "execution_count": 27,
   "id": "7cdd990f",
   "metadata": {},
   "outputs": [
    {
     "name": "stdout",
     "output_type": "stream",
     "text": [
      "C\n"
     ]
    }
   ],
   "source": [
    "marks = 85\n",
    "\n",
    "if marks >= 90:\n",
    "    print('A')\n",
    "elif marks >= 70:\n",
    "    print('C')\n",
    "elif marks >= 80:\n",
    "    print('B')\n",
    "elif marks >= 60:\n",
    "    print('D')\n",
    "else:\n",
    "    print('F')"
   ]
  },
  {
   "cell_type": "code",
   "execution_count": 28,
   "id": "ee251f82",
   "metadata": {},
   "outputs": [
    {
     "name": "stdout",
     "output_type": "stream",
     "text": [
      "B\n"
     ]
    }
   ],
   "source": [
    "marks = 85\n",
    "\n",
    "if marks >= 90:\n",
    "    print('A')\n",
    "elif marks >= 70 and marks < 80:\n",
    "    print('C')\n",
    "elif marks >= 80 and marks < 90:\n",
    "    print('B')\n",
    "\n",
    "elif marks >= 60 and marks < 70:\n",
    "    print('D')\n",
    "else:\n",
    "    print('F')"
   ]
  },
  {
   "cell_type": "code",
   "execution_count": 29,
   "id": "4b9fc1cf",
   "metadata": {},
   "outputs": [
    {
     "name": "stdout",
     "output_type": "stream",
     "text": [
      "C\n",
      "B\n",
      "D\n"
     ]
    }
   ],
   "source": [
    "marks = 85\n",
    "\n",
    "if marks >= 90:\n",
    "    print('A')\n",
    "if marks >= 70:\n",
    "    print('C')\n",
    "if marks >= 80:\n",
    "    print('B')\n",
    "if marks >= 60:\n",
    "    print('D')\n",
    "else:\n",
    "    print('F')"
   ]
  },
  {
   "cell_type": "code",
   "execution_count": null,
   "id": "bd6911ac",
   "metadata": {},
   "outputs": [],
   "source": []
  }
 ],
 "metadata": {
  "kernelspec": {
   "display_name": "Python 3 (ipykernel)",
   "language": "python",
   "name": "python3"
  },
  "language_info": {
   "codemirror_mode": {
    "name": "ipython",
    "version": 3
   },
   "file_extension": ".py",
   "mimetype": "text/x-python",
   "name": "python",
   "nbconvert_exporter": "python",
   "pygments_lexer": "ipython3",
   "version": "3.11.4"
  }
 },
 "nbformat": 4,
 "nbformat_minor": 5
}
