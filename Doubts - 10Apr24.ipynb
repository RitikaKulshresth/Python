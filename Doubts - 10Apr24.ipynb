{
 "cells": [
  {
   "cell_type": "code",
   "execution_count": 1,
   "id": "fe42e757",
   "metadata": {},
   "outputs": [],
   "source": [
    "# Q. Write a python program to find below output using loop:-\n",
    "# Input:- 'peter piper picked a peck of pickled peppers.'\n",
    "# Output:- 'Peter Piper Picked A Peck Of Pickled Peppers'\n"
   ]
  },
  {
   "cell_type": "code",
   "execution_count": 2,
   "id": "ce36cb59",
   "metadata": {},
   "outputs": [
    {
     "name": "stdout",
     "output_type": "stream",
     "text": [
      "P\n",
      "e\n",
      "t\n",
      "e\n",
      "r\n",
      " \n",
      "p\n",
      "i\n",
      "p\n",
      "e\n",
      "r\n",
      " \n",
      "p\n",
      "i\n",
      "c\n",
      "k\n",
      "e\n",
      "d\n",
      " \n",
      "a\n",
      " \n",
      "p\n",
      "e\n",
      "c\n",
      "k\n",
      " \n",
      "o\n",
      "f\n",
      " \n",
      "p\n",
      "i\n",
      "c\n",
      "k\n",
      "l\n",
      "e\n",
      "d\n",
      " \n",
      "p\n",
      "e\n",
      "p\n",
      "p\n",
      "e\n",
      "r\n",
      "s\n",
      ".\n"
     ]
    }
   ],
   "source": [
    "str1 = 'peter piper picked a peck of pickled peppers.'\n",
    "str2 = ''\n",
    "for i in range(len(str1)):\n",
    "    if i == 0:\n",
    "        caps_letter = chr(ord(str1[i]) - 32)\n",
    "        print(caps_letter)\n",
    "    else:\n",
    "        print(str1[i])"
   ]
  },
  {
   "cell_type": "code",
   "execution_count": 7,
   "id": "63cb8bea",
   "metadata": {},
   "outputs": [
    {
     "name": "stdout",
     "output_type": "stream",
     "text": [
      "Peter Piper Picked A Peck Of Pickled Peppers.\n"
     ]
    }
   ],
   "source": [
    "str1 = 'peter piper picked a peck of pickled peppers.'\n",
    "str2 = ''\n",
    "\n",
    "i = 0\n",
    "\n",
    "while i < len(str1):\n",
    "    if i == 0:\n",
    "        caps_letter = chr(ord(str1[i]) - 32)\n",
    "        str2 += caps_letter\n",
    "    elif str1[i] == ' ':\n",
    "        str2 += ' '\n",
    "        caps_letter = chr(ord(str1[i+1]) - 32)\n",
    "        str2 += caps_letter\n",
    "        i += 1\n",
    "    else:\n",
    "        str2 += str1[i]\n",
    "        \n",
    "    i += 1\n",
    "    \n",
    "print(str2)"
   ]
  },
  {
   "cell_type": "code",
   "execution_count": null,
   "id": "50d210ef",
   "metadata": {},
   "outputs": [],
   "source": []
  },
  {
   "cell_type": "code",
   "execution_count": 8,
   "id": "8549590d",
   "metadata": {},
   "outputs": [],
   "source": [
    "# # write a python program to find below output using loop:-\n",
    "# input: peter piper picked a peck of pickled peppers.\n",
    "# output:peppers pickled of peck a picked piper peter\n"
   ]
  },
  {
   "cell_type": "code",
   "execution_count": 9,
   "id": "4e847fa2",
   "metadata": {},
   "outputs": [],
   "source": [
    "str1 = 'peter piper picked a peck of pickled peppers.'"
   ]
  },
  {
   "cell_type": "code",
   "execution_count": 10,
   "id": "88951f07",
   "metadata": {},
   "outputs": [
    {
     "data": {
      "text/plain": [
       "'peter piper picked a peck of pickled peppers.'"
      ]
     },
     "execution_count": 10,
     "metadata": {},
     "output_type": "execute_result"
    }
   ],
   "source": [
    "str1"
   ]
  },
  {
   "cell_type": "code",
   "execution_count": 11,
   "id": "1e43cf23",
   "metadata": {},
   "outputs": [
    {
     "name": "stdout",
     "output_type": "stream",
     "text": [
      ".\n",
      "s\n",
      "r\n",
      "e\n",
      "p\n",
      "p\n",
      "e\n",
      "p\n",
      " \n",
      "d\n",
      "e\n",
      "l\n",
      "k\n",
      "c\n",
      "i\n",
      "p\n",
      " \n",
      "f\n",
      "o\n",
      " \n",
      "k\n",
      "c\n",
      "e\n",
      "p\n",
      " \n",
      "a\n",
      " \n",
      "d\n",
      "e\n",
      "k\n",
      "c\n",
      "i\n",
      "p\n",
      " \n",
      "r\n",
      "e\n",
      "p\n",
      "i\n",
      "p\n",
      " \n",
      "r\n",
      "e\n",
      "t\n",
      "e\n",
      "p\n"
     ]
    }
   ],
   "source": [
    "for i in str1[::-1]:\n",
    "    print(i)"
   ]
  },
  {
   "cell_type": "code",
   "execution_count": 16,
   "id": "14c23626",
   "metadata": {},
   "outputs": [
    {
     "name": "stdout",
     "output_type": "stream",
     "text": [
      "peppers. pickled of peck a picked piper \n"
     ]
    }
   ],
   "source": [
    "temp_str = ''\n",
    "str2 = ''\n",
    "\n",
    "for i in str1[::-1]:\n",
    "    if i == ' ':\n",
    "        str2 += temp_str[::-1] + ' '\n",
    "        temp_str = ''\n",
    "    else:\n",
    "        temp_str += i\n",
    "        \n",
    "print(str2)"
   ]
  },
  {
   "cell_type": "code",
   "execution_count": 14,
   "id": "c346d574",
   "metadata": {},
   "outputs": [
    {
     "data": {
      "text/plain": [
       "'peter piper picked a peck of pickled peppers.'"
      ]
     },
     "execution_count": 14,
     "metadata": {},
     "output_type": "execute_result"
    }
   ],
   "source": [
    "str1"
   ]
  },
  {
   "cell_type": "code",
   "execution_count": 17,
   "id": "e1b77a09",
   "metadata": {},
   "outputs": [
    {
     "name": "stdout",
     "output_type": "stream",
     "text": [
      "peppers pickled of peck a picked piper \n"
     ]
    }
   ],
   "source": [
    "temp_str = ''\n",
    "str2 = ''\n",
    "\n",
    "for i in str1[::-1]:\n",
    "    if i == '.':\n",
    "        continue\n",
    "    elif i == ' ':\n",
    "        str2 += temp_str[::-1] + ' '\n",
    "        temp_str = ''\n",
    "    else:\n",
    "        temp_str += i\n",
    "        \n",
    "print(str2)"
   ]
  },
  {
   "cell_type": "code",
   "execution_count": 18,
   "id": "f7203df7",
   "metadata": {},
   "outputs": [
    {
     "name": "stdout",
     "output_type": "stream",
     "text": [
      "peppers pickled of peck a picked piper peter\n"
     ]
    }
   ],
   "source": [
    "temp_str = ''\n",
    "str2 = ''\n",
    "\n",
    "for i in str1[::-1]:\n",
    "    if i == '.':\n",
    "        continue\n",
    "    elif i == ' ':\n",
    "        str2 += temp_str[::-1] + ' '\n",
    "        temp_str = ''\n",
    "    else:\n",
    "        temp_str += i\n",
    "        \n",
    "\n",
    "str2 += temp_str[::-1]    \n",
    "print(str2)"
   ]
  },
  {
   "cell_type": "code",
   "execution_count": null,
   "id": "ba87003f",
   "metadata": {},
   "outputs": [],
   "source": []
  },
  {
   "cell_type": "code",
   "execution_count": null,
   "id": "8d1dc633",
   "metadata": {},
   "outputs": [],
   "source": []
  },
  {
   "cell_type": "code",
   "execution_count": 19,
   "id": "ec8cfd01",
   "metadata": {},
   "outputs": [],
   "source": [
    "# Q. 12 - Write a python program to find below output (implements rjust and ljust) using loop:-\n",
    "# Input:- 'Peter Piper Picked A Peck Of Pickled Peppers.', sub_str ='Peck',\n",
    "# Output:- '*************Peck***********'*\n"
   ]
  },
  {
   "cell_type": "code",
   "execution_count": 20,
   "id": "4c36c8b8",
   "metadata": {},
   "outputs": [],
   "source": [
    "str1 = 'Peter Piper Picked A Peck Of Pickled Peppers.'"
   ]
  },
  {
   "cell_type": "code",
   "execution_count": 21,
   "id": "24b4c645",
   "metadata": {},
   "outputs": [
    {
     "name": "stdout",
     "output_type": "stream",
     "text": [
      "P\n",
      "e\n",
      "t\n",
      "e\n",
      "r\n",
      " \n",
      "P\n",
      "i\n",
      "p\n",
      "e\n",
      "r\n",
      " \n",
      "P\n",
      "i\n",
      "c\n",
      "k\n",
      "e\n",
      "d\n",
      " \n",
      "A\n",
      " \n",
      "P\n",
      "e\n",
      "c\n",
      "k\n",
      " \n",
      "O\n",
      "f\n",
      " \n",
      "P\n",
      "i\n",
      "c\n",
      "k\n",
      "l\n",
      "e\n",
      "d\n",
      " \n",
      "P\n",
      "e\n",
      "p\n",
      "p\n",
      "e\n",
      "r\n",
      "s\n",
      ".\n"
     ]
    }
   ],
   "source": [
    "for i in str1:\n",
    "    print(i)"
   ]
  },
  {
   "cell_type": "code",
   "execution_count": 22,
   "id": "ee02658f",
   "metadata": {},
   "outputs": [],
   "source": [
    "sub_str ='Peck'"
   ]
  },
  {
   "cell_type": "code",
   "execution_count": 23,
   "id": "f06a3fa5",
   "metadata": {},
   "outputs": [
    {
     "data": {
      "text/plain": [
       "'Peter Piper Picked A Peck Of Pickled Peppers.'"
      ]
     },
     "execution_count": 23,
     "metadata": {},
     "output_type": "execute_result"
    }
   ],
   "source": [
    "str1"
   ]
  },
  {
   "cell_type": "code",
   "execution_count": 24,
   "id": "ccb67903",
   "metadata": {},
   "outputs": [
    {
     "data": {
      "text/plain": [
       "'Peck'"
      ]
     },
     "execution_count": 24,
     "metadata": {},
     "output_type": "execute_result"
    }
   ],
   "source": [
    "sub_str"
   ]
  },
  {
   "cell_type": "code",
   "execution_count": 25,
   "id": "912568ec",
   "metadata": {},
   "outputs": [
    {
     "name": "stdout",
     "output_type": "stream",
     "text": [
      "21\n"
     ]
    }
   ],
   "source": [
    "for i in range(len(str1)):\n",
    "    if str1[i:i+4] == sub_str:\n",
    "        print(i)"
   ]
  },
  {
   "cell_type": "code",
   "execution_count": 34,
   "id": "c7ad5d51",
   "metadata": {},
   "outputs": [],
   "source": [
    "for i in range(len(str1)):\n",
    "    if str1[i:i+4] == sub_str:\n",
    "        index = i"
   ]
  },
  {
   "cell_type": "code",
   "execution_count": 35,
   "id": "ee5d89ff",
   "metadata": {},
   "outputs": [
    {
     "name": "stdout",
     "output_type": "stream",
     "text": [
      "21\n"
     ]
    }
   ],
   "source": [
    "print(index)"
   ]
  },
  {
   "cell_type": "code",
   "execution_count": 40,
   "id": "d5cd9766",
   "metadata": {},
   "outputs": [],
   "source": [
    "left_stars = index"
   ]
  },
  {
   "cell_type": "code",
   "execution_count": 41,
   "id": "36ef04bd",
   "metadata": {},
   "outputs": [],
   "source": [
    "right_stars = len(str1) - (index+len(sub_str))"
   ]
  },
  {
   "cell_type": "code",
   "execution_count": 42,
   "id": "73d7829c",
   "metadata": {},
   "outputs": [
    {
     "data": {
      "text/plain": [
       "20"
      ]
     },
     "execution_count": 42,
     "metadata": {},
     "output_type": "execute_result"
    }
   ],
   "source": [
    "right_stars"
   ]
  },
  {
   "cell_type": "code",
   "execution_count": 43,
   "id": "aa4b2515",
   "metadata": {},
   "outputs": [
    {
     "data": {
      "text/plain": [
       "21"
      ]
     },
     "execution_count": 43,
     "metadata": {},
     "output_type": "execute_result"
    }
   ],
   "source": [
    "left_stars"
   ]
  },
  {
   "cell_type": "code",
   "execution_count": 44,
   "id": "21ed00f9",
   "metadata": {},
   "outputs": [
    {
     "data": {
      "text/plain": [
       "'*********************'"
      ]
     },
     "execution_count": 44,
     "metadata": {},
     "output_type": "execute_result"
    }
   ],
   "source": [
    "left_stars * '*'"
   ]
  },
  {
   "cell_type": "code",
   "execution_count": 45,
   "id": "1b410719",
   "metadata": {},
   "outputs": [
    {
     "data": {
      "text/plain": [
       "'********************'"
      ]
     },
     "execution_count": 45,
     "metadata": {},
     "output_type": "execute_result"
    }
   ],
   "source": [
    "right_stars * '*'"
   ]
  },
  {
   "cell_type": "code",
   "execution_count": 46,
   "id": "c99769d0",
   "metadata": {},
   "outputs": [
    {
     "data": {
      "text/plain": [
       "'*********************Peck********************'"
      ]
     },
     "execution_count": 46,
     "metadata": {},
     "output_type": "execute_result"
    }
   ],
   "source": [
    "left_stars * '*' + sub_str + right_stars * '*'"
   ]
  },
  {
   "cell_type": "code",
   "execution_count": 48,
   "id": "4af8efab",
   "metadata": {},
   "outputs": [
    {
     "data": {
      "text/plain": [
       "45"
      ]
     },
     "execution_count": 48,
     "metadata": {},
     "output_type": "execute_result"
    }
   ],
   "source": [
    "len('*********************Peck********************')"
   ]
  },
  {
   "cell_type": "code",
   "execution_count": 49,
   "id": "893a658a",
   "metadata": {},
   "outputs": [
    {
     "data": {
      "text/plain": [
       "45"
      ]
     },
     "execution_count": 49,
     "metadata": {},
     "output_type": "execute_result"
    }
   ],
   "source": [
    "len(str1)"
   ]
  },
  {
   "cell_type": "code",
   "execution_count": null,
   "id": "edabb972",
   "metadata": {},
   "outputs": [],
   "source": []
  },
  {
   "cell_type": "code",
   "execution_count": 50,
   "id": "198e85c9",
   "metadata": {},
   "outputs": [],
   "source": [
    "# Write a python program to implement replace method using loop. if sub_str is found in my_str then it will replace the first\n",
    "#occurance of sub_str with new_str else it will print sub_str not found.\n",
    "## input:-my_str= Peter Piper Picked A Peck of Pickled Peppers.\n",
    "# sub_str='Peck',new_str='Pack'\n",
    "## output:- Peter Piper Picked A pack of Pickled Peppers.\n"
   ]
  },
  {
   "cell_type": "code",
   "execution_count": 54,
   "id": "6a9c967c",
   "metadata": {},
   "outputs": [],
   "source": [
    "sub_str='Peck'\n",
    "new_str='Pack'"
   ]
  },
  {
   "cell_type": "code",
   "execution_count": 55,
   "id": "40ae610c",
   "metadata": {},
   "outputs": [
    {
     "name": "stdout",
     "output_type": "stream",
     "text": [
      "21\n"
     ]
    }
   ],
   "source": [
    "for i in range(len(str1)):\n",
    "    if str1[i:i+4] == sub_str:\n",
    "        print(i)"
   ]
  },
  {
   "cell_type": "code",
   "execution_count": 57,
   "id": "f8f198ec",
   "metadata": {},
   "outputs": [
    {
     "name": "stdout",
     "output_type": "stream",
     "text": [
      "Peter Piper Picked A Packeck Of Pickled Peppers.\n"
     ]
    }
   ],
   "source": [
    "str2 = ''\n",
    "\n",
    "for i in range(len(str1)):\n",
    "    if str1[i:i+4] == sub_str:\n",
    "        str2 += new_str\n",
    "    else:\n",
    "        str2 += str1[i]\n",
    "        \n",
    "print(str2)"
   ]
  },
  {
   "cell_type": "code",
   "execution_count": 58,
   "id": "c1324ba2",
   "metadata": {},
   "outputs": [
    {
     "data": {
      "text/plain": [
       "'Peter Piper Picked A Peck Of Pickled Peppers.'"
      ]
     },
     "execution_count": 58,
     "metadata": {},
     "output_type": "execute_result"
    }
   ],
   "source": [
    "str1"
   ]
  },
  {
   "cell_type": "code",
   "execution_count": 59,
   "id": "daa5282d",
   "metadata": {},
   "outputs": [
    {
     "name": "stdout",
     "output_type": "stream",
     "text": [
      "Peter Piper Picked A PackOf Pickled Peppers.\n"
     ]
    }
   ],
   "source": [
    "str2 = ''\n",
    "i = 0\n",
    "while i < len(str1):\n",
    "    if str1[i:i+4] == sub_str:\n",
    "        str2 += new_str\n",
    "        i += len(sub_str)\n",
    "    else:\n",
    "        str2 += str1[i]\n",
    "        \n",
    "    i += 1\n",
    "        \n",
    "print(str2)"
   ]
  },
  {
   "cell_type": "code",
   "execution_count": 60,
   "id": "fa5e9774",
   "metadata": {},
   "outputs": [
    {
     "name": "stdout",
     "output_type": "stream",
     "text": [
      "Peter Piper Picked A Pack Of Pickled Peppers.\n"
     ]
    }
   ],
   "source": [
    "str2 = ''\n",
    "i = 0\n",
    "while i < len(str1):\n",
    "    if str1[i:i+4] == sub_str:\n",
    "        str2 += new_str\n",
    "        i += len(sub_str)\n",
    "        continue\n",
    "    else:\n",
    "        str2 += str1[i]\n",
    "        \n",
    "    i += 1\n",
    "        \n",
    "print(str2)"
   ]
  },
  {
   "cell_type": "code",
   "execution_count": null,
   "id": "87f3771c",
   "metadata": {},
   "outputs": [],
   "source": []
  },
  {
   "cell_type": "code",
   "execution_count": 61,
   "id": "29450e1e",
   "metadata": {},
   "outputs": [
    {
     "name": "stdout",
     "output_type": "stream",
     "text": [
      "Peter Piper Picked A Peck Of Pickled Peppers.\n"
     ]
    }
   ],
   "source": [
    "def capitalize_words(input_str):\n",
    "    words = input_str.split()  # Split the input string into words\n",
    "    capitalized_words = []\n",
    "    for word in words:  # Iterate through each word\n",
    "        capitalized_word = word.capitalize()  # Capitalize the word\n",
    "        capitalized_words.append(capitalized_word)  # Append the capitalized word to the list\n",
    "    capitalized_string = ' '.join(capitalized_words)  # Join the capitalized words into a single string\n",
    "    return capitalized_string\n",
    "\n",
    "input_str = 'peter piper picked a peck of pickled peppers.'\n",
    "output = capitalize_words(input_str)\n",
    "print(output)\n"
   ]
  },
  {
   "cell_type": "code",
   "execution_count": null,
   "id": "d038c265",
   "metadata": {},
   "outputs": [],
   "source": []
  },
  {
   "cell_type": "code",
   "execution_count": 62,
   "id": "cd29c046",
   "metadata": {},
   "outputs": [],
   "source": [
    "# Write a Python Program, to print all the indexes of all occurences of\n",
    "# letter 'p' appeared in the string using loop:-\n",
    "# Input:- 'peter piper picked a peck of pickled peppers.'\n",
    "# Output:-\n",
    "# 0\n",
    "# 6\n",
    "# 8\n",
    "# 12\n",
    "# 21\n",
    "# 29\n",
    "# 37\n",
    "# 39\n",
    "# 40\n"
   ]
  },
  {
   "cell_type": "code",
   "execution_count": 63,
   "id": "419caa93",
   "metadata": {},
   "outputs": [
    {
     "name": "stdout",
     "output_type": "stream",
     "text": [
      "The strings are equal.\n"
     ]
    }
   ],
   "source": [
    "#What will be the output of below code?\n",
    "firstString = \"der Fluß\"\n",
    "secondString = \"der Fluss\"\n",
    "\n",
    "if firstString.casefold() == secondString.casefold():\n",
    "    print('The strings are equal.')\n",
    "else:\n",
    "    print('The strings are not equal.')"
   ]
  },
  {
   "cell_type": "code",
   "execution_count": 64,
   "id": "05f85670",
   "metadata": {},
   "outputs": [
    {
     "name": "stdout",
     "output_type": "stream",
     "text": [
      "Help on built-in function casefold:\n",
      "\n",
      "casefold() method of builtins.str instance\n",
      "    Return a version of the string suitable for caseless comparisons.\n",
      "\n"
     ]
    }
   ],
   "source": [
    "help(secondString.casefold)"
   ]
  },
  {
   "cell_type": "code",
   "execution_count": 65,
   "id": "403938ee",
   "metadata": {},
   "outputs": [
    {
     "data": {
      "text/plain": [
       "223"
      ]
     },
     "execution_count": 65,
     "metadata": {},
     "output_type": "execute_result"
    }
   ],
   "source": [
    "ord('ß')"
   ]
  },
  {
   "cell_type": "code",
   "execution_count": 66,
   "id": "b43c53b6",
   "metadata": {},
   "outputs": [
    {
     "data": {
      "text/plain": [
       "115"
      ]
     },
     "execution_count": 66,
     "metadata": {},
     "output_type": "execute_result"
    }
   ],
   "source": [
    "ord('s')"
   ]
  },
  {
   "cell_type": "code",
   "execution_count": 67,
   "id": "ce997c2e",
   "metadata": {},
   "outputs": [
    {
     "ename": "TypeError",
     "evalue": "ord() expected a character, but string of length 2 found",
     "output_type": "error",
     "traceback": [
      "\u001b[1;31m---------------------------------------------------------------------------\u001b[0m",
      "\u001b[1;31mTypeError\u001b[0m                                 Traceback (most recent call last)",
      "Cell \u001b[1;32mIn[67], line 1\u001b[0m\n\u001b[1;32m----> 1\u001b[0m \u001b[38;5;28mord\u001b[39m(\u001b[38;5;124m'\u001b[39m\u001b[38;5;124mss\u001b[39m\u001b[38;5;124m'\u001b[39m)\n",
      "\u001b[1;31mTypeError\u001b[0m: ord() expected a character, but string of length 2 found"
     ]
    }
   ],
   "source": [
    "ord('ss')"
   ]
  },
  {
   "cell_type": "code",
   "execution_count": 68,
   "id": "b333bea2",
   "metadata": {},
   "outputs": [
    {
     "data": {
      "text/plain": [
       "'ss'"
      ]
     },
     "execution_count": 68,
     "metadata": {},
     "output_type": "execute_result"
    }
   ],
   "source": [
    "\"ß\".casefold()"
   ]
  },
  {
   "cell_type": "code",
   "execution_count": 69,
   "id": "f0864a08",
   "metadata": {},
   "outputs": [
    {
     "data": {
      "text/plain": [
       "True"
      ]
     },
     "execution_count": 69,
     "metadata": {},
     "output_type": "execute_result"
    }
   ],
   "source": [
    "\"ß\".casefold() == 'ss'"
   ]
  },
  {
   "cell_type": "code",
   "execution_count": 70,
   "id": "3662deab",
   "metadata": {},
   "outputs": [
    {
     "data": {
      "text/plain": [
       "False"
      ]
     },
     "execution_count": 70,
     "metadata": {},
     "output_type": "execute_result"
    }
   ],
   "source": [
    "\"ß\".lower() == 'ss'"
   ]
  },
  {
   "cell_type": "code",
   "execution_count": 71,
   "id": "ed776127",
   "metadata": {},
   "outputs": [
    {
     "name": "stdout",
     "output_type": "stream",
     "text": [
      "Help on built-in function isspace:\n",
      "\n",
      "isspace() method of builtins.str instance\n",
      "    Return True if the string is a whitespace string, False otherwise.\n",
      "    \n",
      "    A string is whitespace if all characters in the string are whitespace and there\n",
      "    is at least one character in the string.\n",
      "\n"
     ]
    }
   ],
   "source": [
    "help(str1.isspace)"
   ]
  },
  {
   "cell_type": "code",
   "execution_count": 72,
   "id": "454c41bb",
   "metadata": {},
   "outputs": [
    {
     "data": {
      "text/plain": [
       "True"
      ]
     },
     "execution_count": 72,
     "metadata": {},
     "output_type": "execute_result"
    }
   ],
   "source": [
    "'     '.isspace()"
   ]
  },
  {
   "cell_type": "code",
   "execution_count": 73,
   "id": "17cb6096",
   "metadata": {},
   "outputs": [
    {
     "data": {
      "text/plain": [
       "False"
      ]
     },
     "execution_count": 73,
     "metadata": {},
     "output_type": "execute_result"
    }
   ],
   "source": [
    "'     a'.isspace()"
   ]
  },
  {
   "cell_type": "code",
   "execution_count": 74,
   "id": "5bc1d3c9",
   "metadata": {},
   "outputs": [],
   "source": [
    "#Write the code to get below output\n",
    "#O/P 1:- **python** (using rjust method)\n"
   ]
  },
  {
   "cell_type": "code",
   "execution_count": 75,
   "id": "bb3bbd74",
   "metadata": {},
   "outputs": [],
   "source": [
    "str1 = \"Hello\""
   ]
  },
  {
   "cell_type": "code",
   "execution_count": 76,
   "id": "6fefb2c4",
   "metadata": {},
   "outputs": [
    {
     "ename": "TypeError",
     "evalue": "'str' object cannot be interpreted as an integer",
     "output_type": "error",
     "traceback": [
      "\u001b[1;31m---------------------------------------------------------------------------\u001b[0m",
      "\u001b[1;31mTypeError\u001b[0m                                 Traceback (most recent call last)",
      "Cell \u001b[1;32mIn[76], line 1\u001b[0m\n\u001b[1;32m----> 1\u001b[0m str1\u001b[38;5;241m.\u001b[39mrjust(\u001b[38;5;124m'\u001b[39m\u001b[38;5;124m*\u001b[39m\u001b[38;5;124m'\u001b[39m, \u001b[38;5;241m6\u001b[39m)\n",
      "\u001b[1;31mTypeError\u001b[0m: 'str' object cannot be interpreted as an integer"
     ]
    }
   ],
   "source": [
    "str1.rjust('*', 6)"
   ]
  },
  {
   "cell_type": "code",
   "execution_count": 77,
   "id": "1f91157e",
   "metadata": {},
   "outputs": [
    {
     "data": {
      "text/plain": [
       "'*Hello'"
      ]
     },
     "execution_count": 77,
     "metadata": {},
     "output_type": "execute_result"
    }
   ],
   "source": [
    "str1.rjust(6, '*')"
   ]
  },
  {
   "cell_type": "code",
   "execution_count": 78,
   "id": "561d2e09",
   "metadata": {},
   "outputs": [
    {
     "data": {
      "text/plain": [
       "'**Hello'"
      ]
     },
     "execution_count": 78,
     "metadata": {},
     "output_type": "execute_result"
    }
   ],
   "source": [
    "str1.rjust(7, '*')"
   ]
  },
  {
   "cell_type": "code",
   "execution_count": 79,
   "id": "36b69a13",
   "metadata": {},
   "outputs": [
    {
     "ename": "TypeError",
     "evalue": "The fill character must be exactly one character long",
     "output_type": "error",
     "traceback": [
      "\u001b[1;31m---------------------------------------------------------------------------\u001b[0m",
      "\u001b[1;31mTypeError\u001b[0m                                 Traceback (most recent call last)",
      "Cell \u001b[1;32mIn[79], line 1\u001b[0m\n\u001b[1;32m----> 1\u001b[0m \u001b[38;5;124m'\u001b[39m\u001b[38;5;124m**\u001b[39m\u001b[38;5;124m'\u001b[39m\u001b[38;5;241m.\u001b[39mrjust(\u001b[38;5;241m9\u001b[39m, \u001b[38;5;124m'\u001b[39m\u001b[38;5;124m**Hello\u001b[39m\u001b[38;5;124m'\u001b[39m)\n",
      "\u001b[1;31mTypeError\u001b[0m: The fill character must be exactly one character long"
     ]
    }
   ],
   "source": [
    "'**'.rjust(9, '**Hello')"
   ]
  },
  {
   "cell_type": "code",
   "execution_count": 80,
   "id": "866915b6",
   "metadata": {},
   "outputs": [
    {
     "data": {
      "text/plain": [
       "'**Hello'"
      ]
     },
     "execution_count": 80,
     "metadata": {},
     "output_type": "execute_result"
    }
   ],
   "source": [
    "str1.rjust(7, '*')"
   ]
  },
  {
   "cell_type": "code",
   "execution_count": 81,
   "id": "ba46ea09",
   "metadata": {},
   "outputs": [
    {
     "data": {
      "text/plain": [
       "'olleH**'"
      ]
     },
     "execution_count": 81,
     "metadata": {},
     "output_type": "execute_result"
    }
   ],
   "source": [
    "str1.rjust(7, '*')[::-1]"
   ]
  },
  {
   "cell_type": "code",
   "execution_count": 82,
   "id": "18ce4283",
   "metadata": {},
   "outputs": [],
   "source": [
    "str2 = str1.rjust(7, '*')[::-1]"
   ]
  },
  {
   "cell_type": "code",
   "execution_count": 83,
   "id": "bcc40299",
   "metadata": {},
   "outputs": [
    {
     "data": {
      "text/plain": [
       "'olleH**'"
      ]
     },
     "execution_count": 83,
     "metadata": {},
     "output_type": "execute_result"
    }
   ],
   "source": [
    "str2"
   ]
  },
  {
   "cell_type": "code",
   "execution_count": 84,
   "id": "a69c3699",
   "metadata": {},
   "outputs": [
    {
     "data": {
      "text/plain": [
       "'**olleH**'"
      ]
     },
     "execution_count": 84,
     "metadata": {},
     "output_type": "execute_result"
    }
   ],
   "source": [
    "str2.rjust(9, '*')"
   ]
  },
  {
   "cell_type": "code",
   "execution_count": 85,
   "id": "4f2c8dd1",
   "metadata": {},
   "outputs": [
    {
     "data": {
      "text/plain": [
       "'**Hello**'"
      ]
     },
     "execution_count": 85,
     "metadata": {},
     "output_type": "execute_result"
    }
   ],
   "source": [
    "str2.rjust(9, '*')[::-1]"
   ]
  },
  {
   "cell_type": "code",
   "execution_count": 86,
   "id": "4eebc286",
   "metadata": {},
   "outputs": [],
   "source": [
    "#W A P which takes a string as an input and prints True if the string is valid identifier else returns False.\n",
    "#Sample Input:- 'abc', 'abc1', 'ab1c', '1abc', 'abc$', '_abc', 'if'\n"
   ]
  },
  {
   "cell_type": "code",
   "execution_count": 87,
   "id": "0d34f552",
   "metadata": {},
   "outputs": [],
   "source": [
    "# method for this in string"
   ]
  },
  {
   "cell_type": "code",
   "execution_count": null,
   "id": "dd59362d",
   "metadata": {},
   "outputs": [],
   "source": []
  }
 ],
 "metadata": {
  "kernelspec": {
   "display_name": "Python 3 (ipykernel)",
   "language": "python",
   "name": "python3"
  },
  "language_info": {
   "codemirror_mode": {
    "name": "ipython",
    "version": 3
   },
   "file_extension": ".py",
   "mimetype": "text/x-python",
   "name": "python",
   "nbconvert_exporter": "python",
   "pygments_lexer": "ipython3",
   "version": "3.11.4"
  }
 },
 "nbformat": 4,
 "nbformat_minor": 5
}
