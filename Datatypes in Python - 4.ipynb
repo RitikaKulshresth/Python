{
 "cells": [
  {
   "cell_type": "code",
   "execution_count": 1,
   "id": "fbfdb4bb",
   "metadata": {},
   "outputs": [],
   "source": [
    "# Doubts"
   ]
  },
  {
   "cell_type": "code",
   "execution_count": 2,
   "id": "6386e9d3",
   "metadata": {},
   "outputs": [],
   "source": [
    "s1 = 'hello'"
   ]
  },
  {
   "cell_type": "code",
   "execution_count": 3,
   "id": "11d0eb76",
   "metadata": {},
   "outputs": [],
   "source": [
    "s2 = 'hello'"
   ]
  },
  {
   "cell_type": "code",
   "execution_count": 4,
   "id": "241caa4f",
   "metadata": {},
   "outputs": [
    {
     "data": {
      "text/plain": [
       "1917460636848"
      ]
     },
     "execution_count": 4,
     "metadata": {},
     "output_type": "execute_result"
    }
   ],
   "source": [
    "id(s1)"
   ]
  },
  {
   "cell_type": "code",
   "execution_count": 5,
   "id": "6dfa9f24",
   "metadata": {},
   "outputs": [
    {
     "data": {
      "text/plain": [
       "1917460636848"
      ]
     },
     "execution_count": 5,
     "metadata": {},
     "output_type": "execute_result"
    }
   ],
   "source": [
    "id(s2)"
   ]
  },
  {
   "cell_type": "code",
   "execution_count": 6,
   "id": "851799aa",
   "metadata": {},
   "outputs": [],
   "source": [
    "s2 = s1 + s1"
   ]
  },
  {
   "cell_type": "code",
   "execution_count": 7,
   "id": "4e01671b",
   "metadata": {},
   "outputs": [
    {
     "data": {
      "text/plain": [
       "'hellohello'"
      ]
     },
     "execution_count": 7,
     "metadata": {},
     "output_type": "execute_result"
    }
   ],
   "source": [
    "s2"
   ]
  },
  {
   "cell_type": "code",
   "execution_count": 8,
   "id": "86444c0c",
   "metadata": {},
   "outputs": [],
   "source": [
    "s3 = s1 *2"
   ]
  },
  {
   "cell_type": "code",
   "execution_count": 9,
   "id": "ce98a988",
   "metadata": {},
   "outputs": [
    {
     "data": {
      "text/plain": [
       "'hellohello'"
      ]
     },
     "execution_count": 9,
     "metadata": {},
     "output_type": "execute_result"
    }
   ],
   "source": [
    "s2"
   ]
  },
  {
   "cell_type": "code",
   "execution_count": 10,
   "id": "d05eeb64",
   "metadata": {},
   "outputs": [
    {
     "data": {
      "text/plain": [
       "'hellohello'"
      ]
     },
     "execution_count": 10,
     "metadata": {},
     "output_type": "execute_result"
    }
   ],
   "source": [
    "s3"
   ]
  },
  {
   "cell_type": "code",
   "execution_count": 11,
   "id": "f1822a5b",
   "metadata": {},
   "outputs": [
    {
     "data": {
      "text/plain": [
       "1917482056048"
      ]
     },
     "execution_count": 11,
     "metadata": {},
     "output_type": "execute_result"
    }
   ],
   "source": [
    "id(s2)"
   ]
  },
  {
   "cell_type": "code",
   "execution_count": 12,
   "id": "ef7861ba",
   "metadata": {},
   "outputs": [
    {
     "data": {
      "text/plain": [
       "1917481583856"
      ]
     },
     "execution_count": 12,
     "metadata": {},
     "output_type": "execute_result"
    }
   ],
   "source": [
    "id(s3)"
   ]
  },
  {
   "cell_type": "code",
   "execution_count": 14,
   "id": "dad8d61f",
   "metadata": {},
   "outputs": [],
   "source": [
    "s1 = '2hello2'\n",
    "s2 = '2hello2'"
   ]
  },
  {
   "cell_type": "code",
   "execution_count": 15,
   "id": "33f8cd6a",
   "metadata": {},
   "outputs": [
    {
     "data": {
      "text/plain": [
       "1917481635312"
      ]
     },
     "execution_count": 15,
     "metadata": {},
     "output_type": "execute_result"
    }
   ],
   "source": [
    "id(s1)"
   ]
  },
  {
   "cell_type": "code",
   "execution_count": 16,
   "id": "c63c0452",
   "metadata": {},
   "outputs": [
    {
     "data": {
      "text/plain": [
       "1917481635312"
      ]
     },
     "execution_count": 16,
     "metadata": {},
     "output_type": "execute_result"
    }
   ],
   "source": [
    "id(s2)"
   ]
  },
  {
   "cell_type": "code",
   "execution_count": 17,
   "id": "1a9b57e7",
   "metadata": {},
   "outputs": [],
   "source": [
    "list1 = [10,'alpha',25]"
   ]
  },
  {
   "cell_type": "code",
   "execution_count": 18,
   "id": "8c984541",
   "metadata": {},
   "outputs": [
    {
     "data": {
      "text/plain": [
       "'alpha'"
      ]
     },
     "execution_count": 18,
     "metadata": {},
     "output_type": "execute_result"
    }
   ],
   "source": [
    "list1[1]"
   ]
  },
  {
   "cell_type": "code",
   "execution_count": 19,
   "id": "93c763fb",
   "metadata": {},
   "outputs": [
    {
     "data": {
      "text/plain": [
       "5"
      ]
     },
     "execution_count": 19,
     "metadata": {},
     "output_type": "execute_result"
    }
   ],
   "source": [
    "len(list1[1])"
   ]
  },
  {
   "cell_type": "code",
   "execution_count": null,
   "id": "ec7c076a",
   "metadata": {},
   "outputs": [],
   "source": []
  },
  {
   "cell_type": "code",
   "execution_count": 20,
   "id": "95e42d5d",
   "metadata": {},
   "outputs": [],
   "source": [
    "##"
   ]
  },
  {
   "cell_type": "code",
   "execution_count": 21,
   "id": "ffa39d2d",
   "metadata": {},
   "outputs": [],
   "source": [
    "# Lists - continued...."
   ]
  },
  {
   "cell_type": "code",
   "execution_count": 22,
   "id": "7c9ff4cb",
   "metadata": {},
   "outputs": [],
   "source": [
    "l1 = [10, True, 'Hello', 10.5, None, 600]"
   ]
  },
  {
   "cell_type": "code",
   "execution_count": 23,
   "id": "157ac0c7",
   "metadata": {},
   "outputs": [
    {
     "data": {
      "text/plain": [
       "[10, True, 'Hello', 10.5, None, 600]"
      ]
     },
     "execution_count": 23,
     "metadata": {},
     "output_type": "execute_result"
    }
   ],
   "source": [
    "l1"
   ]
  },
  {
   "cell_type": "code",
   "execution_count": 24,
   "id": "060b12b9",
   "metadata": {},
   "outputs": [],
   "source": [
    "# Lists can be modified/changed!!\n",
    "# Lists are Mutable"
   ]
  },
  {
   "cell_type": "code",
   "execution_count": 25,
   "id": "7576ec21",
   "metadata": {},
   "outputs": [
    {
     "data": {
      "text/plain": [
       "[10, True, 'Hello', 10.5, None, 600]"
      ]
     },
     "execution_count": 25,
     "metadata": {},
     "output_type": "execute_result"
    }
   ],
   "source": [
    "l1"
   ]
  },
  {
   "cell_type": "code",
   "execution_count": 26,
   "id": "f63a66c8",
   "metadata": {},
   "outputs": [
    {
     "data": {
      "text/plain": [
       "True"
      ]
     },
     "execution_count": 26,
     "metadata": {},
     "output_type": "execute_result"
    }
   ],
   "source": [
    "l1[1]"
   ]
  },
  {
   "cell_type": "code",
   "execution_count": 27,
   "id": "3d4ba2ec",
   "metadata": {},
   "outputs": [],
   "source": [
    "l1[1] = False"
   ]
  },
  {
   "cell_type": "code",
   "execution_count": 28,
   "id": "82871874",
   "metadata": {},
   "outputs": [
    {
     "data": {
      "text/plain": [
       "[10, False, 'Hello', 10.5, None, 600]"
      ]
     },
     "execution_count": 28,
     "metadata": {},
     "output_type": "execute_result"
    }
   ],
   "source": [
    "l1"
   ]
  },
  {
   "cell_type": "code",
   "execution_count": 29,
   "id": "853b70d3",
   "metadata": {},
   "outputs": [],
   "source": [
    "# The ability of an object (value) to be changed is called mutability"
   ]
  },
  {
   "cell_type": "code",
   "execution_count": 30,
   "id": "da2b24b7",
   "metadata": {},
   "outputs": [],
   "source": [
    "# Immutability - A value that cannot be changed"
   ]
  },
  {
   "cell_type": "code",
   "execution_count": 31,
   "id": "685440a3",
   "metadata": {},
   "outputs": [],
   "source": [
    "num1 = 100"
   ]
  },
  {
   "cell_type": "code",
   "execution_count": 32,
   "id": "703e16f8",
   "metadata": {},
   "outputs": [],
   "source": [
    "num1 = 200"
   ]
  },
  {
   "cell_type": "code",
   "execution_count": 33,
   "id": "e17441ac",
   "metadata": {},
   "outputs": [],
   "source": [
    "# This is reassignment"
   ]
  },
  {
   "cell_type": "code",
   "execution_count": 34,
   "id": "21ac5eca",
   "metadata": {},
   "outputs": [
    {
     "data": {
      "text/plain": [
       "[10, False, 'Hello', 10.5, None, 600]"
      ]
     },
     "execution_count": 34,
     "metadata": {},
     "output_type": "execute_result"
    }
   ],
   "source": [
    "l1"
   ]
  },
  {
   "cell_type": "code",
   "execution_count": 35,
   "id": "67200eb6",
   "metadata": {},
   "outputs": [
    {
     "data": {
      "text/plain": [
       "1917482047552"
      ]
     },
     "execution_count": 35,
     "metadata": {},
     "output_type": "execute_result"
    }
   ],
   "source": [
    "id(l1)"
   ]
  },
  {
   "cell_type": "code",
   "execution_count": 36,
   "id": "2a140879",
   "metadata": {},
   "outputs": [],
   "source": [
    "l1[-1] = 700"
   ]
  },
  {
   "cell_type": "code",
   "execution_count": 37,
   "id": "1a9b2707",
   "metadata": {},
   "outputs": [
    {
     "data": {
      "text/plain": [
       "[10, False, 'Hello', 10.5, None, 700]"
      ]
     },
     "execution_count": 37,
     "metadata": {},
     "output_type": "execute_result"
    }
   ],
   "source": [
    "l1"
   ]
  },
  {
   "cell_type": "code",
   "execution_count": 38,
   "id": "0702a083",
   "metadata": {},
   "outputs": [
    {
     "data": {
      "text/plain": [
       "1917482047552"
      ]
     },
     "execution_count": 38,
     "metadata": {},
     "output_type": "execute_result"
    }
   ],
   "source": [
    "id(l1)"
   ]
  },
  {
   "cell_type": "code",
   "execution_count": null,
   "id": "05e8ef29",
   "metadata": {},
   "outputs": [],
   "source": []
  },
  {
   "cell_type": "code",
   "execution_count": 42,
   "id": "49221cca",
   "metadata": {},
   "outputs": [],
   "source": [
    "s1 = \"Hello World\""
   ]
  },
  {
   "cell_type": "code",
   "execution_count": 43,
   "id": "5614d7e7",
   "metadata": {},
   "outputs": [
    {
     "data": {
      "text/plain": [
       "str"
      ]
     },
     "execution_count": 43,
     "metadata": {},
     "output_type": "execute_result"
    }
   ],
   "source": [
    "type(s1)"
   ]
  },
  {
   "cell_type": "code",
   "execution_count": 44,
   "id": "f57a96be",
   "metadata": {},
   "outputs": [
    {
     "data": {
      "text/plain": [
       "'Hello World'"
      ]
     },
     "execution_count": 44,
     "metadata": {},
     "output_type": "execute_result"
    }
   ],
   "source": [
    "s1"
   ]
  },
  {
   "cell_type": "code",
   "execution_count": 45,
   "id": "98c4fab9",
   "metadata": {},
   "outputs": [
    {
     "data": {
      "text/plain": [
       "'H'"
      ]
     },
     "execution_count": 45,
     "metadata": {},
     "output_type": "execute_result"
    }
   ],
   "source": [
    "s1[0]"
   ]
  },
  {
   "cell_type": "code",
   "execution_count": 46,
   "id": "a3e5fe7c",
   "metadata": {},
   "outputs": [
    {
     "ename": "TypeError",
     "evalue": "'str' object does not support item assignment",
     "output_type": "error",
     "traceback": [
      "\u001b[1;31m---------------------------------------------------------------------------\u001b[0m",
      "\u001b[1;31mTypeError\u001b[0m                                 Traceback (most recent call last)",
      "Cell \u001b[1;32mIn[46], line 1\u001b[0m\n\u001b[1;32m----> 1\u001b[0m s1[\u001b[38;5;241m0\u001b[39m] \u001b[38;5;241m=\u001b[39m \u001b[38;5;124m'\u001b[39m\u001b[38;5;124mh\u001b[39m\u001b[38;5;124m'\u001b[39m\n",
      "\u001b[1;31mTypeError\u001b[0m: 'str' object does not support item assignment"
     ]
    }
   ],
   "source": [
    "s1[0] = 'h'"
   ]
  },
  {
   "cell_type": "code",
   "execution_count": 47,
   "id": "e59fb01c",
   "metadata": {},
   "outputs": [],
   "source": [
    "# Strings are immutable!!!"
   ]
  },
  {
   "cell_type": "code",
   "execution_count": 48,
   "id": "589b5ee7",
   "metadata": {},
   "outputs": [],
   "source": [
    "l1 = [1,2,3]"
   ]
  },
  {
   "cell_type": "code",
   "execution_count": 49,
   "id": "173fc8ae",
   "metadata": {},
   "outputs": [
    {
     "data": {
      "text/plain": [
       "1917495019008"
      ]
     },
     "execution_count": 49,
     "metadata": {},
     "output_type": "execute_result"
    }
   ],
   "source": [
    "id(l1)"
   ]
  },
  {
   "cell_type": "code",
   "execution_count": null,
   "id": "999d05b5",
   "metadata": {},
   "outputs": [],
   "source": []
  },
  {
   "cell_type": "code",
   "execution_count": 50,
   "id": "6aa9711d",
   "metadata": {},
   "outputs": [],
   "source": [
    "s1 = \"welcome to Python!\""
   ]
  },
  {
   "cell_type": "code",
   "execution_count": 51,
   "id": "a59d0ff8",
   "metadata": {},
   "outputs": [
    {
     "data": {
      "text/plain": [
       "'welcome to Python!'"
      ]
     },
     "execution_count": 51,
     "metadata": {},
     "output_type": "execute_result"
    }
   ],
   "source": [
    "s1"
   ]
  },
  {
   "cell_type": "code",
   "execution_count": 52,
   "id": "9694c089",
   "metadata": {},
   "outputs": [],
   "source": [
    "l2 = [\"hi\", 20, 10.5]"
   ]
  },
  {
   "cell_type": "code",
   "execution_count": 53,
   "id": "ba439e5c",
   "metadata": {},
   "outputs": [
    {
     "data": {
      "text/plain": [
       "['hi', 20, 10.5]"
      ]
     },
     "execution_count": 53,
     "metadata": {},
     "output_type": "execute_result"
    }
   ],
   "source": [
    "l2"
   ]
  },
  {
   "cell_type": "code",
   "execution_count": 54,
   "id": "e76e7f12",
   "metadata": {},
   "outputs": [
    {
     "data": {
      "text/plain": [
       "'hi'"
      ]
     },
     "execution_count": 54,
     "metadata": {},
     "output_type": "execute_result"
    }
   ],
   "source": [
    "l2[0]"
   ]
  },
  {
   "cell_type": "code",
   "execution_count": 55,
   "id": "f300ca4c",
   "metadata": {},
   "outputs": [],
   "source": [
    "l2[0] = \"hello\""
   ]
  },
  {
   "cell_type": "code",
   "execution_count": 56,
   "id": "21c5bf0b",
   "metadata": {},
   "outputs": [
    {
     "data": {
      "text/plain": [
       "['hello', 20, 10.5]"
      ]
     },
     "execution_count": 56,
     "metadata": {},
     "output_type": "execute_result"
    }
   ],
   "source": [
    "l2"
   ]
  },
  {
   "cell_type": "code",
   "execution_count": 57,
   "id": "019f5731",
   "metadata": {},
   "outputs": [
    {
     "data": {
      "text/plain": [
       "['hello', 20, 10.5]"
      ]
     },
     "execution_count": 57,
     "metadata": {},
     "output_type": "execute_result"
    }
   ],
   "source": [
    "l2"
   ]
  },
  {
   "cell_type": "code",
   "execution_count": 58,
   "id": "bee260ff",
   "metadata": {},
   "outputs": [
    {
     "data": {
      "text/plain": [
       "'hello'"
      ]
     },
     "execution_count": 58,
     "metadata": {},
     "output_type": "execute_result"
    }
   ],
   "source": [
    "l2[0]"
   ]
  },
  {
   "cell_type": "code",
   "execution_count": 59,
   "id": "0e871597",
   "metadata": {},
   "outputs": [
    {
     "data": {
      "text/plain": [
       "'h'"
      ]
     },
     "execution_count": 59,
     "metadata": {},
     "output_type": "execute_result"
    }
   ],
   "source": [
    "l2[0][0]"
   ]
  },
  {
   "cell_type": "code",
   "execution_count": 60,
   "id": "7f004f6b",
   "metadata": {},
   "outputs": [
    {
     "ename": "TypeError",
     "evalue": "'str' object does not support item assignment",
     "output_type": "error",
     "traceback": [
      "\u001b[1;31m---------------------------------------------------------------------------\u001b[0m",
      "\u001b[1;31mTypeError\u001b[0m                                 Traceback (most recent call last)",
      "Cell \u001b[1;32mIn[60], line 1\u001b[0m\n\u001b[1;32m----> 1\u001b[0m l2[\u001b[38;5;241m0\u001b[39m][\u001b[38;5;241m0\u001b[39m] \u001b[38;5;241m=\u001b[39m \u001b[38;5;124m'\u001b[39m\u001b[38;5;124mH\u001b[39m\u001b[38;5;124m'\u001b[39m\n",
      "\u001b[1;31mTypeError\u001b[0m: 'str' object does not support item assignment"
     ]
    }
   ],
   "source": [
    "l2[0][0] = 'H'"
   ]
  },
  {
   "cell_type": "code",
   "execution_count": null,
   "id": "1a12ef2e",
   "metadata": {},
   "outputs": [],
   "source": []
  },
  {
   "cell_type": "code",
   "execution_count": 61,
   "id": "424a5e13",
   "metadata": {},
   "outputs": [
    {
     "data": {
      "text/plain": [
       "['hello', 20, 10.5]"
      ]
     },
     "execution_count": 61,
     "metadata": {},
     "output_type": "execute_result"
    }
   ],
   "source": [
    "l2"
   ]
  },
  {
   "cell_type": "code",
   "execution_count": 62,
   "id": "db65b169",
   "metadata": {},
   "outputs": [
    {
     "data": {
      "text/plain": [
       "'hello'"
      ]
     },
     "execution_count": 62,
     "metadata": {},
     "output_type": "execute_result"
    }
   ],
   "source": [
    "l2[0]"
   ]
  },
  {
   "cell_type": "code",
   "execution_count": 63,
   "id": "a01db424",
   "metadata": {},
   "outputs": [
    {
     "ename": "ValueError",
     "evalue": "invalid literal for int() with base 10: 'hello'",
     "output_type": "error",
     "traceback": [
      "\u001b[1;31m---------------------------------------------------------------------------\u001b[0m",
      "\u001b[1;31mValueError\u001b[0m                                Traceback (most recent call last)",
      "Cell \u001b[1;32mIn[63], line 1\u001b[0m\n\u001b[1;32m----> 1\u001b[0m \u001b[38;5;28mint\u001b[39m(l2[\u001b[38;5;241m0\u001b[39m])\n",
      "\u001b[1;31mValueError\u001b[0m: invalid literal for int() with base 10: 'hello'"
     ]
    }
   ],
   "source": [
    "int(l2[0])"
   ]
  },
  {
   "cell_type": "code",
   "execution_count": 64,
   "id": "511674ac",
   "metadata": {},
   "outputs": [
    {
     "data": {
      "text/plain": [
       "['hello', 20, 10.5]"
      ]
     },
     "execution_count": 64,
     "metadata": {},
     "output_type": "execute_result"
    }
   ],
   "source": [
    "l2"
   ]
  },
  {
   "cell_type": "code",
   "execution_count": 66,
   "id": "4c93ada0",
   "metadata": {},
   "outputs": [
    {
     "data": {
      "text/plain": [
       "'hello'"
      ]
     },
     "execution_count": 66,
     "metadata": {},
     "output_type": "execute_result"
    }
   ],
   "source": [
    "l2[0]"
   ]
  },
  {
   "cell_type": "code",
   "execution_count": 67,
   "id": "e8806bae",
   "metadata": {},
   "outputs": [
    {
     "data": {
      "text/plain": [
       "'h'"
      ]
     },
     "execution_count": 67,
     "metadata": {},
     "output_type": "execute_result"
    }
   ],
   "source": [
    "l2[0][0]"
   ]
  },
  {
   "cell_type": "code",
   "execution_count": 68,
   "id": "67b6c9f7",
   "metadata": {},
   "outputs": [
    {
     "ename": "TypeError",
     "evalue": "'str' object does not support item assignment",
     "output_type": "error",
     "traceback": [
      "\u001b[1;31m---------------------------------------------------------------------------\u001b[0m",
      "\u001b[1;31mTypeError\u001b[0m                                 Traceback (most recent call last)",
      "Cell \u001b[1;32mIn[68], line 1\u001b[0m\n\u001b[1;32m----> 1\u001b[0m l2[\u001b[38;5;241m0\u001b[39m][\u001b[38;5;241m0\u001b[39m] \u001b[38;5;241m=\u001b[39m \u001b[38;5;124m'\u001b[39m\u001b[38;5;124ms\u001b[39m\u001b[38;5;124m'\u001b[39m\n",
      "\u001b[1;31mTypeError\u001b[0m: 'str' object does not support item assignment"
     ]
    }
   ],
   "source": [
    "l2[0][0] = 's'"
   ]
  },
  {
   "cell_type": "code",
   "execution_count": 69,
   "id": "466e3c72",
   "metadata": {},
   "outputs": [
    {
     "data": {
      "text/plain": [
       "['hello', 20, 10.5]"
      ]
     },
     "execution_count": 69,
     "metadata": {},
     "output_type": "execute_result"
    }
   ],
   "source": [
    "l2"
   ]
  },
  {
   "cell_type": "code",
   "execution_count": 70,
   "id": "510417c5",
   "metadata": {},
   "outputs": [
    {
     "data": {
      "text/plain": [
       "'hello'"
      ]
     },
     "execution_count": 70,
     "metadata": {},
     "output_type": "execute_result"
    }
   ],
   "source": [
    "l2[0]"
   ]
  },
  {
   "cell_type": "code",
   "execution_count": 71,
   "id": "1523b98e",
   "metadata": {},
   "outputs": [],
   "source": [
    "l2[0] = 100000"
   ]
  },
  {
   "cell_type": "code",
   "execution_count": 72,
   "id": "f6846d0e",
   "metadata": {},
   "outputs": [
    {
     "data": {
      "text/plain": [
       "[100000, 20, 10.5]"
      ]
     },
     "execution_count": 72,
     "metadata": {},
     "output_type": "execute_result"
    }
   ],
   "source": [
    "l2"
   ]
  },
  {
   "cell_type": "code",
   "execution_count": 73,
   "id": "6fbe1938",
   "metadata": {},
   "outputs": [
    {
     "data": {
      "text/plain": [
       "[1, 2, 3]"
      ]
     },
     "execution_count": 73,
     "metadata": {},
     "output_type": "execute_result"
    }
   ],
   "source": [
    "l1"
   ]
  },
  {
   "cell_type": "code",
   "execution_count": 74,
   "id": "7851f604",
   "metadata": {},
   "outputs": [],
   "source": [
    "l3 = [\"hi\", 100]"
   ]
  },
  {
   "cell_type": "code",
   "execution_count": 75,
   "id": "47442383",
   "metadata": {},
   "outputs": [
    {
     "data": {
      "text/plain": [
       "['hi', 100]"
      ]
     },
     "execution_count": 75,
     "metadata": {},
     "output_type": "execute_result"
    }
   ],
   "source": [
    "l3"
   ]
  },
  {
   "cell_type": "code",
   "execution_count": 76,
   "id": "bc521eb8",
   "metadata": {},
   "outputs": [
    {
     "data": {
      "text/plain": [
       "'hi'"
      ]
     },
     "execution_count": 76,
     "metadata": {},
     "output_type": "execute_result"
    }
   ],
   "source": [
    "l3[0]"
   ]
  },
  {
   "cell_type": "code",
   "execution_count": 77,
   "id": "09542d81",
   "metadata": {},
   "outputs": [
    {
     "data": {
      "text/plain": [
       "'h'"
      ]
     },
     "execution_count": 77,
     "metadata": {},
     "output_type": "execute_result"
    }
   ],
   "source": [
    "l3[0][0]"
   ]
  },
  {
   "cell_type": "code",
   "execution_count": 78,
   "id": "208fbd54",
   "metadata": {},
   "outputs": [
    {
     "ename": "TypeError",
     "evalue": "'str' object does not support item assignment",
     "output_type": "error",
     "traceback": [
      "\u001b[1;31m---------------------------------------------------------------------------\u001b[0m",
      "\u001b[1;31mTypeError\u001b[0m                                 Traceback (most recent call last)",
      "Cell \u001b[1;32mIn[78], line 1\u001b[0m\n\u001b[1;32m----> 1\u001b[0m l3[\u001b[38;5;241m0\u001b[39m][\u001b[38;5;241m0\u001b[39m] \u001b[38;5;241m=\u001b[39m \u001b[38;5;124m'\u001b[39m\u001b[38;5;124mH\u001b[39m\u001b[38;5;124m'\u001b[39m\n",
      "\u001b[1;31mTypeError\u001b[0m: 'str' object does not support item assignment"
     ]
    }
   ],
   "source": [
    "l3[0][0] = 'H'"
   ]
  },
  {
   "cell_type": "code",
   "execution_count": 79,
   "id": "46cd9620",
   "metadata": {},
   "outputs": [
    {
     "data": {
      "text/plain": [
       "['hi', 100]"
      ]
     },
     "execution_count": 79,
     "metadata": {},
     "output_type": "execute_result"
    }
   ],
   "source": [
    "l3"
   ]
  },
  {
   "cell_type": "code",
   "execution_count": null,
   "id": "9757a34e",
   "metadata": {},
   "outputs": [],
   "source": []
  },
  {
   "cell_type": "code",
   "execution_count": 80,
   "id": "901287f7",
   "metadata": {},
   "outputs": [],
   "source": [
    "# Tuple\n",
    "# collection of heterogenous elements\n",
    "# Ordered\n",
    "# Indexing\n",
    "# Immutable - cannot change the elemenet of a tuple\n",
    "# Comma seperated elements/items enclosed within ()"
   ]
  },
  {
   "cell_type": "code",
   "execution_count": 81,
   "id": "6cfa6b83",
   "metadata": {},
   "outputs": [],
   "source": [
    "t1 = (10, 100.5, \"Hello\", True, 20)"
   ]
  },
  {
   "cell_type": "code",
   "execution_count": 82,
   "id": "973b4118",
   "metadata": {},
   "outputs": [
    {
     "data": {
      "text/plain": [
       "(10, 100.5, 'Hello', True, 20)"
      ]
     },
     "execution_count": 82,
     "metadata": {},
     "output_type": "execute_result"
    }
   ],
   "source": [
    "t1"
   ]
  },
  {
   "cell_type": "code",
   "execution_count": 83,
   "id": "c1468eb4",
   "metadata": {},
   "outputs": [
    {
     "data": {
      "text/plain": [
       "tuple"
      ]
     },
     "execution_count": 83,
     "metadata": {},
     "output_type": "execute_result"
    }
   ],
   "source": [
    "type(t1)"
   ]
  },
  {
   "cell_type": "code",
   "execution_count": 84,
   "id": "5a2d6787",
   "metadata": {},
   "outputs": [
    {
     "data": {
      "text/plain": [
       "5"
      ]
     },
     "execution_count": 84,
     "metadata": {},
     "output_type": "execute_result"
    }
   ],
   "source": [
    "len(t1)"
   ]
  },
  {
   "cell_type": "code",
   "execution_count": 85,
   "id": "afe92981",
   "metadata": {},
   "outputs": [],
   "source": [
    "# Indexing in tuples"
   ]
  },
  {
   "cell_type": "code",
   "execution_count": 86,
   "id": "3afaabaf",
   "metadata": {},
   "outputs": [
    {
     "data": {
      "text/plain": [
       "10"
      ]
     },
     "execution_count": 86,
     "metadata": {},
     "output_type": "execute_result"
    }
   ],
   "source": [
    "t1[0]"
   ]
  },
  {
   "cell_type": "code",
   "execution_count": 87,
   "id": "a9efc9f7",
   "metadata": {},
   "outputs": [
    {
     "data": {
      "text/plain": [
       "20"
      ]
     },
     "execution_count": 87,
     "metadata": {},
     "output_type": "execute_result"
    }
   ],
   "source": [
    "t1[-1]"
   ]
  },
  {
   "cell_type": "code",
   "execution_count": 88,
   "id": "38e4f32f",
   "metadata": {},
   "outputs": [
    {
     "data": {
      "text/plain": [
       "(10, 100.5, 'Hello', True, 20)"
      ]
     },
     "execution_count": 88,
     "metadata": {},
     "output_type": "execute_result"
    }
   ],
   "source": [
    "t1"
   ]
  },
  {
   "cell_type": "code",
   "execution_count": null,
   "id": "2cf59aec",
   "metadata": {},
   "outputs": [],
   "source": []
  },
  {
   "cell_type": "code",
   "execution_count": 89,
   "id": "1ff7f87d",
   "metadata": {},
   "outputs": [],
   "source": [
    "# Tuples are immutable"
   ]
  },
  {
   "cell_type": "code",
   "execution_count": 90,
   "id": "68bf2110",
   "metadata": {},
   "outputs": [
    {
     "ename": "TypeError",
     "evalue": "'tuple' object does not support item assignment",
     "output_type": "error",
     "traceback": [
      "\u001b[1;31m---------------------------------------------------------------------------\u001b[0m",
      "\u001b[1;31mTypeError\u001b[0m                                 Traceback (most recent call last)",
      "Cell \u001b[1;32mIn[90], line 1\u001b[0m\n\u001b[1;32m----> 1\u001b[0m t1[\u001b[38;5;241m0\u001b[39m] \u001b[38;5;241m=\u001b[39m \u001b[38;5;241m20\u001b[39m\n",
      "\u001b[1;31mTypeError\u001b[0m: 'tuple' object does not support item assignment"
     ]
    }
   ],
   "source": [
    "t1[0] = 20"
   ]
  },
  {
   "cell_type": "code",
   "execution_count": 91,
   "id": "2be854b1",
   "metadata": {},
   "outputs": [],
   "source": [
    "# Tuples can have duplicate elements"
   ]
  },
  {
   "cell_type": "code",
   "execution_count": 92,
   "id": "878bf033",
   "metadata": {},
   "outputs": [],
   "source": [
    "t2 = (10, 10, 10, 20, 40, 80, 10, 20)"
   ]
  },
  {
   "cell_type": "code",
   "execution_count": 93,
   "id": "6eed4397",
   "metadata": {},
   "outputs": [
    {
     "data": {
      "text/plain": [
       "(10, 10, 10, 20, 40, 80, 10, 20)"
      ]
     },
     "execution_count": 93,
     "metadata": {},
     "output_type": "execute_result"
    }
   ],
   "source": [
    "t2"
   ]
  },
  {
   "cell_type": "code",
   "execution_count": 94,
   "id": "007d2b63",
   "metadata": {},
   "outputs": [],
   "source": [
    "emp_id = 100001"
   ]
  },
  {
   "cell_type": "code",
   "execution_count": 95,
   "id": "26a2e5bb",
   "metadata": {},
   "outputs": [],
   "source": [
    "emp_id = '100001'"
   ]
  },
  {
   "cell_type": "code",
   "execution_count": 96,
   "id": "66447f9f",
   "metadata": {},
   "outputs": [],
   "source": [
    "months = (\"Jan\", \"Feb\", \"Mar\")"
   ]
  },
  {
   "cell_type": "code",
   "execution_count": 97,
   "id": "dbfbbc60",
   "metadata": {},
   "outputs": [
    {
     "data": {
      "text/plain": [
       "tuple"
      ]
     },
     "execution_count": 97,
     "metadata": {},
     "output_type": "execute_result"
    }
   ],
   "source": [
    "type(months)"
   ]
  },
  {
   "cell_type": "code",
   "execution_count": 98,
   "id": "80b67bd3",
   "metadata": {},
   "outputs": [],
   "source": [
    "days_of_a_week = [\"Mon\", \"Tues\", \"Wed\", \"Thur\", \"Fri\", \"Sat\", \"Sun\"]"
   ]
  },
  {
   "cell_type": "code",
   "execution_count": 99,
   "id": "500b9dd8",
   "metadata": {},
   "outputs": [
    {
     "data": {
      "text/plain": [
       "['Mon', 'Tues', 'Wed', 'Thur', 'Fri', 'Sat', 'Sun']"
      ]
     },
     "execution_count": 99,
     "metadata": {},
     "output_type": "execute_result"
    }
   ],
   "source": [
    "days_of_a_week"
   ]
  },
  {
   "cell_type": "code",
   "execution_count": 100,
   "id": "ae379f31",
   "metadata": {},
   "outputs": [
    {
     "data": {
      "text/plain": [
       "'Mon'"
      ]
     },
     "execution_count": 100,
     "metadata": {},
     "output_type": "execute_result"
    }
   ],
   "source": [
    "days_of_a_week[0]"
   ]
  },
  {
   "cell_type": "code",
   "execution_count": 101,
   "id": "f47a305b",
   "metadata": {},
   "outputs": [],
   "source": [
    "days_of_a_week[0] = \"Fun\""
   ]
  },
  {
   "cell_type": "code",
   "execution_count": 102,
   "id": "bcdb9256",
   "metadata": {},
   "outputs": [
    {
     "data": {
      "text/plain": [
       "['Fun', 'Tues', 'Wed', 'Thur', 'Fri', 'Sat', 'Sun']"
      ]
     },
     "execution_count": 102,
     "metadata": {},
     "output_type": "execute_result"
    }
   ],
   "source": [
    "days_of_a_week"
   ]
  },
  {
   "cell_type": "code",
   "execution_count": null,
   "id": "a9839536",
   "metadata": {},
   "outputs": [],
   "source": []
  },
  {
   "cell_type": "code",
   "execution_count": 103,
   "id": "4ddf4a35",
   "metadata": {},
   "outputs": [
    {
     "data": {
      "text/plain": [
       "(10, 100.5, 'Hello', True, 20)"
      ]
     },
     "execution_count": 103,
     "metadata": {},
     "output_type": "execute_result"
    }
   ],
   "source": [
    "t1"
   ]
  },
  {
   "cell_type": "code",
   "execution_count": 104,
   "id": "61c34849",
   "metadata": {},
   "outputs": [
    {
     "data": {
      "text/plain": [
       "(10, 10, 10, 20, 40, 80, 10, 20)"
      ]
     },
     "execution_count": 104,
     "metadata": {},
     "output_type": "execute_result"
    }
   ],
   "source": [
    "t2"
   ]
  },
  {
   "cell_type": "code",
   "execution_count": 105,
   "id": "34442ec9",
   "metadata": {},
   "outputs": [],
   "source": [
    "# Contatination of a tuple"
   ]
  },
  {
   "cell_type": "code",
   "execution_count": 106,
   "id": "d9ab5462",
   "metadata": {},
   "outputs": [
    {
     "data": {
      "text/plain": [
       "(10, 100.5, 'Hello', True, 20, 10, 10, 10, 20, 40, 80, 10, 20)"
      ]
     },
     "execution_count": 106,
     "metadata": {},
     "output_type": "execute_result"
    }
   ],
   "source": [
    "t1 + t2"
   ]
  },
  {
   "cell_type": "code",
   "execution_count": 107,
   "id": "0d3f0a0e",
   "metadata": {},
   "outputs": [
    {
     "data": {
      "text/plain": [
       "(10, 100.5, 'Hello', True, 20, 10, 100.5, 'Hello', True, 20)"
      ]
     },
     "execution_count": 107,
     "metadata": {},
     "output_type": "execute_result"
    }
   ],
   "source": [
    "t1 * 2"
   ]
  },
  {
   "cell_type": "code",
   "execution_count": 108,
   "id": "057a5aeb",
   "metadata": {},
   "outputs": [
    {
     "data": {
      "text/plain": [
       "(10, 100.5, 'Hello', True, 20)"
      ]
     },
     "execution_count": 108,
     "metadata": {},
     "output_type": "execute_result"
    }
   ],
   "source": [
    "t1"
   ]
  },
  {
   "cell_type": "code",
   "execution_count": 109,
   "id": "495ac7d1",
   "metadata": {},
   "outputs": [
    {
     "data": {
      "text/plain": [
       "(100.5, 'Hello', True)"
      ]
     },
     "execution_count": 109,
     "metadata": {},
     "output_type": "execute_result"
    }
   ],
   "source": [
    "t1[1:4:1]"
   ]
  },
  {
   "cell_type": "code",
   "execution_count": null,
   "id": "aa207a83",
   "metadata": {},
   "outputs": [],
   "source": []
  },
  {
   "cell_type": "code",
   "execution_count": 110,
   "id": "1fc0eb6f",
   "metadata": {},
   "outputs": [
    {
     "data": {
      "text/plain": [
       "((10, 100.5, 'Hello', True, 20), (10, 10, 10, 20, 40, 80, 10, 20))"
      ]
     },
     "execution_count": 110,
     "metadata": {},
     "output_type": "execute_result"
    }
   ],
   "source": [
    "(t1, t2)"
   ]
  },
  {
   "cell_type": "code",
   "execution_count": 111,
   "id": "5a7309ed",
   "metadata": {},
   "outputs": [],
   "source": [
    "t3 = (t1, t2)"
   ]
  },
  {
   "cell_type": "code",
   "execution_count": 112,
   "id": "3b7db894",
   "metadata": {},
   "outputs": [
    {
     "data": {
      "text/plain": [
       "((10, 100.5, 'Hello', True, 20), (10, 10, 10, 20, 40, 80, 10, 20))"
      ]
     },
     "execution_count": 112,
     "metadata": {},
     "output_type": "execute_result"
    }
   ],
   "source": [
    "t3"
   ]
  },
  {
   "cell_type": "code",
   "execution_count": 113,
   "id": "bffd1409",
   "metadata": {},
   "outputs": [
    {
     "data": {
      "text/plain": [
       "2"
      ]
     },
     "execution_count": 113,
     "metadata": {},
     "output_type": "execute_result"
    }
   ],
   "source": [
    "len(t3)"
   ]
  },
  {
   "cell_type": "code",
   "execution_count": null,
   "id": "4f3c591c",
   "metadata": {},
   "outputs": [],
   "source": []
  },
  {
   "cell_type": "code",
   "execution_count": 114,
   "id": "69738607",
   "metadata": {},
   "outputs": [],
   "source": [
    "t4 = (10, 20.5, 'Python', [1,2,3], 900)"
   ]
  },
  {
   "cell_type": "code",
   "execution_count": 115,
   "id": "bd30097e",
   "metadata": {},
   "outputs": [
    {
     "data": {
      "text/plain": [
       "tuple"
      ]
     },
     "execution_count": 115,
     "metadata": {},
     "output_type": "execute_result"
    }
   ],
   "source": [
    "type(t4)"
   ]
  },
  {
   "cell_type": "code",
   "execution_count": 116,
   "id": "69def7ad",
   "metadata": {},
   "outputs": [
    {
     "data": {
      "text/plain": [
       "[1, 2, 3]"
      ]
     },
     "execution_count": 116,
     "metadata": {},
     "output_type": "execute_result"
    }
   ],
   "source": [
    "t4[-2]"
   ]
  },
  {
   "cell_type": "code",
   "execution_count": 117,
   "id": "d81be8fe",
   "metadata": {},
   "outputs": [
    {
     "data": {
      "text/plain": [
       "3"
      ]
     },
     "execution_count": 117,
     "metadata": {},
     "output_type": "execute_result"
    }
   ],
   "source": [
    "t4[-2][-1]"
   ]
  },
  {
   "cell_type": "code",
   "execution_count": 118,
   "id": "23eb4470",
   "metadata": {},
   "outputs": [
    {
     "data": {
      "text/plain": [
       "3"
      ]
     },
     "execution_count": 118,
     "metadata": {},
     "output_type": "execute_result"
    }
   ],
   "source": [
    "t4[3][-1]"
   ]
  },
  {
   "cell_type": "code",
   "execution_count": 119,
   "id": "e81b23f2",
   "metadata": {},
   "outputs": [
    {
     "data": {
      "text/plain": [
       "3"
      ]
     },
     "execution_count": 119,
     "metadata": {},
     "output_type": "execute_result"
    }
   ],
   "source": [
    "t4[3][2]"
   ]
  },
  {
   "cell_type": "code",
   "execution_count": 120,
   "id": "efcd1afe",
   "metadata": {},
   "outputs": [
    {
     "data": {
      "text/plain": [
       "(10, 20.5, 'Python', [1, 2, 3], 900)"
      ]
     },
     "execution_count": 120,
     "metadata": {},
     "output_type": "execute_result"
    }
   ],
   "source": [
    "t4"
   ]
  },
  {
   "cell_type": "code",
   "execution_count": 122,
   "id": "a67b0a1b",
   "metadata": {},
   "outputs": [],
   "source": [
    "t5 = (10, 20, (1,2,3))"
   ]
  },
  {
   "cell_type": "code",
   "execution_count": 123,
   "id": "d4f01ffd",
   "metadata": {},
   "outputs": [
    {
     "data": {
      "text/plain": [
       "(10, 20, (1, 2, 3))"
      ]
     },
     "execution_count": 123,
     "metadata": {},
     "output_type": "execute_result"
    }
   ],
   "source": [
    "t5"
   ]
  },
  {
   "cell_type": "code",
   "execution_count": 124,
   "id": "37089ef2",
   "metadata": {},
   "outputs": [
    {
     "data": {
      "text/plain": [
       "3"
      ]
     },
     "execution_count": 124,
     "metadata": {},
     "output_type": "execute_result"
    }
   ],
   "source": [
    "len(t5)"
   ]
  },
  {
   "cell_type": "code",
   "execution_count": 125,
   "id": "383de10d",
   "metadata": {},
   "outputs": [],
   "source": [
    "l1 = [10, 20, (1,2,3)]"
   ]
  },
  {
   "cell_type": "code",
   "execution_count": 126,
   "id": "60ca27a9",
   "metadata": {},
   "outputs": [
    {
     "data": {
      "text/plain": [
       "[10, 20, (1, 2, 3)]"
      ]
     },
     "execution_count": 126,
     "metadata": {},
     "output_type": "execute_result"
    }
   ],
   "source": [
    "l1"
   ]
  },
  {
   "cell_type": "code",
   "execution_count": 127,
   "id": "bc13cdcb",
   "metadata": {},
   "outputs": [
    {
     "data": {
      "text/plain": [
       "(10, 20.5, 'Python', [1, 2, 3], 900)"
      ]
     },
     "execution_count": 127,
     "metadata": {},
     "output_type": "execute_result"
    }
   ],
   "source": [
    "t4"
   ]
  },
  {
   "cell_type": "code",
   "execution_count": 128,
   "id": "262466d5",
   "metadata": {},
   "outputs": [
    {
     "data": {
      "text/plain": [
       "tuple"
      ]
     },
     "execution_count": 128,
     "metadata": {},
     "output_type": "execute_result"
    }
   ],
   "source": [
    "type(t4)"
   ]
  },
  {
   "cell_type": "code",
   "execution_count": 129,
   "id": "2028b5eb",
   "metadata": {},
   "outputs": [
    {
     "data": {
      "text/plain": [
       "[1, 2, 3]"
      ]
     },
     "execution_count": 129,
     "metadata": {},
     "output_type": "execute_result"
    }
   ],
   "source": [
    "t4[-2]"
   ]
  },
  {
   "cell_type": "code",
   "execution_count": 130,
   "id": "feef202d",
   "metadata": {},
   "outputs": [],
   "source": [
    "# What is t4[-2]??\n",
    "# List!!!"
   ]
  },
  {
   "cell_type": "code",
   "execution_count": 131,
   "id": "68f43bbb",
   "metadata": {},
   "outputs": [],
   "source": [
    "t4[-2][0] = 100"
   ]
  },
  {
   "cell_type": "code",
   "execution_count": 132,
   "id": "a51e37d9",
   "metadata": {},
   "outputs": [
    {
     "data": {
      "text/plain": [
       "(10, 20.5, 'Python', [100, 2, 3], 900)"
      ]
     },
     "execution_count": 132,
     "metadata": {},
     "output_type": "execute_result"
    }
   ],
   "source": [
    "t4"
   ]
  },
  {
   "cell_type": "code",
   "execution_count": 133,
   "id": "81360773",
   "metadata": {},
   "outputs": [
    {
     "data": {
      "text/plain": [
       "[100, 2, 3]"
      ]
     },
     "execution_count": 133,
     "metadata": {},
     "output_type": "execute_result"
    }
   ],
   "source": [
    "t4[-2]"
   ]
  },
  {
   "cell_type": "code",
   "execution_count": 134,
   "id": "5da4f87f",
   "metadata": {},
   "outputs": [
    {
     "ename": "TypeError",
     "evalue": "'tuple' object does not support item assignment",
     "output_type": "error",
     "traceback": [
      "\u001b[1;31m---------------------------------------------------------------------------\u001b[0m",
      "\u001b[1;31mTypeError\u001b[0m                                 Traceback (most recent call last)",
      "Cell \u001b[1;32mIn[134], line 1\u001b[0m\n\u001b[1;32m----> 1\u001b[0m t4[\u001b[38;5;241m-\u001b[39m\u001b[38;5;241m2\u001b[39m] \u001b[38;5;241m=\u001b[39m [\u001b[38;5;241m10\u001b[39m, \u001b[38;5;241m20\u001b[39m, \u001b[38;5;241m30\u001b[39m]\n",
      "\u001b[1;31mTypeError\u001b[0m: 'tuple' object does not support item assignment"
     ]
    }
   ],
   "source": [
    "t4[-2] = [10, 20, 30]"
   ]
  },
  {
   "cell_type": "code",
   "execution_count": null,
   "id": "ed3b0f90",
   "metadata": {},
   "outputs": [],
   "source": []
  },
  {
   "cell_type": "code",
   "execution_count": 137,
   "id": "ac40c102",
   "metadata": {},
   "outputs": [],
   "source": [
    "l4 = [10, 20, (1,2,3), 100]"
   ]
  },
  {
   "cell_type": "code",
   "execution_count": 138,
   "id": "09c7e51e",
   "metadata": {},
   "outputs": [
    {
     "data": {
      "text/plain": [
       "[10, 20, (1, 2, 3), 100]"
      ]
     },
     "execution_count": 138,
     "metadata": {},
     "output_type": "execute_result"
    }
   ],
   "source": [
    "l4"
   ]
  },
  {
   "cell_type": "code",
   "execution_count": 139,
   "id": "672ece67",
   "metadata": {},
   "outputs": [
    {
     "data": {
      "text/plain": [
       "(1, 2, 3)"
      ]
     },
     "execution_count": 139,
     "metadata": {},
     "output_type": "execute_result"
    }
   ],
   "source": [
    "l4[-2]"
   ]
  },
  {
   "cell_type": "code",
   "execution_count": 140,
   "id": "4f75b9fb",
   "metadata": {},
   "outputs": [
    {
     "ename": "TypeError",
     "evalue": "'tuple' object does not support item assignment",
     "output_type": "error",
     "traceback": [
      "\u001b[1;31m---------------------------------------------------------------------------\u001b[0m",
      "\u001b[1;31mTypeError\u001b[0m                                 Traceback (most recent call last)",
      "Cell \u001b[1;32mIn[140], line 1\u001b[0m\n\u001b[1;32m----> 1\u001b[0m l4[\u001b[38;5;241m-\u001b[39m\u001b[38;5;241m2\u001b[39m][\u001b[38;5;241m-\u001b[39m\u001b[38;5;241m1\u001b[39m] \u001b[38;5;241m=\u001b[39m \u001b[38;5;241m100\u001b[39m\n",
      "\u001b[1;31mTypeError\u001b[0m: 'tuple' object does not support item assignment"
     ]
    }
   ],
   "source": [
    "l4[-2][-1] = 100"
   ]
  },
  {
   "cell_type": "code",
   "execution_count": null,
   "id": "5a543d37",
   "metadata": {},
   "outputs": [],
   "source": []
  },
  {
   "cell_type": "code",
   "execution_count": 141,
   "id": "75781969",
   "metadata": {},
   "outputs": [],
   "source": [
    "# Sets\n",
    "# collection of elements enclosed within {}\n",
    "# comma separated values enclosed within {}\n",
    "\n",
    "# No duplicates are allowed/ Unique values only\n",
    "# Unordered\n",
    "# No indexing\n",
    "# Mutable"
   ]
  },
  {
   "cell_type": "code",
   "execution_count": 142,
   "id": "d5c48842",
   "metadata": {},
   "outputs": [],
   "source": [
    "set1 = {10, 20, 20.5, 'Python'}"
   ]
  },
  {
   "cell_type": "code",
   "execution_count": 143,
   "id": "2ee08dbf",
   "metadata": {},
   "outputs": [
    {
     "data": {
      "text/plain": [
       "{10, 20, 20.5, 'Python'}"
      ]
     },
     "execution_count": 143,
     "metadata": {},
     "output_type": "execute_result"
    }
   ],
   "source": [
    "set1"
   ]
  },
  {
   "cell_type": "code",
   "execution_count": 144,
   "id": "3ee718af",
   "metadata": {},
   "outputs": [
    {
     "data": {
      "text/plain": [
       "set"
      ]
     },
     "execution_count": 144,
     "metadata": {},
     "output_type": "execute_result"
    }
   ],
   "source": [
    "type(set1)"
   ]
  },
  {
   "cell_type": "code",
   "execution_count": 145,
   "id": "437e8bef",
   "metadata": {},
   "outputs": [],
   "source": [
    "set2 = {10, 'hello', 'Hello', True, 10.4}"
   ]
  },
  {
   "cell_type": "code",
   "execution_count": 146,
   "id": "5c94f3f2",
   "metadata": {},
   "outputs": [
    {
     "data": {
      "text/plain": [
       "{10, 10.4, 'Hello', True, 'hello'}"
      ]
     },
     "execution_count": 146,
     "metadata": {},
     "output_type": "execute_result"
    }
   ],
   "source": [
    "set2"
   ]
  },
  {
   "cell_type": "code",
   "execution_count": 147,
   "id": "2443c427",
   "metadata": {},
   "outputs": [
    {
     "ename": "TypeError",
     "evalue": "'set' object is not subscriptable",
     "output_type": "error",
     "traceback": [
      "\u001b[1;31m---------------------------------------------------------------------------\u001b[0m",
      "\u001b[1;31mTypeError\u001b[0m                                 Traceback (most recent call last)",
      "Cell \u001b[1;32mIn[147], line 1\u001b[0m\n\u001b[1;32m----> 1\u001b[0m set2[\u001b[38;5;241m0\u001b[39m]\n",
      "\u001b[1;31mTypeError\u001b[0m: 'set' object is not subscriptable"
     ]
    }
   ],
   "source": [
    "set2[0]"
   ]
  },
  {
   "cell_type": "code",
   "execution_count": null,
   "id": "6e257f31",
   "metadata": {},
   "outputs": [],
   "source": []
  },
  {
   "cell_type": "code",
   "execution_count": 148,
   "id": "5ce536b1",
   "metadata": {},
   "outputs": [],
   "source": [
    "set3 = {10, 10, 10, 20, 30, 40, 20, 30, 10}"
   ]
  },
  {
   "cell_type": "code",
   "execution_count": 149,
   "id": "9697ef81",
   "metadata": {},
   "outputs": [
    {
     "data": {
      "text/plain": [
       "{10, 20, 30, 40}"
      ]
     },
     "execution_count": 149,
     "metadata": {},
     "output_type": "execute_result"
    }
   ],
   "source": [
    "set3"
   ]
  },
  {
   "cell_type": "code",
   "execution_count": 150,
   "id": "ad9ba871",
   "metadata": {},
   "outputs": [],
   "source": [
    "set4 = {10, 10.0, 100}"
   ]
  },
  {
   "cell_type": "code",
   "execution_count": 151,
   "id": "9c1cf68c",
   "metadata": {},
   "outputs": [
    {
     "data": {
      "text/plain": [
       "{10, 100}"
      ]
     },
     "execution_count": 151,
     "metadata": {},
     "output_type": "execute_result"
    }
   ],
   "source": [
    "set4"
   ]
  },
  {
   "cell_type": "code",
   "execution_count": 152,
   "id": "1ab3e7bc",
   "metadata": {},
   "outputs": [],
   "source": [
    "set5 = {10, True, 1}"
   ]
  },
  {
   "cell_type": "code",
   "execution_count": 153,
   "id": "381009d7",
   "metadata": {},
   "outputs": [
    {
     "data": {
      "text/plain": [
       "{True, 10}"
      ]
     },
     "execution_count": 153,
     "metadata": {},
     "output_type": "execute_result"
    }
   ],
   "source": [
    "set5"
   ]
  },
  {
   "cell_type": "code",
   "execution_count": 154,
   "id": "310a7d6e",
   "metadata": {},
   "outputs": [],
   "source": [
    "set6 = {1, 2, 3, False, True, 0}"
   ]
  },
  {
   "cell_type": "code",
   "execution_count": 155,
   "id": "fa65e309",
   "metadata": {},
   "outputs": [
    {
     "data": {
      "text/plain": [
       "{False, 1, 2, 3}"
      ]
     },
     "execution_count": 155,
     "metadata": {},
     "output_type": "execute_result"
    }
   ],
   "source": [
    "set6"
   ]
  },
  {
   "cell_type": "code",
   "execution_count": 156,
   "id": "24cb7785",
   "metadata": {},
   "outputs": [],
   "source": [
    "# False and 0 are treated as duplicates in a set\n",
    "# True and 1 are treated as duplicates in a set"
   ]
  },
  {
   "cell_type": "code",
   "execution_count": null,
   "id": "119c9996",
   "metadata": {},
   "outputs": [],
   "source": []
  },
  {
   "cell_type": "code",
   "execution_count": 157,
   "id": "bea0c4f7",
   "metadata": {},
   "outputs": [
    {
     "data": {
      "text/plain": [
       "{True, 10}"
      ]
     },
     "execution_count": 157,
     "metadata": {},
     "output_type": "execute_result"
    }
   ],
   "source": [
    "set5"
   ]
  },
  {
   "cell_type": "code",
   "execution_count": 158,
   "id": "8f10b55f",
   "metadata": {},
   "outputs": [],
   "source": [
    "set7 = {10, 1, True}"
   ]
  },
  {
   "cell_type": "code",
   "execution_count": 159,
   "id": "a85f2757",
   "metadata": {},
   "outputs": [
    {
     "data": {
      "text/plain": [
       "{1, 10}"
      ]
     },
     "execution_count": 159,
     "metadata": {},
     "output_type": "execute_result"
    }
   ],
   "source": [
    "set7"
   ]
  },
  {
   "cell_type": "code",
   "execution_count": 160,
   "id": "cbe9cb41",
   "metadata": {},
   "outputs": [],
   "source": [
    "set8 = {10.0, 10, 1}"
   ]
  },
  {
   "cell_type": "code",
   "execution_count": 161,
   "id": "567e74a9",
   "metadata": {},
   "outputs": [
    {
     "data": {
      "text/plain": [
       "{1, 10.0}"
      ]
     },
     "execution_count": 161,
     "metadata": {},
     "output_type": "execute_result"
    }
   ],
   "source": [
    "set8"
   ]
  },
  {
   "cell_type": "code",
   "execution_count": null,
   "id": "9aa29d5a",
   "metadata": {},
   "outputs": [],
   "source": []
  },
  {
   "cell_type": "code",
   "execution_count": 162,
   "id": "61a5c9cf",
   "metadata": {},
   "outputs": [
    {
     "data": {
      "text/plain": [
       "{10, 20, 20.5, 'Python'}"
      ]
     },
     "execution_count": 162,
     "metadata": {},
     "output_type": "execute_result"
    }
   ],
   "source": [
    "set1"
   ]
  },
  {
   "cell_type": "code",
   "execution_count": 163,
   "id": "a79dc654",
   "metadata": {},
   "outputs": [],
   "source": [
    "set9 = {10, 10.5, \"Hello\", True, None}"
   ]
  },
  {
   "cell_type": "code",
   "execution_count": 164,
   "id": "444648a0",
   "metadata": {},
   "outputs": [
    {
     "data": {
      "text/plain": [
       "{10, 10.5, 'Hello', None, True}"
      ]
     },
     "execution_count": 164,
     "metadata": {},
     "output_type": "execute_result"
    }
   ],
   "source": [
    "set9"
   ]
  },
  {
   "cell_type": "code",
   "execution_count": 165,
   "id": "492e1061",
   "metadata": {},
   "outputs": [
    {
     "ename": "TypeError",
     "evalue": "unhashable type: 'list'",
     "output_type": "error",
     "traceback": [
      "\u001b[1;31m---------------------------------------------------------------------------\u001b[0m",
      "\u001b[1;31mTypeError\u001b[0m                                 Traceback (most recent call last)",
      "Cell \u001b[1;32mIn[165], line 1\u001b[0m\n\u001b[1;32m----> 1\u001b[0m set10 \u001b[38;5;241m=\u001b[39m {\u001b[38;5;241m10\u001b[39m, \u001b[38;5;241m20\u001b[39m, [\u001b[38;5;241m1\u001b[39m,\u001b[38;5;241m2\u001b[39m,\u001b[38;5;241m3\u001b[39m]}\n",
      "\u001b[1;31mTypeError\u001b[0m: unhashable type: 'list'"
     ]
    }
   ],
   "source": [
    "set10 = {10, 20, [1,2,3]}"
   ]
  },
  {
   "cell_type": "code",
   "execution_count": 166,
   "id": "1261c04f",
   "metadata": {},
   "outputs": [],
   "source": [
    "set10 = {10, 20, (1,2,3)}"
   ]
  },
  {
   "cell_type": "code",
   "execution_count": 167,
   "id": "a579301b",
   "metadata": {},
   "outputs": [
    {
     "data": {
      "text/plain": [
       "{(1, 2, 3), 10, 20}"
      ]
     },
     "execution_count": 167,
     "metadata": {},
     "output_type": "execute_result"
    }
   ],
   "source": [
    "set10"
   ]
  },
  {
   "cell_type": "code",
   "execution_count": 168,
   "id": "90a222b9",
   "metadata": {},
   "outputs": [],
   "source": [
    "# Mutable datatypes cannot be an element of a set!!!!!!\n",
    "# Only immutable datatypes can be an element of a set!!!!!!!"
   ]
  },
  {
   "cell_type": "code",
   "execution_count": null,
   "id": "0aa7b312",
   "metadata": {},
   "outputs": [],
   "source": []
  },
  {
   "cell_type": "code",
   "execution_count": 169,
   "id": "2b119400",
   "metadata": {},
   "outputs": [
    {
     "ename": "TypeError",
     "evalue": "unhashable type: 'set'",
     "output_type": "error",
     "traceback": [
      "\u001b[1;31m---------------------------------------------------------------------------\u001b[0m",
      "\u001b[1;31mTypeError\u001b[0m                                 Traceback (most recent call last)",
      "Cell \u001b[1;32mIn[169], line 1\u001b[0m\n\u001b[1;32m----> 1\u001b[0m set10 \u001b[38;5;241m=\u001b[39m {\u001b[38;5;241m10\u001b[39m, \u001b[38;5;241m20\u001b[39m, {\u001b[38;5;241m1\u001b[39m,\u001b[38;5;241m2\u001b[39m,\u001b[38;5;241m3\u001b[39m}}\n",
      "\u001b[1;31mTypeError\u001b[0m: unhashable type: 'set'"
     ]
    }
   ],
   "source": [
    "set10 = {10, 20, {1,2,3}}"
   ]
  },
  {
   "cell_type": "code",
   "execution_count": null,
   "id": "3745a692",
   "metadata": {},
   "outputs": [],
   "source": []
  },
  {
   "cell_type": "code",
   "execution_count": null,
   "id": "3734c2a8",
   "metadata": {},
   "outputs": [],
   "source": []
  }
 ],
 "metadata": {
  "kernelspec": {
   "display_name": "Python 3 (ipykernel)",
   "language": "python",
   "name": "python3"
  },
  "language_info": {
   "codemirror_mode": {
    "name": "ipython",
    "version": 3
   },
   "file_extension": ".py",
   "mimetype": "text/x-python",
   "name": "python",
   "nbconvert_exporter": "python",
   "pygments_lexer": "ipython3",
   "version": "3.11.4"
  }
 },
 "nbformat": 4,
 "nbformat_minor": 5
}
