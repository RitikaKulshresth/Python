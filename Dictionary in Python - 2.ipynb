{
 "cells": [
  {
   "cell_type": "code",
   "execution_count": 1,
   "id": "cc2f226c",
   "metadata": {},
   "outputs": [],
   "source": [
    "d1 = {'a': 20, 'b': 2, 'c': 10}"
   ]
  },
  {
   "cell_type": "code",
   "execution_count": 2,
   "id": "a19b7480",
   "metadata": {},
   "outputs": [
    {
     "data": {
      "text/plain": [
       "{'a': 20, 'b': 2, 'c': 10}"
      ]
     },
     "execution_count": 2,
     "metadata": {},
     "output_type": "execute_result"
    }
   ],
   "source": [
    "d1"
   ]
  },
  {
   "cell_type": "code",
   "execution_count": 3,
   "id": "4043b08d",
   "metadata": {},
   "outputs": [
    {
     "data": {
      "text/plain": [
       "20"
      ]
     },
     "execution_count": 3,
     "metadata": {},
     "output_type": "execute_result"
    }
   ],
   "source": [
    "d1.get('a')"
   ]
  },
  {
   "cell_type": "code",
   "execution_count": 4,
   "id": "96999013",
   "metadata": {},
   "outputs": [],
   "source": [
    "d1.get('z')"
   ]
  },
  {
   "cell_type": "code",
   "execution_count": 5,
   "id": "a2bbac1a",
   "metadata": {},
   "outputs": [
    {
     "name": "stdout",
     "output_type": "stream",
     "text": [
      "None\n"
     ]
    }
   ],
   "source": [
    "print(d1.get('z'))"
   ]
  },
  {
   "cell_type": "code",
   "execution_count": 6,
   "id": "d335c71f",
   "metadata": {},
   "outputs": [
    {
     "data": {
      "text/plain": [
       "0"
      ]
     },
     "execution_count": 6,
     "metadata": {},
     "output_type": "execute_result"
    }
   ],
   "source": [
    "d1.get('z', 0)"
   ]
  },
  {
   "cell_type": "code",
   "execution_count": 7,
   "id": "7f24275e",
   "metadata": {},
   "outputs": [
    {
     "data": {
      "text/plain": [
       "{'a': 20, 'b': 2, 'c': 10}"
      ]
     },
     "execution_count": 7,
     "metadata": {},
     "output_type": "execute_result"
    }
   ],
   "source": [
    "d1"
   ]
  },
  {
   "cell_type": "code",
   "execution_count": 8,
   "id": "1477e70c",
   "metadata": {},
   "outputs": [
    {
     "data": {
      "text/plain": [
       "10"
      ]
     },
     "execution_count": 8,
     "metadata": {},
     "output_type": "execute_result"
    }
   ],
   "source": [
    "d1.get('c', 0)"
   ]
  },
  {
   "cell_type": "code",
   "execution_count": null,
   "id": "80f638f3",
   "metadata": {},
   "outputs": [],
   "source": []
  },
  {
   "cell_type": "code",
   "execution_count": 9,
   "id": "8ddbcb60",
   "metadata": {},
   "outputs": [],
   "source": [
    "# update()"
   ]
  },
  {
   "cell_type": "code",
   "execution_count": 10,
   "id": "e06bdee4",
   "metadata": {},
   "outputs": [],
   "source": [
    "student1 = {'name': 'John', 'roll': 111}"
   ]
  },
  {
   "cell_type": "code",
   "execution_count": 11,
   "id": "9a4531d9",
   "metadata": {},
   "outputs": [
    {
     "data": {
      "text/plain": [
       "{'name': 'John', 'roll': 111}"
      ]
     },
     "execution_count": 11,
     "metadata": {},
     "output_type": "execute_result"
    }
   ],
   "source": [
    "student1"
   ]
  },
  {
   "cell_type": "code",
   "execution_count": 12,
   "id": "0dad70c7",
   "metadata": {},
   "outputs": [],
   "source": [
    "# Update the dictionary with student's percent and grade\n",
    "# percent => 78.5\n",
    "# grade => 'C'"
   ]
  },
  {
   "cell_type": "code",
   "execution_count": 13,
   "id": "09bf1aed",
   "metadata": {},
   "outputs": [],
   "source": [
    "student1.update({'percent':78.5, 'grade':'C'})"
   ]
  },
  {
   "cell_type": "code",
   "execution_count": 14,
   "id": "e6c1c667",
   "metadata": {},
   "outputs": [
    {
     "data": {
      "text/plain": [
       "{'name': 'John', 'roll': 111, 'percent': 78.5, 'grade': 'C'}"
      ]
     },
     "execution_count": 14,
     "metadata": {},
     "output_type": "execute_result"
    }
   ],
   "source": [
    "student1"
   ]
  },
  {
   "cell_type": "code",
   "execution_count": null,
   "id": "8f3a1ea5",
   "metadata": {},
   "outputs": [],
   "source": []
  },
  {
   "cell_type": "code",
   "execution_count": 15,
   "id": "1d6b6268",
   "metadata": {},
   "outputs": [],
   "source": [
    "# pop()"
   ]
  },
  {
   "cell_type": "code",
   "execution_count": 16,
   "id": "0ede7a5e",
   "metadata": {},
   "outputs": [],
   "source": [
    "# it takes the key as the argument\n",
    "# deletes the key-value pair from the dictionary\n",
    "# and returns the value"
   ]
  },
  {
   "cell_type": "code",
   "execution_count": 17,
   "id": "6ba0d3a3",
   "metadata": {},
   "outputs": [
    {
     "data": {
      "text/plain": [
       "111"
      ]
     },
     "execution_count": 17,
     "metadata": {},
     "output_type": "execute_result"
    }
   ],
   "source": [
    "student1.pop('roll')"
   ]
  },
  {
   "cell_type": "code",
   "execution_count": 18,
   "id": "cc06aa7b",
   "metadata": {},
   "outputs": [
    {
     "data": {
      "text/plain": [
       "{'name': 'John', 'percent': 78.5, 'grade': 'C'}"
      ]
     },
     "execution_count": 18,
     "metadata": {},
     "output_type": "execute_result"
    }
   ],
   "source": [
    "student1"
   ]
  },
  {
   "cell_type": "code",
   "execution_count": 19,
   "id": "5d51efe6",
   "metadata": {},
   "outputs": [
    {
     "ename": "KeyError",
     "evalue": "'phone'",
     "output_type": "error",
     "traceback": [
      "\u001b[1;31m---------------------------------------------------------------------------\u001b[0m",
      "\u001b[1;31mKeyError\u001b[0m                                  Traceback (most recent call last)",
      "Cell \u001b[1;32mIn[19], line 1\u001b[0m\n\u001b[1;32m----> 1\u001b[0m student1\u001b[38;5;241m.\u001b[39mpop(\u001b[38;5;124m'\u001b[39m\u001b[38;5;124mphone\u001b[39m\u001b[38;5;124m'\u001b[39m)\n",
      "\u001b[1;31mKeyError\u001b[0m: 'phone'"
     ]
    }
   ],
   "source": [
    "student1.pop('phone')"
   ]
  },
  {
   "cell_type": "code",
   "execution_count": null,
   "id": "bc9037b9",
   "metadata": {},
   "outputs": [],
   "source": []
  },
  {
   "cell_type": "code",
   "execution_count": 20,
   "id": "f0a1d249",
   "metadata": {},
   "outputs": [
    {
     "data": {
      "text/plain": [
       "{'name': 'John', 'percent': 78.5, 'grade': 'C'}"
      ]
     },
     "execution_count": 20,
     "metadata": {},
     "output_type": "execute_result"
    }
   ],
   "source": [
    "student1"
   ]
  },
  {
   "cell_type": "code",
   "execution_count": 21,
   "id": "788aca25",
   "metadata": {},
   "outputs": [],
   "source": [
    "student1.update({'roll': 1234, 'percent': 71.5})"
   ]
  },
  {
   "cell_type": "code",
   "execution_count": 22,
   "id": "a5419a18",
   "metadata": {},
   "outputs": [
    {
     "data": {
      "text/plain": [
       "{'name': 'John', 'percent': 71.5, 'grade': 'C', 'roll': 1234}"
      ]
     },
     "execution_count": 22,
     "metadata": {},
     "output_type": "execute_result"
    }
   ],
   "source": [
    "student1"
   ]
  },
  {
   "cell_type": "code",
   "execution_count": null,
   "id": "ee74e1fd",
   "metadata": {},
   "outputs": [],
   "source": []
  },
  {
   "cell_type": "code",
   "execution_count": 23,
   "id": "56b0781a",
   "metadata": {},
   "outputs": [],
   "source": [
    "str1 = \"Hello World\""
   ]
  },
  {
   "cell_type": "code",
   "execution_count": 25,
   "id": "317fabd0",
   "metadata": {},
   "outputs": [],
   "source": [
    "# WAP to count the number of times each character of the string str1 occur\n",
    "# The output should be a dict\n",
    "# {'H':1, 'e':1, 'l':3, 'o': 2, .......}\n",
    "\n",
    "# DO NOT USE any built in function"
   ]
  },
  {
   "cell_type": "code",
   "execution_count": 26,
   "id": "d2f88ac5",
   "metadata": {},
   "outputs": [
    {
     "name": "stdout",
     "output_type": "stream",
     "text": [
      "H\n",
      "e\n",
      "l\n",
      "l\n",
      "o\n",
      " \n",
      "W\n",
      "o\n",
      "r\n",
      "l\n",
      "d\n"
     ]
    }
   ],
   "source": [
    "out = {}\n",
    "\n",
    "for char in str1:\n",
    "    print(char)"
   ]
  },
  {
   "cell_type": "code",
   "execution_count": 27,
   "id": "083ea705",
   "metadata": {},
   "outputs": [
    {
     "name": "stdout",
     "output_type": "stream",
     "text": [
      "{'H': 1, 'e': 1, 'l': 3, 'o': 2, ' ': 1, 'W': 1, 'r': 1, 'd': 1}\n"
     ]
    }
   ],
   "source": [
    "out = {}\n",
    "\n",
    "for char in str1:\n",
    "    if char in out:\n",
    "        out[char] = out[char] + 1 # out[char] += 1\n",
    "    else:\n",
    "        out[char] = 1 # out.update({char:1})\n",
    "        \n",
    "print(out)"
   ]
  },
  {
   "cell_type": "code",
   "execution_count": null,
   "id": "015d5ca0",
   "metadata": {},
   "outputs": [],
   "source": []
  },
  {
   "cell_type": "code",
   "execution_count": 28,
   "id": "b5955935",
   "metadata": {},
   "outputs": [],
   "source": [
    "# copy()"
   ]
  },
  {
   "cell_type": "code",
   "execution_count": 29,
   "id": "672d9f58",
   "metadata": {},
   "outputs": [
    {
     "data": {
      "text/plain": [
       "{'name': 'John', 'percent': 71.5, 'grade': 'C', 'roll': 1234}"
      ]
     },
     "execution_count": 29,
     "metadata": {},
     "output_type": "execute_result"
    }
   ],
   "source": [
    "student1"
   ]
  },
  {
   "cell_type": "code",
   "execution_count": 30,
   "id": "67323e2c",
   "metadata": {},
   "outputs": [],
   "source": [
    "# ALiasing\n",
    "student2 = student1"
   ]
  },
  {
   "cell_type": "code",
   "execution_count": 31,
   "id": "a15249a9",
   "metadata": {},
   "outputs": [
    {
     "data": {
      "text/plain": [
       "{'name': 'John', 'percent': 71.5, 'grade': 'C', 'roll': 1234}"
      ]
     },
     "execution_count": 31,
     "metadata": {},
     "output_type": "execute_result"
    }
   ],
   "source": [
    "student2"
   ]
  },
  {
   "cell_type": "code",
   "execution_count": 32,
   "id": "f5ecb5b0",
   "metadata": {},
   "outputs": [],
   "source": [
    "student2['roll'] = 67865456"
   ]
  },
  {
   "cell_type": "code",
   "execution_count": 33,
   "id": "b8a9565f",
   "metadata": {},
   "outputs": [
    {
     "data": {
      "text/plain": [
       "{'name': 'John', 'percent': 71.5, 'grade': 'C', 'roll': 67865456}"
      ]
     },
     "execution_count": 33,
     "metadata": {},
     "output_type": "execute_result"
    }
   ],
   "source": [
    "student2"
   ]
  },
  {
   "cell_type": "code",
   "execution_count": 34,
   "id": "97ec4ebd",
   "metadata": {},
   "outputs": [
    {
     "data": {
      "text/plain": [
       "{'name': 'John', 'percent': 71.5, 'grade': 'C', 'roll': 67865456}"
      ]
     },
     "execution_count": 34,
     "metadata": {},
     "output_type": "execute_result"
    }
   ],
   "source": [
    "student1"
   ]
  },
  {
   "cell_type": "code",
   "execution_count": null,
   "id": "a1c20821",
   "metadata": {},
   "outputs": [],
   "source": []
  },
  {
   "cell_type": "code",
   "execution_count": 35,
   "id": "9c8199a7",
   "metadata": {},
   "outputs": [
    {
     "data": {
      "text/plain": [
       "True"
      ]
     },
     "execution_count": 35,
     "metadata": {},
     "output_type": "execute_result"
    }
   ],
   "source": [
    "student1 is student2"
   ]
  },
  {
   "cell_type": "code",
   "execution_count": null,
   "id": "cefd3096",
   "metadata": {},
   "outputs": [],
   "source": []
  },
  {
   "cell_type": "code",
   "execution_count": 36,
   "id": "18a71989",
   "metadata": {},
   "outputs": [],
   "source": [
    "# copy/cloning"
   ]
  },
  {
   "cell_type": "code",
   "execution_count": 37,
   "id": "a5310184",
   "metadata": {},
   "outputs": [],
   "source": [
    "# Or Shallow Copy"
   ]
  },
  {
   "cell_type": "code",
   "execution_count": 38,
   "id": "1e3b4ab3",
   "metadata": {},
   "outputs": [],
   "source": [
    "student3 = student1.copy()"
   ]
  },
  {
   "cell_type": "code",
   "execution_count": 39,
   "id": "7fb0fba4",
   "metadata": {},
   "outputs": [
    {
     "data": {
      "text/plain": [
       "{'name': 'John', 'percent': 71.5, 'grade': 'C', 'roll': 67865456}"
      ]
     },
     "execution_count": 39,
     "metadata": {},
     "output_type": "execute_result"
    }
   ],
   "source": [
    "student3"
   ]
  },
  {
   "cell_type": "code",
   "execution_count": 40,
   "id": "0365ff57",
   "metadata": {},
   "outputs": [
    {
     "data": {
      "text/plain": [
       "{'name': 'John', 'percent': 71.5, 'grade': 'C', 'roll': 67865456}"
      ]
     },
     "execution_count": 40,
     "metadata": {},
     "output_type": "execute_result"
    }
   ],
   "source": [
    "student1"
   ]
  },
  {
   "cell_type": "code",
   "execution_count": 41,
   "id": "4c05bb61",
   "metadata": {},
   "outputs": [],
   "source": [
    "student1['name'] = 'Jill'"
   ]
  },
  {
   "cell_type": "code",
   "execution_count": 42,
   "id": "a4bd8ba6",
   "metadata": {},
   "outputs": [
    {
     "data": {
      "text/plain": [
       "{'name': 'Jill', 'percent': 71.5, 'grade': 'C', 'roll': 67865456}"
      ]
     },
     "execution_count": 42,
     "metadata": {},
     "output_type": "execute_result"
    }
   ],
   "source": [
    "student1"
   ]
  },
  {
   "cell_type": "code",
   "execution_count": 43,
   "id": "9ebdbbab",
   "metadata": {},
   "outputs": [
    {
     "data": {
      "text/plain": [
       "{'name': 'John', 'percent': 71.5, 'grade': 'C', 'roll': 67865456}"
      ]
     },
     "execution_count": 43,
     "metadata": {},
     "output_type": "execute_result"
    }
   ],
   "source": [
    "student3"
   ]
  },
  {
   "cell_type": "code",
   "execution_count": null,
   "id": "1edfd82e",
   "metadata": {},
   "outputs": [],
   "source": []
  },
  {
   "cell_type": "code",
   "execution_count": 44,
   "id": "3afc1eeb",
   "metadata": {},
   "outputs": [
    {
     "data": {
      "text/plain": [
       "{'name': 'Jill', 'percent': 71.5, 'grade': 'C', 'roll': 67865456}"
      ]
     },
     "execution_count": 44,
     "metadata": {},
     "output_type": "execute_result"
    }
   ],
   "source": [
    "student1"
   ]
  },
  {
   "cell_type": "code",
   "execution_count": 45,
   "id": "93abf613",
   "metadata": {},
   "outputs": [],
   "source": [
    "student1['marks'] = {'maths': 78.5, 'eng': 76.0, 'python': 89.5}"
   ]
  },
  {
   "cell_type": "code",
   "execution_count": 46,
   "id": "7c0c4576",
   "metadata": {},
   "outputs": [
    {
     "data": {
      "text/plain": [
       "{'name': 'Jill',\n",
       " 'percent': 71.5,\n",
       " 'grade': 'C',\n",
       " 'roll': 67865456,\n",
       " 'marks': {'maths': 78.5, 'eng': 76.0, 'python': 89.5}}"
      ]
     },
     "execution_count": 46,
     "metadata": {},
     "output_type": "execute_result"
    }
   ],
   "source": [
    "student1"
   ]
  },
  {
   "cell_type": "code",
   "execution_count": 47,
   "id": "3c4090bf",
   "metadata": {},
   "outputs": [
    {
     "data": {
      "text/plain": [
       "{'name': 'John', 'percent': 71.5, 'grade': 'C', 'roll': 67865456}"
      ]
     },
     "execution_count": 47,
     "metadata": {},
     "output_type": "execute_result"
    }
   ],
   "source": [
    "student3"
   ]
  },
  {
   "cell_type": "code",
   "execution_count": 48,
   "id": "32bb41a0",
   "metadata": {},
   "outputs": [],
   "source": [
    "student4 = student1.copy()"
   ]
  },
  {
   "cell_type": "code",
   "execution_count": 49,
   "id": "0612b5b1",
   "metadata": {},
   "outputs": [
    {
     "data": {
      "text/plain": [
       "{'name': 'Jill',\n",
       " 'percent': 71.5,\n",
       " 'grade': 'C',\n",
       " 'roll': 67865456,\n",
       " 'marks': {'maths': 78.5, 'eng': 76.0, 'python': 89.5}}"
      ]
     },
     "execution_count": 49,
     "metadata": {},
     "output_type": "execute_result"
    }
   ],
   "source": [
    "student4"
   ]
  },
  {
   "cell_type": "code",
   "execution_count": 50,
   "id": "7730b8b4",
   "metadata": {},
   "outputs": [
    {
     "data": {
      "text/plain": [
       "{'name': 'Jill',\n",
       " 'percent': 71.5,\n",
       " 'grade': 'C',\n",
       " 'roll': 67865456,\n",
       " 'marks': {'maths': 78.5, 'eng': 76.0, 'python': 89.5}}"
      ]
     },
     "execution_count": 50,
     "metadata": {},
     "output_type": "execute_result"
    }
   ],
   "source": [
    "student1"
   ]
  },
  {
   "cell_type": "code",
   "execution_count": 51,
   "id": "f06881f7",
   "metadata": {},
   "outputs": [],
   "source": [
    "# Change the marks of 'eng' to 71.0"
   ]
  },
  {
   "cell_type": "code",
   "execution_count": 52,
   "id": "9c83665c",
   "metadata": {},
   "outputs": [
    {
     "data": {
      "text/plain": [
       "{'maths': 78.5, 'eng': 76.0, 'python': 89.5}"
      ]
     },
     "execution_count": 52,
     "metadata": {},
     "output_type": "execute_result"
    }
   ],
   "source": [
    "student1['marks']"
   ]
  },
  {
   "cell_type": "code",
   "execution_count": 54,
   "id": "7d436724",
   "metadata": {},
   "outputs": [
    {
     "data": {
      "text/plain": [
       "76.0"
      ]
     },
     "execution_count": 54,
     "metadata": {},
     "output_type": "execute_result"
    }
   ],
   "source": [
    "student1['marks']['eng']"
   ]
  },
  {
   "cell_type": "code",
   "execution_count": 55,
   "id": "c7575b21",
   "metadata": {},
   "outputs": [],
   "source": [
    "student1['marks']['eng'] = 71.0"
   ]
  },
  {
   "cell_type": "code",
   "execution_count": 56,
   "id": "124d30a4",
   "metadata": {},
   "outputs": [
    {
     "data": {
      "text/plain": [
       "{'name': 'Jill',\n",
       " 'percent': 71.5,\n",
       " 'grade': 'C',\n",
       " 'roll': 67865456,\n",
       " 'marks': {'maths': 78.5, 'eng': 71.0, 'python': 89.5}}"
      ]
     },
     "execution_count": 56,
     "metadata": {},
     "output_type": "execute_result"
    }
   ],
   "source": [
    "student1"
   ]
  },
  {
   "cell_type": "code",
   "execution_count": 57,
   "id": "5f9d3c80",
   "metadata": {},
   "outputs": [],
   "source": [
    "# Will this change reflect in student4?"
   ]
  },
  {
   "cell_type": "code",
   "execution_count": 58,
   "id": "f1968049",
   "metadata": {},
   "outputs": [],
   "source": [
    "# Yes, becuase the inner dict memory address is not copied."
   ]
  },
  {
   "cell_type": "code",
   "execution_count": 59,
   "id": "c28edf92",
   "metadata": {},
   "outputs": [
    {
     "data": {
      "text/plain": [
       "{'name': 'Jill',\n",
       " 'percent': 71.5,\n",
       " 'grade': 'C',\n",
       " 'roll': 67865456,\n",
       " 'marks': {'maths': 78.5, 'eng': 71.0, 'python': 89.5}}"
      ]
     },
     "execution_count": 59,
     "metadata": {},
     "output_type": "execute_result"
    }
   ],
   "source": [
    "student4"
   ]
  },
  {
   "cell_type": "code",
   "execution_count": 60,
   "id": "af654fc5",
   "metadata": {},
   "outputs": [],
   "source": [
    "# How to overcome this ? => Deep copy"
   ]
  },
  {
   "cell_type": "code",
   "execution_count": 61,
   "id": "e8ec0639",
   "metadata": {},
   "outputs": [],
   "source": [
    "import copy"
   ]
  },
  {
   "cell_type": "code",
   "execution_count": 62,
   "id": "efd0f95e",
   "metadata": {},
   "outputs": [],
   "source": [
    "student5 = copy.deepcopy(student1)"
   ]
  },
  {
   "cell_type": "code",
   "execution_count": 63,
   "id": "dee1072c",
   "metadata": {},
   "outputs": [
    {
     "data": {
      "text/plain": [
       "{'name': 'Jill',\n",
       " 'percent': 71.5,\n",
       " 'grade': 'C',\n",
       " 'roll': 67865456,\n",
       " 'marks': {'maths': 78.5, 'eng': 71.0, 'python': 89.5}}"
      ]
     },
     "execution_count": 63,
     "metadata": {},
     "output_type": "execute_result"
    }
   ],
   "source": [
    "student5"
   ]
  },
  {
   "cell_type": "code",
   "execution_count": 64,
   "id": "dffce172",
   "metadata": {},
   "outputs": [],
   "source": [
    "student1['marks']['maths'] = 81.0"
   ]
  },
  {
   "cell_type": "code",
   "execution_count": 65,
   "id": "226ee285",
   "metadata": {},
   "outputs": [
    {
     "data": {
      "text/plain": [
       "{'name': 'Jill',\n",
       " 'percent': 71.5,\n",
       " 'grade': 'C',\n",
       " 'roll': 67865456,\n",
       " 'marks': {'maths': 81.0, 'eng': 71.0, 'python': 89.5}}"
      ]
     },
     "execution_count": 65,
     "metadata": {},
     "output_type": "execute_result"
    }
   ],
   "source": [
    "student1"
   ]
  },
  {
   "cell_type": "code",
   "execution_count": 66,
   "id": "0d032bd7",
   "metadata": {},
   "outputs": [],
   "source": [
    "# Will the change reflect in student5?"
   ]
  },
  {
   "cell_type": "code",
   "execution_count": 67,
   "id": "06100e88",
   "metadata": {},
   "outputs": [],
   "source": [
    "# No, because the memory address of the inner dict is different (because of deepcopy)"
   ]
  },
  {
   "cell_type": "code",
   "execution_count": 68,
   "id": "5b302a25",
   "metadata": {},
   "outputs": [
    {
     "data": {
      "text/plain": [
       "{'name': 'Jill',\n",
       " 'percent': 71.5,\n",
       " 'grade': 'C',\n",
       " 'roll': 67865456,\n",
       " 'marks': {'maths': 78.5, 'eng': 71.0, 'python': 89.5}}"
      ]
     },
     "execution_count": 68,
     "metadata": {},
     "output_type": "execute_result"
    }
   ],
   "source": [
    "student5"
   ]
  },
  {
   "cell_type": "code",
   "execution_count": null,
   "id": "8e305056",
   "metadata": {},
   "outputs": [],
   "source": []
  },
  {
   "cell_type": "code",
   "execution_count": 69,
   "id": "01c35c92",
   "metadata": {},
   "outputs": [
    {
     "ename": "TypeError",
     "evalue": "list indices must be integers or slices, not str",
     "output_type": "error",
     "traceback": [
      "\u001b[1;31m---------------------------------------------------------------------------\u001b[0m",
      "\u001b[1;31mTypeError\u001b[0m                                 Traceback (most recent call last)",
      "Cell \u001b[1;32mIn[69], line 5\u001b[0m\n\u001b[0;32m      3\u001b[0m \u001b[38;5;28;01mfor\u001b[39;00m i \u001b[38;5;129;01min\u001b[39;00m a:\n\u001b[0;32m      4\u001b[0m     \u001b[38;5;28;01mif\u001b[39;00m i \u001b[38;5;129;01min\u001b[39;00m a:\n\u001b[1;32m----> 5\u001b[0m         out[i]\u001b[38;5;241m=\u001b[39mout[i]\u001b[38;5;241m+\u001b[39m\u001b[38;5;241m1\u001b[39m\n\u001b[0;32m      6\u001b[0m     \u001b[38;5;28;01melse\u001b[39;00m:\n\u001b[0;32m      7\u001b[0m         out[i]\u001b[38;5;241m=\u001b[39m\u001b[38;5;241m1\u001b[39m\n",
      "\u001b[1;31mTypeError\u001b[0m: list indices must be integers or slices, not str"
     ]
    }
   ],
   "source": [
    "a='hello world'\n",
    "out=[]\n",
    "for i in a:\n",
    "    if i in a:\n",
    "        out[i]=out[i]+1\n",
    "    else:\n",
    "        out[i]=1\n",
    "print(out)\n"
   ]
  },
  {
   "cell_type": "code",
   "execution_count": 70,
   "id": "d1430ac8",
   "metadata": {},
   "outputs": [
    {
     "data": {
      "text/plain": [
       "{'name': 'Jill',\n",
       " 'percent': 71.5,\n",
       " 'grade': 'C',\n",
       " 'roll': 67865456,\n",
       " 'marks': {'maths': 81.0, 'eng': 71.0, 'python': 89.5}}"
      ]
     },
     "execution_count": 70,
     "metadata": {},
     "output_type": "execute_result"
    }
   ],
   "source": [
    "student1"
   ]
  },
  {
   "cell_type": "code",
   "execution_count": null,
   "id": "6da44516",
   "metadata": {},
   "outputs": [],
   "source": []
  },
  {
   "cell_type": "code",
   "execution_count": 71,
   "id": "99d62a15",
   "metadata": {},
   "outputs": [],
   "source": [
    "students = {123:{'name':'John', 'percent': 78.5}, 124: {'name':'Jill', 'percent':89.5}}"
   ]
  },
  {
   "cell_type": "code",
   "execution_count": 72,
   "id": "22fe7857",
   "metadata": {},
   "outputs": [
    {
     "data": {
      "text/plain": [
       "{123: {'name': 'John', 'percent': 78.5},\n",
       " 124: {'name': 'Jill', 'percent': 89.5}}"
      ]
     },
     "execution_count": 72,
     "metadata": {},
     "output_type": "execute_result"
    }
   ],
   "source": [
    "students"
   ]
  },
  {
   "cell_type": "code",
   "execution_count": 73,
   "id": "b7dcc246",
   "metadata": {},
   "outputs": [],
   "source": [
    "students_list = [{'roll': 123, 'name':'John', 'percent': 78.5}, {'roll': 124, 'name': 'Jill', 'percent': 89.5}]"
   ]
  },
  {
   "cell_type": "code",
   "execution_count": 74,
   "id": "c8c40563",
   "metadata": {},
   "outputs": [
    {
     "data": {
      "text/plain": [
       "[{'roll': 123, 'name': 'John', 'percent': 78.5},\n",
       " {'roll': 124, 'name': 'Jill', 'percent': 89.5}]"
      ]
     },
     "execution_count": 74,
     "metadata": {},
     "output_type": "execute_result"
    }
   ],
   "source": [
    "students_list"
   ]
  },
  {
   "cell_type": "code",
   "execution_count": null,
   "id": "0c3e743d",
   "metadata": {},
   "outputs": [],
   "source": []
  },
  {
   "cell_type": "code",
   "execution_count": 75,
   "id": "ac8064e3",
   "metadata": {},
   "outputs": [],
   "source": [
    "# Doubts"
   ]
  },
  {
   "cell_type": "code",
   "execution_count": 77,
   "id": "321a3ac4",
   "metadata": {},
   "outputs": [],
   "source": [
    "# Q. Write a python program to find below output using loop:-\n",
    "# Input:- 'peter piper picked a peck of pickled peppers.'\n",
    "# Output:- ['peter', 'piper', 'picked', 'a', 'peck', 'of', 'pickled', 'peppers']"
   ]
  },
  {
   "cell_type": "code",
   "execution_count": 78,
   "id": "3cd44f7e",
   "metadata": {},
   "outputs": [],
   "source": [
    "str1 = 'peter piper picked a peck of pickled peppers.'"
   ]
  },
  {
   "cell_type": "code",
   "execution_count": 79,
   "id": "d69ffee5",
   "metadata": {},
   "outputs": [
    {
     "data": {
      "text/plain": [
       "'peter piper picked a peck of pickled peppers.'"
      ]
     },
     "execution_count": 79,
     "metadata": {},
     "output_type": "execute_result"
    }
   ],
   "source": [
    "str1"
   ]
  },
  {
   "cell_type": "code",
   "execution_count": 80,
   "id": "580ff5c8",
   "metadata": {},
   "outputs": [],
   "source": [
    "# create a list\n",
    "# each word is the element of that list"
   ]
  },
  {
   "cell_type": "code",
   "execution_count": 81,
   "id": "35243f6c",
   "metadata": {},
   "outputs": [
    {
     "name": "stdout",
     "output_type": "stream",
     "text": [
      "['peter', 'piper', 'picked', 'a', 'peck', 'of', 'pickled']\n"
     ]
    }
   ],
   "source": [
    "out_list = []\n",
    "temp_str = ''\n",
    "\n",
    "for char in str1:\n",
    "    if char == ' ':\n",
    "        out_list.append(temp_str)\n",
    "        temp_str = ''\n",
    "    else:\n",
    "        temp_str = temp_str + char # temp_str += char\n",
    "        \n",
    "print(out_list)"
   ]
  },
  {
   "cell_type": "code",
   "execution_count": 82,
   "id": "c69cbff6",
   "metadata": {},
   "outputs": [],
   "source": [
    "# Output:- ['peter', 'piper', 'picked', 'a', 'peck', 'of', 'pickled', 'peppers']"
   ]
  },
  {
   "cell_type": "code",
   "execution_count": 83,
   "id": "0b99b28d",
   "metadata": {},
   "outputs": [
    {
     "name": "stdout",
     "output_type": "stream",
     "text": [
      "['peter', 'piper', 'picked', 'a', 'peck', 'of', 'pickled', 'peppers']\n"
     ]
    }
   ],
   "source": [
    "out_list = []\n",
    "temp_str = ''\n",
    "\n",
    "for char in str1:\n",
    "    if char == ' ' or char == '.':\n",
    "        out_list.append(temp_str)\n",
    "        temp_str = ''\n",
    "    else:\n",
    "        temp_str = temp_str + char # temp_str += char\n",
    "        \n",
    "print(out_list)"
   ]
  },
  {
   "cell_type": "code",
   "execution_count": null,
   "id": "30af9806",
   "metadata": {},
   "outputs": [],
   "source": []
  },
  {
   "cell_type": "code",
   "execution_count": 84,
   "id": "c1072603",
   "metadata": {},
   "outputs": [],
   "source": [
    "# Q. Write a python program to find below output using loop:-\n",
    "# Input:- 'peter piper picked a peck of pickled peppers.'\n",
    "# Output:- 'retep repip dekcip a kcep fo delkcip sreppep'\n"
   ]
  },
  {
   "cell_type": "code",
   "execution_count": null,
   "id": "941a181d",
   "metadata": {},
   "outputs": [],
   "source": []
  },
  {
   "cell_type": "code",
   "execution_count": 85,
   "id": "91e7738b",
   "metadata": {},
   "outputs": [
    {
     "name": "stdout",
     "output_type": "stream",
     "text": [
      "['peter', 'piper', 'picked', 'a', 'peck', 'of', 'pickled']\n"
     ]
    }
   ],
   "source": [
    "s1 = \"peter piper picked a peck of pickled peppers.\"\n",
    "l1=[]\n",
    "element = \"\"\n",
    "for i in s1:\n",
    "    if i!=\" \" :\n",
    "        element = element + i \n",
    "    elif (i ==\" \" or i==\".\"):\n",
    "        l1.append(element)\n",
    "        element = \"\"\n",
    "    else :\n",
    "        print(\"Error\")\n",
    "#l1.append(element)\n",
    "print(l1)\n"
   ]
  },
  {
   "cell_type": "code",
   "execution_count": 86,
   "id": "219c793c",
   "metadata": {},
   "outputs": [
    {
     "name": "stdout",
     "output_type": "stream",
     "text": [
      "['peter', 'piper', 'picked', 'a', 'peck', 'of', 'pickled', 'peppers']\n"
     ]
    }
   ],
   "source": [
    "s1 = \"peter piper picked a peck of pickled peppers.\"\n",
    "l1=[]\n",
    "element = \"\"\n",
    "for i in s1:\n",
    "    if (i ==\" \" or i==\".\") :\n",
    "        l1.append(element)\n",
    "        element = \"\"\n",
    "    elif i!=\" \":\n",
    "        element = element + i \n",
    "        \n",
    "    else :\n",
    "        print(\"Error\")\n",
    "#l1.append(element)\n",
    "print(l1)\n"
   ]
  },
  {
   "cell_type": "code",
   "execution_count": null,
   "id": "759e3334",
   "metadata": {},
   "outputs": [],
   "source": []
  },
  {
   "cell_type": "code",
   "execution_count": 89,
   "id": "e32f18cc",
   "metadata": {},
   "outputs": [
    {
     "name": "stdout",
     "output_type": "stream",
     "text": [
      "['peter', 'piper', 'picked', 'a', 'peck', 'of', 'pickled', 'peppers']\n"
     ]
    }
   ],
   "source": [
    "str_1 = \"peter piper picked a peck of pickled peppers.\"\n",
    "\n",
    "\n",
    "new_list=[]\n",
    "start=0\n",
    "for i in range (0,len(str_1)):\n",
    "    if (str_1[i]==' ')or (str_1[i]=='.'):\n",
    "            list_item=str_1[start:i]\n",
    "            new_list.append(list_item)\n",
    "            start=i+1\n",
    "print(new_list)\n"
   ]
  },
  {
   "cell_type": "code",
   "execution_count": null,
   "id": "0e1dfd92",
   "metadata": {},
   "outputs": [],
   "source": []
  }
 ],
 "metadata": {
  "kernelspec": {
   "display_name": "Python 3 (ipykernel)",
   "language": "python",
   "name": "python3"
  },
  "language_info": {
   "codemirror_mode": {
    "name": "ipython",
    "version": 3
   },
   "file_extension": ".py",
   "mimetype": "text/x-python",
   "name": "python",
   "nbconvert_exporter": "python",
   "pygments_lexer": "ipython3",
   "version": "3.11.4"
  }
 },
 "nbformat": 4,
 "nbformat_minor": 5
}
