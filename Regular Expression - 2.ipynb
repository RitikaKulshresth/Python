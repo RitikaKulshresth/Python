{
 "cells": [
  {
   "cell_type": "code",
   "execution_count": 1,
   "id": "55d030d9",
   "metadata": {},
   "outputs": [],
   "source": [
    "import re"
   ]
  },
  {
   "cell_type": "code",
   "execution_count": 3,
   "id": "56d3c1e8",
   "metadata": {},
   "outputs": [
    {
     "name": "stdout",
     "output_type": "stream",
     "text": [
      "<re.Match object; span=(56, 61), match='learn'>\n",
      "<re.Match object; span=(132, 137), match='learn'>\n",
      "<re.Match object; span=(175, 180), match='learn'>\n",
      "<re.Match object; span=(306, 311), match='learn'>\n",
      "<re.Match object; span=(413, 418), match='learn'>\n",
      "<re.Match object; span=(730, 735), match='learn'>\n"
     ]
    }
   ],
   "source": [
    "with open('regex_file.txt', 'rt') as fh:\n",
    "    contents = fh.read()\n",
    "    \n",
    "pattern = r'learn\\B'\n",
    "mat = re.finditer(pattern, contents)\n",
    "for m in mat:\n",
    "    print(m)"
   ]
  },
  {
   "cell_type": "code",
   "execution_count": 4,
   "id": "09c06400",
   "metadata": {},
   "outputs": [
    {
     "data": {
      "text/plain": [
       "\"Python3 is a programming language\\nPython3\\npppam\\n.We are learnning python3\\nWe have completed our assignments\\nlearn python\\nmylearn A2\\nlearn2,python\\nAssignments are submitted to learnbay8thmar24@gmail.com\\nMy phone number is      91-9876543210\\na123-456-7890 Py3 learn\\nIP address is 192.100.76.24\\n192.101.77.20\\nlearn_bay\\nlearn-bay\\nJonathan25@gmail.com\\nWhat are the topics left?\\nJohn lives in Sweden \\nwhatever.\\\\com\\nabc@learnbay.com\\njohn123@yahoo.in\\npython2\\nABC .inc\\nlet's learn- RegEx\\npython34\\n192.100.190.111\\nHe says, letting me work, buddy!\\nxyz-id.12@gmail.com\\nxyz-id-12@gmail.com_char\\n333.333.333.333\\nxyz-id-12@gmail-com\\nxyz-id_12@domain.whatever\\n-@gmail.com\\n.@gmail.com\\n_@gmail.com\\n_-@gmail.com\\nWhat about learn\\t?\\nlearn^56\\nlearn.\\nmylearning\""
      ]
     },
     "execution_count": 4,
     "metadata": {},
     "output_type": "execute_result"
    }
   ],
   "source": [
    "contents"
   ]
  },
  {
   "cell_type": "code",
   "execution_count": 5,
   "id": "aa35ae62",
   "metadata": {},
   "outputs": [
    {
     "name": "stdout",
     "output_type": "stream",
     "text": [
      "<re.Match object; span=(730, 735), match='learn'>\n"
     ]
    }
   ],
   "source": [
    "with open('regex_file.txt', 'rt') as fh:\n",
    "    contents = fh.read()\n",
    "    \n",
    "pattern = r'\\Blearn\\B'\n",
    "mat = re.finditer(pattern, contents)\n",
    "for m in mat:\n",
    "    print(m)"
   ]
  },
  {
   "cell_type": "code",
   "execution_count": 6,
   "id": "76ab4641",
   "metadata": {},
   "outputs": [],
   "source": [
    "# ^       - Beginning of a String"
   ]
  },
  {
   "cell_type": "code",
   "execution_count": 7,
   "id": "3dbec496",
   "metadata": {},
   "outputs": [],
   "source": [
    "with open('regex_file.txt', 'rt') as fh:\n",
    "    contents = fh.read()\n",
    "    \n",
    "pattern = r'^learn'\n",
    "mat = re.finditer(pattern, contents)\n",
    "for m in mat:\n",
    "    print(m)"
   ]
  },
  {
   "cell_type": "code",
   "execution_count": 9,
   "id": "e2599d29",
   "metadata": {},
   "outputs": [
    {
     "name": "stdout",
     "output_type": "stream",
     "text": [
      "<re.Match object; span=(0, 6), match='Python'>\n"
     ]
    }
   ],
   "source": [
    "with open('regex_file.txt', 'rt') as fh:\n",
    "    contents = fh.read()\n",
    "    \n",
    "pattern = r'^Python'\n",
    "mat = re.finditer(pattern, contents)\n",
    "for m in mat:\n",
    "    print(m)"
   ]
  },
  {
   "cell_type": "code",
   "execution_count": 10,
   "id": "96be9cdb",
   "metadata": {},
   "outputs": [],
   "source": [
    "# $       - End of a String"
   ]
  },
  {
   "cell_type": "code",
   "execution_count": 11,
   "id": "7f92deb5",
   "metadata": {},
   "outputs": [
    {
     "name": "stdout",
     "output_type": "stream",
     "text": [
      "<re.Match object; span=(730, 738), match='learning'>\n"
     ]
    }
   ],
   "source": [
    "with open('regex_file.txt', 'rt') as fh:\n",
    "    contents = fh.read()\n",
    "    \n",
    "pattern = r'learning$'\n",
    "mat = re.finditer(pattern, contents)\n",
    "for m in mat:\n",
    "    print(m)"
   ]
  },
  {
   "cell_type": "code",
   "execution_count": 12,
   "id": "a5a6eb04",
   "metadata": {},
   "outputs": [],
   "source": [
    "with open('regex_file.txt', 'rt') as fh:\n",
    "    contents = fh.read()\n",
    "    \n",
    "pattern = r'learn$'\n",
    "mat = re.finditer(pattern, contents)\n",
    "for m in mat:\n",
    "    print(m)"
   ]
  },
  {
   "cell_type": "code",
   "execution_count": null,
   "id": "247f9c92",
   "metadata": {},
   "outputs": [],
   "source": []
  },
  {
   "cell_type": "code",
   "execution_count": 13,
   "id": "0079ebe3",
   "metadata": {},
   "outputs": [],
   "source": [
    "# [^A-Z]  - Matches Characters NOT in brackets"
   ]
  },
  {
   "cell_type": "code",
   "execution_count": 14,
   "id": "85c22b65",
   "metadata": {},
   "outputs": [
    {
     "name": "stdout",
     "output_type": "stream",
     "text": [
      "<re.Match object; span=(66, 73), match='python3'>\n",
      "<re.Match object; span=(177, 184), match='arnbay8'>\n",
      "<re.Match object; span=(328, 335), match='nathan2'>\n",
      "<re.Match object; span=(443, 450), match='python2'>\n",
      "<re.Match object; span=(479, 486), match='python3'>\n"
     ]
    }
   ],
   "source": [
    "with open('regex_file.txt', 'rt') as fh:\n",
    "    contents = fh.read()\n",
    "    \n",
    "pattern = r'[a-z]{6}[0-9]'\n",
    "mat = re.finditer(pattern, contents)\n",
    "for m in mat:\n",
    "    print(m)"
   ]
  },
  {
   "cell_type": "code",
   "execution_count": 15,
   "id": "ce9a353a",
   "metadata": {},
   "outputs": [
    {
     "name": "stdout",
     "output_type": "stream",
     "text": [
      "<re.Match object; span=(13, 20), match='program'>\n",
      "<re.Match object; span=(25, 32), match='languag'>\n",
      "<re.Match object; span=(56, 63), match='learnni'>\n",
      "<re.Match object; span=(82, 89), match='complet'>\n",
      "<re.Match object; span=(96, 103), match='assignm'>\n",
      "<re.Match object; span=(114, 121), match='python\\n'>\n",
      "<re.Match object; span=(121, 128), match='mylearn'>\n",
      "<re.Match object; span=(139, 146), match='python\\n'>\n",
      "<re.Match object; span=(147, 154), match='ssignme'>\n",
      "<re.Match object; span=(162, 169), match='submitt'>\n",
      "<re.Match object; span=(175, 182), match='learnba'>\n",
      "<re.Match object; span=(211, 218), match='number '>\n",
      "<re.Match object; span=(267, 274), match='address'>\n",
      "<re.Match object; span=(327, 334), match='onathan'>\n",
      "<re.Match object; span=(360, 367), match='topics '>\n",
      "<re.Match object; span=(395, 402), match='whateve'>\n",
      "<re.Match object; span=(413, 420), match='learnba'>\n",
      "<re.Match object; span=(513, 520), match='letting'>\n",
      "<re.Match object; span=(628, 635), match='domain.'>\n",
      "<re.Match object; span=(635, 642), match='whateve'>\n",
      "<re.Match object; span=(728, 735), match='mylearn'>\n"
     ]
    }
   ],
   "source": [
    "with open('regex_file.txt', 'rt') as fh:\n",
    "    contents = fh.read()\n",
    "    \n",
    "pattern = r'[a-z]{6}[^0-9]'\n",
    "mat = re.finditer(pattern, contents)\n",
    "for m in mat:\n",
    "    print(m)"
   ]
  },
  {
   "cell_type": "code",
   "execution_count": 16,
   "id": "d5978d52",
   "metadata": {},
   "outputs": [
    {
     "name": "stdout",
     "output_type": "stream",
     "text": [
      "<re.Match object; span=(13, 20), match='program'>\n",
      "<re.Match object; span=(25, 32), match='languag'>\n",
      "<re.Match object; span=(56, 63), match='learnni'>\n",
      "<re.Match object; span=(82, 89), match='complet'>\n",
      "<re.Match object; span=(96, 103), match='assignm'>\n",
      "<re.Match object; span=(114, 121), match='python\\n'>\n",
      "<re.Match object; span=(121, 128), match='mylearn'>\n",
      "<re.Match object; span=(139, 146), match='python\\n'>\n",
      "<re.Match object; span=(147, 154), match='ssignme'>\n",
      "<re.Match object; span=(162, 169), match='submitt'>\n",
      "<re.Match object; span=(175, 182), match='learnba'>\n",
      "<re.Match object; span=(211, 218), match='number '>\n",
      "<re.Match object; span=(267, 274), match='address'>\n",
      "<re.Match object; span=(327, 334), match='onathan'>\n",
      "<re.Match object; span=(360, 367), match='topics '>\n",
      "<re.Match object; span=(395, 402), match='whateve'>\n",
      "<re.Match object; span=(413, 420), match='learnba'>\n",
      "<re.Match object; span=(513, 520), match='letting'>\n",
      "<re.Match object; span=(628, 635), match='domain.'>\n",
      "<re.Match object; span=(635, 642), match='whateve'>\n",
      "<re.Match object; span=(728, 735), match='mylearn'>\n"
     ]
    }
   ],
   "source": [
    "with open('regex_file.txt', 'rt') as fh:\n",
    "    contents = fh.read()\n",
    "    \n",
    "pattern = r'[a-z]{6}\\D'\n",
    "mat = re.finditer(pattern, contents)\n",
    "for m in mat:\n",
    "    print(m)"
   ]
  },
  {
   "cell_type": "code",
   "execution_count": 17,
   "id": "6032517f",
   "metadata": {},
   "outputs": [
    {
     "name": "stdout",
     "output_type": "stream",
     "text": [
      "<re.Match object; span=(18, 25), match='amming '>\n",
      "<re.Match object; span=(27, 34), match='nguage\\n'>\n",
      "<re.Match object; span=(59, 66), match='rnning '>\n",
      "<re.Match object; span=(66, 73), match='python3'>\n",
      "<re.Match object; span=(85, 92), match='pleted '>\n",
      "<re.Match object; span=(101, 108), match='nments\\n'>\n",
      "<re.Match object; span=(114, 121), match='python\\n'>\n",
      "<re.Match object; span=(122, 129), match='ylearn '>\n",
      "<re.Match object; span=(139, 146), match='python\\n'>\n",
      "<re.Match object; span=(151, 158), match='nments '>\n",
      "<re.Match object; span=(165, 172), match='mitted '>\n",
      "<re.Match object; span=(177, 184), match='arnbay8'>\n",
      "<re.Match object; span=(211, 218), match='number '>\n",
      "<re.Match object; span=(268, 275), match='ddress '>\n",
      "<re.Match object; span=(328, 335), match='nathan2'>\n",
      "<re.Match object; span=(360, 367), match='topics '>\n",
      "<re.Match object; span=(397, 404), match='atever.'>\n",
      "<re.Match object; span=(415, 422), match='arnbay.'>\n",
      "<re.Match object; span=(443, 450), match='python2'>\n",
      "<re.Match object; span=(479, 486), match='python3'>\n",
      "<re.Match object; span=(514, 521), match='etting '>\n",
      "<re.Match object; span=(628, 635), match='domain.'>\n",
      "<re.Match object; span=(637, 644), match='atever\\n'>\n"
     ]
    }
   ],
   "source": [
    "with open('regex_file.txt', 'rt') as fh:\n",
    "    contents = fh.read()\n",
    "    \n",
    "pattern = r'[a-z]{6}[^a-z]'\n",
    "mat = re.finditer(pattern, contents)\n",
    "for m in mat:\n",
    "    print(m)"
   ]
  },
  {
   "cell_type": "code",
   "execution_count": null,
   "id": "5b1572cf",
   "metadata": {},
   "outputs": [],
   "source": []
  },
  {
   "cell_type": "code",
   "execution_count": 18,
   "id": "f9b1eb05",
   "metadata": {},
   "outputs": [
    {
     "data": {
      "text/plain": [
       "\"Python3 is a programming language\\nPython3\\npppam\\n.We are learnning python3\\nWe have completed our assignments\\nlearn python\\nmylearn A2\\nlearn2,python\\nAssignments are submitted to learnbay8thmar24@gmail.com\\nMy phone number is      91-9876543210\\na123-456-7890 Py3 learn\\nIP address is 192.100.76.24\\n192.101.77.20\\nlearn_bay\\nlearn-bay\\nJonathan25@gmail.com\\nWhat are the topics left?\\nJohn lives in Sweden \\nwhatever.\\\\com\\nabc@learnbay.com\\njohn123@yahoo.in\\npython2\\nABC .inc\\nlet's learn- RegEx\\npython34\\n192.100.190.111\\nHe says, letting me work, buddy!\\nxyz-id.12@gmail.com\\nxyz-id-12@gmail.com_char\\n333.333.333.333\\nxyz-id-12@gmail-com\\nxyz-id_12@domain.whatever\\n-@gmail.com\\n.@gmail.com\\n_@gmail.com\\n_-@gmail.com\\nWhat about learn\\t?\\nlearn^56\\nlearn.\\nmylearning\""
      ]
     },
     "execution_count": 18,
     "metadata": {},
     "output_type": "execute_result"
    }
   ],
   "source": [
    "contents"
   ]
  },
  {
   "cell_type": "code",
   "execution_count": 19,
   "id": "7b096f81",
   "metadata": {},
   "outputs": [
    {
     "name": "stdout",
     "output_type": "stream",
     "text": [
      "<re.Match object; span=(66, 73), match='python3'>\n",
      "<re.Match object; span=(443, 450), match='python2'>\n",
      "<re.Match object; span=(479, 486), match='python3'>\n"
     ]
    }
   ],
   "source": [
    "with open('regex_file.txt', 'rt') as fh:\n",
    "    contents = fh.read()\n",
    "    \n",
    "pattern = r'p[a-z]{5}[0-9]'\n",
    "mat = re.finditer(pattern, contents)\n",
    "for m in mat:\n",
    "    print(m)"
   ]
  },
  {
   "cell_type": "code",
   "execution_count": 20,
   "id": "ae70450f",
   "metadata": {},
   "outputs": [
    {
     "name": "stdout",
     "output_type": "stream",
     "text": [
      "<re.Match object; span=(0, 7), match='Python3'>\n",
      "<re.Match object; span=(34, 41), match='Python3'>\n"
     ]
    }
   ],
   "source": [
    "with open('regex_file.txt', 'rt') as fh:\n",
    "    contents = fh.read()\n",
    "    \n",
    "pattern = r'P[a-z]{5}[0-9]'\n",
    "mat = re.finditer(pattern, contents)\n",
    "for m in mat:\n",
    "    print(m)"
   ]
  },
  {
   "cell_type": "code",
   "execution_count": 21,
   "id": "a37bfc1e",
   "metadata": {},
   "outputs": [
    {
     "name": "stdout",
     "output_type": "stream",
     "text": [
      "<re.Match object; span=(0, 7), match='Python3'>\n",
      "<re.Match object; span=(34, 41), match='Python3'>\n",
      "<re.Match object; span=(66, 73), match='python3'>\n",
      "<re.Match object; span=(443, 450), match='python2'>\n",
      "<re.Match object; span=(479, 486), match='python3'>\n"
     ]
    }
   ],
   "source": [
    "with open('regex_file.txt', 'rt') as fh:\n",
    "    contents = fh.read()\n",
    "    \n",
    "pattern = r'(P|p)[a-z]{5}[0-9]'\n",
    "mat = re.finditer(pattern, contents)\n",
    "for m in mat:\n",
    "    print(m)"
   ]
  },
  {
   "cell_type": "code",
   "execution_count": 23,
   "id": "01b1096d",
   "metadata": {},
   "outputs": [],
   "source": [
    "# find all the 'com' and 'in' from the regex.txt file"
   ]
  },
  {
   "cell_type": "code",
   "execution_count": 24,
   "id": "f0e47685",
   "metadata": {},
   "outputs": [
    {
     "name": "stdout",
     "output_type": "stream",
     "text": [
      "<re.Match object; span=(21, 23), match='in'>\n",
      "<re.Match object; span=(62, 64), match='in'>\n",
      "<re.Match object; span=(82, 85), match='com'>\n",
      "<re.Match object; span=(198, 201), match='com'>\n",
      "<re.Match object; span=(343, 346), match='com'>\n",
      "<re.Match object; span=(384, 386), match='in'>\n",
      "<re.Match object; span=(405, 408), match='com'>\n",
      "<re.Match object; span=(422, 425), match='com'>\n",
      "<re.Match object; span=(440, 442), match='in'>\n",
      "<re.Match object; span=(456, 458), match='in'>\n",
      "<re.Match object; span=(517, 519), match='in'>\n",
      "<re.Match object; span=(553, 556), match='com'>\n",
      "<re.Match object; span=(573, 576), match='com'>\n",
      "<re.Match object; span=(614, 617), match='com'>\n",
      "<re.Match object; span=(632, 634), match='in'>\n",
      "<re.Match object; span=(652, 655), match='com'>\n",
      "<re.Match object; span=(664, 667), match='com'>\n",
      "<re.Match object; span=(676, 679), match='com'>\n",
      "<re.Match object; span=(689, 692), match='com'>\n",
      "<re.Match object; span=(735, 737), match='in'>\n"
     ]
    }
   ],
   "source": [
    "with open('regex_file.txt', 'rt') as fh:\n",
    "    contents = fh.read()\n",
    "    \n",
    "pattern = r'com|in'\n",
    "mat = re.finditer(pattern, contents)\n",
    "for m in mat:\n",
    "    print(m)"
   ]
  },
  {
   "cell_type": "code",
   "execution_count": 25,
   "id": "b09e8ab7",
   "metadata": {},
   "outputs": [
    {
     "data": {
      "text/plain": [
       "\"Python3 is a programming language\\nPython3\\npppam\\n.We are learnning python3\\nWe have completed our assignments\\nlearn python\\nmylearn A2\\nlearn2,python\\nAssignments are submitted to learnbay8thmar24@gmail.com\\nMy phone number is      91-9876543210\\na123-456-7890 Py3 learn\\nIP address is 192.100.76.24\\n192.101.77.20\\nlearn_bay\\nlearn-bay\\nJonathan25@gmail.com\\nWhat are the topics left?\\nJohn lives in Sweden \\nwhatever.\\\\com\\nabc@learnbay.com\\njohn123@yahoo.in\\npython2\\nABC .inc\\nlet's learn- RegEx\\npython34\\n192.100.190.111\\nHe says, letting me work, buddy!\\nxyz-id.12@gmail.com\\nxyz-id-12@gmail.com_char\\n333.333.333.333\\nxyz-id-12@gmail-com\\nxyz-id_12@domain.whatever\\n-@gmail.com\\n.@gmail.com\\n_@gmail.com\\n_-@gmail.com\\nWhat about learn\\t?\\nlearn^56\\nlearn.\\nmylearning\""
      ]
     },
     "execution_count": 25,
     "metadata": {},
     "output_type": "execute_result"
    }
   ],
   "source": [
    "contents"
   ]
  },
  {
   "cell_type": "code",
   "execution_count": 26,
   "id": "a675af51",
   "metadata": {},
   "outputs": [],
   "source": [
    "# find all the '.com' and '.in' from the regex.txt file"
   ]
  },
  {
   "cell_type": "code",
   "execution_count": 27,
   "id": "59e256e0",
   "metadata": {},
   "outputs": [
    {
     "name": "stdout",
     "output_type": "stream",
     "text": [
      "<re.Match object; span=(197, 201), match='.com'>\n",
      "<re.Match object; span=(342, 346), match='.com'>\n",
      "<re.Match object; span=(421, 425), match='.com'>\n",
      "<re.Match object; span=(439, 442), match='.in'>\n",
      "<re.Match object; span=(455, 458), match='.in'>\n",
      "<re.Match object; span=(552, 556), match='.com'>\n",
      "<re.Match object; span=(572, 576), match='.com'>\n",
      "<re.Match object; span=(651, 655), match='.com'>\n",
      "<re.Match object; span=(663, 667), match='.com'>\n",
      "<re.Match object; span=(675, 679), match='.com'>\n",
      "<re.Match object; span=(688, 692), match='.com'>\n"
     ]
    }
   ],
   "source": [
    "with open('regex_file.txt', 'rt') as fh:\n",
    "    contents = fh.read()\n",
    "    \n",
    "pattern = r'(\\.com|\\.in)'\n",
    "mat = re.finditer(pattern, contents)\n",
    "for m in mat:\n",
    "    print(m)"
   ]
  },
  {
   "cell_type": "code",
   "execution_count": 28,
   "id": "910e15d7",
   "metadata": {},
   "outputs": [
    {
     "name": "stdout",
     "output_type": "stream",
     "text": [
      "<re.Match object; span=(20, 23), match='min'>\n",
      "<re.Match object; span=(61, 64), match='nin'>\n",
      "<re.Match object; span=(81, 85), match=' com'>\n",
      "<re.Match object; span=(197, 201), match='.com'>\n",
      "<re.Match object; span=(342, 346), match='.com'>\n",
      "<re.Match object; span=(383, 386), match=' in'>\n",
      "<re.Match object; span=(404, 408), match='\\\\com'>\n",
      "<re.Match object; span=(421, 425), match='.com'>\n",
      "<re.Match object; span=(439, 442), match='.in'>\n",
      "<re.Match object; span=(455, 458), match='.in'>\n",
      "<re.Match object; span=(516, 519), match='tin'>\n",
      "<re.Match object; span=(552, 556), match='.com'>\n",
      "<re.Match object; span=(572, 576), match='.com'>\n",
      "<re.Match object; span=(613, 617), match='-com'>\n",
      "<re.Match object; span=(631, 634), match='ain'>\n",
      "<re.Match object; span=(651, 655), match='.com'>\n",
      "<re.Match object; span=(663, 667), match='.com'>\n",
      "<re.Match object; span=(675, 679), match='.com'>\n",
      "<re.Match object; span=(688, 692), match='.com'>\n",
      "<re.Match object; span=(734, 737), match='nin'>\n"
     ]
    }
   ],
   "source": [
    "with open('regex_file.txt', 'rt') as fh:\n",
    "    contents = fh.read()\n",
    "    \n",
    "pattern = r'(.com|.in)'\n",
    "mat = re.finditer(pattern, contents)\n",
    "for m in mat:\n",
    "    print(m)"
   ]
  },
  {
   "cell_type": "code",
   "execution_count": 29,
   "id": "8048e204",
   "metadata": {},
   "outputs": [
    {
     "name": "stdout",
     "output_type": "stream",
     "text": [
      "<re.Match object; span=(197, 201), match='.com'>\n",
      "<re.Match object; span=(342, 346), match='.com'>\n",
      "<re.Match object; span=(421, 425), match='.com'>\n",
      "<re.Match object; span=(439, 442), match='.in'>\n",
      "<re.Match object; span=(455, 458), match='.in'>\n",
      "<re.Match object; span=(552, 556), match='.com'>\n",
      "<re.Match object; span=(572, 576), match='.com'>\n",
      "<re.Match object; span=(651, 655), match='.com'>\n",
      "<re.Match object; span=(663, 667), match='.com'>\n",
      "<re.Match object; span=(675, 679), match='.com'>\n",
      "<re.Match object; span=(688, 692), match='.com'>\n"
     ]
    }
   ],
   "source": [
    "with open('regex_file.txt', 'rt') as fh:\n",
    "    contents = fh.read()\n",
    "    \n",
    "pattern = r'([.]com|[.]in)'\n",
    "mat = re.finditer(pattern, contents)\n",
    "for m in mat:\n",
    "    print(m)"
   ]
  },
  {
   "cell_type": "code",
   "execution_count": 30,
   "id": "603d95be",
   "metadata": {},
   "outputs": [
    {
     "name": "stdout",
     "output_type": "stream",
     "text": [
      "<re.Match object; span=(197, 201), match='.com'>\n",
      "<re.Match object; span=(348, 352), match='.com'>\n",
      "<re.Match object; span=(427, 431), match='.com'>\n",
      "<re.Match object; span=(445, 448), match='.in'>\n",
      "<re.Match object; span=(461, 464), match='.in'>\n",
      "<re.Match object; span=(558, 562), match='.com'>\n",
      "<re.Match object; span=(575, 579), match='.net'>\n",
      "<re.Match object; span=(595, 599), match='.com'>\n",
      "<re.Match object; span=(674, 678), match='.com'>\n",
      "<re.Match object; span=(686, 690), match='.com'>\n",
      "<re.Match object; span=(698, 702), match='.com'>\n",
      "<re.Match object; span=(711, 715), match='.com'>\n"
     ]
    }
   ],
   "source": [
    "with open('regex_file.txt', 'rt') as fh:\n",
    "    contents = fh.read()\n",
    "    \n",
    "pattern = r'([.]com|[.]in|[.]net)'\n",
    "mat = re.finditer(pattern, contents)\n",
    "for m in mat:\n",
    "    print(m)"
   ]
  },
  {
   "cell_type": "code",
   "execution_count": 31,
   "id": "c6be27c8",
   "metadata": {},
   "outputs": [
    {
     "name": "stdout",
     "output_type": "stream",
     "text": [
      "<re.Match object; span=(197, 201), match='.com'>\n",
      "<re.Match object; span=(348, 352), match='.com'>\n",
      "<re.Match object; span=(427, 431), match='.com'>\n",
      "<re.Match object; span=(445, 448), match='.in'>\n",
      "<re.Match object; span=(461, 464), match='.in'>\n",
      "<re.Match object; span=(558, 562), match='.com'>\n",
      "<re.Match object; span=(575, 579), match='.net'>\n",
      "<re.Match object; span=(595, 599), match='.com'>\n",
      "<re.Match object; span=(674, 678), match='.com'>\n",
      "<re.Match object; span=(686, 690), match='.com'>\n",
      "<re.Match object; span=(698, 702), match='.com'>\n",
      "<re.Match object; span=(711, 715), match='.com'>\n"
     ]
    }
   ],
   "source": [
    "with open('regex_file.txt', 'rt') as fh:\n",
    "    contents = fh.read()\n",
    "    \n",
    "pattern = r'[.](com|in|net)'\n",
    "mat = re.finditer(pattern, contents)\n",
    "for m in mat:\n",
    "    print(m)"
   ]
  },
  {
   "cell_type": "code",
   "execution_count": null,
   "id": "13567db3",
   "metadata": {},
   "outputs": [],
   "source": []
  },
  {
   "cell_type": "code",
   "execution_count": 32,
   "id": "ead7f3f9",
   "metadata": {},
   "outputs": [],
   "source": [
    "# Find all the valid email addresses from the file regex.txt"
   ]
  },
  {
   "cell_type": "code",
   "execution_count": 34,
   "id": "e2d9ce5a",
   "metadata": {},
   "outputs": [],
   "source": [
    "# # Valid emails\n",
    "# learnbay8thmar24@gmail.com\n",
    "# Jonathan25@gmail.com\n",
    "# abc@learnbay.com\n",
    "# john123@yahoo.in\n",
    "# xyz-id.12@gmail.com\n",
    "# ac123@domain.net\n",
    "\n",
    "\n",
    "# xyz-id_12@domain.whatever\n",
    "\n",
    "\n",
    "# # Invalid emails\n",
    "# whatever.\\com\n",
    "# xyz-id-12@gmail.com_char\n",
    "# xyz-id-12@gmail-com\n",
    "# -@gmail.com\n",
    "# .@gmail.com\n",
    "# _@gmail.com\n",
    "# _-@gmail.com"
   ]
  },
  {
   "cell_type": "code",
   "execution_count": 35,
   "id": "c501fb60",
   "metadata": {},
   "outputs": [],
   "source": [
    "with open('regex_file.txt', 'rt') as fh:\n",
    "    contents = fh.read()\n",
    "    \n",
    "pattern = r'[@][a-z]+[0-9]+.com'\n",
    "mat = re.finditer(pattern, contents)\n",
    "for m in mat:\n",
    "    print(m)"
   ]
  },
  {
   "cell_type": "code",
   "execution_count": 36,
   "id": "154a7b0d",
   "metadata": {},
   "outputs": [
    {
     "name": "stdout",
     "output_type": "stream",
     "text": [
      "<re.Match object; span=(191, 201), match='@gmail.com'>\n",
      "<re.Match object; span=(342, 352), match='@gmail.com'>\n",
      "<re.Match object; span=(418, 431), match='@learnbay.com'>\n",
      "<re.Match object; span=(439, 448), match='@yahoo.in'>\n",
      "<re.Match object; span=(552, 562), match='@gmail.com'>\n",
      "<re.Match object; span=(568, 579), match='@domain.net'>\n",
      "<re.Match object; span=(589, 599), match='@gmail.com'>\n",
      "<re.Match object; span=(668, 678), match='@gmail.com'>\n",
      "<re.Match object; span=(680, 690), match='@gmail.com'>\n",
      "<re.Match object; span=(692, 702), match='@gmail.com'>\n",
      "<re.Match object; span=(705, 715), match='@gmail.com'>\n"
     ]
    }
   ],
   "source": [
    "with open('regex_file.txt', 'rt') as fh:\n",
    "    contents = fh.read()\n",
    "    \n",
    "pattern = r'[@][a-z A-Z]+[.](com|in|net)'\n",
    "mat = re.finditer(pattern, contents)\n",
    "for m in mat:\n",
    "    print(m)"
   ]
  },
  {
   "cell_type": "code",
   "execution_count": 37,
   "id": "7bd9788e",
   "metadata": {},
   "outputs": [
    {
     "name": "stdout",
     "output_type": "stream",
     "text": [
      "<re.Match object; span=(175, 201), match='learnbay8thmar24@gmail.com'>\n",
      "<re.Match object; span=(332, 352), match='Jonathan25@gmail.com'>\n",
      "<re.Match object; span=(415, 431), match='abc@learnbay.com'>\n",
      "<re.Match object; span=(432, 448), match='john123@yahoo.in'>\n",
      "<re.Match object; span=(543, 562), match='xyz-id.12@gmail.com'>\n",
      "<re.Match object; span=(563, 579), match='ac123@domain.net'>\n",
      "<re.Match object; span=(580, 604), match='xyz-id-12@gmail.com_char'>\n",
      "<re.Match object; span=(621, 640), match='xyz-id-12@gmail-com'>\n",
      "<re.Match object; span=(641, 666), match='xyz-id_12@domain.whatever'>\n",
      "<re.Match object; span=(667, 678), match='-@gmail.com'>\n",
      "<re.Match object; span=(679, 690), match='.@gmail.com'>\n",
      "<re.Match object; span=(691, 702), match='_@gmail.com'>\n",
      "<re.Match object; span=(703, 715), match='_-@gmail.com'>\n"
     ]
    }
   ],
   "source": [
    "with open('regex_file.txt', 'rt') as fh:\n",
    "    contents = fh.read()\n",
    "    \n",
    "pattern = r'\\S+@\\S+'\n",
    "mat = re.finditer(pattern, contents)\n",
    "for m in mat:\n",
    "    print(m)"
   ]
  },
  {
   "cell_type": "code",
   "execution_count": 38,
   "id": "946444ed",
   "metadata": {},
   "outputs": [
    {
     "name": "stdout",
     "output_type": "stream",
     "text": [
      "<re.Match object; span=(21, 23), match='in'>\n",
      "<re.Match object; span=(62, 64), match='in'>\n",
      "<re.Match object; span=(390, 392), match='in'>\n",
      "<re.Match object; span=(446, 448), match='in'>\n",
      "<re.Match object; span=(462, 464), match='in'>\n",
      "<re.Match object; span=(523, 525), match='in'>\n",
      "<re.Match object; span=(573, 575), match='in'>\n",
      "<re.Match object; span=(576, 579), match='net'>\n",
      "<re.Match object; span=(655, 657), match='in'>\n",
      "<re.Match object; span=(758, 760), match='in'>\n"
     ]
    }
   ],
   "source": [
    "with open('regex_file.txt', 'rt') as fh:\n",
    "    contents = fh.read()\n",
    "    \n",
    "pattern = r'[A-Z][a-z]/d./@[A-Z][a-z]/d/[.]com|in|net|org|co.in'\n",
    "mat = re.finditer(pattern, contents)\n",
    "for m in mat:\n",
    "    print(m)"
   ]
  },
  {
   "cell_type": "code",
   "execution_count": 39,
   "id": "662aebb1",
   "metadata": {},
   "outputs": [
    {
     "name": "stdout",
     "output_type": "stream",
     "text": [
      "<re.Match object; span=(184, 201), match='thmar24@gmail.com'>\n",
      "<re.Match object; span=(333, 352), match='onathan25@gmail.com'>\n",
      "<re.Match object; span=(445, 448), match='.in'>\n",
      "<re.Match object; span=(461, 464), match='.in'>\n"
     ]
    }
   ],
   "source": [
    "with open('regex_file.txt', 'rt') as fh:\n",
    "    contents = fh.read()\n",
    "    \n",
    "pattern = r'[a-z]+\\d+@[a-z]+[.]com|[.]in'\n",
    "mat = re.finditer(pattern, contents)\n",
    "for m in mat:\n",
    "    print(m)"
   ]
  },
  {
   "cell_type": "code",
   "execution_count": 40,
   "id": "09cb3a1a",
   "metadata": {},
   "outputs": [],
   "source": [
    "with open('regex_file.txt', 'rt') as fh:\n",
    "    contents = fh.read()\n",
    "    \n",
    "pattern = r'[a-z][A-Z]+[.](com|net|in)'\n",
    "mat = re.finditer(pattern, contents)\n",
    "for m in mat:\n",
    "    print(m)"
   ]
  },
  {
   "cell_type": "code",
   "execution_count": 41,
   "id": "f8da248c",
   "metadata": {},
   "outputs": [
    {
     "name": "stdout",
     "output_type": "stream",
     "text": [
      "<re.Match object; span=(175, 201), match='learnbay8thmar24@gmail.com'>\n",
      "<re.Match object; span=(332, 352), match='Jonathan25@gmail.com'>\n",
      "<re.Match object; span=(415, 431), match='abc@learnbay.com'>\n",
      "<re.Match object; span=(432, 448), match='john123@yahoo.in'>\n",
      "<re.Match object; span=(550, 562), match='12@gmail.com'>\n",
      "<re.Match object; span=(563, 579), match='ac123@domain.net'>\n",
      "<re.Match object; span=(587, 599), match='12@gmail.com'>\n",
      "<re.Match object; span=(648, 666), match='12@domain.whatever'>\n",
      "<re.Match object; span=(668, 678), match='@gmail.com'>\n",
      "<re.Match object; span=(680, 690), match='@gmail.com'>\n",
      "<re.Match object; span=(692, 702), match='@gmail.com'>\n",
      "<re.Match object; span=(705, 715), match='@gmail.com'>\n"
     ]
    }
   ],
   "source": [
    "with open('regex_file.txt', 'rt') as fh:\n",
    "    contents = fh.read()\n",
    "    \n",
    "pattern = r'[A-Za-z0-9]*+@[A-Za-z0-9]*+\\.[A-Za-z]*'\n",
    "mat = re.finditer(pattern, contents)\n",
    "for m in mat:\n",
    "    print(m)"
   ]
  },
  {
   "cell_type": "code",
   "execution_count": 42,
   "id": "4c6d57e8",
   "metadata": {},
   "outputs": [
    {
     "name": "stdout",
     "output_type": "stream",
     "text": [
      "<re.Match object; span=(175, 201), match='learnbay8thmar24@gmail.com'>\n",
      "<re.Match object; span=(332, 352), match='Jonathan25@gmail.com'>\n",
      "<re.Match object; span=(415, 431), match='abc@learnbay.com'>\n",
      "<re.Match object; span=(432, 448), match='john123@yahoo.in'>\n",
      "<re.Match object; span=(550, 562), match='12@gmail.com'>\n",
      "<re.Match object; span=(563, 579), match='ac123@domain.net'>\n",
      "<re.Match object; span=(587, 599), match='12@gmail.com'>\n",
      "<re.Match object; span=(648, 666), match='12@domain.whatever'>\n"
     ]
    }
   ],
   "source": [
    "with open('regex_file.txt', 'rt') as fh:\n",
    "    contents = fh.read()\n",
    "    \n",
    "pattern = r'[A-Za-z0-9]+@[A-Za-z0-9]+\\.[A-Za-z]*'\n",
    "mat = re.finditer(pattern, contents)\n",
    "for m in mat:\n",
    "    print(m)"
   ]
  },
  {
   "cell_type": "code",
   "execution_count": 43,
   "id": "61c7e43e",
   "metadata": {},
   "outputs": [
    {
     "name": "stdout",
     "output_type": "stream",
     "text": [
      "<re.Match object; span=(175, 201), match='learnbay8thmar24@gmail.com'>\n",
      "<re.Match object; span=(332, 352), match='Jonathan25@gmail.com'>\n",
      "<re.Match object; span=(415, 431), match='abc@learnbay.com'>\n",
      "<re.Match object; span=(432, 448), match='john123@yahoo.in'>\n",
      "<re.Match object; span=(543, 562), match='xyz-id.12@gmail.com'>\n",
      "<re.Match object; span=(563, 579), match='ac123@domain.net'>\n",
      "<re.Match object; span=(580, 599), match='xyz-id-12@gmail.com'>\n",
      "<re.Match object; span=(648, 666), match='12@domain.whatever'>\n",
      "<re.Match object; span=(667, 678), match='-@gmail.com'>\n",
      "<re.Match object; span=(679, 690), match='.@gmail.com'>\n",
      "<re.Match object; span=(704, 715), match='-@gmail.com'>\n"
     ]
    }
   ],
   "source": [
    "with open('regex_file.txt', 'rt') as fh:\n",
    "    contents = fh.read()\n",
    "    \n",
    "pattern = r'[A-Za-z0-9.-]+@[A-Za-z0-9]+\\.[A-Za-z]*'\n",
    "mat = re.finditer(pattern, contents)\n",
    "for m in mat:\n",
    "    print(m)"
   ]
  },
  {
   "cell_type": "code",
   "execution_count": 44,
   "id": "9846d41b",
   "metadata": {},
   "outputs": [
    {
     "name": "stdout",
     "output_type": "stream",
     "text": [
      "<re.Match object; span=(175, 201), match='learnbay8thmar24@gmail.com'>\n",
      "<re.Match object; span=(332, 352), match='Jonathan25@gmail.com'>\n",
      "<re.Match object; span=(415, 431), match='abc@learnbay.com'>\n",
      "<re.Match object; span=(432, 448), match='john123@yahoo.in'>\n",
      "<re.Match object; span=(543, 562), match='xyz-id.12@gmail.com'>\n",
      "<re.Match object; span=(563, 579), match='ac123@domain.net'>\n",
      "<re.Match object; span=(580, 599), match='xyz-id-12@gmail.com'>\n",
      "<re.Match object; span=(641, 666), match='xyz-id_12@domain.whatever'>\n"
     ]
    }
   ],
   "source": [
    "with open('regex_file.txt', 'rt') as fh:\n",
    "    contents = fh.read()\n",
    "    \n",
    "pattern = r'[a-zA-Z]+[a-zA-Z0-9_.-]+[@][a-z]+[.][a-z]+'\n",
    "mat = re.finditer(pattern, contents)\n",
    "for m in mat:\n",
    "    print(m)"
   ]
  },
  {
   "cell_type": "code",
   "execution_count": 45,
   "id": "c112ddde",
   "metadata": {},
   "outputs": [
    {
     "name": "stdout",
     "output_type": "stream",
     "text": [
      "<re.Match object; span=(175, 201), match='learnbay8thmar24@gmail.com'>\n",
      "<re.Match object; span=(332, 352), match='Jonathan25@gmail.com'>\n",
      "<re.Match object; span=(415, 431), match='abc@learnbay.com'>\n",
      "<re.Match object; span=(432, 448), match='john123@yahoo.in'>\n",
      "<re.Match object; span=(543, 562), match='xyz-id.12@gmail.com'>\n",
      "<re.Match object; span=(563, 579), match='ac123@domain.net'>\n",
      "<re.Match object; span=(580, 599), match='xyz-id-12@gmail.com'>\n"
     ]
    }
   ],
   "source": [
    "with open('regex_file.txt', 'rt') as fh:\n",
    "    contents = fh.read()\n",
    "    \n",
    "pattern = r'[a-zA-Z]+[a-zA-Z0-9_.-]+[@][a-z]+[.](com|in|net)'\n",
    "mat = re.finditer(pattern, contents)\n",
    "for m in mat:\n",
    "    print(m)"
   ]
  },
  {
   "cell_type": "code",
   "execution_count": 46,
   "id": "cc5f6f84",
   "metadata": {},
   "outputs": [],
   "source": [
    "with open('regex_file.txt', 'rt') as fh:\n",
    "    contents = fh.read()\n",
    "    \n",
    "pattern = r'^[a-zA-Z]+[a-zA-Z0-9_.-]+[@][a-z]+[.](com|in|net)'\n",
    "mat = re.finditer(pattern, contents)\n",
    "for m in mat:\n",
    "    print(m)"
   ]
  },
  {
   "cell_type": "code",
   "execution_count": null,
   "id": "71c8effe",
   "metadata": {},
   "outputs": [],
   "source": []
  }
 ],
 "metadata": {
  "kernelspec": {
   "display_name": "Python 3 (ipykernel)",
   "language": "python",
   "name": "python3"
  },
  "language_info": {
   "codemirror_mode": {
    "name": "ipython",
    "version": 3
   },
   "file_extension": ".py",
   "mimetype": "text/x-python",
   "name": "python",
   "nbconvert_exporter": "python",
   "pygments_lexer": "ipython3",
   "version": "3.11.4"
  }
 },
 "nbformat": 4,
 "nbformat_minor": 5
}
